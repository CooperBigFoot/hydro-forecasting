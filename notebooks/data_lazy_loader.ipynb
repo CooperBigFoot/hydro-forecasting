{
 "cells": [
  {
   "cell_type": "code",
   "execution_count": 1,
   "id": "91ed7918",
   "metadata": {},
   "outputs": [
    {
     "name": "stdout",
     "output_type": "stream",
     "text": [
      "Added /Users/cooper/Desktop/hydro-forecasting/src to Python path\n"
     ]
    }
   ],
   "source": [
    "import sys\n",
    "from pathlib import Path\n",
    "\n",
    "# Add src directory to Python path\n",
    "project_root = Path.cwd().parent  \n",
    "src_path = project_root / \"src\"\n",
    "if str(src_path) not in sys.path:\n",
    "    sys.path.insert(0, str(src_path))\n",
    "    print(f\"Added {src_path} to Python path\")\n"
   ]
  },
  {
   "cell_type": "code",
   "execution_count": 2,
   "id": "b229203d",
   "metadata": {},
   "outputs": [],
   "source": [
    "from hydro_forecasting.data.caravanify import Caravanify, CaravanifyConfig\n",
    "from hydro_forecasting.data.caravanify_parquet import CaravanifyParquet, CaravanifyParquetConfig\n",
    "from hydro_forecasting.data.preprocessing import check_data_quality\n",
    "\n",
    "import time\n",
    "import pandas as pd\n",
    "import numpy as np\n",
    "from tqdm import tqdm\n"
   ]
  },
  {
   "cell_type": "markdown",
   "id": "9a21f29d",
   "metadata": {},
   "source": [
    "---"
   ]
  },
  {
   "cell_type": "code",
   "execution_count": 3,
   "id": "95b953c9",
   "metadata": {},
   "outputs": [],
   "source": [
    "config = CaravanifyConfig(\n",
    "    attributes_dir=\"/Users/cooper/Desktop/CAMELS-CH/data/CARAVANIFY/USA/post_processed/attributes\",\n",
    "    timeseries_dir=\"/Users/cooper/Desktop/CAMELS-CH/data/CARAVANIFY/USA/post_processed/timeseries/csv\",\n",
    "    gauge_id_prefix=\"USA\",\n",
    "    use_hydroatlas_attributes=True,\n",
    "    use_caravan_attributes=True,\n",
    "    use_other_attributes=True,\n",
    ")\n",
    "\n",
    "caravan = Caravanify(config)\n",
    "\n",
    "ids_for_training = caravan.get_all_gauge_ids()"
   ]
  },
  {
   "cell_type": "code",
   "execution_count": 4,
   "id": "39862531",
   "metadata": {},
   "outputs": [],
   "source": [
    "config_parquet = CaravanifyParquetConfig(\n",
    "    attributes_dir=\"/Users/cooper/Desktop/CaravanifyParquet/USA/post_processed/attributes\",\n",
    "    timeseries_dir=\"/Users/cooper/Desktop/CaravanifyParquet/USA/post_processed/timeseries/csv\",\n",
    "    gauge_id_prefix=\"USA\",\n",
    "    use_hydroatlas_attributes=True,\n",
    "    use_caravan_attributes=True,\n",
    "    use_other_attributes=True,\n",
    ")\n",
    "\n",
    "caravan_parquet = CaravanifyParquet(config_parquet)"
   ]
  },
  {
   "cell_type": "code",
   "execution_count": 5,
   "id": "7799cb0e",
   "metadata": {},
   "outputs": [],
   "source": [
    "def create_basin_index(gauge_ids: list[str], caravan_instance, input_length=10, output_length=5):\n",
    "    # Load and prepare data\n",
    "    start_time = time.time()\n",
    "    caravan_instance.load_stations(gauge_ids)\n",
    "    ts_data = caravan_instance.get_time_series()\n",
    "    print(f\"Loading data: {time.time() - start_time:.2f}s\")\n",
    "    \n",
    "    # Apply quality checks\n",
    "    quality_start = time.time()\n",
    "    quality_check_result = check_data_quality(\n",
    "        df=ts_data,\n",
    "        required_columns=[\"date\", \"streamflow\", \"total_precipitation_sum\"],\n",
    "        max_missing_pct=5,\n",
    "        max_gap_length=30,\n",
    "        min_train_years=5,\n",
    "        max_imputation_gap_size=5,\n",
    "        group_identifier=\"gauge_id\",\n",
    "        train_prop=0.7,\n",
    "        val_prop=0.15,\n",
    "        test_prop=0.15,\n",
    "    )\n",
    "    valid_data, quality_report = quality_check_result.unwrap()\n",
    "    print(f\"Quality check: {time.time() - quality_start:.2f}s\")\n",
    "    \n",
    "    # Create index entries - optimized approach\n",
    "    index_start = time.time()\n",
    "    all_index_entries = []\n",
    "    total_seq_length = input_length + output_length\n",
    "    cols_to_check = [\"streamflow\", \"total_precipitation_sum\"]\n",
    "    \n",
    "    # Group once by gauge_id - huge performance improvement\n",
    "    basin_groups = valid_data.groupby(\"gauge_id\")\n",
    "\n",
    "    for gauge_id, basin_data in tqdm(basin_groups, desc=\"Processing basins\"):\n",
    "        if len(basin_data) < total_seq_length:\n",
    "            continue\n",
    "\n",
    "        # Extract needed data as arrays\n",
    "        basin_values = basin_data[cols_to_check].to_numpy()\n",
    "        dates = basin_data[\"date\"].to_numpy()\n",
    "\n",
    "        # Combined valid mask: 1 if all cols not NaN, 0 otherwise\n",
    "        combined_valid = (~np.isnan(basin_values).any(axis=1)).astype(int)\n",
    "\n",
    "        # Convolve to find valid input sequences\n",
    "        input_conv = np.convolve(combined_valid, np.ones(input_length, dtype=int), mode=\"valid\")\n",
    "        input_valid = input_conv == input_length\n",
    "\n",
    "        # Convolve for output sequences, shifted by input_length\n",
    "        output_conv = np.convolve(combined_valid, np.ones(output_length, dtype=int), mode=\"valid\")\n",
    "        output_valid = output_conv == output_length\n",
    "        output_valid_shifted = np.pad(output_valid, (input_length, 0), constant_values=False)[:len(input_valid)]\n",
    "\n",
    "        # Find valid sequence starts\n",
    "        valid_mask = input_valid & output_valid_shifted\n",
    "        valid_positions = np.where(valid_mask)[0]\n",
    "\n",
    "        # Create index entries\n",
    "        entries = [{\n",
    "            \"file_path\": f\"path/to/timeseries/{gauge_id}.csv\",\n",
    "            \"static_file_path\": \"path/to/static_attributes.csv\",\n",
    "            \"gauge_id\": gauge_id,\n",
    "            \"start_idx\": idx,\n",
    "            \"end_idx\": idx + total_seq_length,\n",
    "            \"input_end_date\": dates[idx + input_length - 1],\n",
    "            \"valid_sequence\": True,\n",
    "        } for idx in valid_positions if idx + total_seq_length <= len(basin_data)]\n",
    "\n",
    "        all_index_entries.extend(entries)\n",
    "    \n",
    "    print(f\"Index creation: {time.time() - index_start:.2f}s\")\n",
    "    print(f\"Total time: {time.time() - start_time:.2f}s\")\n",
    "    print(f\"Created {len(all_index_entries)} valid sequences\")\n",
    "\n",
    "    return all_index_entries\n"
   ]
  },
  {
   "cell_type": "code",
   "execution_count": 6,
   "id": "cf36b2c8",
   "metadata": {},
   "outputs": [],
   "source": [
    "# index_entries = create_basin_index(ids_for_training, caravan)"
   ]
  },
  {
   "cell_type": "code",
   "execution_count": null,
   "id": "5185bb53",
   "metadata": {},
   "outputs": [
    {
     "name": "stdout",
     "output_type": "stream",
     "text": [
      "Loading data: 5.34s\n"
     ]
    }
   ],
   "source": [
    "index_entries = create_basin_index(ids_for_training, caravan_parquet)"
   ]
  },
  {
   "cell_type": "code",
   "execution_count": null,
   "id": "c2faeb83",
   "metadata": {},
   "outputs": [],
   "source": []
  }
 ],
 "metadata": {
  "kernelspec": {
   "display_name": ".venv",
   "language": "python",
   "name": "python3"
  },
  "language_info": {
   "codemirror_mode": {
    "name": "ipython",
    "version": 3
   },
   "file_extension": ".py",
   "mimetype": "text/x-python",
   "name": "python",
   "nbconvert_exporter": "python",
   "pygments_lexer": "ipython3",
   "version": "3.12.8"
  }
 },
 "nbformat": 4,
 "nbformat_minor": 5
}
