{
 "cells": [
  {
   "cell_type": "code",
   "execution_count": 1,
   "id": "9308b178",
   "metadata": {},
   "outputs": [
    {
     "name": "stdout",
     "output_type": "stream",
     "text": [
      "Added /Users/cooper/Desktop/hydro-forecasting/src to Python path\n"
     ]
    }
   ],
   "source": [
    "import sys\n",
    "from pathlib import Path\n",
    "\n",
    "# Add src directory to Python path\n",
    "project_root = Path.cwd().parent  \n",
    "src_path = project_root / \"src\"\n",
    "if str(src_path) not in sys.path:\n",
    "    sys.path.insert(0, str(src_path))\n",
    "    print(f\"Added {src_path} to Python path\")\n"
   ]
  },
  {
   "cell_type": "code",
   "execution_count": 2,
   "id": "2caabe24",
   "metadata": {},
   "outputs": [],
   "source": [
    "from hydro_forecasting.preprocessing.grouped import GroupedPipeline\n",
    "from sklearn.pipeline import Pipeline\n",
    "from hydro_forecasting.preprocessing.standard_scale import StandardScaleTransformer\n",
    "from hydro_forecasting.data.caravanify_parquet import (\n",
    "    CaravanifyParquet,\n",
    "    CaravanifyParquetConfig,\n",
    ")\n",
    "from hydro_forecasting.data.preprocessing import run_hydro_processor\n",
    "\n",
    "from returns.result import Failure, Success, Result\n"
   ]
  },
  {
   "cell_type": "markdown",
   "id": "a545d504",
   "metadata": {},
   "source": [
    "---"
   ]
  },
  {
   "cell_type": "code",
   "execution_count": 3,
   "id": "a0bd441f",
   "metadata": {},
   "outputs": [],
   "source": [
    "config_ca = CaravanifyParquetConfig(\n",
    "    attributes_dir=\"/Users/cooper/Desktop/CaravanifyParquet/CA/post_processed/attributes\",\n",
    "    timeseries_dir=\"/Users/cooper/Desktop/CaravanifyParquet/CA/post_processed/timeseries/csv\",\n",
    "    shapefile_dir=\"/Users/cooper/Desktop/CAMELS-CH/data/CARAVANIFY/CA/post_processed/shapefiles\",\n",
    "    gauge_id_prefix=\"CA\",\n",
    "    use_hydroatlas_attributes=True,\n",
    "    use_caravan_attributes=True,\n",
    "    use_other_attributes=True,\n",
    ")\n",
    "\n",
    "caravan_ca = CaravanifyParquet(config_ca)\n",
    "basin_ids = caravan_ca.get_all_gauge_ids()[:10]\n",
    "\n"
   ]
  },
  {
   "cell_type": "code",
   "execution_count": 4,
   "id": "8755a7a9",
   "metadata": {},
   "outputs": [],
   "source": [
    "forcing_features = [\n",
    "    \"snow_depth_water_equivalent_mean\",\n",
    "    \"surface_net_solar_radiation_mean\",\n",
    "    \"surface_net_thermal_radiation_mean\",\n",
    "    \"potential_evaporation_sum_ERA5_LAND\",\n",
    "    \"potential_evaporation_sum_FAO_PENMAN_MONTEITH\",\n",
    "    \"temperature_2m_mean\",\n",
    "    \"temperature_2m_min\",\n",
    "    \"temperature_2m_max\",\n",
    "    \"total_precipitation_sum\",\n",
    "]\n",
    "\n",
    "static_features = [\n",
    "    # \"gauge_id\",\n",
    "    \"p_mean\",\n",
    "    \"area\",\n",
    "    \"ele_mt_sav\",\n",
    "    \"high_prec_dur\",\n",
    "    \"frac_snow\",\n",
    "    \"high_prec_freq\",\n",
    "    \"slp_dg_sav\",\n",
    "    \"cly_pc_sav\",\n",
    "    \"aridity_ERA5_LAND\",\n",
    "    \"aridity_FAO_PM\",\n",
    "]\n",
    "\n",
    "target = [\"streamflow\"]"
   ]
  },
  {
   "cell_type": "code",
   "execution_count": 5,
   "id": "9b02753c",
   "metadata": {},
   "outputs": [],
   "source": [
    "feature_pipeline = GroupedPipeline(\n",
    "    Pipeline([(\"scaler\", StandardScaleTransformer())]),\n",
    "    columns=forcing_features,\n",
    "    group_identifier=\"gauge_id\",\n",
    ")\n",
    "\n",
    "target_pipeline = GroupedPipeline(\n",
    "    Pipeline([(\"scaler\", StandardScaleTransformer())]),\n",
    "    columns=[\"streamflow\"],\n",
    "    group_identifier=\"gauge_id\",\n",
    ")\n",
    "\n",
    "static_pipeline = Pipeline([(\"scaler\", StandardScaleTransformer())])\n",
    "\n",
    "preprocessing_config = {\n",
    "    \"features\": {\"pipeline\": feature_pipeline},\n",
    "    \"target\": {\"pipeline\": target_pipeline},\n",
    "    \"static_features\": {\"pipeline\": static_pipeline, \"columns\": static_features},\n",
    "}"
   ]
  },
  {
   "cell_type": "code",
   "execution_count": 6,
   "id": "34197fe1",
   "metadata": {},
   "outputs": [
    {
     "name": "stdout",
     "output_type": "stream",
     "text": [
      "SUCCESS: Config saved to /Users/cooper/Desktop/hydro-forecasting/tests/testing_run_hydro_processor/000001/config.json\n",
      "SUCCESS: Static features saved to /Users/cooper/Desktop/hydro-forecasting/tests/testing_run_hydro_processor/000001/processed_static_features.parquet\n",
      "SUCCESS: Static features pipeline saved to /Users/cooper/Desktop/hydro-forecasting/tests/testing_run_hydro_processor/000001/fitted_static_pipeline.joblib\n",
      "INFO: Processed 10 basins, 9 passed quality checks\n",
      "SUCCESS: Preprocessing completed successfully. Output at /Users/cooper/Desktop/hydro-forecasting/tests/testing_run_hydro_processor/000001\n",
      "Successfully ran hydro processor\n"
     ]
    }
   ],
   "source": [
    "region_time_series_base_dirs = {\n",
    "    \"CA\": \"/Users/cooper/Desktop/CaravanifyParquet/CA/post_processed/timeseries/csv/CA\",\n",
    "    \"USA\": \"/Users/cooper/Desktop/CaravanifyParquet/USA/post_processed/timeseries/csv/USA\",\n",
    "}\n",
    "\n",
    "region_static_attributes_base_dirs = {\n",
    "    \"CA\": \"/Users/cooper/Desktop/CaravanifyParquet/CA/post_processed/attributes/CA\",\n",
    "    \"USA\": \"/Users/cooper/Desktop/CaravanifyParquet/USA/post_processed/attributes/USA\",\n",
    "}\n",
    "\n",
    "datamodule_config = {\"test\": \"test\"}\n",
    "\n",
    "# def run_hydro_processor(\n",
    "#     region_time_series_base_dirs: dict[str, Path],\n",
    "#     region_static_attributes_base_dirs: dict[str, Path],\n",
    "#     path_to_preprocessing_output_directory: Union[str, Path],\n",
    "#     required_columns: list[str],\n",
    "#     run_uuid: str,\n",
    "#     datamodule_config: dict[str, Any],\n",
    "#     preprocessing_config: dict[str, dict[str, GroupedPipeline | Pipeline]],\n",
    "#     min_train_years: float = 5.0,\n",
    "#     max_imputation_gap_size: int = 5,\n",
    "#     group_identifier: str = \"gauge_id\",\n",
    "#     train_prop: float = 0.25,\n",
    "#     val_prop: float = 0.25,\n",
    "#     test_prop: float = 0.25,\n",
    "#     list_of_gauge_ids_to_process: Optional[list[str]] = None,\n",
    "#     basin_batch_size: int = 50,\n",
    "# ) -> Result[ProcessingOutput, str]:\n",
    "\n",
    "\n",
    "run_results = run_hydro_processor(\n",
    "    region_time_series_base_dirs=region_time_series_base_dirs,\n",
    "    region_static_attributes_base_dirs=region_static_attributes_base_dirs,\n",
    "    path_to_preprocessing_output_directory=Path(\n",
    "        \"/Users/cooper/Desktop/hydro-forecasting/tests/testing_run_hydro_processor\"\n",
    "    ),\n",
    "    required_columns=forcing_features + target,\n",
    "    run_uuid=\"000001\",\n",
    "    datamodule_config=datamodule_config,\n",
    "    preprocessing_config=preprocessing_config,\n",
    "    min_train_years=5.0,\n",
    "    max_imputation_gap_size=5,\n",
    "    group_identifier=\"gauge_id\",\n",
    "    train_prop=0.5,\n",
    "    val_prop=0.25,\n",
    "    test_prop=0.25,\n",
    "    list_of_gauge_ids_to_process=basin_ids,\n",
    "    basin_batch_size=50,\n",
    ")\n",
    "\n",
    "if isinstance(run_results, Failure):\n",
    "    print(\"Failed to run hydro processor\")\n",
    "    print(run_results.failure())\n",
    "elif isinstance(run_results, Success):\n",
    "    print(\"Successfully ran hydro processor\")\n",
    "    processing_output = run_results.unwrap()"
   ]
  },
  {
   "cell_type": "code",
   "execution_count": 7,
   "id": "b89cd3eb",
   "metadata": {},
   "outputs": [
    {
     "name": "stdout",
     "output_type": "stream",
     "text": [
      "ProcessingOutput(run_output_dir=PosixPath('/Users/cooper/Desktop/hydro-forecasting/tests/testing_run_hydro_processor/000001'), processed_timeseries_dir=PosixPath('/Users/cooper/Desktop/hydro-forecasting/tests/testing_run_hydro_processor/000001/processed_time_series'), processed_static_attributes_path=PosixPath('/Users/cooper/Desktop/hydro-forecasting/tests/testing_run_hydro_processor/000001/processed_static_features.parquet'), fitted_time_series_pipelines_path=PosixPath('/Users/cooper/Desktop/hydro-forecasting/tests/testing_run_hydro_processor/000001/fitted_time_series_pipelines.joblib'), fitted_static_pipeline_path=PosixPath('/Users/cooper/Desktop/hydro-forecasting/tests/testing_run_hydro_processor/000001/fitted_static_pipeline.joblib'), quality_reports_dir=PosixPath('/Users/cooper/Desktop/hydro-forecasting/tests/testing_run_hydro_processor/000001/quality_reports'), summary_quality_report_path=PosixPath('/Users/cooper/Desktop/hydro-forecasting/tests/testing_run_hydro_processor/000001/quality_summary.json'), config_path=PosixPath('/Users/cooper/Desktop/hydro-forecasting/tests/testing_run_hydro_processor/000001/config.json'), success_marker_path=PosixPath('/Users/cooper/Desktop/hydro-forecasting/tests/testing_run_hydro_processor/000001/_SUCCESS'), summary_quality_report=SummaryQualityReport(original_basins=10, passed_basins=9, failed_basins=1, excluded_basins={'CA_15030': 'Insufficient training data (1.77 years available).                          Minimum required training years: 5.0'}))\n"
     ]
    }
   ],
   "source": [
    "print(processing_output)"
   ]
  },
  {
   "cell_type": "code",
   "execution_count": null,
   "id": "97d19939",
   "metadata": {},
   "outputs": [],
   "source": []
  }
 ],
 "metadata": {
  "kernelspec": {
   "display_name": ".venv",
   "language": "python",
   "name": "python3"
  },
  "language_info": {
   "codemirror_mode": {
    "name": "ipython",
    "version": 3
   },
   "file_extension": ".py",
   "mimetype": "text/x-python",
   "name": "python",
   "nbconvert_exporter": "python",
   "pygments_lexer": "ipython3",
   "version": "3.12.8"
  }
 },
 "nbformat": 4,
 "nbformat_minor": 5
}
