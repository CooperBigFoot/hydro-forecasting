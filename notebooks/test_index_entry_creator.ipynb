{
 "cells": [
  {
   "cell_type": "code",
   "execution_count": 1,
   "id": "81055518",
   "metadata": {},
   "outputs": [
    {
     "name": "stdout",
     "output_type": "stream",
     "text": [
      "Added /Users/cooper/Desktop/hydro-forecasting/src to Python path\n"
     ]
    }
   ],
   "source": [
    "import sys\n",
    "from pathlib import Path\n",
    "\n",
    "# Add src directory to Python path\n",
    "project_root = Path.cwd().parent  \n",
    "src_path = project_root / \"src\"\n",
    "if str(src_path) not in sys.path:\n",
    "    sys.path.insert(0, str(src_path))\n",
    "    print(f\"Added {src_path} to Python path\")\n"
   ]
  },
  {
   "cell_type": "code",
   "execution_count": 2,
   "id": "2e200815",
   "metadata": {},
   "outputs": [],
   "source": [
    "import polars as pl"
   ]
  },
  {
   "cell_type": "markdown",
   "id": "9443595c",
   "metadata": {},
   "source": [
    "---"
   ]
  },
  {
   "cell_type": "code",
   "execution_count": 3,
   "id": "86f4847b",
   "metadata": {},
   "outputs": [
    {
     "data": {
      "text/html": [
       "<div><style>\n",
       ".dataframe > thead > tr,\n",
       ".dataframe > tbody > tr {\n",
       "  text-align: right;\n",
       "  white-space: pre-wrap;\n",
       "}\n",
       "</style>\n",
       "<small>shape: (3_175, 11)</small><table border=\"1\" class=\"dataframe\"><thead><tr><th>date</th><th>snow_depth_water_equivalent_mean</th><th>surface_net_solar_radiation_mean</th><th>surface_net_thermal_radiation_mean</th><th>potential_evaporation_sum_ERA5_LAND</th><th>potential_evaporation_sum_FAO_PENMAN_MONTEITH</th><th>temperature_2m_mean</th><th>temperature_2m_min</th><th>temperature_2m_max</th><th>total_precipitation_sum</th><th>streamflow</th></tr><tr><td>datetime[ns]</td><td>f32</td><td>f32</td><td>f32</td><td>f32</td><td>f32</td><td>f32</td><td>f32</td><td>f32</td><td>f32</td><td>f32</td></tr></thead><tbody><tr><td>2006-01-26 00:00:00</td><td>0.105601</td><td>-0.844563</td><td>-0.344775</td><td>-0.279859</td><td>-0.760783</td><td>-1.044429</td><td>-0.974075</td><td>-1.217039</td><td>-0.491804</td><td>1.284559</td></tr><tr><td>2006-01-27 00:00:00</td><td>0.093413</td><td>-0.684464</td><td>-0.720113</td><td>-0.213466</td><td>-0.715711</td><td>-1.103484</td><td>-1.077213</td><td>-1.09882</td><td>-0.499845</td><td>0.91973</td></tr><tr><td>2006-01-28 00:00:00</td><td>0.077709</td><td>-0.683697</td><td>-0.29569</td><td>-0.192656</td><td>-0.657761</td><td>-0.370151</td><td>-0.490453</td><td>-0.399862</td><td>-0.499845</td><td>0.614186</td></tr><tr><td>2006-01-29 00:00:00</td><td>0.062942</td><td>-0.723051</td><td>0.185938</td><td>-0.173829</td><td>-0.638445</td><td>-0.729766</td><td>-0.616125</td><td>-0.808882</td><td>-0.32616</td><td>0.445452</td></tr><tr><td>2006-01-30 00:00:00</td><td>0.135838</td><td>-1.128346</td><td>1.651491</td><td>-0.749561</td><td>-0.760783</td><td>-0.963339</td><td>-0.754798</td><td>-1.175619</td><td>0.035684</td><td>0.272159</td></tr><tr><td>&hellip;</td><td>&hellip;</td><td>&hellip;</td><td>&hellip;</td><td>&hellip;</td><td>&hellip;</td><td>&hellip;</td><td>&hellip;</td><td>&hellip;</td><td>&hellip;</td><td>&hellip;</td></tr><tr><td>2014-10-01 00:00:00</td><td>-0.575073</td><td>-0.773266</td><td>1.385765</td><td>-0.383907</td><td>-0.348696</td><td>0.549159</td><td>0.776673</td><td>0.370717</td><td>-0.485371</td><td>-0.763043</td></tr><tr><td>2014-10-02 00:00:00</td><td>-0.575073</td><td>0.521071</td><td>-0.953731</td><td>0.379112</td><td>0.17929</td><td>0.477765</td><td>0.514928</td><td>0.523452</td><td>-0.498236</td><td>-0.763043</td></tr><tr><td>2014-10-03 00:00:00</td><td>-0.575073</td><td>0.344234</td><td>-0.481329</td><td>0.054086</td><td>0.089146</td><td>0.498919</td><td>0.446458</td><td>0.57609</td><td>-0.498236</td><td>-0.763043</td></tr><tr><td>2014-10-04 00:00:00</td><td>-0.575073</td><td>-1.279118</td><td>1.846726</td><td>-1.022068</td><td>-0.773661</td><td>0.63113</td><td>0.827809</td><td>0.431121</td><td>0.087146</td><td>-0.763043</td></tr><tr><td>2014-10-05 00:00:00</td><td>-0.575073</td><td>-1.145723</td><td>0.968723</td><td>-0.866491</td><td>-0.953949</td><td>0.680489</td><td>0.638867</td><td>0.48721</td><td>1.307766</td><td>-0.763043</td></tr></tbody></table></div>"
      ],
      "text/plain": [
       "shape: (3_175, 11)\n",
       "┌───────────┬───────────┬───────────┬───────────┬───┬───────────┬───────────┬───────────┬──────────┐\n",
       "│ date      ┆ snow_dept ┆ surface_n ┆ surface_n ┆ … ┆ temperatu ┆ temperatu ┆ total_pre ┆ streamfl │\n",
       "│ ---       ┆ h_water_e ┆ et_solar_ ┆ et_therma ┆   ┆ re_2m_min ┆ re_2m_max ┆ cipitatio ┆ ow       │\n",
       "│ datetime[ ┆ quivalent ┆ radiation ┆ l_radiati ┆   ┆ ---       ┆ ---       ┆ n_sum     ┆ ---      │\n",
       "│ ns]       ┆ _me…      ┆ _me…      ┆ on_…      ┆   ┆ f32       ┆ f32       ┆ ---       ┆ f32      │\n",
       "│           ┆ ---       ┆ ---       ┆ ---       ┆   ┆           ┆           ┆ f32       ┆          │\n",
       "│           ┆ f32       ┆ f32       ┆ f32       ┆   ┆           ┆           ┆           ┆          │\n",
       "╞═══════════╪═══════════╪═══════════╪═══════════╪═══╪═══════════╪═══════════╪═══════════╪══════════╡\n",
       "│ 2006-01-2 ┆ 0.105601  ┆ -0.844563 ┆ -0.344775 ┆ … ┆ -0.974075 ┆ -1.217039 ┆ -0.491804 ┆ 1.284559 │\n",
       "│ 6         ┆           ┆           ┆           ┆   ┆           ┆           ┆           ┆          │\n",
       "│ 00:00:00  ┆           ┆           ┆           ┆   ┆           ┆           ┆           ┆          │\n",
       "│ 2006-01-2 ┆ 0.093413  ┆ -0.684464 ┆ -0.720113 ┆ … ┆ -1.077213 ┆ -1.09882  ┆ -0.499845 ┆ 0.91973  │\n",
       "│ 7         ┆           ┆           ┆           ┆   ┆           ┆           ┆           ┆          │\n",
       "│ 00:00:00  ┆           ┆           ┆           ┆   ┆           ┆           ┆           ┆          │\n",
       "│ 2006-01-2 ┆ 0.077709  ┆ -0.683697 ┆ -0.29569  ┆ … ┆ -0.490453 ┆ -0.399862 ┆ -0.499845 ┆ 0.614186 │\n",
       "│ 8         ┆           ┆           ┆           ┆   ┆           ┆           ┆           ┆          │\n",
       "│ 00:00:00  ┆           ┆           ┆           ┆   ┆           ┆           ┆           ┆          │\n",
       "│ 2006-01-2 ┆ 0.062942  ┆ -0.723051 ┆ 0.185938  ┆ … ┆ -0.616125 ┆ -0.808882 ┆ -0.32616  ┆ 0.445452 │\n",
       "│ 9         ┆           ┆           ┆           ┆   ┆           ┆           ┆           ┆          │\n",
       "│ 00:00:00  ┆           ┆           ┆           ┆   ┆           ┆           ┆           ┆          │\n",
       "│ 2006-01-3 ┆ 0.135838  ┆ -1.128346 ┆ 1.651491  ┆ … ┆ -0.754798 ┆ -1.175619 ┆ 0.035684  ┆ 0.272159 │\n",
       "│ 0         ┆           ┆           ┆           ┆   ┆           ┆           ┆           ┆          │\n",
       "│ 00:00:00  ┆           ┆           ┆           ┆   ┆           ┆           ┆           ┆          │\n",
       "│ …         ┆ …         ┆ …         ┆ …         ┆ … ┆ …         ┆ …         ┆ …         ┆ …        │\n",
       "│ 2014-10-0 ┆ -0.575073 ┆ -0.773266 ┆ 1.385765  ┆ … ┆ 0.776673  ┆ 0.370717  ┆ -0.485371 ┆ -0.76304 │\n",
       "│ 1         ┆           ┆           ┆           ┆   ┆           ┆           ┆           ┆ 3        │\n",
       "│ 00:00:00  ┆           ┆           ┆           ┆   ┆           ┆           ┆           ┆          │\n",
       "│ 2014-10-0 ┆ -0.575073 ┆ 0.521071  ┆ -0.953731 ┆ … ┆ 0.514928  ┆ 0.523452  ┆ -0.498236 ┆ -0.76304 │\n",
       "│ 2         ┆           ┆           ┆           ┆   ┆           ┆           ┆           ┆ 3        │\n",
       "│ 00:00:00  ┆           ┆           ┆           ┆   ┆           ┆           ┆           ┆          │\n",
       "│ 2014-10-0 ┆ -0.575073 ┆ 0.344234  ┆ -0.481329 ┆ … ┆ 0.446458  ┆ 0.57609   ┆ -0.498236 ┆ -0.76304 │\n",
       "│ 3         ┆           ┆           ┆           ┆   ┆           ┆           ┆           ┆ 3        │\n",
       "│ 00:00:00  ┆           ┆           ┆           ┆   ┆           ┆           ┆           ┆          │\n",
       "│ 2014-10-0 ┆ -0.575073 ┆ -1.279118 ┆ 1.846726  ┆ … ┆ 0.827809  ┆ 0.431121  ┆ 0.087146  ┆ -0.76304 │\n",
       "│ 4         ┆           ┆           ┆           ┆   ┆           ┆           ┆           ┆ 3        │\n",
       "│ 00:00:00  ┆           ┆           ┆           ┆   ┆           ┆           ┆           ┆          │\n",
       "│ 2014-10-0 ┆ -0.575073 ┆ -1.145723 ┆ 0.968723  ┆ … ┆ 0.638867  ┆ 0.48721   ┆ 1.307766  ┆ -0.76304 │\n",
       "│ 5         ┆           ┆           ┆           ┆   ┆           ┆           ┆           ┆ 3        │\n",
       "│ 00:00:00  ┆           ┆           ┆           ┆   ┆           ┆           ┆           ┆          │\n",
       "└───────────┴───────────┴───────────┴───────────┴───┴───────────┴───────────┴───────────┴──────────┘"
      ]
     },
     "execution_count": 3,
     "metadata": {},
     "output_type": "execute_result"
    }
   ],
   "source": [
    "data = pl.read_parquet(\"/Users/cooper/Desktop/hydro-forecasting/tests/yolo_6/5af0c3ea-c280-59e5-83f0-bcf41247b3ab/processed_time_series/test/USA_01030500.parquet\")\n",
    "\n",
    "# Drop gauge_id column\n",
    "data = data.drop(\"gauge_id\")\n",
    "data"
   ]
  },
  {
   "cell_type": "code",
   "execution_count": 6,
   "id": "1b6d57af",
   "metadata": {},
   "outputs": [
    {
     "data": {
      "text/html": [
       "<div><style>\n",
       ".dataframe > thead > tr,\n",
       ".dataframe > tbody > tr {\n",
       "  text-align: right;\n",
       "  white-space: pre-wrap;\n",
       "}\n",
       "</style>\n",
       "<small>shape: (90_928, 8)</small><table border=\"1\" class=\"dataframe\"><thead><tr><th>file_path</th><th>gauge_id</th><th>start_idx</th><th>end_idx</th><th>input_end_date</th><th>valid_sequence</th><th>stage</th><th>static_file_path</th></tr><tr><td>str</td><td>str</td><td>i64</td><td>i64</td><td>f64</td><td>bool</td><td>str</td><td>str</td></tr></thead><tbody><tr><td>&quot;/Users/cooper/Desktop/hydro-fo…</td><td>&quot;CA_15013&quot;</td><td>0</td><td>44</td><td>1.0128e18</td><td>true</td><td>&quot;train&quot;</td><td>&quot;/Users/cooper/Desktop/hydro-fo…</td></tr><tr><td>&quot;/Users/cooper/Desktop/hydro-fo…</td><td>&quot;CA_15013&quot;</td><td>1</td><td>45</td><td>1.0129e18</td><td>true</td><td>&quot;train&quot;</td><td>&quot;/Users/cooper/Desktop/hydro-fo…</td></tr><tr><td>&quot;/Users/cooper/Desktop/hydro-fo…</td><td>&quot;CA_15013&quot;</td><td>2</td><td>46</td><td>1.0130e18</td><td>true</td><td>&quot;train&quot;</td><td>&quot;/Users/cooper/Desktop/hydro-fo…</td></tr><tr><td>&quot;/Users/cooper/Desktop/hydro-fo…</td><td>&quot;CA_15013&quot;</td><td>3</td><td>47</td><td>1.0130e18</td><td>true</td><td>&quot;train&quot;</td><td>&quot;/Users/cooper/Desktop/hydro-fo…</td></tr><tr><td>&quot;/Users/cooper/Desktop/hydro-fo…</td><td>&quot;CA_15013&quot;</td><td>4</td><td>48</td><td>1.0131e18</td><td>true</td><td>&quot;train&quot;</td><td>&quot;/Users/cooper/Desktop/hydro-fo…</td></tr><tr><td>&hellip;</td><td>&hellip;</td><td>&hellip;</td><td>&hellip;</td><td>&hellip;</td><td>&hellip;</td><td>&hellip;</td><td>&hellip;</td></tr><tr><td>&quot;/Users/cooper/Desktop/hydro-fo…</td><td>&quot;USA_01073000&quot;</td><td>6305</td><td>6349</td><td>8.6314e17</td><td>true</td><td>&quot;train&quot;</td><td>&quot;/Users/cooper/Desktop/hydro-fo…</td></tr><tr><td>&quot;/Users/cooper/Desktop/hydro-fo…</td><td>&quot;USA_01073000&quot;</td><td>6306</td><td>6350</td><td>8.6322e17</td><td>true</td><td>&quot;train&quot;</td><td>&quot;/Users/cooper/Desktop/hydro-fo…</td></tr><tr><td>&quot;/Users/cooper/Desktop/hydro-fo…</td><td>&quot;USA_01073000&quot;</td><td>6307</td><td>6351</td><td>8.6331e17</td><td>true</td><td>&quot;train&quot;</td><td>&quot;/Users/cooper/Desktop/hydro-fo…</td></tr><tr><td>&quot;/Users/cooper/Desktop/hydro-fo…</td><td>&quot;USA_01073000&quot;</td><td>6308</td><td>6352</td><td>8.6340e17</td><td>true</td><td>&quot;train&quot;</td><td>&quot;/Users/cooper/Desktop/hydro-fo…</td></tr><tr><td>&quot;/Users/cooper/Desktop/hydro-fo…</td><td>&quot;USA_01073000&quot;</td><td>6309</td><td>6353</td><td>8.6348e17</td><td>true</td><td>&quot;train&quot;</td><td>&quot;/Users/cooper/Desktop/hydro-fo…</td></tr></tbody></table></div>"
      ],
      "text/plain": [
       "shape: (90_928, 8)\n",
       "┌─────────────┬─────────────┬───────────┬─────────┬─────────────┬─────────────┬───────┬────────────┐\n",
       "│ file_path   ┆ gauge_id    ┆ start_idx ┆ end_idx ┆ input_end_d ┆ valid_seque ┆ stage ┆ static_fil │\n",
       "│ ---         ┆ ---         ┆ ---       ┆ ---     ┆ ate         ┆ nce         ┆ ---   ┆ e_path     │\n",
       "│ str         ┆ str         ┆ i64       ┆ i64     ┆ ---         ┆ ---         ┆ str   ┆ ---        │\n",
       "│             ┆             ┆           ┆         ┆ f64         ┆ bool        ┆       ┆ str        │\n",
       "╞═════════════╪═════════════╪═══════════╪═════════╪═════════════╪═════════════╪═══════╪════════════╡\n",
       "│ /Users/coop ┆ CA_15013    ┆ 0         ┆ 44      ┆ 1.0128e18   ┆ true        ┆ train ┆ /Users/coo │\n",
       "│ er/Desktop/ ┆             ┆           ┆         ┆             ┆             ┆       ┆ per/Deskto │\n",
       "│ hydro-fo…   ┆             ┆           ┆         ┆             ┆             ┆       ┆ p/hydro-fo │\n",
       "│             ┆             ┆           ┆         ┆             ┆             ┆       ┆ …          │\n",
       "│ /Users/coop ┆ CA_15013    ┆ 1         ┆ 45      ┆ 1.0129e18   ┆ true        ┆ train ┆ /Users/coo │\n",
       "│ er/Desktop/ ┆             ┆           ┆         ┆             ┆             ┆       ┆ per/Deskto │\n",
       "│ hydro-fo…   ┆             ┆           ┆         ┆             ┆             ┆       ┆ p/hydro-fo │\n",
       "│             ┆             ┆           ┆         ┆             ┆             ┆       ┆ …          │\n",
       "│ /Users/coop ┆ CA_15013    ┆ 2         ┆ 46      ┆ 1.0130e18   ┆ true        ┆ train ┆ /Users/coo │\n",
       "│ er/Desktop/ ┆             ┆           ┆         ┆             ┆             ┆       ┆ per/Deskto │\n",
       "│ hydro-fo…   ┆             ┆           ┆         ┆             ┆             ┆       ┆ p/hydro-fo │\n",
       "│             ┆             ┆           ┆         ┆             ┆             ┆       ┆ …          │\n",
       "│ /Users/coop ┆ CA_15013    ┆ 3         ┆ 47      ┆ 1.0130e18   ┆ true        ┆ train ┆ /Users/coo │\n",
       "│ er/Desktop/ ┆             ┆           ┆         ┆             ┆             ┆       ┆ per/Deskto │\n",
       "│ hydro-fo…   ┆             ┆           ┆         ┆             ┆             ┆       ┆ p/hydro-fo │\n",
       "│             ┆             ┆           ┆         ┆             ┆             ┆       ┆ …          │\n",
       "│ /Users/coop ┆ CA_15013    ┆ 4         ┆ 48      ┆ 1.0131e18   ┆ true        ┆ train ┆ /Users/coo │\n",
       "│ er/Desktop/ ┆             ┆           ┆         ┆             ┆             ┆       ┆ per/Deskto │\n",
       "│ hydro-fo…   ┆             ┆           ┆         ┆             ┆             ┆       ┆ p/hydro-fo │\n",
       "│             ┆             ┆           ┆         ┆             ┆             ┆       ┆ …          │\n",
       "│ …           ┆ …           ┆ …         ┆ …       ┆ …           ┆ …           ┆ …     ┆ …          │\n",
       "│ /Users/coop ┆ USA_0107300 ┆ 6305      ┆ 6349    ┆ 8.6314e17   ┆ true        ┆ train ┆ /Users/coo │\n",
       "│ er/Desktop/ ┆ 0           ┆           ┆         ┆             ┆             ┆       ┆ per/Deskto │\n",
       "│ hydro-fo…   ┆             ┆           ┆         ┆             ┆             ┆       ┆ p/hydro-fo │\n",
       "│             ┆             ┆           ┆         ┆             ┆             ┆       ┆ …          │\n",
       "│ /Users/coop ┆ USA_0107300 ┆ 6306      ┆ 6350    ┆ 8.6322e17   ┆ true        ┆ train ┆ /Users/coo │\n",
       "│ er/Desktop/ ┆ 0           ┆           ┆         ┆             ┆             ┆       ┆ per/Deskto │\n",
       "│ hydro-fo…   ┆             ┆           ┆         ┆             ┆             ┆       ┆ p/hydro-fo │\n",
       "│             ┆             ┆           ┆         ┆             ┆             ┆       ┆ …          │\n",
       "│ /Users/coop ┆ USA_0107300 ┆ 6307      ┆ 6351    ┆ 8.6331e17   ┆ true        ┆ train ┆ /Users/coo │\n",
       "│ er/Desktop/ ┆ 0           ┆           ┆         ┆             ┆             ┆       ┆ per/Deskto │\n",
       "│ hydro-fo…   ┆             ┆           ┆         ┆             ┆             ┆       ┆ p/hydro-fo │\n",
       "│             ┆             ┆           ┆         ┆             ┆             ┆       ┆ …          │\n",
       "│ /Users/coop ┆ USA_0107300 ┆ 6308      ┆ 6352    ┆ 8.6340e17   ┆ true        ┆ train ┆ /Users/coo │\n",
       "│ er/Desktop/ ┆ 0           ┆           ┆         ┆             ┆             ┆       ┆ per/Deskto │\n",
       "│ hydro-fo…   ┆             ┆           ┆         ┆             ┆             ┆       ┆ p/hydro-fo │\n",
       "│             ┆             ┆           ┆         ┆             ┆             ┆       ┆ …          │\n",
       "│ /Users/coop ┆ USA_0107300 ┆ 6309      ┆ 6353    ┆ 8.6348e17   ┆ true        ┆ train ┆ /Users/coo │\n",
       "│ er/Desktop/ ┆ 0           ┆           ┆         ┆             ┆             ┆       ┆ per/Deskto │\n",
       "│ hydro-fo…   ┆             ┆           ┆         ┆             ┆             ┆       ┆ p/hydro-fo │\n",
       "│             ┆             ┆           ┆         ┆             ┆             ┆       ┆ …          │\n",
       "└─────────────┴─────────────┴───────────┴─────────┴─────────────┴─────────────┴───────┴────────────┘"
      ]
     },
     "execution_count": 6,
     "metadata": {},
     "output_type": "execute_result"
    }
   ],
   "source": [
    "data = pl.read_parquet(\"/Users/cooper/Desktop/hydro-forecasting/tests/yolo_6/5af0c3ea-c280-59e5-83f0-bcf41247b3ab/index/train_index.parquet\")\n",
    "\n",
    "data"
   ]
  },
  {
   "cell_type": "code",
   "execution_count": 7,
   "id": "93252f42",
   "metadata": {},
   "outputs": [
    {
     "data": {
      "text/html": [
       "<div><style>\n",
       ".dataframe > thead > tr,\n",
       ".dataframe > tbody > tr {\n",
       "  text-align: right;\n",
       "  white-space: pre-wrap;\n",
       "}\n",
       "</style>\n",
       "<small>shape: (19, 3)</small><table border=\"1\" class=\"dataframe\"><thead><tr><th>file_path</th><th>count</th><th>start_row_index</th></tr><tr><td>str</td><td>u32</td><td>u32</td></tr></thead><tbody><tr><td>&quot;/Users/cooper/Desktop/hydro-fo…</td><td>3652</td><td>0</td></tr><tr><td>&quot;/Users/cooper/Desktop/hydro-fo…</td><td>817</td><td>3652</td></tr><tr><td>&quot;/Users/cooper/Desktop/hydro-fo…</td><td>3641</td><td>4469</td></tr><tr><td>&quot;/Users/cooper/Desktop/hydro-fo…</td><td>2555</td><td>8110</td></tr><tr><td>&quot;/Users/cooper/Desktop/hydro-fo…</td><td>3641</td><td>10665</td></tr><tr><td>&hellip;</td><td>&hellip;</td><td>&hellip;</td></tr><tr><td>&quot;/Users/cooper/Desktop/hydro-fo…</td><td>6168</td><td>59946</td></tr><tr><td>&quot;/Users/cooper/Desktop/hydro-fo…</td><td>6168</td><td>66114</td></tr><tr><td>&quot;/Users/cooper/Desktop/hydro-fo…</td><td>6168</td><td>72282</td></tr><tr><td>&quot;/Users/cooper/Desktop/hydro-fo…</td><td>6168</td><td>78450</td></tr><tr><td>&quot;/Users/cooper/Desktop/hydro-fo…</td><td>6310</td><td>84618</td></tr></tbody></table></div>"
      ],
      "text/plain": [
       "shape: (19, 3)\n",
       "┌─────────────────────────────────┬───────┬─────────────────┐\n",
       "│ file_path                       ┆ count ┆ start_row_index │\n",
       "│ ---                             ┆ ---   ┆ ---             │\n",
       "│ str                             ┆ u32   ┆ u32             │\n",
       "╞═════════════════════════════════╪═══════╪═════════════════╡\n",
       "│ /Users/cooper/Desktop/hydro-fo… ┆ 3652  ┆ 0               │\n",
       "│ /Users/cooper/Desktop/hydro-fo… ┆ 817   ┆ 3652            │\n",
       "│ /Users/cooper/Desktop/hydro-fo… ┆ 3641  ┆ 4469            │\n",
       "│ /Users/cooper/Desktop/hydro-fo… ┆ 2555  ┆ 8110            │\n",
       "│ /Users/cooper/Desktop/hydro-fo… ┆ 3641  ┆ 10665           │\n",
       "│ …                               ┆ …     ┆ …               │\n",
       "│ /Users/cooper/Desktop/hydro-fo… ┆ 6168  ┆ 59946           │\n",
       "│ /Users/cooper/Desktop/hydro-fo… ┆ 6168  ┆ 66114           │\n",
       "│ /Users/cooper/Desktop/hydro-fo… ┆ 6168  ┆ 72282           │\n",
       "│ /Users/cooper/Desktop/hydro-fo… ┆ 6168  ┆ 78450           │\n",
       "│ /Users/cooper/Desktop/hydro-fo… ┆ 6310  ┆ 84618           │\n",
       "└─────────────────────────────────┴───────┴─────────────────┘"
      ]
     },
     "execution_count": 7,
     "metadata": {},
     "output_type": "execute_result"
    }
   ],
   "source": [
    "metadata = pl.read_parquet(\"/Users/cooper/Desktop/hydro-forecasting/tests/yolo_6/5af0c3ea-c280-59e5-83f0-bcf41247b3ab/index/train_index_meta.parquet\")\n",
    "\n",
    "metadata"
   ]
  },
  {
   "cell_type": "code",
   "execution_count": null,
   "id": "3a2cbe14",
   "metadata": {},
   "outputs": [],
   "source": []
  }
 ],
 "metadata": {
  "kernelspec": {
   "display_name": ".venv",
   "language": "python",
   "name": "python3"
  },
  "language_info": {
   "codemirror_mode": {
    "name": "ipython",
    "version": 3
   },
   "file_extension": ".py",
   "mimetype": "text/x-python",
   "name": "python",
   "nbconvert_exporter": "python",
   "pygments_lexer": "ipython3",
   "version": "3.12.8"
  }
 },
 "nbformat": 4,
 "nbformat_minor": 5
}
