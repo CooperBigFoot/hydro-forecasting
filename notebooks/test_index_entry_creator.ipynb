{
 "cells": [
  {
   "cell_type": "code",
   "execution_count": 1,
   "id": "81055518",
   "metadata": {},
   "outputs": [
    {
     "name": "stdout",
     "output_type": "stream",
     "text": [
      "Added /Users/cooper/Desktop/hydro-forecasting/src to Python path\n"
     ]
    }
   ],
   "source": [
    "import sys\n",
    "from pathlib import Path\n",
    "\n",
    "# Add src directory to Python path\n",
    "project_root = Path.cwd().parent  \n",
    "src_path = project_root / \"src\"\n",
    "if str(src_path) not in sys.path:\n",
    "    sys.path.insert(0, str(src_path))\n",
    "    print(f\"Added {src_path} to Python path\")\n"
   ]
  },
  {
   "cell_type": "code",
   "execution_count": 2,
   "id": "2e200815",
   "metadata": {},
   "outputs": [],
   "source": [
    "import polars as pl\n",
    "from hydro_forecasting.data.index_entry_creator import find_valid_sequences"
   ]
  },
  {
   "cell_type": "markdown",
   "id": "9443595c",
   "metadata": {},
   "source": [
    "---"
   ]
  },
  {
   "cell_type": "code",
   "execution_count": 5,
   "id": "86f4847b",
   "metadata": {},
   "outputs": [
    {
     "data": {
      "text/html": [
       "<div><style>\n",
       ".dataframe > thead > tr,\n",
       ".dataframe > tbody > tr {\n",
       "  text-align: right;\n",
       "  white-space: pre-wrap;\n",
       "}\n",
       "</style>\n",
       "<small>shape: (3_175, 11)</small><table border=\"1\" class=\"dataframe\"><thead><tr><th>date</th><th>snow_depth_water_equivalent_mean</th><th>surface_net_solar_radiation_mean</th><th>surface_net_thermal_radiation_mean</th><th>potential_evaporation_sum_ERA5_LAND</th><th>potential_evaporation_sum_FAO_PENMAN_MONTEITH</th><th>temperature_2m_mean</th><th>temperature_2m_min</th><th>temperature_2m_max</th><th>total_precipitation_sum</th><th>streamflow</th></tr><tr><td>datetime[ns]</td><td>f32</td><td>f32</td><td>f32</td><td>f32</td><td>f32</td><td>f32</td><td>f32</td><td>f32</td><td>f32</td><td>f32</td></tr></thead><tbody><tr><td>2006-01-26 00:00:00</td><td>0.105601</td><td>-0.844563</td><td>-0.344775</td><td>-0.279859</td><td>-0.760783</td><td>-1.044429</td><td>-0.974075</td><td>-1.217039</td><td>-0.491804</td><td>1.284559</td></tr><tr><td>2006-01-27 00:00:00</td><td>0.093413</td><td>-0.684464</td><td>-0.720113</td><td>-0.213466</td><td>-0.715711</td><td>-1.103484</td><td>-1.077213</td><td>-1.09882</td><td>-0.499845</td><td>0.91973</td></tr><tr><td>2006-01-28 00:00:00</td><td>0.077709</td><td>-0.683697</td><td>-0.29569</td><td>-0.192656</td><td>-0.657761</td><td>-0.370151</td><td>-0.490453</td><td>-0.399862</td><td>-0.499845</td><td>0.614186</td></tr><tr><td>2006-01-29 00:00:00</td><td>0.062942</td><td>-0.723051</td><td>0.185938</td><td>-0.173829</td><td>-0.638445</td><td>-0.729766</td><td>-0.616125</td><td>-0.808882</td><td>-0.32616</td><td>0.445452</td></tr><tr><td>2006-01-30 00:00:00</td><td>0.135838</td><td>-1.128346</td><td>1.651491</td><td>-0.749561</td><td>-0.760783</td><td>-0.963339</td><td>-0.754798</td><td>-1.175619</td><td>0.035684</td><td>0.272159</td></tr><tr><td>&hellip;</td><td>&hellip;</td><td>&hellip;</td><td>&hellip;</td><td>&hellip;</td><td>&hellip;</td><td>&hellip;</td><td>&hellip;</td><td>&hellip;</td><td>&hellip;</td><td>&hellip;</td></tr><tr><td>2014-10-01 00:00:00</td><td>-0.575073</td><td>-0.773266</td><td>1.385765</td><td>-0.383907</td><td>-0.348696</td><td>0.549159</td><td>0.776673</td><td>0.370717</td><td>-0.485371</td><td>-0.763043</td></tr><tr><td>2014-10-02 00:00:00</td><td>-0.575073</td><td>0.521071</td><td>-0.953731</td><td>0.379112</td><td>0.17929</td><td>0.477765</td><td>0.514928</td><td>0.523452</td><td>-0.498236</td><td>-0.763043</td></tr><tr><td>2014-10-03 00:00:00</td><td>-0.575073</td><td>0.344234</td><td>-0.481329</td><td>0.054086</td><td>0.089146</td><td>0.498919</td><td>0.446458</td><td>0.57609</td><td>-0.498236</td><td>-0.763043</td></tr><tr><td>2014-10-04 00:00:00</td><td>-0.575073</td><td>-1.279118</td><td>1.846726</td><td>-1.022068</td><td>-0.773661</td><td>0.63113</td><td>0.827809</td><td>0.431121</td><td>0.087146</td><td>-0.763043</td></tr><tr><td>2014-10-05 00:00:00</td><td>-0.575073</td><td>-1.145723</td><td>0.968723</td><td>-0.866491</td><td>-0.953949</td><td>0.680489</td><td>0.638867</td><td>0.48721</td><td>1.307766</td><td>-0.763043</td></tr></tbody></table></div>"
      ],
      "text/plain": [
       "shape: (3_175, 11)\n",
       "┌───────────┬───────────┬───────────┬───────────┬───┬───────────┬───────────┬───────────┬──────────┐\n",
       "│ date      ┆ snow_dept ┆ surface_n ┆ surface_n ┆ … ┆ temperatu ┆ temperatu ┆ total_pre ┆ streamfl │\n",
       "│ ---       ┆ h_water_e ┆ et_solar_ ┆ et_therma ┆   ┆ re_2m_min ┆ re_2m_max ┆ cipitatio ┆ ow       │\n",
       "│ datetime[ ┆ quivalent ┆ radiation ┆ l_radiati ┆   ┆ ---       ┆ ---       ┆ n_sum     ┆ ---      │\n",
       "│ ns]       ┆ _me…      ┆ _me…      ┆ on_…      ┆   ┆ f32       ┆ f32       ┆ ---       ┆ f32      │\n",
       "│           ┆ ---       ┆ ---       ┆ ---       ┆   ┆           ┆           ┆ f32       ┆          │\n",
       "│           ┆ f32       ┆ f32       ┆ f32       ┆   ┆           ┆           ┆           ┆          │\n",
       "╞═══════════╪═══════════╪═══════════╪═══════════╪═══╪═══════════╪═══════════╪═══════════╪══════════╡\n",
       "│ 2006-01-2 ┆ 0.105601  ┆ -0.844563 ┆ -0.344775 ┆ … ┆ -0.974075 ┆ -1.217039 ┆ -0.491804 ┆ 1.284559 │\n",
       "│ 6         ┆           ┆           ┆           ┆   ┆           ┆           ┆           ┆          │\n",
       "│ 00:00:00  ┆           ┆           ┆           ┆   ┆           ┆           ┆           ┆          │\n",
       "│ 2006-01-2 ┆ 0.093413  ┆ -0.684464 ┆ -0.720113 ┆ … ┆ -1.077213 ┆ -1.09882  ┆ -0.499845 ┆ 0.91973  │\n",
       "│ 7         ┆           ┆           ┆           ┆   ┆           ┆           ┆           ┆          │\n",
       "│ 00:00:00  ┆           ┆           ┆           ┆   ┆           ┆           ┆           ┆          │\n",
       "│ 2006-01-2 ┆ 0.077709  ┆ -0.683697 ┆ -0.29569  ┆ … ┆ -0.490453 ┆ -0.399862 ┆ -0.499845 ┆ 0.614186 │\n",
       "│ 8         ┆           ┆           ┆           ┆   ┆           ┆           ┆           ┆          │\n",
       "│ 00:00:00  ┆           ┆           ┆           ┆   ┆           ┆           ┆           ┆          │\n",
       "│ 2006-01-2 ┆ 0.062942  ┆ -0.723051 ┆ 0.185938  ┆ … ┆ -0.616125 ┆ -0.808882 ┆ -0.32616  ┆ 0.445452 │\n",
       "│ 9         ┆           ┆           ┆           ┆   ┆           ┆           ┆           ┆          │\n",
       "│ 00:00:00  ┆           ┆           ┆           ┆   ┆           ┆           ┆           ┆          │\n",
       "│ 2006-01-3 ┆ 0.135838  ┆ -1.128346 ┆ 1.651491  ┆ … ┆ -0.754798 ┆ -1.175619 ┆ 0.035684  ┆ 0.272159 │\n",
       "│ 0         ┆           ┆           ┆           ┆   ┆           ┆           ┆           ┆          │\n",
       "│ 00:00:00  ┆           ┆           ┆           ┆   ┆           ┆           ┆           ┆          │\n",
       "│ …         ┆ …         ┆ …         ┆ …         ┆ … ┆ …         ┆ …         ┆ …         ┆ …        │\n",
       "│ 2014-10-0 ┆ -0.575073 ┆ -0.773266 ┆ 1.385765  ┆ … ┆ 0.776673  ┆ 0.370717  ┆ -0.485371 ┆ -0.76304 │\n",
       "│ 1         ┆           ┆           ┆           ┆   ┆           ┆           ┆           ┆ 3        │\n",
       "│ 00:00:00  ┆           ┆           ┆           ┆   ┆           ┆           ┆           ┆          │\n",
       "│ 2014-10-0 ┆ -0.575073 ┆ 0.521071  ┆ -0.953731 ┆ … ┆ 0.514928  ┆ 0.523452  ┆ -0.498236 ┆ -0.76304 │\n",
       "│ 2         ┆           ┆           ┆           ┆   ┆           ┆           ┆           ┆ 3        │\n",
       "│ 00:00:00  ┆           ┆           ┆           ┆   ┆           ┆           ┆           ┆          │\n",
       "│ 2014-10-0 ┆ -0.575073 ┆ 0.344234  ┆ -0.481329 ┆ … ┆ 0.446458  ┆ 0.57609   ┆ -0.498236 ┆ -0.76304 │\n",
       "│ 3         ┆           ┆           ┆           ┆   ┆           ┆           ┆           ┆ 3        │\n",
       "│ 00:00:00  ┆           ┆           ┆           ┆   ┆           ┆           ┆           ┆          │\n",
       "│ 2014-10-0 ┆ -0.575073 ┆ -1.279118 ┆ 1.846726  ┆ … ┆ 0.827809  ┆ 0.431121  ┆ 0.087146  ┆ -0.76304 │\n",
       "│ 4         ┆           ┆           ┆           ┆   ┆           ┆           ┆           ┆ 3        │\n",
       "│ 00:00:00  ┆           ┆           ┆           ┆   ┆           ┆           ┆           ┆          │\n",
       "│ 2014-10-0 ┆ -0.575073 ┆ -1.145723 ┆ 0.968723  ┆ … ┆ 0.638867  ┆ 0.48721   ┆ 1.307766  ┆ -0.76304 │\n",
       "│ 5         ┆           ┆           ┆           ┆   ┆           ┆           ┆           ┆ 3        │\n",
       "│ 00:00:00  ┆           ┆           ┆           ┆   ┆           ┆           ┆           ┆          │\n",
       "└───────────┴───────────┴───────────┴───────────┴───┴───────────┴───────────┴───────────┴──────────┘"
      ]
     },
     "execution_count": 5,
     "metadata": {},
     "output_type": "execute_result"
    }
   ],
   "source": [
    "data = pl.read_parquet(\"/Users/cooper/Desktop/hydro-forecasting/tests/yolo_6/5af0c3ea-c280-59e5-83f0-bcf41247b3ab/processed_time_series/test/USA_01030500.parquet\")\n",
    "\n",
    "# Drop gauge_id column\n",
    "data = data.drop(\"gauge_id\")\n",
    "data"
   ]
  },
  {
   "cell_type": "code",
   "execution_count": 6,
   "id": "d1f77a03",
   "metadata": {},
   "outputs": [],
   "source": [
    "positions, dates = find_valid_sequences(data, 10, 10)"
   ]
  },
  {
   "cell_type": "code",
   "execution_count": 9,
   "id": "ef805759",
   "metadata": {},
   "outputs": [
    {
     "data": {
      "text/plain": [
       "array([   0,    1,    2, ..., 3153, 3154, 3155], shape=(3156,))"
      ]
     },
     "execution_count": 9,
     "metadata": {},
     "output_type": "execute_result"
    }
   ],
   "source": [
    "positions"
   ]
  },
  {
   "cell_type": "code",
   "execution_count": 8,
   "id": "76b5d56b",
   "metadata": {},
   "outputs": [
    {
     "data": {
      "text/plain": [
       "array(['2006-01-26T00:00:00.000000000', '2006-01-27T00:00:00.000000000',\n",
       "       '2006-01-28T00:00:00.000000000', ...,\n",
       "       '2014-10-03T00:00:00.000000000', '2014-10-04T00:00:00.000000000',\n",
       "       '2014-10-05T00:00:00.000000000'],\n",
       "      shape=(3175,), dtype='datetime64[ns]')"
      ]
     },
     "execution_count": 8,
     "metadata": {},
     "output_type": "execute_result"
    }
   ],
   "source": [
    "dates"
   ]
  },
  {
   "cell_type": "code",
   "execution_count": null,
   "id": "1b6d57af",
   "metadata": {},
   "outputs": [],
   "source": []
  }
 ],
 "metadata": {
  "kernelspec": {
   "display_name": ".venv",
   "language": "python",
   "name": "python3"
  },
  "language_info": {
   "codemirror_mode": {
    "name": "ipython",
    "version": 3
   },
   "file_extension": ".py",
   "mimetype": "text/x-python",
   "name": "python",
   "nbconvert_exporter": "python",
   "pygments_lexer": "ipython3",
   "version": "3.12.8"
  }
 },
 "nbformat": 4,
 "nbformat_minor": 5
}
