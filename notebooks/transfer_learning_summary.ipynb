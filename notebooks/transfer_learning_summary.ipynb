{
 "cells": [
  {
   "cell_type": "code",
   "execution_count": 1,
   "metadata": {},
   "outputs": [
    {
     "name": "stdout",
     "output_type": "stream",
     "text": [
      "Added /Users/cooper/Desktop/hydro-forecasting/src to Python path\n"
     ]
    }
   ],
   "source": [
    "import sys\n",
    "from pathlib import Path\n",
    "\n",
    "# Add src directory to Python path\n",
    "project_root = Path.cwd().parent\n",
    "src_path = project_root / \"src\"\n",
    "if str(src_path) not in sys.path:\n",
    "    sys.path.insert(0, str(src_path))\n",
    "    print(f\"Added {src_path} to Python path\")"
   ]
  },
  {
   "cell_type": "code",
   "execution_count": 2,
   "metadata": {},
   "outputs": [
    {
     "name": "stderr",
     "output_type": "stream",
     "text": [
      "2025-06-23 16:05:41,140 - hydro_forecasting.experiment_utils.seed_manager - INFO - SeedManager initialized with master seed: 42\n",
      "2025-06-23 16:05:41,140 - lightning_fabric.utilities.seed - INFO - Seed set to 42\n"
     ]
    }
   ],
   "source": [
    "import logging\n",
    "import sys\n",
    "from pathlib import Path\n",
    "\n",
    "import matplotlib.pyplot as plt\n",
    "import seaborn as sns\n",
    "from sklearn.pipeline import Pipeline\n",
    "\n",
    "logging.basicConfig(\n",
    "    level=logging.INFO,\n",
    "    format=\"%(asctime)s - %(name)s - %(levelname)s - %(message)s\",\n",
    ")\n",
    "\n",
    "from hydro_forecasting.experiment_utils.seed_manager import SeedManager  # noqa: E402\n",
    "\n",
    "seed_manager = SeedManager(42)\n",
    "seed_manager.set_global_seeds()\n",
    "\n"
   ]
  },
  {
   "cell_type": "code",
   "execution_count": 3,
   "metadata": {},
   "outputs": [],
   "source": [
    "import hydro_forecasting.experiment_utils.checkpoint_manager as checkpoint_manager\n",
    "from hydro_forecasting.data.caravanify_parquet import CaravanifyParquet, CaravanifyParquetConfig\n",
    "from hydro_forecasting.data.in_memory_datamodule import HydroInMemoryDataModule\n",
    "from hydro_forecasting.model_evaluation.evaluators import TSForecastEvaluator\n",
    "from hydro_forecasting.model_evaluation.hp_from_yaml import hp_from_yaml\n",
    "from hydro_forecasting.model_evaluation.visualization import (\n",
    "    plot_basin_performance_scatter,\n",
    "    plot_horizon_performance_bars,\n",
    "    plot_horizon_performance_boxplots,\n",
    "    plot_model_cdf_grid,\n",
    ")\n",
    "from hydro_forecasting.models.dummy import LitRepeatLastValues, RepeatLastValuesConfig\n",
    "from hydro_forecasting.models.ealstm import EALSTMConfig, LitEALSTM\n",
    "from hydro_forecasting.models.tft import LitTFT, TFTConfig\n",
    "from hydro_forecasting.models.tide import LitTiDE, TiDEConfig\n",
    "from hydro_forecasting.models.tsmixer import LitTSMixer, TSMixerConfig\n",
    "from hydro_forecasting.preprocessing.grouped import GroupedPipeline\n",
    "from hydro_forecasting.preprocessing.normalize import NormalizeTransformer\n",
    "from hydro_forecasting.preprocessing.standard_scale import StandardScaleTransformer"
   ]
  },
  {
   "cell_type": "markdown",
   "metadata": {},
   "source": [
    "---"
   ]
  },
  {
   "cell_type": "code",
   "execution_count": 4,
   "metadata": {},
   "outputs": [],
   "source": [
    "forcing_features = [\n",
    "    \"snow_depth_water_equivalent_mean\",\n",
    "    \"surface_net_solar_radiation_mean\",\n",
    "    \"surface_net_thermal_radiation_mean\",\n",
    "    \"potential_evaporation_sum_ERA5_LAND\",\n",
    "    \"potential_evaporation_sum_FAO_PENMAN_MONTEITH\",\n",
    "    \"temperature_2m_mean\",\n",
    "    \"temperature_2m_min\",\n",
    "    \"temperature_2m_max\",\n",
    "    \"total_precipitation_sum\",\n",
    "]\n",
    "\n",
    "static_features = [\n",
    "    \"p_mean\",\n",
    "    \"area\",\n",
    "    \"ele_mt_sav\",\n",
    "    \"high_prec_dur\",\n",
    "    \"frac_snow\",\n",
    "    \"high_prec_freq\",\n",
    "    \"slp_dg_sav\",\n",
    "    \"cly_pc_sav\",\n",
    "    \"aridity_ERA5_LAND\",\n",
    "    \"aridity_FAO_PM\",\n",
    "]\n",
    "\n",
    "target = \"streamflow\""
   ]
  },
  {
   "cell_type": "code",
   "execution_count": 5,
   "metadata": {},
   "outputs": [],
   "source": [
    "REGIONS = [\"CA\"]\n",
    "\n",
    "COUNTRY = \"kyrgyzstan\"\n",
    "\n",
    "MODEL_TYPES = [\n",
    "    \"tft\",\n",
    "    \"ealstm\",\n",
    "    \"tide\",\n",
    "    \"tsmixer\",\n",
    "]\n",
    "\n",
    "EXPERIMENT_TYPES = {\n",
    "    \"pretrained\": f\"similar_catchments/similar-catchments_{COUNTRY.lower()}\",\n",
    "    \"finetuned\": f\"finetune/finetune_from_similar_catchments_{COUNTRY.lower()}\",\n",
    "    \"benchmark\": f\"benchmark/benchmark_{COUNTRY.lower()}\",\n",
    "    \"low_hii\": f\"low-medium-hii/low-medium-hii_{COUNTRY.lower()}\",\n",
    "}\n",
    "\n",
    "BASE_PATH = Path(\"/Users/cooper/Desktop/hydro-forecasting/experiments\")"
   ]
  },
  {
   "cell_type": "code",
   "execution_count": 6,
   "metadata": {},
   "outputs": [
    {
     "name": "stdout",
     "output_type": "stream",
     "text": [
      "The following parameters were not found in the YAML file and will use defaults:\n",
      "  - hidden_continuous_size (model-specific)\n",
      "  - quantiles (model-specific)\n",
      "  - scheduler_factor (model-specific)\n",
      "  - scheduler_patience (model-specific)\n",
      "The following parameters were not found in the YAML file and will use defaults:\n",
      "  - future_forcing_projection_size (model-specific)\n",
      "  - past_feature_projection_size (model-specific)\n",
      "  - scheduler_factor (model-specific)\n",
      "  - scheduler_patience (model-specific)\n",
      "The following parameters were not found in the YAML file and will use defaults:\n",
      "  - bias (model-specific)\n",
      "  - bidirectional (model-specific)\n",
      "  - bidirectional_fusion (model-specific)\n",
      "  - future_hidden_size (model-specific)\n",
      "  - future_layers (model-specific)\n",
      "  - scheduler_factor (model-specific)\n",
      "  - scheduler_patience (model-specific)\n",
      "The following parameters were not found in the YAML file and will use defaults:\n",
      "  - scheduler_factor (model-specific)\n",
      "  - scheduler_patience (model-specific)\n"
     ]
    }
   ],
   "source": [
    "ealstm_yaml = f\"/Users/cooper/Desktop/hydro-forecasting/experiments/yaml-files/{COUNTRY.lower()}/ealstm.yaml\"\n",
    "tft_yaml = f\"/Users/cooper/Desktop/hydro-forecasting/experiments/yaml-files/{COUNTRY.lower()}/tft.yaml\"\n",
    "tide_yaml = f\"/Users/cooper/Desktop/hydro-forecasting/experiments/yaml-files/{COUNTRY.lower()}/tide.yaml\"\n",
    "tsmixer_yaml = f\"/Users/cooper/Desktop/hydro-forecasting/experiments/yaml-files/{COUNTRY.lower()}/tsmixer.yaml\"\n",
    "\n",
    "\n",
    "tft_hp = hp_from_yaml(\"tft\", tft_yaml)\n",
    "tide_hp = hp_from_yaml(\"tide\", tide_yaml)\n",
    "ealstm_hp = hp_from_yaml(\"ealstm\", ealstm_yaml)\n",
    "tsmixer_hp = hp_from_yaml(\"tsmixer\", tsmixer_yaml)"
   ]
  },
  {
   "cell_type": "code",
   "execution_count": 7,
   "metadata": {},
   "outputs": [],
   "source": [
    "TFT_config = TFTConfig(**tft_hp)\n",
    "EALSTM_config = EALSTMConfig(**ealstm_hp)\n",
    "TiDE_config = TiDEConfig(**tide_hp)\n",
    "TSMixer_config = TSMixerConfig(**tsmixer_hp)\n",
    "\n",
    "dummy_config = RepeatLastValuesConfig(\n",
    "    input_len=ealstm_hp[\"input_len\"],\n",
    "    input_size=ealstm_hp[\"input_size\"],\n",
    "    output_len=ealstm_hp[\"output_len\"],\n",
    ")"
   ]
  },
  {
   "cell_type": "markdown",
   "metadata": {},
   "source": [
    "---"
   ]
  },
  {
   "cell_type": "code",
   "execution_count": 8,
   "metadata": {},
   "outputs": [],
   "source": [
    "def load_basin_ids(country: str) -> list[str]:\n",
    "    \"\"\"\n",
    "    Function to load basins for a given country in Central Asia\n",
    "    \"\"\"\n",
    "    # Make country lowercase and make the first letter uppercase\n",
    "    country = country.lower()\n",
    "    country = country.capitalize()\n",
    "\n",
    "    if country != \"Tajikistan\" and country != \"Kyrgyzstan\":\n",
    "        print(\"Country not supported\")\n",
    "        return []\n",
    "\n",
    "    configs = CaravanifyParquetConfig(\n",
    "        attributes_dir=\"/Users/cooper/Desktop/CaravanifyParquet/CA/post_processed/attributes\",\n",
    "        timeseries_dir=\"/Users/cooper/Desktop/CaravanifyParquet/CA/post_processed/timeseries/csv\",\n",
    "        gauge_id_prefix=\"CA\",\n",
    "        use_hydroatlas_attributes=True,\n",
    "        use_caravan_attributes=True,\n",
    "        use_other_attributes=True,\n",
    "    )\n",
    "\n",
    "    caravan = CaravanifyParquet(configs)\n",
    "    ca_basins = caravan.get_all_gauge_ids()\n",
    "    caravan.load_stations(ca_basins)\n",
    "    static_data = caravan.get_static_attributes()\n",
    "\n",
    "    return list(static_data[static_data[\"country\"] == country][\"gauge_id\"].unique())\n",
    "\n",
    "\n",
    "country_ids = load_basin_ids(COUNTRY)"
   ]
  },
  {
   "cell_type": "code",
   "execution_count": 9,
   "metadata": {},
   "outputs": [
    {
     "name": "stdout",
     "output_type": "stream",
     "text": [
      "Missing static features: []\n",
      "Available static features: ['p_mean', 'area', 'ele_mt_sav', 'high_prec_dur', 'frac_snow', 'high_prec_freq', 'slp_dg_sav', 'cly_pc_sav', 'aridity_ERA5_LAND', 'aridity_FAO_PM']\n",
      "Available columns in static data: ['gauge_id', 'area', 'country', 'gauge_lat', 'gauge_lon', 'gauge_name', 'aet_mm_s01', 'aet_mm_s02', 'aet_mm_s03', 'aet_mm_s04', 'aet_mm_s05', 'aet_mm_s06', 'aet_mm_s07', 'aet_mm_s08', 'aet_mm_s09', 'aet_mm_s10', 'aet_mm_s11', 'aet_mm_s12', 'aet_mm_syr', 'area_fraction_used_for_aggregation', 'ari_ix_sav', 'cls_cl_smj', 'cly_pc_sav', 'clz_cl_smj', 'cmi_ix_s01', 'cmi_ix_s02', 'cmi_ix_s03', 'cmi_ix_s04', 'cmi_ix_s05', 'cmi_ix_s06', 'cmi_ix_s07', 'cmi_ix_s08', 'cmi_ix_s09', 'cmi_ix_s10', 'cmi_ix_s11', 'cmi_ix_s12', 'cmi_ix_syr', 'crp_pc_sse', 'dis_m3_pmn', 'dis_m3_pmx', 'dis_m3_pyr', 'dor_pc_pva', 'ele_mt_sav', 'ele_mt_smn', 'ele_mt_smx', 'ero_kh_sav', 'fec_cl_smj', 'fmh_cl_smj', 'for_pc_sse', 'gdp_ud_sav', 'gdp_ud_ssu', 'gla_pc_sse', 'glc_cl_smj', 'glc_pc_s01', 'glc_pc_s02', 'glc_pc_s03', 'glc_pc_s04', 'glc_pc_s05', 'glc_pc_s06', 'glc_pc_s07', 'glc_pc_s08', 'glc_pc_s09', 'glc_pc_s10', 'glc_pc_s11', 'glc_pc_s12', 'glc_pc_s13', 'glc_pc_s14', 'glc_pc_s15', 'glc_pc_s16', 'glc_pc_s17', 'glc_pc_s18', 'glc_pc_s19', 'glc_pc_s20', 'glc_pc_s21', 'glc_pc_s22', 'gwt_cm_sav', 'hdi_ix_sav', 'hft_ix_s09', 'hft_ix_s93', 'inu_pc_slt', 'inu_pc_smn', 'inu_pc_smx', 'ire_pc_sse', 'kar_pc_sse', 'lit_cl_smj', 'lka_pc_sse', 'lkv_mc_usu', 'nli_ix_sav', 'pac_pc_sse', 'pet_mm_s01', 'pet_mm_s02', 'pet_mm_s03', 'pet_mm_s04', 'pet_mm_s05', 'pet_mm_s06', 'pet_mm_s07', 'pet_mm_s08', 'pet_mm_s09', 'pet_mm_s10', 'pet_mm_s11', 'pet_mm_s12', 'pet_mm_syr', 'pnv_cl_smj', 'pnv_pc_s01', 'pnv_pc_s02', 'pnv_pc_s03', 'pnv_pc_s04', 'pnv_pc_s05', 'pnv_pc_s06', 'pnv_pc_s07', 'pnv_pc_s08', 'pnv_pc_s09', 'pnv_pc_s10', 'pnv_pc_s11', 'pnv_pc_s12', 'pnv_pc_s13', 'pnv_pc_s14', 'pnv_pc_s15', 'pop_ct_usu', 'ppd_pk_sav', 'pre_mm_s01', 'pre_mm_s02', 'pre_mm_s03', 'pre_mm_s04', 'pre_mm_s05', 'pre_mm_s06', 'pre_mm_s07', 'pre_mm_s08', 'pre_mm_s09', 'pre_mm_s10', 'pre_mm_s11', 'pre_mm_s12', 'pre_mm_syr', 'prm_pc_sse', 'pst_pc_sse', 'rdd_mk_sav', 'rev_mc_usu', 'ria_ha_usu', 'riv_tc_usu', 'run_mm_syr', 'sgr_dk_sav', 'slp_dg_sav', 'slt_pc_sav', 'snd_pc_sav', 'snw_pc_s01', 'snw_pc_s02', 'snw_pc_s03', 'snw_pc_s04', 'snw_pc_s05', 'snw_pc_s06', 'snw_pc_s07', 'snw_pc_s08', 'snw_pc_s09', 'snw_pc_s10', 'snw_pc_s11', 'snw_pc_s12', 'snw_pc_smx', 'snw_pc_syr', 'soc_th_sav', 'swc_pc_s01', 'swc_pc_s02', 'swc_pc_s03', 'swc_pc_s04', 'swc_pc_s05', 'swc_pc_s06', 'swc_pc_s07', 'swc_pc_s08', 'swc_pc_s09', 'swc_pc_s10', 'swc_pc_s11', 'swc_pc_s12', 'swc_pc_syr', 'tbi_cl_smj', 'tec_cl_smj', 'tmp_dc_s01', 'tmp_dc_s02', 'tmp_dc_s03', 'tmp_dc_s04', 'tmp_dc_s05', 'tmp_dc_s06', 'tmp_dc_s07', 'tmp_dc_s08', 'tmp_dc_s09', 'tmp_dc_s10', 'tmp_dc_s11', 'tmp_dc_s12', 'tmp_dc_smn', 'tmp_dc_smx', 'tmp_dc_syr', 'urb_pc_sse', 'wet_cl_smj', 'wet_pc_s01', 'wet_pc_s02', 'wet_pc_s03', 'wet_pc_s04', 'wet_pc_s05', 'wet_pc_s06', 'wet_pc_s07', 'wet_pc_s08', 'wet_pc_s09', 'wet_pc_sg1', 'wet_pc_sg2', 'aridity_ERA5_LAND', 'aridity_FAO_PM', 'frac_snow', 'high_prec_dur', 'high_prec_freq', 'low_prec_dur', 'low_prec_freq', 'moisture_index_ERA5_LAND', 'moisture_index_FAO_PM', 'p_mean', 'pet_mean_ERA5_LAND', 'pet_mean_FAO_PM', 'seasonality_ERA5_LAND', 'seasonality_FAO_PM']\n"
     ]
    }
   ],
   "source": [
    "# Add this after loading the static data to check what columns are available\n",
    "configs = CaravanifyParquetConfig(\n",
    "    attributes_dir=\"/Users/cooper/Desktop/CaravanifyParquet/CA/post_processed/attributes\",\n",
    "    timeseries_dir=\"/Users/cooper/Desktop/CaravanifyParquet/CA/post_processed/timeseries/csv\",\n",
    "    gauge_id_prefix=\"CA\",\n",
    "    use_hydroatlas_attributes=True,\n",
    "    use_caravan_attributes=True,\n",
    "    use_other_attributes=True,\n",
    ")\n",
    "\n",
    "caravan = CaravanifyParquet(configs)\n",
    "caravan.load_stations(country_ids)\n",
    "static_data = caravan.get_static_attributes()\n",
    "\n",
    "# Check which static features are missing\n",
    "missing_features = [f for f in static_features if f not in static_data.columns]\n",
    "available_features = [f for f in static_features if f in static_data.columns]\n",
    "\n",
    "print(f\"Missing static features: {missing_features}\")\n",
    "print(f\"Available static features: {available_features}\")\n",
    "print(f\"Available columns in static data: {list(static_data.columns)}\")"
   ]
  },
  {
   "cell_type": "code",
   "execution_count": 10,
   "metadata": {},
   "outputs": [
    {
     "name": "stdout",
     "output_type": "stream",
     "text": [
      "Found 62 total CA basins in kyrgyzstan\n"
     ]
    }
   ],
   "source": [
    "print(f\"Found {len(country_ids)} total CA basins in {COUNTRY}\")"
   ]
  },
  {
   "cell_type": "markdown",
   "metadata": {},
   "source": [
    "---"
   ]
  },
  {
   "cell_type": "code",
   "execution_count": 11,
   "metadata": {},
   "outputs": [],
   "source": [
    "feature_pipeline = GroupedPipeline(\n",
    "    Pipeline([(\"scaler\", StandardScaleTransformer()), (\"normalizer\", NormalizeTransformer())]),\n",
    "    columns=forcing_features,\n",
    "    group_identifier=\"gauge_id\",\n",
    ")\n",
    "\n",
    "target_pipeline = GroupedPipeline(\n",
    "    Pipeline([(\"scaler\", StandardScaleTransformer()), (\"normalizer\", NormalizeTransformer())]),\n",
    "    columns=[\"streamflow\"],\n",
    "    group_identifier=\"gauge_id\",\n",
    ")\n",
    "\n",
    "static_pipeline = Pipeline([(\"scaler\", StandardScaleTransformer())])\n",
    "\n",
    "preprocessing_config = {\n",
    "    \"features\": {\"pipeline\": feature_pipeline},\n",
    "    \"target\": {\"pipeline\": target_pipeline},\n",
    "    \"static_features\": {\"pipeline\": static_pipeline, \"columns\": static_features},\n",
    "}"
   ]
  },
  {
   "cell_type": "code",
   "execution_count": 12,
   "metadata": {},
   "outputs": [],
   "source": [
    "region_time_series_base_dirs = {\n",
    "    region: f\"/Users/cooper/Desktop/CaravanifyParquet/{region}/post_processed/timeseries/csv/{region}\"\n",
    "    for region in REGIONS\n",
    "}\n",
    "\n",
    "region_static_attributes_base_dirs = {\n",
    "    region: f\"/Users/cooper/Desktop/CaravanifyParquet/{region}/post_processed/attributes/{region}\" for region in REGIONS\n",
    "}"
   ]
  },
  {
   "cell_type": "code",
   "execution_count": 13,
   "metadata": {},
   "outputs": [
    {
     "name": "stderr",
     "output_type": "stream",
     "text": [
      "2025-06-23 16:05:41,893 - hydro_forecasting.experiment_utils.seed_manager - INFO - SeedManager initialized with master seed: 42\n",
      "2025-06-23 16:05:41,894 - lightning_fabric.utilities.seed - INFO - Seed set to 42\n",
      "2025-06-23 16:05:41,896 - hydro_forecasting.data.in_memory_datamodule - INFO - Initialized SeedManager with seed: 42\n",
      "2025-06-23 16:05:41,897 - hydro_forecasting.experiment_utils.seed_manager - INFO - SeedManager initialized with master seed: 42\n",
      "2025-06-23 16:05:41,898 - lightning_fabric.utilities.seed - INFO - Seed set to 42\n",
      "2025-06-23 16:05:41,900 - hydro_forecasting.data.in_memory_datamodule - INFO - Initialized SeedManager with seed: 42\n",
      "2025-06-23 16:05:41,900 - hydro_forecasting.experiment_utils.seed_manager - INFO - SeedManager initialized with master seed: 42\n",
      "2025-06-23 16:05:41,901 - lightning_fabric.utilities.seed - INFO - Seed set to 42\n",
      "2025-06-23 16:05:41,902 - hydro_forecasting.data.in_memory_datamodule - INFO - Initialized SeedManager with seed: 42\n",
      "2025-06-23 16:05:41,903 - hydro_forecasting.experiment_utils.seed_manager - INFO - SeedManager initialized with master seed: 42\n",
      "2025-06-23 16:05:41,903 - lightning_fabric.utilities.seed - INFO - Seed set to 42\n",
      "2025-06-23 16:05:41,905 - hydro_forecasting.data.in_memory_datamodule - INFO - Initialized SeedManager with seed: 42\n"
     ]
    }
   ],
   "source": [
    "data_modules = {\n",
    "    name: HydroInMemoryDataModule(\n",
    "        region_time_series_base_dirs=region_time_series_base_dirs,\n",
    "        region_static_attributes_base_dirs=region_static_attributes_base_dirs,\n",
    "        path_to_preprocessing_output_directory=\"/Users/cooper/Desktop/hydro-forecasting/data_cache/first_eval\",\n",
    "        group_identifier=\"gauge_id\",\n",
    "        batch_size=2048,\n",
    "        input_length=hp[\"input_len\"],\n",
    "        output_length=hp[\"output_len\"],\n",
    "        forcing_features=forcing_features,\n",
    "        static_features=static_features,\n",
    "        target=target,\n",
    "        preprocessing_configs=preprocessing_config,\n",
    "        num_workers=4,\n",
    "        min_train_years=5,\n",
    "        train_prop=0.5,\n",
    "        val_prop=0.25,\n",
    "        test_prop=0.25,\n",
    "        max_imputation_gap_size=5,\n",
    "        list_of_gauge_ids_to_process=country_ids,\n",
    "        is_autoregressive=True,\n",
    "        chunk_size=100,\n",
    "        validation_chunk_size=100,\n",
    "        random_seed=42,\n",
    "    )\n",
    "    for name, hp in [\n",
    "        (\"tft_data_module\", tft_hp),\n",
    "        (\"tide_data_module\", tide_hp),\n",
    "        (\"tsmixer_data_module\", tsmixer_hp),\n",
    "        (\"ealstm_data_module\", ealstm_hp),\n",
    "    ]\n",
    "}\n",
    "\n",
    "tft_data_module = data_modules[\"tft_data_module\"]\n",
    "tide_data_module = data_modules[\"tide_data_module\"]\n",
    "tsmixer_data_module = data_modules[\"tsmixer_data_module\"]\n",
    "ealstm_data_module = data_modules[\"ealstm_data_module\"]"
   ]
  },
  {
   "cell_type": "code",
   "execution_count": 14,
   "metadata": {},
   "outputs": [
    {
     "name": "stdout",
     "output_type": "stream",
     "text": [
      "Pretrained checkpoints: /Users/cooper/Desktop/hydro-forecasting/experiments/similar_catchments/similar-catchments_kyrgyzstan/checkpoints/tft/run_0/attempt_0/tft-run0-attempt_0-epoch=113-val_loss=0.0365.ckpt, /Users/cooper/Desktop/hydro-forecasting/experiments/similar_catchments/similar-catchments_kyrgyzstan/checkpoints/ealstm/run_0/attempt_0/ealstm-run0-attempt_0-epoch=10-val_loss=0.0395.ckpt, /Users/cooper/Desktop/hydro-forecasting/experiments/similar_catchments/similar-catchments_kyrgyzstan/checkpoints/tide/run_0/attempt_0/tide-run0-attempt_0-epoch=86-val_loss=0.0478.ckpt, /Users/cooper/Desktop/hydro-forecasting/experiments/similar_catchments/similar-catchments_kyrgyzstan/checkpoints/tsmixer/run_0/attempt_0/tsmixer-run0-attempt_0-epoch=69-val_loss=0.0431.ckpt\n",
      "Finetuned checkpoints: /Users/cooper/Desktop/hydro-forecasting/experiments/finetune/finetune_from_similar_catchments_kyrgyzstan/checkpoints/tft/run_3/attempt_0/tft-run3-attempt_0-epoch=09-val_loss=0.0246.ckpt, /Users/cooper/Desktop/hydro-forecasting/experiments/finetune/finetune_from_similar_catchments_kyrgyzstan/checkpoints/ealstm/run_3/attempt_0/ealstm-run3-attempt_0-epoch=00-val_loss=0.0257.ckpt, /Users/cooper/Desktop/hydro-forecasting/experiments/finetune/finetune_from_similar_catchments_kyrgyzstan/checkpoints/tide/run_4/attempt_0/tide-run4-attempt_0-epoch=02-val_loss=0.0296.ckpt, /Users/cooper/Desktop/hydro-forecasting/experiments/finetune/finetune_from_similar_catchments_kyrgyzstan/checkpoints/tsmixer/run_3/attempt_0/tsmixer-run3-attempt_0-epoch=01-val_loss=0.0268.ckpt\n",
      "Benchmark checkpoints: /Users/cooper/Desktop/hydro-forecasting/experiments/benchmark/benchmark_kyrgyzstan/checkpoints/tft/run_2/attempt_0/tft-run2-attempt_0-epoch=140-val_loss=0.0285.ckpt, /Users/cooper/Desktop/hydro-forecasting/experiments/benchmark/benchmark_kyrgyzstan/checkpoints/ealstm/run_1/attempt_1/ealstm-run1-attempt_1-epoch=11-val_loss=0.0302.ckpt, /Users/cooper/Desktop/hydro-forecasting/experiments/benchmark/benchmark_kyrgyzstan/checkpoints/tide/run_3/attempt_1/tide-run3-attempt_1-epoch=82-val_loss=0.0325.ckpt, /Users/cooper/Desktop/hydro-forecasting/experiments/benchmark/benchmark_kyrgyzstan/checkpoints/tsmixer/run_3/attempt_1/tsmixer-run3-attempt_1-epoch=26-val_loss=0.0335.ckpt\n",
      "Low_hii checkpoints: /Users/cooper/Desktop/hydro-forecasting/experiments/low-medium-hii/low-medium-hii_kyrgyzstan/checkpoints/tft/run_0/attempt_0/tft-run0-attempt_0-epoch=70-val_loss=0.0331.ckpt, /Users/cooper/Desktop/hydro-forecasting/experiments/low-medium-hii/low-medium-hii_kyrgyzstan/checkpoints/ealstm/run_0/attempt_0/ealstm-run0-attempt_0-epoch=25-val_loss=0.0932.ckpt, /Users/cooper/Desktop/hydro-forecasting/experiments/low-medium-hii/low-medium-hii_kyrgyzstan/checkpoints/tide/run_0/attempt_0/tide-run0-attempt_0-epoch=113-val_loss=0.0481.ckpt, /Users/cooper/Desktop/hydro-forecasting/experiments/low-medium-hii/low-medium-hii_kyrgyzstan/checkpoints/tsmixer/run_0/attempt_0/tsmixer-run0-attempt_0-epoch=72-val_loss=0.0402.ckpt\n"
     ]
    }
   ],
   "source": [
    "from hydro_forecasting.exceptions import ConfigurationError, FileOperationError\n",
    "\n",
    "\n",
    "def get_checkpoint_for_model(model_type: str, checkpoint_folder: Path, select_overall_best: bool = True) -> Path | None:\n",
    "    \"\"\"\n",
    "    Function to get the best checkpoint for a given model type.\n",
    "\n",
    "    Args:\n",
    "        model_type: Type of model to load checkpoint for\n",
    "        checkpoint_folder: Base directory containing checkpoints\n",
    "        select_overall_best: Whether to select the overall best model\n",
    "\n",
    "    Returns:\n",
    "        Path to checkpoint file, or None if not found or error occurred\n",
    "    \"\"\"\n",
    "    try:\n",
    "        return checkpoint_manager.get_checkpoint_path_to_load(\n",
    "            base_checkpoint_load_dir=checkpoint_folder, model_type=model_type, select_overall_best=select_overall_best\n",
    "        )\n",
    "    except (ConfigurationError, FileOperationError) as e:\n",
    "        print(f\"Failed to load checkpoint for {model_type}: {e}\")\n",
    "        return None\n",
    "\n",
    "\n",
    "def load_all_checkpoints(\n",
    "    country: str, model_types: list[str] | None = None, experiment_types: dict[str, str] | None = None\n",
    ") -> dict[str, dict[str, Path | None]]:\n",
    "    \"\"\"\n",
    "    Load checkpoints for all model types across all experiment types.\n",
    "\n",
    "    Args:\n",
    "        country: Country code for the experiments\n",
    "        model_types: List of model types to load (defaults to common ones)\n",
    "        experiment_types: Dict mapping experiment names to directory patterns\n",
    "\n",
    "    Returns:\n",
    "        Dict of {experiment_type: {model_type: checkpoint_path}}\n",
    "    \"\"\"\n",
    "    # Default model types\n",
    "    if model_types is None:\n",
    "        model_types = [\"tft\", \"tide\", \"ealstm\", \"tsmixer\"]\n",
    "\n",
    "    base_path = BASE_PATH\n",
    "    checkpoints = {}\n",
    "\n",
    "    for exp_name, exp_path in experiment_types.items():\n",
    "        checkpoints[exp_name] = {}\n",
    "        checkpoint_dir = base_path / exp_path / \"checkpoints\"\n",
    "\n",
    "        for model_type in model_types:\n",
    "            checkpoint_path = get_checkpoint_for_model(\n",
    "                model_type=model_type, checkpoint_folder=checkpoint_dir, select_overall_best=True\n",
    "            )\n",
    "            checkpoints[exp_name][model_type] = checkpoint_path\n",
    "\n",
    "    return checkpoints\n",
    "\n",
    "\n",
    "def print_checkpoints(checkpoints: dict[str, dict[str, Path | None]]) -> None:\n",
    "    \"\"\"Print checkpoints in a readable format.\"\"\"\n",
    "    for exp_name, models in checkpoints.items():\n",
    "        valid_paths = [str(path) for path in models.values() if path is not None]\n",
    "        failed_models = [model for model, path in models.items() if path is None]\n",
    "\n",
    "        print(f\"{exp_name.capitalize()} checkpoints: {', '.join(valid_paths)}\")\n",
    "        if failed_models:\n",
    "            print(f\"  Failed to load: {', '.join(failed_models)}\")\n",
    "\n",
    "\n",
    "checkpoints = load_all_checkpoints(COUNTRY, MODEL_TYPES, EXPERIMENT_TYPES)\n",
    "print_checkpoints(checkpoints)"
   ]
  },
  {
   "cell_type": "code",
   "execution_count": 15,
   "metadata": {},
   "outputs": [],
   "source": [
    "tft_pretrained_checkpoint = checkpoints[\"pretrained\"][\"tft\"]\n",
    "tide_pretrained_checkpoint = checkpoints[\"pretrained\"][\"tide\"]\n",
    "ealstm_pretrained_checkpoint = checkpoints[\"pretrained\"][\"ealstm\"]\n",
    "tsmixer_pretrained_checkpoint = checkpoints[\"pretrained\"][\"tsmixer\"]\n",
    "\n",
    "tft_finetuned_checkpoint = checkpoints[\"finetuned\"][\"tft\"]\n",
    "tide_finetuned_checkpoint = checkpoints[\"finetuned\"][\"tide\"]\n",
    "ealstm_finetuned_checkpoint = checkpoints[\"finetuned\"][\"ealstm\"]\n",
    "tsmixer_finetuned_checkpoint = checkpoints[\"finetuned\"][\"tsmixer\"]\n",
    "\n",
    "tft_benchmark_checkpoint = checkpoints[\"benchmark\"][\"tft\"]\n",
    "tide_benchmark_checkpoint = checkpoints[\"benchmark\"][\"tide\"]\n",
    "ealstm_benchmark_checkpoint = checkpoints[\"benchmark\"][\"ealstm\"]\n",
    "tsmixer_benchmark_checkpoint = checkpoints[\"benchmark\"][\"tsmixer\"]\n",
    "\n",
    "tft_low_hii_checkpoint = checkpoints[\"low_hii\"][\"tft\"]\n",
    "tide_low_hii_checkpoint = checkpoints[\"low_hii\"][\"tide\"]\n",
    "ealstm_low_hii_checkpoint = checkpoints[\"low_hii\"][\"ealstm\"]\n",
    "tsmixer_low_hii_checkpoint = checkpoints[\"low_hii\"][\"tsmixer\"]"
   ]
  },
  {
   "cell_type": "code",
   "execution_count": 16,
   "metadata": {},
   "outputs": [],
   "source": [
    "dummy_model = LitRepeatLastValues(config=dummy_config)\n",
    "ealstm_benchmark_model = LitEALSTM.load_from_checkpoint(ealstm_benchmark_checkpoint, config=EALSTM_config)\n",
    "tide_benchmark_model = LitTiDE.load_from_checkpoint(tide_benchmark_checkpoint, config=TiDE_config)\n",
    "tsmixer_benchmark_model = LitTSMixer.load_from_checkpoint(tsmixer_benchmark_checkpoint, config=TSMixer_config)\n",
    "tft_benchmark_model = LitTFT.load_from_checkpoint(tft_benchmark_checkpoint, config=TFT_config)\n",
    "\n",
    "ealstm_pretrained_model = LitEALSTM.load_from_checkpoint(ealstm_pretrained_checkpoint, config=EALSTM_config)\n",
    "tide_pretrained_model = LitTiDE.load_from_checkpoint(tide_pretrained_checkpoint, config=TiDE_config)\n",
    "tsmixer_pretrained_model = LitTSMixer.load_from_checkpoint(tsmixer_pretrained_checkpoint, config=TSMixer_config)\n",
    "tft_pretrained_model = LitTFT.load_from_checkpoint(tft_pretrained_checkpoint, config=TFT_config)\n",
    "\n",
    "ealstm_finetuned_model = LitEALSTM.load_from_checkpoint(ealstm_finetuned_checkpoint, config=EALSTM_config)\n",
    "tide_finetuned_model = LitTiDE.load_from_checkpoint(tide_finetuned_checkpoint, config=TiDE_config)\n",
    "tsmixer_finetuned_model = LitTSMixer.load_from_checkpoint(tsmixer_finetuned_checkpoint, config=TSMixer_config)\n",
    "tft_finetuned_model = LitTFT.load_from_checkpoint(tft_finetuned_checkpoint, config=TFT_config)\n",
    "\n",
    "tft_low_hii_model = LitTFT.load_from_checkpoint(tft_low_hii_checkpoint, config=TFT_config)\n",
    "tide_low_hii_model = LitTiDE.load_from_checkpoint(tide_low_hii_checkpoint, config=TiDE_config)\n",
    "ealstm_low_hii_model = LitEALSTM.load_from_checkpoint(ealstm_low_hii_checkpoint, config=EALSTM_config)\n",
    "tsmixer_low_hii_model = LitTSMixer.load_from_checkpoint(tsmixer_low_hii_checkpoint, config=TSMixer_config)\n",
    "\n",
    "\n",
    "# Create a dictionary mapping model names to (model, datamodule) tuples\n",
    "models_and_datamodules = {\n",
    "    \"ealstm_benchmark\": (ealstm_benchmark_model, ealstm_data_module),\n",
    "    # \"ealstm_pretrained\": (ealstm_pretrained_model, ealstm_data_module),\n",
    "    # \"ealstm_finetuned\": (ealstm_finetuned_model, ealstm_data_module),\n",
    "    # \"tide_benchmark\": (tide_benchmark_model, tide_data_module),\n",
    "    # \"tide_pretrained\": (tide_pretrained_model, tide_data_module),\n",
    "    # \"tide_finetuned\": (tide_finetuned_model, tide_data_module),\n",
    "    # \"tsmixer_benchmark\": (tsmixer_benchmark_model, tsmixer_data_module),\n",
    "    # \"tsmixer_pretrained\": (tsmixer_pretrained_model, tsmixer_data_module),\n",
    "    # \"tsmixer_finetuned\": (tsmixer_finetuned_model, tsmixer_data_module),\n",
    "    # \"tft_benchmark\": (tft_benchmark_model, tft_data_module),\n",
    "    # \"tft_pretrained\": (tft_pretrained_model, tft_data_module),\n",
    "    # \"tft_finetuned\": (tft_finetuned_model, tft_data_module),\n",
    "    # \"tft_low_hii\": (tft_low_hii_model, tft_data_module),\n",
    "    # \"tide_low_hii\": (tide_low_hii_model, tide_data_module),\n",
    "    # \"ealstm_low_hii\": (ealstm_low_hii_model, ealstm_data_module),\n",
    "    # \"tsmixer_low_hii\": (tsmixer_low_hii_model, tsmixer_data_module),\n",
    "    # \"dummy\": (dummy_model, ealstm_data_module),\n",
    "}\n",
    "\n",
    "\n",
    "evaluator = TSForecastEvaluator(\n",
    "    horizons=list(range(1, 11)),\n",
    "    models_and_datamodules=models_and_datamodules,\n",
    "    trainer_kwargs={\"accelerator\": \"cpu\", \"devices\": 1, \"deterministic\": True, \"benchmark\": False},\n",
    ")"
   ]
  },
  {
   "cell_type": "code",
   "execution_count": 17,
   "metadata": {},
   "outputs": [
    {
     "name": "stderr",
     "output_type": "stream",
     "text": [
      "2025-06-23 16:05:42,495 - hydro_forecasting.model_evaluation.evaluators - INFO - Testing models: ealstm_benchmark (1/1 models)\n",
      "2025-06-23 16:05:42,496 - hydro_forecasting.model_evaluation.evaluators - INFO - Testing model: ealstm_benchmark\n",
      "2025-06-23 16:05:42,512 - pytorch_lightning.utilities.rank_zero - INFO - Using default `ModelCheckpoint`. Consider installing `litmodels` package to enable `LitModelCheckpoint` for automatic upload to the Lightning model registry.\n",
      "2025-06-23 16:05:42,517 - pytorch_lightning.utilities.rank_zero - INFO - GPU available: True (mps), used: False\n",
      "2025-06-23 16:05:42,518 - pytorch_lightning.utilities.rank_zero - INFO - TPU available: False, using: 0 TPU cores\n",
      "2025-06-23 16:05:42,518 - pytorch_lightning.utilities.rank_zero - INFO - HPU available: False, using: 0 HPUs\n",
      "/Users/cooper/Desktop/hydro-forecasting/.venv/lib/python3.12/site-packages/pytorch_lightning/trainer/setup.py:177: GPU available but not used. You can set it by doing `Trainer(accelerator='gpu')`.\n",
      "2025-06-23 16:05:42,527 - hydro_forecasting.data.in_memory_datamodule - INFO - Starting data preparation...\n",
      "2025-06-23 16:05:42,528 - hydro_forecasting.data.in_memory_datamodule - INFO - Generated Run UUID for current config: b21c7d73-a4b4-5d5e-bbc2-debd244b9dc3\n",
      "2025-06-23 16:05:42,528 - hydro_forecasting.data.in_memory_datamodule - INFO - Checking for existing processed data at: /Users/cooper/Desktop/hydro-forecasting/data_cache/first_eval/b21c7d73-a4b4-5d5e-bbc2-debd244b9dc3\n",
      "2025-06-23 16:05:42,529 - hydro_forecasting.data.in_memory_datamodule - INFO - No reusable data found or reuse failed for UUID b21c7d73-a4b4-5d5e-bbc2-debd244b9dc3. Reason: Run directory not found.. Running preprocessing...\n",
      "2025-06-23 16:05:42,531 - hydro_forecasting.data.preprocessing - INFO - Config saved to /Users/cooper/Desktop/hydro-forecasting/data_cache/first_eval/b21c7d73-a4b4-5d5e-bbc2-debd244b9dc3/config.json\n",
      "2025-06-23 16:05:42,531 - hydro_forecasting.data.preprocessing - INFO - Processing static features...\n",
      "2025-06-23 16:05:42,551 - hydro_forecasting.data.preprocessing - INFO - Static features saved to /Users/cooper/Desktop/hydro-forecasting/data_cache/first_eval/b21c7d73-a4b4-5d5e-bbc2-debd244b9dc3/processed_static_features.parquet\n",
      "2025-06-23 16:05:42,552 - hydro_forecasting.data.preprocessing - INFO - Static features pipeline saved to /Users/cooper/Desktop/hydro-forecasting/data_cache/first_eval/b21c7d73-a4b4-5d5e-bbc2-debd244b9dc3/fitted_static_pipeline.joblib\n",
      "2025-06-23 16:05:42,552 - hydro_forecasting.data.preprocessing - INFO - Running quality validation on all basins...\n",
      "2025-06-23 16:05:42,553 - hydro_forecasting.data.preprocessing - INFO - Validating batch 1 (62 basins)...\n",
      "2025-06-23 16:05:42,948 - hydro_forecasting.data.clean_data - INFO - Processed 62 basins, 58 passed quality checks\n",
      "2025-06-23 16:05:42,948 - hydro_forecasting.data.preprocessing - INFO - Quality validation complete: 58 valid basins, 4 failed\n",
      "2025-06-23 16:05:42,961 - hydro_forecasting.data.preprocessing - INFO - Starting time series batch processing for 58 basins in batches of 50...\n",
      "2025-06-23 16:05:42,962 - hydro_forecasting.data.preprocessing - INFO - --- Processing Batch 1 (50 basins) ---\n",
      "2025-06-23 16:05:43,310 - hydro_forecasting.data.clean_data - INFO - Processed 50 basins, 50 passed quality checks\n",
      "2025-06-23 16:05:47,966 - hydro_forecasting.data.preprocessing - INFO - --- Finished Batch 1 ---\n",
      "2025-06-23 16:05:47,967 - hydro_forecasting.data.preprocessing - INFO - --- Processing Batch 2 (8 basins) ---\n",
      "2025-06-23 16:05:48,010 - hydro_forecasting.data.clean_data - INFO - Processed 8 basins, 8 passed quality checks\n",
      "2025-06-23 16:05:48,482 - hydro_forecasting.data.preprocessing - INFO - --- Finished Batch 2 ---\n",
      "2025-06-23 16:05:48,482 - hydro_forecasting.data.preprocessing - INFO - Finished processing all time series batches. Attempted 58 basins.\n",
      "2025-06-23 16:05:48,514 - hydro_forecasting.data.preprocessing - INFO - Fitted time series pipelines saved to /Users/cooper/Desktop/hydro-forecasting/data_cache/first_eval/b21c7d73-a4b4-5d5e-bbc2-debd244b9dc3/fitted_time_series_pipelines.joblib\n",
      "2025-06-23 16:05:48,522 - hydro_forecasting.data.preprocessing - INFO - Summary quality report saved to /Users/cooper/Desktop/hydro-forecasting/data_cache/first_eval/b21c7d73-a4b4-5d5e-bbc2-debd244b9dc3/quality_summary.json\n",
      "2025-06-23 16:05:48,522 - hydro_forecasting.data.preprocessing - INFO - SUCCESS: Preprocessing completed successfully. Output at /Users/cooper/Desktop/hydro-forecasting/data_cache/first_eval/b21c7d73-a4b4-5d5e-bbc2-debd244b9dc3\n",
      "2025-06-23 16:05:48,525 - hydro_forecasting.data.in_memory_datamodule - INFO - Hydro processor completed successfully.\n",
      "2025-06-23 16:05:48,543 - hydro_forecasting.data.in_memory_datamodule - INFO - Successfully loaded 3 categories of fitted pipelines.\n",
      "2025-06-23 16:05:48,543 - hydro_forecasting.data.in_memory_datamodule - INFO - 58 basins retained after processing.\n",
      "2025-06-23 16:05:48,548 - hydro_forecasting.data.in_memory_datamodule - INFO - Found 58 basins for synchronized train/val chunking and validation pool selection.\n",
      "2025-06-23 16:05:48,549 - hydro_forecasting.data.in_memory_datamodule - INFO - Found 58 basins for test split.\n",
      "2025-06-23 16:05:48,549 - hydro_forecasting.data.in_memory_datamodule - INFO - Data preparation finished.\n",
      "2025-06-23 16:05:48,610 - hydro_forecasting.data.in_memory_datamodule - INFO - Loading static data cache and converting to Tensors...\n",
      "2025-06-23 16:05:48,613 - hydro_forecasting.data.in_memory_datamodule - INFO - Loaded and tensorized static data for 62 basins.\n",
      "2025-06-23 16:05:48,659 - hydro_forecasting.data.in_memory_datamodule - INFO - Loading test data for 58 basins...\n",
      "2025-06-23 16:05:48,729 - hydro_forecasting.data.in_memory_datamodule - INFO - Stage 'test' chunk data loaded for 58 basins. Shape: (96127, 12). Est. Mem: 4.40 MB\n",
      "/Users/cooper/Desktop/hydro-forecasting/.venv/lib/python3.12/site-packages/torch/utils/data/dataloader.py:683: UserWarning: 'pin_memory' argument is set as true but not supported on MPS now, then device pinned memory won't be used.\n",
      "  warnings.warn(warn_msg)\n"
     ]
    },
    {
     "data": {
      "application/vnd.jupyter.widget-view+json": {
       "model_id": "dfbe3f86002541798c699f9fe052d46c",
       "version_major": 2,
       "version_minor": 0
      },
      "text/plain": [
       "Testing: |          | 0/? [00:00<?, ?it/s]"
      ]
     },
     "metadata": {},
     "output_type": "display_data"
    },
    {
     "name": "stdout",
     "output_type": "stream",
     "text": [
      "────────────────────────────────────────────────────────────────────────────────────────────────────────────────────────\n",
      "       Test metric             DataLoader 0\n",
      "────────────────────────────────────────────────────────────────────────────────────────────────────────────────────────\n",
      "        test_loss           0.03213467821478844\n",
      "────────────────────────────────────────────────────────────────────────────────────────────────────────────────────────\n"
     ]
    },
    {
     "name": "stderr",
     "output_type": "stream",
     "text": [
      "2025-06-23 16:06:44,465 - hydro_forecasting.model_evaluation.evaluators - INFO - Applying seasonal filter: months 4 to 9\n",
      "2025-06-23 16:06:45,532 - hydro_forecasting.model_evaluation.evaluators - ERROR - Failed to save ealstm_benchmark to cache: Cannot save file into a non-existent directory: '/Users/cooper/Desktop/hydro-forecasting/tests/model_evaluation_cache_kyrgyzstan/predictions'\n",
      "2025-06-23 16:06:45,532 - hydro_forecasting.model_evaluation.evaluators - ERROR - Failed to test model ealstm_benchmark: Cannot save file into a non-existent directory: '/Users/cooper/Desktop/hydro-forecasting/tests/model_evaluation_cache_kyrgyzstan/predictions'\n"
     ]
    }
   ],
   "source": [
    "# Run evaluation\n",
    "results = evaluator.test_models(\n",
    "    start_of_season=4,\n",
    "    end_of_season=10,\n",
    "    cache_path=f\"/Users/cooper/Desktop/hydro-forecasting/tests/model_evaluation_cache_{COUNTRY.lower()}\",\n",
    "    force_refresh=True,\n",
    ")"
   ]
  },
  {
   "cell_type": "code",
   "execution_count": 18,
   "metadata": {},
   "outputs": [],
   "source": [
    "sns.set_context(context=\"paper\", font_scale=1.3)"
   ]
  },
  {
   "cell_type": "code",
   "execution_count": 19,
   "metadata": {},
   "outputs": [
    {
     "data": {
      "image/png": "[encoded data removed]",
      "text/plain": [
       "<Figure size 800x500 with 1 Axes>"
      ]
     },
     "metadata": {},
     "output_type": "display_data"
    }
   ],
   "source": [
    "fig, ax = plot_horizon_performance_bars(\n",
    "    results,\n",
    "    horizon=10,\n",
    "    metric=\"nse\",\n",
    "    architectures=[\"tide\", \"ealstm\", \"tsmixer\", \"tft\"],\n",
    "    variants=[\"benchmark\", \"low_hii\", \"pretrained\"],\n",
    "    colors={\"tide\": \"#4682B4\", \"ealstm\": \"#CD5C5C\", \"tsmixer\": \"#009E73\", \"tft\": \"#9370DB\"},\n",
    "    figsize=(8, 5),\n",
    "    with_whiskers=False,\n",
    "    positive_is_better=True,\n",
    "    dummy_model=\"dummy\",\n",
    ")\n",
    "ax.set_ylim(0, 1)\n",
    "sns.despine()\n",
    "plt.show()"
   ]
  },
  {
   "cell_type": "code",
   "execution_count": 26,
   "metadata": {},
   "outputs": [
    {
     "data": {
      "image/png": "[encoded data removed]",
      "text/plain": [
       "<Figure size 1200x600 with 1 Axes>"
      ]
     },
     "metadata": {},
     "output_type": "display_data"
    }
   ],
   "source": [
    "fig, ax = plot_horizon_performance_boxplots(\n",
    "    results,\n",
    "    horizons=[1, 5, 10],\n",
    "    metric=\"nse\",\n",
    "    architectures=[\"ealstm\"],\n",
    "    variants=[\"benchmark\"],\n",
    "    colors={\"tide\": \"#4682B4\", \"ealstm\": \"#CD5C5C\", \"tsmixer\": \"#009E73\", \"tft\": \"#9370DB\"},\n",
    "    figsize=(12, 6),\n",
    "    show_median_labels=True,\n",
    "    dummy_model=\"dummy\",\n",
    ")\n",
    "\n",
    "ax.set_ylim(-0.5, 1)\n",
    "ax.set_title(\"\")\n",
    "sns.despine()\n",
    "plt.show()"
   ]
  },
  {
   "cell_type": "code",
   "execution_count": 21,
   "metadata": {},
   "outputs": [
    {
     "name": "stderr",
     "output_type": "stream",
     "text": [
      "/Users/cooper/Desktop/hydro-forecasting/src/hydro_forecasting/model_evaluation/visualization.py:474: UserWarning: No artists with labels found to put in legend.  Note that artists whose label start with an underscore are ignored when legend() is called with no argument.\n",
      "  ax.legend(\n"
     ]
    },
    {
     "data": {
      "image/png": "[encoded data removed]",
      "text/plain": [
       "<Figure size 1000x600 with 1 Axes>"
      ]
     },
     "metadata": {},
     "output_type": "display_data"
    }
   ],
   "source": [
    "fig, ax = plot_basin_performance_scatter(\n",
    "    results,\n",
    "    benchmark_pattern=\"pretrained\",\n",
    "    challenger_pattern=\"finetuned\",\n",
    "    horizon=10,\n",
    "    architectures=[\"tide\", \"ealstm\", \"tsmixer\", \"tft\"],\n",
    "    metric=\"nse\",\n",
    "    figsize=(10, 6),\n",
    "    colors={\"tide\": \"#4682B4\", \"ealstm\": \"#CD5C5C\", \"tsmixer\": \"#009E73\", \"tft\": \"#9370DB\"},\n",
    "    debug=True,\n",
    ")\n",
    "sns.despine()\n",
    "plt.show()"
   ]
  },
  {
   "cell_type": "code",
   "execution_count": 22,
   "metadata": {},
   "outputs": [
    {
     "data": {
      "image/png": "[encoded data removed]",
      "text/plain": [
       "<Figure size 1200x800 with 12 Axes>"
      ]
     },
     "metadata": {},
     "output_type": "display_data"
    }
   ],
   "source": [
    "fig, axes = plot_model_cdf_grid(\n",
    "    results,\n",
    "    horizons=[1, 5, 10],\n",
    "    metric=\"nse\",\n",
    "    architectures=[\"tide\", \"ealstm\", \"tsmixer\", \"tft\"],\n",
    "    variants=[\"benchmark\", \"low_hii\"],\n",
    "    colors={\"tide\": \"#4682B4\", \"ealstm\": \"#CD5C5C\", \"tsmixer\": \"#009E73\", \"tft\": \"#9370DB\"},\n",
    "    figsize=(12, 8),\n",
    ")\n",
    "sns.despine()\n",
    "plt.show()"
   ]
  },
  {
   "cell_type": "code",
   "execution_count": 23,
   "metadata": {},
   "outputs": [],
   "source": [
    "# fig, ax = plot_rolling_forecast(\n",
    "#     results,\n",
    "#     model_name=\"tsmixer_finetuned\",\n",
    "#     gauge_id=\"CA_15016\",\n",
    "#     horizon=1,\n",
    "#     figsize=(10, 5),\n",
    "#     color_scheme={\"observed\": \"#2E4057\", \"predicted\": \"#FF6B35\"},\n",
    "# )\n",
    "\n",
    "# sns.despine()\n",
    "# ax.set_xlabel(\"\")\n",
    "# ax.set_ylabel(\"Streamflow (mm/day)\")\n",
    "\n",
    "# plt.show()"
   ]
  },
  {
   "cell_type": "code",
   "execution_count": 24,
   "metadata": {},
   "outputs": [],
   "source": [
    "# config_ca = CaravanifyParquetConfig(\n",
    "#     attributes_dir=\"/Users/cooper/Desktop/CaravanifyParquet/CA/post_processed/attributes\",\n",
    "#     timeseries_dir=\"/Users/cooper/Desktop/CaravanifyParquet/CA/post_processed/timeseries/csv\",\n",
    "#     shapefile_dir=\"/Users/cooper/Desktop/CAMELS-CH/data/CARAVANIFY/CA/post_processed/shapefiles\",\n",
    "#     gauge_id_prefix=\"CA\",\n",
    "#     use_hydroatlas_attributes=True,\n",
    "#     use_caravan_attributes=True,\n",
    "#     use_other_attributes=True,\n",
    "# )\n",
    "\n",
    "# caravan_ca = CaravanifyParquet(config_ca)\n",
    "\n",
    "# caravan_ca._load_static_attributes(country_ids)\n",
    "# statics = caravan_ca.get_static_attributes()\n",
    "\n",
    "\n",
    "# fig, axes = plot_performance_vs_static_attributes(\n",
    "#     results,\n",
    "#     static_df=statics,\n",
    "#     static_attributes=[\"p_mean\", \"ele_mt_sav\", \"frac_snow\"],\n",
    "#     model_names=[\"tide_low_hii\"],\n",
    "#     horizons=[5],\n",
    "#     metric=\"nse\",\n",
    "#     figsize=(11, 4),\n",
    "#     attribute_labels={\n",
    "#         \"p_mean\": \"Mean Precipitation (mm/d)\",\n",
    "#         \"ele_mt_sav\": \"Mean Elevation (m.a.s.l.)\",\n",
    "#         \"frac_snow\": \"Precipitation Falling as Snow (%)\",\n",
    "#     },\n",
    "# )\n",
    "\n",
    "# sns.despine()\n",
    "# # set y lim to (0, 1)\n",
    "# for ax in axes.flatten():\n",
    "#     ax.set_ylim(0.0, 1)\n",
    "#     ax.set_title(\"\")\n",
    "# plt.show()\n"
   ]
  },
  {
   "cell_type": "code",
   "execution_count": null,
   "metadata": {},
   "outputs": [],
   "source": []
  },
  {
   "cell_type": "code",
   "execution_count": null,
   "metadata": {},
   "outputs": [],
   "source": []
  }
 ],
 "metadata": {
  "kernelspec": {
   "display_name": "hydro-forecasting",
   "language": "python",
   "name": "python3"
  },
  "language_info": {
   "codemirror_mode": {
    "name": "ipython",
    "version": 3
   },
   "file_extension": ".py",
   "mimetype": "text/x-python",
   "name": "python",
   "nbconvert_exporter": "python",
   "pygments_lexer": "ipython3",
   "version": "3.12.8"
  }
 },
 "nbformat": 4,
 "nbformat_minor": 2
}
