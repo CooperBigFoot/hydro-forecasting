{
 "cells": [
  {
   "cell_type": "code",
   "execution_count": 1,
   "metadata": {},
   "outputs": [
    {
     "name": "stdout",
     "output_type": "stream",
     "text": [
      "Added /Users/cooper/Desktop/hydro-forecasting/src to Python path\n"
     ]
    }
   ],
   "source": [
    "import sys\n",
    "from pathlib import Path\n",
    "\n",
    "# Add src directory to Python path\n",
    "project_root = Path.cwd().parent  \n",
    "src_path = project_root / \"src\"\n",
    "if str(src_path) not in sys.path:\n",
    "    sys.path.insert(0, str(src_path))\n",
    "    print(f\"Added {src_path} to Python path\")\n"
   ]
  },
  {
   "cell_type": "code",
   "execution_count": 2,
   "metadata": {},
   "outputs": [],
   "source": [
    "from typing import Optional\n",
    "import matplotlib.pyplot as plt\n",
    "import seaborn as sns\n",
    "\n",
    "\n",
    "from hydro_forecasting.data.in_memory_datamodule import HydroInMemoryDataModule \n",
    "from hydro_forecasting.preprocessing.grouped import GroupedPipeline\n",
    "from sklearn.pipeline import Pipeline\n",
    "from hydro_forecasting.preprocessing.standard_scale import StandardScaleTransformer\n",
    "from hydro_forecasting.preprocessing.normalize import NormalizeTransformer\n",
    "from hydro_forecasting.data.caravanify_parquet import (\n",
    "    CaravanifyParquet,\n",
    "    CaravanifyParquetConfig,\n",
    ")\n",
    "\n",
    "from hydro_forecasting.models.tide import LitTiDE, TiDEConfig\n",
    "from hydro_forecasting.model_evaluation.hp_from_yaml import hp_from_yaml\n",
    "\n",
    "from hydro_forecasting.model_evaluation.evaluators import TSForecastEvaluator\n",
    "\n",
    "import polars as pl"
   ]
  },
  {
   "cell_type": "markdown",
   "metadata": {},
   "source": [
    "---"
   ]
  },
  {
   "cell_type": "code",
   "execution_count": 3,
   "metadata": {},
   "outputs": [],
   "source": [
    "FORCING_FEATURES = [\n",
    "    \"snow_depth_water_equivalent_mean\",\n",
    "    \"surface_net_solar_radiation_mean\",\n",
    "    \"surface_net_thermal_radiation_mean\",\n",
    "    \"potential_evaporation_sum_ERA5_LAND\",\n",
    "    \"potential_evaporation_sum_FAO_PENMAN_MONTEITH\",\n",
    "    \"temperature_2m_mean\",\n",
    "    \"temperature_2m_min\",\n",
    "    \"temperature_2m_max\",\n",
    "    \"total_precipitation_sum\",\n",
    "]\n",
    "STATIC_FEATURES = [\n",
    "    \"p_mean\",\n",
    "    \"area\",\n",
    "    \"ele_mt_sav\",\n",
    "    \"high_prec_dur\",\n",
    "    \"frac_snow\",\n",
    "    \"high_prec_freq\",\n",
    "    \"slp_dg_sav\",\n",
    "    \"cly_pc_sav\",\n",
    "    \"aridity_ERA5_LAND\",\n",
    "    \"aridity_FAO_PM\",\n",
    "]\n",
    "\n",
    "TARGET = \"streamflow\"\n",
    "\n",
    "DATA_CHUNK_SIZE = 100"
   ]
  },
  {
   "cell_type": "code",
   "execution_count": 4,
   "metadata": {},
   "outputs": [],
   "source": [
    "yaml_path = Path(\"/Users/cooper/Desktop/hydro-forecasting/notebooks/tide.yaml\")\n",
    "\n",
    "tide_hp = hp_from_yaml(\"tide\", yaml_path)"
   ]
  },
  {
   "cell_type": "code",
   "execution_count": 5,
   "metadata": {},
   "outputs": [
    {
     "data": {
      "text/plain": [
       "{'decoder_output_size': 24,\n",
       " 'dropout': 0.4040330172235821,\n",
       " 'future_forcing_projection_size': 0,\n",
       " 'future_input_size': 9,\n",
       " 'group_identifier': 'gauge_id',\n",
       " 'hidden_size': 110,\n",
       " 'input_len': 34,\n",
       " 'input_size': 10,\n",
       " 'learning_rate': 0.00029399848560567596,\n",
       " 'num_decoder_layers': 2,\n",
       " 'num_encoder_layers': 2,\n",
       " 'output_len': 10,\n",
       " 'past_feature_projection_size': 0,\n",
       " 'scheduler_factor': 0.5,\n",
       " 'scheduler_patience': 5,\n",
       " 'static_size': 10,\n",
       " 'temporal_decoder_hidden_size': 51,\n",
       " 'use_layer_norm': False}"
      ]
     },
     "execution_count": 5,
     "metadata": {},
     "output_type": "execute_result"
    }
   ],
   "source": [
    "tide_hp"
   ]
  },
  {
   "cell_type": "code",
   "execution_count": 6,
   "metadata": {},
   "outputs": [],
   "source": [
    "TiDE_config = TiDEConfig(**tide_hp)"
   ]
  },
  {
   "cell_type": "markdown",
   "metadata": {},
   "source": [
    "---"
   ]
  },
  {
   "cell_type": "code",
   "execution_count": 7,
   "metadata": {},
   "outputs": [],
   "source": [
    "config_ca = CaravanifyParquetConfig(\n",
    "    attributes_dir=\"/Users/cooper/Desktop/CaravanifyParquet/CA/post_processed/attributes\",\n",
    "    timeseries_dir=\"/Users/cooper/Desktop/CaravanifyParquet/CA/post_processed/timeseries/csv\",\n",
    "    shapefile_dir=\"/Users/cooper/Desktop/CAMELS-CH/data/CARAVANIFY/CA/post_processed/shapefiles\",\n",
    "    gauge_id_prefix=\"CA\",\n",
    "    use_hydroatlas_attributes=True,\n",
    "    use_caravan_attributes=True,\n",
    "    use_other_attributes=True,\n",
    ")\n",
    "\n",
    "caravan_ca = CaravanifyParquet(config_ca)\n",
    "basin_ids = caravan_ca.get_all_gauge_ids()\n",
    "\n",
    "\n",
    "caravan_ca.load_stations(basin_ids)\n",
    "\n",
    "# Prepare data frames\n",
    "ts_columns = FORCING_FEATURES + [TARGET]\n",
    "static_columns = STATIC_FEATURES\n",
    "\n",
    "ca_ts_data = caravan_ca.get_time_series()[ts_columns + [\"date\"] + [\"gauge_id\"]]\n",
    "ca_static_data = caravan_ca.get_static_attributes()[static_columns + [\"country\", \"gauge_id\"]]"
   ]
  },
  {
   "cell_type": "code",
   "execution_count": 8,
   "metadata": {},
   "outputs": [
    {
     "name": "stdout",
     "output_type": "stream",
     "text": [
      "Found 62 total CA basins in Kyrgyzstan\n"
     ]
    }
   ],
   "source": [
    "# ids for the COUUNTRY\n",
    "COUNTRY = \"Kyrgyzstan\"\n",
    "\n",
    "country_ids = ca_static_data[ca_static_data[\"country\"] == COUNTRY][\"gauge_id\"].unique()\n",
    "\n",
    "ca_ts_data = ca_ts_data[ca_ts_data[\"gauge_id\"].isin(country_ids)]\n",
    "ca_static_data = ca_static_data[ca_static_data[\"gauge_id\"].isin(country_ids)]\n",
    "\n",
    "print(f\"Found {len(country_ids)} total CA basins in {COUNTRY}\")"
   ]
  },
  {
   "cell_type": "markdown",
   "metadata": {},
   "source": [
    "---"
   ]
  },
  {
   "cell_type": "code",
   "execution_count": 9,
   "metadata": {},
   "outputs": [],
   "source": [
    "feature_pipeline = GroupedPipeline(\n",
    "    Pipeline([(\"scaler\", StandardScaleTransformer()), (\"normalizer\", NormalizeTransformer())]),\n",
    "    columns=FORCING_FEATURES,\n",
    "    group_identifier=\"gauge_id\",\n",
    ")\n",
    "\n",
    "target_pipeline = GroupedPipeline(\n",
    "    Pipeline([(\"scaler\", StandardScaleTransformer()), (\"normalizer\", NormalizeTransformer())]),\n",
    "    columns=[\"streamflow\"],\n",
    "    group_identifier=\"gauge_id\",\n",
    ")\n",
    "\n",
    "static_pipeline = Pipeline([(\"scaler\", StandardScaleTransformer())])\n",
    "\n",
    "preprocessing_config = {\n",
    "    \"features\": {\"pipeline\": feature_pipeline},\n",
    "    \"target\": {\"pipeline\": target_pipeline},\n",
    "    \"static_features\": {\"pipeline\": static_pipeline, \"columns\": STATIC_FEATURES},\n",
    "}"
   ]
  },
  {
   "cell_type": "code",
   "execution_count": 10,
   "metadata": {},
   "outputs": [
    {
     "name": "stderr",
     "output_type": "stream",
     "text": [
      "INFO:hydro_forecasting.data.in_memory_datamodule:Starting data preparation...\n",
      "INFO:hydro_forecasting.data.in_memory_datamodule:Generated Run UUID for current config: 49de962e-8aa5-5330-9a1d-d710c519668b\n",
      "INFO:hydro_forecasting.data.in_memory_datamodule:Checking for existing processed data at: /Users/cooper/Desktop/hydro-forecasting/tests/first_big_test/49de962e-8aa5-5330-9a1d-d710c519668b\n",
      "INFO:hydro_forecasting.data.in_memory_datamodule:Successfully validated and prepared to reuse data from /Users/cooper/Desktop/hydro-forecasting/tests/first_big_test/49de962e-8aa5-5330-9a1d-d710c519668b\n",
      "INFO:hydro_forecasting.data.in_memory_datamodule:Reusing existing processed data from run_uuid: 49de962e-8aa5-5330-9a1d-d710c519668b\n",
      "INFO:hydro_forecasting.data.in_memory_datamodule:Loaded 3 pipelines and data for 78 basins from reused run.\n",
      "INFO:hydro_forecasting.data.in_memory_datamodule:Found 78 basins for synchronized train/val chunking.\n",
      "INFO:hydro_forecasting.data.in_memory_datamodule:Found 78 basins for test split.\n",
      "INFO:hydro_forecasting.data.in_memory_datamodule:Data preparation finished.\n",
      "INFO:hydro_forecasting.data.in_memory_datamodule:Loading static data cache and converting to Tensors...\n",
      "INFO:hydro_forecasting.data.in_memory_datamodule:Loaded and tensorized static data for 78 basins.\n",
      "INFO:hydro_forecasting.data.in_memory_datamodule:Initializing and partitioning shared chunks from 78 basins.\n",
      "INFO:hydro_forecasting.data.in_memory_datamodule:Created 1 shared chunks.\n",
      "INFO:hydro_forecasting.data.in_memory_datamodule:Initial shared chunks: 1 chunks of approx size 100 from 78 basins.\n"
     ]
    }
   ],
   "source": [
    "region_time_series_base_dirs = {\n",
    "    \"CA\": \"/Users/cooper/Desktop/CaravanifyParquet/CA/post_processed/timeseries/csv/CA\",\n",
    "}\n",
    "\n",
    "region_static_attributes_base_dirs = {\n",
    "    \"CA\": \"/Users/cooper/Desktop/CaravanifyParquet/CA/post_processed/attributes/CA\",\n",
    "}\n",
    "\n",
    "datamodule = HydroInMemoryDataModule(\n",
    "    region_time_series_base_dirs=region_time_series_base_dirs,\n",
    "    region_static_attributes_base_dirs=region_static_attributes_base_dirs,\n",
    "    path_to_preprocessing_output_directory=\"/Users/cooper/Desktop/hydro-forecasting/tests/first_big_test\",\n",
    "    group_identifier=\"gauge_id\",\n",
    "    batch_size=2048,\n",
    "    input_length=tide_hp[\"input_len\"],\n",
    "    output_length=tide_hp[\"output_len\"],\n",
    "    forcing_features=FORCING_FEATURES,\n",
    "    static_features=STATIC_FEATURES,\n",
    "    target=TARGET,\n",
    "    preprocessing_configs=preprocessing_config,\n",
    "    num_workers=4,\n",
    "    min_train_years=1,\n",
    "    train_prop=0.5,\n",
    "    val_prop=0.1,\n",
    "    test_prop=0.4,\n",
    "    max_imputation_gap_size=5,\n",
    "    list_of_gauge_ids_to_process=basin_ids,\n",
    "    is_autoregressive=True,\n",
    "    chunk_size=DATA_CHUNK_SIZE,\n",
    ")\n",
    "\n",
    "datamodule.prepare_data()\n",
    "datamodule.setup()"
   ]
  },
  {
   "cell_type": "code",
   "execution_count": 11,
   "metadata": {},
   "outputs": [],
   "source": [
    "tide_benchmark_ckpt = \"/Users/cooper/Desktop/hydro-forecasting/experiments/TiDE_on_low_medium/output/checkpoints/last.ckpt\"\n",
    "\n",
    "tide_model = LitTiDE.load_from_checkpoint(\n",
    "    tide_benchmark_ckpt, config=TiDE_config\n",
    ")\n",
    "\n",
    "\n",
    "\n",
    "# Create a dictionary mapping model names to (model, datamodule) tuples\n",
    "models_and_datamodules = {\n",
    "    \"TiDE\": (tide_model, datamodule),\n",
    "\n",
    "}\n",
    "\n",
    "\n",
    "evaluator = TSForecastEvaluator(\n",
    "    horizons=list(range(1, 11)),\n",
    "    models_and_datamodules=models_and_datamodules,\n",
    "    trainer_kwargs={\"accelerator\": \"cpu\", \"devices\": 1},\n",
    ")"
   ]
  },
  {
   "cell_type": "code",
   "execution_count": 12,
   "metadata": {},
   "outputs": [
    {
     "name": "stderr",
     "output_type": "stream",
     "text": [
      "Using default `ModelCheckpoint`. Consider installing `litmodels` package to enable `LitModelCheckpoint` for automatic upload to the Lightning model registry.\n",
      "GPU available: True (mps), used: False\n",
      "TPU available: False, using: 0 TPU cores\n",
      "HPU available: False, using: 0 HPUs\n",
      "/Users/cooper/Desktop/hydro-forecasting/.venv/lib/python3.12/site-packages/pytorch_lightning/trainer/setup.py:177: GPU available but not used. You can set it by doing `Trainer(accelerator='gpu')`.\n",
      "INFO:hydro_forecasting.data.in_memory_datamodule:Data preparation has already run.\n"
     ]
    },
    {
     "name": "stdout",
     "output_type": "stream",
     "text": [
      "Testing TiDE...\n"
     ]
    },
    {
     "name": "stderr",
     "output_type": "stream",
     "text": [
      "INFO:hydro_forecasting.data.in_memory_datamodule:Loading test data for 78 basins...\n",
      "INFO:hydro_forecasting.data.in_memory_datamodule:Stage 'test' chunk data loaded. Shape: (199338, 12). Est. Mem: 9.13 MB\n",
      "/Users/cooper/Desktop/hydro-forecasting/.venv/lib/python3.12/site-packages/torch/utils/data/dataloader.py:683: UserWarning: 'pin_memory' argument is set as true but not supported on MPS now, then device pinned memory won't be used.\n",
      "  warnings.warn(warn_msg)\n"
     ]
    },
    {
     "name": "stdout",
     "output_type": "stream",
     "text": [
      "Testing DataLoader 0: 100%|██████████| 96/96 [00:02<00:00, 40.44it/s]\n",
      "────────────────────────────────────────────────────────────────────────────────────────────────────────────────────────\n",
      "       Test metric             DataLoader 0\n",
      "────────────────────────────────────────────────────────────────────────────────────────────────────────────────────────\n",
      "        test_loss           0.12294550985097885\n",
      "────────────────────────────────────────────────────────────────────────────────────────────────────────────────────────\n"
     ]
    }
   ],
   "source": [
    "# Run evaluation\n",
    "results = evaluator.test_models()"
   ]
  },
  {
   "cell_type": "code",
   "execution_count": 13,
   "metadata": {},
   "outputs": [],
   "source": [
    "import polars as pl\n",
    "from typing import Any\n",
    "\n",
    "\n",
    "def filter_growing_season_polars(eval_results: dict[str, Any]) -> dict[str, Any]:\n",
    "    \"\"\"\n",
    "    Filter evaluation results to include only data from the growing season (April to October), using Polars.\n",
    "\n",
    "    Args:\n",
    "        eval_results: dictionary containing evaluation results with a 'df' key,\n",
    "                      where 'df' is a Polars DataFrame.\n",
    "\n",
    "    Returns:\n",
    "        dictionary with filtered Polars DataFrame and original metrics.\n",
    "    \"\"\"\n",
    "    # Create a copy of the results to avoid modifying the original\n",
    "    filtered_results = eval_results.copy()\n",
    "\n",
    "    # Extract the Polars DataFrame\n",
    "    # Use clone() for a deep copy in Polars\n",
    "    df = eval_results[\"df\"].clone()\n",
    "\n",
    "    # Ensure 'date' column exists\n",
    "    if \"date\" not in df.columns:\n",
    "        raise ValueError(\"DataFrame must contain a 'date' column.\")\n",
    "\n",
    "    # Filter for growing season (April to October) using Polars expressions\n",
    "    # Month numbers are 1 (January) to 12 (December)\n",
    "    # Polars dt.month() returns month number\n",
    "    growing_season_df = df.filter(\n",
    "        (pl.col(\"date\").dt.month() >= 4)\n",
    "        & (pl.col(\"date\").dt.month() <= 9)  # Corrected to month < 10 (i.e. <=9 for April to September)\n",
    "        # If October is inclusive, it should be <= 10\n",
    "    )\n",
    "    # If your original code meant df[\"date\"].dt.month < 10 (i.e., up to and including September),\n",
    "    # then the condition should be (pl.col(\"date\").dt.month() >= 4) & (pl.col(\"date\").dt.month() < 10)\n",
    "    # I will use the original logic: April to September (month < 10)\n",
    "\n",
    "    growing_season_df = df.filter((pl.col(\"date\").dt.month() >= 4) & (pl.col(\"date\").dt.month() < 10))\n",
    "\n",
    "    # Replace the dataframe in the results\n",
    "    filtered_results[\"df\"] = growing_season_df\n",
    "\n",
    "    return filtered_results\n",
    "\n",
    "\n",
    "def process_seasonal_results_polars(\n",
    "    results: dict[str, Any],\n",
    "    evaluator: Any,  # Replace Any with the actual type of TSForecastEvaluator if available\n",
    "    model_keys: list[str] = None,\n",
    ") -> dict[str, Any]:\n",
    "    \"\"\"\n",
    "    Process specified model results to get seasonal metrics using Polars DataFrames.\n",
    "\n",
    "    Args:\n",
    "        results: dictionary containing results for all models.\n",
    "        evaluator: Evaluator object with _calculate_overall_metrics and\n",
    "                   _calculate_basin_metrics methods that can handle Polars DataFrames.\n",
    "                   (As per evaluators.py, these methods already use Polars)\n",
    "        model_keys: list of model keys to process. If None, process all keys in results.\n",
    "\n",
    "    Returns:\n",
    "        dictionary with seasonal results for the specified models.\n",
    "    \"\"\"\n",
    "    seasonal_results = {}\n",
    "\n",
    "    # If model_keys is not provided, use all keys in results\n",
    "    if model_keys is None:\n",
    "        model_keys = list(results.keys())  # Use list() for iteration if modifying dict\n",
    "\n",
    "    # Process each model\n",
    "    for key in model_keys:\n",
    "        # Skip if the key doesn't exist in results\n",
    "        if key not in results:\n",
    "            print(f\"Warning: Model key '{key}' not found in results. Skipping.\")\n",
    "            continue\n",
    "\n",
    "        # Filter for growing season using the Polars version\n",
    "        seasonal_model_results = filter_growing_season_polars(results[key])\n",
    "\n",
    "        # Calculate metrics\n",
    "        # Assuming _calculate_overall_metrics and _calculate_basin_metrics from\n",
    "        # TSForecastEvaluator already accept Polars DataFrames\n",
    "        seasonal_model_results[\"metrics\"] = evaluator._calculate_overall_metrics(seasonal_model_results[\"df\"])\n",
    "        seasonal_model_results[\"basin_metrics\"] = evaluator._calculate_basin_metrics(seasonal_model_results[\"df\"])\n",
    "\n",
    "        # Store in results dictionary\n",
    "        seasonal_results[key] = seasonal_model_results\n",
    "\n",
    "    return seasonal_results\n",
    "\n",
    "\n",
    "seasonal_results = process_seasonal_results_polars(results, evaluator, model_keys=[\"TiDE\"])"
   ]
  },
  {
   "cell_type": "code",
   "execution_count": 30,
   "metadata": {},
   "outputs": [
    {
     "data": {
      "text/html": [
       "<div><style>\n",
       ".dataframe > thead > tr,\n",
       ".dataframe > tbody > tr {\n",
       "  text-align: right;\n",
       "  white-space: pre-wrap;\n",
       "}\n",
       "</style>\n",
       "<small>shape: (1_958_778, 5)</small><table border=\"1\" class=\"dataframe\"><thead><tr><th>horizon</th><th>prediction</th><th>observed</th><th>basin_id</th><th>date</th></tr><tr><td>i32</td><td>f32</td><td>f32</td><td>str</td><td>datetime[μs]</td></tr></thead><tbody><tr><td>1</td><td>0.914055</td><td>0.6</td><td>&quot;CA_15013&quot;</td><td>2014-03-28 00:00:00</td></tr><tr><td>2</td><td>0.941474</td><td>0.6</td><td>&quot;CA_15013&quot;</td><td>2014-03-29 00:00:00</td></tr><tr><td>3</td><td>1.064199</td><td>0.67</td><td>&quot;CA_15013&quot;</td><td>2014-03-30 00:00:00</td></tr><tr><td>4</td><td>0.961026</td><td>0.8</td><td>&quot;CA_15013&quot;</td><td>2014-03-31 00:00:00</td></tr><tr><td>5</td><td>0.987981</td><td>0.99</td><td>&quot;CA_15013&quot;</td><td>2014-04-01 00:00:00</td></tr><tr><td>&hellip;</td><td>&hellip;</td><td>&hellip;</td><td>&hellip;</td><td>&hellip;</td></tr><tr><td>6</td><td>0.525883</td><td>0.5</td><td>&quot;CA_17462&quot;</td><td>2023-01-01 00:00:00</td></tr><tr><td>7</td><td>0.544142</td><td>0.5</td><td>&quot;CA_17462&quot;</td><td>2023-01-02 00:00:00</td></tr><tr><td>8</td><td>0.52171</td><td>0.5</td><td>&quot;CA_17462&quot;</td><td>2023-01-03 00:00:00</td></tr><tr><td>9</td><td>0.549406</td><td>0.5</td><td>&quot;CA_17462&quot;</td><td>2023-01-04 00:00:00</td></tr><tr><td>10</td><td>0.563552</td><td>0.5</td><td>&quot;CA_17462&quot;</td><td>2023-01-05 00:00:00</td></tr></tbody></table></div>"
      ],
      "text/plain": [
       "shape: (1_958_778, 5)\n",
       "┌─────────┬────────────┬──────────┬──────────┬─────────────────────┐\n",
       "│ horizon ┆ prediction ┆ observed ┆ basin_id ┆ date                │\n",
       "│ ---     ┆ ---        ┆ ---      ┆ ---      ┆ ---                 │\n",
       "│ i32     ┆ f32        ┆ f32      ┆ str      ┆ datetime[μs]        │\n",
       "╞═════════╪════════════╪══════════╪══════════╪═════════════════════╡\n",
       "│ 1       ┆ 0.914055   ┆ 0.6      ┆ CA_15013 ┆ 2014-03-28 00:00:00 │\n",
       "│ 2       ┆ 0.941474   ┆ 0.6      ┆ CA_15013 ┆ 2014-03-29 00:00:00 │\n",
       "│ 3       ┆ 1.064199   ┆ 0.67     ┆ CA_15013 ┆ 2014-03-30 00:00:00 │\n",
       "│ 4       ┆ 0.961026   ┆ 0.8      ┆ CA_15013 ┆ 2014-03-31 00:00:00 │\n",
       "│ 5       ┆ 0.987981   ┆ 0.99     ┆ CA_15013 ┆ 2014-04-01 00:00:00 │\n",
       "│ …       ┆ …          ┆ …        ┆ …        ┆ …                   │\n",
       "│ 6       ┆ 0.525883   ┆ 0.5      ┆ CA_17462 ┆ 2023-01-01 00:00:00 │\n",
       "│ 7       ┆ 0.544142   ┆ 0.5      ┆ CA_17462 ┆ 2023-01-02 00:00:00 │\n",
       "│ 8       ┆ 0.52171    ┆ 0.5      ┆ CA_17462 ┆ 2023-01-03 00:00:00 │\n",
       "│ 9       ┆ 0.549406   ┆ 0.5      ┆ CA_17462 ┆ 2023-01-04 00:00:00 │\n",
       "│ 10      ┆ 0.563552   ┆ 0.5      ┆ CA_17462 ┆ 2023-01-05 00:00:00 │\n",
       "└─────────┴────────────┴──────────┴──────────┴─────────────────────┘"
      ]
     },
     "execution_count": 30,
     "metadata": {},
     "output_type": "execute_result"
    }
   ],
   "source": [
    "df = results[\"TiDE\"][\"df\"]\n",
    "\n",
    "df = df.filter(\n",
    "    ~pl.col(\"prediction\").is_null() & \n",
    "    ~pl.col(\"prediction\").is_nan()\n",
    ")\n",
    "\n",
    "df"
   ]
  },
  {
   "cell_type": "code",
   "execution_count": 40,
   "metadata": {},
   "outputs": [],
   "source": [
    "def filter_by_horizon(df: pl.DataFrame , horizon_value: int) -> pl.DataFrame:\n",
    "    # Filter the DataFrame where horizon equals the specified value\n",
    "    filtered_df = df.filter(pl.col(\"horizon\") == horizon_value)\n",
    "    \n",
    "    return filtered_df\n",
    "\n",
    "df1 = filter_by_horizon(df, 5)"
   ]
  },
  {
   "cell_type": "code",
   "execution_count": 41,
   "metadata": {},
   "outputs": [
    {
     "data": {
      "text/plain": [
       "np.float32(-53.134224)"
      ]
     },
     "execution_count": 41,
     "metadata": {},
     "output_type": "execute_result"
    }
   ],
   "source": [
    "NSE = evaluator.calculate_nse(df1[\"prediction\"].to_numpy(), df1[\"observed\"].to_numpy())\n",
    "NSE"
   ]
  },
  {
   "cell_type": "code",
   "execution_count": 51,
   "metadata": {},
   "outputs": [
    {
     "data": {
      "image/png": "[encoded data removed]",
      "text/plain": [
       "<Figure size 1200x600 with 1 Axes>"
      ]
     },
     "metadata": {},
     "output_type": "display_data"
    }
   ],
   "source": [
    "import matplotlib.dates as mdates\n",
    "\n",
    "pdf = df1.filter(pl.col(\"basin_id\") == basin_ids[54]).sort(\"date\").to_pandas()\n",
    "\n",
    "# Create the plot\n",
    "plt.figure(figsize=(12, 6))\n",
    "\n",
    "# Plot both prediction and observed\n",
    "plt.plot(pdf['date'], pdf['prediction'], label='Prediction', color='blue')\n",
    "plt.plot(pdf['date'], pdf['observed'], label='Observed', color='red')\n",
    "\n",
    "# Add labels and title\n",
    "plt.xlabel('Date')\n",
    "plt.ylabel('Value')\n",
    "plt.title('Prediction vs Observed Values (Horizon = 1)')\n",
    "plt.legend()\n",
    "\n",
    "# Format x-axis date labels\n",
    "plt.gca().xaxis.set_major_formatter(mdates.DateFormatter('%Y-%m-%d'))\n",
    "plt.gca().xaxis.set_major_locator(mdates.AutoDateLocator())\n",
    "plt.gcf().autofmt_xdate()  # Rotate date labels for better readability\n",
    "\n",
    "# Add grid for better readability\n",
    "plt.grid(True, alpha=0.3)\n",
    "\n",
    "# Show the plot\n",
    "plt.tight_layout()\n",
    "plt.show()"
   ]
  },
  {
   "cell_type": "code",
   "execution_count": null,
   "metadata": {},
   "outputs": [],
   "source": []
  }
 ],
 "metadata": {
  "kernelspec": {
   "display_name": ".venv",
   "language": "python",
   "name": "python3"
  },
  "language_info": {
   "codemirror_mode": {
    "name": "ipython",
    "version": 3
   },
   "file_extension": ".py",
   "mimetype": "text/x-python",
   "name": "python",
   "nbconvert_exporter": "python",
   "pygments_lexer": "ipython3",
   "version": "3.12.8"
  }
 },
 "nbformat": 4,
 "nbformat_minor": 2
}
