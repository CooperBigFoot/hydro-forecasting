{
 "cells": [
  {
   "cell_type": "code",
   "execution_count": 1,
   "id": "f6ad31bd",
   "metadata": {},
   "outputs": [
    {
     "name": "stdout",
     "output_type": "stream",
     "text": [
      "Added /Users/cooper/Desktop/hydro-forecasting/src to Python path\n"
     ]
    }
   ],
   "source": [
    "import sys\n",
    "from pathlib import Path\n",
    "\n",
    "# Add src directory to Python path\n",
    "project_root = Path.cwd().parent  \n",
    "src_path = project_root / \"src\"\n",
    "if str(src_path) not in sys.path:\n",
    "    sys.path.insert(0, str(src_path))\n",
    "    print(f\"Added {src_path} to Python path\")\n"
   ]
  },
  {
   "cell_type": "code",
   "execution_count": 2,
   "id": "952cbf93",
   "metadata": {},
   "outputs": [],
   "source": [
    "import pandas as pd\n",
    "\n",
    "from hydro_forecasting.preprocessing.grouped import GroupedTransformer\n",
    "from sklearn.pipeline import Pipeline\n",
    "from hydro_forecasting.preprocessing.standard_scale import StandardScaleTransformer\n",
    "from hydro_forecasting.preprocessing.log_scale import LogTransformer\n",
    "from hydro_forecasting.data.preprocessing import run_hydro_processor"
   ]
  },
  {
   "cell_type": "markdown",
   "id": "24f5a601",
   "metadata": {},
   "source": [
    "---"
   ]
  },
  {
   "cell_type": "code",
   "execution_count": 3,
   "id": "074f2ca6",
   "metadata": {},
   "outputs": [],
   "source": [
    "feature_pipeline = GroupedTransformer(\n",
    "    Pipeline([(\"scaler\", StandardScaleTransformer())]),\n",
    "    columns=[\"total_precipitation_sum\", \"potential_evaporation_sum_ERA5_LAND\"],\n",
    "    group_identifier=\"gauge_id\",\n",
    ")\n",
    "\n",
    "target_pipeline = GroupedTransformer(\n",
    "    Pipeline([(\"scaler\", StandardScaleTransformer())]),\n",
    "    columns=[\"streamflow\"],\n",
    "    group_identifier=\"gauge_id\",\n",
    ")\n",
    "\n",
    "static_pipeline = Pipeline([(\"scaler\", StandardScaleTransformer())])\n",
    "\n",
    "preprocessing_config = {\n",
    "    \"features\": {\"pipeline\": feature_pipeline},\n",
    "    \"target\": {\"pipeline\": target_pipeline},\n",
    "    \"static_features\": {\"pipeline\": static_pipeline, \"columns\": [\"ele_mt_sav\"]},\n",
    "}"
   ]
  },
  {
   "cell_type": "code",
   "execution_count": 4,
   "id": "c00460ec",
   "metadata": {},
   "outputs": [
    {
     "data": {
      "text/plain": [
       "['total_precipitation_sum', 'potential_evaporation_sum_ERA5_LAND']"
      ]
     },
     "execution_count": 4,
     "metadata": {},
     "output_type": "execute_result"
    }
   ],
   "source": [
    "feature_pipeline.columns"
   ]
  },
  {
   "cell_type": "code",
   "execution_count": 5,
   "id": "896a636a",
   "metadata": {},
   "outputs": [
    {
     "name": "stdout",
     "output_type": "stream",
     "text": [
      "Found 3 basin files\n",
      "Loading caravan attributes from /Users/cooper/Desktop/CaravanifyParquet/CA/post_processed/attributes/CA/attributes_caravan_CA.parquet\n",
      "Loading hydroatlas attributes from /Users/cooper/Desktop/CaravanifyParquet/CA/post_processed/attributes/CA/attributes_hydroatlas_CA.parquet\n",
      "Loading other attributes from /Users/cooper/Desktop/CaravanifyParquet/CA/post_processed/attributes/CA/attributes_other_CA.parquet\n",
      "Merging 3 attribute DataFrames\n",
      "Loaded static attributes for 3 basins\n",
      "Fitting preprocessing pipelines on all basins...\n"
     ]
    },
    {
     "name": "stderr",
     "output_type": "stream",
     "text": [
      "Loading basin data for fitting: 100%|██████████| 78/78 [00:00<00:00, 263.93it/s]\n"
     ]
    },
    {
     "name": "stdout",
     "output_type": "stream",
     "text": [
      "Loaded 3 basins for pipeline fitting\n",
      "Split data into train (271191 rows), val (135581 rows), test (135656 rows)\n",
      "Fitted 3 pipelines\n"
     ]
    },
    {
     "name": "stderr",
     "output_type": "stream",
     "text": [
      "Processing basins: 100%|██████████| 3/3 [00:00<00:00,  4.36it/s]"
     ]
    },
    {
     "name": "stdout",
     "output_type": "stream",
     "text": [
      "Processing static attributes...\n",
      "Saved transformed static attributes for 2 basins to /Users/cooper/Desktop/CaravanifyParquet/CA/post_processed/timeseries/testing_run_hydro_processor/processed_static_data/static_attributes.parquet\n",
      "Processing complete. 2 basins retained out of 3.\n",
      "1 basins excluded due to quality issues.\n"
     ]
    },
    {
     "name": "stderr",
     "output_type": "stream",
     "text": [
      "\n"
     ]
    }
   ],
   "source": [
    "result = run_hydro_processor(\n",
    "    input_dir=\"/Users/cooper/Desktop/CaravanifyParquet/CA/post_processed/timeseries/csv/CA\",\n",
    "    output_dir=\"/Users/cooper/Desktop/CaravanifyParquet/CA/post_processed/timeseries/testing_run_hydro_processor\",\n",
    "    required_columns=[\"streamflow\", \"total_precipitation_sum\", \"potential_evaporation_sum_ERA5_LAND\"],\n",
    "    preprocessing_config=preprocessing_config,\n",
    "    static_dir=\"/Users/cooper/Desktop/CaravanifyParquet/CA/post_processed/attributes/CA\",\n",
    "    processes=8,\n",
    "    basin_ids=[\"CA_15030\", \"CA_15013\", \"CA_15014\", \"CA_15015\", \"CA_15016\", \"CA_15017\", \"CA_15018\", \"CA_15019\"],\n",
    ")\n",
    "\n",
    "# Access the results\n",
    "quality_report = result[\"quality_report\"]\n",
    "fitted_pipelines = result[\"fitted_pipelines\"]\n",
    "processed_dir = result[\"processed_dir\"]"
   ]
  },
  {
   "cell_type": "code",
   "execution_count": 6,
   "id": "348301e1",
   "metadata": {},
   "outputs": [
    {
     "data": {
      "text/plain": [
       "{'features': GroupedTransformer(columns=['total_precipitation_sum',\n",
       "                             'potential_evaporation_sum_ERA5_LAND'],\n",
       "                    group_identifier='gauge_id',\n",
       "                    pipeline=Pipeline(steps=[('scaler',\n",
       "                                              StandardScaleTransformer())])),\n",
       " 'target': GroupedTransformer(columns=['streamflow'], group_identifier='gauge_id',\n",
       "                    pipeline=Pipeline(steps=[('scaler',\n",
       "                                              StandardScaleTransformer())])),\n",
       " 'static': Pipeline(steps=[('scaler', StandardScaleTransformer())])}"
      ]
     },
     "execution_count": 6,
     "metadata": {},
     "output_type": "execute_result"
    }
   ],
   "source": [
    "fitted_pipelines"
   ]
  },
  {
   "cell_type": "markdown",
   "id": "acfd7ba8",
   "metadata": {},
   "source": [
    "## Checking if it worked:"
   ]
  },
  {
   "cell_type": "code",
   "execution_count": 7,
   "id": "826c4826",
   "metadata": {},
   "outputs": [
    {
     "name": "stdout",
     "output_type": "stream",
     "text": [
      "CA_15013.parquet\n",
      "CA_15016.parquet\n"
     ]
    }
   ],
   "source": [
    "input_dir = Path(\n",
    "    \"/Users/cooper/Desktop/CaravanifyParquet/CA/post_processed/timeseries/csv/CA\"\n",
    ")\n",
    "output_dir = Path(\n",
    "    \"/Users/cooper/Desktop/CaravanifyParquet/CA/post_processed/timeseries/testing_run_hydro_processor/processed_data\"\n",
    ")\n",
    "\n",
    "# List the files in the output directory\n",
    "for file in output_dir.iterdir():\n",
    "    print(file.name)\n"
   ]
  },
  {
   "cell_type": "code",
   "execution_count": 8,
   "id": "0ca69ef5",
   "metadata": {},
   "outputs": [
    {
     "data": {
      "text/plain": [
       "array(['CA_15013', 'CA_15016'], dtype=object)"
      ]
     },
     "execution_count": 8,
     "metadata": {},
     "output_type": "execute_result"
    }
   ],
   "source": [
    "data = pd.read_parquet(\n",
    "    \"/Users/cooper/Desktop/CaravanifyParquet/CA/post_processed/timeseries/testing_run_hydro_processor/processed_static_data/static_attributes.parquet\"\n",
    ")\n",
    "\n",
    "data[\"gauge_id\"].unique()"
   ]
  },
  {
   "cell_type": "code",
   "execution_count": null,
   "id": "94349af3",
   "metadata": {},
   "outputs": [],
   "source": []
  }
 ],
 "metadata": {
  "kernelspec": {
   "display_name": ".venv",
   "language": "python",
   "name": "python3"
  },
  "language_info": {
   "codemirror_mode": {
    "name": "ipython",
    "version": 3
   },
   "file_extension": ".py",
   "mimetype": "text/x-python",
   "name": "python",
   "nbconvert_exporter": "python",
   "pygments_lexer": "ipython3",
   "version": "3.12.8"
  }
 },
 "nbformat": 4,
 "nbformat_minor": 5
}
