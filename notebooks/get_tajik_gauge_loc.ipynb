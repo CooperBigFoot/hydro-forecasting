{
 "cells": [
  {
   "cell_type": "code",
   "execution_count": 1,
   "id": "758368f7",
   "metadata": {},
   "outputs": [
    {
     "name": "stdout",
     "output_type": "stream",
     "text": [
      "Added /Users/cooper/Desktop/hydro-forecasting/src to Python path\n"
     ]
    }
   ],
   "source": [
    "import sys\n",
    "from pathlib import Path\n",
    "\n",
    "# Add src directory to Python path\n",
    "project_root = Path.cwd().parent\n",
    "src_path = project_root / \"src\"\n",
    "if str(src_path) not in sys.path:\n",
    "    sys.path.insert(0, str(src_path))\n",
    "    print(f\"Added {src_path} to Python path\")"
   ]
  },
  {
   "cell_type": "code",
   "execution_count": 2,
   "id": "650b4eb3",
   "metadata": {},
   "outputs": [],
   "source": [
    "import geopandas as gpd\n",
    "from shapely.geometry import Point\n",
    "\n",
    "from hydro_forecasting.data.caravanify_parquet import CaravanifyParquet, CaravanifyParquetConfig"
   ]
  },
  {
   "cell_type": "markdown",
   "id": "cab5bcd4",
   "metadata": {},
   "source": [
    "---"
   ]
  },
  {
   "cell_type": "code",
   "execution_count": 3,
   "id": "509e4a13",
   "metadata": {},
   "outputs": [],
   "source": [
    "def load_basin_ids(country: str) -> list[str]:\n",
    "    \"\"\"\n",
    "    Function to load basins for a given country in Central Asia\n",
    "    \"\"\"\n",
    "    # Make country lowercase and make the first letter uppercase\n",
    "    country = country.lower()\n",
    "    country = country.capitalize()\n",
    "\n",
    "    if country != \"Tajikistan\" and country != \"Kyrgyzstan\":\n",
    "        print(\"Country not supported\")\n",
    "        return []\n",
    "\n",
    "    configs = CaravanifyParquetConfig(\n",
    "        attributes_dir=\"/Users/cooper/Desktop/CaravanifyParquet/CA/post_processed/attributes\",\n",
    "        timeseries_dir=\"/Users/cooper/Desktop/CaravanifyParquet/CA/post_processed/timeseries/csv\",\n",
    "        gauge_id_prefix=\"CA\",\n",
    "        use_hydroatlas_attributes=True,\n",
    "        use_caravan_attributes=True,\n",
    "        use_other_attributes=True,\n",
    "    )\n",
    "\n",
    "    caravan = CaravanifyParquet(configs)\n",
    "    ca_basins = caravan.get_all_gauge_ids()\n",
    "    caravan.load_stations(ca_basins)\n",
    "    static_data = caravan.get_static_attributes()\n",
    "\n",
    "    return list(static_data[static_data[\"country\"] == country][\"gauge_id\"].unique())\n",
    "\n",
    "\n",
    "basin_ids = load_basin_ids(\"kyrgyzstan\")"
   ]
  },
  {
   "cell_type": "code",
   "execution_count": 4,
   "id": "08cd2fe3",
   "metadata": {},
   "outputs": [],
   "source": [
    "config_ca = CaravanifyParquetConfig(\n",
    "    attributes_dir=\"/Users/cooper/Desktop/CaravanifyParquet/CA/post_processed/attributes\",\n",
    "    timeseries_dir=\"/Users/cooper/Desktop/CaravanifyParquet/CA/post_processed/timeseries/csv\",\n",
    "    shapefile_dir=\"/Users/cooper/Desktop/CAMELS-CH/data/CARAVANIFY/CA/post_processed/shapefiles\",\n",
    "    gauge_id_prefix=\"CA\",\n",
    "    use_hydroatlas_attributes=True,\n",
    "    use_caravan_attributes=True,\n",
    "    use_other_attributes=True,\n",
    ")\n",
    "\n",
    "caravan_ca = CaravanifyParquet(config_ca)\n",
    "caravan_ca.load_stations(basin_ids)\n",
    "\n",
    "static = caravan_ca.get_static_attributes()"
   ]
  },
  {
   "cell_type": "code",
   "execution_count": 5,
   "id": "7041c769",
   "metadata": {},
   "outputs": [
    {
     "data": {
      "text/html": [
       "<div>\n",
       "<style scoped>\n",
       "    .dataframe tbody tr th:only-of-type {\n",
       "        vertical-align: middle;\n",
       "    }\n",
       "\n",
       "    .dataframe tbody tr th {\n",
       "        vertical-align: top;\n",
       "    }\n",
       "\n",
       "    .dataframe thead th {\n",
       "        text-align: right;\n",
       "    }\n",
       "</style>\n",
       "<table border=\"1\" class=\"dataframe\">\n",
       "  <thead>\n",
       "    <tr style=\"text-align: right;\">\n",
       "      <th></th>\n",
       "      <th>gauge_id</th>\n",
       "      <th>gauge_lat</th>\n",
       "      <th>gauge_lon</th>\n",
       "    </tr>\n",
       "  </thead>\n",
       "  <tbody>\n",
       "    <tr>\n",
       "      <th>0</th>\n",
       "      <td>CA_15013</td>\n",
       "      <td>42.652788</td>\n",
       "      <td>78.921090</td>\n",
       "    </tr>\n",
       "    <tr>\n",
       "      <th>1</th>\n",
       "      <td>CA_15016</td>\n",
       "      <td>42.585012</td>\n",
       "      <td>78.883448</td>\n",
       "    </tr>\n",
       "    <tr>\n",
       "      <th>2</th>\n",
       "      <td>CA_15020</td>\n",
       "      <td>42.471215</td>\n",
       "      <td>78.531209</td>\n",
       "    </tr>\n",
       "    <tr>\n",
       "      <th>3</th>\n",
       "      <td>CA_15022</td>\n",
       "      <td>42.467058</td>\n",
       "      <td>78.537862</td>\n",
       "    </tr>\n",
       "    <tr>\n",
       "      <th>4</th>\n",
       "      <td>CA_15025</td>\n",
       "      <td>42.424441</td>\n",
       "      <td>78.434206</td>\n",
       "    </tr>\n",
       "    <tr>\n",
       "      <th>...</th>\n",
       "      <td>...</td>\n",
       "      <td>...</td>\n",
       "      <td>...</td>\n",
       "    </tr>\n",
       "    <tr>\n",
       "      <th>57</th>\n",
       "      <td>CA_16169</td>\n",
       "      <td>40.182493</td>\n",
       "      <td>72.081291</td>\n",
       "    </tr>\n",
       "    <tr>\n",
       "      <th>58</th>\n",
       "      <td>CA_16176</td>\n",
       "      <td>41.598136</td>\n",
       "      <td>71.655836</td>\n",
       "    </tr>\n",
       "    <tr>\n",
       "      <th>59</th>\n",
       "      <td>CA_16487</td>\n",
       "      <td>40.638926</td>\n",
       "      <td>73.691057</td>\n",
       "    </tr>\n",
       "    <tr>\n",
       "      <th>60</th>\n",
       "      <td>CA_16510</td>\n",
       "      <td>40.116804</td>\n",
       "      <td>71.719305</td>\n",
       "    </tr>\n",
       "    <tr>\n",
       "      <th>61</th>\n",
       "      <td>CA_17462</td>\n",
       "      <td>39.548105</td>\n",
       "      <td>72.169025</td>\n",
       "    </tr>\n",
       "  </tbody>\n",
       "</table>\n",
       "<p>62 rows × 3 columns</p>\n",
       "</div>"
      ],
      "text/plain": [
       "    gauge_id  gauge_lat  gauge_lon\n",
       "0   CA_15013  42.652788  78.921090\n",
       "1   CA_15016  42.585012  78.883448\n",
       "2   CA_15020  42.471215  78.531209\n",
       "3   CA_15022  42.467058  78.537862\n",
       "4   CA_15025  42.424441  78.434206\n",
       "..       ...        ...        ...\n",
       "57  CA_16169  40.182493  72.081291\n",
       "58  CA_16176  41.598136  71.655836\n",
       "59  CA_16487  40.638926  73.691057\n",
       "60  CA_16510  40.116804  71.719305\n",
       "61  CA_17462  39.548105  72.169025\n",
       "\n",
       "[62 rows x 3 columns]"
      ]
     },
     "execution_count": 5,
     "metadata": {},
     "output_type": "execute_result"
    }
   ],
   "source": [
    "static = static[[\"gauge_id\", \"gauge_lat\", \"gauge_lon\"]]\n",
    "static"
   ]
  },
  {
   "cell_type": "code",
   "execution_count": 6,
   "id": "5a53665c",
   "metadata": {},
   "outputs": [],
   "source": [
    "geometry = [Point(lon, lat) for lon, lat in zip(static[\"gauge_lon\"], static[\"gauge_lat\"], strict=False)]\n",
    "\n",
    "# Create GeoDataFrame\n",
    "gdf = gpd.GeoDataFrame(static, geometry=geometry, crs=\"EPSG:4326\")\n",
    "\n",
    "# Write to shapefile\n",
    "gdf.to_file(f\"/Users/cooper/Desktop/kazakhstan-data/shapefiles/test_tajik/{'kyrgyzstan'}_gauge_locations.shp\")"
   ]
  },
  {
   "cell_type": "code",
   "execution_count": 7,
   "id": "723bed10",
   "metadata": {},
   "outputs": [
    {
     "name": "stdout",
     "output_type": "stream",
     "text": [
      "EPSG:4326\n"
     ]
    }
   ],
   "source": [
    "shapefiles = caravan_ca.get_shapefiles()\n",
    "shapefiles = shapefiles[shapefiles[\"gauge_id\"].isin(basin_ids)]\n",
    "\n",
    "# Print crs\n",
    "print(shapefiles.crs)\n",
    "\n",
    "\n",
    "# Write to shapefile\n",
    "shapefiles.to_file(f\"/Users/cooper/Desktop/kazakhstan-data/shapefiles/test_tajik/{'kyrgyzstan'}_basins.shp\")"
   ]
  },
  {
   "cell_type": "code",
   "execution_count": null,
   "id": "8f880ecd",
   "metadata": {},
   "outputs": [],
   "source": []
  }
 ],
 "metadata": {
  "kernelspec": {
   "display_name": "hydro-forecasting",
   "language": "python",
   "name": "python3"
  },
  "language_info": {
   "codemirror_mode": {
    "name": "ipython",
    "version": 3
   },
   "file_extension": ".py",
   "mimetype": "text/x-python",
   "name": "python",
   "nbconvert_exporter": "python",
   "pygments_lexer": "ipython3",
   "version": "3.12.8"
  }
 },
 "nbformat": 4,
 "nbformat_minor": 5
}
