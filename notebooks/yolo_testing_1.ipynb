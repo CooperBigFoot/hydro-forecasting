{
 "cells": [
  {
   "cell_type": "code",
   "execution_count": 1,
   "id": "9308b178",
   "metadata": {},
   "outputs": [
    {
     "name": "stdout",
     "output_type": "stream",
     "text": [
      "Added /Users/cooper/Desktop/hydro-forecasting/src to Python path\n"
     ]
    }
   ],
   "source": [
    "import sys\n",
    "from pathlib import Path\n",
    "\n",
    "# Add src directory to Python path\n",
    "project_root = Path.cwd().parent  \n",
    "src_path = project_root / \"src\"\n",
    "if str(src_path) not in sys.path:\n",
    "    sys.path.insert(0, str(src_path))\n",
    "    print(f\"Added {src_path} to Python path\")\n"
   ]
  },
  {
   "cell_type": "code",
   "execution_count": 2,
   "id": "2caabe24",
   "metadata": {},
   "outputs": [],
   "source": [
    "from hydro_forecasting.data.in_memory_datamodule import HydroInMemoryDataModule \n",
    "from hydro_forecasting.preprocessing.grouped import GroupedPipeline\n",
    "from sklearn.pipeline import Pipeline\n",
    "from hydro_forecasting.preprocessing.standard_scale import StandardScaleTransformer\n",
    "from hydro_forecasting.preprocessing.normalize import NormalizeTransformer\n",
    "from hydro_forecasting.data.caravanify_parquet import (\n",
    "    CaravanifyParquet,\n",
    "    CaravanifyParquetConfig,\n",
    ")\n",
    "\n",
    "from hydro_forecasting.models.tide import LitTiDE, TiDEConfig\n",
    "from hydro_forecasting.model_evaluation.hp_from_yaml import hp_from_yaml\n",
    "\n",
    "from hydro_forecasting.model_evaluation.evaluators import TSForecastEvaluator\n",
    "\n",
    "import polars as pl"
   ]
  },
  {
   "cell_type": "markdown",
   "id": "a545d504",
   "metadata": {},
   "source": [
    "---"
   ]
  },
  {
   "cell_type": "code",
   "execution_count": 3,
   "id": "0df5d83c",
   "metadata": {},
   "outputs": [
    {
     "data": {
      "text/plain": [
       "{'decoder_output_size': 24,\n",
       " 'dropout': 0.4040330172235821,\n",
       " 'future_forcing_projection_size': 0,\n",
       " 'future_input_size': 9,\n",
       " 'group_identifier': 'gauge_id',\n",
       " 'hidden_size': 110,\n",
       " 'input_len': 34,\n",
       " 'input_size': 10,\n",
       " 'learning_rate': 0.00029399848560567596,\n",
       " 'num_decoder_layers': 2,\n",
       " 'num_encoder_layers': 2,\n",
       " 'output_len': 10,\n",
       " 'past_feature_projection_size': 0,\n",
       " 'scheduler_factor': 0.5,\n",
       " 'scheduler_patience': 5,\n",
       " 'static_size': 10,\n",
       " 'temporal_decoder_hidden_size': 51,\n",
       " 'use_layer_norm': False}"
      ]
     },
     "execution_count": 3,
     "metadata": {},
     "output_type": "execute_result"
    }
   ],
   "source": [
    "yaml_path = Path(\"/Users/cooper/Desktop/hydro-forecasting/notebooks/tide.yaml\")\n",
    "\n",
    "tide_hp = hp_from_yaml(\"tide\", yaml_path)\n",
    "tide_hp"
   ]
  },
  {
   "cell_type": "code",
   "execution_count": 4,
   "id": "a0bd441f",
   "metadata": {},
   "outputs": [],
   "source": [
    "config_ca = CaravanifyParquetConfig(\n",
    "    attributes_dir=\"/Users/cooper/Desktop/CaravanifyParquet/CA/post_processed/attributes\",\n",
    "    timeseries_dir=\"/Users/cooper/Desktop/CaravanifyParquet/CA/post_processed/timeseries/csv\",\n",
    "    shapefile_dir=\"/Users/cooper/Desktop/CAMELS-CH/data/CARAVANIFY/CA/post_processed/shapefiles\",\n",
    "    gauge_id_prefix=\"CA\",\n",
    "    use_hydroatlas_attributes=True,\n",
    "    use_caravan_attributes=True,\n",
    "    use_other_attributes=True,\n",
    ")\n",
    "\n",
    "caravan_ca = CaravanifyParquet(config_ca)\n",
    "basin_ids = caravan_ca.get_all_gauge_ids()[:50]\n",
    "\n",
    "# basin_ids = [bid for bid in basin_ids if bid != \"CA_15030\"]\n",
    "\n",
    "caravan_ca.load_stations(basin_ids)"
   ]
  },
  {
   "cell_type": "code",
   "execution_count": 5,
   "id": "6f1055a6",
   "metadata": {},
   "outputs": [],
   "source": [
    "config_us = CaravanifyParquetConfig(\n",
    "    attributes_dir=\"/Users/cooper/Desktop/CaravanifyParquet/USA/post_processed/attributes\",\n",
    "    timeseries_dir=\"/Users/cooper/Desktop/CaravanifyParquet/USA/post_processed/timeseries/csv\",\n",
    "    shapefile_dir=\"/Users/cooper/Desktop/CAMELS-CH/data/CARAVANIFY/USA/post_processed/shapefiles\",\n",
    "    gauge_id_prefix=\"USA\",\n",
    "    use_hydroatlas_attributes=True,\n",
    "    use_caravan_attributes=True,\n",
    "    use_other_attributes=True,\n",
    ")\n",
    "\n",
    "caravan_us = CaravanifyParquet(config_us)\n",
    "basin_ids += caravan_us.get_all_gauge_ids()[:50]"
   ]
  },
  {
   "cell_type": "code",
   "execution_count": 6,
   "id": "8755a7a9",
   "metadata": {},
   "outputs": [],
   "source": [
    "forcing_features = [\n",
    "    \"snow_depth_water_equivalent_mean\",\n",
    "    \"surface_net_solar_radiation_mean\",\n",
    "    \"surface_net_thermal_radiation_mean\",\n",
    "    \"potential_evaporation_sum_ERA5_LAND\",\n",
    "    \"potential_evaporation_sum_FAO_PENMAN_MONTEITH\",\n",
    "    \"temperature_2m_mean\",\n",
    "    \"temperature_2m_min\",\n",
    "    \"temperature_2m_max\",\n",
    "    \"total_precipitation_sum\",\n",
    "]\n",
    "\n",
    "static_features = [\n",
    "    \"p_mean\",\n",
    "    \"area\",\n",
    "    \"ele_mt_sav\",\n",
    "    \"high_prec_dur\",\n",
    "    \"frac_snow\",\n",
    "    \"high_prec_freq\",\n",
    "    \"slp_dg_sav\",\n",
    "    \"cly_pc_sav\",\n",
    "    \"aridity_ERA5_LAND\",\n",
    "    \"aridity_FAO_PM\",\n",
    "]\n",
    "\n",
    "target = \"streamflow\""
   ]
  },
  {
   "cell_type": "code",
   "execution_count": 7,
   "id": "9b02753c",
   "metadata": {},
   "outputs": [],
   "source": [
    "feature_pipeline = GroupedPipeline(\n",
    "    Pipeline(\n",
    "        [(\"scaler\", StandardScaleTransformer()), (\"normalizer\", NormalizeTransformer())]\n",
    "    ),\n",
    "    columns=forcing_features,\n",
    "    group_identifier=\"gauge_id\",\n",
    ")\n",
    "\n",
    "target_pipeline = GroupedPipeline(\n",
    "    Pipeline(\n",
    "        [(\"scaler\", StandardScaleTransformer()), (\"normalizer\", NormalizeTransformer())]\n",
    "    ),\n",
    "    columns=[\"streamflow\"],\n",
    "    group_identifier=\"gauge_id\",\n",
    ")\n",
    "\n",
    "static_pipeline = Pipeline([(\"scaler\", StandardScaleTransformer())])\n",
    "\n",
    "preprocessing_config = {\n",
    "    \"features\": {\"pipeline\": feature_pipeline},\n",
    "    \"target\": {\"pipeline\": target_pipeline},\n",
    "    \"static_features\": {\"pipeline\": static_pipeline, \"columns\": static_features},\n",
    "}"
   ]
  },
  {
   "cell_type": "code",
   "execution_count": 8,
   "id": "34197fe1",
   "metadata": {},
   "outputs": [
    {
     "name": "stderr",
     "output_type": "stream",
     "text": [
      "INFO:hydro_forecasting.data.in_memory_datamodule:Starting data preparation...\n",
      "INFO:hydro_forecasting.data.in_memory_datamodule:Generated Run UUID for current config: 0d341a2f-a666-5857-9d89-0b60c95707e7\n",
      "INFO:hydro_forecasting.data.in_memory_datamodule:Checking for existing processed data at: /Users/cooper/Desktop/hydro-forecasting/tests/yolo_6/0d341a2f-a666-5857-9d89-0b60c95707e7\n",
      "INFO:hydro_forecasting.data.in_memory_datamodule:Successfully validated and prepared to reuse data from /Users/cooper/Desktop/hydro-forecasting/tests/yolo_6/0d341a2f-a666-5857-9d89-0b60c95707e7\n",
      "INFO:hydro_forecasting.data.in_memory_datamodule:Reusing existing processed data from run_uuid: 0d341a2f-a666-5857-9d89-0b60c95707e7\n",
      "INFO:hydro_forecasting.data.in_memory_datamodule:Loaded 3 pipelines and data for 99 basins from reused run.\n",
      "INFO:hydro_forecasting.data.in_memory_datamodule:Found 99 basins for synchronized train/val chunking.\n",
      "INFO:hydro_forecasting.data.in_memory_datamodule:Found 99 basins for test split.\n",
      "INFO:hydro_forecasting.data.in_memory_datamodule:Data preparation finished.\n",
      "INFO:hydro_forecasting.data.in_memory_datamodule:Loading static data cache and converting to Tensors...\n",
      "INFO:hydro_forecasting.data.in_memory_datamodule:Loaded and tensorized static data for 100 basins.\n",
      "INFO:hydro_forecasting.data.in_memory_datamodule:Initializing and partitioning shared chunks from 99 basins.\n",
      "INFO:hydro_forecasting.data.in_memory_datamodule:Created 10 shared chunks.\n",
      "INFO:hydro_forecasting.data.in_memory_datamodule:Initial shared chunks: 10 chunks of approx size 10 from 99 basins.\n"
     ]
    }
   ],
   "source": [
    "region_time_series_base_dirs = {\n",
    "    \"CA\": \"/Users/cooper/Desktop/CaravanifyParquet/CA/post_processed/timeseries/csv/CA\",\n",
    "    \"USA\": \"/Users/cooper/Desktop/CaravanifyParquet/USA/post_processed/timeseries/csv/USA\",\n",
    "}\n",
    "\n",
    "region_static_attributes_base_dirs = {\n",
    "    \"CA\": \"/Users/cooper/Desktop/CaravanifyParquet/CA/post_processed/attributes/CA\",\n",
    "    \"USA\": \"/Users/cooper/Desktop/CaravanifyParquet/USA/post_processed/attributes/USA\",\n",
    "}\n",
    "\n",
    "DATA_CHUNK_SIZE = 10\n",
    "\n",
    "datamodule = HydroInMemoryDataModule(\n",
    "    region_time_series_base_dirs=region_time_series_base_dirs,\n",
    "    region_static_attributes_base_dirs=region_static_attributes_base_dirs,\n",
    "    path_to_preprocessing_output_directory=\"/Users/cooper/Desktop/hydro-forecasting/tests/yolo_6\",\n",
    "    group_identifier=\"gauge_id\",\n",
    "    batch_size=2048,\n",
    "    input_length=tide_hp[\"input_len\"],\n",
    "    output_length=tide_hp[\"output_len\"],\n",
    "    forcing_features=forcing_features,\n",
    "    static_features=static_features,\n",
    "    target=target,\n",
    "    preprocessing_configs=preprocessing_config,\n",
    "    num_workers=4,\n",
    "    min_train_years=5,\n",
    "    train_prop=0.5,\n",
    "    val_prop=0.25,\n",
    "    test_prop=0.25,\n",
    "    max_imputation_gap_size=5,\n",
    "    list_of_gauge_ids_to_process=basin_ids,\n",
    "    is_autoregressive=True,\n",
    "    chunk_size=DATA_CHUNK_SIZE,\n",
    ")\n",
    "\n",
    "datamodule.prepare_data()\n",
    "datamodule.setup()"
   ]
  },
  {
   "cell_type": "code",
   "execution_count": 9,
   "id": "a29347d0",
   "metadata": {},
   "outputs": [
    {
     "name": "stderr",
     "output_type": "stream",
     "text": [
      "INFO:hydro_forecasting.data.in_memory_datamodule:Epoch 0: Train Dataloader using chunk 1/10 with 10 basins.\n",
      "INFO:hydro_forecasting.data.in_memory_datamodule:Stage 'train' chunk data loaded. Shape: (36961, 12). Est. Mem: 1.69 MB\n"
     ]
    }
   ],
   "source": [
    "dataloader = datamodule.get_train_dataloader()\n",
    "\n",
    "dataset = dataloader.dataset"
   ]
  },
  {
   "cell_type": "code",
   "execution_count": 10,
   "id": "b46d6610",
   "metadata": {},
   "outputs": [
    {
     "data": {
      "text/plain": [
       "{'date': tensor([1009929600000, 1010016000000, 1010102400000,  ...,\n",
       "         1396137600000, 1396224000000, 1396310400000]),\n",
       " 'potential_evaporation_sum_ERA5_LAND': tensor([-1.3762, -1.3573, -1.3290,  ..., -0.2902, -0.1430, -0.2859]),\n",
       " 'potential_evaporation_sum_FAO_PENMAN_MONTEITH': tensor([-1.3927, -1.2651, -1.1412,  ..., -0.9377, -0.7412, -0.6484]),\n",
       " 'snow_depth_water_equivalent_mean': tensor([0.5987, 0.5974, 0.5953,  ..., 0.2488, 0.2463, 0.2429]),\n",
       " 'streamflow': tensor([-1.0689, -1.0982, -1.0982,  ..., -0.9363, -0.9363, -0.9205]),\n",
       " 'surface_net_solar_radiation_mean': tensor([-1.3116, -1.2922, -1.3090,  ..., -0.3920, -0.2534, -0.2402]),\n",
       " 'surface_net_thermal_radiation_mean': tensor([-0.2003,  0.1251,  0.8931,  ..., -0.3368, -0.8765, -0.5863]),\n",
       " 'temperature_2m_max': tensor([-0.6831, -0.5973, -0.5204,  ..., -0.2634, -0.0865, -0.0651]),\n",
       " 'temperature_2m_mean': tensor([-0.6354, -0.4756, -0.3802,  ..., -0.3848, -0.2733, -0.1769]),\n",
       " 'temperature_2m_min': tensor([-0.5037, -0.2652, -0.1486,  ..., -0.6190, -0.5211, -0.4092]),\n",
       " 'total_precipitation_sum': tensor([-1.3001, -1.3001, -1.2258,  ..., -0.9126, -1.0497, -1.0497])}"
      ]
     },
     "execution_count": 10,
     "metadata": {},
     "output_type": "execute_result"
    }
   ],
   "source": [
    "dataset.chunk_column_tensors"
   ]
  },
  {
   "cell_type": "markdown",
   "id": "2cc06754",
   "metadata": {},
   "source": [
    "## Verify static data"
   ]
  },
  {
   "cell_type": "code",
   "execution_count": 11,
   "id": "6a807898",
   "metadata": {},
   "outputs": [],
   "source": [
    "# test_dataset = datamodule.test_dataset\n",
    "# if not test_dataset:\n",
    "#     print(\"Test dataset not found.\")\n",
    "# elif len(test_dataset) == 0:\n",
    "#     print(\"Test dataset is empty.\")\n",
    "# else:\n",
    "#     print(f\"Test dataset size: {len(test_dataset)}\")\n",
    "#     # --- Get a Sample ---\n",
    "#     sample_index = 1654\n",
    "#     print(f\"Getting sample at index {sample_index}...\")\n",
    "#     try:\n",
    "#         sample = test_dataset[sample_index]\n",
    "\n",
    "#         # --- Check for NaNs in the Sample Tensors ---\n",
    "#         print(\"\\n--- Checking for NaNs in sample tensors ---\")\n",
    "#         for key, tensor in sample.items():\n",
    "#             if isinstance(tensor, torch.Tensor):\n",
    "#                 has_nan = torch.isnan(tensor).any().item()\n",
    "#                 print(f\"Tensor'{key}' shape: {tensor.shape}, Contains NaNs: {has_nan}\")\n",
    "#                 print(f\"  Sample tensor '{key}': {tensor[:5]}\")\n",
    "#                 if has_nan:\n",
    "#                     # Optional: Print where NaNs occur\n",
    "#                     nan_indices = torch.nonzero(torch.isnan(tensor))\n",
    "#                     print(f\"  NaN indices in '{key}': {nan_indices.tolist()[:5]}...\") # Print first 5\n",
    "#             else:\n",
    "#                 print(f\"Item '{key}' is not a tensor (type: {type(tensor)})\")\n",
    "\n",
    "#     except IndexError:\n",
    "#         print(f\"Error: Index {sample_index} out of bounds for dataset size {len(test_dataset)}\")\n",
    "#     except Exception as e:\n",
    "#         print(f\"An error occurred while getting or checking the sample: {e}\")"
   ]
  },
  {
   "cell_type": "code",
   "execution_count": 12,
   "id": "d5bea655",
   "metadata": {},
   "outputs": [],
   "source": [
    "# ie = datamodule.val_index_entries[1661]\n",
    "\n",
    "# file_path = ie[\"file_path\"]\n",
    "# start_idx = ie[\"start_idx\"]\n",
    "# end_idx = ie[\"end_idx\"]\n",
    "# gauge_id = ie[\"gauge_id\"]\n",
    "\n",
    "# data = pd.read_parquet(file_path)\n",
    "\n",
    "# # Slice the data\n",
    "# data_slice = data.iloc[start_idx:end_idx]\n",
    "# print(f\"Data slice shape: {data_slice.shape}\")\n",
    "\n",
    "# data_slice[\"streamflow\"]"
   ]
  },
  {
   "cell_type": "markdown",
   "id": "4d5525f5",
   "metadata": {},
   "source": [
    "## Let's try training a model"
   ]
  },
  {
   "cell_type": "code",
   "execution_count": 13,
   "id": "74eb05bc",
   "metadata": {},
   "outputs": [],
   "source": [
    "input_length = datamodule.input_length\n",
    "output_length = datamodule.output_length\n",
    "\n",
    "config = TiDEConfig(**tide_hp)\n",
    "\n",
    "\n",
    "# Instantiate the Lightning module.\n",
    "model = LitTiDE(config)"
   ]
  },
  {
   "cell_type": "code",
   "execution_count": 14,
   "id": "65b384c9",
   "metadata": {},
   "outputs": [
    {
     "name": "stderr",
     "output_type": "stream",
     "text": [
      "Using default `ModelCheckpoint`. Consider installing `litmodels` package to enable `LitModelCheckpoint` for automatic upload to the Lightning model registry.\n",
      "GPU available: True (mps), used: True\n",
      "TPU available: False, using: 0 TPU cores\n",
      "HPU available: False, using: 0 HPUs\n",
      "INFO:hydro_forecasting.data.in_memory_datamodule:Data preparation has already run.\n",
      "\n",
      "  | Name          | Type      | Params | Mode \n",
      "----------------------------------------------------\n",
      "0 | mse_criterion | MSELoss   | 0      | train\n",
      "1 | model         | TiDEModel | 250 K  | train\n",
      "----------------------------------------------------\n",
      "250 K     Trainable params\n",
      "0         Non-trainable params\n",
      "250 K     Total params\n",
      "1.001     Total estimated model params size (MB)\n",
      "40        Modules in train mode\n",
      "0         Modules in eval mode\n"
     ]
    },
    {
     "name": "stdout",
     "output_type": "stream",
     "text": [
      "Sanity Checking: |          | 0/? [00:00<?, ?it/s]"
     ]
    },
    {
     "name": "stderr",
     "output_type": "stream",
     "text": [
      "INFO:hydro_forecasting.data.in_memory_datamodule:Epoch 0: Val Dataloader using chunk 1/10 with 10 basins.\n",
      "INFO:hydro_forecasting.data.in_memory_datamodule:Stage 'val' chunk data loaded. Shape: (18477, 12). Est. Mem: 0.85 MB\n",
      "/Users/cooper/Desktop/hydro-forecasting/.venv/lib/python3.12/site-packages/pytorch_lightning/trainer/connectors/data_connector.py:432: The combination of `DataLoader(`pin_memory=True`, `persistent_workers=True`) and `Trainer(reload_dataloaders_every_n_epochs > 0)` can lead to instability due to limitations in PyTorch (https://github.com/pytorch/pytorch/issues/91252). We recommend setting `pin_memory=False` in this case.\n",
      "/Users/cooper/Desktop/hydro-forecasting/.venv/lib/python3.12/site-packages/torch/utils/data/dataloader.py:683: UserWarning: 'pin_memory' argument is set as true but not supported on MPS now, then device pinned memory won't be used.\n",
      "  warnings.warn(warn_msg)\n"
     ]
    },
    {
     "name": "stdout",
     "output_type": "stream",
     "text": [
      "                                                                           "
     ]
    },
    {
     "name": "stderr",
     "output_type": "stream",
     "text": [
      "INFO:hydro_forecasting.data.in_memory_datamodule:Epoch 0: Train Dataloader using chunk 2/10 with 10 basins.\n",
      "INFO:hydro_forecasting.data.in_memory_datamodule:Stage 'train' chunk data loaded. Shape: (47452, 12). Est. Mem: 2.17 MB\n"
     ]
    },
    {
     "name": "stdout",
     "output_type": "stream",
     "text": [
      "\r"
     ]
    },
    {
     "name": "stderr",
     "output_type": "stream",
     "text": [
      "/Users/cooper/Desktop/hydro-forecasting/.venv/lib/python3.12/site-packages/pytorch_lightning/loops/fit_loop.py:310: The number of training batches (23) is smaller than the logging interval Trainer(log_every_n_steps=50). Set a lower value for log_every_n_steps if you want to see logs for the training epoch.\n"
     ]
    },
    {
     "name": "stdout",
     "output_type": "stream",
     "text": [
      "Epoch 0: 100%|██████████| 23/23 [00:01<00:00, 14.19it/s, v_num=114]"
     ]
    },
    {
     "name": "stderr",
     "output_type": "stream",
     "text": [
      "INFO:hydro_forecasting.data.in_memory_datamodule:Epoch 1: Train Dataloader using chunk 3/10 with 10 basins.\n",
      "INFO:hydro_forecasting.data.in_memory_datamodule:Stage 'train' chunk data loaded. Shape: (45838, 12). Est. Mem: 2.10 MB\n"
     ]
    },
    {
     "name": "stdout",
     "output_type": "stream",
     "text": [
      "Epoch 1: 100%|██████████| 23/23 [00:01<00:00, 14.41it/s, v_num=114]"
     ]
    },
    {
     "name": "stderr",
     "output_type": "stream",
     "text": [
      "INFO:hydro_forecasting.data.in_memory_datamodule:Epoch 1: Val Dataloader using chunk 3/10 with 10 basins.\n",
      "INFO:hydro_forecasting.data.in_memory_datamodule:Stage 'val' chunk data loaded. Shape: (22916, 12). Est. Mem: 1.05 MB\n"
     ]
    },
    {
     "name": "stdout",
     "output_type": "stream",
     "text": [
      "Epoch 1: 100%|██████████| 23/23 [00:05<00:00,  4.39it/s, v_num=114]"
     ]
    },
    {
     "name": "stderr",
     "output_type": "stream",
     "text": [
      "INFO:hydro_forecasting.data.in_memory_datamodule:Epoch 2: Train Dataloader using chunk 4/10 with 10 basins.\n",
      "INFO:hydro_forecasting.data.in_memory_datamodule:Stage 'train' chunk data loaded. Shape: (48082, 12). Est. Mem: 2.20 MB\n"
     ]
    },
    {
     "name": "stdout",
     "output_type": "stream",
     "text": [
      "Epoch 2:   0%|          | 0/24 [00:00<?, ?it/s, v_num=114]         "
     ]
    },
    {
     "name": "stderr",
     "output_type": "stream",
     "text": [
      "/Users/cooper/Desktop/hydro-forecasting/.venv/lib/python3.12/site-packages/pytorch_lightning/loops/fit_loop.py:310: The number of training batches (24) is smaller than the logging interval Trainer(log_every_n_steps=50). Set a lower value for log_every_n_steps if you want to see logs for the training epoch.\n"
     ]
    },
    {
     "name": "stdout",
     "output_type": "stream",
     "text": [
      "Epoch 2: 100%|██████████| 24/24 [00:01<00:00, 17.55it/s, v_num=114]"
     ]
    },
    {
     "name": "stderr",
     "output_type": "stream",
     "text": [
      "INFO:hydro_forecasting.data.in_memory_datamodule:Epoch 2: Val Dataloader using chunk 4/10 with 10 basins.\n",
      "INFO:hydro_forecasting.data.in_memory_datamodule:Stage 'val' chunk data loaded. Shape: (24038, 12). Est. Mem: 1.10 MB\n"
     ]
    },
    {
     "name": "stdout",
     "output_type": "stream",
     "text": [
      "Epoch 2: 100%|██████████| 24/24 [00:05<00:00,  4.51it/s, v_num=114]"
     ]
    },
    {
     "name": "stderr",
     "output_type": "stream",
     "text": [
      "INFO:hydro_forecasting.data.in_memory_datamodule:Epoch 3: Train Dataloader using chunk 5/10 with 10 basins.\n",
      "INFO:hydro_forecasting.data.in_memory_datamodule:Stage 'train' chunk data loaded. Shape: (44282, 12). Est. Mem: 2.03 MB\n"
     ]
    },
    {
     "name": "stdout",
     "output_type": "stream",
     "text": [
      "Epoch 3:   0%|          | 0/22 [00:00<?, ?it/s, v_num=114]         "
     ]
    },
    {
     "name": "stderr",
     "output_type": "stream",
     "text": [
      "/Users/cooper/Desktop/hydro-forecasting/.venv/lib/python3.12/site-packages/pytorch_lightning/loops/fit_loop.py:310: The number of training batches (22) is smaller than the logging interval Trainer(log_every_n_steps=50). Set a lower value for log_every_n_steps if you want to see logs for the training epoch.\n"
     ]
    },
    {
     "name": "stdout",
     "output_type": "stream",
     "text": [
      "Epoch 3: 100%|██████████| 22/22 [00:01<00:00, 16.16it/s, v_num=114]"
     ]
    },
    {
     "name": "stderr",
     "output_type": "stream",
     "text": [
      "INFO:hydro_forecasting.data.in_memory_datamodule:Epoch 3: Val Dataloader using chunk 5/10 with 10 basins.\n",
      "INFO:hydro_forecasting.data.in_memory_datamodule:Stage 'val' chunk data loaded. Shape: (22139, 12). Est. Mem: 1.01 MB\n"
     ]
    },
    {
     "name": "stdout",
     "output_type": "stream",
     "text": [
      "Epoch 3: 100%|██████████| 22/22 [00:04<00:00,  4.43it/s, v_num=114]"
     ]
    },
    {
     "name": "stderr",
     "output_type": "stream",
     "text": [
      "INFO:hydro_forecasting.data.in_memory_datamodule:Epoch 4: Train Dataloader using chunk 6/10 with 10 basins.\n",
      "INFO:hydro_forecasting.data.in_memory_datamodule:Stage 'train' chunk data loaded. Shape: (55458, 12). Est. Mem: 2.54 MB\n"
     ]
    },
    {
     "name": "stdout",
     "output_type": "stream",
     "text": [
      "Epoch 4:   0%|          | 0/27 [00:00<?, ?it/s, v_num=114]         "
     ]
    },
    {
     "name": "stderr",
     "output_type": "stream",
     "text": [
      "/Users/cooper/Desktop/hydro-forecasting/.venv/lib/python3.12/site-packages/pytorch_lightning/loops/fit_loop.py:310: The number of training batches (27) is smaller than the logging interval Trainer(log_every_n_steps=50). Set a lower value for log_every_n_steps if you want to see logs for the training epoch.\n"
     ]
    },
    {
     "name": "stdout",
     "output_type": "stream",
     "text": [
      "Epoch 4: 100%|██████████| 27/27 [00:01<00:00, 22.36it/s, v_num=114]"
     ]
    },
    {
     "name": "stderr",
     "output_type": "stream",
     "text": [
      "INFO:hydro_forecasting.data.in_memory_datamodule:Epoch 4: Val Dataloader using chunk 6/10 with 10 basins.\n",
      "INFO:hydro_forecasting.data.in_memory_datamodule:Stage 'val' chunk data loaded. Shape: (27725, 12). Est. Mem: 1.27 MB\n"
     ]
    },
    {
     "name": "stdout",
     "output_type": "stream",
     "text": [
      "Epoch 4: 100%|██████████| 27/27 [00:04<00:00,  5.46it/s, v_num=114]"
     ]
    },
    {
     "name": "stderr",
     "output_type": "stream",
     "text": [
      "`Trainer.fit` stopped: `max_epochs=5` reached.\n"
     ]
    },
    {
     "name": "stdout",
     "output_type": "stream",
     "text": [
      "Epoch 4: 100%|██████████| 27/27 [00:04<00:00,  5.43it/s, v_num=114]\n"
     ]
    }
   ],
   "source": [
    "import pytorch_lightning as pl\n",
    "\n",
    "trainer = pl.Trainer(\n",
    "    max_epochs=5,\n",
    "    accelerator=\"gpu\",\n",
    "    devices=1,\n",
    "    reload_dataloaders_every_n_epochs=True\n",
    ")\n",
    "\n",
    "# Train the model\n",
    "trainer.fit(model, datamodule)"
   ]
  },
  {
   "cell_type": "code",
   "execution_count": 15,
   "id": "e04f3d2a",
   "metadata": {},
   "outputs": [],
   "source": [
    "models_and_datamodules = {\n",
    "    \"TiDE\": (model, datamodule),\n",
    "}\n",
    "\n",
    "evaluator = TSForecastEvaluator(\n",
    "    horizons=list(range(1, output_length + 1)),\n",
    "    models_and_datamodules=models_and_datamodules,\n",
    "    trainer_kwargs={\n",
    "        \"accelerator\": \"cpu\",\n",
    "        \"devices\": 1,\n",
    "        # \"reload_dataloaders_every_epoch\": True,\n",
    "    },\n",
    "    \n",
    ")"
   ]
  },
  {
   "cell_type": "code",
   "execution_count": 16,
   "id": "10f5de30",
   "metadata": {},
   "outputs": [
    {
     "name": "stderr",
     "output_type": "stream",
     "text": [
      "Using default `ModelCheckpoint`. Consider installing `litmodels` package to enable `LitModelCheckpoint` for automatic upload to the Lightning model registry.\n",
      "GPU available: True (mps), used: False\n",
      "TPU available: False, using: 0 TPU cores\n",
      "HPU available: False, using: 0 HPUs\n",
      "/Users/cooper/Desktop/hydro-forecasting/.venv/lib/python3.12/site-packages/pytorch_lightning/trainer/setup.py:177: GPU available but not used. You can set it by doing `Trainer(accelerator='gpu')`.\n",
      "INFO:hydro_forecasting.data.in_memory_datamodule:Data preparation has already run.\n",
      "INFO:hydro_forecasting.data.in_memory_datamodule:Loading test data for 99 basins...\n",
      "INFO:hydro_forecasting.data.in_memory_datamodule:Stage 'test' chunk data loaded. Shape: (231854, 12). Est. Mem: 10.61 MB\n"
     ]
    },
    {
     "name": "stdout",
     "output_type": "stream",
     "text": [
      "Testing TiDE...\n",
      "Testing DataLoader 0: 100%|██████████| 112/112 [00:02<00:00, 42.09it/s]\n",
      "────────────────────────────────────────────────────────────────────────────────────────────────────────────────────────\n",
      "       Test metric             DataLoader 0\n",
      "────────────────────────────────────────────────────────────────────────────────────────────────────────────────────────\n",
      "        test_loss           0.11415146291255951\n",
      "────────────────────────────────────────────────────────────────────────────────────────────────────────────────────────\n"
     ]
    }
   ],
   "source": [
    "results = evaluator.test_models()"
   ]
  },
  {
   "cell_type": "code",
   "execution_count": 17,
   "id": "86f23c8c",
   "metadata": {},
   "outputs": [],
   "source": [
    "df = results[\"TiDE\"][\"df\"]"
   ]
  },
  {
   "cell_type": "code",
   "execution_count": 18,
   "id": "39dcd14e",
   "metadata": {},
   "outputs": [
    {
     "data": {
      "text/html": [
       "<div><style>\n",
       ".dataframe > thead > tr,\n",
       ".dataframe > tbody > tr {\n",
       "  text-align: right;\n",
       "  white-space: pre-wrap;\n",
       "}\n",
       "</style>\n",
       "<small>shape: (2_275_970, 5)</small><table border=\"1\" class=\"dataframe\"><thead><tr><th>horizon</th><th>prediction</th><th>observed</th><th>basin_id</th><th>date</th></tr><tr><td>i32</td><td>f32</td><td>f32</td><td>str</td><td>datetime[μs]</td></tr></thead><tbody><tr><td>1</td><td>0.503201</td><td>0.42</td><td>&quot;CA_15013&quot;</td><td>2018-01-05 00:00:00</td></tr><tr><td>2</td><td>0.563924</td><td>0.41</td><td>&quot;CA_15013&quot;</td><td>2018-01-06 00:00:00</td></tr><tr><td>3</td><td>0.65626</td><td>0.4</td><td>&quot;CA_15013&quot;</td><td>2018-01-07 00:00:00</td></tr><tr><td>4</td><td>0.522078</td><td>0.39</td><td>&quot;CA_15013&quot;</td><td>2018-01-08 00:00:00</td></tr><tr><td>5</td><td>0.573664</td><td>0.39</td><td>&quot;CA_15013&quot;</td><td>2018-01-09 00:00:00</td></tr><tr><td>&hellip;</td><td>&hellip;</td><td>&hellip;</td><td>&hellip;</td><td>&hellip;</td></tr><tr><td>6</td><td>0.746721</td><td>0.31</td><td>&quot;USA_01516500&quot;</td><td>2014-12-05 00:00:00</td></tr><tr><td>7</td><td>1.029419</td><td>0.31</td><td>&quot;USA_01516500&quot;</td><td>2014-12-06 00:00:00</td></tr><tr><td>8</td><td>0.919638</td><td>0.31</td><td>&quot;USA_01516500&quot;</td><td>2014-12-07 00:00:00</td></tr><tr><td>9</td><td>0.737923</td><td>0.31</td><td>&quot;USA_01516500&quot;</td><td>2014-12-08 00:00:00</td></tr><tr><td>10</td><td>0.332874</td><td>0.31</td><td>&quot;USA_01516500&quot;</td><td>2014-12-09 00:00:00</td></tr></tbody></table></div>"
      ],
      "text/plain": [
       "shape: (2_275_970, 5)\n",
       "┌─────────┬────────────┬──────────┬──────────────┬─────────────────────┐\n",
       "│ horizon ┆ prediction ┆ observed ┆ basin_id     ┆ date                │\n",
       "│ ---     ┆ ---        ┆ ---      ┆ ---          ┆ ---                 │\n",
       "│ i32     ┆ f32        ┆ f32      ┆ str          ┆ datetime[μs]        │\n",
       "╞═════════╪════════════╪══════════╪══════════════╪═════════════════════╡\n",
       "│ 1       ┆ 0.503201   ┆ 0.42     ┆ CA_15013     ┆ 2018-01-05 00:00:00 │\n",
       "│ 2       ┆ 0.563924   ┆ 0.41     ┆ CA_15013     ┆ 2018-01-06 00:00:00 │\n",
       "│ 3       ┆ 0.65626    ┆ 0.4      ┆ CA_15013     ┆ 2018-01-07 00:00:00 │\n",
       "│ 4       ┆ 0.522078   ┆ 0.39     ┆ CA_15013     ┆ 2018-01-08 00:00:00 │\n",
       "│ 5       ┆ 0.573664   ┆ 0.39     ┆ CA_15013     ┆ 2018-01-09 00:00:00 │\n",
       "│ …       ┆ …          ┆ …        ┆ …            ┆ …                   │\n",
       "│ 6       ┆ 0.746721   ┆ 0.31     ┆ USA_01516500 ┆ 2014-12-05 00:00:00 │\n",
       "│ 7       ┆ 1.029419   ┆ 0.31     ┆ USA_01516500 ┆ 2014-12-06 00:00:00 │\n",
       "│ 8       ┆ 0.919638   ┆ 0.31     ┆ USA_01516500 ┆ 2014-12-07 00:00:00 │\n",
       "│ 9       ┆ 0.737923   ┆ 0.31     ┆ USA_01516500 ┆ 2014-12-08 00:00:00 │\n",
       "│ 10      ┆ 0.332874   ┆ 0.31     ┆ USA_01516500 ┆ 2014-12-09 00:00:00 │\n",
       "└─────────┴────────────┴──────────┴──────────────┴─────────────────────┘"
      ]
     },
     "execution_count": 18,
     "metadata": {},
     "output_type": "execute_result"
    }
   ],
   "source": [
    "df\n"
   ]
  },
  {
   "cell_type": "code",
   "execution_count": 19,
   "id": "341f284c",
   "metadata": {},
   "outputs": [
    {
     "data": {
      "text/plain": [
       "['USA_01466500',\n",
       " 'USA_01134500',\n",
       " 'CA_16135',\n",
       " 'CA_16055',\n",
       " 'USA_01030500',\n",
       " 'CA_15256',\n",
       " 'CA_15214',\n",
       " 'USA_01451800',\n",
       " 'USA_01491000',\n",
       " 'CA_15189',\n",
       " 'USA_01187300',\n",
       " 'USA_01333000',\n",
       " 'USA_01052500',\n",
       " 'CA_16136',\n",
       " 'USA_01078000',\n",
       " 'USA_01181000',\n",
       " 'USA_01510000',\n",
       " 'USA_01413500',\n",
       " 'USA_01487000',\n",
       " 'CA_15040',\n",
       " 'CA_15081',\n",
       " 'USA_01170100',\n",
       " 'USA_01144000',\n",
       " 'CA_15212',\n",
       " 'CA_16121',\n",
       " 'USA_01484100',\n",
       " 'USA_01073000',\n",
       " 'USA_01350140',\n",
       " 'USA_01350000',\n",
       " 'USA_01516500',\n",
       " 'USA_01121000',\n",
       " 'CA_15051',\n",
       " 'USA_01137500',\n",
       " 'CA_16134',\n",
       " 'USA_01195100',\n",
       " 'CA_15171',\n",
       " 'CA_16100',\n",
       " 'CA_15022',\n",
       " 'USA_01435000',\n",
       " 'USA_01485500',\n",
       " 'USA_01440400',\n",
       " 'CA_15287',\n",
       " 'USA_01423000',\n",
       " 'CA_15278',\n",
       " 'CA_16127',\n",
       " 'USA_01169000',\n",
       " 'USA_01031500',\n",
       " 'CA_15083',\n",
       " 'USA_01139000',\n",
       " 'USA_01162500',\n",
       " 'CA_15034',\n",
       " 'CA_16059',\n",
       " 'CA_15013',\n",
       " 'USA_01139800',\n",
       " 'USA_01350080',\n",
       " 'USA_01142500',\n",
       " 'CA_15069',\n",
       " 'USA_01415000',\n",
       " 'CA_15039',\n",
       " 'USA_01123000',\n",
       " 'USA_01054200',\n",
       " 'CA_16143',\n",
       " 'CA_15016',\n",
       " 'CA_15070',\n",
       " 'CA_15054',\n",
       " 'USA_01414500',\n",
       " 'CA_15025',\n",
       " 'USA_01057000',\n",
       " 'CA_16096',\n",
       " 'CA_15102',\n",
       " 'CA_15312',\n",
       " 'CA_15283',\n",
       " 'USA_01440000',\n",
       " 'CA_15259',\n",
       " 'USA_01365000',\n",
       " 'CA_15149',\n",
       " 'CA_16068',\n",
       " 'CA_15215',\n",
       " 'CA_15194',\n",
       " 'CA_15090',\n",
       " 'CA_15285',\n",
       " 'USA_01022500',\n",
       " 'CA_16139',\n",
       " 'USA_01055000',\n",
       " 'USA_01411300',\n",
       " 'USA_01439500',\n",
       " 'CA_15020',\n",
       " 'CA_16070',\n",
       " 'USA_01013500',\n",
       " 'CA_15216',\n",
       " 'CA_16101',\n",
       " 'USA_01486000',\n",
       " 'CA_15044',\n",
       " 'USA_01434025',\n",
       " 'CA_16105',\n",
       " 'CA_15049',\n",
       " 'USA_01047000',\n",
       " 'CA_15045',\n",
       " 'USA_01118300']"
      ]
     },
     "execution_count": 19,
     "metadata": {},
     "output_type": "execute_result"
    }
   ],
   "source": [
    "unique_ids = df[\"basin_id\"].unique().to_list()\n",
    "unique_ids"
   ]
  },
  {
   "cell_type": "code",
   "execution_count": 20,
   "id": "dd8f78d1",
   "metadata": {},
   "outputs": [
    {
     "data": {
      "image/png": "[encoded data removed]",
      "text/plain": [
       "<Figure size 1200x600 with 1 Axes>"
      ]
     },
     "metadata": {},
     "output_type": "display_data"
    }
   ],
   "source": [
    "import matplotlib.pyplot as plt\n",
    "import matplotlib.dates as mdates\n",
    "import seaborn as sns\n",
    "import polars as pl\n",
    "\n",
    "# Define the basin ID to filter\n",
    "basin_id = \"CA_15040\"\n",
    "\n",
    "# Filter the dataframe using polars syntax\n",
    "df_basin = df.filter(pl.col(\"basin_id\") == basin_id)\n",
    "\n",
    "# Convert to pandas for plotting (optional, but sometimes easier with matplotlib)\n",
    "# Alternatively, you can use the polars values directly as shown below\n",
    "# df_basin_pd = df_basin.to_pandas()\n",
    "\n",
    "# Create the plot\n",
    "plt.figure(figsize=(12, 6))\n",
    "\n",
    "# Use .to_numpy() to access the column values for plotting\n",
    "plt.plot(df_basin[\"date\"].to_numpy(), df_basin[\"prediction\"].to_numpy(), label=\"Prediction\", color=\"blue\")\n",
    "plt.plot(df_basin[\"date\"].to_numpy(), df_basin[\"observed\"].to_numpy(), label=\"Observed\", color=\"orange\")\n",
    "\n",
    "# Add title and labels\n",
    "plt.title(f\"Observed vs Prediction for {basin_id}\")\n",
    "plt.xlabel(\"Date\")\n",
    "plt.ylabel(\"Streamflow\")\n",
    "plt.legend()\n",
    "\n",
    "# Format the x-axis for dates\n",
    "plt.gca().xaxis.set_major_locator(mdates.MonthLocator(interval=1))\n",
    "plt.gca().xaxis.set_major_formatter(mdates.DateFormatter(\"%Y-%m\"))\n",
    "plt.gcf().autofmt_xdate()\n",
    "\n",
    "# Remove the top and right spines\n",
    "sns.despine()\n",
    "\n",
    "# Show the plot\n",
    "plt.show()"
   ]
  }
 ],
 "metadata": {
  "kernelspec": {
   "display_name": ".venv",
   "language": "python",
   "name": "python3"
  },
  "language_info": {
   "codemirror_mode": {
    "name": "ipython",
    "version": 3
   },
   "file_extension": ".py",
   "mimetype": "text/x-python",
   "name": "python",
   "nbconvert_exporter": "python",
   "pygments_lexer": "ipython3",
   "version": "3.12.8"
  }
 },
 "nbformat": 4,
 "nbformat_minor": 5
}
