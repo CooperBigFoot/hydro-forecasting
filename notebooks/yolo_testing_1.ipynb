{
 "cells": [
  {
   "cell_type": "code",
   "execution_count": 1,
   "id": "9308b178",
   "metadata": {},
   "outputs": [
    {
     "name": "stdout",
     "output_type": "stream",
     "text": [
      "Added /Users/cooper/Desktop/hydro-forecasting/src to Python path\n"
     ]
    }
   ],
   "source": [
    "import sys\n",
    "from pathlib import Path\n",
    "\n",
    "# Add src directory to Python path\n",
    "project_root = Path.cwd().parent  \n",
    "src_path = project_root / \"src\"\n",
    "if str(src_path) not in sys.path:\n",
    "    sys.path.insert(0, str(src_path))\n",
    "    print(f\"Added {src_path} to Python path\")\n"
   ]
  },
  {
   "cell_type": "code",
   "execution_count": 2,
   "id": "2caabe24",
   "metadata": {},
   "outputs": [],
   "source": [
    "from hydro_forecasting.data.lazy_datamodule import HydroLazyDataModule\n",
    "from hydro_forecasting.preprocessing.grouped import GroupedPipeline\n",
    "from sklearn.pipeline import Pipeline\n",
    "from hydro_forecasting.preprocessing.standard_scale import StandardScaleTransformer\n",
    "from hydro_forecasting.data.caravanify_parquet import (\n",
    "    CaravanifyParquet,\n",
    "    CaravanifyParquetConfig,\n",
    ")\n",
    "\n",
    "from hydro_forecasting.models.tide import LitTiDE, TiDEConfig\n",
    "from hydro_forecasting.model_evaluation.hp_from_yaml import hp_from_yaml\n",
    "\n",
    "from hydro_forecasting.model_evaluation.evaluators import TSForecastEvaluator\n",
    "\n",
    "import polars as pl"
   ]
  },
  {
   "cell_type": "markdown",
   "id": "a545d504",
   "metadata": {},
   "source": [
    "---"
   ]
  },
  {
   "cell_type": "code",
   "execution_count": 3,
   "id": "0df5d83c",
   "metadata": {},
   "outputs": [
    {
     "data": {
      "text/plain": [
       "{'decoder_output_size': 24,\n",
       " 'dropout': 0.4040330172235821,\n",
       " 'future_forcing_projection_size': 0,\n",
       " 'future_input_size': 9,\n",
       " 'group_identifier': 'gauge_id',\n",
       " 'hidden_size': 110,\n",
       " 'input_len': 34,\n",
       " 'input_size': 10,\n",
       " 'learning_rate': 0.00029399848560567596,\n",
       " 'num_decoder_layers': 2,\n",
       " 'num_encoder_layers': 2,\n",
       " 'output_len': 10,\n",
       " 'past_feature_projection_size': 0,\n",
       " 'scheduler_factor': 0.5,\n",
       " 'scheduler_patience': 5,\n",
       " 'static_size': 10,\n",
       " 'temporal_decoder_hidden_size': 51,\n",
       " 'use_layer_norm': False}"
      ]
     },
     "execution_count": 3,
     "metadata": {},
     "output_type": "execute_result"
    }
   ],
   "source": [
    "yaml_path = Path(\"/Users/cooper/Desktop/hydro-forecasting/notebooks/tide.yaml\")\n",
    "\n",
    "tide_hp = hp_from_yaml(\"tide\", yaml_path)\n",
    "tide_hp"
   ]
  },
  {
   "cell_type": "code",
   "execution_count": 4,
   "id": "a0bd441f",
   "metadata": {},
   "outputs": [],
   "source": [
    "config_ca = CaravanifyParquetConfig(\n",
    "    attributes_dir=\"/Users/cooper/Desktop/CaravanifyParquet/CA/post_processed/attributes\",\n",
    "    timeseries_dir=\"/Users/cooper/Desktop/CaravanifyParquet/CA/post_processed/timeseries/csv\",\n",
    "    shapefile_dir=\"/Users/cooper/Desktop/CAMELS-CH/data/CARAVANIFY/CA/post_processed/shapefiles\",\n",
    "    gauge_id_prefix=\"CA\",\n",
    "    use_hydroatlas_attributes=True,\n",
    "    use_caravan_attributes=True,\n",
    "    use_other_attributes=True,\n",
    ")\n",
    "\n",
    "caravan_ca = CaravanifyParquet(config_ca)\n",
    "basin_ids = caravan_ca.get_all_gauge_ids()[:10]\n",
    "\n",
    "# basin_ids = [bid for bid in basin_ids if bid != \"CA_15030\"]\n",
    "\n",
    "caravan_ca.load_stations(basin_ids)"
   ]
  },
  {
   "cell_type": "code",
   "execution_count": 5,
   "id": "6f1055a6",
   "metadata": {},
   "outputs": [],
   "source": [
    "config_us = CaravanifyParquetConfig(\n",
    "    attributes_dir=\"/Users/cooper/Desktop/CaravanifyParquet/USA/post_processed/attributes\",\n",
    "    timeseries_dir=\"/Users/cooper/Desktop/CaravanifyParquet/USA/post_processed/timeseries/csv\",\n",
    "    shapefile_dir=\"/Users/cooper/Desktop/CAMELS-CH/data/CARAVANIFY/USA/post_processed/shapefiles\",\n",
    "    gauge_id_prefix=\"USA\",\n",
    "    use_hydroatlas_attributes=True,\n",
    "    use_caravan_attributes=True,\n",
    "    use_other_attributes=True,\n",
    ")\n",
    "\n",
    "caravan_us = CaravanifyParquet(config_us)\n",
    "basin_ids += caravan_us.get_all_gauge_ids()[:10]"
   ]
  },
  {
   "cell_type": "code",
   "execution_count": 6,
   "id": "8755a7a9",
   "metadata": {},
   "outputs": [],
   "source": [
    "forcing_features = [\n",
    "    \"snow_depth_water_equivalent_mean\",\n",
    "    \"surface_net_solar_radiation_mean\",\n",
    "    \"surface_net_thermal_radiation_mean\",\n",
    "    \"potential_evaporation_sum_ERA5_LAND\",\n",
    "    \"potential_evaporation_sum_FAO_PENMAN_MONTEITH\",\n",
    "    \"temperature_2m_mean\",\n",
    "    \"temperature_2m_min\",\n",
    "    \"temperature_2m_max\",\n",
    "    \"total_precipitation_sum\",\n",
    "]\n",
    "\n",
    "static_features = [\n",
    "    \"p_mean\",\n",
    "    \"area\",\n",
    "    \"ele_mt_sav\",\n",
    "    \"high_prec_dur\",\n",
    "    \"frac_snow\",\n",
    "    \"high_prec_freq\",\n",
    "    \"slp_dg_sav\",\n",
    "    \"cly_pc_sav\",\n",
    "    \"aridity_ERA5_LAND\",\n",
    "    \"aridity_FAO_PM\",\n",
    "]"
   ]
  },
  {
   "cell_type": "code",
   "execution_count": 7,
   "id": "9b02753c",
   "metadata": {},
   "outputs": [],
   "source": [
    "feature_pipeline = GroupedPipeline(\n",
    "    Pipeline([(\"scaler\", StandardScaleTransformer())]),\n",
    "    columns=forcing_features,\n",
    "    group_identifier=\"gauge_id\",\n",
    ")\n",
    "\n",
    "target_pipeline = GroupedPipeline(\n",
    "    Pipeline([(\"scaler\", StandardScaleTransformer())]),\n",
    "    columns=[\"streamflow\"],\n",
    "    group_identifier=\"gauge_id\",\n",
    ")\n",
    "\n",
    "static_pipeline = Pipeline([(\"scaler\", StandardScaleTransformer())])\n",
    "\n",
    "preprocessing_config = {\n",
    "    \"features\": {\"pipeline\": feature_pipeline},\n",
    "    \"target\": {\"pipeline\": target_pipeline},\n",
    "    \"static_features\": {\"pipeline\": static_pipeline, \"columns\": static_features},\n",
    "}"
   ]
  },
  {
   "cell_type": "code",
   "execution_count": 8,
   "id": "34197fe1",
   "metadata": {},
   "outputs": [
    {
     "name": "stdout",
     "output_type": "stream",
     "text": [
      "INFO: Starting data preparation...\n",
      "INFO: Reusing existing processed data.\n",
      "INFO: Loaded 3 pipelines and data for 19 basins.\n",
      "INFO: Creating index entries...\n"
     ]
    },
    {
     "name": "stderr",
     "output_type": "stream",
     "text": [
      "Indexing train: 100%|██████████| 1/1 [00:00<00:00,  2.54it/s]\n",
      "Indexing val: 100%|██████████| 1/1 [00:00<00:00,  5.93it/s]\n",
      "Indexing test: 100%|██████████| 1/1 [00:00<00:00,  6.42it/s]\n"
     ]
    },
    {
     "name": "stdout",
     "output_type": "stream",
     "text": [
      "INFO: Index entries created successfully at /Users/cooper/Desktop/hydro-forecasting/tests/yolo_6/5af0c3ea-c280-59e5-83f0-bcf41247b3ab/index.\n",
      "INFO: Data preparation finished.\n",
      "INFO: Created training dataset with 90928 samples\n",
      "INFO: Created validation dataset with 45049 samples\n",
      "INFO: Created test dataset with 45074 samples\n"
     ]
    }
   ],
   "source": [
    "region_time_series_base_dirs = {\n",
    "    \"CA\": \"/Users/cooper/Desktop/CaravanifyParquet/CA/post_processed/timeseries/csv/CA\",\n",
    "    \"USA\": \"/Users/cooper/Desktop/CaravanifyParquet/USA/post_processed/timeseries/csv/USA\",\n",
    "}\n",
    "\n",
    "region_static_attributes_base_dirs = {\n",
    "    \"CA\": \"/Users/cooper/Desktop/CaravanifyParquet/CA/post_processed/attributes/CA\",\n",
    "    \"USA\": \"/Users/cooper/Desktop/CaravanifyParquet/USA/post_processed/attributes/USA\",\n",
    "}\n",
    "\n",
    "datamodule = HydroLazyDataModule(\n",
    "    region_time_series_base_dirs=region_time_series_base_dirs,\n",
    "    region_static_attributes_base_dirs=region_static_attributes_base_dirs,\n",
    "    path_to_preprocessing_output_directory=\"/Users/cooper/Desktop/hydro-forecasting/tests/yolo_6\",\n",
    "    group_identifier=\"gauge_id\",\n",
    "    batch_size=2048,\n",
    "    input_length=tide_hp[\"input_len\"],\n",
    "    output_length=tide_hp[\"output_len\"],\n",
    "    forcing_features=forcing_features,\n",
    "    static_features=static_features,\n",
    "    target=\"streamflow\",\n",
    "    preprocessing_configs=preprocessing_config,\n",
    "    num_workers=4,\n",
    "    min_train_years=5,\n",
    "    train_prop=0.5,\n",
    "    val_prop=0.25,\n",
    "    test_prop=0.25,\n",
    "    max_imputation_gap_size=5,\n",
    "    list_of_gauge_ids_to_process=basin_ids,\n",
    "    is_autoregressive=True,\n",
    "    files_per_batch=20,\n",
    ")\n",
    "\n",
    "datamodule.prepare_data()\n",
    "datamodule.setup()"
   ]
  },
  {
   "cell_type": "code",
   "execution_count": null,
   "id": "a29347d0",
   "metadata": {},
   "outputs": [],
   "source": []
  },
  {
   "cell_type": "markdown",
   "id": "2cc06754",
   "metadata": {},
   "source": [
    "## Verify static data"
   ]
  },
  {
   "cell_type": "code",
   "execution_count": 9,
   "id": "6a807898",
   "metadata": {},
   "outputs": [],
   "source": [
    "# test_dataset = datamodule.test_dataset\n",
    "# if not test_dataset:\n",
    "#     print(\"Test dataset not found.\")\n",
    "# elif len(test_dataset) == 0:\n",
    "#     print(\"Test dataset is empty.\")\n",
    "# else:\n",
    "#     print(f\"Test dataset size: {len(test_dataset)}\")\n",
    "#     # --- Get a Sample ---\n",
    "#     sample_index = 1654\n",
    "#     print(f\"Getting sample at index {sample_index}...\")\n",
    "#     try:\n",
    "#         sample = test_dataset[sample_index]\n",
    "\n",
    "#         # --- Check for NaNs in the Sample Tensors ---\n",
    "#         print(\"\\n--- Checking for NaNs in sample tensors ---\")\n",
    "#         for key, tensor in sample.items():\n",
    "#             if isinstance(tensor, torch.Tensor):\n",
    "#                 has_nan = torch.isnan(tensor).any().item()\n",
    "#                 print(f\"Tensor'{key}' shape: {tensor.shape}, Contains NaNs: {has_nan}\")\n",
    "#                 print(f\"  Sample tensor '{key}': {tensor[:5]}\")\n",
    "#                 if has_nan:\n",
    "#                     # Optional: Print where NaNs occur\n",
    "#                     nan_indices = torch.nonzero(torch.isnan(tensor))\n",
    "#                     print(f\"  NaN indices in '{key}': {nan_indices.tolist()[:5]}...\") # Print first 5\n",
    "#             else:\n",
    "#                 print(f\"Item '{key}' is not a tensor (type: {type(tensor)})\")\n",
    "\n",
    "#     except IndexError:\n",
    "#         print(f\"Error: Index {sample_index} out of bounds for dataset size {len(test_dataset)}\")\n",
    "#     except Exception as e:\n",
    "#         print(f\"An error occurred while getting or checking the sample: {e}\")"
   ]
  },
  {
   "cell_type": "code",
   "execution_count": 10,
   "id": "d5bea655",
   "metadata": {},
   "outputs": [],
   "source": [
    "# ie = datamodule.val_index_entries[1661]\n",
    "\n",
    "# file_path = ie[\"file_path\"]\n",
    "# start_idx = ie[\"start_idx\"]\n",
    "# end_idx = ie[\"end_idx\"]\n",
    "# gauge_id = ie[\"gauge_id\"]\n",
    "\n",
    "# data = pd.read_parquet(file_path)\n",
    "\n",
    "# # Slice the data\n",
    "# data_slice = data.iloc[start_idx:end_idx]\n",
    "# print(f\"Data slice shape: {data_slice.shape}\")\n",
    "\n",
    "# data_slice[\"streamflow\"]"
   ]
  },
  {
   "cell_type": "markdown",
   "id": "4d5525f5",
   "metadata": {},
   "source": [
    "## Let's try training a model"
   ]
  },
  {
   "cell_type": "code",
   "execution_count": 11,
   "id": "74eb05bc",
   "metadata": {},
   "outputs": [],
   "source": [
    "input_length = datamodule.input_length\n",
    "output_length = datamodule.output_length\n",
    "\n",
    "config = TiDEConfig(**tide_hp)\n",
    "\n",
    "\n",
    "# Instantiate the Lightning module.\n",
    "model = LitTiDE(config)"
   ]
  },
  {
   "cell_type": "code",
   "execution_count": 12,
   "id": "65b384c9",
   "metadata": {},
   "outputs": [
    {
     "name": "stderr",
     "output_type": "stream",
     "text": [
      "Using default `ModelCheckpoint`. Consider installing `litmodels` package to enable `LitModelCheckpoint` for automatic upload to the Lightning model registry.\n",
      "GPU available: True (mps), used: True\n",
      "TPU available: False, using: 0 TPU cores\n",
      "HPU available: False, using: 0 HPUs\n"
     ]
    },
    {
     "name": "stdout",
     "output_type": "stream",
     "text": [
      "INFO: Data preparation has already run.\n",
      "INFO: Created training dataset with 90928 samples\n",
      "INFO: Created validation dataset with 45049 samples\n"
     ]
    },
    {
     "name": "stderr",
     "output_type": "stream",
     "text": [
      "\n",
      "  | Name          | Type      | Params | Mode \n",
      "----------------------------------------------------\n",
      "0 | mse_criterion | MSELoss   | 0      | train\n",
      "1 | model         | TiDEModel | 250 K  | train\n",
      "----------------------------------------------------\n",
      "250 K     Trainable params\n",
      "0         Non-trainable params\n",
      "250 K     Total params\n",
      "1.001     Total estimated model params size (MB)\n",
      "40        Modules in train mode\n",
      "0         Modules in eval mode\n"
     ]
    },
    {
     "name": "stdout",
     "output_type": "stream",
     "text": [
      "Sanity Checking: |          | 0/? [00:00<?, ?it/s]"
     ]
    },
    {
     "name": "stderr",
     "output_type": "stream",
     "text": [
      "/Users/cooper/Desktop/hydro-forecasting/.venv/lib/python3.12/site-packages/torch/utils/data/dataloader.py:683: UserWarning: 'pin_memory' argument is set as true but not supported on MPS now, then device pinned memory won't be used.\n",
      "  warnings.warn(warn_msg)\n"
     ]
    },
    {
     "name": "stdout",
     "output_type": "stream",
     "text": [
      "                                                                           \r"
     ]
    },
    {
     "name": "stderr",
     "output_type": "stream",
     "text": [
      "/Users/cooper/Desktop/hydro-forecasting/.venv/lib/python3.12/site-packages/pytorch_lightning/loops/fit_loop.py:310: The number of training batches (45) is smaller than the logging interval Trainer(log_every_n_steps=50). Set a lower value for log_every_n_steps if you want to see logs for the training epoch.\n"
     ]
    },
    {
     "name": "stdout",
     "output_type": "stream",
     "text": [
      "Epoch 0:   0%|          | 0/45 [00:00<?, ?it/s] Worker 2 started with PID 67031\n",
      "Worker 3 started with PID 67032Worker 2 initialized with dedicated cache\n",
      "Worker 1 started with PID 67030\n",
      "\n",
      "Worker 3 initialized with dedicated cache\n",
      "Worker 1 initialized with dedicated cache\n",
      "Worker 0 started with PID 67029\n",
      "Worker 0 initialized with dedicated cache\n",
      "Epoch 4: 100%|██████████| 45/45 [00:41<00:00,  1.08it/s, v_num=95]"
     ]
    },
    {
     "name": "stderr",
     "output_type": "stream",
     "text": [
      "`Trainer.fit` stopped: `max_epochs=5` reached.\n"
     ]
    },
    {
     "name": "stdout",
     "output_type": "stream",
     "text": [
      "Epoch 4: 100%|██████████| 45/45 [00:41<00:00,  1.08it/s, v_num=95]\n"
     ]
    }
   ],
   "source": [
    "import pytorch_lightning as pl\n",
    "\n",
    "trainer = pl.Trainer(\n",
    "    max_epochs=5,\n",
    "    accelerator=\"gpu\",\n",
    "    devices=1,\n",
    ")\n",
    "\n",
    "# Train the model\n",
    "trainer.fit(model, datamodule)"
   ]
  },
  {
   "cell_type": "code",
   "execution_count": 13,
   "id": "e04f3d2a",
   "metadata": {},
   "outputs": [],
   "source": [
    "models_and_datamodules = {\n",
    "    \"TiDE\": (model, datamodule),\n",
    "}\n",
    "\n",
    "evaluator = TSForecastEvaluator(\n",
    "    horizons=list(range(1, output_length + 1)),\n",
    "    models_and_datamodules=models_and_datamodules,\n",
    "    trainer_kwargs={\n",
    "        \"accelerator\": \"cpu\",\n",
    "        \"devices\": 1,\n",
    "    },\n",
    ")"
   ]
  },
  {
   "cell_type": "code",
   "execution_count": 14,
   "id": "10f5de30",
   "metadata": {},
   "outputs": [
    {
     "name": "stderr",
     "output_type": "stream",
     "text": [
      "Using default `ModelCheckpoint`. Consider installing `litmodels` package to enable `LitModelCheckpoint` for automatic upload to the Lightning model registry.\n",
      "GPU available: True (mps), used: False\n",
      "TPU available: False, using: 0 TPU cores\n",
      "HPU available: False, using: 0 HPUs\n"
     ]
    },
    {
     "name": "stdout",
     "output_type": "stream",
     "text": [
      "Testing TiDE...\n",
      "INFO: Data preparation has already run.\n",
      "INFO: Created test dataset with 45074 samples\n"
     ]
    },
    {
     "name": "stderr",
     "output_type": "stream",
     "text": [
      "/Users/cooper/Desktop/hydro-forecasting/.venv/lib/python3.12/site-packages/pytorch_lightning/trainer/setup.py:177: GPU available but not used. You can set it by doing `Trainer(accelerator='gpu')`.\n"
     ]
    },
    {
     "name": "stdout",
     "output_type": "stream",
     "text": [
      "Testing DataLoader 0: 100%|██████████| 23/23 [00:11<00:00,  1.99it/s]\n",
      "────────────────────────────────────────────────────────────────────────────────────────────────────────────────────────\n",
      "       Test metric             DataLoader 0\n",
      "────────────────────────────────────────────────────────────────────────────────────────────────────────────────────────\n",
      "        test_loss           0.5159308910369873\n",
      "────────────────────────────────────────────────────────────────────────────────────────────────────────────────────────\n",
      "Evaluating results with shape: preds=(45074, 10), obs=(45074, 10), basin_ids=(45074,)\n"
     ]
    }
   ],
   "source": [
    "results = evaluator.test_models()"
   ]
  },
  {
   "cell_type": "code",
   "execution_count": 15,
   "id": "86f23c8c",
   "metadata": {},
   "outputs": [],
   "source": [
    "df = results[\"TiDE\"][\"df\"]"
   ]
  },
  {
   "cell_type": "code",
   "execution_count": 16,
   "id": "39dcd14e",
   "metadata": {},
   "outputs": [
    {
     "data": {
      "text/html": [
       "<div>\n",
       "<style scoped>\n",
       "    .dataframe tbody tr th:only-of-type {\n",
       "        vertical-align: middle;\n",
       "    }\n",
       "\n",
       "    .dataframe tbody tr th {\n",
       "        vertical-align: top;\n",
       "    }\n",
       "\n",
       "    .dataframe thead th {\n",
       "        text-align: right;\n",
       "    }\n",
       "</style>\n",
       "<table border=\"1\" class=\"dataframe\">\n",
       "  <thead>\n",
       "    <tr style=\"text-align: right;\">\n",
       "      <th></th>\n",
       "      <th>horizon</th>\n",
       "      <th>prediction</th>\n",
       "      <th>observed</th>\n",
       "      <th>basin_id</th>\n",
       "      <th>date</th>\n",
       "    </tr>\n",
       "  </thead>\n",
       "  <tbody>\n",
       "    <tr>\n",
       "      <th>0</th>\n",
       "      <td>1</td>\n",
       "      <td>5.144339</td>\n",
       "      <td>7.66</td>\n",
       "      <td>CA_15034</td>\n",
       "      <td>2018-07-25</td>\n",
       "    </tr>\n",
       "    <tr>\n",
       "      <th>1</th>\n",
       "      <td>2</td>\n",
       "      <td>5.569612</td>\n",
       "      <td>6.91</td>\n",
       "      <td>CA_15034</td>\n",
       "      <td>2018-07-26</td>\n",
       "    </tr>\n",
       "    <tr>\n",
       "      <th>2</th>\n",
       "      <td>3</td>\n",
       "      <td>5.035778</td>\n",
       "      <td>6.91</td>\n",
       "      <td>CA_15034</td>\n",
       "      <td>2018-07-27</td>\n",
       "    </tr>\n",
       "    <tr>\n",
       "      <th>3</th>\n",
       "      <td>4</td>\n",
       "      <td>4.565192</td>\n",
       "      <td>6.91</td>\n",
       "      <td>CA_15034</td>\n",
       "      <td>2018-07-28</td>\n",
       "    </tr>\n",
       "    <tr>\n",
       "      <th>4</th>\n",
       "      <td>5</td>\n",
       "      <td>4.963270</td>\n",
       "      <td>5.54</td>\n",
       "      <td>CA_15034</td>\n",
       "      <td>2018-07-29</td>\n",
       "    </tr>\n",
       "    <tr>\n",
       "      <th>...</th>\n",
       "      <td>...</td>\n",
       "      <td>...</td>\n",
       "      <td>...</td>\n",
       "      <td>...</td>\n",
       "      <td>...</td>\n",
       "    </tr>\n",
       "    <tr>\n",
       "      <th>450735</th>\n",
       "      <td>6</td>\n",
       "      <td>0.434376</td>\n",
       "      <td>0.10</td>\n",
       "      <td>USA_01073000</td>\n",
       "      <td>2014-10-10</td>\n",
       "    </tr>\n",
       "    <tr>\n",
       "      <th>450736</th>\n",
       "      <td>7</td>\n",
       "      <td>0.250937</td>\n",
       "      <td>0.10</td>\n",
       "      <td>USA_01073000</td>\n",
       "      <td>2014-10-11</td>\n",
       "    </tr>\n",
       "    <tr>\n",
       "      <th>450737</th>\n",
       "      <td>8</td>\n",
       "      <td>0.266544</td>\n",
       "      <td>0.10</td>\n",
       "      <td>USA_01073000</td>\n",
       "      <td>2014-10-12</td>\n",
       "    </tr>\n",
       "    <tr>\n",
       "      <th>450738</th>\n",
       "      <td>9</td>\n",
       "      <td>0.338330</td>\n",
       "      <td>0.10</td>\n",
       "      <td>USA_01073000</td>\n",
       "      <td>2014-10-13</td>\n",
       "    </tr>\n",
       "    <tr>\n",
       "      <th>450739</th>\n",
       "      <td>10</td>\n",
       "      <td>0.335929</td>\n",
       "      <td>0.10</td>\n",
       "      <td>USA_01073000</td>\n",
       "      <td>2014-10-14</td>\n",
       "    </tr>\n",
       "  </tbody>\n",
       "</table>\n",
       "<p>450740 rows × 5 columns</p>\n",
       "</div>"
      ],
      "text/plain": [
       "        horizon  prediction  observed      basin_id       date\n",
       "0             1    5.144339      7.66      CA_15034 2018-07-25\n",
       "1             2    5.569612      6.91      CA_15034 2018-07-26\n",
       "2             3    5.035778      6.91      CA_15034 2018-07-27\n",
       "3             4    4.565192      6.91      CA_15034 2018-07-28\n",
       "4             5    4.963270      5.54      CA_15034 2018-07-29\n",
       "...         ...         ...       ...           ...        ...\n",
       "450735        6    0.434376      0.10  USA_01073000 2014-10-10\n",
       "450736        7    0.250937      0.10  USA_01073000 2014-10-11\n",
       "450737        8    0.266544      0.10  USA_01073000 2014-10-12\n",
       "450738        9    0.338330      0.10  USA_01073000 2014-10-13\n",
       "450739       10    0.335929      0.10  USA_01073000 2014-10-14\n",
       "\n",
       "[450740 rows x 5 columns]"
      ]
     },
     "execution_count": 16,
     "metadata": {},
     "output_type": "execute_result"
    }
   ],
   "source": [
    "df"
   ]
  },
  {
   "cell_type": "code",
   "execution_count": 17,
   "id": "dd8f78d1",
   "metadata": {},
   "outputs": [
    {
     "data": {
      "image/png": "[encoded data removed]",
      "text/plain": [
       "<Figure size 1200x600 with 1 Axes>"
      ]
     },
     "metadata": {},
     "output_type": "display_data"
    }
   ],
   "source": [
    "import matplotlib.pyplot as plt\n",
    "import matplotlib.dates as mdates\n",
    "import seaborn as sns\n",
    "\n",
    "basin_id = \"CA_15013\"\n",
    "df_basin = df[df[\"basin_id\"] == basin_id]\n",
    "\n",
    "plt.figure(figsize=(12, 6))\n",
    "plt.plot(df_basin[\"date\"], df_basin[\"prediction\"], label=\"Prediction\", color=\"blue\")\n",
    "plt.plot(df_basin[\"date\"], df_basin[\"observed\"], label=\"Observed\", color=\"orange\")\n",
    "plt.title(f\"Observed vs Prediction for {basin_id}\")\n",
    "plt.xlabel(\"Date\")\n",
    "plt.ylabel(\"Streamflow\")\n",
    "plt.legend()\n",
    "plt.gca().xaxis.set_major_locator(mdates.MonthLocator(interval=1))\n",
    "plt.gca().xaxis.set_major_formatter(mdates.DateFormatter(\"%Y-%m\"))\n",
    "plt.gcf().autofmt_xdate()\n",
    "sns.despine()\n",
    "plt.show()"
   ]
  },
  {
   "cell_type": "code",
   "execution_count": null,
   "id": "c75872aa",
   "metadata": {},
   "outputs": [],
   "source": []
  },
  {
   "cell_type": "code",
   "execution_count": null,
   "id": "31e45c91",
   "metadata": {},
   "outputs": [],
   "source": []
  }
 ],
 "metadata": {
  "kernelspec": {
   "display_name": ".venv",
   "language": "python",
   "name": "python3"
  },
  "language_info": {
   "codemirror_mode": {
    "name": "ipython",
    "version": 3
   },
   "file_extension": ".py",
   "mimetype": "text/x-python",
   "name": "python",
   "nbconvert_exporter": "python",
   "pygments_lexer": "ipython3",
   "version": "3.12.8"
  }
 },
 "nbformat": 4,
 "nbformat_minor": 5
}
