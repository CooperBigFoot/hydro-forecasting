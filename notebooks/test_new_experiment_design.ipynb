{
 "cells": [
  {
   "cell_type": "code",
   "execution_count": 1,
   "id": "5169e61c",
   "metadata": {},
   "outputs": [
    {
     "name": "stdout",
     "output_type": "stream",
     "text": [
      "Added /Users/cooper/Desktop/hydro-forecasting/src to Python path\n"
     ]
    }
   ],
   "source": [
    "import sys\n",
    "from pathlib import Path\n",
    "\n",
    "# Add src directory to Python path\n",
    "project_root = Path.cwd().parent\n",
    "src_path = project_root / \"src\"\n",
    "if str(src_path) not in sys.path:\n",
    "    sys.path.insert(0, str(src_path))\n",
    "    print(f\"Added {src_path} to Python path\")"
   ]
  },
  {
   "cell_type": "code",
   "execution_count": 2,
   "id": "247eed9f",
   "metadata": {},
   "outputs": [],
   "source": [
    "from sklearn.pipeline import Pipeline\n",
    "\n",
    "from hydro_forecasting.data.caravanify_parquet import (\n",
    "    CaravanifyParquet,\n",
    "    CaravanifyParquetConfig,\n",
    ")\n",
    "from hydro_forecasting.experiment_utils.finetune_pretrained_model import finetune_pretrained_models\n",
    "from hydro_forecasting.experiment_utils.train_model_from_scratch import train_model_from_scratch\n",
    "from hydro_forecasting.preprocessing.grouped import GroupedPipeline\n",
    "from hydro_forecasting.preprocessing.normalize import NormalizeTransformer\n",
    "from hydro_forecasting.preprocessing.standard_scale import StandardScaleTransformer"
   ]
  },
  {
   "cell_type": "markdown",
   "id": "f7670f53",
   "metadata": {},
   "source": [
    "---"
   ]
  },
  {
   "cell_type": "markdown",
   "id": "1122002d",
   "metadata": {},
   "source": [
    "## Loading the data (as gauge_ids)"
   ]
  },
  {
   "cell_type": "code",
   "execution_count": 3,
   "id": "219d1920",
   "metadata": {},
   "outputs": [],
   "source": [
    "config_ca = CaravanifyParquetConfig(\n",
    "    attributes_dir=\"/Users/cooper/Desktop/CaravanifyParquet/CA/post_processed/attributes\",\n",
    "    timeseries_dir=\"/Users/cooper/Desktop/CaravanifyParquet/CA/post_processed/timeseries/csv\",\n",
    "    shapefile_dir=\"/Users/cooper/Desktop/CAMELS-CH/data/CARAVANIFY/CA/post_processed/shapefiles\",\n",
    "    gauge_id_prefix=\"CA\",\n",
    "    use_hydroatlas_attributes=True,\n",
    "    use_caravan_attributes=True,\n",
    "    use_other_attributes=True,\n",
    ")\n",
    "\n",
    "caravan_ca = CaravanifyParquet(config_ca)\n",
    "basin_ids = caravan_ca.get_all_gauge_ids()[:10]\n",
    "\n",
    "# basin_ids = [bid for bid in basin_ids if bid != \"CA_15030\"]\n",
    "\n",
    "caravan_ca.load_stations(basin_ids)"
   ]
  },
  {
   "cell_type": "code",
   "execution_count": 4,
   "id": "09da73ee",
   "metadata": {},
   "outputs": [
    {
     "name": "stdout",
     "output_type": "stream",
     "text": [
      "       gauge_id       date  snow_depth_water_equivalent_mean  \\\n",
      "0      CA_15013 2000-01-02                        130.250000   \n",
      "1      CA_15013 2000-01-03                        144.619995   \n",
      "2      CA_15013 2000-01-04                        167.690002   \n",
      "3      CA_15013 2000-01-05                        176.240005   \n",
      "4      CA_15013 2000-01-06                        176.330002   \n",
      "...         ...        ...                               ...   \n",
      "91305  CA_15044 2024-12-27                         68.959999   \n",
      "91306  CA_15044 2024-12-28                         68.970001   \n",
      "91307  CA_15044 2024-12-29                         68.980003   \n",
      "91308  CA_15044 2024-12-30                         69.209999   \n",
      "91309  CA_15044 2024-12-31                         70.550003   \n",
      "\n",
      "       surface_net_solar_radiation_mean  surface_net_thermal_radiation_mean  \\\n",
      "0                             15.010000                           -9.280000   \n",
      "1                             10.590000                          -11.760000   \n",
      "2                             13.050000                          -16.000000   \n",
      "3                             23.730000                          -41.700001   \n",
      "4                             25.520000                          -48.740002   \n",
      "...                                 ...                                 ...   \n",
      "91305                         24.580000                          -37.200001   \n",
      "91306                         28.209999                          -45.860001   \n",
      "91307                         29.370001                          -44.029999   \n",
      "91308                         27.030001                          -35.660000   \n",
      "91309                         28.250000                          -43.689999   \n",
      "\n",
      "       surface_pressure_mean  temperature_2m_mean  \\\n",
      "0                  71.160004               -10.18   \n",
      "1                  71.110001                -8.43   \n",
      "2                  71.250000                -9.37   \n",
      "3                  71.199997               -10.44   \n",
      "4                  71.050003               -13.20   \n",
      "...                      ...                  ...   \n",
      "91305              68.690002                -9.03   \n",
      "91306              68.650002               -11.00   \n",
      "91307              68.349998                -9.37   \n",
      "91308              68.230003                -6.94   \n",
      "91309              68.269997               -10.24   \n",
      "\n",
      "       dewpoint_temperature_2m_mean  u_component_of_wind_10m_mean  \\\n",
      "0                        -13.730000                          0.95   \n",
      "1                         -9.870000                          1.72   \n",
      "2                        -11.590000                         -0.24   \n",
      "3                        -15.850000                         -0.68   \n",
      "4                        -18.980000                         -0.77   \n",
      "...                             ...                           ...   \n",
      "91305                    -19.860001                         -0.16   \n",
      "91306                    -20.379999                         -0.38   \n",
      "91307                    -22.469999                         -0.73   \n",
      "91308                    -20.799999                         -0.06   \n",
      "91309                    -17.530001                          0.17   \n",
      "\n",
      "       v_component_of_wind_10m_mean  ...  u_component_of_wind_10m_max  \\\n",
      "0                              1.99  ...                         1.86   \n",
      "1                              0.54  ...                         2.47   \n",
      "2                              0.83  ...                         1.13   \n",
      "3                              2.28  ...                        -0.03   \n",
      "4                              2.42  ...                        -0.03   \n",
      "...                             ...  ...                          ...   \n",
      "91305                          0.60  ...                         0.60   \n",
      "91306                          0.65  ...                         0.30   \n",
      "91307                          1.64  ...                         0.21   \n",
      "91308                          0.83  ...                         0.90   \n",
      "91309                          1.14  ...                         2.59   \n",
      "\n",
      "       v_component_of_wind_10m_max  volumetric_soil_water_layer_1_max  \\\n",
      "0                             2.73                               0.34   \n",
      "1                             1.44                               0.34   \n",
      "2                             1.76                               0.34   \n",
      "3                             2.72                               0.34   \n",
      "4                             2.93                               0.34   \n",
      "...                            ...                                ...   \n",
      "91305                         1.46                               0.36   \n",
      "91306                         1.51                               0.36   \n",
      "91307                         2.68                               0.36   \n",
      "91308                         1.67                               0.36   \n",
      "91309                         2.38                               0.36   \n",
      "\n",
      "       volumetric_soil_water_layer_2_max  volumetric_soil_water_layer_3_max  \\\n",
      "0                                   0.35                               0.35   \n",
      "1                                   0.35                               0.35   \n",
      "2                                   0.35                               0.35   \n",
      "3                                   0.35                               0.35   \n",
      "4                                   0.34                               0.35   \n",
      "...                                  ...                                ...   \n",
      "91305                               0.36                               0.36   \n",
      "91306                               0.36                               0.36   \n",
      "91307                               0.36                               0.36   \n",
      "91308                               0.36                               0.36   \n",
      "91309                               0.36                               0.36   \n",
      "\n",
      "       volumetric_soil_water_layer_4_max  total_precipitation_sum  \\\n",
      "0                                   0.38                 5.970000   \n",
      "1                                   0.38                20.430000   \n",
      "2                                   0.38                20.200001   \n",
      "3                                   0.38                 1.240000   \n",
      "4                                   0.38                 0.040000   \n",
      "...                                  ...                      ...   \n",
      "91305                               0.40                 0.020000   \n",
      "91306                               0.40                 0.000000   \n",
      "91307                               0.40                 0.000000   \n",
      "91308                               0.40                 0.540000   \n",
      "91309                               0.40                 1.530000   \n",
      "\n",
      "       potential_evaporation_sum_ERA5_LAND  \\\n",
      "0                                     0.13   \n",
      "1                                    -0.00   \n",
      "2                                     0.12   \n",
      "3                                     0.37   \n",
      "4                                     0.28   \n",
      "...                                    ...   \n",
      "91305                                 0.02   \n",
      "91306                                 0.01   \n",
      "91307                                 0.00   \n",
      "91308                                 0.06   \n",
      "91309                                 0.04   \n",
      "\n",
      "       potential_evaporation_sum_FAO_PENMAN_MONTEITH  streamflow  \n",
      "0                                               0.24        0.63  \n",
      "1                                               0.07        0.63  \n",
      "2                                               0.03        0.63  \n",
      "3                                               0.15        0.63  \n",
      "4                                               0.12        0.63  \n",
      "...                                              ...         ...  \n",
      "91305                                           0.03         NaN  \n",
      "91306                                           0.00         NaN  \n",
      "91307                                           0.33         NaN  \n",
      "91308                                           0.18         NaN  \n",
      "91309                                           0.06         NaN  \n",
      "\n",
      "[91310 rows x 42 columns]\n"
     ]
    }
   ],
   "source": [
    "ts = caravan_ca.get_time_series()\n",
    "print(ts)"
   ]
  },
  {
   "cell_type": "markdown",
   "id": "7f72b5c1",
   "metadata": {},
   "source": [
    "## Datamodule Configs"
   ]
  },
  {
   "cell_type": "code",
   "execution_count": null,
   "id": "1beee97f",
   "metadata": {},
   "outputs": [],
   "source": [
    "region_time_series_base_dirs = {\"CA\": \"/Users/cooper/Desktop/CaravanifyParquet/CA/post_processed/timeseries/csv/CA\"}\n",
    "\n",
    "region_static_attributes_base_dirs = {\"CA\": \"/Users/cooper/Desktop/CaravanifyParquet/CA/post_processed/attributes/CA\"}\n",
    "\n",
    "path_to_preprocessing_output_directory = \"/Users/cooper/Desktop/hydro-forecasting/tests/yolo_7\""
   ]
  },
  {
   "cell_type": "code",
   "execution_count": null,
   "id": "13ff3b6b",
   "metadata": {},
   "outputs": [],
   "source": [
    "forcing_features = [\n",
    "    \"snow_depth_water_equivalent_mean\",\n",
    "    \"surface_net_solar_radiation_mean\",\n",
    "    \"surface_net_thermal_radiation_mean\",\n",
    "    \"potential_evaporation_sum_ERA5_LAND\",\n",
    "    \"potential_evaporation_sum_FAO_PENMAN_MONTEITH\",\n",
    "    \"temperature_2m_mean\",\n",
    "    \"temperature_2m_min\",\n",
    "    \"temperature_2m_max\",\n",
    "    \"total_precipitation_sum\",\n",
    "]\n",
    "\n",
    "static_features = [\n",
    "    \"p_mean\",\n",
    "    \"area\",\n",
    "    \"ele_mt_sav\",\n",
    "    \"high_prec_dur\",\n",
    "    \"frac_snow\",\n",
    "    \"high_prec_freq\",\n",
    "    \"slp_dg_sav\",\n",
    "    \"cly_pc_sav\",\n",
    "    \"aridity_ERA5_LAND\",\n",
    "    \"aridity_FAO_PM\",\n",
    "]\n",
    "\n",
    "target = \"streamflow\""
   ]
  },
  {
   "cell_type": "code",
   "execution_count": null,
   "id": "c6532e89",
   "metadata": {},
   "outputs": [],
   "source": [
    "feature_pipeline = GroupedPipeline(\n",
    "    Pipeline([(\"scaler\", StandardScaleTransformer()), (\"normalizer\", NormalizeTransformer())]),\n",
    "    columns=forcing_features,\n",
    "    group_identifier=\"gauge_id\",\n",
    ")\n",
    "\n",
    "target_pipeline = GroupedPipeline(\n",
    "    Pipeline([(\"scaler\", StandardScaleTransformer()), (\"normalizer\", NormalizeTransformer())]),\n",
    "    columns=[\"streamflow\"],\n",
    "    group_identifier=\"gauge_id\",\n",
    ")\n",
    "\n",
    "static_pipeline = Pipeline([(\"scaler\", StandardScaleTransformer())])\n",
    "\n",
    "preprocessing_config = {\n",
    "    \"features\": {\"pipeline\": feature_pipeline},\n",
    "    \"target\": {\"pipeline\": target_pipeline},\n",
    "    \"static_features\": {\"pipeline\": static_pipeline, \"columns\": static_features},\n",
    "}"
   ]
  },
  {
   "cell_type": "code",
   "execution_count": null,
   "id": "300d6197",
   "metadata": {},
   "outputs": [],
   "source": [
    "datamodule_config = {\n",
    "    \"region_time_series_base_dirs\": region_time_series_base_dirs,\n",
    "    \"region_static_attributes_base_dirs\": region_static_attributes_base_dirs,\n",
    "    \"path_to_preprocessing_output_directory\": path_to_preprocessing_output_directory,\n",
    "    \"group_identifier\": \"gauge_id\",\n",
    "    \"batch_size\": 2048,\n",
    "    \"forcing_features\": forcing_features,\n",
    "    \"static_features\": static_features,\n",
    "    \"target\": target,\n",
    "    \"num_workers\": 4,\n",
    "    \"min_train_years\": 5,\n",
    "    \"train_prop\": 0.5,\n",
    "    \"val_prop\": 0.25,\n",
    "    \"test_prop\": 0.25,\n",
    "    \"max_imputation_gap_size\": 5,\n",
    "    \"chunk_size\": 10,\n",
    "    \"is_autoregressive\": True,\n",
    "    \"preprocessing_configs\": preprocessing_config,\n",
    "}"
   ]
  },
  {
   "cell_type": "markdown",
   "id": "1df7e4b1",
   "metadata": {},
   "source": [
    "## Training Configs"
   ]
  },
  {
   "cell_type": "code",
   "execution_count": null,
   "id": "fb4a8dd0",
   "metadata": {},
   "outputs": [],
   "source": [
    "training_config = {\n",
    "    \"max_epochs\": 5,\n",
    "    \"accelerator\": \"mps\",\n",
    "    \"devices\": 1,\n",
    "    \"precision\": 16,\n",
    "    \"early_stopping_patience\": 10,\n",
    "    \"reload_dataloaders_every_n_epochs\": 1,\n",
    "}"
   ]
  },
  {
   "cell_type": "markdown",
   "id": "5dbfa524",
   "metadata": {},
   "source": [
    "## Remaining Configs"
   ]
  },
  {
   "cell_type": "code",
   "execution_count": null,
   "id": "a57c83ac",
   "metadata": {},
   "outputs": [],
   "source": [
    "output_dir = \"/Users/cooper/Desktop/hydro-forecasting/tests/yolo_7\"\n",
    "model_types = [\"tide\", \"ealstm\"]\n",
    "yaml_paths = [\n",
    "    \"/Users/cooper/Desktop/hydro-forecasting/experiments/TiDE_on_low_medium/yaml_files/tide.yaml\",\n",
    "    \"/Users/cooper/Desktop/hydro-forecasting/experiments/TiDE_on_low_medium/yaml_files/ealstm.yaml\",\n",
    "]\n",
    "experiment_name = \"first_test\"\n",
    "num_runs = 2\n",
    "override_previous_attempts = False"
   ]
  },
  {
   "cell_type": "markdown",
   "id": "1b21974c",
   "metadata": {},
   "source": [
    "## Training the models from scratch"
   ]
  },
  {
   "cell_type": "code",
   "execution_count": null,
   "id": "202c6d4b",
   "metadata": {},
   "outputs": [],
   "source": [
    "train_results = train_model_from_scratch(\n",
    "    gauge_ids=basin_ids,\n",
    "    datamodule_config=datamodule_config,\n",
    "    training_config=training_config,\n",
    "    output_dir=output_dir,\n",
    "    model_types=model_types,\n",
    "    yaml_paths=yaml_paths,\n",
    "    experiment_name=experiment_name,\n",
    "    num_runs=num_runs,\n",
    "    override_previous_attempts=override_previous_attempts,\n",
    ")"
   ]
  },
  {
   "cell_type": "code",
   "execution_count": null,
   "id": "dbb72cd5",
   "metadata": {},
   "outputs": [],
   "source": [
    "train_results = train_results.unwrap()"
   ]
  },
  {
   "cell_type": "code",
   "execution_count": null,
   "id": "e1864fad",
   "metadata": {},
   "outputs": [],
   "source": [
    "train_results"
   ]
  },
  {
   "cell_type": "code",
   "execution_count": null,
   "id": "a0516ff2",
   "metadata": {},
   "outputs": [],
   "source": [
    "# def finetune_pretrained_models(\n",
    "#     # --- Pretrained Model Identification ---\n",
    "#     gauge_ids: list[str],\n",
    "#     pretrained_experiment_output_dir: str | Path,\n",
    "#     model_types: list[str],\n",
    "#     pretrained_yaml_paths: list[str | Path] | str | Path,\n",
    "#     datamodule_config: dict[str, Any],\n",
    "#     training_config: dict[str, Any],\n",
    "#     output_dir: str | Path,\n",
    "#     experiment_name: str,\n",
    "#     select_best_from_pretrained: bool = True,\n",
    "#     pretrained_run_index: int | None = None,\n",
    "#     pretrained_attempt_index: int | None = None,\n",
    "#     lr_reduction_factor: float = 10.0,\n",
    "#     num_runs: int = 1,\n",
    "#     base_seed: int = 42,\n",
    "#     override_previous_attempts: bool = False,\n",
    "\n",
    "finetune_results = finetune_pretrained_models(\n",
    "    gauge_ids=basin_ids,\n",
    "    pretrained_experiment_output_dir=output_dir + \"/first_test/checkpoints\",\n",
    "    model_types=model_types,\n",
    "    pretrained_yaml_paths=yaml_paths,\n",
    "    datamodule_config=datamodule_config,\n",
    "    training_config=training_config,\n",
    "    output_dir=output_dir,\n",
    "    experiment_name=\"finetune_test\",\n",
    "    select_best_from_pretrained=True,\n",
    "    lr_reduction_factor=10.0,\n",
    "    num_runs=1,\n",
    "    base_seed=42,\n",
    "    override_previous_attempts=False,\n",
    ")"
   ]
  },
  {
   "cell_type": "code",
   "execution_count": null,
   "id": "d4e60073",
   "metadata": {},
   "outputs": [],
   "source": []
  }
 ],
 "metadata": {
  "kernelspec": {
   "display_name": ".venv",
   "language": "python",
   "name": "python3"
  },
  "language_info": {
   "codemirror_mode": {
    "name": "ipython",
    "version": 3
   },
   "file_extension": ".py",
   "mimetype": "text/x-python",
   "name": "python",
   "nbconvert_exporter": "python",
   "pygments_lexer": "ipython3",
   "version": "3.12.8"
  }
 },
 "nbformat": 4,
 "nbformat_minor": 5
}
