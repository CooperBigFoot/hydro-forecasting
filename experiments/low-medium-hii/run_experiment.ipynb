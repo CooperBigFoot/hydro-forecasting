{
   "cells": [
      {
         "cell_type": "code",
         "execution_count": 1,
         "id": "2f2fc10e",
         "metadata": {},
         "outputs": [],
         "source": [
            "# !jupyter lab build"
         ]
      },
      {
         "cell_type": "code",
         "execution_count": 2,
         "id": "659bed6b",
         "metadata": {},
         "outputs": [],
         "source": [
            "import sys\n",
            "from pathlib import Path\n",
            "\n",
            "# Add src directory to Python path\n",
            "project_root = Path.cwd().parent.parent\n",
            "src_path = project_root / \"src\"\n",
            "if str(src_path) not in sys.path:\n",
            "    sys.path.insert(0, str(src_path))\n",
            "    print(f\"Added {src_path} to Python path\")"
         ]
      },
      {
         "cell_type": "code",
         "execution_count": 3,
         "id": "dcdcbb1b",
         "metadata": {},
         "outputs": [],
         "source": [
            "import logging\n",
            "\n",
            "logging.disable(logging.CRITICAL)"
         ]
      },
      {
         "cell_type": "code",
         "execution_count": 4,
         "id": "f65efe2c",
         "metadata": {},
         "outputs": [
            {
               "name": "stderr",
               "output_type": "stream",
               "text": [
                  "/usr/local/lib/python3.10/dist-packages/torchvision/io/image.py:13: UserWarning: Failed to load image Python extension: '/usr/local/lib/python3.10/dist-packages/torchvision/image.so: undefined symbol: _ZN3c1017RegisterOperatorsD1Ev'If you don't plan on using image functionality from `torchvision.io`, you can ignore this warning. Otherwise, there might be something wrong with your environment. Did you have `libjpeg` or `libpng` installed before building `torchvision` from source?\n",
                  "  warn(\n"
               ]
            }
         ],
         "source": [
            "import torch\n",
            "from sklearn.pipeline import Pipeline\n",
            "\n",
            "from hydro_forecasting.data.caravanify_parquet import (\n",
            "    CaravanifyParquet,\n",
            "    CaravanifyParquetConfig,\n",
            ")\n",
            "from hydro_forecasting.experiment_utils.train_model_from_scratch import train_model_from_scratch\n",
            "from hydro_forecasting.preprocessing.grouped import GroupedPipeline\n",
            "from hydro_forecasting.preprocessing.normalize import NormalizeTransformer\n",
            "from hydro_forecasting.preprocessing.standard_scale import StandardScaleTransformer"
         ]
      },
      {
         "cell_type": "markdown",
         "id": "5e7c3393",
         "metadata": {},
         "source": [
            "---"
         ]
      },
      {
         "cell_type": "markdown",
         "id": "dab68b34",
         "metadata": {},
         "source": [
            "## Experiment constants"
         ]
      },
      {
         "cell_type": "code",
         "execution_count": 5,
         "id": "7a6885fe",
         "metadata": {},
         "outputs": [],
         "source": [
            "REGIONS = [\n",
            "    \"CL\",\n",
            "    \"CH\",\n",
            "    \"USA\",\n",
            "    \"camelsaus\",\n",
            "    \"camelsgb\",\n",
            "    \"camelsbr\",\n",
            "    \"hysets\",\n",
            "    \"lamah\",\n",
            "]\n",
            "\n",
            "COUNTRY = \"tajikistan\""
         ]
      },
      {
         "cell_type": "markdown",
         "id": "2533b81f",
         "metadata": {},
         "source": [
            "## Loading the data (as gauge_ids)"
         ]
      },
      {
         "cell_type": "code",
         "execution_count": 6,
         "id": "ed0ce646",
         "metadata": {},
         "outputs": [
            {
               "name": "stdout",
               "output_type": "stream",
               "text": [
                  "Loading basin IDs for region: CL\n",
                  "Original gauge_ids: 505\n",
                  "Filtered gauge_ids: 487\n",
                  "Loading basin IDs for region: CH\n",
                  "Original gauge_ids: 135\n",
                  "Filtered gauge_ids: 0\n",
                  "No gauge_ids matched the specified human influence categories.\n",
                  "Loading basin IDs for region: USA\n",
                  "Original gauge_ids: 671\n",
                  "Filtered gauge_ids: 567\n",
                  "Loading basin IDs for region: camelsaus\n",
                  "Original gauge_ids: 222\n",
                  "Filtered gauge_ids: 215\n",
                  "Loading basin IDs for region: camelsgb\n",
                  "Original gauge_ids: 671\n",
                  "Filtered gauge_ids: 538\n",
                  "Loading basin IDs for region: camelsbr\n",
                  "Original gauge_ids: 870\n",
                  "Filtered gauge_ids: 868\n",
                  "Loading basin IDs for region: hysets\n",
                  "Original gauge_ids: 12162\n",
                  "Filtered gauge_ids: 8463\n",
                  "Loading basin IDs for region: lamah\n",
                  "Original gauge_ids: 859\n",
                  "Filtered gauge_ids: 812\n",
                  "11950 basin IDs loaded\n"
               ]
            }
         ],
         "source": [
            "def load_basin_ids(regions, human_influence_path: str, human_influence_categories: list):\n",
            "    \"\"\"\n",
            "    Simple function to load basin IDs from multiple regions and filter by human influence.\n",
            "\n",
            "    Args:\n",
            "        regions: List of region names to process\n",
            "        human_influence_path: Path to human influence classification file\n",
            "        human_influence_categories: Categories of human influence to keep\n",
            "\n",
            "    Returns:\n",
            "        List of filtered basin IDs\n",
            "    \"\"\"\n",
            "\n",
            "    human_influence_path = Path(human_influence_path)\n",
            "\n",
            "    basin_ids = []\n",
            "\n",
            "    for region in regions:\n",
            "        print(f\"Loading basin IDs for region: {region}\")\n",
            "        # Set up paths\n",
            "        attributes_dir = f\"/workspace/CaravanifyParquet/{region}/post_processed/attributes\"\n",
            "        timeseries_dir = f\"/workspace/CaravanifyParquet/{region}/post_processed/timeseries/csv\"\n",
            "\n",
            "        # Create config\n",
            "        config = CaravanifyParquetConfig(\n",
            "            attributes_dir=attributes_dir,\n",
            "            timeseries_dir=timeseries_dir,\n",
            "            human_influence_path=human_influence_path,\n",
            "            gauge_id_prefix=region,\n",
            "            use_hydroatlas_attributes=True,\n",
            "            use_caravan_attributes=True,\n",
            "            use_other_attributes=True,\n",
            "        )\n",
            "\n",
            "        # Get and filter basin IDs\n",
            "        caravan = CaravanifyParquet(config)\n",
            "        region_basin_ids = caravan.get_all_gauge_ids()\n",
            "\n",
            "        # Filter by human influence if path provided\n",
            "        if human_influence_path and human_influence_path.exists():\n",
            "            filtered_ids, _ = caravan.filter_gauge_ids_by_human_influence(region_basin_ids, human_influence_categories)\n",
            "        else:\n",
            "            filtered_ids = region_basin_ids\n",
            "\n",
            "        basin_ids.extend(filtered_ids)\n",
            "\n",
            "    # Return unique, sorted basin IDs\n",
            "    return sorted(set(basin_ids))\n",
            "\n",
            "\n",
            "basin_ids = load_basin_ids(\n",
            "    REGIONS,\n",
            "    human_influence_path=\"/workspace/hydro-forecasting/scripts/human_influence_index/results/human_influence_classification.parquet\",\n",
            "    human_influence_categories=[\"Low\", \"Medium\"],\n",
            ")\n",
            "\n",
            "print(len(basin_ids), \"basin IDs loaded\")"
         ]
      },
      {
         "cell_type": "markdown",
         "id": "73f9edf0",
         "metadata": {},
         "source": [
            "## Datamodule Configs"
         ]
      },
      {
         "cell_type": "code",
         "execution_count": 7,
         "id": "c2ea76fb",
         "metadata": {},
         "outputs": [],
         "source": [
            "region_time_series_base_dirs = {\n",
            "    region: f\"/workspace/CaravanifyParquet/{region}/post_processed/timeseries/csv/{region}\" for region in REGIONS\n",
            "}\n",
            "\n",
            "region_static_attributes_base_dirs = {\n",
            "    region: f\"/workspace/CaravanifyParquet/{region}/post_processed/attributes/{region}\" for region in REGIONS\n",
            "}\n",
            "\n",
            "path_to_preprocessing_output_directory = \"/workspace/hydro-forecasting/experiments/low-medium-hii/data_cache\""
         ]
      },
      {
         "cell_type": "code",
         "execution_count": 8,
         "id": "f14911d3",
         "metadata": {},
         "outputs": [],
         "source": [
            "forcing_features = [\n",
            "    \"snow_depth_water_equivalent_mean\",\n",
            "    \"surface_net_solar_radiation_mean\",\n",
            "    \"surface_net_thermal_radiation_mean\",\n",
            "    \"potential_evaporation_sum_ERA5_LAND\",\n",
            "    \"potential_evaporation_sum_FAO_PENMAN_MONTEITH\",\n",
            "    \"temperature_2m_mean\",\n",
            "    \"temperature_2m_min\",\n",
            "    \"temperature_2m_max\",\n",
            "    \"total_precipitation_sum\",\n",
            "]\n",
            "\n",
            "static_features = [\n",
            "    \"p_mean\",\n",
            "    \"area\",\n",
            "    \"ele_mt_sav\",\n",
            "    \"high_prec_dur\",\n",
            "    \"frac_snow\",\n",
            "    \"high_prec_freq\",\n",
            "    \"slp_dg_sav\",\n",
            "    \"cly_pc_sav\",\n",
            "    \"aridity_ERA5_LAND\",\n",
            "    \"aridity_FAO_PM\",\n",
            "]\n",
            "\n",
            "target = \"streamflow\""
         ]
      },
      {
         "cell_type": "code",
         "execution_count": 9,
         "id": "962da35a",
         "metadata": {},
         "outputs": [],
         "source": [
            "feature_pipeline = GroupedPipeline(\n",
            "    Pipeline([(\"scaler\", StandardScaleTransformer()), (\"normalizer\", NormalizeTransformer())]),\n",
            "    columns=forcing_features,\n",
            "    group_identifier=\"gauge_id\",\n",
            ")\n",
            "\n",
            "target_pipeline = GroupedPipeline(\n",
            "    Pipeline([(\"scaler\", StandardScaleTransformer()), (\"normalizer\", NormalizeTransformer())]),\n",
            "    columns=[\"streamflow\"],\n",
            "    group_identifier=\"gauge_id\",\n",
            ")\n",
            "\n",
            "static_pipeline = Pipeline([(\"scaler\", StandardScaleTransformer())])\n",
            "\n",
            "preprocessing_config = {\n",
            "    \"features\": {\"pipeline\": feature_pipeline},\n",
            "    \"target\": {\"pipeline\": target_pipeline},\n",
            "    \"static_features\": {\"pipeline\": static_pipeline, \"columns\": static_features},\n",
            "}"
         ]
      },
      {
         "cell_type": "code",
         "execution_count": 10,
         "id": "cd0f0b66",
         "metadata": {},
         "outputs": [],
         "source": [
            "datamodule_config = {\n",
            "    \"region_time_series_base_dirs\": region_time_series_base_dirs,\n",
            "    \"region_static_attributes_base_dirs\": region_static_attributes_base_dirs,\n",
            "    \"path_to_preprocessing_output_directory\": path_to_preprocessing_output_directory,\n",
            "    \"group_identifier\": \"gauge_id\",\n",
            "    \"batch_size\": 2048,\n",
            "    \"forcing_features\": forcing_features,\n",
            "    \"static_features\": static_features,\n",
            "    \"target\": target,\n",
            "    \"num_workers\": 12,\n",
            "    \"min_train_years\": 10,\n",
            "    \"train_prop\": 0.5,\n",
            "    \"val_prop\": 0.25,\n",
            "    \"test_prop\": 0.25,\n",
            "    \"max_imputation_gap_size\": 5,\n",
            "    \"chunk_size\": 1500,\n",
            "    \"validation_chunk_size\": 4000,\n",
            "    \"is_autoregressive\": True,\n",
            "    \"preprocessing_configs\": preprocessing_config,\n",
            "}"
         ]
      },
      {
         "cell_type": "markdown",
         "id": "158363b3",
         "metadata": {},
         "source": [
            "## Training Configs"
         ]
      },
      {
         "cell_type": "code",
         "execution_count": 11,
         "id": "9709710c",
         "metadata": {},
         "outputs": [],
         "source": [
            "training_config = {\n",
            "    \"max_epochs\": 250,\n",
            "    \"accelerator\": \"cuda\" if torch.cuda.is_available() else \"cpu\",\n",
            "    \"devices\": 1,\n",
            "    \"early_stopping_patience\": 12,\n",
            "    \"reload_dataloaders_every_n_epochs\": 1,\n",
            "}"
         ]
      },
      {
         "cell_type": "markdown",
         "id": "38258592",
         "metadata": {},
         "source": [
            "## Remaining Configs"
         ]
      },
      {
         "cell_type": "code",
         "execution_count": 12,
         "id": "2274e894",
         "metadata": {},
         "outputs": [],
         "source": [
            "output_dir = \"/workspace/hydro-forecasting/experiments/low-medium-hii\"\n",
            "model_types = [\"ealstm\", \"tsmixer\"]\n",
            "yaml_paths = [\n",
            "    # f\"/workspace/hydro-forecasting/experiments/yaml-files/{COUNTRY}/tide.yaml\",\n",
            "    f\"/workspace/hydro-forecasting/experiments/yaml-files/{COUNTRY}/ealstm.yaml\",\n",
            "    f\"/workspace/hydro-forecasting/experiments/yaml-files/{COUNTRY}/tsmixer.yaml\",\n",
            "    # f\"/workspace/hydro-forecasting/experiments/yaml-files/{COUNTRY}/tft.yaml\",\n",
            "]\n",
            "experiment_name = f\"low-medium-hii_{COUNTRY}\"\n",
            "num_runs = 1\n",
            "override_previous_attempts = False"
         ]
      },
      {
         "cell_type": "markdown",
         "id": "fb369289",
         "metadata": {},
         "source": [
            "## Training the models from scratch"
         ]
      },
      {
         "cell_type": "code",
         "execution_count": null,
         "id": "1054c874",
         "metadata": {},
         "outputs": [
            {
               "name": "stdout",
               "output_type": "stream",
               "text": [
                  "The following parameters were not found in the YAML file and will use defaults:\n",
                  "  - bias (model-specific)\n",
                  "  - bidirectional (model-specific)\n",
                  "  - bidirectional_fusion (model-specific)\n",
                  "  - future_hidden_size (model-specific)\n",
                  "  - future_layers (model-specific)\n",
                  "  - scheduler_factor (model-specific)\n",
                  "  - scheduler_patience (model-specific)\n"
               ]
            },
            {
               "data": {
                  "application/vnd.jupyter.widget-view+json": {
                     "model_id": "453d984594994211be21cb7f5cddaf4e",
                     "version_major": 2,
                     "version_minor": 0
                  },
                  "text/plain": [
                     "Sanity Checking: |          | 0/? [00:00<?, ?it/s]"
                  ]
               },
               "metadata": {},
               "output_type": "display_data"
            },
            {
               "name": "stderr",
               "output_type": "stream",
               "text": [
                  "/usr/local/lib/python3.10/dist-packages/pytorch_lightning/trainer/connectors/data_connector.py:432: The combination of `DataLoader(`pin_memory=True`, `persistent_workers=True`) and `Trainer(reload_dataloaders_every_n_epochs > 0)` can lead to instability due to limitations in PyTorch (https://github.com/pytorch/pytorch/issues/91252). We recommend setting `pin_memory=False` in this case.\n"
               ]
            },
            {
               "data": {
                  "application/vnd.jupyter.widget-view+json": {
                     "model_id": "7194b2837ced4a8299f47ae2d21a5723",
                     "version_major": 2,
                     "version_minor": 0
                  },
                  "text/plain": [
                     "Training: |          | 0/? [00:00<?, ?it/s]"
                  ]
               },
               "metadata": {},
               "output_type": "display_data"
            },
            {
               "data": {
                  "application/vnd.jupyter.widget-view+json": {
                     "model_id": "62f3bc4787564a6b8b52f23bffc850d4",
                     "version_major": 2,
                     "version_minor": 0
                  },
                  "text/plain": [
                     "Validation: |          | 0/? [00:00<?, ?it/s]"
                  ]
               },
               "metadata": {},
               "output_type": "display_data"
            },
            {
               "data": {
                  "application/vnd.jupyter.widget-view+json": {
                     "model_id": "f15ba2095d61454eba9b6f2f0553498e",
                     "version_major": 2,
                     "version_minor": 0
                  },
                  "text/plain": [
                     "Validation: |          | 0/? [00:00<?, ?it/s]"
                  ]
               },
               "metadata": {},
               "output_type": "display_data"
            },
            {
               "data": {
                  "application/vnd.jupyter.widget-view+json": {
                     "model_id": "18d39a182f80427ba69ea25e67e34112",
                     "version_major": 2,
                     "version_minor": 0
                  },
                  "text/plain": [
                     "Validation: |          | 0/? [00:00<?, ?it/s]"
                  ]
               },
               "metadata": {},
               "output_type": "display_data"
            },
            {
               "data": {
                  "application/vnd.jupyter.widget-view+json": {
                     "model_id": "bba207f80b2c4259b5db39c285e8428f",
                     "version_major": 2,
                     "version_minor": 0
                  },
                  "text/plain": [
                     "Validation: |          | 0/? [00:00<?, ?it/s]"
                  ]
               },
               "metadata": {},
               "output_type": "display_data"
            },
            {
               "data": {
                  "application/vnd.jupyter.widget-view+json": {
                     "model_id": "fb3352af53604e9fb65698e50e64ea27",
                     "version_major": 2,
                     "version_minor": 0
                  },
                  "text/plain": [
                     "Validation: |          | 0/? [00:00<?, ?it/s]"
                  ]
               },
               "metadata": {},
               "output_type": "display_data"
            },
            {
               "data": {
                  "application/vnd.jupyter.widget-view+json": {
                     "model_id": "921e51be47554432a51ad7071b5097b2",
                     "version_major": 2,
                     "version_minor": 0
                  },
                  "text/plain": [
                     "Validation: |          | 0/? [00:00<?, ?it/s]"
                  ]
               },
               "metadata": {},
               "output_type": "display_data"
            },
            {
               "data": {
                  "application/vnd.jupyter.widget-view+json": {
                     "model_id": "29fdb1c97e78454c9b20599ee8520c08",
                     "version_major": 2,
                     "version_minor": 0
                  },
                  "text/plain": [
                     "Validation: |          | 0/? [00:00<?, ?it/s]"
                  ]
               },
               "metadata": {},
               "output_type": "display_data"
            },
            {
               "data": {
                  "application/vnd.jupyter.widget-view+json": {
                     "model_id": "22abb1d791174b8bad5e1c3527cb07e9",
                     "version_major": 2,
                     "version_minor": 0
                  },
                  "text/plain": [
                     "Validation: |          | 0/? [00:00<?, ?it/s]"
                  ]
               },
               "metadata": {},
               "output_type": "display_data"
            },
            {
               "data": {
                  "application/vnd.jupyter.widget-view+json": {
                     "model_id": "a38f4af3dee44a528ff5b8c57382944f",
                     "version_major": 2,
                     "version_minor": 0
                  },
                  "text/plain": [
                     "Validation: |          | 0/? [00:00<?, ?it/s]"
                  ]
               },
               "metadata": {},
               "output_type": "display_data"
            },
            {
               "data": {
                  "application/vnd.jupyter.widget-view+json": {
                     "model_id": "cdcbb3ee2fea4030bac1cc6f6ecc1406",
                     "version_major": 2,
                     "version_minor": 0
                  },
                  "text/plain": [
                     "Validation: |          | 0/? [00:00<?, ?it/s]"
                  ]
               },
               "metadata": {},
               "output_type": "display_data"
            },
            {
               "data": {
                  "application/vnd.jupyter.widget-view+json": {
                     "model_id": "b831399f95a04a39b3b3194805247d44",
                     "version_major": 2,
                     "version_minor": 0
                  },
                  "text/plain": [
                     "Validation: |          | 0/? [00:00<?, ?it/s]"
                  ]
               },
               "metadata": {},
               "output_type": "display_data"
            },
            {
               "data": {
                  "application/vnd.jupyter.widget-view+json": {
                     "model_id": "6039d8b35e6947938154c704684b8211",
                     "version_major": 2,
                     "version_minor": 0
                  },
                  "text/plain": [
                     "Validation: |          | 0/? [00:00<?, ?it/s]"
                  ]
               },
               "metadata": {},
               "output_type": "display_data"
            },
            {
               "data": {
                  "application/vnd.jupyter.widget-view+json": {
                     "model_id": "7219f500a0034bdfab342ee0e3c34bde",
                     "version_major": 2,
                     "version_minor": 0
                  },
                  "text/plain": [
                     "Validation: |          | 0/? [00:00<?, ?it/s]"
                  ]
               },
               "metadata": {},
               "output_type": "display_data"
            },
            {
               "data": {
                  "application/vnd.jupyter.widget-view+json": {
                     "model_id": "51a671e91f724bc884709f1b238f0314",
                     "version_major": 2,
                     "version_minor": 0
                  },
                  "text/plain": [
                     "Validation: |          | 0/? [00:00<?, ?it/s]"
                  ]
               },
               "metadata": {},
               "output_type": "display_data"
            },
            {
               "data": {
                  "application/vnd.jupyter.widget-view+json": {
                     "model_id": "3bc90e11d12940b2ad8ba350941dc922",
                     "version_major": 2,
                     "version_minor": 0
                  },
                  "text/plain": [
                     "Validation: |          | 0/? [00:00<?, ?it/s]"
                  ]
               },
               "metadata": {},
               "output_type": "display_data"
            },
            {
               "data": {
                  "application/vnd.jupyter.widget-view+json": {
                     "model_id": "ab0b6287a2ea43939cc84f459176426c",
                     "version_major": 2,
                     "version_minor": 0
                  },
                  "text/plain": [
                     "Validation: |          | 0/? [00:00<?, ?it/s]"
                  ]
               },
               "metadata": {},
               "output_type": "display_data"
            },
            {
               "data": {
                  "application/vnd.jupyter.widget-view+json": {
                     "model_id": "4211970d8691476598973263dbe9209d",
                     "version_major": 2,
                     "version_minor": 0
                  },
                  "text/plain": [
                     "Validation: |          | 0/? [00:00<?, ?it/s]"
                  ]
               },
               "metadata": {},
               "output_type": "display_data"
            },
            {
               "data": {
                  "application/vnd.jupyter.widget-view+json": {
                     "model_id": "604bc4ae99964be588c33bdefea2aadc",
                     "version_major": 2,
                     "version_minor": 0
                  },
                  "text/plain": [
                     "Validation: |          | 0/? [00:00<?, ?it/s]"
                  ]
               },
               "metadata": {},
               "output_type": "display_data"
            },
            {
               "data": {
                  "application/vnd.jupyter.widget-view+json": {
                     "model_id": "0ee04dd0c63f4f27b0f906c61c48be15",
                     "version_major": 2,
                     "version_minor": 0
                  },
                  "text/plain": [
                     "Validation: |          | 0/? [00:00<?, ?it/s]"
                  ]
               },
               "metadata": {},
               "output_type": "display_data"
            }
         ],
         "source": [
            "train_results = train_model_from_scratch(\n",
            "    gauge_ids=basin_ids,\n",
            "    datamodule_config=datamodule_config,\n",
            "    training_config=training_config,\n",
            "    output_dir=output_dir,\n",
            "    model_types=model_types,\n",
            "    yaml_paths=yaml_paths,\n",
            "    experiment_name=experiment_name,\n",
            "    num_runs=num_runs,\n",
            "    override_previous_attempts=override_previous_attempts,\n",
            "    base_seed=1\n",
            ")"
         ]
      }
   ],
   "metadata": {
      "kernelspec": {
         "display_name": "Python 3",
         "language": "python",
         "name": "python3"
      },
      "language_info": {
         "codemirror_mode": {
            "name": "ipython",
            "version": 3
         },
         "file_extension": ".py",
         "mimetype": "text/x-python",
         "name": "python",
         "nbconvert_exporter": "python",
         "pygments_lexer": "ipython3",
         "version": "3.10.12"
      }
   },
   "nbformat": 4,
   "nbformat_minor": 5
}
