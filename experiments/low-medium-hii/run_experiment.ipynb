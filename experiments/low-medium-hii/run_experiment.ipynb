{
   "cells": [
      {
         "cell_type": "code",
         "execution_count": 1,
         "id": "2f2fc10e",
         "metadata": {},
         "outputs": [],
         "source": [
            "# !jupyter lab build"
         ]
      },
      {
         "cell_type": "code",
         "execution_count": 2,
         "id": "659bed6b",
         "metadata": {},
         "outputs": [],
         "source": [
            "import sys\n",
            "from pathlib import Path\n",
            "\n",
            "# Add src directory to Python path\n",
            "project_root = Path.cwd().parent.parent\n",
            "src_path = project_root / \"src\"\n",
            "if str(src_path) not in sys.path:\n",
            "    sys.path.insert(0, str(src_path))\n",
            "    print(f\"Added {src_path} to Python path\")"
         ]
      },
      {
         "cell_type": "code",
         "execution_count": 3,
         "id": "dcdcbb1b",
         "metadata": {},
         "outputs": [],
         "source": [
            "import logging\n",
            "\n",
            "logging.disable(logging.CRITICAL)\n",
            "# logging.basicConfig(\n",
            "#     level=logging.INFO,\n",
            "#     format=\"%(asctime)s - %(levelname)s - %(message)s\",\n",
            "#     datefmt=\"%Y-%m-%d %H:%M:%S\",\n",
            "# )"
         ]
      },
      {
         "cell_type": "code",
         "execution_count": 4,
         "id": "f65efe2c",
         "metadata": {},
         "outputs": [
            {
               "name": "stderr",
               "output_type": "stream",
               "text": [
                  "/usr/local/lib/python3.10/dist-packages/torchvision/io/image.py:13: UserWarning: Failed to load image Python extension: '/usr/local/lib/python3.10/dist-packages/torchvision/image.so: undefined symbol: _ZN3c1017RegisterOperatorsD1Ev'If you don't plan on using image functionality from `torchvision.io`, you can ignore this warning. Otherwise, there might be something wrong with your environment. Did you have `libjpeg` or `libpng` installed before building `torchvision` from source?\n",
                  "  warn(\n"
               ]
            }
         ],
         "source": [
            "import torch\n",
            "from sklearn.pipeline import Pipeline\n",
            "\n",
            "from hydro_forecasting.data.caravanify_parquet import (\n",
            "    CaravanifyParquet,\n",
            "    CaravanifyParquetConfig,\n",
            ")\n",
            "from hydro_forecasting.experiment_utils.train_model_from_scratch import train_model_from_scratch\n",
            "from hydro_forecasting.preprocessing.grouped import GroupedPipeline\n",
            "from hydro_forecasting.preprocessing.normalize import NormalizeTransformer\n",
            "from hydro_forecasting.preprocessing.standard_scale import StandardScaleTransformer"
         ]
      },
      {
         "cell_type": "markdown",
         "id": "5e7c3393",
         "metadata": {},
         "source": [
            "---"
         ]
      },
      {
         "cell_type": "markdown",
         "id": "dab68b34",
         "metadata": {},
         "source": [
            "## Experiment constants"
         ]
      },
      {
         "cell_type": "code",
         "execution_count": 5,
         "id": "7a6885fe",
         "metadata": {},
         "outputs": [],
         "source": [
            "REGIONS = [\n",
            "    \"CL\",\n",
            "    \"CH\",\n",
            "    \"USA\",\n",
            "    \"camelsaus\",\n",
            "    \"camelsgb\",\n",
            "    \"camelsbr\",\n",
            "    \"hysets\",\n",
            "    \"lamah\",\n",
            "]\n",
            "\n",
            "COUNTRY = \"tajikistan\""
         ]
      },
      {
         "cell_type": "markdown",
         "id": "2533b81f",
         "metadata": {},
         "source": [
            "## Loading the data (as gauge_ids)"
         ]
      },
      {
         "cell_type": "code",
         "execution_count": 6,
         "id": "ed0ce646",
         "metadata": {},
         "outputs": [
            {
               "name": "stdout",
               "output_type": "stream",
               "text": [
                  "Loading basin IDs for region: CL\n",
                  "Original gauge_ids: 505\n",
                  "Filtered gauge_ids: 487\n",
                  "Loading basin IDs for region: CH\n",
                  "Original gauge_ids: 135\n",
                  "Filtered gauge_ids: 0\n",
                  "No gauge_ids matched the specified human influence categories.\n",
                  "Loading basin IDs for region: USA\n",
                  "Original gauge_ids: 671\n",
                  "Filtered gauge_ids: 567\n",
                  "Loading basin IDs for region: camelsaus\n",
                  "Original gauge_ids: 222\n",
                  "Filtered gauge_ids: 215\n",
                  "Loading basin IDs for region: camelsgb\n",
                  "Original gauge_ids: 671\n",
                  "Filtered gauge_ids: 538\n",
                  "Loading basin IDs for region: camelsbr\n",
                  "Original gauge_ids: 870\n",
                  "Filtered gauge_ids: 868\n",
                  "Loading basin IDs for region: hysets\n",
                  "Original gauge_ids: 12162\n",
                  "Filtered gauge_ids: 8463\n",
                  "Loading basin IDs for region: lamah\n",
                  "Original gauge_ids: 859\n",
                  "Filtered gauge_ids: 812\n",
                  "11950 basin IDs loaded\n"
               ]
            }
         ],
         "source": [
            "def load_basin_ids(regions, human_influence_path: str, human_influence_categories: list):\n",
            "    \"\"\"\n",
            "    Simple function to load basin IDs from multiple regions and filter by human influence.\n",
            "\n",
            "    Args:\n",
            "        regions: List of region names to process\n",
            "        human_influence_path: Path to human influence classification file\n",
            "        human_influence_categories: Categories of human influence to keep\n",
            "\n",
            "    Returns:\n",
            "        List of filtered basin IDs\n",
            "    \"\"\"\n",
            "\n",
            "    human_influence_path = Path(human_influence_path)\n",
            "\n",
            "    basin_ids = []\n",
            "\n",
            "    for region in regions:\n",
            "        print(f\"Loading basin IDs for region: {region}\")\n",
            "        # Set up paths\n",
            "        attributes_dir = f\"/workspace/CaravanifyParquet/{region}/post_processed/attributes\"\n",
            "        timeseries_dir = f\"/workspace/CaravanifyParquet/{region}/post_processed/timeseries/csv\"\n",
            "\n",
            "        # Create config\n",
            "        config = CaravanifyParquetConfig(\n",
            "            attributes_dir=attributes_dir,\n",
            "            timeseries_dir=timeseries_dir,\n",
            "            human_influence_path=human_influence_path,\n",
            "            gauge_id_prefix=region,\n",
            "            use_hydroatlas_attributes=True,\n",
            "            use_caravan_attributes=True,\n",
            "            use_other_attributes=True,\n",
            "        )\n",
            "\n",
            "        # Get and filter basin IDs\n",
            "        caravan = CaravanifyParquet(config)\n",
            "        region_basin_ids = caravan.get_all_gauge_ids()\n",
            "\n",
            "        # Filter by human influence if path provided\n",
            "        if human_influence_path and human_influence_path.exists():\n",
            "            filtered_ids, _ = caravan.filter_gauge_ids_by_human_influence(region_basin_ids, human_influence_categories)\n",
            "        else:\n",
            "            filtered_ids = region_basin_ids\n",
            "\n",
            "        basin_ids.extend(filtered_ids)\n",
            "\n",
            "    # Return unique, sorted basin IDs\n",
            "    return sorted(set(basin_ids))\n",
            "\n",
            "\n",
            "basin_ids = load_basin_ids(\n",
            "    REGIONS,\n",
            "    human_influence_path=\"/workspace/hydro-forecasting/scripts/human_influence_index/results/human_influence_classification.parquet\",\n",
            "    human_influence_categories=[\"Low\", \"Medium\"],\n",
            ")\n",
            "\n",
            "print(len(basin_ids), \"basin IDs loaded\")"
         ]
      },
      {
         "cell_type": "markdown",
         "id": "73f9edf0",
         "metadata": {},
         "source": [
            "## Datamodule Configs"
         ]
      },
      {
         "cell_type": "code",
         "execution_count": 7,
         "id": "c2ea76fb",
         "metadata": {},
         "outputs": [],
         "source": [
            "region_time_series_base_dirs = {\n",
            "    region: f\"/workspace/CaravanifyParquet/{region}/post_processed/timeseries/csv/{region}\" for region in REGIONS\n",
            "}\n",
            "\n",
            "region_static_attributes_base_dirs = {\n",
            "    region: f\"/workspace/CaravanifyParquet/{region}/post_processed/attributes/{region}\" for region in REGIONS\n",
            "}\n",
            "\n",
            "path_to_preprocessing_output_directory = \"/workspace/hydro-forecasting/experiments/low-medium-hii/data_cache\""
         ]
      },
      {
         "cell_type": "code",
         "execution_count": 8,
         "id": "f14911d3",
         "metadata": {},
         "outputs": [],
         "source": [
            "forcing_features = [\n",
            "    \"snow_depth_water_equivalent_mean\",\n",
            "    \"surface_net_solar_radiation_mean\",\n",
            "    \"surface_net_thermal_radiation_mean\",\n",
            "    \"potential_evaporation_sum_ERA5_LAND\",\n",
            "    \"potential_evaporation_sum_FAO_PENMAN_MONTEITH\",\n",
            "    \"temperature_2m_mean\",\n",
            "    \"temperature_2m_min\",\n",
            "    \"temperature_2m_max\",\n",
            "    \"total_precipitation_sum\",\n",
            "]\n",
            "\n",
            "static_features = [\n",
            "    \"p_mean\",\n",
            "    \"area\",\n",
            "    \"ele_mt_sav\",\n",
            "    \"high_prec_dur\",\n",
            "    \"frac_snow\",\n",
            "    \"high_prec_freq\",\n",
            "    \"slp_dg_sav\",\n",
            "    \"cly_pc_sav\",\n",
            "    \"aridity_ERA5_LAND\",\n",
            "    \"aridity_FAO_PM\",\n",
            "]\n",
            "\n",
            "target = \"streamflow\""
         ]
      },
      {
         "cell_type": "code",
         "execution_count": 9,
         "id": "962da35a",
         "metadata": {},
         "outputs": [],
         "source": [
            "feature_pipeline = GroupedPipeline(\n",
            "    Pipeline([(\"scaler\", StandardScaleTransformer()), (\"normalizer\", NormalizeTransformer())]),\n",
            "    columns=forcing_features,\n",
            "    group_identifier=\"gauge_id\",\n",
            ")\n",
            "\n",
            "target_pipeline = GroupedPipeline(\n",
            "    Pipeline([(\"scaler\", StandardScaleTransformer()), (\"normalizer\", NormalizeTransformer())]),\n",
            "    columns=[\"streamflow\"],\n",
            "    group_identifier=\"gauge_id\",\n",
            ")\n",
            "\n",
            "static_pipeline = Pipeline([(\"scaler\", StandardScaleTransformer())])\n",
            "\n",
            "preprocessing_config = {\n",
            "    \"features\": {\"pipeline\": feature_pipeline},\n",
            "    \"target\": {\"pipeline\": target_pipeline},\n",
            "    \"static_features\": {\"pipeline\": static_pipeline, \"columns\": static_features},\n",
            "}"
         ]
      },
      {
         "cell_type": "code",
         "execution_count": 10,
         "id": "cd0f0b66",
         "metadata": {},
         "outputs": [],
         "source": [
            "datamodule_config = {\n",
            "    \"region_time_series_base_dirs\": region_time_series_base_dirs,\n",
            "    \"region_static_attributes_base_dirs\": region_static_attributes_base_dirs,\n",
            "    \"path_to_preprocessing_output_directory\": path_to_preprocessing_output_directory,\n",
            "    \"group_identifier\": \"gauge_id\",\n",
            "    \"batch_size\": 2048,\n",
            "    \"forcing_features\": forcing_features,\n",
            "    \"static_features\": static_features,\n",
            "    \"target\": target,\n",
            "    \"num_workers\": 12,\n",
            "    \"min_train_years\": 10,\n",
            "    \"train_prop\": 0.5,\n",
            "    \"val_prop\": 0.25,\n",
            "    \"test_prop\": 0.25,\n",
            "    \"max_imputation_gap_size\": 5,\n",
            "    \"chunk_size\": 1500,\n",
            "    \"validation_chunk_size\": 4000,\n",
            "    \"is_autoregressive\": True,\n",
            "    \"preprocessing_configs\": preprocessing_config,\n",
            "}"
         ]
      },
      {
         "cell_type": "markdown",
         "id": "158363b3",
         "metadata": {},
         "source": [
            "## Training Configs"
         ]
      },
      {
         "cell_type": "code",
         "execution_count": 11,
         "id": "9709710c",
         "metadata": {},
         "outputs": [],
         "source": [
            "training_config = {\n",
            "    \"max_epochs\": 250,\n",
            "    \"accelerator\": \"cuda\" if torch.cuda.is_available() else \"cpu\",\n",
            "    \"devices\": 1,\n",
            "    \"early_stopping_patience\": 12,\n",
            "    \"reload_dataloaders_every_n_epochs\": 1,\n",
            "}"
         ]
      },
      {
         "cell_type": "markdown",
         "id": "38258592",
         "metadata": {},
         "source": [
            "## Remaining Configs"
         ]
      },
      {
         "cell_type": "code",
         "execution_count": 12,
         "id": "2274e894",
         "metadata": {},
         "outputs": [],
         "source": [
            "output_dir = \"/workspace/hydro-forecasting/experiments/low-medium-hii\"\n",
            "model_types = [\n",
            "    # \"tide\",\n",
            "    \"ealstm\",\n",
            "    \"tsmixer\",\n",
            "    \"tft\",\n",
            "]\n",
            "yaml_paths = [\n",
            "    # f\"/workspace/hydro-forecasting/experiments/yaml-files/{COUNTRY}/tide.yaml\",\n",
            "    f\"/workspace/hydro-forecasting/experiments/yaml-files/{COUNTRY}/ealstm.yaml\",\n",
            "    f\"/workspace/hydro-forecasting/experiments/yaml-files/{COUNTRY}/tsmixer.yaml\",\n",
            "    f\"/workspace/hydro-forecasting/experiments/yaml-files/{COUNTRY}/tft.yaml\",\n",
            "]\n",
            "experiment_name = f\"low-medium-hii_{COUNTRY}\"\n",
            "num_runs = 1\n",
            "override_previous_attempts = False"
         ]
      },
      {
         "cell_type": "markdown",
         "id": "fb369289",
         "metadata": {},
         "source": [
            "## Training the models from scratch"
         ]
      },
      {
         "cell_type": "code",
         "execution_count": null,
         "id": "1054c874",
         "metadata": {},
         "outputs": [
            {
               "name": "stdout",
               "output_type": "stream",
               "text": [
                  "The following parameters were not found in the YAML file and will use defaults:\n",
                  "  - bias (model-specific)\n",
                  "  - bidirectional (model-specific)\n",
                  "  - bidirectional_fusion (model-specific)\n",
                  "  - future_hidden_size (model-specific)\n",
                  "  - future_layers (model-specific)\n",
                  "  - scheduler_factor (model-specific)\n",
                  "  - scheduler_patience (model-specific)\n"
               ]
            },
            {
               "data": {
                  "application/vnd.jupyter.widget-view+json": {
                     "model_id": "9e02c173ae164d8193cecdbedf8136ae",
                     "version_major": 2,
                     "version_minor": 0
                  },
                  "text/plain": [
                     "Sanity Checking: |          | 0/? [00:00<?, ?it/s]"
                  ]
               },
               "metadata": {},
               "output_type": "display_data"
            },
            {
               "name": "stderr",
               "output_type": "stream",
               "text": [
                  "/usr/local/lib/python3.10/dist-packages/pytorch_lightning/trainer/connectors/data_connector.py:432: The combination of `DataLoader(`pin_memory=True`, `persistent_workers=True`) and `Trainer(reload_dataloaders_every_n_epochs > 0)` can lead to instability due to limitations in PyTorch (https://github.com/pytorch/pytorch/issues/91252). We recommend setting `pin_memory=False` in this case.\n"
               ]
            },
            {
               "data": {
                  "application/vnd.jupyter.widget-view+json": {
                     "model_id": "d5d6e8eb7f784145824cc4ff3178d6c0",
                     "version_major": 2,
                     "version_minor": 0
                  },
                  "text/plain": [
                     "Training: |          | 0/? [00:00<?, ?it/s]"
                  ]
               },
               "metadata": {},
               "output_type": "display_data"
            },
            {
               "data": {
                  "application/vnd.jupyter.widget-view+json": {
                     "model_id": "651579a63971442f99428e58dcabcaf7",
                     "version_major": 2,
                     "version_minor": 0
                  },
                  "text/plain": [
                     "Validation: |          | 0/? [00:00<?, ?it/s]"
                  ]
               },
               "metadata": {},
               "output_type": "display_data"
            },
            {
               "data": {
                  "application/vnd.jupyter.widget-view+json": {
                     "model_id": "6d9ed08507744a65b5a3b865bc6e164e",
                     "version_major": 2,
                     "version_minor": 0
                  },
                  "text/plain": [
                     "Validation: |          | 0/? [00:00<?, ?it/s]"
                  ]
               },
               "metadata": {},
               "output_type": "display_data"
            },
            {
               "data": {
                  "application/vnd.jupyter.widget-view+json": {
                     "model_id": "92a81635090d4f359c5b0a41896c971a",
                     "version_major": 2,
                     "version_minor": 0
                  },
                  "text/plain": [
                     "Validation: |          | 0/? [00:00<?, ?it/s]"
                  ]
               },
               "metadata": {},
               "output_type": "display_data"
            },
            {
               "data": {
                  "application/vnd.jupyter.widget-view+json": {
                     "model_id": "0fb9123938934c4daa3474f18085323e",
                     "version_major": 2,
                     "version_minor": 0
                  },
                  "text/plain": [
                     "Validation: |          | 0/? [00:00<?, ?it/s]"
                  ]
               },
               "metadata": {},
               "output_type": "display_data"
            },
            {
               "data": {
                  "application/vnd.jupyter.widget-view+json": {
                     "model_id": "81e53e5558d842c28fb17d6f2e099301",
                     "version_major": 2,
                     "version_minor": 0
                  },
                  "text/plain": [
                     "Validation: |          | 0/? [00:00<?, ?it/s]"
                  ]
               },
               "metadata": {},
               "output_type": "display_data"
            },
            {
               "data": {
                  "application/vnd.jupyter.widget-view+json": {
                     "model_id": "87c3bde71cff403e803df9ce87d6bb35",
                     "version_major": 2,
                     "version_minor": 0
                  },
                  "text/plain": [
                     "Validation: |          | 0/? [00:00<?, ?it/s]"
                  ]
               },
               "metadata": {},
               "output_type": "display_data"
            },
            {
               "data": {
                  "application/vnd.jupyter.widget-view+json": {
                     "model_id": "02ef5647fb00466e91c79effe8296cb9",
                     "version_major": 2,
                     "version_minor": 0
                  },
                  "text/plain": [
                     "Validation: |          | 0/? [00:00<?, ?it/s]"
                  ]
               },
               "metadata": {},
               "output_type": "display_data"
            },
            {
               "data": {
                  "application/vnd.jupyter.widget-view+json": {
                     "model_id": "29b7c7ef12f942bd8ba5a744672c3947",
                     "version_major": 2,
                     "version_minor": 0
                  },
                  "text/plain": [
                     "Validation: |          | 0/? [00:00<?, ?it/s]"
                  ]
               },
               "metadata": {},
               "output_type": "display_data"
            },
            {
               "data": {
                  "application/vnd.jupyter.widget-view+json": {
                     "model_id": "3104d1b71e7c4cbb9ffee1e3db157ef6",
                     "version_major": 2,
                     "version_minor": 0
                  },
                  "text/plain": [
                     "Validation: |          | 0/? [00:00<?, ?it/s]"
                  ]
               },
               "metadata": {},
               "output_type": "display_data"
            },
            {
               "data": {
                  "application/vnd.jupyter.widget-view+json": {
                     "model_id": "08c80c31e5b843068b90936b685d1b09",
                     "version_major": 2,
                     "version_minor": 0
                  },
                  "text/plain": [
                     "Validation: |          | 0/? [00:00<?, ?it/s]"
                  ]
               },
               "metadata": {},
               "output_type": "display_data"
            },
            {
               "data": {
                  "application/vnd.jupyter.widget-view+json": {
                     "model_id": "c8d43bd68b4746a0860f9d22a3823eeb",
                     "version_major": 2,
                     "version_minor": 0
                  },
                  "text/plain": [
                     "Validation: |          | 0/? [00:00<?, ?it/s]"
                  ]
               },
               "metadata": {},
               "output_type": "display_data"
            },
            {
               "data": {
                  "application/vnd.jupyter.widget-view+json": {
                     "model_id": "2ea8375dacdd446f9079cccaa7f7b4aa",
                     "version_major": 2,
                     "version_minor": 0
                  },
                  "text/plain": [
                     "Validation: |          | 0/? [00:00<?, ?it/s]"
                  ]
               },
               "metadata": {},
               "output_type": "display_data"
            },
            {
               "data": {
                  "application/vnd.jupyter.widget-view+json": {
                     "model_id": "600bb1c0ac5c4a8883ad5915ba2eb60f",
                     "version_major": 2,
                     "version_minor": 0
                  },
                  "text/plain": [
                     "Validation: |          | 0/? [00:00<?, ?it/s]"
                  ]
               },
               "metadata": {},
               "output_type": "display_data"
            },
            {
               "data": {
                  "application/vnd.jupyter.widget-view+json": {
                     "model_id": "27e0d0463081412f94977d56efb163bd",
                     "version_major": 2,
                     "version_minor": 0
                  },
                  "text/plain": [
                     "Validation: |          | 0/? [00:00<?, ?it/s]"
                  ]
               },
               "metadata": {},
               "output_type": "display_data"
            },
            {
               "data": {
                  "application/vnd.jupyter.widget-view+json": {
                     "model_id": "38202337992742078e1c51f63e14818f",
                     "version_major": 2,
                     "version_minor": 0
                  },
                  "text/plain": [
                     "Validation: |          | 0/? [00:00<?, ?it/s]"
                  ]
               },
               "metadata": {},
               "output_type": "display_data"
            },
            {
               "data": {
                  "application/vnd.jupyter.widget-view+json": {
                     "model_id": "fcc7be5263094024a35459ce141f9acb",
                     "version_major": 2,
                     "version_minor": 0
                  },
                  "text/plain": [
                     "Validation: |          | 0/? [00:00<?, ?it/s]"
                  ]
               },
               "metadata": {},
               "output_type": "display_data"
            },
            {
               "data": {
                  "application/vnd.jupyter.widget-view+json": {
                     "model_id": "c81eedaa5a1e40a69ba21dcc93618ef2",
                     "version_major": 2,
                     "version_minor": 0
                  },
                  "text/plain": [
                     "Validation: |          | 0/? [00:00<?, ?it/s]"
                  ]
               },
               "metadata": {},
               "output_type": "display_data"
            },
            {
               "data": {
                  "application/vnd.jupyter.widget-view+json": {
                     "model_id": "759a28bed7534a46814955e7404f1ef5",
                     "version_major": 2,
                     "version_minor": 0
                  },
                  "text/plain": [
                     "Validation: |          | 0/? [00:00<?, ?it/s]"
                  ]
               },
               "metadata": {},
               "output_type": "display_data"
            },
            {
               "data": {
                  "application/vnd.jupyter.widget-view+json": {
                     "model_id": "006630c71163481d9895c55e22d21e2e",
                     "version_major": 2,
                     "version_minor": 0
                  },
                  "text/plain": [
                     "Validation: |          | 0/? [00:00<?, ?it/s]"
                  ]
               },
               "metadata": {},
               "output_type": "display_data"
            },
            {
               "data": {
                  "application/vnd.jupyter.widget-view+json": {
                     "model_id": "a235d8f6ab134fbcb11102ca09b6a291",
                     "version_major": 2,
                     "version_minor": 0
                  },
                  "text/plain": [
                     "Validation: |          | 0/? [00:00<?, ?it/s]"
                  ]
               },
               "metadata": {},
               "output_type": "display_data"
            },
            {
               "data": {
                  "application/vnd.jupyter.widget-view+json": {
                     "model_id": "4be4fd96b2a74feeafb4bb77a3d3feef",
                     "version_major": 2,
                     "version_minor": 0
                  },
                  "text/plain": [
                     "Validation: |          | 0/? [00:00<?, ?it/s]"
                  ]
               },
               "metadata": {},
               "output_type": "display_data"
            },
            {
               "data": {
                  "application/vnd.jupyter.widget-view+json": {
                     "model_id": "98b9008c6b364d69b7e2ccb335b3e78d",
                     "version_major": 2,
                     "version_minor": 0
                  },
                  "text/plain": [
                     "Validation: |          | 0/? [00:00<?, ?it/s]"
                  ]
               },
               "metadata": {},
               "output_type": "display_data"
            },
            {
               "data": {
                  "application/vnd.jupyter.widget-view+json": {
                     "model_id": "5e36554a285247c4ba9a42231f33e0f4",
                     "version_major": 2,
                     "version_minor": 0
                  },
                  "text/plain": [
                     "Validation: |          | 0/? [00:00<?, ?it/s]"
                  ]
               },
               "metadata": {},
               "output_type": "display_data"
            },
            {
               "data": {
                  "application/vnd.jupyter.widget-view+json": {
                     "model_id": "306362df1ae141d4b5c9f83c0d771b23",
                     "version_major": 2,
                     "version_minor": 0
                  },
                  "text/plain": [
                     "Validation: |          | 0/? [00:00<?, ?it/s]"
                  ]
               },
               "metadata": {},
               "output_type": "display_data"
            },
            {
               "data": {
                  "application/vnd.jupyter.widget-view+json": {
                     "model_id": "160e0fe1f2ce43b0bd12ee7ebe76e2fc",
                     "version_major": 2,
                     "version_minor": 0
                  },
                  "text/plain": [
                     "Validation: |          | 0/? [00:00<?, ?it/s]"
                  ]
               },
               "metadata": {},
               "output_type": "display_data"
            },
            {
               "data": {
                  "application/vnd.jupyter.widget-view+json": {
                     "model_id": "f4ae070171604a7faa176fd8b4863b6d",
                     "version_major": 2,
                     "version_minor": 0
                  },
                  "text/plain": [
                     "Validation: |          | 0/? [00:00<?, ?it/s]"
                  ]
               },
               "metadata": {},
               "output_type": "display_data"
            },
            {
               "data": {
                  "application/vnd.jupyter.widget-view+json": {
                     "model_id": "e6a9d39dbf11415d938fff063df66209",
                     "version_major": 2,
                     "version_minor": 0
                  },
                  "text/plain": [
                     "Validation: |          | 0/? [00:00<?, ?it/s]"
                  ]
               },
               "metadata": {},
               "output_type": "display_data"
            },
            {
               "data": {
                  "application/vnd.jupyter.widget-view+json": {
                     "model_id": "d932a424b9a746eca80c469597c84577",
                     "version_major": 2,
                     "version_minor": 0
                  },
                  "text/plain": [
                     "Validation: |          | 0/? [00:00<?, ?it/s]"
                  ]
               },
               "metadata": {},
               "output_type": "display_data"
            },
            {
               "data": {
                  "application/vnd.jupyter.widget-view+json": {
                     "model_id": "201e5b524e4144d89437696c80e7abef",
                     "version_major": 2,
                     "version_minor": 0
                  },
                  "text/plain": [
                     "Validation: |          | 0/? [00:00<?, ?it/s]"
                  ]
               },
               "metadata": {},
               "output_type": "display_data"
            },
            {
               "data": {
                  "application/vnd.jupyter.widget-view+json": {
                     "model_id": "4ea8520cdfce4da39ae052fff4c76dc9",
                     "version_major": 2,
                     "version_minor": 0
                  },
                  "text/plain": [
                     "Validation: |          | 0/? [00:00<?, ?it/s]"
                  ]
               },
               "metadata": {},
               "output_type": "display_data"
            },
            {
               "data": {
                  "application/vnd.jupyter.widget-view+json": {
                     "model_id": "10ece2b621d54909bb1e7234d83d55ba",
                     "version_major": 2,
                     "version_minor": 0
                  },
                  "text/plain": [
                     "Validation: |          | 0/? [00:00<?, ?it/s]"
                  ]
               },
               "metadata": {},
               "output_type": "display_data"
            },
            {
               "data": {
                  "application/vnd.jupyter.widget-view+json": {
                     "model_id": "602bf2274e944fb5953db01b3d3feed9",
                     "version_major": 2,
                     "version_minor": 0
                  },
                  "text/plain": [
                     "Validation: |          | 0/? [00:00<?, ?it/s]"
                  ]
               },
               "metadata": {},
               "output_type": "display_data"
            },
            {
               "data": {
                  "application/vnd.jupyter.widget-view+json": {
                     "model_id": "a26d980607eb49da9f7182ec641eb05b",
                     "version_major": 2,
                     "version_minor": 0
                  },
                  "text/plain": [
                     "Validation: |          | 0/? [00:00<?, ?it/s]"
                  ]
               },
               "metadata": {},
               "output_type": "display_data"
            },
            {
               "data": {
                  "application/vnd.jupyter.widget-view+json": {
                     "model_id": "4d38ee5194344b87a2c1c5082f41909f",
                     "version_major": 2,
                     "version_minor": 0
                  },
                  "text/plain": [
                     "Validation: |          | 0/? [00:00<?, ?it/s]"
                  ]
               },
               "metadata": {},
               "output_type": "display_data"
            },
            {
               "data": {
                  "application/vnd.jupyter.widget-view+json": {
                     "model_id": "8dbc2c62525c412abca5ffece7f9c406",
                     "version_major": 2,
                     "version_minor": 0
                  },
                  "text/plain": [
                     "Validation: |          | 0/? [00:00<?, ?it/s]"
                  ]
               },
               "metadata": {},
               "output_type": "display_data"
            },
            {
               "data": {
                  "application/vnd.jupyter.widget-view+json": {
                     "model_id": "a0588110c100463482e4a0a270818c88",
                     "version_major": 2,
                     "version_minor": 0
                  },
                  "text/plain": [
                     "Validation: |          | 0/? [00:00<?, ?it/s]"
                  ]
               },
               "metadata": {},
               "output_type": "display_data"
            },
            {
               "data": {
                  "application/vnd.jupyter.widget-view+json": {
                     "model_id": "3b64107aa18b45da82e59c1ce934fb36",
                     "version_major": 2,
                     "version_minor": 0
                  },
                  "text/plain": [
                     "Validation: |          | 0/? [00:00<?, ?it/s]"
                  ]
               },
               "metadata": {},
               "output_type": "display_data"
            },
            {
               "data": {
                  "application/vnd.jupyter.widget-view+json": {
                     "model_id": "422d19653c564c9f820db820413c42ae",
                     "version_major": 2,
                     "version_minor": 0
                  },
                  "text/plain": [
                     "Validation: |          | 0/? [00:00<?, ?it/s]"
                  ]
               },
               "metadata": {},
               "output_type": "display_data"
            },
            {
               "data": {
                  "application/vnd.jupyter.widget-view+json": {
                     "model_id": "32421cfffe6949638df270b1e2e30e96",
                     "version_major": 2,
                     "version_minor": 0
                  },
                  "text/plain": [
                     "Validation: |          | 0/? [00:00<?, ?it/s]"
                  ]
               },
               "metadata": {},
               "output_type": "display_data"
            },
            {
               "data": {
                  "application/vnd.jupyter.widget-view+json": {
                     "model_id": "b9d06dd290984966ac8e13351fc3e5d7",
                     "version_major": 2,
                     "version_minor": 0
                  },
                  "text/plain": [
                     "Validation: |          | 0/? [00:00<?, ?it/s]"
                  ]
               },
               "metadata": {},
               "output_type": "display_data"
            },
            {
               "data": {
                  "application/vnd.jupyter.widget-view+json": {
                     "model_id": "56e8c98168e74544a48066429538523d",
                     "version_major": 2,
                     "version_minor": 0
                  },
                  "text/plain": [
                     "Validation: |          | 0/? [00:00<?, ?it/s]"
                  ]
               },
               "metadata": {},
               "output_type": "display_data"
            },
            {
               "data": {
                  "application/vnd.jupyter.widget-view+json": {
                     "model_id": "d62377bfab624cc3ab69946d0cefabf3",
                     "version_major": 2,
                     "version_minor": 0
                  },
                  "text/plain": [
                     "Validation: |          | 0/? [00:00<?, ?it/s]"
                  ]
               },
               "metadata": {},
               "output_type": "display_data"
            },
            {
               "data": {
                  "application/vnd.jupyter.widget-view+json": {
                     "model_id": "ca2ef247b77546c5b49be5abeef78a65",
                     "version_major": 2,
                     "version_minor": 0
                  },
                  "text/plain": [
                     "Validation: |          | 0/? [00:00<?, ?it/s]"
                  ]
               },
               "metadata": {},
               "output_type": "display_data"
            },
            {
               "data": {
                  "application/vnd.jupyter.widget-view+json": {
                     "model_id": "f5a0d1e627724baf9141ff65d158b39e",
                     "version_major": 2,
                     "version_minor": 0
                  },
                  "text/plain": [
                     "Validation: |          | 0/? [00:00<?, ?it/s]"
                  ]
               },
               "metadata": {},
               "output_type": "display_data"
            },
            {
               "data": {
                  "application/vnd.jupyter.widget-view+json": {
                     "model_id": "f4d33318dee545299f4c96551c57a9e7",
                     "version_major": 2,
                     "version_minor": 0
                  },
                  "text/plain": [
                     "Validation: |          | 0/? [00:00<?, ?it/s]"
                  ]
               },
               "metadata": {},
               "output_type": "display_data"
            },
            {
               "data": {
                  "application/vnd.jupyter.widget-view+json": {
                     "model_id": "cb2ac22f92f340caa7271ffbb3433e90",
                     "version_major": 2,
                     "version_minor": 0
                  },
                  "text/plain": [
                     "Validation: |          | 0/? [00:00<?, ?it/s]"
                  ]
               },
               "metadata": {},
               "output_type": "display_data"
            },
            {
               "data": {
                  "application/vnd.jupyter.widget-view+json": {
                     "model_id": "9f391dda00fd481eb87b3c7c0b6b2881",
                     "version_major": 2,
                     "version_minor": 0
                  },
                  "text/plain": [
                     "Validation: |          | 0/? [00:00<?, ?it/s]"
                  ]
               },
               "metadata": {},
               "output_type": "display_data"
            },
            {
               "data": {
                  "application/vnd.jupyter.widget-view+json": {
                     "model_id": "81c1eaaad0374af9981b03adabd80a63",
                     "version_major": 2,
                     "version_minor": 0
                  },
                  "text/plain": [
                     "Validation: |          | 0/? [00:00<?, ?it/s]"
                  ]
               },
               "metadata": {},
               "output_type": "display_data"
            },
            {
               "data": {
                  "application/vnd.jupyter.widget-view+json": {
                     "model_id": "cadad02fb2ee4c1bbe073def2d1611b7",
                     "version_major": 2,
                     "version_minor": 0
                  },
                  "text/plain": [
                     "Validation: |          | 0/? [00:00<?, ?it/s]"
                  ]
               },
               "metadata": {},
               "output_type": "display_data"
            },
            {
               "data": {
                  "application/vnd.jupyter.widget-view+json": {
                     "model_id": "284d08d4c2f34fb595c1fd275853b9d7",
                     "version_major": 2,
                     "version_minor": 0
                  },
                  "text/plain": [
                     "Validation: |          | 0/? [00:00<?, ?it/s]"
                  ]
               },
               "metadata": {},
               "output_type": "display_data"
            },
            {
               "data": {
                  "application/vnd.jupyter.widget-view+json": {
                     "model_id": "924b523ccabe4296b2d814aa8ac24223",
                     "version_major": 2,
                     "version_minor": 0
                  },
                  "text/plain": [
                     "Validation: |          | 0/? [00:00<?, ?it/s]"
                  ]
               },
               "metadata": {},
               "output_type": "display_data"
            },
            {
               "data": {
                  "application/vnd.jupyter.widget-view+json": {
                     "model_id": "7a3c6fa4232d4a7781689e01ede5b266",
                     "version_major": 2,
                     "version_minor": 0
                  },
                  "text/plain": [
                     "Validation: |          | 0/? [00:00<?, ?it/s]"
                  ]
               },
               "metadata": {},
               "output_type": "display_data"
            },
            {
               "data": {
                  "application/vnd.jupyter.widget-view+json": {
                     "model_id": "72e06fe61488420d9ac12cd3e621cc27",
                     "version_major": 2,
                     "version_minor": 0
                  },
                  "text/plain": [
                     "Validation: |          | 0/? [00:00<?, ?it/s]"
                  ]
               },
               "metadata": {},
               "output_type": "display_data"
            },
            {
               "data": {
                  "application/vnd.jupyter.widget-view+json": {
                     "model_id": "0dba89095f1a4de394cf027d84f37285",
                     "version_major": 2,
                     "version_minor": 0
                  },
                  "text/plain": [
                     "Validation: |          | 0/? [00:00<?, ?it/s]"
                  ]
               },
               "metadata": {},
               "output_type": "display_data"
            },
            {
               "data": {
                  "application/vnd.jupyter.widget-view+json": {
                     "model_id": "f75dca18b4c24beca17183b9f1b72ae0",
                     "version_major": 2,
                     "version_minor": 0
                  },
                  "text/plain": [
                     "Validation: |          | 0/? [00:00<?, ?it/s]"
                  ]
               },
               "metadata": {},
               "output_type": "display_data"
            },
            {
               "data": {
                  "application/vnd.jupyter.widget-view+json": {
                     "model_id": "5d67ab6a4af14983801f6d4af6e90224",
                     "version_major": 2,
                     "version_minor": 0
                  },
                  "text/plain": [
                     "Validation: |          | 0/? [00:00<?, ?it/s]"
                  ]
               },
               "metadata": {},
               "output_type": "display_data"
            },
            {
               "data": {
                  "application/vnd.jupyter.widget-view+json": {
                     "model_id": "cbcc262987b54628a60cd38698b3b4a4",
                     "version_major": 2,
                     "version_minor": 0
                  },
                  "text/plain": [
                     "Validation: |          | 0/? [00:00<?, ?it/s]"
                  ]
               },
               "metadata": {},
               "output_type": "display_data"
            },
            {
               "data": {
                  "application/vnd.jupyter.widget-view+json": {
                     "model_id": "f7ba097fe13a419384f27d414eeb745b",
                     "version_major": 2,
                     "version_minor": 0
                  },
                  "text/plain": [
                     "Validation: |          | 0/? [00:00<?, ?it/s]"
                  ]
               },
               "metadata": {},
               "output_type": "display_data"
            },
            {
               "data": {
                  "application/vnd.jupyter.widget-view+json": {
                     "model_id": "8a1f177e49f549f78bf3ef63408be1e6",
                     "version_major": 2,
                     "version_minor": 0
                  },
                  "text/plain": [
                     "Validation: |          | 0/? [00:00<?, ?it/s]"
                  ]
               },
               "metadata": {},
               "output_type": "display_data"
            },
            {
               "data": {
                  "application/vnd.jupyter.widget-view+json": {
                     "model_id": "b3870a6ba69240c68a78ce2001829ef6",
                     "version_major": 2,
                     "version_minor": 0
                  },
                  "text/plain": [
                     "Validation: |          | 0/? [00:00<?, ?it/s]"
                  ]
               },
               "metadata": {},
               "output_type": "display_data"
            },
            {
               "data": {
                  "application/vnd.jupyter.widget-view+json": {
                     "model_id": "94d7b3a02c1b4a41ad2424d02078b734",
                     "version_major": 2,
                     "version_minor": 0
                  },
                  "text/plain": [
                     "Validation: |          | 0/? [00:00<?, ?it/s]"
                  ]
               },
               "metadata": {},
               "output_type": "display_data"
            },
            {
               "data": {
                  "application/vnd.jupyter.widget-view+json": {
                     "model_id": "c724091672d6439099335ef3d0b729cb",
                     "version_major": 2,
                     "version_minor": 0
                  },
                  "text/plain": [
                     "Validation: |          | 0/? [00:00<?, ?it/s]"
                  ]
               },
               "metadata": {},
               "output_type": "display_data"
            },
            {
               "data": {
                  "application/vnd.jupyter.widget-view+json": {
                     "model_id": "b6befdada0a34641948980e003c40814",
                     "version_major": 2,
                     "version_minor": 0
                  },
                  "text/plain": [
                     "Validation: |          | 0/? [00:00<?, ?it/s]"
                  ]
               },
               "metadata": {},
               "output_type": "display_data"
            },
            {
               "data": {
                  "application/vnd.jupyter.widget-view+json": {
                     "model_id": "5f4305f4f9814dc1b971a3a6ef130e0f",
                     "version_major": 2,
                     "version_minor": 0
                  },
                  "text/plain": [
                     "Validation: |          | 0/? [00:00<?, ?it/s]"
                  ]
               },
               "metadata": {},
               "output_type": "display_data"
            },
            {
               "data": {
                  "application/vnd.jupyter.widget-view+json": {
                     "model_id": "c7c277de16084d7e9a5af610c9bd3d38",
                     "version_major": 2,
                     "version_minor": 0
                  },
                  "text/plain": [
                     "Validation: |          | 0/? [00:00<?, ?it/s]"
                  ]
               },
               "metadata": {},
               "output_type": "display_data"
            },
            {
               "data": {
                  "application/vnd.jupyter.widget-view+json": {
                     "model_id": "3abe6da632eb4b02977b28b0594be0f1",
                     "version_major": 2,
                     "version_minor": 0
                  },
                  "text/plain": [
                     "Validation: |          | 0/? [00:00<?, ?it/s]"
                  ]
               },
               "metadata": {},
               "output_type": "display_data"
            },
            {
               "data": {
                  "application/vnd.jupyter.widget-view+json": {
                     "model_id": "2c8e4b2d449042198cc5c56a90a1ab56",
                     "version_major": 2,
                     "version_minor": 0
                  },
                  "text/plain": [
                     "Validation: |          | 0/? [00:00<?, ?it/s]"
                  ]
               },
               "metadata": {},
               "output_type": "display_data"
            },
            {
               "data": {
                  "application/vnd.jupyter.widget-view+json": {
                     "model_id": "3413206a77fa46ab981577104fa6e0b7",
                     "version_major": 2,
                     "version_minor": 0
                  },
                  "text/plain": [
                     "Validation: |          | 0/? [00:00<?, ?it/s]"
                  ]
               },
               "metadata": {},
               "output_type": "display_data"
            },
            {
               "data": {
                  "application/vnd.jupyter.widget-view+json": {
                     "model_id": "b5ada0fbcfcd48d5abd4158378f14497",
                     "version_major": 2,
                     "version_minor": 0
                  },
                  "text/plain": [
                     "Validation: |          | 0/? [00:00<?, ?it/s]"
                  ]
               },
               "metadata": {},
               "output_type": "display_data"
            },
            {
               "data": {
                  "application/vnd.jupyter.widget-view+json": {
                     "model_id": "2633d96dd7714f0997c1744fea297090",
                     "version_major": 2,
                     "version_minor": 0
                  },
                  "text/plain": [
                     "Validation: |          | 0/? [00:00<?, ?it/s]"
                  ]
               },
               "metadata": {},
               "output_type": "display_data"
            },
            {
               "data": {
                  "application/vnd.jupyter.widget-view+json": {
                     "model_id": "12bc94b73a814238abf903d44b7fa262",
                     "version_major": 2,
                     "version_minor": 0
                  },
                  "text/plain": [
                     "Validation: |          | 0/? [00:00<?, ?it/s]"
                  ]
               },
               "metadata": {},
               "output_type": "display_data"
            },
            {
               "data": {
                  "application/vnd.jupyter.widget-view+json": {
                     "model_id": "fc8d896edcbf4e56b4af85dde1b2c0c5",
                     "version_major": 2,
                     "version_minor": 0
                  },
                  "text/plain": [
                     "Validation: |          | 0/? [00:00<?, ?it/s]"
                  ]
               },
               "metadata": {},
               "output_type": "display_data"
            },
            {
               "data": {
                  "application/vnd.jupyter.widget-view+json": {
                     "model_id": "ecae61bb018648f380cad37c0f0ca0c1",
                     "version_major": 2,
                     "version_minor": 0
                  },
                  "text/plain": [
                     "Validation: |          | 0/? [00:00<?, ?it/s]"
                  ]
               },
               "metadata": {},
               "output_type": "display_data"
            },
            {
               "data": {
                  "application/vnd.jupyter.widget-view+json": {
                     "model_id": "b10fe93616c641dbba19efdbbae04fce",
                     "version_major": 2,
                     "version_minor": 0
                  },
                  "text/plain": [
                     "Validation: |          | 0/? [00:00<?, ?it/s]"
                  ]
               },
               "metadata": {},
               "output_type": "display_data"
            },
            {
               "data": {
                  "application/vnd.jupyter.widget-view+json": {
                     "model_id": "5ee5d10cdbbf4880adbfd2c9404a8107",
                     "version_major": 2,
                     "version_minor": 0
                  },
                  "text/plain": [
                     "Validation: |          | 0/? [00:00<?, ?it/s]"
                  ]
               },
               "metadata": {},
               "output_type": "display_data"
            },
            {
               "data": {
                  "application/vnd.jupyter.widget-view+json": {
                     "model_id": "865dfca721ce488e819887f6fb5b741b",
                     "version_major": 2,
                     "version_minor": 0
                  },
                  "text/plain": [
                     "Validation: |          | 0/? [00:00<?, ?it/s]"
                  ]
               },
               "metadata": {},
               "output_type": "display_data"
            },
            {
               "data": {
                  "application/vnd.jupyter.widget-view+json": {
                     "model_id": "62db04803f374c7cbe99518bc8d44b4c",
                     "version_major": 2,
                     "version_minor": 0
                  },
                  "text/plain": [
                     "Validation: |          | 0/? [00:00<?, ?it/s]"
                  ]
               },
               "metadata": {},
               "output_type": "display_data"
            },
            {
               "data": {
                  "application/vnd.jupyter.widget-view+json": {
                     "model_id": "b1cb38b348204ada9852d2feb7983a0b",
                     "version_major": 2,
                     "version_minor": 0
                  },
                  "text/plain": [
                     "Validation: |          | 0/? [00:00<?, ?it/s]"
                  ]
               },
               "metadata": {},
               "output_type": "display_data"
            },
            {
               "data": {
                  "application/vnd.jupyter.widget-view+json": {
                     "model_id": "0aa783f590ab47099daaed8706739a38",
                     "version_major": 2,
                     "version_minor": 0
                  },
                  "text/plain": [
                     "Validation: |          | 0/? [00:00<?, ?it/s]"
                  ]
               },
               "metadata": {},
               "output_type": "display_data"
            },
            {
               "data": {
                  "application/vnd.jupyter.widget-view+json": {
                     "model_id": "be314e0ec2cf412b9cd10ecd09a811ac",
                     "version_major": 2,
                     "version_minor": 0
                  },
                  "text/plain": [
                     "Validation: |          | 0/? [00:00<?, ?it/s]"
                  ]
               },
               "metadata": {},
               "output_type": "display_data"
            },
            {
               "data": {
                  "application/vnd.jupyter.widget-view+json": {
                     "model_id": "b065e015474f4522b1c13a11425de787",
                     "version_major": 2,
                     "version_minor": 0
                  },
                  "text/plain": [
                     "Validation: |          | 0/? [00:00<?, ?it/s]"
                  ]
               },
               "metadata": {},
               "output_type": "display_data"
            },
            {
               "data": {
                  "application/vnd.jupyter.widget-view+json": {
                     "model_id": "c0592b07fb19441988c4a2b44163418b",
                     "version_major": 2,
                     "version_minor": 0
                  },
                  "text/plain": [
                     "Validation: |          | 0/? [00:00<?, ?it/s]"
                  ]
               },
               "metadata": {},
               "output_type": "display_data"
            },
            {
               "data": {
                  "application/vnd.jupyter.widget-view+json": {
                     "model_id": "3fc62b09e5ce4165bd4007c560c4ad07",
                     "version_major": 2,
                     "version_minor": 0
                  },
                  "text/plain": [
                     "Validation: |          | 0/? [00:00<?, ?it/s]"
                  ]
               },
               "metadata": {},
               "output_type": "display_data"
            },
            {
               "data": {
                  "application/vnd.jupyter.widget-view+json": {
                     "model_id": "f4885f7b4c2e4a918b0b536e82ffc916",
                     "version_major": 2,
                     "version_minor": 0
                  },
                  "text/plain": [
                     "Validation: |          | 0/? [00:00<?, ?it/s]"
                  ]
               },
               "metadata": {},
               "output_type": "display_data"
            },
            {
               "data": {
                  "application/vnd.jupyter.widget-view+json": {
                     "model_id": "0913b698b641489eb6cbf74a47662ab6",
                     "version_major": 2,
                     "version_minor": 0
                  },
                  "text/plain": [
                     "Validation: |          | 0/? [00:00<?, ?it/s]"
                  ]
               },
               "metadata": {},
               "output_type": "display_data"
            },
            {
               "data": {
                  "application/vnd.jupyter.widget-view+json": {
                     "model_id": "d786cda264a449e38923ec3590b1058c",
                     "version_major": 2,
                     "version_minor": 0
                  },
                  "text/plain": [
                     "Validation: |          | 0/? [00:00<?, ?it/s]"
                  ]
               },
               "metadata": {},
               "output_type": "display_data"
            },
            {
               "data": {
                  "application/vnd.jupyter.widget-view+json": {
                     "model_id": "32bf3f6956934778a34531eb1c1d4658",
                     "version_major": 2,
                     "version_minor": 0
                  },
                  "text/plain": [
                     "Validation: |          | 0/? [00:00<?, ?it/s]"
                  ]
               },
               "metadata": {},
               "output_type": "display_data"
            },
            {
               "data": {
                  "application/vnd.jupyter.widget-view+json": {
                     "model_id": "f263dd26889d4235a50cc7633b76a65a",
                     "version_major": 2,
                     "version_minor": 0
                  },
                  "text/plain": [
                     "Validation: |          | 0/? [00:00<?, ?it/s]"
                  ]
               },
               "metadata": {},
               "output_type": "display_data"
            },
            {
               "data": {
                  "application/vnd.jupyter.widget-view+json": {
                     "model_id": "035e63b0a4e242b9b1b96d87ae90a31b",
                     "version_major": 2,
                     "version_minor": 0
                  },
                  "text/plain": [
                     "Validation: |          | 0/? [00:00<?, ?it/s]"
                  ]
               },
               "metadata": {},
               "output_type": "display_data"
            },
            {
               "data": {
                  "application/vnd.jupyter.widget-view+json": {
                     "model_id": "397aa91ad6cd4200bf72c4984e95e08d",
                     "version_major": 2,
                     "version_minor": 0
                  },
                  "text/plain": [
                     "Validation: |          | 0/? [00:00<?, ?it/s]"
                  ]
               },
               "metadata": {},
               "output_type": "display_data"
            },
            {
               "data": {
                  "application/vnd.jupyter.widget-view+json": {
                     "model_id": "8c9adfa493c84c9791d528903d905a9b",
                     "version_major": 2,
                     "version_minor": 0
                  },
                  "text/plain": [
                     "Validation: |          | 0/? [00:00<?, ?it/s]"
                  ]
               },
               "metadata": {},
               "output_type": "display_data"
            },
            {
               "data": {
                  "application/vnd.jupyter.widget-view+json": {
                     "model_id": "9bad4c73f14045d896f32cddd24ff8e5",
                     "version_major": 2,
                     "version_minor": 0
                  },
                  "text/plain": [
                     "Validation: |          | 0/? [00:00<?, ?it/s]"
                  ]
               },
               "metadata": {},
               "output_type": "display_data"
            },
            {
               "data": {
                  "application/vnd.jupyter.widget-view+json": {
                     "model_id": "a1454e561a5247689412ead8222dcbad",
                     "version_major": 2,
                     "version_minor": 0
                  },
                  "text/plain": [
                     "Validation: |          | 0/? [00:00<?, ?it/s]"
                  ]
               },
               "metadata": {},
               "output_type": "display_data"
            },
            {
               "data": {
                  "application/vnd.jupyter.widget-view+json": {
                     "model_id": "f239e5afc5d041c9893d764f0b02acc3",
                     "version_major": 2,
                     "version_minor": 0
                  },
                  "text/plain": [
                     "Validation: |          | 0/? [00:00<?, ?it/s]"
                  ]
               },
               "metadata": {},
               "output_type": "display_data"
            },
            {
               "data": {
                  "application/vnd.jupyter.widget-view+json": {
                     "model_id": "1a5afd0f95c648f08811e73fb4d20646",
                     "version_major": 2,
                     "version_minor": 0
                  },
                  "text/plain": [
                     "Validation: |          | 0/? [00:00<?, ?it/s]"
                  ]
               },
               "metadata": {},
               "output_type": "display_data"
            },
            {
               "data": {
                  "application/vnd.jupyter.widget-view+json": {
                     "model_id": "7c11d820977940bfbcff093569dd9a3d",
                     "version_major": 2,
                     "version_minor": 0
                  },
                  "text/plain": [
                     "Validation: |          | 0/? [00:00<?, ?it/s]"
                  ]
               },
               "metadata": {},
               "output_type": "display_data"
            },
            {
               "data": {
                  "application/vnd.jupyter.widget-view+json": {
                     "model_id": "dfced0e5c9374368ace075d1384d95e5",
                     "version_major": 2,
                     "version_minor": 0
                  },
                  "text/plain": [
                     "Validation: |          | 0/? [00:00<?, ?it/s]"
                  ]
               },
               "metadata": {},
               "output_type": "display_data"
            },
            {
               "data": {
                  "application/vnd.jupyter.widget-view+json": {
                     "model_id": "c952b82f7e174e3e9e4759cb0cdafff8",
                     "version_major": 2,
                     "version_minor": 0
                  },
                  "text/plain": [
                     "Validation: |          | 0/? [00:00<?, ?it/s]"
                  ]
               },
               "metadata": {},
               "output_type": "display_data"
            },
            {
               "data": {
                  "application/vnd.jupyter.widget-view+json": {
                     "model_id": "72b004d23a8e4b73ab1fd707a8c142c8",
                     "version_major": 2,
                     "version_minor": 0
                  },
                  "text/plain": [
                     "Validation: |          | 0/? [00:00<?, ?it/s]"
                  ]
               },
               "metadata": {},
               "output_type": "display_data"
            },
            {
               "data": {
                  "application/vnd.jupyter.widget-view+json": {
                     "model_id": "c7f37049d78a4b8fb89d9ba477a554ef",
                     "version_major": 2,
                     "version_minor": 0
                  },
                  "text/plain": [
                     "Validation: |          | 0/? [00:00<?, ?it/s]"
                  ]
               },
               "metadata": {},
               "output_type": "display_data"
            },
            {
               "data": {
                  "application/vnd.jupyter.widget-view+json": {
                     "model_id": "f62d6c38833e4cc29bdc8a0630c7c8c7",
                     "version_major": 2,
                     "version_minor": 0
                  },
                  "text/plain": [
                     "Validation: |          | 0/? [00:00<?, ?it/s]"
                  ]
               },
               "metadata": {},
               "output_type": "display_data"
            },
            {
               "data": {
                  "application/vnd.jupyter.widget-view+json": {
                     "model_id": "d371f3e6917948ba83ff1e6c6a83e08f",
                     "version_major": 2,
                     "version_minor": 0
                  },
                  "text/plain": [
                     "Validation: |          | 0/? [00:00<?, ?it/s]"
                  ]
               },
               "metadata": {},
               "output_type": "display_data"
            },
            {
               "data": {
                  "application/vnd.jupyter.widget-view+json": {
                     "model_id": "e1d194bdd4424993b9cb41852fe7d69e",
                     "version_major": 2,
                     "version_minor": 0
                  },
                  "text/plain": [
                     "Validation: |          | 0/? [00:00<?, ?it/s]"
                  ]
               },
               "metadata": {},
               "output_type": "display_data"
            },
            {
               "data": {
                  "application/vnd.jupyter.widget-view+json": {
                     "model_id": "4bdff1d4a2d34d5fb3d0d38dff4018dd",
                     "version_major": 2,
                     "version_minor": 0
                  },
                  "text/plain": [
                     "Validation: |          | 0/? [00:00<?, ?it/s]"
                  ]
               },
               "metadata": {},
               "output_type": "display_data"
            },
            {
               "data": {
                  "application/vnd.jupyter.widget-view+json": {
                     "model_id": "0e207baa697c4a9a94669f985aa83c0b",
                     "version_major": 2,
                     "version_minor": 0
                  },
                  "text/plain": [
                     "Validation: |          | 0/? [00:00<?, ?it/s]"
                  ]
               },
               "metadata": {},
               "output_type": "display_data"
            },
            {
               "data": {
                  "application/vnd.jupyter.widget-view+json": {
                     "model_id": "cd474ba3bc26402ba905f70693bc962f",
                     "version_major": 2,
                     "version_minor": 0
                  },
                  "text/plain": [
                     "Validation: |          | 0/? [00:00<?, ?it/s]"
                  ]
               },
               "metadata": {},
               "output_type": "display_data"
            },
            {
               "data": {
                  "application/vnd.jupyter.widget-view+json": {
                     "model_id": "a620aebae1d34d8da54a93e0be6d5185",
                     "version_major": 2,
                     "version_minor": 0
                  },
                  "text/plain": [
                     "Validation: |          | 0/? [00:00<?, ?it/s]"
                  ]
               },
               "metadata": {},
               "output_type": "display_data"
            },
            {
               "data": {
                  "application/vnd.jupyter.widget-view+json": {
                     "model_id": "85b579861ead405cb81af644e5676c04",
                     "version_major": 2,
                     "version_minor": 0
                  },
                  "text/plain": [
                     "Validation: |          | 0/? [00:00<?, ?it/s]"
                  ]
               },
               "metadata": {},
               "output_type": "display_data"
            },
            {
               "data": {
                  "application/vnd.jupyter.widget-view+json": {
                     "model_id": "8e3c2ca68ad542d697b431ea9d9407df",
                     "version_major": 2,
                     "version_minor": 0
                  },
                  "text/plain": [
                     "Validation: |          | 0/? [00:00<?, ?it/s]"
                  ]
               },
               "metadata": {},
               "output_type": "display_data"
            },
            {
               "data": {
                  "application/vnd.jupyter.widget-view+json": {
                     "model_id": "e0e4ff8872384ff889bd231f2f56d6e0",
                     "version_major": 2,
                     "version_minor": 0
                  },
                  "text/plain": [
                     "Validation: |          | 0/? [00:00<?, ?it/s]"
                  ]
               },
               "metadata": {},
               "output_type": "display_data"
            },
            {
               "data": {
                  "application/vnd.jupyter.widget-view+json": {
                     "model_id": "0aa9041c9d7441a4ace7729e42452567",
                     "version_major": 2,
                     "version_minor": 0
                  },
                  "text/plain": [
                     "Validation: |          | 0/? [00:00<?, ?it/s]"
                  ]
               },
               "metadata": {},
               "output_type": "display_data"
            },
            {
               "data": {
                  "application/vnd.jupyter.widget-view+json": {
                     "model_id": "2f536dc4c73f4fdd8ba50f4b1b1ba651",
                     "version_major": 2,
                     "version_minor": 0
                  },
                  "text/plain": [
                     "Validation: |          | 0/? [00:00<?, ?it/s]"
                  ]
               },
               "metadata": {},
               "output_type": "display_data"
            },
            {
               "data": {
                  "application/vnd.jupyter.widget-view+json": {
                     "model_id": "fbb25ea272164b688031d2467f5a79da",
                     "version_major": 2,
                     "version_minor": 0
                  },
                  "text/plain": [
                     "Validation: |          | 0/? [00:00<?, ?it/s]"
                  ]
               },
               "metadata": {},
               "output_type": "display_data"
            },
            {
               "data": {
                  "application/vnd.jupyter.widget-view+json": {
                     "model_id": "4742fb790e6347dda3bc7df0889adf02",
                     "version_major": 2,
                     "version_minor": 0
                  },
                  "text/plain": [
                     "Validation: |          | 0/? [00:00<?, ?it/s]"
                  ]
               },
               "metadata": {},
               "output_type": "display_data"
            },
            {
               "data": {
                  "application/vnd.jupyter.widget-view+json": {
                     "model_id": "2bba5a6f42044bda8def99b80247d74e",
                     "version_major": 2,
                     "version_minor": 0
                  },
                  "text/plain": [
                     "Validation: |          | 0/? [00:00<?, ?it/s]"
                  ]
               },
               "metadata": {},
               "output_type": "display_data"
            },
            {
               "data": {
                  "application/vnd.jupyter.widget-view+json": {
                     "model_id": "3e5a5d24897f4dee97dbb3ac37c80d34",
                     "version_major": 2,
                     "version_minor": 0
                  },
                  "text/plain": [
                     "Validation: |          | 0/? [00:00<?, ?it/s]"
                  ]
               },
               "metadata": {},
               "output_type": "display_data"
            },
            {
               "data": {
                  "application/vnd.jupyter.widget-view+json": {
                     "model_id": "4b6f74831fa140aebebb37e41cc081df",
                     "version_major": 2,
                     "version_minor": 0
                  },
                  "text/plain": [
                     "Validation: |          | 0/? [00:00<?, ?it/s]"
                  ]
               },
               "metadata": {},
               "output_type": "display_data"
            },
            {
               "data": {
                  "application/vnd.jupyter.widget-view+json": {
                     "model_id": "4bed20acc42b45e5b35cbea42f0bed1e",
                     "version_major": 2,
                     "version_minor": 0
                  },
                  "text/plain": [
                     "Validation: |          | 0/? [00:00<?, ?it/s]"
                  ]
               },
               "metadata": {},
               "output_type": "display_data"
            },
            {
               "data": {
                  "application/vnd.jupyter.widget-view+json": {
                     "model_id": "794acb5f89ae40e697e68b0656026005",
                     "version_major": 2,
                     "version_minor": 0
                  },
                  "text/plain": [
                     "Validation: |          | 0/? [00:00<?, ?it/s]"
                  ]
               },
               "metadata": {},
               "output_type": "display_data"
            },
            {
               "data": {
                  "application/vnd.jupyter.widget-view+json": {
                     "model_id": "3cd5655be60a41f2a11233975401d3a2",
                     "version_major": 2,
                     "version_minor": 0
                  },
                  "text/plain": [
                     "Validation: |          | 0/? [00:00<?, ?it/s]"
                  ]
               },
               "metadata": {},
               "output_type": "display_data"
            },
            {
               "data": {
                  "application/vnd.jupyter.widget-view+json": {
                     "model_id": "4a33e8dd536f449ea62630577162d13c",
                     "version_major": 2,
                     "version_minor": 0
                  },
                  "text/plain": [
                     "Validation: |          | 0/? [00:00<?, ?it/s]"
                  ]
               },
               "metadata": {},
               "output_type": "display_data"
            },
            {
               "data": {
                  "application/vnd.jupyter.widget-view+json": {
                     "model_id": "ff1ab60ee5b94986a5da440decbca42f",
                     "version_major": 2,
                     "version_minor": 0
                  },
                  "text/plain": [
                     "Validation: |          | 0/? [00:00<?, ?it/s]"
                  ]
               },
               "metadata": {},
               "output_type": "display_data"
            },
            {
               "data": {
                  "application/vnd.jupyter.widget-view+json": {
                     "model_id": "0692892a7c6f4befab7ee0e879d72759",
                     "version_major": 2,
                     "version_minor": 0
                  },
                  "text/plain": [
                     "Validation: |          | 0/? [00:00<?, ?it/s]"
                  ]
               },
               "metadata": {},
               "output_type": "display_data"
            },
            {
               "data": {
                  "application/vnd.jupyter.widget-view+json": {
                     "model_id": "26ece62037fb4ed4942fee053f77388b",
                     "version_major": 2,
                     "version_minor": 0
                  },
                  "text/plain": [
                     "Validation: |          | 0/? [00:00<?, ?it/s]"
                  ]
               },
               "metadata": {},
               "output_type": "display_data"
            },
            {
               "data": {
                  "application/vnd.jupyter.widget-view+json": {
                     "model_id": "62394bbfdf4b4885b689f84ebadcb70c",
                     "version_major": 2,
                     "version_minor": 0
                  },
                  "text/plain": [
                     "Validation: |          | 0/? [00:00<?, ?it/s]"
                  ]
               },
               "metadata": {},
               "output_type": "display_data"
            },
            {
               "data": {
                  "application/vnd.jupyter.widget-view+json": {
                     "model_id": "502068381ff7445595cff49ea9ec25ab",
                     "version_major": 2,
                     "version_minor": 0
                  },
                  "text/plain": [
                     "Validation: |          | 0/? [00:00<?, ?it/s]"
                  ]
               },
               "metadata": {},
               "output_type": "display_data"
            },
            {
               "data": {
                  "application/vnd.jupyter.widget-view+json": {
                     "model_id": "3f3b9d88b05949d39fb28b459693066b",
                     "version_major": 2,
                     "version_minor": 0
                  },
                  "text/plain": [
                     "Validation: |          | 0/? [00:00<?, ?it/s]"
                  ]
               },
               "metadata": {},
               "output_type": "display_data"
            },
            {
               "data": {
                  "application/vnd.jupyter.widget-view+json": {
                     "model_id": "3e1ae20ca94749f49479e7e8f0ecaed8",
                     "version_major": 2,
                     "version_minor": 0
                  },
                  "text/plain": [
                     "Validation: |          | 0/? [00:00<?, ?it/s]"
                  ]
               },
               "metadata": {},
               "output_type": "display_data"
            },
            {
               "data": {
                  "application/vnd.jupyter.widget-view+json": {
                     "model_id": "a9d1440330144de884116ab1e63140aa",
                     "version_major": 2,
                     "version_minor": 0
                  },
                  "text/plain": [
                     "Validation: |          | 0/? [00:00<?, ?it/s]"
                  ]
               },
               "metadata": {},
               "output_type": "display_data"
            },
            {
               "data": {
                  "application/vnd.jupyter.widget-view+json": {
                     "model_id": "7b95ae9fe40649e4b745f0c48b839e73",
                     "version_major": 2,
                     "version_minor": 0
                  },
                  "text/plain": [
                     "Validation: |          | 0/? [00:00<?, ?it/s]"
                  ]
               },
               "metadata": {},
               "output_type": "display_data"
            },
            {
               "data": {
                  "application/vnd.jupyter.widget-view+json": {
                     "model_id": "9091181fdd0b4adab8b7c289d79fd007",
                     "version_major": 2,
                     "version_minor": 0
                  },
                  "text/plain": [
                     "Validation: |          | 0/? [00:00<?, ?it/s]"
                  ]
               },
               "metadata": {},
               "output_type": "display_data"
            },
            {
               "data": {
                  "application/vnd.jupyter.widget-view+json": {
                     "model_id": "138b035b15b74423ab5f53b9a64c8264",
                     "version_major": 2,
                     "version_minor": 0
                  },
                  "text/plain": [
                     "Validation: |          | 0/? [00:00<?, ?it/s]"
                  ]
               },
               "metadata": {},
               "output_type": "display_data"
            },
            {
               "data": {
                  "application/vnd.jupyter.widget-view+json": {
                     "model_id": "23341e99f8414ddc8e1aeb4679659239",
                     "version_major": 2,
                     "version_minor": 0
                  },
                  "text/plain": [
                     "Validation: |          | 0/? [00:00<?, ?it/s]"
                  ]
               },
               "metadata": {},
               "output_type": "display_data"
            },
            {
               "data": {
                  "application/vnd.jupyter.widget-view+json": {
                     "model_id": "eb5b52a6f73e4e76a1e785774df157f6",
                     "version_major": 2,
                     "version_minor": 0
                  },
                  "text/plain": [
                     "Validation: |          | 0/? [00:00<?, ?it/s]"
                  ]
               },
               "metadata": {},
               "output_type": "display_data"
            },
            {
               "data": {
                  "application/vnd.jupyter.widget-view+json": {
                     "model_id": "29d9f7aaa6a3451c9a0f89611f3708c7",
                     "version_major": 2,
                     "version_minor": 0
                  },
                  "text/plain": [
                     "Validation: |          | 0/? [00:00<?, ?it/s]"
                  ]
               },
               "metadata": {},
               "output_type": "display_data"
            },
            {
               "data": {
                  "application/vnd.jupyter.widget-view+json": {
                     "model_id": "3a6cc24574324b95aec1ff8a6bfba751",
                     "version_major": 2,
                     "version_minor": 0
                  },
                  "text/plain": [
                     "Validation: |          | 0/? [00:00<?, ?it/s]"
                  ]
               },
               "metadata": {},
               "output_type": "display_data"
            },
            {
               "data": {
                  "application/vnd.jupyter.widget-view+json": {
                     "model_id": "fc29eb65ea2440d79a9d3c1c310a6e29",
                     "version_major": 2,
                     "version_minor": 0
                  },
                  "text/plain": [
                     "Validation: |          | 0/? [00:00<?, ?it/s]"
                  ]
               },
               "metadata": {},
               "output_type": "display_data"
            },
            {
               "data": {
                  "application/vnd.jupyter.widget-view+json": {
                     "model_id": "0fdf21221d47476cbb972143162fc862",
                     "version_major": 2,
                     "version_minor": 0
                  },
                  "text/plain": [
                     "Validation: |          | 0/? [00:00<?, ?it/s]"
                  ]
               },
               "metadata": {},
               "output_type": "display_data"
            },
            {
               "data": {
                  "application/vnd.jupyter.widget-view+json": {
                     "model_id": "1d8beb8ca5274208a2e84f4775981a6a",
                     "version_major": 2,
                     "version_minor": 0
                  },
                  "text/plain": [
                     "Validation: |          | 0/? [00:00<?, ?it/s]"
                  ]
               },
               "metadata": {},
               "output_type": "display_data"
            },
            {
               "data": {
                  "application/vnd.jupyter.widget-view+json": {
                     "model_id": "5134cf53585e476c91e5059af58c27f9",
                     "version_major": 2,
                     "version_minor": 0
                  },
                  "text/plain": [
                     "Validation: |          | 0/? [00:00<?, ?it/s]"
                  ]
               },
               "metadata": {},
               "output_type": "display_data"
            },
            {
               "data": {
                  "application/vnd.jupyter.widget-view+json": {
                     "model_id": "65471c311b0f460c9bf42d09885cdf13",
                     "version_major": 2,
                     "version_minor": 0
                  },
                  "text/plain": [
                     "Validation: |          | 0/? [00:00<?, ?it/s]"
                  ]
               },
               "metadata": {},
               "output_type": "display_data"
            },
            {
               "data": {
                  "application/vnd.jupyter.widget-view+json": {
                     "model_id": "781aed6b78424315ac73f1a6767d5869",
                     "version_major": 2,
                     "version_minor": 0
                  },
                  "text/plain": [
                     "Validation: |          | 0/? [00:00<?, ?it/s]"
                  ]
               },
               "metadata": {},
               "output_type": "display_data"
            },
            {
               "data": {
                  "application/vnd.jupyter.widget-view+json": {
                     "model_id": "88a94343edb446c19a5ae8d8ee97bf5e",
                     "version_major": 2,
                     "version_minor": 0
                  },
                  "text/plain": [
                     "Validation: |          | 0/? [00:00<?, ?it/s]"
                  ]
               },
               "metadata": {},
               "output_type": "display_data"
            },
            {
               "data": {
                  "application/vnd.jupyter.widget-view+json": {
                     "model_id": "456011e5cad8498696c9abee3ad1232a",
                     "version_major": 2,
                     "version_minor": 0
                  },
                  "text/plain": [
                     "Validation: |          | 0/? [00:00<?, ?it/s]"
                  ]
               },
               "metadata": {},
               "output_type": "display_data"
            },
            {
               "data": {
                  "application/vnd.jupyter.widget-view+json": {
                     "model_id": "b64d2b9eab3047ecb4c3fa844d2ad4b2",
                     "version_major": 2,
                     "version_minor": 0
                  },
                  "text/plain": [
                     "Validation: |          | 0/? [00:00<?, ?it/s]"
                  ]
               },
               "metadata": {},
               "output_type": "display_data"
            },
            {
               "data": {
                  "application/vnd.jupyter.widget-view+json": {
                     "model_id": "2f38f202f69343ac961289a0bc9a0704",
                     "version_major": 2,
                     "version_minor": 0
                  },
                  "text/plain": [
                     "Validation: |          | 0/? [00:00<?, ?it/s]"
                  ]
               },
               "metadata": {},
               "output_type": "display_data"
            },
            {
               "data": {
                  "application/vnd.jupyter.widget-view+json": {
                     "model_id": "6af340e514c1446fb6d634f4d13f24aa",
                     "version_major": 2,
                     "version_minor": 0
                  },
                  "text/plain": [
                     "Validation: |          | 0/? [00:00<?, ?it/s]"
                  ]
               },
               "metadata": {},
               "output_type": "display_data"
            },
            {
               "data": {
                  "application/vnd.jupyter.widget-view+json": {
                     "model_id": "9e88bc1d46a749f8b4a2238298a2730b",
                     "version_major": 2,
                     "version_minor": 0
                  },
                  "text/plain": [
                     "Validation: |          | 0/? [00:00<?, ?it/s]"
                  ]
               },
               "metadata": {},
               "output_type": "display_data"
            },
            {
               "data": {
                  "application/vnd.jupyter.widget-view+json": {
                     "model_id": "d3743c592c6440b8b820180991d8d6c6",
                     "version_major": 2,
                     "version_minor": 0
                  },
                  "text/plain": [
                     "Validation: |          | 0/? [00:00<?, ?it/s]"
                  ]
               },
               "metadata": {},
               "output_type": "display_data"
            },
            {
               "data": {
                  "application/vnd.jupyter.widget-view+json": {
                     "model_id": "18bc8aa39c9045b3919afa5a8776d1d0",
                     "version_major": 2,
                     "version_minor": 0
                  },
                  "text/plain": [
                     "Validation: |          | 0/? [00:00<?, ?it/s]"
                  ]
               },
               "metadata": {},
               "output_type": "display_data"
            },
            {
               "data": {
                  "application/vnd.jupyter.widget-view+json": {
                     "model_id": "1fe3138121d0424b988b15d2998ca155",
                     "version_major": 2,
                     "version_minor": 0
                  },
                  "text/plain": [
                     "Validation: |          | 0/? [00:00<?, ?it/s]"
                  ]
               },
               "metadata": {},
               "output_type": "display_data"
            },
            {
               "data": {
                  "application/vnd.jupyter.widget-view+json": {
                     "model_id": "9626afdeb2814c08a541cf91e4ee9831",
                     "version_major": 2,
                     "version_minor": 0
                  },
                  "text/plain": [
                     "Validation: |          | 0/? [00:00<?, ?it/s]"
                  ]
               },
               "metadata": {},
               "output_type": "display_data"
            },
            {
               "data": {
                  "application/vnd.jupyter.widget-view+json": {
                     "model_id": "6714fe0d4e754a98aa45c124992124e3",
                     "version_major": 2,
                     "version_minor": 0
                  },
                  "text/plain": [
                     "Validation: |          | 0/? [00:00<?, ?it/s]"
                  ]
               },
               "metadata": {},
               "output_type": "display_data"
            },
            {
               "data": {
                  "application/vnd.jupyter.widget-view+json": {
                     "model_id": "7e142bcc12594a57ae38d49044d1e610",
                     "version_major": 2,
                     "version_minor": 0
                  },
                  "text/plain": [
                     "Validation: |          | 0/? [00:00<?, ?it/s]"
                  ]
               },
               "metadata": {},
               "output_type": "display_data"
            },
            {
               "data": {
                  "application/vnd.jupyter.widget-view+json": {
                     "model_id": "f0e2050f91634bacbdde69f37a588b9d",
                     "version_major": 2,
                     "version_minor": 0
                  },
                  "text/plain": [
                     "Validation: |          | 0/? [00:00<?, ?it/s]"
                  ]
               },
               "metadata": {},
               "output_type": "display_data"
            },
            {
               "data": {
                  "application/vnd.jupyter.widget-view+json": {
                     "model_id": "364d570582114bdc9ae95daa4713e345",
                     "version_major": 2,
                     "version_minor": 0
                  },
                  "text/plain": [
                     "Validation: |          | 0/? [00:00<?, ?it/s]"
                  ]
               },
               "metadata": {},
               "output_type": "display_data"
            },
            {
               "data": {
                  "application/vnd.jupyter.widget-view+json": {
                     "model_id": "d90cdd9319004668845745fa4471ba9c",
                     "version_major": 2,
                     "version_minor": 0
                  },
                  "text/plain": [
                     "Validation: |          | 0/? [00:00<?, ?it/s]"
                  ]
               },
               "metadata": {},
               "output_type": "display_data"
            }
         ],
         "source": [
            "train_results = train_model_from_scratch(\n",
            "    gauge_ids=basin_ids,\n",
            "    datamodule_config=datamodule_config,\n",
            "    training_config=training_config,\n",
            "    output_dir=output_dir,\n",
            "    model_types=model_types,\n",
            "    yaml_paths=yaml_paths,\n",
            "    experiment_name=experiment_name,\n",
            "    num_runs=num_runs,\n",
            "    override_previous_attempts=override_previous_attempts,\n",
            ")"
         ]
      },
      {
         "cell_type": "code",
         "execution_count": null,
         "id": "91b9d4cf",
         "metadata": {},
         "outputs": [],
         "source": []
      }
   ],
   "metadata": {
      "kernelspec": {
         "display_name": "Python 3",
         "language": "python",
         "name": "python3"
      },
      "language_info": {
         "codemirror_mode": {
            "name": "ipython",
            "version": 3
         },
         "file_extension": ".py",
         "mimetype": "text/x-python",
         "name": "python",
         "nbconvert_exporter": "python",
         "pygments_lexer": "ipython3",
         "version": "3.10.12"
      }
   },
   "nbformat": 4,
   "nbformat_minor": 5
}
