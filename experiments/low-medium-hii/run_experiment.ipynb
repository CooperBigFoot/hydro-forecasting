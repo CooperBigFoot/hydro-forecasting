{
   "cells": [
      {
         "cell_type": "code",
         "execution_count": 1,
         "id": "2f2fc10e",
         "metadata": {},
         "outputs": [],
         "source": [
            "# !jupyter lab build"
         ]
      },
      {
         "cell_type": "code",
         "execution_count": 2,
         "id": "659bed6b",
         "metadata": {},
         "outputs": [],
         "source": [
            "import sys\n",
            "from pathlib import Path\n",
            "\n",
            "# Add src directory to Python path\n",
            "project_root = Path.cwd().parent.parent\n",
            "src_path = project_root / \"src\"\n",
            "if str(src_path) not in sys.path:\n",
            "    sys.path.insert(0, str(src_path))\n",
            "    print(f\"Added {src_path} to Python path\")"
         ]
      },
      {
         "cell_type": "code",
         "execution_count": 3,
         "id": "dcdcbb1b",
         "metadata": {},
         "outputs": [],
         "source": [
            "import logging\n",
            "\n",
            "logging.disable(logging.CRITICAL)"
         ]
      },
      {
         "cell_type": "code",
         "execution_count": 4,
         "id": "f65efe2c",
         "metadata": {},
         "outputs": [
            {
               "name": "stderr",
               "output_type": "stream",
               "text": [
                  "/usr/local/lib/python3.10/dist-packages/torchvision/io/image.py:13: UserWarning: Failed to load image Python extension: '/usr/local/lib/python3.10/dist-packages/torchvision/image.so: undefined symbol: _ZN3c1017RegisterOperatorsD1Ev'If you don't plan on using image functionality from `torchvision.io`, you can ignore this warning. Otherwise, there might be something wrong with your environment. Did you have `libjpeg` or `libpng` installed before building `torchvision` from source?\n",
                  "  warn(\n"
               ]
            }
         ],
         "source": [
            "import torch\n",
            "from sklearn.pipeline import Pipeline\n",
            "\n",
            "from hydro_forecasting.data.caravanify_parquet import (\n",
            "    CaravanifyParquet,\n",
            "    CaravanifyParquetConfig,\n",
            ")\n",
            "from hydro_forecasting.experiment_utils.train_model_from_scratch import train_model_from_scratch\n",
            "from hydro_forecasting.preprocessing.grouped import GroupedPipeline\n",
            "from hydro_forecasting.preprocessing.normalize import NormalizeTransformer\n",
            "from hydro_forecasting.preprocessing.standard_scale import StandardScaleTransformer"
         ]
      },
      {
         "cell_type": "markdown",
         "id": "5e7c3393",
         "metadata": {},
         "source": [
            "---"
         ]
      },
      {
         "cell_type": "markdown",
         "id": "dab68b34",
         "metadata": {},
         "source": [
            "## Experiment constants"
         ]
      },
      {
         "cell_type": "code",
         "execution_count": 5,
         "id": "7a6885fe",
         "metadata": {},
         "outputs": [],
         "source": [
            "REGIONS = [\n",
            "    \"CL\",\n",
            "    \"CH\",\n",
            "    \"USA\",\n",
            "    \"camelsaus\",\n",
            "    \"camelsgb\",\n",
            "    \"camelsbr\",\n",
            "    \"hysets\",\n",
            "    \"lamah\",\n",
            "]\n",
            "\n",
            "COUNTRY = \"kyrgyzstan\""
         ]
      },
      {
         "cell_type": "markdown",
         "id": "2533b81f",
         "metadata": {},
         "source": [
            "## Loading the data (as gauge_ids)"
         ]
      },
      {
         "cell_type": "code",
         "execution_count": 6,
         "id": "ed0ce646",
         "metadata": {},
         "outputs": [
            {
               "name": "stdout",
               "output_type": "stream",
               "text": [
                  "Loading basin IDs for region: CL\n",
                  "Original gauge_ids: 505\n",
                  "Filtered gauge_ids: 487\n",
                  "Loading basin IDs for region: CH\n",
                  "Original gauge_ids: 135\n",
                  "Filtered gauge_ids: 0\n",
                  "No gauge_ids matched the specified human influence categories.\n",
                  "Loading basin IDs for region: USA\n",
                  "Original gauge_ids: 671\n",
                  "Filtered gauge_ids: 567\n",
                  "Loading basin IDs for region: camelsaus\n",
                  "Original gauge_ids: 222\n",
                  "Filtered gauge_ids: 215\n",
                  "Loading basin IDs for region: camelsgb\n",
                  "Original gauge_ids: 671\n",
                  "Filtered gauge_ids: 538\n",
                  "Loading basin IDs for region: camelsbr\n",
                  "Original gauge_ids: 870\n",
                  "Filtered gauge_ids: 868\n",
                  "Loading basin IDs for region: hysets\n",
                  "Original gauge_ids: 12162\n",
                  "Filtered gauge_ids: 8463\n",
                  "Loading basin IDs for region: lamah\n",
                  "Original gauge_ids: 859\n",
                  "Filtered gauge_ids: 812\n",
                  "11950 basin IDs loaded\n"
               ]
            }
         ],
         "source": [
            "def load_basin_ids(regions, human_influence_path: str, human_influence_categories: list):\n",
            "    \"\"\"\n",
            "    Simple function to load basin IDs from multiple regions and filter by human influence.\n",
            "\n",
            "    Args:\n",
            "        regions: List of region names to process\n",
            "        human_influence_path: Path to human influence classification file\n",
            "        human_influence_categories: Categories of human influence to keep\n",
            "\n",
            "    Returns:\n",
            "        List of filtered basin IDs\n",
            "    \"\"\"\n",
            "\n",
            "    human_influence_path = Path(human_influence_path)\n",
            "\n",
            "    basin_ids = []\n",
            "\n",
            "    for region in regions:\n",
            "        print(f\"Loading basin IDs for region: {region}\")\n",
            "        # Set up paths\n",
            "        attributes_dir = f\"/workspace/CaravanifyParquet/{region}/post_processed/attributes\"\n",
            "        timeseries_dir = f\"/workspace/CaravanifyParquet/{region}/post_processed/timeseries/csv\"\n",
            "\n",
            "        # Create config\n",
            "        config = CaravanifyParquetConfig(\n",
            "            attributes_dir=attributes_dir,\n",
            "            timeseries_dir=timeseries_dir,\n",
            "            human_influence_path=human_influence_path,\n",
            "            gauge_id_prefix=region,\n",
            "            use_hydroatlas_attributes=True,\n",
            "            use_caravan_attributes=True,\n",
            "            use_other_attributes=True,\n",
            "        )\n",
            "\n",
            "        # Get and filter basin IDs\n",
            "        caravan = CaravanifyParquet(config)\n",
            "        region_basin_ids = caravan.get_all_gauge_ids()\n",
            "\n",
            "        # Filter by human influence if path provided\n",
            "        if human_influence_path and human_influence_path.exists():\n",
            "            filtered_ids, _ = caravan.filter_gauge_ids_by_human_influence(region_basin_ids, human_influence_categories)\n",
            "        else:\n",
            "            filtered_ids = region_basin_ids\n",
            "\n",
            "        basin_ids.extend(filtered_ids)\n",
            "\n",
            "    # Return unique, sorted basin IDs\n",
            "    return sorted(set(basin_ids))\n",
            "\n",
            "\n",
            "basin_ids = load_basin_ids(\n",
            "    REGIONS,\n",
            "    human_influence_path=\"/workspace/hydro-forecasting/scripts/human_influence_index/results/human_influence_classification.parquet\",\n",
            "    human_influence_categories=[\"Low\", \"Medium\"],\n",
            ")\n",
            "\n",
            "print(len(basin_ids), \"basin IDs loaded\")"
         ]
      },
      {
         "cell_type": "markdown",
         "id": "73f9edf0",
         "metadata": {},
         "source": [
            "## Datamodule Configs"
         ]
      },
      {
         "cell_type": "code",
         "execution_count": 7,
         "id": "c2ea76fb",
         "metadata": {},
         "outputs": [],
         "source": [
            "region_time_series_base_dirs = {\n",
            "    region: f\"/workspace/CaravanifyParquet/{region}/post_processed/timeseries/csv/{region}\" for region in REGIONS\n",
            "}\n",
            "\n",
            "region_static_attributes_base_dirs = {\n",
            "    region: f\"/workspace/CaravanifyParquet/{region}/post_processed/attributes/{region}\" for region in REGIONS\n",
            "}\n",
            "\n",
            "path_to_preprocessing_output_directory = \"/workspace/hydro-forecasting/experiments/low-medium-hii/data_cache\""
         ]
      },
      {
         "cell_type": "code",
         "execution_count": 8,
         "id": "f14911d3",
         "metadata": {},
         "outputs": [],
         "source": [
            "forcing_features = [\n",
            "    \"snow_depth_water_equivalent_mean\",\n",
            "    \"surface_net_solar_radiation_mean\",\n",
            "    \"surface_net_thermal_radiation_mean\",\n",
            "    \"potential_evaporation_sum_ERA5_LAND\",\n",
            "    \"potential_evaporation_sum_FAO_PENMAN_MONTEITH\",\n",
            "    \"temperature_2m_mean\",\n",
            "    \"temperature_2m_min\",\n",
            "    \"temperature_2m_max\",\n",
            "    \"total_precipitation_sum\",\n",
            "]\n",
            "\n",
            "static_features = [\n",
            "    \"p_mean\",\n",
            "    \"area\",\n",
            "    \"ele_mt_sav\",\n",
            "    \"high_prec_dur\",\n",
            "    \"frac_snow\",\n",
            "    \"high_prec_freq\",\n",
            "    \"slp_dg_sav\",\n",
            "    \"cly_pc_sav\",\n",
            "    \"aridity_ERA5_LAND\",\n",
            "    \"aridity_FAO_PM\",\n",
            "]\n",
            "\n",
            "target = \"streamflow\""
         ]
      },
      {
         "cell_type": "code",
         "execution_count": 9,
         "id": "962da35a",
         "metadata": {},
         "outputs": [],
         "source": [
            "feature_pipeline = GroupedPipeline(\n",
            "    Pipeline([(\"scaler\", StandardScaleTransformer()), (\"normalizer\", NormalizeTransformer())]),\n",
            "    columns=forcing_features,\n",
            "    group_identifier=\"gauge_id\",\n",
            ")\n",
            "\n",
            "target_pipeline = GroupedPipeline(\n",
            "    Pipeline([(\"scaler\", StandardScaleTransformer()), (\"normalizer\", NormalizeTransformer())]),\n",
            "    columns=[\"streamflow\"],\n",
            "    group_identifier=\"gauge_id\",\n",
            ")\n",
            "\n",
            "static_pipeline = Pipeline([(\"scaler\", StandardScaleTransformer())])\n",
            "\n",
            "preprocessing_config = {\n",
            "    \"features\": {\"pipeline\": feature_pipeline},\n",
            "    \"target\": {\"pipeline\": target_pipeline},\n",
            "    \"static_features\": {\"pipeline\": static_pipeline, \"columns\": static_features},\n",
            "}"
         ]
      },
      {
         "cell_type": "code",
         "execution_count": 10,
         "id": "cd0f0b66",
         "metadata": {},
         "outputs": [],
         "source": [
            "datamodule_config = {\n",
            "    \"region_time_series_base_dirs\": region_time_series_base_dirs,\n",
            "    \"region_static_attributes_base_dirs\": region_static_attributes_base_dirs,\n",
            "    \"path_to_preprocessing_output_directory\": path_to_preprocessing_output_directory,\n",
            "    \"group_identifier\": \"gauge_id\",\n",
            "    \"batch_size\": 2048,\n",
            "    \"forcing_features\": forcing_features,\n",
            "    \"static_features\": static_features,\n",
            "    \"target\": target,\n",
            "    \"num_workers\": 12,\n",
            "    \"min_train_years\": 10,\n",
            "    \"train_prop\": 0.5,\n",
            "    \"val_prop\": 0.25,\n",
            "    \"test_prop\": 0.25,\n",
            "    \"max_imputation_gap_size\": 5,\n",
            "    \"chunk_size\": 1500,\n",
            "    \"validation_chunk_size\": 4000,\n",
            "    \"is_autoregressive\": True,\n",
            "    \"preprocessing_configs\": preprocessing_config,\n",
            "}"
         ]
      },
      {
         "cell_type": "markdown",
         "id": "158363b3",
         "metadata": {},
         "source": [
            "## Training Configs"
         ]
      },
      {
         "cell_type": "code",
         "execution_count": 11,
         "id": "9709710c",
         "metadata": {},
         "outputs": [],
         "source": [
            "training_config = {\n",
            "    \"max_epochs\": 250,\n",
            "    \"accelerator\": \"cuda\" if torch.cuda.is_available() else \"cpu\",\n",
            "    \"devices\": 1,\n",
            "    \"early_stopping_patience\": 12,\n",
            "    \"reload_dataloaders_every_n_epochs\": 1,\n",
            "}"
         ]
      },
      {
         "cell_type": "markdown",
         "id": "38258592",
         "metadata": {},
         "source": [
            "## Remaining Configs"
         ]
      },
      {
         "cell_type": "code",
         "execution_count": 12,
         "id": "2274e894",
         "metadata": {},
         "outputs": [],
         "source": [
            "output_dir = \"/workspace/hydro-forecasting/experiments/low-medium-hii\"\n",
            "model_types = [\"tft\"]\n",
            "yaml_paths = [\n",
            "    # f\"/workspace/hydro-forecasting/experiments/yaml-files/{COUNTRY}/tide.yaml\",\n",
            "    # f\"/workspace/hydro-forecasting/experiments/yaml-files/{COUNTRY}/ealstm.yaml\",\n",
            "    # f\"/workspace/hydro-forecasting/experiments/yaml-files/{COUNTRY}/tsmixer.yaml\",\n",
            "    f\"/workspace/hydro-forecasting/experiments/yaml-files/{COUNTRY}/tft.yaml\",\n",
            "]\n",
            "experiment_name = f\"low-medium-hii_{COUNTRY}\"\n",
            "num_runs = 1\n",
            "override_previous_attempts = False"
         ]
      },
      {
         "cell_type": "markdown",
         "id": "fb369289",
         "metadata": {},
         "source": [
            "## Training the models from scratch"
         ]
      },
      {
         "cell_type": "code",
         "execution_count": null,
         "id": "1054c874",
         "metadata": {},
         "outputs": [
            {
               "name": "stdout",
               "output_type": "stream",
               "text": [
                  "The following parameters were not found in the YAML file and will use defaults:\n",
                  "  - hidden_continuous_size (model-specific)\n",
                  "  - quantiles (model-specific)\n",
                  "  - scheduler_factor (model-specific)\n",
                  "  - scheduler_patience (model-specific)\n",
                  "INFO: Processed 50 basins, 26 passed quality checks\n",
                  "INFO: Processed 50 basins, 23 passed quality checks\n",
                  "INFO: Processed 50 basins, 27 passed quality checks\n",
                  "INFO: Processed 50 basins, 31 passed quality checks\n",
                  "INFO: Processed 50 basins, 32 passed quality checks\n",
                  "INFO: Processed 50 basins, 29 passed quality checks\n",
                  "INFO: Processed 50 basins, 26 passed quality checks\n",
                  "INFO: Processed 50 basins, 31 passed quality checks\n",
                  "INFO: Processed 50 basins, 21 passed quality checks\n",
                  "INFO: Processed 50 basins, 42 passed quality checks\n",
                  "INFO: Processed 50 basins, 50 passed quality checks\n",
                  "INFO: Processed 50 basins, 50 passed quality checks\n",
                  "INFO: Processed 50 basins, 50 passed quality checks\n",
                  "INFO: Processed 50 basins, 50 passed quality checks\n",
                  "INFO: Processed 50 basins, 50 passed quality checks\n",
                  "INFO: Processed 50 basins, 50 passed quality checks\n",
                  "INFO: Processed 50 basins, 50 passed quality checks\n",
                  "INFO: Processed 50 basins, 50 passed quality checks\n",
                  "INFO: Processed 50 basins, 50 passed quality checks\n",
                  "INFO: Processed 50 basins, 50 passed quality checks\n",
                  "INFO: Processed 50 basins, 50 passed quality checks\n",
                  "INFO: Processed 50 basins, 50 passed quality checks\n",
                  "INFO: Processed 50 basins, 50 passed quality checks\n",
                  "INFO: Processed 50 basins, 50 passed quality checks\n",
                  "INFO: Processed 50 basins, 50 passed quality checks\n",
                  "INFO: Processed 50 basins, 50 passed quality checks\n",
                  "INFO: Processed 50 basins, 50 passed quality checks\n",
                  "INFO: Processed 50 basins, 50 passed quality checks\n",
                  "INFO: Processed 50 basins, 50 passed quality checks\n",
                  "INFO: Processed 50 basins, 50 passed quality checks\n",
                  "INFO: Processed 50 basins, 50 passed quality checks\n",
                  "INFO: Processed 50 basins, 50 passed quality checks\n",
                  "INFO: Processed 50 basins, 50 passed quality checks\n",
                  "INFO: Processed 50 basins, 50 passed quality checks\n",
                  "INFO: Processed 50 basins, 50 passed quality checks\n",
                  "INFO: Processed 50 basins, 50 passed quality checks\n",
                  "INFO: Processed 50 basins, 50 passed quality checks\n",
                  "INFO: Processed 50 basins, 50 passed quality checks\n",
                  "INFO: Processed 50 basins, 50 passed quality checks\n",
                  "INFO: Processed 50 basins, 50 passed quality checks\n",
                  "INFO: Processed 50 basins, 50 passed quality checks\n",
                  "INFO: Processed 50 basins, 50 passed quality checks\n",
                  "INFO: Processed 50 basins, 47 passed quality checks\n",
                  "INFO: Processed 50 basins, 48 passed quality checks\n",
                  "INFO: Processed 50 basins, 49 passed quality checks\n",
                  "INFO: Processed 50 basins, 48 passed quality checks\n",
                  "INFO: Processed 50 basins, 50 passed quality checks\n",
                  "INFO: Processed 50 basins, 49 passed quality checks\n",
                  "INFO: Processed 50 basins, 47 passed quality checks\n",
                  "INFO: Processed 50 basins, 50 passed quality checks\n",
                  "INFO: Processed 50 basins, 50 passed quality checks\n",
                  "INFO: Processed 50 basins, 49 passed quality checks\n",
                  "INFO: Processed 50 basins, 50 passed quality checks\n",
                  "INFO: Processed 50 basins, 30 passed quality checks\n",
                  "INFO: Processed 50 basins, 19 passed quality checks\n",
                  "INFO: Processed 50 basins, 20 passed quality checks\n",
                  "INFO: Processed 50 basins, 22 passed quality checks\n",
                  "INFO: Processed 50 basins, 18 passed quality checks\n",
                  "INFO: Processed 50 basins, 34 passed quality checks\n",
                  "INFO: Processed 50 basins, 34 passed quality checks\n",
                  "INFO: Processed 50 basins, 23 passed quality checks\n",
                  "INFO: Processed 50 basins, 5 passed quality checks\n",
                  "INFO: Processed 50 basins, 1 passed quality checks\n",
                  "INFO: Processed 50 basins, 9 passed quality checks\n",
                  "INFO: Processed 50 basins, 9 passed quality checks\n",
                  "INFO: Processed 50 basins, 16 passed quality checks\n",
                  "INFO: Processed 50 basins, 22 passed quality checks\n",
                  "INFO: Processed 50 basins, 18 passed quality checks\n",
                  "INFO: Processed 50 basins, 24 passed quality checks\n",
                  "INFO: Processed 50 basins, 25 passed quality checks\n",
                  "INFO: Processed 50 basins, 26 passed quality checks\n",
                  "INFO: Processed 50 basins, 21 passed quality checks\n",
                  "INFO: Processed 50 basins, 20 passed quality checks\n",
                  "INFO: Processed 50 basins, 14 passed quality checks\n",
                  "INFO: Processed 50 basins, 12 passed quality checks\n",
                  "INFO: Processed 50 basins, 18 passed quality checks\n",
                  "INFO: Processed 50 basins, 19 passed quality checks\n",
                  "INFO: Processed 50 basins, 15 passed quality checks\n",
                  "INFO: Processed 50 basins, 27 passed quality checks\n",
                  "INFO: Processed 50 basins, 28 passed quality checks\n",
                  "INFO: Processed 50 basins, 37 passed quality checks\n",
                  "INFO: Processed 50 basins, 29 passed quality checks\n",
                  "INFO: Processed 50 basins, 26 passed quality checks\n",
                  "INFO: Processed 50 basins, 30 passed quality checks\n",
                  "INFO: Processed 50 basins, 26 passed quality checks\n",
                  "INFO: Processed 50 basins, 36 passed quality checks\n",
                  "INFO: Processed 50 basins, 22 passed quality checks\n",
                  "INFO: Processed 50 basins, 18 passed quality checks\n",
                  "INFO: Processed 50 basins, 13 passed quality checks\n",
                  "INFO: Processed 50 basins, 12 passed quality checks\n",
                  "INFO: Processed 50 basins, 8 passed quality checks\n",
                  "INFO: Processed 50 basins, 17 passed quality checks\n",
                  "INFO: Processed 50 basins, 17 passed quality checks\n",
                  "INFO: Processed 50 basins, 17 passed quality checks\n",
                  "INFO: Processed 50 basins, 18 passed quality checks\n",
                  "INFO: Processed 50 basins, 21 passed quality checks\n",
                  "INFO: Processed 50 basins, 21 passed quality checks\n",
                  "INFO: Processed 50 basins, 16 passed quality checks\n",
                  "INFO: Processed 50 basins, 14 passed quality checks\n",
                  "INFO: Processed 50 basins, 10 passed quality checks\n",
                  "INFO: Processed 50 basins, 13 passed quality checks\n",
                  "INFO: Processed 50 basins, 9 passed quality checks\n",
                  "INFO: Processed 50 basins, 8 passed quality checks\n",
                  "INFO: Processed 50 basins, 16 passed quality checks\n",
                  "INFO: Processed 50 basins, 16 passed quality checks\n",
                  "INFO: Processed 50 basins, 12 passed quality checks\n",
                  "INFO: Processed 50 basins, 19 passed quality checks\n",
                  "INFO: Processed 50 basins, 29 passed quality checks\n",
                  "INFO: Processed 50 basins, 16 passed quality checks\n",
                  "INFO: Processed 50 basins, 24 passed quality checks\n",
                  "INFO: Processed 50 basins, 22 passed quality checks\n",
                  "INFO: Processed 50 basins, 22 passed quality checks\n",
                  "INFO: Processed 50 basins, 19 passed quality checks\n",
                  "INFO: Processed 50 basins, 6 passed quality checks\n",
                  "INFO: Processed 50 basins, 8 passed quality checks\n",
                  "INFO: Processed 50 basins, 7 passed quality checks\n",
                  "INFO: Processed 50 basins, 13 passed quality checks\n",
                  "INFO: Processed 50 basins, 30 passed quality checks\n",
                  "INFO: Processed 50 basins, 29 passed quality checks\n",
                  "INFO: Processed 50 basins, 28 passed quality checks\n",
                  "INFO: Processed 50 basins, 25 passed quality checks\n",
                  "INFO: Processed 50 basins, 37 passed quality checks\n",
                  "INFO: Processed 50 basins, 38 passed quality checks\n",
                  "INFO: Processed 50 basins, 42 passed quality checks\n",
                  "INFO: Processed 50 basins, 25 passed quality checks\n",
                  "INFO: Processed 50 basins, 24 passed quality checks\n",
                  "INFO: Processed 50 basins, 15 passed quality checks\n",
                  "INFO: Processed 50 basins, 10 passed quality checks\n",
                  "INFO: Processed 50 basins, 11 passed quality checks\n",
                  "INFO: Processed 50 basins, 14 passed quality checks\n",
                  "INFO: Processed 50 basins, 11 passed quality checks\n",
                  "INFO: Processed 50 basins, 6 passed quality checks\n",
                  "INFO: Processed 50 basins, 8 passed quality checks\n",
                  "INFO: Processed 50 basins, 14 passed quality checks\n",
                  "INFO: Processed 50 basins, 19 passed quality checks\n",
                  "INFO: Processed 50 basins, 21 passed quality checks\n",
                  "INFO: Processed 50 basins, 18 passed quality checks\n",
                  "INFO: Processed 50 basins, 16 passed quality checks\n",
                  "INFO: Processed 50 basins, 2 passed quality checks\n",
                  "INFO: Processed 50 basins, 10 passed quality checks\n",
                  "INFO: Processed 50 basins, 21 passed quality checks\n",
                  "INFO: Processed 50 basins, 16 passed quality checks\n",
                  "INFO: Processed 50 basins, 21 passed quality checks\n",
                  "INFO: Processed 50 basins, 17 passed quality checks\n",
                  "INFO: Processed 50 basins, 19 passed quality checks\n",
                  "INFO: Processed 50 basins, 31 passed quality checks\n",
                  "INFO: Processed 50 basins, 12 passed quality checks\n",
                  "INFO: Processed 50 basins, 19 passed quality checks\n",
                  "INFO: Processed 50 basins, 9 passed quality checks\n",
                  "INFO: Processed 50 basins, 19 passed quality checks\n",
                  "INFO: Processed 50 basins, 9 passed quality checks\n",
                  "INFO: Processed 50 basins, 15 passed quality checks\n",
                  "INFO: Processed 50 basins, 4 passed quality checks\n",
                  "INFO: Processed 50 basins, 15 passed quality checks\n",
                  "INFO: Processed 50 basins, 14 passed quality checks\n",
                  "INFO: Processed 50 basins, 11 passed quality checks\n",
                  "INFO: Processed 50 basins, 15 passed quality checks\n",
                  "INFO: Processed 50 basins, 36 passed quality checks\n",
                  "INFO: Processed 50 basins, 38 passed quality checks\n",
                  "INFO: Processed 50 basins, 36 passed quality checks\n",
                  "INFO: Processed 50 basins, 25 passed quality checks\n",
                  "INFO: Processed 50 basins, 18 passed quality checks\n",
                  "INFO: Processed 50 basins, 9 passed quality checks\n",
                  "INFO: Processed 50 basins, 22 passed quality checks\n",
                  "INFO: Processed 50 basins, 10 passed quality checks\n",
                  "INFO: Processed 50 basins, 17 passed quality checks\n",
                  "INFO: Processed 50 basins, 25 passed quality checks\n",
                  "INFO: Processed 50 basins, 39 passed quality checks\n",
                  "INFO: Processed 50 basins, 32 passed quality checks\n",
                  "INFO: Processed 50 basins, 30 passed quality checks\n",
                  "INFO: Processed 50 basins, 41 passed quality checks\n",
                  "INFO: Processed 50 basins, 40 passed quality checks\n",
                  "INFO: Processed 50 basins, 16 passed quality checks\n",
                  "INFO: Processed 50 basins, 8 passed quality checks\n",
                  "INFO: Processed 50 basins, 5 passed quality checks\n",
                  "INFO: Processed 50 basins, 5 passed quality checks\n",
                  "INFO: Processed 50 basins, 5 passed quality checks\n",
                  "INFO: Processed 50 basins, 8 passed quality checks\n",
                  "INFO: Processed 50 basins, 3 passed quality checks\n",
                  "INFO: Processed 50 basins, 6 passed quality checks\n",
                  "INFO: Processed 50 basins, 11 passed quality checks\n",
                  "INFO: Processed 50 basins, 12 passed quality checks\n",
                  "INFO: Processed 50 basins, 20 passed quality checks\n",
                  "INFO: Processed 50 basins, 21 passed quality checks\n",
                  "INFO: Processed 50 basins, 23 passed quality checks\n",
                  "INFO: Processed 50 basins, 26 passed quality checks\n",
                  "INFO: Processed 50 basins, 20 passed quality checks\n",
                  "INFO: Processed 50 basins, 10 passed quality checks\n",
                  "INFO: Processed 50 basins, 9 passed quality checks\n",
                  "INFO: Processed 50 basins, 10 passed quality checks\n",
                  "INFO: Processed 50 basins, 18 passed quality checks\n",
                  "INFO: Processed 50 basins, 26 passed quality checks\n",
                  "INFO: Processed 50 basins, 17 passed quality checks\n",
                  "INFO: Processed 50 basins, 16 passed quality checks\n",
                  "INFO: Processed 50 basins, 16 passed quality checks\n",
                  "INFO: Processed 50 basins, 9 passed quality checks\n",
                  "INFO: Processed 50 basins, 15 passed quality checks\n",
                  "INFO: Processed 50 basins, 18 passed quality checks\n",
                  "INFO: Processed 50 basins, 12 passed quality checks\n",
                  "INFO: Processed 50 basins, 16 passed quality checks\n",
                  "INFO: Processed 50 basins, 12 passed quality checks\n",
                  "INFO: Processed 50 basins, 10 passed quality checks\n",
                  "INFO: Processed 50 basins, 17 passed quality checks\n",
                  "INFO: Processed 50 basins, 16 passed quality checks\n",
                  "INFO: Processed 50 basins, 21 passed quality checks\n",
                  "INFO: Processed 50 basins, 13 passed quality checks\n",
                  "INFO: Processed 50 basins, 17 passed quality checks\n",
                  "INFO: Processed 50 basins, 9 passed quality checks\n",
                  "INFO: Processed 50 basins, 16 passed quality checks\n",
                  "INFO: Processed 50 basins, 15 passed quality checks\n",
                  "INFO: Processed 50 basins, 13 passed quality checks\n",
                  "INFO: Processed 50 basins, 7 passed quality checks\n",
                  "INFO: Processed 50 basins, 7 passed quality checks\n",
                  "INFO: Processed 50 basins, 14 passed quality checks\n",
                  "INFO: Processed 50 basins, 14 passed quality checks\n",
                  "INFO: Processed 50 basins, 10 passed quality checks\n",
                  "INFO: Processed 50 basins, 15 passed quality checks\n",
                  "INFO: Processed 50 basins, 17 passed quality checks\n",
                  "INFO: Processed 50 basins, 17 passed quality checks\n",
                  "INFO: Processed 50 basins, 6 passed quality checks\n",
                  "INFO: Processed 50 basins, 15 passed quality checks\n",
                  "INFO: Processed 50 basins, 12 passed quality checks\n",
                  "INFO: Processed 50 basins, 30 passed quality checks\n",
                  "INFO: Processed 50 basins, 46 passed quality checks\n",
                  "INFO: Processed 50 basins, 48 passed quality checks\n",
                  "INFO: Processed 50 basins, 47 passed quality checks\n",
                  "INFO: Processed 50 basins, 50 passed quality checks\n",
                  "INFO: Processed 50 basins, 44 passed quality checks\n",
                  "INFO: Processed 50 basins, 50 passed quality checks\n",
                  "INFO: Processed 50 basins, 50 passed quality checks\n",
                  "INFO: Processed 50 basins, 48 passed quality checks\n",
                  "INFO: Processed 50 basins, 47 passed quality checks\n",
                  "INFO: Processed 50 basins, 42 passed quality checks\n",
                  "INFO: Processed 50 basins, 45 passed quality checks\n",
                  "INFO: Processed 50 basins, 50 passed quality checks\n",
                  "INFO: Processed 50 basins, 48 passed quality checks\n",
                  "INFO: Processed 50 basins, 31 passed quality checks\n",
                  "INFO: Processed 50 basins, 29 passed quality checks\n",
                  "INFO: Processed 50 basins, 5 passed quality checks\n"
               ]
            },
            {
               "data": {
                  "application/vnd.jupyter.widget-view+json": {
                     "model_id": "5af3d68f1ca14e92b3af1cbac8d27b3c",
                     "version_major": 2,
                     "version_minor": 0
                  },
                  "text/plain": [
                     "Sanity Checking: |          | 0/? [00:00<?, ?it/s]"
                  ]
               },
               "metadata": {},
               "output_type": "display_data"
            },
            {
               "name": "stderr",
               "output_type": "stream",
               "text": [
                  "/usr/local/lib/python3.10/dist-packages/pytorch_lightning/trainer/connectors/data_connector.py:432: The combination of `DataLoader(`pin_memory=True`, `persistent_workers=True`) and `Trainer(reload_dataloaders_every_n_epochs > 0)` can lead to instability due to limitations in PyTorch (https://github.com/pytorch/pytorch/issues/91252). We recommend setting `pin_memory=False` in this case.\n"
               ]
            },
            {
               "data": {
                  "application/vnd.jupyter.widget-view+json": {
                     "model_id": "c7dd0fcd94ff4d6b94d46ac36c584739",
                     "version_major": 2,
                     "version_minor": 0
                  },
                  "text/plain": [
                     "Training: |          | 0/? [00:00<?, ?it/s]"
                  ]
               },
               "metadata": {},
               "output_type": "display_data"
            },
            {
               "data": {
                  "application/vnd.jupyter.widget-view+json": {
                     "model_id": "61aed46e11e04ab2994539d0926b0dd9",
                     "version_major": 2,
                     "version_minor": 0
                  },
                  "text/plain": [
                     "Validation: |          | 0/? [00:00<?, ?it/s]"
                  ]
               },
               "metadata": {},
               "output_type": "display_data"
            },
            {
               "data": {
                  "application/vnd.jupyter.widget-view+json": {
                     "model_id": "f3f2e100f37a449792f65186730ec6dc",
                     "version_major": 2,
                     "version_minor": 0
                  },
                  "text/plain": [
                     "Validation: |          | 0/? [00:00<?, ?it/s]"
                  ]
               },
               "metadata": {},
               "output_type": "display_data"
            },
            {
               "data": {
                  "application/vnd.jupyter.widget-view+json": {
                     "model_id": "c2278a45995e4a3a844ae4028262d193",
                     "version_major": 2,
                     "version_minor": 0
                  },
                  "text/plain": [
                     "Validation: |          | 0/? [00:00<?, ?it/s]"
                  ]
               },
               "metadata": {},
               "output_type": "display_data"
            },
            {
               "data": {
                  "application/vnd.jupyter.widget-view+json": {
                     "model_id": "c3ab6a2a65e84ab8b0e94fbeead58e47",
                     "version_major": 2,
                     "version_minor": 0
                  },
                  "text/plain": [
                     "Validation: |          | 0/? [00:00<?, ?it/s]"
                  ]
               },
               "metadata": {},
               "output_type": "display_data"
            },
            {
               "data": {
                  "application/vnd.jupyter.widget-view+json": {
                     "model_id": "379c51e0f7984fe1bb617cb6f27fced1",
                     "version_major": 2,
                     "version_minor": 0
                  },
                  "text/plain": [
                     "Validation: |          | 0/? [00:00<?, ?it/s]"
                  ]
               },
               "metadata": {},
               "output_type": "display_data"
            },
            {
               "data": {
                  "application/vnd.jupyter.widget-view+json": {
                     "model_id": "205963c2ca664add9acca82fac4a6cd2",
                     "version_major": 2,
                     "version_minor": 0
                  },
                  "text/plain": [
                     "Validation: |          | 0/? [00:00<?, ?it/s]"
                  ]
               },
               "metadata": {},
               "output_type": "display_data"
            },
            {
               "data": {
                  "application/vnd.jupyter.widget-view+json": {
                     "model_id": "6a33d85db637472eba22014f111da6d4",
                     "version_major": 2,
                     "version_minor": 0
                  },
                  "text/plain": [
                     "Validation: |          | 0/? [00:00<?, ?it/s]"
                  ]
               },
               "metadata": {},
               "output_type": "display_data"
            },
            {
               "data": {
                  "application/vnd.jupyter.widget-view+json": {
                     "model_id": "e8687bc70b7b41e6a39b09bee9fa519b",
                     "version_major": 2,
                     "version_minor": 0
                  },
                  "text/plain": [
                     "Validation: |          | 0/? [00:00<?, ?it/s]"
                  ]
               },
               "metadata": {},
               "output_type": "display_data"
            },
            {
               "data": {
                  "application/vnd.jupyter.widget-view+json": {
                     "model_id": "7e5c4bb094b94ed4860186920186667a",
                     "version_major": 2,
                     "version_minor": 0
                  },
                  "text/plain": [
                     "Validation: |          | 0/? [00:00<?, ?it/s]"
                  ]
               },
               "metadata": {},
               "output_type": "display_data"
            },
            {
               "data": {
                  "application/vnd.jupyter.widget-view+json": {
                     "model_id": "1fdfe506d28147b782d5be87e8f4ebc3",
                     "version_major": 2,
                     "version_minor": 0
                  },
                  "text/plain": [
                     "Validation: |          | 0/? [00:00<?, ?it/s]"
                  ]
               },
               "metadata": {},
               "output_type": "display_data"
            },
            {
               "data": {
                  "application/vnd.jupyter.widget-view+json": {
                     "model_id": "7854bcbc61674c178308b7b73331afbf",
                     "version_major": 2,
                     "version_minor": 0
                  },
                  "text/plain": [
                     "Validation: |          | 0/? [00:00<?, ?it/s]"
                  ]
               },
               "metadata": {},
               "output_type": "display_data"
            },
            {
               "data": {
                  "application/vnd.jupyter.widget-view+json": {
                     "model_id": "cfb81e91a5554e55a7ceed666a07f703",
                     "version_major": 2,
                     "version_minor": 0
                  },
                  "text/plain": [
                     "Validation: |          | 0/? [00:00<?, ?it/s]"
                  ]
               },
               "metadata": {},
               "output_type": "display_data"
            },
            {
               "data": {
                  "application/vnd.jupyter.widget-view+json": {
                     "model_id": "aa926b634e0a4b468f5b22a47a699c94",
                     "version_major": 2,
                     "version_minor": 0
                  },
                  "text/plain": [
                     "Validation: |          | 0/? [00:00<?, ?it/s]"
                  ]
               },
               "metadata": {},
               "output_type": "display_data"
            },
            {
               "data": {
                  "application/vnd.jupyter.widget-view+json": {
                     "model_id": "7782005d62214aa3baad397ac63101d4",
                     "version_major": 2,
                     "version_minor": 0
                  },
                  "text/plain": [
                     "Validation: |          | 0/? [00:00<?, ?it/s]"
                  ]
               },
               "metadata": {},
               "output_type": "display_data"
            },
            {
               "data": {
                  "application/vnd.jupyter.widget-view+json": {
                     "model_id": "27d7b0c2af8045b79fe4bafa4cd078af",
                     "version_major": 2,
                     "version_minor": 0
                  },
                  "text/plain": [
                     "Validation: |          | 0/? [00:00<?, ?it/s]"
                  ]
               },
               "metadata": {},
               "output_type": "display_data"
            },
            {
               "data": {
                  "application/vnd.jupyter.widget-view+json": {
                     "model_id": "96887ce997174ff9bf974a4931d641c7",
                     "version_major": 2,
                     "version_minor": 0
                  },
                  "text/plain": [
                     "Validation: |          | 0/? [00:00<?, ?it/s]"
                  ]
               },
               "metadata": {},
               "output_type": "display_data"
            },
            {
               "data": {
                  "application/vnd.jupyter.widget-view+json": {
                     "model_id": "49cfad2595fd494bba557f6f06787e05",
                     "version_major": 2,
                     "version_minor": 0
                  },
                  "text/plain": [
                     "Validation: |          | 0/? [00:00<?, ?it/s]"
                  ]
               },
               "metadata": {},
               "output_type": "display_data"
            },
            {
               "data": {
                  "application/vnd.jupyter.widget-view+json": {
                     "model_id": "1c58a96fc0f148fa88def8d77963ee50",
                     "version_major": 2,
                     "version_minor": 0
                  },
                  "text/plain": [
                     "Validation: |          | 0/? [00:00<?, ?it/s]"
                  ]
               },
               "metadata": {},
               "output_type": "display_data"
            },
            {
               "data": {
                  "application/vnd.jupyter.widget-view+json": {
                     "model_id": "19e356e6ae934fd7b4f84de6709df25e",
                     "version_major": 2,
                     "version_minor": 0
                  },
                  "text/plain": [
                     "Validation: |          | 0/? [00:00<?, ?it/s]"
                  ]
               },
               "metadata": {},
               "output_type": "display_data"
            },
            {
               "data": {
                  "application/vnd.jupyter.widget-view+json": {
                     "model_id": "5444fe22c74d42bbbba6905c5348ec22",
                     "version_major": 2,
                     "version_minor": 0
                  },
                  "text/plain": [
                     "Validation: |          | 0/? [00:00<?, ?it/s]"
                  ]
               },
               "metadata": {},
               "output_type": "display_data"
            },
            {
               "data": {
                  "application/vnd.jupyter.widget-view+json": {
                     "model_id": "071121884a2a416a85f27fb3f5aa0d3e",
                     "version_major": 2,
                     "version_minor": 0
                  },
                  "text/plain": [
                     "Validation: |          | 0/? [00:00<?, ?it/s]"
                  ]
               },
               "metadata": {},
               "output_type": "display_data"
            },
            {
               "data": {
                  "application/vnd.jupyter.widget-view+json": {
                     "model_id": "f414aab016c74f32b5b8a568e1691f87",
                     "version_major": 2,
                     "version_minor": 0
                  },
                  "text/plain": [
                     "Validation: |          | 0/? [00:00<?, ?it/s]"
                  ]
               },
               "metadata": {},
               "output_type": "display_data"
            },
            {
               "data": {
                  "application/vnd.jupyter.widget-view+json": {
                     "model_id": "6491d71fd16940ec93edc24f42042010",
                     "version_major": 2,
                     "version_minor": 0
                  },
                  "text/plain": [
                     "Validation: |          | 0/? [00:00<?, ?it/s]"
                  ]
               },
               "metadata": {},
               "output_type": "display_data"
            },
            {
               "data": {
                  "application/vnd.jupyter.widget-view+json": {
                     "model_id": "91cab0a70a8543789bf723473f983aba",
                     "version_major": 2,
                     "version_minor": 0
                  },
                  "text/plain": [
                     "Validation: |          | 0/? [00:00<?, ?it/s]"
                  ]
               },
               "metadata": {},
               "output_type": "display_data"
            },
            {
               "data": {
                  "application/vnd.jupyter.widget-view+json": {
                     "model_id": "fc8db486e376431482493eda4bb02695",
                     "version_major": 2,
                     "version_minor": 0
                  },
                  "text/plain": [
                     "Validation: |          | 0/? [00:00<?, ?it/s]"
                  ]
               },
               "metadata": {},
               "output_type": "display_data"
            },
            {
               "data": {
                  "application/vnd.jupyter.widget-view+json": {
                     "model_id": "78aa264722724b529bf6f4f9c8aff28b",
                     "version_major": 2,
                     "version_minor": 0
                  },
                  "text/plain": [
                     "Validation: |          | 0/? [00:00<?, ?it/s]"
                  ]
               },
               "metadata": {},
               "output_type": "display_data"
            },
            {
               "data": {
                  "application/vnd.jupyter.widget-view+json": {
                     "model_id": "fd08836c0be44ff49ecaeeabe35030ea",
                     "version_major": 2,
                     "version_minor": 0
                  },
                  "text/plain": [
                     "Validation: |          | 0/? [00:00<?, ?it/s]"
                  ]
               },
               "metadata": {},
               "output_type": "display_data"
            },
            {
               "data": {
                  "application/vnd.jupyter.widget-view+json": {
                     "model_id": "3ad08d199e97429c94d8b2b49ca87dbf",
                     "version_major": 2,
                     "version_minor": 0
                  },
                  "text/plain": [
                     "Validation: |          | 0/? [00:00<?, ?it/s]"
                  ]
               },
               "metadata": {},
               "output_type": "display_data"
            },
            {
               "data": {
                  "application/vnd.jupyter.widget-view+json": {
                     "model_id": "865e5d87e74042a199b002401890ffaa",
                     "version_major": 2,
                     "version_minor": 0
                  },
                  "text/plain": [
                     "Validation: |          | 0/? [00:00<?, ?it/s]"
                  ]
               },
               "metadata": {},
               "output_type": "display_data"
            },
            {
               "data": {
                  "application/vnd.jupyter.widget-view+json": {
                     "model_id": "075c65b3ec164d00837af1a46171df30",
                     "version_major": 2,
                     "version_minor": 0
                  },
                  "text/plain": [
                     "Validation: |          | 0/? [00:00<?, ?it/s]"
                  ]
               },
               "metadata": {},
               "output_type": "display_data"
            },
            {
               "data": {
                  "application/vnd.jupyter.widget-view+json": {
                     "model_id": "c81f49aa13504ea69db122b4481fd193",
                     "version_major": 2,
                     "version_minor": 0
                  },
                  "text/plain": [
                     "Validation: |          | 0/? [00:00<?, ?it/s]"
                  ]
               },
               "metadata": {},
               "output_type": "display_data"
            },
            {
               "data": {
                  "application/vnd.jupyter.widget-view+json": {
                     "model_id": "92854af01fc741f28ce1a287ecc1f4c1",
                     "version_major": 2,
                     "version_minor": 0
                  },
                  "text/plain": [
                     "Validation: |          | 0/? [00:00<?, ?it/s]"
                  ]
               },
               "metadata": {},
               "output_type": "display_data"
            },
            {
               "data": {
                  "application/vnd.jupyter.widget-view+json": {
                     "model_id": "72e50c507a104ef180aacc256fc447f8",
                     "version_major": 2,
                     "version_minor": 0
                  },
                  "text/plain": [
                     "Validation: |          | 0/? [00:00<?, ?it/s]"
                  ]
               },
               "metadata": {},
               "output_type": "display_data"
            },
            {
               "data": {
                  "application/vnd.jupyter.widget-view+json": {
                     "model_id": "efa7c6e59e3c49b783f30bf487ac3e97",
                     "version_major": 2,
                     "version_minor": 0
                  },
                  "text/plain": [
                     "Validation: |          | 0/? [00:00<?, ?it/s]"
                  ]
               },
               "metadata": {},
               "output_type": "display_data"
            },
            {
               "data": {
                  "application/vnd.jupyter.widget-view+json": {
                     "model_id": "ca667effef2040e7bc285373a8389a1c",
                     "version_major": 2,
                     "version_minor": 0
                  },
                  "text/plain": [
                     "Validation: |          | 0/? [00:00<?, ?it/s]"
                  ]
               },
               "metadata": {},
               "output_type": "display_data"
            },
            {
               "data": {
                  "application/vnd.jupyter.widget-view+json": {
                     "model_id": "c2b76ea02952482198c20dc3fa4c3754",
                     "version_major": 2,
                     "version_minor": 0
                  },
                  "text/plain": [
                     "Validation: |          | 0/? [00:00<?, ?it/s]"
                  ]
               },
               "metadata": {},
               "output_type": "display_data"
            },
            {
               "data": {
                  "application/vnd.jupyter.widget-view+json": {
                     "model_id": "f51997b45e844b409d99a53dd2fd0ecb",
                     "version_major": 2,
                     "version_minor": 0
                  },
                  "text/plain": [
                     "Validation: |          | 0/? [00:00<?, ?it/s]"
                  ]
               },
               "metadata": {},
               "output_type": "display_data"
            },
            {
               "data": {
                  "application/vnd.jupyter.widget-view+json": {
                     "model_id": "2c5cb3fd41fc41179f2254c6f1152e5c",
                     "version_major": 2,
                     "version_minor": 0
                  },
                  "text/plain": [
                     "Validation: |          | 0/? [00:00<?, ?it/s]"
                  ]
               },
               "metadata": {},
               "output_type": "display_data"
            },
            {
               "data": {
                  "application/vnd.jupyter.widget-view+json": {
                     "model_id": "5347e6f4ae2b4a36a137e03085ee7e3d",
                     "version_major": 2,
                     "version_minor": 0
                  },
                  "text/plain": [
                     "Validation: |          | 0/? [00:00<?, ?it/s]"
                  ]
               },
               "metadata": {},
               "output_type": "display_data"
            },
            {
               "data": {
                  "application/vnd.jupyter.widget-view+json": {
                     "model_id": "42cb2f89aaf64d779b07883d6388fee5",
                     "version_major": 2,
                     "version_minor": 0
                  },
                  "text/plain": [
                     "Validation: |          | 0/? [00:00<?, ?it/s]"
                  ]
               },
               "metadata": {},
               "output_type": "display_data"
            },
            {
               "data": {
                  "application/vnd.jupyter.widget-view+json": {
                     "model_id": "695392a13d4c4bc2a0bba1a131c18684",
                     "version_major": 2,
                     "version_minor": 0
                  },
                  "text/plain": [
                     "Validation: |          | 0/? [00:00<?, ?it/s]"
                  ]
               },
               "metadata": {},
               "output_type": "display_data"
            },
            {
               "data": {
                  "application/vnd.jupyter.widget-view+json": {
                     "model_id": "fa5cd1092e814c92a95f6f20e837045d",
                     "version_major": 2,
                     "version_minor": 0
                  },
                  "text/plain": [
                     "Validation: |          | 0/? [00:00<?, ?it/s]"
                  ]
               },
               "metadata": {},
               "output_type": "display_data"
            },
            {
               "data": {
                  "application/vnd.jupyter.widget-view+json": {
                     "model_id": "288112fcac474d5fa5406ff6c8b2f1a4",
                     "version_major": 2,
                     "version_minor": 0
                  },
                  "text/plain": [
                     "Validation: |          | 0/? [00:00<?, ?it/s]"
                  ]
               },
               "metadata": {},
               "output_type": "display_data"
            },
            {
               "data": {
                  "application/vnd.jupyter.widget-view+json": {
                     "model_id": "8e48dd063fce40c182600c2949647ce6",
                     "version_major": 2,
                     "version_minor": 0
                  },
                  "text/plain": [
                     "Validation: |          | 0/? [00:00<?, ?it/s]"
                  ]
               },
               "metadata": {},
               "output_type": "display_data"
            },
            {
               "data": {
                  "application/vnd.jupyter.widget-view+json": {
                     "model_id": "a0bfc568ab094e26b02917bc355ab0d1",
                     "version_major": 2,
                     "version_minor": 0
                  },
                  "text/plain": [
                     "Validation: |          | 0/? [00:00<?, ?it/s]"
                  ]
               },
               "metadata": {},
               "output_type": "display_data"
            },
            {
               "data": {
                  "application/vnd.jupyter.widget-view+json": {
                     "model_id": "fd481c19352f4a3b8705f591f8b74e70",
                     "version_major": 2,
                     "version_minor": 0
                  },
                  "text/plain": [
                     "Validation: |          | 0/? [00:00<?, ?it/s]"
                  ]
               },
               "metadata": {},
               "output_type": "display_data"
            },
            {
               "data": {
                  "application/vnd.jupyter.widget-view+json": {
                     "model_id": "f9ecf57bb1264995aa5e26088bd6a432",
                     "version_major": 2,
                     "version_minor": 0
                  },
                  "text/plain": [
                     "Validation: |          | 0/? [00:00<?, ?it/s]"
                  ]
               },
               "metadata": {},
               "output_type": "display_data"
            },
            {
               "data": {
                  "application/vnd.jupyter.widget-view+json": {
                     "model_id": "ccb5c30bb6584941ad0e1810a1c1b479",
                     "version_major": 2,
                     "version_minor": 0
                  },
                  "text/plain": [
                     "Validation: |          | 0/? [00:00<?, ?it/s]"
                  ]
               },
               "metadata": {},
               "output_type": "display_data"
            },
            {
               "data": {
                  "application/vnd.jupyter.widget-view+json": {
                     "model_id": "56119f2f2db647d2aa1cb226324bbe99",
                     "version_major": 2,
                     "version_minor": 0
                  },
                  "text/plain": [
                     "Validation: |          | 0/? [00:00<?, ?it/s]"
                  ]
               },
               "metadata": {},
               "output_type": "display_data"
            },
            {
               "data": {
                  "application/vnd.jupyter.widget-view+json": {
                     "model_id": "f1ced3d9f05d4c189dd869994fbf8078",
                     "version_major": 2,
                     "version_minor": 0
                  },
                  "text/plain": [
                     "Validation: |          | 0/? [00:00<?, ?it/s]"
                  ]
               },
               "metadata": {},
               "output_type": "display_data"
            },
            {
               "data": {
                  "application/vnd.jupyter.widget-view+json": {
                     "model_id": "92cb70bc999742f4bf20b00464d51deb",
                     "version_major": 2,
                     "version_minor": 0
                  },
                  "text/plain": [
                     "Validation: |          | 0/? [00:00<?, ?it/s]"
                  ]
               },
               "metadata": {},
               "output_type": "display_data"
            },
            {
               "data": {
                  "application/vnd.jupyter.widget-view+json": {
                     "model_id": "1f4404fa224b4b828265924d27feb751",
                     "version_major": 2,
                     "version_minor": 0
                  },
                  "text/plain": [
                     "Validation: |          | 0/? [00:00<?, ?it/s]"
                  ]
               },
               "metadata": {},
               "output_type": "display_data"
            },
            {
               "data": {
                  "application/vnd.jupyter.widget-view+json": {
                     "model_id": "85eda660e28f47fcaf69dd069188999a",
                     "version_major": 2,
                     "version_minor": 0
                  },
                  "text/plain": [
                     "Validation: |          | 0/? [00:00<?, ?it/s]"
                  ]
               },
               "metadata": {},
               "output_type": "display_data"
            },
            {
               "data": {
                  "application/vnd.jupyter.widget-view+json": {
                     "model_id": "780e61897eeb42debda0833cd416c701",
                     "version_major": 2,
                     "version_minor": 0
                  },
                  "text/plain": [
                     "Validation: |          | 0/? [00:00<?, ?it/s]"
                  ]
               },
               "metadata": {},
               "output_type": "display_data"
            },
            {
               "data": {
                  "application/vnd.jupyter.widget-view+json": {
                     "model_id": "58e4f390a2e145aba1fe62e0f7bc07c0",
                     "version_major": 2,
                     "version_minor": 0
                  },
                  "text/plain": [
                     "Validation: |          | 0/? [00:00<?, ?it/s]"
                  ]
               },
               "metadata": {},
               "output_type": "display_data"
            },
            {
               "data": {
                  "application/vnd.jupyter.widget-view+json": {
                     "model_id": "f13f36968c344830852737c92b3d8d60",
                     "version_major": 2,
                     "version_minor": 0
                  },
                  "text/plain": [
                     "Validation: |          | 0/? [00:00<?, ?it/s]"
                  ]
               },
               "metadata": {},
               "output_type": "display_data"
            },
            {
               "data": {
                  "application/vnd.jupyter.widget-view+json": {
                     "model_id": "d28cebd7f17f4fe0afaf2a1bc2f9fd2c",
                     "version_major": 2,
                     "version_minor": 0
                  },
                  "text/plain": [
                     "Validation: |          | 0/? [00:00<?, ?it/s]"
                  ]
               },
               "metadata": {},
               "output_type": "display_data"
            },
            {
               "data": {
                  "application/vnd.jupyter.widget-view+json": {
                     "model_id": "a988ed600df94026aa8aa8782cf118a4",
                     "version_major": 2,
                     "version_minor": 0
                  },
                  "text/plain": [
                     "Validation: |          | 0/? [00:00<?, ?it/s]"
                  ]
               },
               "metadata": {},
               "output_type": "display_data"
            },
            {
               "data": {
                  "application/vnd.jupyter.widget-view+json": {
                     "model_id": "fdc078e4f23e4200959699701ae73180",
                     "version_major": 2,
                     "version_minor": 0
                  },
                  "text/plain": [
                     "Validation: |          | 0/? [00:00<?, ?it/s]"
                  ]
               },
               "metadata": {},
               "output_type": "display_data"
            },
            {
               "data": {
                  "application/vnd.jupyter.widget-view+json": {
                     "model_id": "e15dc535f8f34ff7bb8ee8811ad8039a",
                     "version_major": 2,
                     "version_minor": 0
                  },
                  "text/plain": [
                     "Validation: |          | 0/? [00:00<?, ?it/s]"
                  ]
               },
               "metadata": {},
               "output_type": "display_data"
            },
            {
               "data": {
                  "application/vnd.jupyter.widget-view+json": {
                     "model_id": "eb9ce95305fc4957b41c1f30865e322e",
                     "version_major": 2,
                     "version_minor": 0
                  },
                  "text/plain": [
                     "Validation: |          | 0/? [00:00<?, ?it/s]"
                  ]
               },
               "metadata": {},
               "output_type": "display_data"
            },
            {
               "data": {
                  "application/vnd.jupyter.widget-view+json": {
                     "model_id": "85332d114cd046848a3bf3e0e9b6088e",
                     "version_major": 2,
                     "version_minor": 0
                  },
                  "text/plain": [
                     "Validation: |          | 0/? [00:00<?, ?it/s]"
                  ]
               },
               "metadata": {},
               "output_type": "display_data"
            },
            {
               "data": {
                  "application/vnd.jupyter.widget-view+json": {
                     "model_id": "f0c932d31b30478bbdf2e8c09839d43e",
                     "version_major": 2,
                     "version_minor": 0
                  },
                  "text/plain": [
                     "Validation: |          | 0/? [00:00<?, ?it/s]"
                  ]
               },
               "metadata": {},
               "output_type": "display_data"
            },
            {
               "data": {
                  "application/vnd.jupyter.widget-view+json": {
                     "model_id": "c4fec01397cb432aacce4d88717e7916",
                     "version_major": 2,
                     "version_minor": 0
                  },
                  "text/plain": [
                     "Validation: |          | 0/? [00:00<?, ?it/s]"
                  ]
               },
               "metadata": {},
               "output_type": "display_data"
            },
            {
               "data": {
                  "application/vnd.jupyter.widget-view+json": {
                     "model_id": "487d0bd36d1444528c6340e4ae0376b5",
                     "version_major": 2,
                     "version_minor": 0
                  },
                  "text/plain": [
                     "Validation: |          | 0/? [00:00<?, ?it/s]"
                  ]
               },
               "metadata": {},
               "output_type": "display_data"
            },
            {
               "data": {
                  "application/vnd.jupyter.widget-view+json": {
                     "model_id": "13733f394dff4d9a933b45f4f2dfb339",
                     "version_major": 2,
                     "version_minor": 0
                  },
                  "text/plain": [
                     "Validation: |          | 0/? [00:00<?, ?it/s]"
                  ]
               },
               "metadata": {},
               "output_type": "display_data"
            },
            {
               "data": {
                  "application/vnd.jupyter.widget-view+json": {
                     "model_id": "7e53e880e1b54fd1acca88909ecfc435",
                     "version_major": 2,
                     "version_minor": 0
                  },
                  "text/plain": [
                     "Validation: |          | 0/? [00:00<?, ?it/s]"
                  ]
               },
               "metadata": {},
               "output_type": "display_data"
            },
            {
               "data": {
                  "application/vnd.jupyter.widget-view+json": {
                     "model_id": "7d3fa3d7afb24a84ad80fa058aab39f1",
                     "version_major": 2,
                     "version_minor": 0
                  },
                  "text/plain": [
                     "Validation: |          | 0/? [00:00<?, ?it/s]"
                  ]
               },
               "metadata": {},
               "output_type": "display_data"
            },
            {
               "data": {
                  "application/vnd.jupyter.widget-view+json": {
                     "model_id": "a809abef8cd84f68b8a7adfff739d87e",
                     "version_major": 2,
                     "version_minor": 0
                  },
                  "text/plain": [
                     "Validation: |          | 0/? [00:00<?, ?it/s]"
                  ]
               },
               "metadata": {},
               "output_type": "display_data"
            },
            {
               "data": {
                  "application/vnd.jupyter.widget-view+json": {
                     "model_id": "72d4a013bd3e4618afecfa2df1150d56",
                     "version_major": 2,
                     "version_minor": 0
                  },
                  "text/plain": [
                     "Validation: |          | 0/? [00:00<?, ?it/s]"
                  ]
               },
               "metadata": {},
               "output_type": "display_data"
            },
            {
               "data": {
                  "application/vnd.jupyter.widget-view+json": {
                     "model_id": "4829824ee4664054a684e3439f4c7e4a",
                     "version_major": 2,
                     "version_minor": 0
                  },
                  "text/plain": [
                     "Validation: |          | 0/? [00:00<?, ?it/s]"
                  ]
               },
               "metadata": {},
               "output_type": "display_data"
            }
         ],
         "source": [
            "train_results = train_model_from_scratch(\n",
            "    gauge_ids=basin_ids,\n",
            "    datamodule_config=datamodule_config,\n",
            "    training_config=training_config,\n",
            "    output_dir=output_dir,\n",
            "    model_types=model_types,\n",
            "    yaml_paths=yaml_paths,\n",
            "    experiment_name=experiment_name,\n",
            "    num_runs=num_runs,\n",
            "    override_previous_attempts=override_previous_attempts,\n",
            ")"
         ]
      },
      {
         "cell_type": "code",
         "execution_count": null,
         "id": "b628af4d",
         "metadata": {},
         "outputs": [],
         "source": []
      }
   ],
   "metadata": {
      "kernelspec": {
         "display_name": "Python 3",
         "language": "python",
         "name": "python3"
      },
      "language_info": {
         "codemirror_mode": {
            "name": "ipython",
            "version": 3
         },
         "file_extension": ".py",
         "mimetype": "text/x-python",
         "name": "python",
         "nbconvert_exporter": "python",
         "pygments_lexer": "ipython3",
         "version": "3.10.12"
      }
   },
   "nbformat": 4,
   "nbformat_minor": 5
}
