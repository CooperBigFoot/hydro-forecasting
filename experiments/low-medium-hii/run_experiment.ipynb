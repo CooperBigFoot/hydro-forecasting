{
   "cells": [
      {
         "cell_type": "code",
         "execution_count": 1,
         "id": "2f2fc10e",
         "metadata": {},
         "outputs": [],
         "source": [
            "# !jupyter lab build"
         ]
      },
      {
         "cell_type": "code",
         "execution_count": 2,
         "id": "659bed6b",
         "metadata": {},
         "outputs": [],
         "source": [
            "import sys\n",
            "from pathlib import Path\n",
            "\n",
            "# Add src directory to Python path\n",
            "project_root = Path.cwd().parent.parent\n",
            "src_path = project_root / \"src\"\n",
            "if str(src_path) not in sys.path:\n",
            "    sys.path.insert(0, str(src_path))\n",
            "    print(f\"Added {src_path} to Python path\")"
         ]
      },
      {
         "cell_type": "code",
         "execution_count": 3,
         "id": "dcdcbb1b",
         "metadata": {},
         "outputs": [],
         "source": [
            "import logging\n",
            "\n",
            "logging.disable(logging.CRITICAL)"
         ]
      },
      {
         "cell_type": "code",
         "execution_count": 4,
         "id": "f65efe2c",
         "metadata": {},
         "outputs": [
            {
               "name": "stderr",
               "output_type": "stream",
               "text": [
                  "/usr/local/lib/python3.10/dist-packages/torchvision/io/image.py:13: UserWarning: Failed to load image Python extension: '/usr/local/lib/python3.10/dist-packages/torchvision/image.so: undefined symbol: _ZN3c1017RegisterOperatorsD1Ev'If you don't plan on using image functionality from `torchvision.io`, you can ignore this warning. Otherwise, there might be something wrong with your environment. Did you have `libjpeg` or `libpng` installed before building `torchvision` from source?\n",
                  "  warn(\n"
               ]
            }
         ],
         "source": [
            "import torch\n",
            "from sklearn.pipeline import Pipeline\n",
            "\n",
            "from hydro_forecasting.data.caravanify_parquet import (\n",
            "    CaravanifyParquet,\n",
            "    CaravanifyParquetConfig,\n",
            ")\n",
            "from hydro_forecasting.experiment_utils.train_model_from_scratch import train_model_from_scratch\n",
            "from hydro_forecasting.preprocessing.grouped import GroupedPipeline\n",
            "from hydro_forecasting.preprocessing.normalize import NormalizeTransformer\n",
            "from hydro_forecasting.preprocessing.standard_scale import StandardScaleTransformer"
         ]
      },
      {
         "cell_type": "markdown",
         "id": "5e7c3393",
         "metadata": {},
         "source": [
            "---"
         ]
      },
      {
         "cell_type": "markdown",
         "id": "dab68b34",
         "metadata": {},
         "source": [
            "## Experiment constants"
         ]
      },
      {
         "cell_type": "code",
         "execution_count": 5,
         "id": "7a6885fe",
         "metadata": {},
         "outputs": [],
         "source": [
            "REGIONS = [\n",
            "    \"CL\",\n",
            "    \"CH\",\n",
            "    \"USA\",\n",
            "    \"camelsaus\",\n",
            "    \"camelsgb\",\n",
            "    \"camelsbr\",\n",
            "    \"hysets\",\n",
            "    \"lamah\",\n",
            "]\n",
            "\n",
            "COUNTRY = \"tajikistan\""
         ]
      },
      {
         "cell_type": "markdown",
         "id": "2533b81f",
         "metadata": {},
         "source": [
            "## Loading the data (as gauge_ids)"
         ]
      },
      {
         "cell_type": "code",
         "execution_count": 6,
         "id": "ed0ce646",
         "metadata": {},
         "outputs": [
            {
               "name": "stdout",
               "output_type": "stream",
               "text": [
                  "Loading basin IDs for region: CL\n",
                  "Original gauge_ids: 505\n",
                  "Filtered gauge_ids: 487\n",
                  "Loading basin IDs for region: CH\n",
                  "Original gauge_ids: 135\n",
                  "Filtered gauge_ids: 0\n",
                  "No gauge_ids matched the specified human influence categories.\n",
                  "Loading basin IDs for region: USA\n",
                  "Original gauge_ids: 671\n",
                  "Filtered gauge_ids: 567\n",
                  "Loading basin IDs for region: camelsaus\n",
                  "Original gauge_ids: 222\n",
                  "Filtered gauge_ids: 215\n",
                  "Loading basin IDs for region: camelsgb\n",
                  "Original gauge_ids: 671\n",
                  "Filtered gauge_ids: 538\n",
                  "Loading basin IDs for region: camelsbr\n",
                  "Original gauge_ids: 870\n",
                  "Filtered gauge_ids: 868\n",
                  "Loading basin IDs for region: hysets\n",
                  "Original gauge_ids: 12162\n",
                  "Filtered gauge_ids: 8463\n",
                  "Loading basin IDs for region: lamah\n",
                  "Original gauge_ids: 859\n",
                  "Filtered gauge_ids: 812\n",
                  "11950 basin IDs loaded\n"
               ]
            }
         ],
         "source": [
            "def load_basin_ids(regions, human_influence_path: str, human_influence_categories: list):\n",
            "    \"\"\"\n",
            "    Simple function to load basin IDs from multiple regions and filter by human influence.\n",
            "\n",
            "    Args:\n",
            "        regions: List of region names to process\n",
            "        human_influence_path: Path to human influence classification file\n",
            "        human_influence_categories: Categories of human influence to keep\n",
            "\n",
            "    Returns:\n",
            "        List of filtered basin IDs\n",
            "    \"\"\"\n",
            "\n",
            "    human_influence_path = Path(human_influence_path)\n",
            "\n",
            "    basin_ids = []\n",
            "\n",
            "    for region in regions:\n",
            "        print(f\"Loading basin IDs for region: {region}\")\n",
            "        # Set up paths\n",
            "        attributes_dir = f\"/workspace/CaravanifyParquet/{region}/post_processed/attributes\"\n",
            "        timeseries_dir = f\"/workspace/CaravanifyParquet/{region}/post_processed/timeseries/csv\"\n",
            "\n",
            "        # Create config\n",
            "        config = CaravanifyParquetConfig(\n",
            "            attributes_dir=attributes_dir,\n",
            "            timeseries_dir=timeseries_dir,\n",
            "            human_influence_path=human_influence_path,\n",
            "            gauge_id_prefix=region,\n",
            "            use_hydroatlas_attributes=True,\n",
            "            use_caravan_attributes=True,\n",
            "            use_other_attributes=True,\n",
            "        )\n",
            "\n",
            "        # Get and filter basin IDs\n",
            "        caravan = CaravanifyParquet(config)\n",
            "        region_basin_ids = caravan.get_all_gauge_ids()\n",
            "\n",
            "        # Filter by human influence if path provided\n",
            "        if human_influence_path and human_influence_path.exists():\n",
            "            filtered_ids, _ = caravan.filter_gauge_ids_by_human_influence(region_basin_ids, human_influence_categories)\n",
            "        else:\n",
            "            filtered_ids = region_basin_ids\n",
            "\n",
            "        basin_ids.extend(filtered_ids)\n",
            "\n",
            "    # Return unique, sorted basin IDs\n",
            "    return sorted(set(basin_ids))\n",
            "\n",
            "\n",
            "basin_ids = load_basin_ids(\n",
            "    REGIONS,\n",
            "    human_influence_path=\"/workspace/hydro-forecasting/scripts/human_influence_index/results/human_influence_classification.parquet\",\n",
            "    human_influence_categories=[\"Low\", \"Medium\"],\n",
            ")\n",
            "\n",
            "print(len(basin_ids), \"basin IDs loaded\")"
         ]
      },
      {
         "cell_type": "markdown",
         "id": "73f9edf0",
         "metadata": {},
         "source": [
            "## Datamodule Configs"
         ]
      },
      {
         "cell_type": "code",
         "execution_count": 7,
         "id": "c2ea76fb",
         "metadata": {},
         "outputs": [],
         "source": [
            "region_time_series_base_dirs = {\n",
            "    region: f\"/workspace/CaravanifyParquet/{region}/post_processed/timeseries/csv/{region}\" for region in REGIONS\n",
            "}\n",
            "\n",
            "region_static_attributes_base_dirs = {\n",
            "    region: f\"/workspace/CaravanifyParquet/{region}/post_processed/attributes/{region}\" for region in REGIONS\n",
            "}\n",
            "\n",
            "path_to_preprocessing_output_directory = \"/workspace/hydro-forecasting/experiments/low-medium-hii/data_cache\""
         ]
      },
      {
         "cell_type": "code",
         "execution_count": 8,
         "id": "f14911d3",
         "metadata": {},
         "outputs": [],
         "source": [
            "forcing_features = [\n",
            "    \"snow_depth_water_equivalent_mean\",\n",
            "    \"surface_net_solar_radiation_mean\",\n",
            "    \"surface_net_thermal_radiation_mean\",\n",
            "    \"potential_evaporation_sum_ERA5_LAND\",\n",
            "    \"potential_evaporation_sum_FAO_PENMAN_MONTEITH\",\n",
            "    \"temperature_2m_mean\",\n",
            "    \"temperature_2m_min\",\n",
            "    \"temperature_2m_max\",\n",
            "    \"total_precipitation_sum\",\n",
            "]\n",
            "\n",
            "static_features = [\n",
            "    \"p_mean\",\n",
            "    \"area\",\n",
            "    \"ele_mt_sav\",\n",
            "    \"high_prec_dur\",\n",
            "    \"frac_snow\",\n",
            "    \"high_prec_freq\",\n",
            "    \"slp_dg_sav\",\n",
            "    \"cly_pc_sav\",\n",
            "    \"aridity_ERA5_LAND\",\n",
            "    \"aridity_FAO_PM\",\n",
            "]\n",
            "\n",
            "target = \"streamflow\""
         ]
      },
      {
         "cell_type": "code",
         "execution_count": 9,
         "id": "962da35a",
         "metadata": {},
         "outputs": [],
         "source": [
            "feature_pipeline = GroupedPipeline(\n",
            "    Pipeline([(\"scaler\", StandardScaleTransformer()), (\"normalizer\", NormalizeTransformer())]),\n",
            "    columns=forcing_features,\n",
            "    group_identifier=\"gauge_id\",\n",
            ")\n",
            "\n",
            "target_pipeline = GroupedPipeline(\n",
            "    Pipeline([(\"scaler\", StandardScaleTransformer()), (\"normalizer\", NormalizeTransformer())]),\n",
            "    columns=[\"streamflow\"],\n",
            "    group_identifier=\"gauge_id\",\n",
            ")\n",
            "\n",
            "static_pipeline = Pipeline([(\"scaler\", StandardScaleTransformer())])\n",
            "\n",
            "preprocessing_config = {\n",
            "    \"features\": {\"pipeline\": feature_pipeline},\n",
            "    \"target\": {\"pipeline\": target_pipeline},\n",
            "    \"static_features\": {\"pipeline\": static_pipeline, \"columns\": static_features},\n",
            "}"
         ]
      },
      {
         "cell_type": "code",
         "execution_count": 10,
         "id": "cd0f0b66",
         "metadata": {},
         "outputs": [],
         "source": [
            "datamodule_config = {\n",
            "    \"region_time_series_base_dirs\": region_time_series_base_dirs,\n",
            "    \"region_static_attributes_base_dirs\": region_static_attributes_base_dirs,\n",
            "    \"path_to_preprocessing_output_directory\": path_to_preprocessing_output_directory,\n",
            "    \"group_identifier\": \"gauge_id\",\n",
            "    \"batch_size\": 2048,\n",
            "    \"forcing_features\": forcing_features,\n",
            "    \"static_features\": static_features,\n",
            "    \"target\": target,\n",
            "    \"num_workers\": 12,\n",
            "    \"min_train_years\": 10,\n",
            "    \"train_prop\": 0.5,\n",
            "    \"val_prop\": 0.25,\n",
            "    \"test_prop\": 0.25,\n",
            "    \"max_imputation_gap_size\": 5,\n",
            "    \"chunk_size\": 1500,\n",
            "    \"validation_chunk_size\": 4000,\n",
            "    \"is_autoregressive\": True,\n",
            "    \"preprocessing_configs\": preprocessing_config,\n",
            "}"
         ]
      },
      {
         "cell_type": "markdown",
         "id": "158363b3",
         "metadata": {},
         "source": [
            "## Training Configs"
         ]
      },
      {
         "cell_type": "code",
         "execution_count": 11,
         "id": "9709710c",
         "metadata": {},
         "outputs": [],
         "source": [
            "training_config = {\n",
            "    \"max_epochs\": 250,\n",
            "    \"accelerator\": \"cuda\" if torch.cuda.is_available() else \"cpu\",\n",
            "    \"devices\": 1,\n",
            "    \"early_stopping_patience\": 12,\n",
            "    \"reload_dataloaders_every_n_epochs\": 1,\n",
            "}"
         ]
      },
      {
         "cell_type": "markdown",
         "id": "38258592",
         "metadata": {},
         "source": [
            "## Remaining Configs"
         ]
      },
      {
         "cell_type": "code",
         "execution_count": null,
         "id": "2274e894",
         "metadata": {},
         "outputs": [],
         "source": [
            "output_dir = \"/workspace/hydro-forecasting/experiments/low-medium-hii\"\n",
            "model_types = [\"ealstm\", \"tsmixer\"]\n",
            "yaml_paths = [\n",
            "    # f\"/workspace/hydro-forecasting/experiments/yaml-files/{COUNTRY}/tide.yaml\",\n",
            "    f\"/workspace/hydro-forecasting/experiments/yaml-files/{COUNTRY}/ealstm.yaml\",\n",
            "    f\"/workspace/hydro-forecasting/experiments/yaml-files/{COUNTRY}/tsmixer.yaml\",\n",
            "    # f\"/workspace/hydro-forecasting/experiments/yaml-files/{COUNTRY}/tft.yaml\",\n",
            "]\n",
            "experiment_name = f\"low-medium-hii_{COUNTRY}\"\n",
            "num_runs = 1\n",
            "override_previous_attempts = False"
         ]
      },
      {
         "cell_type": "markdown",
         "id": "fb369289",
         "metadata": {},
         "source": [
            "## Training the models from scratch"
         ]
      },
      {
         "cell_type": "code",
         "execution_count": null,
         "id": "1054c874",
         "metadata": {},
         "outputs": [
            {
               "name": "stdout",
               "output_type": "stream",
               "text": [
                  "The following parameters were not found in the YAML file and will use defaults:\n",
                  "  - future_forcing_projection_size (model-specific)\n",
                  "  - past_feature_projection_size (model-specific)\n",
                  "  - scheduler_factor (model-specific)\n",
                  "  - scheduler_patience (model-specific)\n"
               ]
            },
            {
               "data": {
                  "application/vnd.jupyter.widget-view+json": {
                     "model_id": "c529d3754c1e42258b22e7bb826967d6",
                     "version_major": 2,
                     "version_minor": 0
                  },
                  "text/plain": [
                     "Sanity Checking: |          | 0/? [00:00<?, ?it/s]"
                  ]
               },
               "metadata": {},
               "output_type": "display_data"
            },
            {
               "name": "stderr",
               "output_type": "stream",
               "text": [
                  "/usr/local/lib/python3.10/dist-packages/pytorch_lightning/trainer/connectors/data_connector.py:432: The combination of `DataLoader(`pin_memory=True`, `persistent_workers=True`) and `Trainer(reload_dataloaders_every_n_epochs > 0)` can lead to instability due to limitations in PyTorch (https://github.com/pytorch/pytorch/issues/91252). We recommend setting `pin_memory=False` in this case.\n"
               ]
            },
            {
               "data": {
                  "application/vnd.jupyter.widget-view+json": {
                     "model_id": "4232c9a86d4a4a809bc3a76ccea65116",
                     "version_major": 2,
                     "version_minor": 0
                  },
                  "text/plain": [
                     "Training: |          | 0/? [00:00<?, ?it/s]"
                  ]
               },
               "metadata": {},
               "output_type": "display_data"
            },
            {
               "data": {
                  "application/vnd.jupyter.widget-view+json": {
                     "model_id": "cd6a56cec5f245f091aea4318f27f551",
                     "version_major": 2,
                     "version_minor": 0
                  },
                  "text/plain": [
                     "Validation: |          | 0/? [00:00<?, ?it/s]"
                  ]
               },
               "metadata": {},
               "output_type": "display_data"
            },
            {
               "data": {
                  "application/vnd.jupyter.widget-view+json": {
                     "model_id": "7c41ace180d042ba8a9b87addbc17e7b",
                     "version_major": 2,
                     "version_minor": 0
                  },
                  "text/plain": [
                     "Validation: |          | 0/? [00:00<?, ?it/s]"
                  ]
               },
               "metadata": {},
               "output_type": "display_data"
            },
            {
               "data": {
                  "application/vnd.jupyter.widget-view+json": {
                     "model_id": "55e21880a45349f88bee75a447459ba3",
                     "version_major": 2,
                     "version_minor": 0
                  },
                  "text/plain": [
                     "Validation: |          | 0/? [00:00<?, ?it/s]"
                  ]
               },
               "metadata": {},
               "output_type": "display_data"
            },
            {
               "data": {
                  "application/vnd.jupyter.widget-view+json": {
                     "model_id": "21e915b6b0814d7a94583ce1ff60ba13",
                     "version_major": 2,
                     "version_minor": 0
                  },
                  "text/plain": [
                     "Validation: |          | 0/? [00:00<?, ?it/s]"
                  ]
               },
               "metadata": {},
               "output_type": "display_data"
            },
            {
               "data": {
                  "application/vnd.jupyter.widget-view+json": {
                     "model_id": "6dcebb18ebd643b696a501ce8c8175b3",
                     "version_major": 2,
                     "version_minor": 0
                  },
                  "text/plain": [
                     "Validation: |          | 0/? [00:00<?, ?it/s]"
                  ]
               },
               "metadata": {},
               "output_type": "display_data"
            },
            {
               "data": {
                  "application/vnd.jupyter.widget-view+json": {
                     "model_id": "8f7399ae33484781afa59f89cdaef349",
                     "version_major": 2,
                     "version_minor": 0
                  },
                  "text/plain": [
                     "Validation: |          | 0/? [00:00<?, ?it/s]"
                  ]
               },
               "metadata": {},
               "output_type": "display_data"
            },
            {
               "data": {
                  "application/vnd.jupyter.widget-view+json": {
                     "model_id": "d49611b5caec4ef381e287cbd666e813",
                     "version_major": 2,
                     "version_minor": 0
                  },
                  "text/plain": [
                     "Validation: |          | 0/? [00:00<?, ?it/s]"
                  ]
               },
               "metadata": {},
               "output_type": "display_data"
            },
            {
               "data": {
                  "application/vnd.jupyter.widget-view+json": {
                     "model_id": "2bc97bf8e72942e18836a3f788f5c64d",
                     "version_major": 2,
                     "version_minor": 0
                  },
                  "text/plain": [
                     "Validation: |          | 0/? [00:00<?, ?it/s]"
                  ]
               },
               "metadata": {},
               "output_type": "display_data"
            },
            {
               "data": {
                  "application/vnd.jupyter.widget-view+json": {
                     "model_id": "8da4b79de57b4175a59f7024c0aa7b02",
                     "version_major": 2,
                     "version_minor": 0
                  },
                  "text/plain": [
                     "Validation: |          | 0/? [00:00<?, ?it/s]"
                  ]
               },
               "metadata": {},
               "output_type": "display_data"
            },
            {
               "data": {
                  "application/vnd.jupyter.widget-view+json": {
                     "model_id": "b19e080925a046b79ced82505d075fbf",
                     "version_major": 2,
                     "version_minor": 0
                  },
                  "text/plain": [
                     "Validation: |          | 0/? [00:00<?, ?it/s]"
                  ]
               },
               "metadata": {},
               "output_type": "display_data"
            },
            {
               "data": {
                  "application/vnd.jupyter.widget-view+json": {
                     "model_id": "43de428840914888ae36cbaf26af50f6",
                     "version_major": 2,
                     "version_minor": 0
                  },
                  "text/plain": [
                     "Validation: |          | 0/? [00:00<?, ?it/s]"
                  ]
               },
               "metadata": {},
               "output_type": "display_data"
            },
            {
               "data": {
                  "application/vnd.jupyter.widget-view+json": {
                     "model_id": "83941c2bfb524bf7a0c2020c5ffc20af",
                     "version_major": 2,
                     "version_minor": 0
                  },
                  "text/plain": [
                     "Validation: |          | 0/? [00:00<?, ?it/s]"
                  ]
               },
               "metadata": {},
               "output_type": "display_data"
            },
            {
               "data": {
                  "application/vnd.jupyter.widget-view+json": {
                     "model_id": "fdc5956f6a8c4e5c92d410af25d7e923",
                     "version_major": 2,
                     "version_minor": 0
                  },
                  "text/plain": [
                     "Validation: |          | 0/? [00:00<?, ?it/s]"
                  ]
               },
               "metadata": {},
               "output_type": "display_data"
            },
            {
               "data": {
                  "application/vnd.jupyter.widget-view+json": {
                     "model_id": "2a99f91578e7448bafbe654e00aebee7",
                     "version_major": 2,
                     "version_minor": 0
                  },
                  "text/plain": [
                     "Validation: |          | 0/? [00:00<?, ?it/s]"
                  ]
               },
               "metadata": {},
               "output_type": "display_data"
            },
            {
               "data": {
                  "application/vnd.jupyter.widget-view+json": {
                     "model_id": "eae56aa8700e4fc4ad9dc32433b5f160",
                     "version_major": 2,
                     "version_minor": 0
                  },
                  "text/plain": [
                     "Validation: |          | 0/? [00:00<?, ?it/s]"
                  ]
               },
               "metadata": {},
               "output_type": "display_data"
            },
            {
               "data": {
                  "application/vnd.jupyter.widget-view+json": {
                     "model_id": "1de1eb8ef3ea4a4abd66f165471003a0",
                     "version_major": 2,
                     "version_minor": 0
                  },
                  "text/plain": [
                     "Validation: |          | 0/? [00:00<?, ?it/s]"
                  ]
               },
               "metadata": {},
               "output_type": "display_data"
            },
            {
               "data": {
                  "application/vnd.jupyter.widget-view+json": {
                     "model_id": "be53b5593cba4924871011b923fc73fe",
                     "version_major": 2,
                     "version_minor": 0
                  },
                  "text/plain": [
                     "Validation: |          | 0/? [00:00<?, ?it/s]"
                  ]
               },
               "metadata": {},
               "output_type": "display_data"
            },
            {
               "data": {
                  "application/vnd.jupyter.widget-view+json": {
                     "model_id": "ce3867009d5b468e8d5cbb8c02193f63",
                     "version_major": 2,
                     "version_minor": 0
                  },
                  "text/plain": [
                     "Validation: |          | 0/? [00:00<?, ?it/s]"
                  ]
               },
               "metadata": {},
               "output_type": "display_data"
            },
            {
               "data": {
                  "application/vnd.jupyter.widget-view+json": {
                     "model_id": "8430ef5b5ef14f4087ff165492a513f8",
                     "version_major": 2,
                     "version_minor": 0
                  },
                  "text/plain": [
                     "Validation: |          | 0/? [00:00<?, ?it/s]"
                  ]
               },
               "metadata": {},
               "output_type": "display_data"
            },
            {
               "data": {
                  "application/vnd.jupyter.widget-view+json": {
                     "model_id": "1221a7fa31f34ff0b50d8223c2fc4497",
                     "version_major": 2,
                     "version_minor": 0
                  },
                  "text/plain": [
                     "Validation: |          | 0/? [00:00<?, ?it/s]"
                  ]
               },
               "metadata": {},
               "output_type": "display_data"
            },
            {
               "data": {
                  "application/vnd.jupyter.widget-view+json": {
                     "model_id": "20b8a5306ddd44268cbcbf885e44c48c",
                     "version_major": 2,
                     "version_minor": 0
                  },
                  "text/plain": [
                     "Validation: |          | 0/? [00:00<?, ?it/s]"
                  ]
               },
               "metadata": {},
               "output_type": "display_data"
            },
            {
               "data": {
                  "application/vnd.jupyter.widget-view+json": {
                     "model_id": "3451494f4f78493bb4d6f4f02013f7cd",
                     "version_major": 2,
                     "version_minor": 0
                  },
                  "text/plain": [
                     "Validation: |          | 0/? [00:00<?, ?it/s]"
                  ]
               },
               "metadata": {},
               "output_type": "display_data"
            },
            {
               "data": {
                  "application/vnd.jupyter.widget-view+json": {
                     "model_id": "fd3bf152dfe24350b385939e7b6e893f",
                     "version_major": 2,
                     "version_minor": 0
                  },
                  "text/plain": [
                     "Validation: |          | 0/? [00:00<?, ?it/s]"
                  ]
               },
               "metadata": {},
               "output_type": "display_data"
            },
            {
               "data": {
                  "application/vnd.jupyter.widget-view+json": {
                     "model_id": "9a2b0f2bfffa493980f36dab126d9a39",
                     "version_major": 2,
                     "version_minor": 0
                  },
                  "text/plain": [
                     "Validation: |          | 0/? [00:00<?, ?it/s]"
                  ]
               },
               "metadata": {},
               "output_type": "display_data"
            },
            {
               "data": {
                  "application/vnd.jupyter.widget-view+json": {
                     "model_id": "9502383b835e4653b3599436ffd15218",
                     "version_major": 2,
                     "version_minor": 0
                  },
                  "text/plain": [
                     "Validation: |          | 0/? [00:00<?, ?it/s]"
                  ]
               },
               "metadata": {},
               "output_type": "display_data"
            },
            {
               "data": {
                  "application/vnd.jupyter.widget-view+json": {
                     "model_id": "4e386a8d171d4385889e1c1bc5e492ad",
                     "version_major": 2,
                     "version_minor": 0
                  },
                  "text/plain": [
                     "Validation: |          | 0/? [00:00<?, ?it/s]"
                  ]
               },
               "metadata": {},
               "output_type": "display_data"
            },
            {
               "data": {
                  "application/vnd.jupyter.widget-view+json": {
                     "model_id": "7ea369c94d0840a6b1a5a1db71a80171",
                     "version_major": 2,
                     "version_minor": 0
                  },
                  "text/plain": [
                     "Validation: |          | 0/? [00:00<?, ?it/s]"
                  ]
               },
               "metadata": {},
               "output_type": "display_data"
            },
            {
               "data": {
                  "application/vnd.jupyter.widget-view+json": {
                     "model_id": "1c0602bbb1634ba7b2ec49c2b34b08e4",
                     "version_major": 2,
                     "version_minor": 0
                  },
                  "text/plain": [
                     "Validation: |          | 0/? [00:00<?, ?it/s]"
                  ]
               },
               "metadata": {},
               "output_type": "display_data"
            },
            {
               "data": {
                  "application/vnd.jupyter.widget-view+json": {
                     "model_id": "43a626662b7d40acbea698bc6ea45b8c",
                     "version_major": 2,
                     "version_minor": 0
                  },
                  "text/plain": [
                     "Validation: |          | 0/? [00:00<?, ?it/s]"
                  ]
               },
               "metadata": {},
               "output_type": "display_data"
            },
            {
               "data": {
                  "application/vnd.jupyter.widget-view+json": {
                     "model_id": "9c2ffe167e4b408cb46709b0ce73937f",
                     "version_major": 2,
                     "version_minor": 0
                  },
                  "text/plain": [
                     "Validation: |          | 0/? [00:00<?, ?it/s]"
                  ]
               },
               "metadata": {},
               "output_type": "display_data"
            },
            {
               "data": {
                  "application/vnd.jupyter.widget-view+json": {
                     "model_id": "9675a8a4e25f4f6190af403b5d88b0a2",
                     "version_major": 2,
                     "version_minor": 0
                  },
                  "text/plain": [
                     "Validation: |          | 0/? [00:00<?, ?it/s]"
                  ]
               },
               "metadata": {},
               "output_type": "display_data"
            },
            {
               "data": {
                  "application/vnd.jupyter.widget-view+json": {
                     "model_id": "afa35e81cbda4718bf4e753a7b1775d9",
                     "version_major": 2,
                     "version_minor": 0
                  },
                  "text/plain": [
                     "Validation: |          | 0/? [00:00<?, ?it/s]"
                  ]
               },
               "metadata": {},
               "output_type": "display_data"
            },
            {
               "data": {
                  "application/vnd.jupyter.widget-view+json": {
                     "model_id": "2116c00c7a6b4a25856def914a031ced",
                     "version_major": 2,
                     "version_minor": 0
                  },
                  "text/plain": [
                     "Validation: |          | 0/? [00:00<?, ?it/s]"
                  ]
               },
               "metadata": {},
               "output_type": "display_data"
            },
            {
               "data": {
                  "application/vnd.jupyter.widget-view+json": {
                     "model_id": "1e2b2f4137664a4d9da8b4c2c9ade52e",
                     "version_major": 2,
                     "version_minor": 0
                  },
                  "text/plain": [
                     "Validation: |          | 0/? [00:00<?, ?it/s]"
                  ]
               },
               "metadata": {},
               "output_type": "display_data"
            },
            {
               "data": {
                  "application/vnd.jupyter.widget-view+json": {
                     "model_id": "1547f9e8283242acadbd6b91a3977a46",
                     "version_major": 2,
                     "version_minor": 0
                  },
                  "text/plain": [
                     "Validation: |          | 0/? [00:00<?, ?it/s]"
                  ]
               },
               "metadata": {},
               "output_type": "display_data"
            },
            {
               "data": {
                  "application/vnd.jupyter.widget-view+json": {
                     "model_id": "997ccd87bc43407f8a611c36ba750e48",
                     "version_major": 2,
                     "version_minor": 0
                  },
                  "text/plain": [
                     "Validation: |          | 0/? [00:00<?, ?it/s]"
                  ]
               },
               "metadata": {},
               "output_type": "display_data"
            },
            {
               "data": {
                  "application/vnd.jupyter.widget-view+json": {
                     "model_id": "abe04ba343ea4f71851f8b88d633bded",
                     "version_major": 2,
                     "version_minor": 0
                  },
                  "text/plain": [
                     "Validation: |          | 0/? [00:00<?, ?it/s]"
                  ]
               },
               "metadata": {},
               "output_type": "display_data"
            },
            {
               "data": {
                  "application/vnd.jupyter.widget-view+json": {
                     "model_id": "536ce47d67574455870efd19d70fec1b",
                     "version_major": 2,
                     "version_minor": 0
                  },
                  "text/plain": [
                     "Validation: |          | 0/? [00:00<?, ?it/s]"
                  ]
               },
               "metadata": {},
               "output_type": "display_data"
            },
            {
               "data": {
                  "application/vnd.jupyter.widget-view+json": {
                     "model_id": "8f6eda1149fd4418b3311e1ac238fcd0",
                     "version_major": 2,
                     "version_minor": 0
                  },
                  "text/plain": [
                     "Validation: |          | 0/? [00:00<?, ?it/s]"
                  ]
               },
               "metadata": {},
               "output_type": "display_data"
            },
            {
               "data": {
                  "application/vnd.jupyter.widget-view+json": {
                     "model_id": "9c3e1561479f43679c773c9b505c2b39",
                     "version_major": 2,
                     "version_minor": 0
                  },
                  "text/plain": [
                     "Validation: |          | 0/? [00:00<?, ?it/s]"
                  ]
               },
               "metadata": {},
               "output_type": "display_data"
            },
            {
               "data": {
                  "application/vnd.jupyter.widget-view+json": {
                     "model_id": "5bd4ae4dfc05452e8aa1474066448439",
                     "version_major": 2,
                     "version_minor": 0
                  },
                  "text/plain": [
                     "Validation: |          | 0/? [00:00<?, ?it/s]"
                  ]
               },
               "metadata": {},
               "output_type": "display_data"
            },
            {
               "data": {
                  "application/vnd.jupyter.widget-view+json": {
                     "model_id": "f8f412d56139484f8eeaa49e71d76a1d",
                     "version_major": 2,
                     "version_minor": 0
                  },
                  "text/plain": [
                     "Validation: |          | 0/? [00:00<?, ?it/s]"
                  ]
               },
               "metadata": {},
               "output_type": "display_data"
            },
            {
               "data": {
                  "application/vnd.jupyter.widget-view+json": {
                     "model_id": "f5e0655f9f2a4d9b9f2f0dcea4298071",
                     "version_major": 2,
                     "version_minor": 0
                  },
                  "text/plain": [
                     "Validation: |          | 0/? [00:00<?, ?it/s]"
                  ]
               },
               "metadata": {},
               "output_type": "display_data"
            },
            {
               "data": {
                  "application/vnd.jupyter.widget-view+json": {
                     "model_id": "0f87470393aa46d5a282d89307ba54c2",
                     "version_major": 2,
                     "version_minor": 0
                  },
                  "text/plain": [
                     "Validation: |          | 0/? [00:00<?, ?it/s]"
                  ]
               },
               "metadata": {},
               "output_type": "display_data"
            },
            {
               "data": {
                  "application/vnd.jupyter.widget-view+json": {
                     "model_id": "0e99997eca4c44abaceddfc1f867a678",
                     "version_major": 2,
                     "version_minor": 0
                  },
                  "text/plain": [
                     "Validation: |          | 0/? [00:00<?, ?it/s]"
                  ]
               },
               "metadata": {},
               "output_type": "display_data"
            },
            {
               "data": {
                  "application/vnd.jupyter.widget-view+json": {
                     "model_id": "e470eaab1a3a46a1b597305340e0f1ab",
                     "version_major": 2,
                     "version_minor": 0
                  },
                  "text/plain": [
                     "Validation: |          | 0/? [00:00<?, ?it/s]"
                  ]
               },
               "metadata": {},
               "output_type": "display_data"
            },
            {
               "data": {
                  "application/vnd.jupyter.widget-view+json": {
                     "model_id": "03e3b6b669df4aa18f55441d92363743",
                     "version_major": 2,
                     "version_minor": 0
                  },
                  "text/plain": [
                     "Validation: |          | 0/? [00:00<?, ?it/s]"
                  ]
               },
               "metadata": {},
               "output_type": "display_data"
            },
            {
               "data": {
                  "application/vnd.jupyter.widget-view+json": {
                     "model_id": "622f6e39f2064769b6fd3022d95507db",
                     "version_major": 2,
                     "version_minor": 0
                  },
                  "text/plain": [
                     "Validation: |          | 0/? [00:00<?, ?it/s]"
                  ]
               },
               "metadata": {},
               "output_type": "display_data"
            },
            {
               "data": {
                  "application/vnd.jupyter.widget-view+json": {
                     "model_id": "ada0fc142b434badbb9077eeeea2fe93",
                     "version_major": 2,
                     "version_minor": 0
                  },
                  "text/plain": [
                     "Validation: |          | 0/? [00:00<?, ?it/s]"
                  ]
               },
               "metadata": {},
               "output_type": "display_data"
            },
            {
               "data": {
                  "application/vnd.jupyter.widget-view+json": {
                     "model_id": "83e780c6e8b44fe5971fbb2817faff54",
                     "version_major": 2,
                     "version_minor": 0
                  },
                  "text/plain": [
                     "Validation: |          | 0/? [00:00<?, ?it/s]"
                  ]
               },
               "metadata": {},
               "output_type": "display_data"
            },
            {
               "data": {
                  "application/vnd.jupyter.widget-view+json": {
                     "model_id": "bd0b298a4d4646909e87b6b789a2841b",
                     "version_major": 2,
                     "version_minor": 0
                  },
                  "text/plain": [
                     "Validation: |          | 0/? [00:00<?, ?it/s]"
                  ]
               },
               "metadata": {},
               "output_type": "display_data"
            },
            {
               "data": {
                  "application/vnd.jupyter.widget-view+json": {
                     "model_id": "43802e805cf6476b9e9c74d1051611af",
                     "version_major": 2,
                     "version_minor": 0
                  },
                  "text/plain": [
                     "Validation: |          | 0/? [00:00<?, ?it/s]"
                  ]
               },
               "metadata": {},
               "output_type": "display_data"
            },
            {
               "data": {
                  "application/vnd.jupyter.widget-view+json": {
                     "model_id": "844af467b54f431aba7692c1e0a4058d",
                     "version_major": 2,
                     "version_minor": 0
                  },
                  "text/plain": [
                     "Validation: |          | 0/? [00:00<?, ?it/s]"
                  ]
               },
               "metadata": {},
               "output_type": "display_data"
            },
            {
               "data": {
                  "application/vnd.jupyter.widget-view+json": {
                     "model_id": "b6131c08f3634a67940bda94fd3e5f89",
                     "version_major": 2,
                     "version_minor": 0
                  },
                  "text/plain": [
                     "Validation: |          | 0/? [00:00<?, ?it/s]"
                  ]
               },
               "metadata": {},
               "output_type": "display_data"
            },
            {
               "data": {
                  "application/vnd.jupyter.widget-view+json": {
                     "model_id": "73083499be2f4e6d850c95ba2fd1deeb",
                     "version_major": 2,
                     "version_minor": 0
                  },
                  "text/plain": [
                     "Validation: |          | 0/? [00:00<?, ?it/s]"
                  ]
               },
               "metadata": {},
               "output_type": "display_data"
            },
            {
               "data": {
                  "application/vnd.jupyter.widget-view+json": {
                     "model_id": "9c38caa861544ef0bd8561571f106253",
                     "version_major": 2,
                     "version_minor": 0
                  },
                  "text/plain": [
                     "Validation: |          | 0/? [00:00<?, ?it/s]"
                  ]
               },
               "metadata": {},
               "output_type": "display_data"
            },
            {
               "data": {
                  "application/vnd.jupyter.widget-view+json": {
                     "model_id": "5751d1fedaf44093b9b69947cdcea629",
                     "version_major": 2,
                     "version_minor": 0
                  },
                  "text/plain": [
                     "Validation: |          | 0/? [00:00<?, ?it/s]"
                  ]
               },
               "metadata": {},
               "output_type": "display_data"
            },
            {
               "data": {
                  "application/vnd.jupyter.widget-view+json": {
                     "model_id": "77a1cf0fbf2c40cab009a6c890392fdb",
                     "version_major": 2,
                     "version_minor": 0
                  },
                  "text/plain": [
                     "Validation: |          | 0/? [00:00<?, ?it/s]"
                  ]
               },
               "metadata": {},
               "output_type": "display_data"
            },
            {
               "data": {
                  "application/vnd.jupyter.widget-view+json": {
                     "model_id": "673b6c9d68bc456db2fc0b7cc98e175f",
                     "version_major": 2,
                     "version_minor": 0
                  },
                  "text/plain": [
                     "Validation: |          | 0/? [00:00<?, ?it/s]"
                  ]
               },
               "metadata": {},
               "output_type": "display_data"
            },
            {
               "data": {
                  "application/vnd.jupyter.widget-view+json": {
                     "model_id": "6a81b71a18bb49708db7d75983a59110",
                     "version_major": 2,
                     "version_minor": 0
                  },
                  "text/plain": [
                     "Validation: |          | 0/? [00:00<?, ?it/s]"
                  ]
               },
               "metadata": {},
               "output_type": "display_data"
            },
            {
               "data": {
                  "application/vnd.jupyter.widget-view+json": {
                     "model_id": "851208ee7ef742f7aaaf5f9ba57db494",
                     "version_major": 2,
                     "version_minor": 0
                  },
                  "text/plain": [
                     "Validation: |          | 0/? [00:00<?, ?it/s]"
                  ]
               },
               "metadata": {},
               "output_type": "display_data"
            },
            {
               "data": {
                  "application/vnd.jupyter.widget-view+json": {
                     "model_id": "4a637454d7c94f3b851cbee09dd29f02",
                     "version_major": 2,
                     "version_minor": 0
                  },
                  "text/plain": [
                     "Validation: |          | 0/? [00:00<?, ?it/s]"
                  ]
               },
               "metadata": {},
               "output_type": "display_data"
            },
            {
               "data": {
                  "application/vnd.jupyter.widget-view+json": {
                     "model_id": "575ce8ba2c6743bcb49e3eff0b095bda",
                     "version_major": 2,
                     "version_minor": 0
                  },
                  "text/plain": [
                     "Validation: |          | 0/? [00:00<?, ?it/s]"
                  ]
               },
               "metadata": {},
               "output_type": "display_data"
            },
            {
               "data": {
                  "application/vnd.jupyter.widget-view+json": {
                     "model_id": "5b3e7d5e923942db971d988a407b877b",
                     "version_major": 2,
                     "version_minor": 0
                  },
                  "text/plain": [
                     "Validation: |          | 0/? [00:00<?, ?it/s]"
                  ]
               },
               "metadata": {},
               "output_type": "display_data"
            },
            {
               "data": {
                  "application/vnd.jupyter.widget-view+json": {
                     "model_id": "e01dfa48c0054056bb4ff69ea71a9822",
                     "version_major": 2,
                     "version_minor": 0
                  },
                  "text/plain": [
                     "Validation: |          | 0/? [00:00<?, ?it/s]"
                  ]
               },
               "metadata": {},
               "output_type": "display_data"
            },
            {
               "data": {
                  "application/vnd.jupyter.widget-view+json": {
                     "model_id": "29ff99d1ca7f4842827fc76251f4efe6",
                     "version_major": 2,
                     "version_minor": 0
                  },
                  "text/plain": [
                     "Validation: |          | 0/? [00:00<?, ?it/s]"
                  ]
               },
               "metadata": {},
               "output_type": "display_data"
            },
            {
               "data": {
                  "application/vnd.jupyter.widget-view+json": {
                     "model_id": "5863f3f3b2674942b344d2e1d60d4791",
                     "version_major": 2,
                     "version_minor": 0
                  },
                  "text/plain": [
                     "Validation: |          | 0/? [00:00<?, ?it/s]"
                  ]
               },
               "metadata": {},
               "output_type": "display_data"
            },
            {
               "data": {
                  "application/vnd.jupyter.widget-view+json": {
                     "model_id": "6b67be69074e4a5385fcd13b628a7c6c",
                     "version_major": 2,
                     "version_minor": 0
                  },
                  "text/plain": [
                     "Validation: |          | 0/? [00:00<?, ?it/s]"
                  ]
               },
               "metadata": {},
               "output_type": "display_data"
            },
            {
               "data": {
                  "application/vnd.jupyter.widget-view+json": {
                     "model_id": "9dac448a6326420981cf57b4f5c8d5cd",
                     "version_major": 2,
                     "version_minor": 0
                  },
                  "text/plain": [
                     "Validation: |          | 0/? [00:00<?, ?it/s]"
                  ]
               },
               "metadata": {},
               "output_type": "display_data"
            },
            {
               "data": {
                  "application/vnd.jupyter.widget-view+json": {
                     "model_id": "ff9aecc9c16d4fa1a4ef22a26ca597bc",
                     "version_major": 2,
                     "version_minor": 0
                  },
                  "text/plain": [
                     "Validation: |          | 0/? [00:00<?, ?it/s]"
                  ]
               },
               "metadata": {},
               "output_type": "display_data"
            },
            {
               "data": {
                  "application/vnd.jupyter.widget-view+json": {
                     "model_id": "bc14a7af91fb4d1494d1a816170dec2d",
                     "version_major": 2,
                     "version_minor": 0
                  },
                  "text/plain": [
                     "Validation: |          | 0/? [00:00<?, ?it/s]"
                  ]
               },
               "metadata": {},
               "output_type": "display_data"
            },
            {
               "data": {
                  "application/vnd.jupyter.widget-view+json": {
                     "model_id": "6f3146deceaa4a169ee380246f913b0a",
                     "version_major": 2,
                     "version_minor": 0
                  },
                  "text/plain": [
                     "Validation: |          | 0/? [00:00<?, ?it/s]"
                  ]
               },
               "metadata": {},
               "output_type": "display_data"
            },
            {
               "data": {
                  "application/vnd.jupyter.widget-view+json": {
                     "model_id": "df9be9afdca8409aa8ab3bf027780f6d",
                     "version_major": 2,
                     "version_minor": 0
                  },
                  "text/plain": [
                     "Validation: |          | 0/? [00:00<?, ?it/s]"
                  ]
               },
               "metadata": {},
               "output_type": "display_data"
            },
            {
               "data": {
                  "application/vnd.jupyter.widget-view+json": {
                     "model_id": "49cca7118a2947e094122c5c9c0214e7",
                     "version_major": 2,
                     "version_minor": 0
                  },
                  "text/plain": [
                     "Validation: |          | 0/? [00:00<?, ?it/s]"
                  ]
               },
               "metadata": {},
               "output_type": "display_data"
            },
            {
               "data": {
                  "application/vnd.jupyter.widget-view+json": {
                     "model_id": "8e172538490e47bf8a8d180fc36ffc5e",
                     "version_major": 2,
                     "version_minor": 0
                  },
                  "text/plain": [
                     "Validation: |          | 0/? [00:00<?, ?it/s]"
                  ]
               },
               "metadata": {},
               "output_type": "display_data"
            },
            {
               "data": {
                  "application/vnd.jupyter.widget-view+json": {
                     "model_id": "b6a37722b05c468e9ce13b62eaf2232a",
                     "version_major": 2,
                     "version_minor": 0
                  },
                  "text/plain": [
                     "Validation: |          | 0/? [00:00<?, ?it/s]"
                  ]
               },
               "metadata": {},
               "output_type": "display_data"
            },
            {
               "data": {
                  "application/vnd.jupyter.widget-view+json": {
                     "model_id": "d1e71eba401d463bae93fb5ee0c763dc",
                     "version_major": 2,
                     "version_minor": 0
                  },
                  "text/plain": [
                     "Validation: |          | 0/? [00:00<?, ?it/s]"
                  ]
               },
               "metadata": {},
               "output_type": "display_data"
            },
            {
               "data": {
                  "application/vnd.jupyter.widget-view+json": {
                     "model_id": "9d609d87b8974be4846c4a016604653c",
                     "version_major": 2,
                     "version_minor": 0
                  },
                  "text/plain": [
                     "Validation: |          | 0/? [00:00<?, ?it/s]"
                  ]
               },
               "metadata": {},
               "output_type": "display_data"
            },
            {
               "data": {
                  "application/vnd.jupyter.widget-view+json": {
                     "model_id": "9db772fd9ee94361bd818a9ba6b97f00",
                     "version_major": 2,
                     "version_minor": 0
                  },
                  "text/plain": [
                     "Validation: |          | 0/? [00:00<?, ?it/s]"
                  ]
               },
               "metadata": {},
               "output_type": "display_data"
            },
            {
               "data": {
                  "application/vnd.jupyter.widget-view+json": {
                     "model_id": "92db8c640378485d83aad2cd7e42c859",
                     "version_major": 2,
                     "version_minor": 0
                  },
                  "text/plain": [
                     "Validation: |          | 0/? [00:00<?, ?it/s]"
                  ]
               },
               "metadata": {},
               "output_type": "display_data"
            },
            {
               "data": {
                  "application/vnd.jupyter.widget-view+json": {
                     "model_id": "5597ad23aaa94bcda2a28a9b627f501e",
                     "version_major": 2,
                     "version_minor": 0
                  },
                  "text/plain": [
                     "Validation: |          | 0/? [00:00<?, ?it/s]"
                  ]
               },
               "metadata": {},
               "output_type": "display_data"
            },
            {
               "data": {
                  "application/vnd.jupyter.widget-view+json": {
                     "model_id": "ce305bd3d4d647c899e2d7b540b4a15d",
                     "version_major": 2,
                     "version_minor": 0
                  },
                  "text/plain": [
                     "Validation: |          | 0/? [00:00<?, ?it/s]"
                  ]
               },
               "metadata": {},
               "output_type": "display_data"
            },
            {
               "data": {
                  "application/vnd.jupyter.widget-view+json": {
                     "model_id": "de58a3d436b14501a5ac1cbc39543efc",
                     "version_major": 2,
                     "version_minor": 0
                  },
                  "text/plain": [
                     "Validation: |          | 0/? [00:00<?, ?it/s]"
                  ]
               },
               "metadata": {},
               "output_type": "display_data"
            },
            {
               "data": {
                  "application/vnd.jupyter.widget-view+json": {
                     "model_id": "cc54dfca77784764afec61f255ffd9da",
                     "version_major": 2,
                     "version_minor": 0
                  },
                  "text/plain": [
                     "Validation: |          | 0/? [00:00<?, ?it/s]"
                  ]
               },
               "metadata": {},
               "output_type": "display_data"
            },
            {
               "data": {
                  "application/vnd.jupyter.widget-view+json": {
                     "model_id": "32ecb4ecb484492c90096ae455e5c636",
                     "version_major": 2,
                     "version_minor": 0
                  },
                  "text/plain": [
                     "Validation: |          | 0/? [00:00<?, ?it/s]"
                  ]
               },
               "metadata": {},
               "output_type": "display_data"
            },
            {
               "data": {
                  "application/vnd.jupyter.widget-view+json": {
                     "model_id": "c2b4183fb4b04cdb988c763279c4fe3e",
                     "version_major": 2,
                     "version_minor": 0
                  },
                  "text/plain": [
                     "Validation: |          | 0/? [00:00<?, ?it/s]"
                  ]
               },
               "metadata": {},
               "output_type": "display_data"
            },
            {
               "data": {
                  "application/vnd.jupyter.widget-view+json": {
                     "model_id": "5d90c290afde4d3ab011f17a80640e04",
                     "version_major": 2,
                     "version_minor": 0
                  },
                  "text/plain": [
                     "Validation: |          | 0/? [00:00<?, ?it/s]"
                  ]
               },
               "metadata": {},
               "output_type": "display_data"
            },
            {
               "data": {
                  "application/vnd.jupyter.widget-view+json": {
                     "model_id": "03c1206fa3db4904a3a52043e5a36aec",
                     "version_major": 2,
                     "version_minor": 0
                  },
                  "text/plain": [
                     "Validation: |          | 0/? [00:00<?, ?it/s]"
                  ]
               },
               "metadata": {},
               "output_type": "display_data"
            },
            {
               "name": "stdout",
               "output_type": "stream",
               "text": [
                  "The following parameters were not found in the YAML file and will use defaults:\n",
                  "  - bias (model-specific)\n",
                  "  - bidirectional (model-specific)\n",
                  "  - bidirectional_fusion (model-specific)\n",
                  "  - future_hidden_size (model-specific)\n",
                  "  - future_layers (model-specific)\n",
                  "  - scheduler_factor (model-specific)\n",
                  "  - scheduler_patience (model-specific)\n"
               ]
            },
            {
               "data": {
                  "application/vnd.jupyter.widget-view+json": {
                     "model_id": "18d785b16e234c51b95ad95e488ee828",
                     "version_major": 2,
                     "version_minor": 0
                  },
                  "text/plain": [
                     "Sanity Checking: |          | 0/? [00:00<?, ?it/s]"
                  ]
               },
               "metadata": {},
               "output_type": "display_data"
            },
            {
               "data": {
                  "application/vnd.jupyter.widget-view+json": {
                     "model_id": "54bc48cac1ac4b38aff8b3df06678950",
                     "version_major": 2,
                     "version_minor": 0
                  },
                  "text/plain": [
                     "Training: |          | 0/? [00:00<?, ?it/s]"
                  ]
               },
               "metadata": {},
               "output_type": "display_data"
            },
            {
               "data": {
                  "application/vnd.jupyter.widget-view+json": {
                     "model_id": "449ea05172064add9ef5b7cb9bd3a470",
                     "version_major": 2,
                     "version_minor": 0
                  },
                  "text/plain": [
                     "Validation: |          | 0/? [00:00<?, ?it/s]"
                  ]
               },
               "metadata": {},
               "output_type": "display_data"
            },
            {
               "data": {
                  "application/vnd.jupyter.widget-view+json": {
                     "model_id": "756e2d6b81264424a8eb6e2009b4f775",
                     "version_major": 2,
                     "version_minor": 0
                  },
                  "text/plain": [
                     "Validation: |          | 0/? [00:00<?, ?it/s]"
                  ]
               },
               "metadata": {},
               "output_type": "display_data"
            },
            {
               "data": {
                  "application/vnd.jupyter.widget-view+json": {
                     "model_id": "32f5929fcdb94e84aa37575d878d5c79",
                     "version_major": 2,
                     "version_minor": 0
                  },
                  "text/plain": [
                     "Validation: |          | 0/? [00:00<?, ?it/s]"
                  ]
               },
               "metadata": {},
               "output_type": "display_data"
            },
            {
               "data": {
                  "application/vnd.jupyter.widget-view+json": {
                     "model_id": "e759ea6294034cf1a4cfe9435c1a8544",
                     "version_major": 2,
                     "version_minor": 0
                  },
                  "text/plain": [
                     "Validation: |          | 0/? [00:00<?, ?it/s]"
                  ]
               },
               "metadata": {},
               "output_type": "display_data"
            },
            {
               "data": {
                  "application/vnd.jupyter.widget-view+json": {
                     "model_id": "708d5f00aef74f67aacb1cd1b05918d3",
                     "version_major": 2,
                     "version_minor": 0
                  },
                  "text/plain": [
                     "Validation: |          | 0/? [00:00<?, ?it/s]"
                  ]
               },
               "metadata": {},
               "output_type": "display_data"
            },
            {
               "data": {
                  "application/vnd.jupyter.widget-view+json": {
                     "model_id": "27ade27c400645f08f59ab9fa5e2af72",
                     "version_major": 2,
                     "version_minor": 0
                  },
                  "text/plain": [
                     "Validation: |          | 0/? [00:00<?, ?it/s]"
                  ]
               },
               "metadata": {},
               "output_type": "display_data"
            },
            {
               "data": {
                  "application/vnd.jupyter.widget-view+json": {
                     "model_id": "a3ada6ad5694459fbbe656ad4702283f",
                     "version_major": 2,
                     "version_minor": 0
                  },
                  "text/plain": [
                     "Validation: |          | 0/? [00:00<?, ?it/s]"
                  ]
               },
               "metadata": {},
               "output_type": "display_data"
            },
            {
               "data": {
                  "application/vnd.jupyter.widget-view+json": {
                     "model_id": "e001d4808d334e0185da0f29eea961c1",
                     "version_major": 2,
                     "version_minor": 0
                  },
                  "text/plain": [
                     "Validation: |          | 0/? [00:00<?, ?it/s]"
                  ]
               },
               "metadata": {},
               "output_type": "display_data"
            },
            {
               "data": {
                  "application/vnd.jupyter.widget-view+json": {
                     "model_id": "58a306f34bd74a07ad63bb75ae6833ab",
                     "version_major": 2,
                     "version_minor": 0
                  },
                  "text/plain": [
                     "Validation: |          | 0/? [00:00<?, ?it/s]"
                  ]
               },
               "metadata": {},
               "output_type": "display_data"
            },
            {
               "data": {
                  "application/vnd.jupyter.widget-view+json": {
                     "model_id": "e296a6fd74964af4aa12d5f90f6d3fda",
                     "version_major": 2,
                     "version_minor": 0
                  },
                  "text/plain": [
                     "Validation: |          | 0/? [00:00<?, ?it/s]"
                  ]
               },
               "metadata": {},
               "output_type": "display_data"
            },
            {
               "data": {
                  "application/vnd.jupyter.widget-view+json": {
                     "model_id": "300d0b3b0bed496f9bf48cc200037c77",
                     "version_major": 2,
                     "version_minor": 0
                  },
                  "text/plain": [
                     "Validation: |          | 0/? [00:00<?, ?it/s]"
                  ]
               },
               "metadata": {},
               "output_type": "display_data"
            },
            {
               "data": {
                  "application/vnd.jupyter.widget-view+json": {
                     "model_id": "67489e81fc66406f8421a2641068df2d",
                     "version_major": 2,
                     "version_minor": 0
                  },
                  "text/plain": [
                     "Validation: |          | 0/? [00:00<?, ?it/s]"
                  ]
               },
               "metadata": {},
               "output_type": "display_data"
            },
            {
               "data": {
                  "application/vnd.jupyter.widget-view+json": {
                     "model_id": "61770efdddb54e749ac6a359c31e422c",
                     "version_major": 2,
                     "version_minor": 0
                  },
                  "text/plain": [
                     "Validation: |          | 0/? [00:00<?, ?it/s]"
                  ]
               },
               "metadata": {},
               "output_type": "display_data"
            },
            {
               "data": {
                  "application/vnd.jupyter.widget-view+json": {
                     "model_id": "95d459b99b384dcd8585a428dc792486",
                     "version_major": 2,
                     "version_minor": 0
                  },
                  "text/plain": [
                     "Validation: |          | 0/? [00:00<?, ?it/s]"
                  ]
               },
               "metadata": {},
               "output_type": "display_data"
            },
            {
               "data": {
                  "application/vnd.jupyter.widget-view+json": {
                     "model_id": "55aa501d9110427ebb9bf94980ada7ef",
                     "version_major": 2,
                     "version_minor": 0
                  },
                  "text/plain": [
                     "Validation: |          | 0/? [00:00<?, ?it/s]"
                  ]
               },
               "metadata": {},
               "output_type": "display_data"
            },
            {
               "data": {
                  "application/vnd.jupyter.widget-view+json": {
                     "model_id": "7ba1c20fc7cb4b6b9c86ba633de29c18",
                     "version_major": 2,
                     "version_minor": 0
                  },
                  "text/plain": [
                     "Validation: |          | 0/? [00:00<?, ?it/s]"
                  ]
               },
               "metadata": {},
               "output_type": "display_data"
            },
            {
               "data": {
                  "application/vnd.jupyter.widget-view+json": {
                     "model_id": "feef7cca5a46443eaad7706b92dd2537",
                     "version_major": 2,
                     "version_minor": 0
                  },
                  "text/plain": [
                     "Validation: |          | 0/? [00:00<?, ?it/s]"
                  ]
               },
               "metadata": {},
               "output_type": "display_data"
            },
            {
               "data": {
                  "application/vnd.jupyter.widget-view+json": {
                     "model_id": "df5145e438a84e818999134a358ee3a1",
                     "version_major": 2,
                     "version_minor": 0
                  },
                  "text/plain": [
                     "Validation: |          | 0/? [00:00<?, ?it/s]"
                  ]
               },
               "metadata": {},
               "output_type": "display_data"
            },
            {
               "data": {
                  "application/vnd.jupyter.widget-view+json": {
                     "model_id": "2473bfcd11164972bf135e1307a89c29",
                     "version_major": 2,
                     "version_minor": 0
                  },
                  "text/plain": [
                     "Validation: |          | 0/? [00:00<?, ?it/s]"
                  ]
               },
               "metadata": {},
               "output_type": "display_data"
            },
            {
               "data": {
                  "application/vnd.jupyter.widget-view+json": {
                     "model_id": "1f0588fe703e4c2490697144f17cd4dd",
                     "version_major": 2,
                     "version_minor": 0
                  },
                  "text/plain": [
                     "Validation: |          | 0/? [00:00<?, ?it/s]"
                  ]
               },
               "metadata": {},
               "output_type": "display_data"
            },
            {
               "data": {
                  "application/vnd.jupyter.widget-view+json": {
                     "model_id": "2fe05629610e402db6acc6ee8422eb0a",
                     "version_major": 2,
                     "version_minor": 0
                  },
                  "text/plain": [
                     "Validation: |          | 0/? [00:00<?, ?it/s]"
                  ]
               },
               "metadata": {},
               "output_type": "display_data"
            },
            {
               "data": {
                  "application/vnd.jupyter.widget-view+json": {
                     "model_id": "40507dec05064fad85b80d2810fef1ab",
                     "version_major": 2,
                     "version_minor": 0
                  },
                  "text/plain": [
                     "Validation: |          | 0/? [00:00<?, ?it/s]"
                  ]
               },
               "metadata": {},
               "output_type": "display_data"
            },
            {
               "data": {
                  "application/vnd.jupyter.widget-view+json": {
                     "model_id": "04c5d396f82043888c2945b445d5a148",
                     "version_major": 2,
                     "version_minor": 0
                  },
                  "text/plain": [
                     "Validation: |          | 0/? [00:00<?, ?it/s]"
                  ]
               },
               "metadata": {},
               "output_type": "display_data"
            },
            {
               "data": {
                  "application/vnd.jupyter.widget-view+json": {
                     "model_id": "7958d012718f49678a6ab997235b2619",
                     "version_major": 2,
                     "version_minor": 0
                  },
                  "text/plain": [
                     "Validation: |          | 0/? [00:00<?, ?it/s]"
                  ]
               },
               "metadata": {},
               "output_type": "display_data"
            },
            {
               "data": {
                  "application/vnd.jupyter.widget-view+json": {
                     "model_id": "c932ee1ac3944789bf425ec75095d840",
                     "version_major": 2,
                     "version_minor": 0
                  },
                  "text/plain": [
                     "Validation: |          | 0/? [00:00<?, ?it/s]"
                  ]
               },
               "metadata": {},
               "output_type": "display_data"
            },
            {
               "data": {
                  "application/vnd.jupyter.widget-view+json": {
                     "model_id": "a639c15f63254411a2d44ab17e0720f1",
                     "version_major": 2,
                     "version_minor": 0
                  },
                  "text/plain": [
                     "Validation: |          | 0/? [00:00<?, ?it/s]"
                  ]
               },
               "metadata": {},
               "output_type": "display_data"
            },
            {
               "data": {
                  "application/vnd.jupyter.widget-view+json": {
                     "model_id": "08d0af7599bc4b6893e511877061c81d",
                     "version_major": 2,
                     "version_minor": 0
                  },
                  "text/plain": [
                     "Validation: |          | 0/? [00:00<?, ?it/s]"
                  ]
               },
               "metadata": {},
               "output_type": "display_data"
            },
            {
               "data": {
                  "application/vnd.jupyter.widget-view+json": {
                     "model_id": "eb8088abed2945008b961b21529cbcdf",
                     "version_major": 2,
                     "version_minor": 0
                  },
                  "text/plain": [
                     "Validation: |          | 0/? [00:00<?, ?it/s]"
                  ]
               },
               "metadata": {},
               "output_type": "display_data"
            },
            {
               "data": {
                  "application/vnd.jupyter.widget-view+json": {
                     "model_id": "2e0381a31fbf4637b152183f83ea8f77",
                     "version_major": 2,
                     "version_minor": 0
                  },
                  "text/plain": [
                     "Validation: |          | 0/? [00:00<?, ?it/s]"
                  ]
               },
               "metadata": {},
               "output_type": "display_data"
            },
            {
               "data": {
                  "application/vnd.jupyter.widget-view+json": {
                     "model_id": "70d2c6c823ba4d058ee373eac438fe07",
                     "version_major": 2,
                     "version_minor": 0
                  },
                  "text/plain": [
                     "Validation: |          | 0/? [00:00<?, ?it/s]"
                  ]
               },
               "metadata": {},
               "output_type": "display_data"
            },
            {
               "data": {
                  "application/vnd.jupyter.widget-view+json": {
                     "model_id": "86b0b8a885524ae79a234907f50ca8b2",
                     "version_major": 2,
                     "version_minor": 0
                  },
                  "text/plain": [
                     "Validation: |          | 0/? [00:00<?, ?it/s]"
                  ]
               },
               "metadata": {},
               "output_type": "display_data"
            },
            {
               "data": {
                  "application/vnd.jupyter.widget-view+json": {
                     "model_id": "56c61232c7094fdba3cf5f8234decfae",
                     "version_major": 2,
                     "version_minor": 0
                  },
                  "text/plain": [
                     "Validation: |          | 0/? [00:00<?, ?it/s]"
                  ]
               },
               "metadata": {},
               "output_type": "display_data"
            },
            {
               "data": {
                  "application/vnd.jupyter.widget-view+json": {
                     "model_id": "bf80674b2b5347a28974d74daf775c7d",
                     "version_major": 2,
                     "version_minor": 0
                  },
                  "text/plain": [
                     "Validation: |          | 0/? [00:00<?, ?it/s]"
                  ]
               },
               "metadata": {},
               "output_type": "display_data"
            },
            {
               "data": {
                  "application/vnd.jupyter.widget-view+json": {
                     "model_id": "82c41d4d5ec04b8b9072eff9bb2a32aa",
                     "version_major": 2,
                     "version_minor": 0
                  },
                  "text/plain": [
                     "Validation: |          | 0/? [00:00<?, ?it/s]"
                  ]
               },
               "metadata": {},
               "output_type": "display_data"
            },
            {
               "data": {
                  "application/vnd.jupyter.widget-view+json": {
                     "model_id": "e384a1c1754346b69c7475f23740ab2f",
                     "version_major": 2,
                     "version_minor": 0
                  },
                  "text/plain": [
                     "Validation: |          | 0/? [00:00<?, ?it/s]"
                  ]
               },
               "metadata": {},
               "output_type": "display_data"
            },
            {
               "data": {
                  "application/vnd.jupyter.widget-view+json": {
                     "model_id": "5993a50c543d40ff92ce137b89fa1bc2",
                     "version_major": 2,
                     "version_minor": 0
                  },
                  "text/plain": [
                     "Validation: |          | 0/? [00:00<?, ?it/s]"
                  ]
               },
               "metadata": {},
               "output_type": "display_data"
            },
            {
               "data": {
                  "application/vnd.jupyter.widget-view+json": {
                     "model_id": "520fb68d98274a2b88263bbb61dc5577",
                     "version_major": 2,
                     "version_minor": 0
                  },
                  "text/plain": [
                     "Validation: |          | 0/? [00:00<?, ?it/s]"
                  ]
               },
               "metadata": {},
               "output_type": "display_data"
            },
            {
               "data": {
                  "application/vnd.jupyter.widget-view+json": {
                     "model_id": "e04c45b5abf640ad87bec83a111c3cfc",
                     "version_major": 2,
                     "version_minor": 0
                  },
                  "text/plain": [
                     "Validation: |          | 0/? [00:00<?, ?it/s]"
                  ]
               },
               "metadata": {},
               "output_type": "display_data"
            },
            {
               "data": {
                  "application/vnd.jupyter.widget-view+json": {
                     "model_id": "3c2fdc171c8840db80242bf24af4428d",
                     "version_major": 2,
                     "version_minor": 0
                  },
                  "text/plain": [
                     "Validation: |          | 0/? [00:00<?, ?it/s]"
                  ]
               },
               "metadata": {},
               "output_type": "display_data"
            },
            {
               "data": {
                  "application/vnd.jupyter.widget-view+json": {
                     "model_id": "ccb7e70e61fd4f888971e9f36c120258",
                     "version_major": 2,
                     "version_minor": 0
                  },
                  "text/plain": [
                     "Validation: |          | 0/? [00:00<?, ?it/s]"
                  ]
               },
               "metadata": {},
               "output_type": "display_data"
            },
            {
               "data": {
                  "application/vnd.jupyter.widget-view+json": {
                     "model_id": "60ef9e90a92144b887d4528d55d56f6a",
                     "version_major": 2,
                     "version_minor": 0
                  },
                  "text/plain": [
                     "Validation: |          | 0/? [00:00<?, ?it/s]"
                  ]
               },
               "metadata": {},
               "output_type": "display_data"
            },
            {
               "data": {
                  "application/vnd.jupyter.widget-view+json": {
                     "model_id": "7c2e0120a99e400699fb8e80cf5fb294",
                     "version_major": 2,
                     "version_minor": 0
                  },
                  "text/plain": [
                     "Validation: |          | 0/? [00:00<?, ?it/s]"
                  ]
               },
               "metadata": {},
               "output_type": "display_data"
            },
            {
               "data": {
                  "application/vnd.jupyter.widget-view+json": {
                     "model_id": "9bab389d94a243719a0dd0a22dc68a0b",
                     "version_major": 2,
                     "version_minor": 0
                  },
                  "text/plain": [
                     "Validation: |          | 0/? [00:00<?, ?it/s]"
                  ]
               },
               "metadata": {},
               "output_type": "display_data"
            },
            {
               "data": {
                  "application/vnd.jupyter.widget-view+json": {
                     "model_id": "41f72af5c6864b1684844e6cdebd6fc3",
                     "version_major": 2,
                     "version_minor": 0
                  },
                  "text/plain": [
                     "Validation: |          | 0/? [00:00<?, ?it/s]"
                  ]
               },
               "metadata": {},
               "output_type": "display_data"
            },
            {
               "data": {
                  "application/vnd.jupyter.widget-view+json": {
                     "model_id": "f874b23e107c4431b737cfdfe97c2291",
                     "version_major": 2,
                     "version_minor": 0
                  },
                  "text/plain": [
                     "Validation: |          | 0/? [00:00<?, ?it/s]"
                  ]
               },
               "metadata": {},
               "output_type": "display_data"
            },
            {
               "data": {
                  "application/vnd.jupyter.widget-view+json": {
                     "model_id": "a92138c05d2c487d814ec5f0551b9d8e",
                     "version_major": 2,
                     "version_minor": 0
                  },
                  "text/plain": [
                     "Validation: |          | 0/? [00:00<?, ?it/s]"
                  ]
               },
               "metadata": {},
               "output_type": "display_data"
            },
            {
               "data": {
                  "application/vnd.jupyter.widget-view+json": {
                     "model_id": "81f004407fde46249ba5aa0321b1e5d7",
                     "version_major": 2,
                     "version_minor": 0
                  },
                  "text/plain": [
                     "Validation: |          | 0/? [00:00<?, ?it/s]"
                  ]
               },
               "metadata": {},
               "output_type": "display_data"
            },
            {
               "data": {
                  "application/vnd.jupyter.widget-view+json": {
                     "model_id": "6647f412de044dbd9c442b3d33afdcc9",
                     "version_major": 2,
                     "version_minor": 0
                  },
                  "text/plain": [
                     "Validation: |          | 0/? [00:00<?, ?it/s]"
                  ]
               },
               "metadata": {},
               "output_type": "display_data"
            },
            {
               "data": {
                  "application/vnd.jupyter.widget-view+json": {
                     "model_id": "7883f0d0225e4b678dc45391812b42a7",
                     "version_major": 2,
                     "version_minor": 0
                  },
                  "text/plain": [
                     "Validation: |          | 0/? [00:00<?, ?it/s]"
                  ]
               },
               "metadata": {},
               "output_type": "display_data"
            },
            {
               "data": {
                  "application/vnd.jupyter.widget-view+json": {
                     "model_id": "3c9b511ad6544aa3ba38ce1ae547cd4a",
                     "version_major": 2,
                     "version_minor": 0
                  },
                  "text/plain": [
                     "Validation: |          | 0/? [00:00<?, ?it/s]"
                  ]
               },
               "metadata": {},
               "output_type": "display_data"
            },
            {
               "data": {
                  "application/vnd.jupyter.widget-view+json": {
                     "model_id": "239fed62a811485191a4aed14eb0abff",
                     "version_major": 2,
                     "version_minor": 0
                  },
                  "text/plain": [
                     "Validation: |          | 0/? [00:00<?, ?it/s]"
                  ]
               },
               "metadata": {},
               "output_type": "display_data"
            },
            {
               "data": {
                  "application/vnd.jupyter.widget-view+json": {
                     "model_id": "16069fd98b7b4fbea180dc20a9fd6dbf",
                     "version_major": 2,
                     "version_minor": 0
                  },
                  "text/plain": [
                     "Validation: |          | 0/? [00:00<?, ?it/s]"
                  ]
               },
               "metadata": {},
               "output_type": "display_data"
            },
            {
               "data": {
                  "application/vnd.jupyter.widget-view+json": {
                     "model_id": "beb043b069bd4d8db83357eadb445e3d",
                     "version_major": 2,
                     "version_minor": 0
                  },
                  "text/plain": [
                     "Validation: |          | 0/? [00:00<?, ?it/s]"
                  ]
               },
               "metadata": {},
               "output_type": "display_data"
            },
            {
               "data": {
                  "application/vnd.jupyter.widget-view+json": {
                     "model_id": "8d6a2601055646cd9a6e64d3f49a4926",
                     "version_major": 2,
                     "version_minor": 0
                  },
                  "text/plain": [
                     "Validation: |          | 0/? [00:00<?, ?it/s]"
                  ]
               },
               "metadata": {},
               "output_type": "display_data"
            },
            {
               "data": {
                  "application/vnd.jupyter.widget-view+json": {
                     "model_id": "ddbce0b6d87c470ca138e0a2e76e644e",
                     "version_major": 2,
                     "version_minor": 0
                  },
                  "text/plain": [
                     "Validation: |          | 0/? [00:00<?, ?it/s]"
                  ]
               },
               "metadata": {},
               "output_type": "display_data"
            },
            {
               "data": {
                  "application/vnd.jupyter.widget-view+json": {
                     "model_id": "ddf0eaf670ec45c69a76e9b108e1d905",
                     "version_major": 2,
                     "version_minor": 0
                  },
                  "text/plain": [
                     "Validation: |          | 0/? [00:00<?, ?it/s]"
                  ]
               },
               "metadata": {},
               "output_type": "display_data"
            },
            {
               "name": "stdout",
               "output_type": "stream",
               "text": [
                  "The following parameters were not found in the YAML file and will use defaults:\n",
                  "  - scheduler_factor (model-specific)\n",
                  "  - scheduler_patience (model-specific)\n"
               ]
            },
            {
               "data": {
                  "application/vnd.jupyter.widget-view+json": {
                     "model_id": "49b1adc0bdc345cbaa60652c63960d4d",
                     "version_major": 2,
                     "version_minor": 0
                  },
                  "text/plain": [
                     "Sanity Checking: |          | 0/? [00:00<?, ?it/s]"
                  ]
               },
               "metadata": {},
               "output_type": "display_data"
            },
            {
               "data": {
                  "application/vnd.jupyter.widget-view+json": {
                     "model_id": "8b8e6904fbfd4097b79e5fdf7ba702d7",
                     "version_major": 2,
                     "version_minor": 0
                  },
                  "text/plain": [
                     "Training: |          | 0/? [00:00<?, ?it/s]"
                  ]
               },
               "metadata": {},
               "output_type": "display_data"
            },
            {
               "data": {
                  "application/vnd.jupyter.widget-view+json": {
                     "model_id": "1a03196ed3e5497085f649284665f0c7",
                     "version_major": 2,
                     "version_minor": 0
                  },
                  "text/plain": [
                     "Validation: |          | 0/? [00:00<?, ?it/s]"
                  ]
               },
               "metadata": {},
               "output_type": "display_data"
            },
            {
               "data": {
                  "application/vnd.jupyter.widget-view+json": {
                     "model_id": "c8689cacc6e14094a99bba46e71286c9",
                     "version_major": 2,
                     "version_minor": 0
                  },
                  "text/plain": [
                     "Validation: |          | 0/? [00:00<?, ?it/s]"
                  ]
               },
               "metadata": {},
               "output_type": "display_data"
            },
            {
               "data": {
                  "application/vnd.jupyter.widget-view+json": {
                     "model_id": "e204ed6d97fb4115beb68364dcc51b0d",
                     "version_major": 2,
                     "version_minor": 0
                  },
                  "text/plain": [
                     "Validation: |          | 0/? [00:00<?, ?it/s]"
                  ]
               },
               "metadata": {},
               "output_type": "display_data"
            },
            {
               "data": {
                  "application/vnd.jupyter.widget-view+json": {
                     "model_id": "bf132ecaa5e146c98718d752306d5040",
                     "version_major": 2,
                     "version_minor": 0
                  },
                  "text/plain": [
                     "Validation: |          | 0/? [00:00<?, ?it/s]"
                  ]
               },
               "metadata": {},
               "output_type": "display_data"
            },
            {
               "data": {
                  "application/vnd.jupyter.widget-view+json": {
                     "model_id": "814d229d16b943e6a15db503e693e1f3",
                     "version_major": 2,
                     "version_minor": 0
                  },
                  "text/plain": [
                     "Validation: |          | 0/? [00:00<?, ?it/s]"
                  ]
               },
               "metadata": {},
               "output_type": "display_data"
            },
            {
               "data": {
                  "application/vnd.jupyter.widget-view+json": {
                     "model_id": "9bddbae7cbcc42b48ceda00f8b2106a4",
                     "version_major": 2,
                     "version_minor": 0
                  },
                  "text/plain": [
                     "Validation: |          | 0/? [00:00<?, ?it/s]"
                  ]
               },
               "metadata": {},
               "output_type": "display_data"
            },
            {
               "data": {
                  "application/vnd.jupyter.widget-view+json": {
                     "model_id": "0ac695c0a43c4ef082ffd77c1f5fa663",
                     "version_major": 2,
                     "version_minor": 0
                  },
                  "text/plain": [
                     "Validation: |          | 0/? [00:00<?, ?it/s]"
                  ]
               },
               "metadata": {},
               "output_type": "display_data"
            },
            {
               "data": {
                  "application/vnd.jupyter.widget-view+json": {
                     "model_id": "75687bf38c71413f8076e2d58ae61c52",
                     "version_major": 2,
                     "version_minor": 0
                  },
                  "text/plain": [
                     "Validation: |          | 0/? [00:00<?, ?it/s]"
                  ]
               },
               "metadata": {},
               "output_type": "display_data"
            },
            {
               "data": {
                  "application/vnd.jupyter.widget-view+json": {
                     "model_id": "892171316d3347dd9e5a24b39ad1a206",
                     "version_major": 2,
                     "version_minor": 0
                  },
                  "text/plain": [
                     "Validation: |          | 0/? [00:00<?, ?it/s]"
                  ]
               },
               "metadata": {},
               "output_type": "display_data"
            },
            {
               "data": {
                  "application/vnd.jupyter.widget-view+json": {
                     "model_id": "800e4acf2c644aac823d162a577d3a01",
                     "version_major": 2,
                     "version_minor": 0
                  },
                  "text/plain": [
                     "Validation: |          | 0/? [00:00<?, ?it/s]"
                  ]
               },
               "metadata": {},
               "output_type": "display_data"
            },
            {
               "data": {
                  "application/vnd.jupyter.widget-view+json": {
                     "model_id": "03d54b71dc274d1d92b901c9d6f3d02d",
                     "version_major": 2,
                     "version_minor": 0
                  },
                  "text/plain": [
                     "Validation: |          | 0/? [00:00<?, ?it/s]"
                  ]
               },
               "metadata": {},
               "output_type": "display_data"
            },
            {
               "data": {
                  "application/vnd.jupyter.widget-view+json": {
                     "model_id": "9280daf8119f4072ac779f1cec2b5911",
                     "version_major": 2,
                     "version_minor": 0
                  },
                  "text/plain": [
                     "Validation: |          | 0/? [00:00<?, ?it/s]"
                  ]
               },
               "metadata": {},
               "output_type": "display_data"
            },
            {
               "data": {
                  "application/vnd.jupyter.widget-view+json": {
                     "model_id": "b28df96b0c304e5db8b0da49c67dd911",
                     "version_major": 2,
                     "version_minor": 0
                  },
                  "text/plain": [
                     "Validation: |          | 0/? [00:00<?, ?it/s]"
                  ]
               },
               "metadata": {},
               "output_type": "display_data"
            },
            {
               "data": {
                  "application/vnd.jupyter.widget-view+json": {
                     "model_id": "3f771242742d413a8435954878e55763",
                     "version_major": 2,
                     "version_minor": 0
                  },
                  "text/plain": [
                     "Validation: |          | 0/? [00:00<?, ?it/s]"
                  ]
               },
               "metadata": {},
               "output_type": "display_data"
            },
            {
               "data": {
                  "application/vnd.jupyter.widget-view+json": {
                     "model_id": "6469e8ba5d1f4468a37cdc153e5b1b18",
                     "version_major": 2,
                     "version_minor": 0
                  },
                  "text/plain": [
                     "Validation: |          | 0/? [00:00<?, ?it/s]"
                  ]
               },
               "metadata": {},
               "output_type": "display_data"
            },
            {
               "data": {
                  "application/vnd.jupyter.widget-view+json": {
                     "model_id": "a8aa9b65e8f94b6eb77f8365d966a12d",
                     "version_major": 2,
                     "version_minor": 0
                  },
                  "text/plain": [
                     "Validation: |          | 0/? [00:00<?, ?it/s]"
                  ]
               },
               "metadata": {},
               "output_type": "display_data"
            },
            {
               "data": {
                  "application/vnd.jupyter.widget-view+json": {
                     "model_id": "96c4653cf82d45cbb227f475c0ffc11e",
                     "version_major": 2,
                     "version_minor": 0
                  },
                  "text/plain": [
                     "Validation: |          | 0/? [00:00<?, ?it/s]"
                  ]
               },
               "metadata": {},
               "output_type": "display_data"
            },
            {
               "data": {
                  "application/vnd.jupyter.widget-view+json": {
                     "model_id": "e97e209a5baa485688271ffa786ea463",
                     "version_major": 2,
                     "version_minor": 0
                  },
                  "text/plain": [
                     "Validation: |          | 0/? [00:00<?, ?it/s]"
                  ]
               },
               "metadata": {},
               "output_type": "display_data"
            },
            {
               "data": {
                  "application/vnd.jupyter.widget-view+json": {
                     "model_id": "27384de52478408f8ab402fcd1e9911f",
                     "version_major": 2,
                     "version_minor": 0
                  },
                  "text/plain": [
                     "Validation: |          | 0/? [00:00<?, ?it/s]"
                  ]
               },
               "metadata": {},
               "output_type": "display_data"
            },
            {
               "data": {
                  "application/vnd.jupyter.widget-view+json": {
                     "model_id": "9258666853a34d5682ee4092b8ec0ffc",
                     "version_major": 2,
                     "version_minor": 0
                  },
                  "text/plain": [
                     "Validation: |          | 0/? [00:00<?, ?it/s]"
                  ]
               },
               "metadata": {},
               "output_type": "display_data"
            },
            {
               "data": {
                  "application/vnd.jupyter.widget-view+json": {
                     "model_id": "b0f5e20888df4abc840eaae546c34aa5",
                     "version_major": 2,
                     "version_minor": 0
                  },
                  "text/plain": [
                     "Validation: |          | 0/? [00:00<?, ?it/s]"
                  ]
               },
               "metadata": {},
               "output_type": "display_data"
            },
            {
               "data": {
                  "application/vnd.jupyter.widget-view+json": {
                     "model_id": "de40f09bd522417dbe3001488454ba7f",
                     "version_major": 2,
                     "version_minor": 0
                  },
                  "text/plain": [
                     "Validation: |          | 0/? [00:00<?, ?it/s]"
                  ]
               },
               "metadata": {},
               "output_type": "display_data"
            },
            {
               "data": {
                  "application/vnd.jupyter.widget-view+json": {
                     "model_id": "28a8f5909a4045c5a1378162f65b4b7a",
                     "version_major": 2,
                     "version_minor": 0
                  },
                  "text/plain": [
                     "Validation: |          | 0/? [00:00<?, ?it/s]"
                  ]
               },
               "metadata": {},
               "output_type": "display_data"
            },
            {
               "data": {
                  "application/vnd.jupyter.widget-view+json": {
                     "model_id": "838cf9479c90412e8a1038783516c44b",
                     "version_major": 2,
                     "version_minor": 0
                  },
                  "text/plain": [
                     "Validation: |          | 0/? [00:00<?, ?it/s]"
                  ]
               },
               "metadata": {},
               "output_type": "display_data"
            },
            {
               "data": {
                  "application/vnd.jupyter.widget-view+json": {
                     "model_id": "47b106e804f148afaf70e67218e37f41",
                     "version_major": 2,
                     "version_minor": 0
                  },
                  "text/plain": [
                     "Validation: |          | 0/? [00:00<?, ?it/s]"
                  ]
               },
               "metadata": {},
               "output_type": "display_data"
            },
            {
               "data": {
                  "application/vnd.jupyter.widget-view+json": {
                     "model_id": "920aafa340a7425cacf20b61f4a8d4cb",
                     "version_major": 2,
                     "version_minor": 0
                  },
                  "text/plain": [
                     "Validation: |          | 0/? [00:00<?, ?it/s]"
                  ]
               },
               "metadata": {},
               "output_type": "display_data"
            },
            {
               "data": {
                  "application/vnd.jupyter.widget-view+json": {
                     "model_id": "22485b5610454167be9f706a1eb8b5cf",
                     "version_major": 2,
                     "version_minor": 0
                  },
                  "text/plain": [
                     "Validation: |          | 0/? [00:00<?, ?it/s]"
                  ]
               },
               "metadata": {},
               "output_type": "display_data"
            },
            {
               "data": {
                  "application/vnd.jupyter.widget-view+json": {
                     "model_id": "56b22163a72e4725bf631e2d4a7ac355",
                     "version_major": 2,
                     "version_minor": 0
                  },
                  "text/plain": [
                     "Validation: |          | 0/? [00:00<?, ?it/s]"
                  ]
               },
               "metadata": {},
               "output_type": "display_data"
            },
            {
               "data": {
                  "application/vnd.jupyter.widget-view+json": {
                     "model_id": "edea2ee8bdf34dceb4c8074aad95db52",
                     "version_major": 2,
                     "version_minor": 0
                  },
                  "text/plain": [
                     "Validation: |          | 0/? [00:00<?, ?it/s]"
                  ]
               },
               "metadata": {},
               "output_type": "display_data"
            },
            {
               "data": {
                  "application/vnd.jupyter.widget-view+json": {
                     "model_id": "683384adc5fe4fa69c7e0a6ea63f2c07",
                     "version_major": 2,
                     "version_minor": 0
                  },
                  "text/plain": [
                     "Validation: |          | 0/? [00:00<?, ?it/s]"
                  ]
               },
               "metadata": {},
               "output_type": "display_data"
            },
            {
               "data": {
                  "application/vnd.jupyter.widget-view+json": {
                     "model_id": "a94bbe51594c42c5b8d6a151f49964a9",
                     "version_major": 2,
                     "version_minor": 0
                  },
                  "text/plain": [
                     "Validation: |          | 0/? [00:00<?, ?it/s]"
                  ]
               },
               "metadata": {},
               "output_type": "display_data"
            },
            {
               "data": {
                  "application/vnd.jupyter.widget-view+json": {
                     "model_id": "321ba2f6055047beb9d5212975822186",
                     "version_major": 2,
                     "version_minor": 0
                  },
                  "text/plain": [
                     "Validation: |          | 0/? [00:00<?, ?it/s]"
                  ]
               },
               "metadata": {},
               "output_type": "display_data"
            },
            {
               "data": {
                  "application/vnd.jupyter.widget-view+json": {
                     "model_id": "6145cffa56104515b00166639aa71e9e",
                     "version_major": 2,
                     "version_minor": 0
                  },
                  "text/plain": [
                     "Validation: |          | 0/? [00:00<?, ?it/s]"
                  ]
               },
               "metadata": {},
               "output_type": "display_data"
            },
            {
               "data": {
                  "application/vnd.jupyter.widget-view+json": {
                     "model_id": "c39f19e350a84cfc835aba8fc235ad40",
                     "version_major": 2,
                     "version_minor": 0
                  },
                  "text/plain": [
                     "Validation: |          | 0/? [00:00<?, ?it/s]"
                  ]
               },
               "metadata": {},
               "output_type": "display_data"
            },
            {
               "data": {
                  "application/vnd.jupyter.widget-view+json": {
                     "model_id": "16122b3727874cbd80abe154f82b94be",
                     "version_major": 2,
                     "version_minor": 0
                  },
                  "text/plain": [
                     "Validation: |          | 0/? [00:00<?, ?it/s]"
                  ]
               },
               "metadata": {},
               "output_type": "display_data"
            },
            {
               "data": {
                  "application/vnd.jupyter.widget-view+json": {
                     "model_id": "6c15c0d9f78b49a792f0c87cc8c3557c",
                     "version_major": 2,
                     "version_minor": 0
                  },
                  "text/plain": [
                     "Validation: |          | 0/? [00:00<?, ?it/s]"
                  ]
               },
               "metadata": {},
               "output_type": "display_data"
            },
            {
               "data": {
                  "application/vnd.jupyter.widget-view+json": {
                     "model_id": "5ebabf51360a4a96aef8f4940c46b5e5",
                     "version_major": 2,
                     "version_minor": 0
                  },
                  "text/plain": [
                     "Validation: |          | 0/? [00:00<?, ?it/s]"
                  ]
               },
               "metadata": {},
               "output_type": "display_data"
            },
            {
               "data": {
                  "application/vnd.jupyter.widget-view+json": {
                     "model_id": "067c8854ba244aa084ba356157f572f8",
                     "version_major": 2,
                     "version_minor": 0
                  },
                  "text/plain": [
                     "Validation: |          | 0/? [00:00<?, ?it/s]"
                  ]
               },
               "metadata": {},
               "output_type": "display_data"
            },
            {
               "data": {
                  "application/vnd.jupyter.widget-view+json": {
                     "model_id": "5da5e46ac9a24a3dabb8db7cf49352de",
                     "version_major": 2,
                     "version_minor": 0
                  },
                  "text/plain": [
                     "Validation: |          | 0/? [00:00<?, ?it/s]"
                  ]
               },
               "metadata": {},
               "output_type": "display_data"
            },
            {
               "data": {
                  "application/vnd.jupyter.widget-view+json": {
                     "model_id": "430a256bb8764b2b81fdc7a6de691a11",
                     "version_major": 2,
                     "version_minor": 0
                  },
                  "text/plain": [
                     "Validation: |          | 0/? [00:00<?, ?it/s]"
                  ]
               },
               "metadata": {},
               "output_type": "display_data"
            },
            {
               "data": {
                  "application/vnd.jupyter.widget-view+json": {
                     "model_id": "b4246dbbca2d41bf8b34eb80063e0439",
                     "version_major": 2,
                     "version_minor": 0
                  },
                  "text/plain": [
                     "Validation: |          | 0/? [00:00<?, ?it/s]"
                  ]
               },
               "metadata": {},
               "output_type": "display_data"
            },
            {
               "data": {
                  "application/vnd.jupyter.widget-view+json": {
                     "model_id": "5673105dc925449ca8bcce1c6b4e8178",
                     "version_major": 2,
                     "version_minor": 0
                  },
                  "text/plain": [
                     "Validation: |          | 0/? [00:00<?, ?it/s]"
                  ]
               },
               "metadata": {},
               "output_type": "display_data"
            },
            {
               "data": {
                  "application/vnd.jupyter.widget-view+json": {
                     "model_id": "80c16e02c7df4a77b754c0bc042d0316",
                     "version_major": 2,
                     "version_minor": 0
                  },
                  "text/plain": [
                     "Validation: |          | 0/? [00:00<?, ?it/s]"
                  ]
               },
               "metadata": {},
               "output_type": "display_data"
            },
            {
               "data": {
                  "application/vnd.jupyter.widget-view+json": {
                     "model_id": "262fa0c0114348f5be805c1ce529c0a5",
                     "version_major": 2,
                     "version_minor": 0
                  },
                  "text/plain": [
                     "Validation: |          | 0/? [00:00<?, ?it/s]"
                  ]
               },
               "metadata": {},
               "output_type": "display_data"
            },
            {
               "data": {
                  "application/vnd.jupyter.widget-view+json": {
                     "model_id": "7e248cfc8b004587822fc6fefc01f0de",
                     "version_major": 2,
                     "version_minor": 0
                  },
                  "text/plain": [
                     "Validation: |          | 0/? [00:00<?, ?it/s]"
                  ]
               },
               "metadata": {},
               "output_type": "display_data"
            },
            {
               "data": {
                  "application/vnd.jupyter.widget-view+json": {
                     "model_id": "a73516cd0575410ea3cf76e5016c645a",
                     "version_major": 2,
                     "version_minor": 0
                  },
                  "text/plain": [
                     "Validation: |          | 0/? [00:00<?, ?it/s]"
                  ]
               },
               "metadata": {},
               "output_type": "display_data"
            },
            {
               "data": {
                  "application/vnd.jupyter.widget-view+json": {
                     "model_id": "ae0cbf926edf493086fae8ffc148a84a",
                     "version_major": 2,
                     "version_minor": 0
                  },
                  "text/plain": [
                     "Validation: |          | 0/? [00:00<?, ?it/s]"
                  ]
               },
               "metadata": {},
               "output_type": "display_data"
            },
            {
               "data": {
                  "application/vnd.jupyter.widget-view+json": {
                     "model_id": "c1385d490ccd4ad398c5127ee3843cfc",
                     "version_major": 2,
                     "version_minor": 0
                  },
                  "text/plain": [
                     "Validation: |          | 0/? [00:00<?, ?it/s]"
                  ]
               },
               "metadata": {},
               "output_type": "display_data"
            },
            {
               "data": {
                  "application/vnd.jupyter.widget-view+json": {
                     "model_id": "92bf08b5cbeb460ebc3e21a6dd2ff1f6",
                     "version_major": 2,
                     "version_minor": 0
                  },
                  "text/plain": [
                     "Validation: |          | 0/? [00:00<?, ?it/s]"
                  ]
               },
               "metadata": {},
               "output_type": "display_data"
            },
            {
               "data": {
                  "application/vnd.jupyter.widget-view+json": {
                     "model_id": "d492ae97bb384663b8c6631786c2fd7e",
                     "version_major": 2,
                     "version_minor": 0
                  },
                  "text/plain": [
                     "Validation: |          | 0/? [00:00<?, ?it/s]"
                  ]
               },
               "metadata": {},
               "output_type": "display_data"
            },
            {
               "data": {
                  "application/vnd.jupyter.widget-view+json": {
                     "model_id": "b0fb9498780b456699a2463ff862b63a",
                     "version_major": 2,
                     "version_minor": 0
                  },
                  "text/plain": [
                     "Validation: |          | 0/? [00:00<?, ?it/s]"
                  ]
               },
               "metadata": {},
               "output_type": "display_data"
            },
            {
               "data": {
                  "application/vnd.jupyter.widget-view+json": {
                     "model_id": "f76bcced47dc479686a478aa0ea1181a",
                     "version_major": 2,
                     "version_minor": 0
                  },
                  "text/plain": [
                     "Validation: |          | 0/? [00:00<?, ?it/s]"
                  ]
               },
               "metadata": {},
               "output_type": "display_data"
            },
            {
               "data": {
                  "application/vnd.jupyter.widget-view+json": {
                     "model_id": "cc1fbfa542da428fad0995f5308ee05a",
                     "version_major": 2,
                     "version_minor": 0
                  },
                  "text/plain": [
                     "Validation: |          | 0/? [00:00<?, ?it/s]"
                  ]
               },
               "metadata": {},
               "output_type": "display_data"
            },
            {
               "data": {
                  "application/vnd.jupyter.widget-view+json": {
                     "model_id": "a3671e8960e243a3aa80f2bdb3c49dd8",
                     "version_major": 2,
                     "version_minor": 0
                  },
                  "text/plain": [
                     "Validation: |          | 0/? [00:00<?, ?it/s]"
                  ]
               },
               "metadata": {},
               "output_type": "display_data"
            }
         ],
         "source": [
            "train_results = train_model_from_scratch(\n",
            "    gauge_ids=basin_ids,\n",
            "    datamodule_config=datamodule_config,\n",
            "    training_config=training_config,\n",
            "    output_dir=output_dir,\n",
            "    model_types=model_types,\n",
            "    yaml_paths=yaml_paths,\n",
            "    experiment_name=experiment_name,\n",
            "    num_runs=num_runs,\n",
            "    override_previous_attempts=override_previous_attempts,\n",
            "    base_seed=1\n",
            ")"
         ]
      }
   ],
   "metadata": {
      "kernelspec": {
         "display_name": "Python 3",
         "language": "python",
         "name": "python3"
      },
      "language_info": {
         "codemirror_mode": {
            "name": "ipython",
            "version": 3
         },
         "file_extension": ".py",
         "mimetype": "text/x-python",
         "name": "python",
         "nbconvert_exporter": "python",
         "pygments_lexer": "ipython3",
         "version": "3.10.12"
      }
   },
   "nbformat": 4,
   "nbformat_minor": 5
}
