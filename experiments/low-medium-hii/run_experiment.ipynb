{
   "cells": [
      {
         "cell_type": "code",
         "execution_count": 1,
         "id": "2f2fc10e",
         "metadata": {},
         "outputs": [
            {
               "name": "stdout",
               "output_type": "stream",
               "text": [
                  "[LabBuildApp] JupyterLab 4.0.8\n",
                  "[LabBuildApp] Building in /usr/local/share/jupyter/lab\n",
                  "[LabBuildApp] ERROR | Build failed.\n",
                  "Troubleshooting: If the build failed due to an out-of-memory error, you\n",
                  "may be able to fix it by disabling the `dev_build` and/or `minimize` options.\n",
                  "\n",
                  "If you are building via the `jupyter lab build` command, you can disable\n",
                  "these options like so:\n",
                  "\n",
                  "jupyter lab build --dev-build=False --minimize=False\n",
                  "\n",
                  "You can also disable these options for all JupyterLab builds by adding these\n",
                  "lines to a Jupyter config file named `jupyter_config.py`:\n",
                  "\n",
                  "c.LabBuildApp.minimize = False\n",
                  "c.LabBuildApp.dev_build = False\n",
                  "\n",
                  "If you don't already have a `jupyter_config.py` file, you can create one by\n",
                  "adding a blank file of that name to any of the Jupyter config directories.\n",
                  "The config directories can be listed by running:\n",
                  "\n",
                  "jupyter --paths\n",
                  "\n",
                  "Explanation:\n",
                  "\n",
                  "- `dev-build`: This option controls whether a `dev` or a more streamlined\n",
                  "`production` build is used. This option will default to `False` (i.e., the\n",
                  "`production` build) for most users. However, if you have any labextensions\n",
                  "installed from local files, this option will instead default to `True`.\n",
                  "Explicitly setting `dev-build` to `False` will ensure that the `production`\n",
                  "build is used in all circumstances.\n",
                  "\n",
                  "- `minimize`: This option controls whether your JS bundle is minified\n",
                  "during the Webpack build, which helps to improve JupyterLab's overall\n",
                  "performance. However, the minifier plugin used by Webpack is very memory\n",
                  "intensive, so turning it off may help the build finish successfully in\n",
                  "low-memory environments.\n",
                  "\n",
                  "/usr/local/lib/python3.10/dist-packages/jupyterlab/debuglog.py:56: UserWarning: An error occurred.\n",
                  "  warnings.warn(\"An error occurred.\")\n",
                  "/usr/local/lib/python3.10/dist-packages/jupyterlab/debuglog.py:57: UserWarning: ValueError: Please install Node.js and npm before continuing installation. You may be able to install Node.js from your package manager, from conda, or directly from the Node.js website (https://nodejs.org).\n",
                  "  warnings.warn(msg[-1].strip())\n",
                  "/usr/local/lib/python3.10/dist-packages/jupyterlab/debuglog.py:58: UserWarning: See the log file for details: /tmp/jupyterlab-debug-51c20g64.log\n",
                  "  warnings.warn(f\"See the log file for details: {log_path!s}\")\n"
               ]
            }
         ],
         "source": [
            "!jupyter lab build"
         ]
      },
      {
         "cell_type": "code",
         "execution_count": 2,
         "id": "659bed6b",
         "metadata": {},
         "outputs": [],
         "source": [
            "import sys\n",
            "from pathlib import Path\n",
            "\n",
            "# Add src directory to Python path\n",
            "project_root = Path.cwd().parent.parent\n",
            "src_path = project_root / \"src\"\n",
            "if str(src_path) not in sys.path:\n",
            "    sys.path.insert(0, str(src_path))\n",
            "    print(f\"Added {src_path} to Python path\")"
         ]
      },
      {
         "cell_type": "code",
         "execution_count": 3,
         "id": "f65efe2c",
         "metadata": {},
         "outputs": [
            {
               "name": "stderr",
               "output_type": "stream",
               "text": [
                  "/usr/local/lib/python3.10/dist-packages/torchvision/io/image.py:13: UserWarning: Failed to load image Python extension: '/usr/local/lib/python3.10/dist-packages/torchvision/image.so: undefined symbol: _ZN3c1017RegisterOperatorsD1Ev'If you don't plan on using image functionality from `torchvision.io`, you can ignore this warning. Otherwise, there might be something wrong with your environment. Did you have `libjpeg` or `libpng` installed before building `torchvision` from source?\n",
                  "  warn(\n"
               ]
            }
         ],
         "source": [
            "import torch\n",
            "from sklearn.pipeline import Pipeline\n",
            "\n",
            "from hydro_forecasting.data.caravanify_parquet import (\n",
            "    CaravanifyParquet,\n",
            "    CaravanifyParquetConfig,\n",
            ")\n",
            "from hydro_forecasting.experiment_utils.train_model_from_scratch import train_model_from_scratch\n",
            "from hydro_forecasting.preprocessing.grouped import GroupedPipeline\n",
            "from hydro_forecasting.preprocessing.normalize import NormalizeTransformer\n",
            "from hydro_forecasting.preprocessing.standard_scale import StandardScaleTransformer"
         ]
      },
      {
         "cell_type": "markdown",
         "id": "5e7c3393",
         "metadata": {},
         "source": [
            "---"
         ]
      },
      {
         "cell_type": "markdown",
         "id": "dab68b34",
         "metadata": {},
         "source": [
            "## Experiment constants"
         ]
      },
      {
         "cell_type": "code",
         "execution_count": 4,
         "id": "7a6885fe",
         "metadata": {},
         "outputs": [],
         "source": [
            "REGIONS = [\n",
            "    \"CL\",\n",
            "    \"CH\",\n",
            "    \"USA\",\n",
            "    \"camelsaus\",\n",
            "    \"camelsgb\",\n",
            "    \"camelsbr\",\n",
            "    \"hysets\",\n",
            "    \"lamah\",\n",
            "]\n",
            "\n",
            "COUNTRY = \"tajikistan\""
         ]
      },
      {
         "cell_type": "markdown",
         "id": "2533b81f",
         "metadata": {},
         "source": [
            "## Loading the data (as gauge_ids)"
         ]
      },
      {
         "cell_type": "code",
         "execution_count": 5,
         "id": "ed0ce646",
         "metadata": {},
         "outputs": [
            {
               "name": "stdout",
               "output_type": "stream",
               "text": [
                  "Loading basin IDs for region: CL\n",
                  "Original gauge_ids: 505\n",
                  "Filtered gauge_ids: 487\n",
                  "Loading basin IDs for region: CH\n",
                  "Original gauge_ids: 135\n",
                  "Filtered gauge_ids: 0\n",
                  "No gauge_ids matched the specified human influence categories.\n",
                  "Loading basin IDs for region: USA\n",
                  "Original gauge_ids: 671\n",
                  "Filtered gauge_ids: 567\n",
                  "Loading basin IDs for region: camelsaus\n",
                  "Original gauge_ids: 222\n",
                  "Filtered gauge_ids: 215\n",
                  "Loading basin IDs for region: camelsgb\n",
                  "Original gauge_ids: 671\n",
                  "Filtered gauge_ids: 538\n",
                  "Loading basin IDs for region: camelsbr\n",
                  "Original gauge_ids: 870\n",
                  "Filtered gauge_ids: 868\n",
                  "Loading basin IDs for region: hysets\n",
                  "Original gauge_ids: 12162\n",
                  "Filtered gauge_ids: 8463\n",
                  "Loading basin IDs for region: lamah\n",
                  "Original gauge_ids: 859\n",
                  "Filtered gauge_ids: 812\n"
               ]
            }
         ],
         "source": [
            "def load_basin_ids(regions, human_influence_path: str, human_influence_categories: list):\n",
            "    \"\"\"\n",
            "    Simple function to load basin IDs from multiple regions and filter by human influence.\n",
            "\n",
            "    Args:\n",
            "        regions: List of region names to process\n",
            "        human_influence_path: Path to human influence classification file\n",
            "        human_influence_categories: Categories of human influence to keep\n",
            "\n",
            "    Returns:\n",
            "        List of filtered basin IDs\n",
            "    \"\"\"\n",
            "\n",
            "    human_influence_path = Path(human_influence_path)\n",
            "\n",
            "    basin_ids = []\n",
            "\n",
            "    for region in regions:\n",
            "        print(f\"Loading basin IDs for region: {region}\")\n",
            "        # Set up paths\n",
            "        attributes_dir = f\"/workspace/CaravanifyParquet/{region}/post_processed/attributes\"\n",
            "        timeseries_dir = f\"/workspace/CaravanifyParquet/{region}/post_processed/timeseries/csv\"\n",
            "\n",
            "        # Create config\n",
            "        config = CaravanifyParquetConfig(\n",
            "            attributes_dir=attributes_dir,\n",
            "            timeseries_dir=timeseries_dir,\n",
            "            human_influence_path=human_influence_path,\n",
            "            gauge_id_prefix=region,\n",
            "            use_hydroatlas_attributes=True,\n",
            "            use_caravan_attributes=True,\n",
            "            use_other_attributes=True,\n",
            "        )\n",
            "\n",
            "        # Get and filter basin IDs\n",
            "        caravan = CaravanifyParquet(config)\n",
            "        region_basin_ids = caravan.get_all_gauge_ids()\n",
            "\n",
            "        # Filter by human influence if path provided\n",
            "        if human_influence_path and human_influence_path.exists():\n",
            "            filtered_ids, _ = caravan.filter_gauge_ids_by_human_influence(region_basin_ids, human_influence_categories)\n",
            "        else:\n",
            "            filtered_ids = region_basin_ids\n",
            "\n",
            "        basin_ids.extend(filtered_ids)\n",
            "\n",
            "    # Return unique, sorted basin IDs\n",
            "    return sorted(set(basin_ids))\n",
            "\n",
            "\n",
            "basin_ids = load_basin_ids(\n",
            "    REGIONS,\n",
            "    human_influence_path=\"/workspace/hydro-forecasting/scripts/human_influence_index/results/human_influence_classification.parquet\",\n",
            "    human_influence_categories=[\"Low\", \"Medium\"],\n",
            ")"
         ]
      },
      {
         "cell_type": "markdown",
         "id": "73f9edf0",
         "metadata": {},
         "source": [
            "## Datamodule Configs"
         ]
      },
      {
         "cell_type": "code",
         "execution_count": 6,
         "id": "c2ea76fb",
         "metadata": {},
         "outputs": [],
         "source": [
            "region_time_series_base_dirs = {\n",
            "    region: f\"/workspace/CaravanifyParquet/{region}/post_processed/timeseries/csv/{region}\" for region in REGIONS\n",
            "}\n",
            "\n",
            "region_static_attributes_base_dirs = {\n",
            "    region: f\"/workspace/CaravanifyParquet/{region}/post_processed/attributes/{region}\" for region in REGIONS\n",
            "}\n",
            "\n",
            "path_to_preprocessing_output_directory = \"/workspace/hydro-forecasting/experiments/low-medium-hii/data_cache\""
         ]
      },
      {
         "cell_type": "code",
         "execution_count": 7,
         "id": "f14911d3",
         "metadata": {},
         "outputs": [],
         "source": [
            "forcing_features = [\n",
            "    \"snow_depth_water_equivalent_mean\",\n",
            "    \"surface_net_solar_radiation_mean\",\n",
            "    \"surface_net_thermal_radiation_mean\",\n",
            "    \"potential_evaporation_sum_ERA5_LAND\",\n",
            "    \"potential_evaporation_sum_FAO_PENMAN_MONTEITH\",\n",
            "    \"temperature_2m_mean\",\n",
            "    \"temperature_2m_min\",\n",
            "    \"temperature_2m_max\",\n",
            "    \"total_precipitation_sum\",\n",
            "]\n",
            "\n",
            "static_features = [\n",
            "    \"p_mean\",\n",
            "    \"area\",\n",
            "    \"ele_mt_sav\",\n",
            "    \"high_prec_dur\",\n",
            "    \"frac_snow\",\n",
            "    \"high_prec_freq\",\n",
            "    \"slp_dg_sav\",\n",
            "    \"cly_pc_sav\",\n",
            "    \"aridity_ERA5_LAND\",\n",
            "    \"aridity_FAO_PM\",\n",
            "]\n",
            "\n",
            "target = \"streamflow\""
         ]
      },
      {
         "cell_type": "code",
         "execution_count": 8,
         "id": "962da35a",
         "metadata": {},
         "outputs": [],
         "source": [
            "feature_pipeline = GroupedPipeline(\n",
            "    Pipeline([(\"scaler\", StandardScaleTransformer()), (\"normalizer\", NormalizeTransformer())]),\n",
            "    columns=forcing_features,\n",
            "    group_identifier=\"gauge_id\",\n",
            ")\n",
            "\n",
            "target_pipeline = GroupedPipeline(\n",
            "    Pipeline([(\"scaler\", StandardScaleTransformer()), (\"normalizer\", NormalizeTransformer())]),\n",
            "    columns=[\"streamflow\"],\n",
            "    group_identifier=\"gauge_id\",\n",
            ")\n",
            "\n",
            "static_pipeline = Pipeline([(\"scaler\", StandardScaleTransformer())])\n",
            "\n",
            "preprocessing_config = {\n",
            "    \"features\": {\"pipeline\": feature_pipeline},\n",
            "    \"target\": {\"pipeline\": target_pipeline},\n",
            "    \"static_features\": {\"pipeline\": static_pipeline, \"columns\": static_features},\n",
            "}"
         ]
      },
      {
         "cell_type": "code",
         "execution_count": 9,
         "id": "cd0f0b66",
         "metadata": {},
         "outputs": [],
         "source": [
            "datamodule_config = {\n",
            "    \"region_time_series_base_dirs\": region_time_series_base_dirs,\n",
            "    \"region_static_attributes_base_dirs\": region_static_attributes_base_dirs,\n",
            "    \"path_to_preprocessing_output_directory\": path_to_preprocessing_output_directory,\n",
            "    \"group_identifier\": \"gauge_id\",\n",
            "    \"batch_size\": 2048,\n",
            "    \"forcing_features\": forcing_features,\n",
            "    \"static_features\": static_features,\n",
            "    \"target\": target,\n",
            "    \"num_workers\": 10,\n",
            "    \"min_train_years\": 10,\n",
            "    \"train_prop\": 0.5,\n",
            "    \"val_prop\": 0.25,\n",
            "    \"test_prop\": 0.25,\n",
            "    \"max_imputation_gap_size\": 5,\n",
            "    \"chunk_size\": 1500,\n",
            "    \"validation_chunk_size\": 4000,\n",
            "    \"is_autoregressive\": True,\n",
            "    \"preprocessing_configs\": preprocessing_config,\n",
            "}"
         ]
      },
      {
         "cell_type": "markdown",
         "id": "158363b3",
         "metadata": {},
         "source": [
            "## Training Configs"
         ]
      },
      {
         "cell_type": "code",
         "execution_count": 10,
         "id": "9709710c",
         "metadata": {},
         "outputs": [],
         "source": [
            "training_config = {\n",
            "    \"max_epochs\": 300,\n",
            "    \"accelerator\": \"cuda\" if torch.cuda.is_available() else \"cpu\",\n",
            "    \"devices\": 1,\n",
            "    \"early_stopping_patience\": 30,\n",
            "    \"reload_dataloaders_every_n_epochs\": 1,\n",
            "}"
         ]
      },
      {
         "cell_type": "markdown",
         "id": "38258592",
         "metadata": {},
         "source": [
            "## Remaining Configs"
         ]
      },
      {
         "cell_type": "code",
         "execution_count": null,
         "id": "2274e894",
         "metadata": {},
         "outputs": [],
         "source": [
            "output_dir = \"/workspace/hydro-forecasting/experiments/low-medium-hii\"\n",
            "model_types = [\"tsmixer\"]\n",
            "yaml_paths = [\n",
            "    # f\"/workspace/hydro-forecasting/experiments/yaml-files/{COUNTRY}/tide.yaml\",\n",
            "    # f\"/workspace/hydro-forecasting/experiments/yaml-files/{COUNTRY}/ealstm.yaml\",\n",
            "    f\"/workspace/hydro-forecasting/experiments/yaml-files/{COUNTRY}/tsmixer.yaml\",\n",
            "    # f\"/workspace/hydro-forecasting/experiments/yaml-files/{COUNTRY}/tft.yaml\",\n",
            "]\n",
            "experiment_name = f\"low-medium-hii_{COUNTRY}\"\n",
            "num_runs = 1\n",
            "override_previous_attempts = False"
         ]
      },
      {
         "cell_type": "markdown",
         "id": "fb369289",
         "metadata": {},
         "source": [
            "## Training the models from scratch"
         ]
      },
      {
         "cell_type": "code",
         "execution_count": null,
         "id": "1054c874",
         "metadata": {},
         "outputs": [
            {
               "name": "stderr",
               "output_type": "stream",
               "text": [
                  "INFO:hydro_forecasting.experiment_utils.training_runner:Starting experiment 'low-medium-hii_tajikistan'\n",
                  "INFO:hydro_forecasting.experiment_utils.training_runner:Output directory: /workspace/hydro-forecasting/experiments/low-medium-hii/low-medium-hii_tajikistan\n",
                  "INFO:hydro_forecasting.experiment_utils.training_runner:Models to process: tsmixer\n",
                  "INFO:hydro_forecasting.experiment_utils.training_runner:Number of runs per model: 1\n",
                  "INFO:hydro_forecasting.experiment_utils.training_runner:Processing model (1/1): tsmixer\n",
                  "INFO:hydro_forecasting.experiment_utils.training_runner:Processing model: tsmixer\n",
                  "INFO:hydro_forecasting.data.in_memory_datamodule:Starting data preparation...\n",
                  "INFO:hydro_forecasting.data.in_memory_datamodule:Generated Run UUID for current config: e82931a3-45c7-56ef-a2a8-4f74f03e347d\n",
                  "INFO:hydro_forecasting.data.in_memory_datamodule:Checking for existing processed data at: /workspace/hydro-forecasting/experiments/low-medium-hii/data_cache/e82931a3-45c7-56ef-a2a8-4f74f03e347d\n",
                  "INFO:hydro_forecasting.data.in_memory_datamodule:No reusable data found or reuse failed for UUID e82931a3-45c7-56ef-a2a8-4f74f03e347d. Reason: Run directory not found.. Running preprocessing...\n",
                  "INFO:hydro_forecasting.data.preprocessing:Config saved to /workspace/hydro-forecasting/experiments/low-medium-hii/data_cache/e82931a3-45c7-56ef-a2a8-4f74f03e347d/config.json\n",
                  "INFO:hydro_forecasting.data.preprocessing:Processing static features...\n",
                  "INFO:hydro_forecasting.data.preprocessing:Static features saved to /workspace/hydro-forecasting/experiments/low-medium-hii/data_cache/e82931a3-45c7-56ef-a2a8-4f74f03e347d/processed_static_features.parquet\n",
                  "INFO:hydro_forecasting.data.preprocessing:Static features pipeline saved to /workspace/hydro-forecasting/experiments/low-medium-hii/data_cache/e82931a3-45c7-56ef-a2a8-4f74f03e347d/fitted_static_pipeline.joblib\n",
                  "INFO:hydro_forecasting.data.preprocessing:Starting time series processing for 11950 basins in batches of 50...\n",
                  "INFO:hydro_forecasting.data.preprocessing:--- Processing Batch 1 (50 basins) ---\n"
               ]
            },
            {
               "name": "stdout",
               "output_type": "stream",
               "text": [
                  "INFO: Processed 50 basins, 28 passed quality checks\n"
               ]
            },
            {
               "name": "stderr",
               "output_type": "stream",
               "text": [
                  "INFO:hydro_forecasting.data.preprocessing:--- Finished Batch 1 ---\n",
                  "INFO:hydro_forecasting.data.preprocessing:--- Processing Batch 2 (50 basins) ---\n"
               ]
            },
            {
               "name": "stdout",
               "output_type": "stream",
               "text": [
                  "INFO: Processed 50 basins, 27 passed quality checks\n"
               ]
            },
            {
               "name": "stderr",
               "output_type": "stream",
               "text": [
                  "INFO:hydro_forecasting.data.preprocessing:--- Finished Batch 2 ---\n",
                  "INFO:hydro_forecasting.data.preprocessing:--- Processing Batch 3 (50 basins) ---\n"
               ]
            },
            {
               "name": "stdout",
               "output_type": "stream",
               "text": [
                  "INFO: Processed 50 basins, 27 passed quality checks\n"
               ]
            },
            {
               "name": "stderr",
               "output_type": "stream",
               "text": [
                  "INFO:hydro_forecasting.data.preprocessing:--- Finished Batch 3 ---\n",
                  "INFO:hydro_forecasting.data.preprocessing:--- Processing Batch 4 (50 basins) ---\n"
               ]
            },
            {
               "name": "stdout",
               "output_type": "stream",
               "text": [
                  "INFO: Processed 50 basins, 36 passed quality checks\n"
               ]
            },
            {
               "name": "stderr",
               "output_type": "stream",
               "text": [
                  "INFO:hydro_forecasting.data.preprocessing:--- Finished Batch 4 ---\n",
                  "INFO:hydro_forecasting.data.preprocessing:--- Processing Batch 5 (50 basins) ---\n"
               ]
            },
            {
               "name": "stdout",
               "output_type": "stream",
               "text": [
                  "INFO: Processed 50 basins, 33 passed quality checks\n"
               ]
            },
            {
               "name": "stderr",
               "output_type": "stream",
               "text": [
                  "INFO:hydro_forecasting.data.preprocessing:--- Finished Batch 5 ---\n",
                  "INFO:hydro_forecasting.data.preprocessing:--- Processing Batch 6 (50 basins) ---\n"
               ]
            },
            {
               "name": "stdout",
               "output_type": "stream",
               "text": [
                  "INFO: Processed 50 basins, 34 passed quality checks\n"
               ]
            },
            {
               "name": "stderr",
               "output_type": "stream",
               "text": [
                  "INFO:hydro_forecasting.data.preprocessing:--- Finished Batch 6 ---\n",
                  "INFO:hydro_forecasting.data.preprocessing:--- Processing Batch 7 (50 basins) ---\n"
               ]
            },
            {
               "name": "stdout",
               "output_type": "stream",
               "text": [
                  "INFO: Processed 50 basins, 28 passed quality checks\n"
               ]
            },
            {
               "name": "stderr",
               "output_type": "stream",
               "text": [
                  "INFO:hydro_forecasting.data.preprocessing:--- Finished Batch 7 ---\n",
                  "INFO:hydro_forecasting.data.preprocessing:--- Processing Batch 8 (50 basins) ---\n"
               ]
            },
            {
               "name": "stdout",
               "output_type": "stream",
               "text": [
                  "INFO: Processed 50 basins, 34 passed quality checks\n"
               ]
            },
            {
               "name": "stderr",
               "output_type": "stream",
               "text": [
                  "INFO:hydro_forecasting.data.preprocessing:--- Finished Batch 8 ---\n",
                  "INFO:hydro_forecasting.data.preprocessing:--- Processing Batch 9 (50 basins) ---\n"
               ]
            },
            {
               "name": "stdout",
               "output_type": "stream",
               "text": [
                  "INFO: Processed 50 basins, 24 passed quality checks\n"
               ]
            },
            {
               "name": "stderr",
               "output_type": "stream",
               "text": [
                  "INFO:hydro_forecasting.data.preprocessing:--- Finished Batch 9 ---\n",
                  "INFO:hydro_forecasting.data.preprocessing:--- Processing Batch 10 (50 basins) ---\n"
               ]
            },
            {
               "name": "stdout",
               "output_type": "stream",
               "text": [
                  "INFO: Processed 50 basins, 43 passed quality checks\n"
               ]
            },
            {
               "name": "stderr",
               "output_type": "stream",
               "text": [
                  "INFO:hydro_forecasting.data.preprocessing:--- Finished Batch 10 ---\n",
                  "INFO:hydro_forecasting.data.preprocessing:--- Processing Batch 11 (50 basins) ---\n"
               ]
            },
            {
               "name": "stdout",
               "output_type": "stream",
               "text": [
                  "INFO: Processed 50 basins, 50 passed quality checks\n"
               ]
            },
            {
               "name": "stderr",
               "output_type": "stream",
               "text": [
                  "INFO:hydro_forecasting.data.preprocessing:--- Finished Batch 11 ---\n",
                  "INFO:hydro_forecasting.data.preprocessing:--- Processing Batch 12 (50 basins) ---\n"
               ]
            },
            {
               "name": "stdout",
               "output_type": "stream",
               "text": [
                  "INFO: Processed 50 basins, 50 passed quality checks\n"
               ]
            },
            {
               "name": "stderr",
               "output_type": "stream",
               "text": [
                  "INFO:hydro_forecasting.data.preprocessing:--- Finished Batch 12 ---\n",
                  "INFO:hydro_forecasting.data.preprocessing:--- Processing Batch 13 (50 basins) ---\n"
               ]
            },
            {
               "name": "stdout",
               "output_type": "stream",
               "text": [
                  "INFO: Processed 50 basins, 50 passed quality checks\n"
               ]
            },
            {
               "name": "stderr",
               "output_type": "stream",
               "text": [
                  "INFO:hydro_forecasting.data.preprocessing:--- Finished Batch 13 ---\n",
                  "INFO:hydro_forecasting.data.preprocessing:--- Processing Batch 14 (50 basins) ---\n"
               ]
            },
            {
               "name": "stdout",
               "output_type": "stream",
               "text": [
                  "INFO: Processed 50 basins, 50 passed quality checks\n"
               ]
            },
            {
               "name": "stderr",
               "output_type": "stream",
               "text": [
                  "INFO:hydro_forecasting.data.preprocessing:--- Finished Batch 14 ---\n",
                  "INFO:hydro_forecasting.data.preprocessing:--- Processing Batch 15 (50 basins) ---\n"
               ]
            },
            {
               "name": "stdout",
               "output_type": "stream",
               "text": [
                  "INFO: Processed 50 basins, 50 passed quality checks\n"
               ]
            },
            {
               "name": "stderr",
               "output_type": "stream",
               "text": [
                  "INFO:hydro_forecasting.data.preprocessing:--- Finished Batch 15 ---\n",
                  "INFO:hydro_forecasting.data.preprocessing:--- Processing Batch 16 (50 basins) ---\n"
               ]
            },
            {
               "name": "stdout",
               "output_type": "stream",
               "text": [
                  "INFO: Processed 50 basins, 50 passed quality checks\n"
               ]
            },
            {
               "name": "stderr",
               "output_type": "stream",
               "text": [
                  "INFO:hydro_forecasting.data.preprocessing:--- Finished Batch 16 ---\n",
                  "INFO:hydro_forecasting.data.preprocessing:--- Processing Batch 17 (50 basins) ---\n"
               ]
            },
            {
               "name": "stdout",
               "output_type": "stream",
               "text": [
                  "INFO: Processed 50 basins, 50 passed quality checks\n"
               ]
            },
            {
               "name": "stderr",
               "output_type": "stream",
               "text": [
                  "INFO:hydro_forecasting.data.preprocessing:--- Finished Batch 17 ---\n",
                  "INFO:hydro_forecasting.data.preprocessing:--- Processing Batch 18 (50 basins) ---\n"
               ]
            },
            {
               "name": "stdout",
               "output_type": "stream",
               "text": [
                  "INFO: Processed 50 basins, 50 passed quality checks\n"
               ]
            },
            {
               "name": "stderr",
               "output_type": "stream",
               "text": [
                  "INFO:hydro_forecasting.data.preprocessing:--- Finished Batch 18 ---\n",
                  "INFO:hydro_forecasting.data.preprocessing:--- Processing Batch 19 (50 basins) ---\n"
               ]
            },
            {
               "name": "stdout",
               "output_type": "stream",
               "text": [
                  "INFO: Processed 50 basins, 50 passed quality checks\n"
               ]
            },
            {
               "name": "stderr",
               "output_type": "stream",
               "text": [
                  "INFO:hydro_forecasting.data.preprocessing:--- Finished Batch 19 ---\n",
                  "INFO:hydro_forecasting.data.preprocessing:--- Processing Batch 20 (50 basins) ---\n"
               ]
            },
            {
               "name": "stdout",
               "output_type": "stream",
               "text": [
                  "INFO: Processed 50 basins, 50 passed quality checks\n"
               ]
            },
            {
               "name": "stderr",
               "output_type": "stream",
               "text": [
                  "INFO:hydro_forecasting.data.preprocessing:--- Finished Batch 20 ---\n",
                  "INFO:hydro_forecasting.data.preprocessing:--- Processing Batch 21 (50 basins) ---\n"
               ]
            },
            {
               "name": "stdout",
               "output_type": "stream",
               "text": [
                  "INFO: Processed 50 basins, 50 passed quality checks\n"
               ]
            },
            {
               "name": "stderr",
               "output_type": "stream",
               "text": [
                  "INFO:hydro_forecasting.data.preprocessing:--- Finished Batch 21 ---\n",
                  "INFO:hydro_forecasting.data.preprocessing:--- Processing Batch 22 (50 basins) ---\n"
               ]
            },
            {
               "name": "stdout",
               "output_type": "stream",
               "text": [
                  "INFO: Processed 50 basins, 50 passed quality checks\n"
               ]
            },
            {
               "name": "stderr",
               "output_type": "stream",
               "text": [
                  "INFO:hydro_forecasting.data.preprocessing:--- Finished Batch 22 ---\n",
                  "INFO:hydro_forecasting.data.preprocessing:--- Processing Batch 23 (50 basins) ---\n"
               ]
            },
            {
               "name": "stdout",
               "output_type": "stream",
               "text": [
                  "INFO: Processed 50 basins, 50 passed quality checks\n"
               ]
            },
            {
               "name": "stderr",
               "output_type": "stream",
               "text": [
                  "INFO:hydro_forecasting.data.preprocessing:--- Finished Batch 23 ---\n",
                  "INFO:hydro_forecasting.data.preprocessing:--- Processing Batch 24 (50 basins) ---\n"
               ]
            },
            {
               "name": "stdout",
               "output_type": "stream",
               "text": [
                  "INFO: Processed 50 basins, 50 passed quality checks\n"
               ]
            },
            {
               "name": "stderr",
               "output_type": "stream",
               "text": [
                  "INFO:hydro_forecasting.data.preprocessing:--- Finished Batch 24 ---\n",
                  "INFO:hydro_forecasting.data.preprocessing:--- Processing Batch 25 (50 basins) ---\n"
               ]
            },
            {
               "name": "stdout",
               "output_type": "stream",
               "text": [
                  "INFO: Processed 50 basins, 50 passed quality checks\n"
               ]
            },
            {
               "name": "stderr",
               "output_type": "stream",
               "text": [
                  "INFO:hydro_forecasting.data.preprocessing:--- Finished Batch 25 ---\n",
                  "INFO:hydro_forecasting.data.preprocessing:--- Processing Batch 26 (50 basins) ---\n"
               ]
            },
            {
               "name": "stdout",
               "output_type": "stream",
               "text": [
                  "INFO: Processed 50 basins, 50 passed quality checks\n"
               ]
            },
            {
               "name": "stderr",
               "output_type": "stream",
               "text": [
                  "INFO:hydro_forecasting.data.preprocessing:--- Finished Batch 26 ---\n",
                  "INFO:hydro_forecasting.data.preprocessing:--- Processing Batch 27 (50 basins) ---\n"
               ]
            },
            {
               "name": "stdout",
               "output_type": "stream",
               "text": [
                  "INFO: Processed 50 basins, 50 passed quality checks\n"
               ]
            },
            {
               "name": "stderr",
               "output_type": "stream",
               "text": [
                  "INFO:hydro_forecasting.data.preprocessing:--- Finished Batch 27 ---\n",
                  "INFO:hydro_forecasting.data.preprocessing:--- Processing Batch 28 (50 basins) ---\n"
               ]
            },
            {
               "name": "stdout",
               "output_type": "stream",
               "text": [
                  "INFO: Processed 50 basins, 50 passed quality checks\n"
               ]
            },
            {
               "name": "stderr",
               "output_type": "stream",
               "text": [
                  "INFO:hydro_forecasting.data.preprocessing:--- Finished Batch 28 ---\n",
                  "INFO:hydro_forecasting.data.preprocessing:--- Processing Batch 29 (50 basins) ---\n"
               ]
            },
            {
               "name": "stdout",
               "output_type": "stream",
               "text": [
                  "INFO: Processed 50 basins, 50 passed quality checks\n"
               ]
            },
            {
               "name": "stderr",
               "output_type": "stream",
               "text": [
                  "INFO:hydro_forecasting.data.preprocessing:--- Finished Batch 29 ---\n",
                  "INFO:hydro_forecasting.data.preprocessing:--- Processing Batch 30 (50 basins) ---\n"
               ]
            },
            {
               "name": "stdout",
               "output_type": "stream",
               "text": [
                  "INFO: Processed 50 basins, 50 passed quality checks\n"
               ]
            },
            {
               "name": "stderr",
               "output_type": "stream",
               "text": [
                  "INFO:hydro_forecasting.data.preprocessing:--- Finished Batch 30 ---\n",
                  "INFO:hydro_forecasting.data.preprocessing:--- Processing Batch 31 (50 basins) ---\n"
               ]
            },
            {
               "name": "stdout",
               "output_type": "stream",
               "text": [
                  "INFO: Processed 50 basins, 50 passed quality checks\n"
               ]
            },
            {
               "name": "stderr",
               "output_type": "stream",
               "text": [
                  "INFO:hydro_forecasting.data.preprocessing:--- Finished Batch 31 ---\n",
                  "INFO:hydro_forecasting.data.preprocessing:--- Processing Batch 32 (50 basins) ---\n"
               ]
            },
            {
               "name": "stdout",
               "output_type": "stream",
               "text": [
                  "INFO: Processed 50 basins, 50 passed quality checks\n"
               ]
            },
            {
               "name": "stderr",
               "output_type": "stream",
               "text": [
                  "INFO:hydro_forecasting.data.preprocessing:--- Finished Batch 32 ---\n",
                  "INFO:hydro_forecasting.data.preprocessing:--- Processing Batch 33 (50 basins) ---\n"
               ]
            },
            {
               "name": "stdout",
               "output_type": "stream",
               "text": [
                  "INFO: Processed 50 basins, 50 passed quality checks\n"
               ]
            },
            {
               "name": "stderr",
               "output_type": "stream",
               "text": [
                  "INFO:hydro_forecasting.data.preprocessing:--- Finished Batch 33 ---\n",
                  "INFO:hydro_forecasting.data.preprocessing:--- Processing Batch 34 (50 basins) ---\n"
               ]
            },
            {
               "name": "stdout",
               "output_type": "stream",
               "text": [
                  "INFO: Processed 50 basins, 50 passed quality checks\n"
               ]
            },
            {
               "name": "stderr",
               "output_type": "stream",
               "text": [
                  "INFO:hydro_forecasting.data.preprocessing:--- Finished Batch 34 ---\n",
                  "INFO:hydro_forecasting.data.preprocessing:--- Processing Batch 35 (50 basins) ---\n"
               ]
            },
            {
               "name": "stdout",
               "output_type": "stream",
               "text": [
                  "INFO: Processed 50 basins, 50 passed quality checks\n"
               ]
            },
            {
               "name": "stderr",
               "output_type": "stream",
               "text": [
                  "INFO:hydro_forecasting.data.preprocessing:--- Finished Batch 35 ---\n",
                  "INFO:hydro_forecasting.data.preprocessing:--- Processing Batch 36 (50 basins) ---\n"
               ]
            },
            {
               "name": "stdout",
               "output_type": "stream",
               "text": [
                  "INFO: Processed 50 basins, 50 passed quality checks\n"
               ]
            },
            {
               "name": "stderr",
               "output_type": "stream",
               "text": [
                  "INFO:hydro_forecasting.data.preprocessing:--- Finished Batch 36 ---\n",
                  "INFO:hydro_forecasting.data.preprocessing:--- Processing Batch 37 (50 basins) ---\n"
               ]
            },
            {
               "name": "stdout",
               "output_type": "stream",
               "text": [
                  "INFO: Processed 50 basins, 50 passed quality checks\n"
               ]
            },
            {
               "name": "stderr",
               "output_type": "stream",
               "text": [
                  "INFO:hydro_forecasting.data.preprocessing:--- Finished Batch 37 ---\n",
                  "INFO:hydro_forecasting.data.preprocessing:--- Processing Batch 38 (50 basins) ---\n"
               ]
            },
            {
               "name": "stdout",
               "output_type": "stream",
               "text": [
                  "INFO: Processed 50 basins, 50 passed quality checks\n"
               ]
            },
            {
               "name": "stderr",
               "output_type": "stream",
               "text": [
                  "INFO:hydro_forecasting.data.preprocessing:--- Finished Batch 38 ---\n",
                  "INFO:hydro_forecasting.data.preprocessing:--- Processing Batch 39 (50 basins) ---\n"
               ]
            },
            {
               "name": "stdout",
               "output_type": "stream",
               "text": [
                  "INFO: Processed 50 basins, 50 passed quality checks\n"
               ]
            },
            {
               "name": "stderr",
               "output_type": "stream",
               "text": [
                  "INFO:hydro_forecasting.data.preprocessing:--- Finished Batch 39 ---\n",
                  "INFO:hydro_forecasting.data.preprocessing:--- Processing Batch 40 (50 basins) ---\n"
               ]
            },
            {
               "name": "stdout",
               "output_type": "stream",
               "text": [
                  "INFO: Processed 50 basins, 50 passed quality checks\n"
               ]
            },
            {
               "name": "stderr",
               "output_type": "stream",
               "text": [
                  "INFO:hydro_forecasting.data.preprocessing:--- Finished Batch 40 ---\n",
                  "INFO:hydro_forecasting.data.preprocessing:--- Processing Batch 41 (50 basins) ---\n"
               ]
            },
            {
               "name": "stdout",
               "output_type": "stream",
               "text": [
                  "INFO: Processed 50 basins, 50 passed quality checks\n"
               ]
            },
            {
               "name": "stderr",
               "output_type": "stream",
               "text": [
                  "INFO:hydro_forecasting.data.preprocessing:--- Finished Batch 41 ---\n",
                  "INFO:hydro_forecasting.data.preprocessing:--- Processing Batch 42 (50 basins) ---\n"
               ]
            },
            {
               "name": "stdout",
               "output_type": "stream",
               "text": [
                  "INFO: Processed 50 basins, 50 passed quality checks\n"
               ]
            },
            {
               "name": "stderr",
               "output_type": "stream",
               "text": [
                  "INFO:hydro_forecasting.data.preprocessing:--- Finished Batch 42 ---\n",
                  "INFO:hydro_forecasting.data.preprocessing:--- Processing Batch 43 (50 basins) ---\n"
               ]
            },
            {
               "name": "stdout",
               "output_type": "stream",
               "text": [
                  "INFO: Processed 50 basins, 48 passed quality checks\n"
               ]
            },
            {
               "name": "stderr",
               "output_type": "stream",
               "text": [
                  "INFO:hydro_forecasting.data.preprocessing:--- Finished Batch 43 ---\n",
                  "INFO:hydro_forecasting.data.preprocessing:--- Processing Batch 44 (50 basins) ---\n"
               ]
            },
            {
               "name": "stdout",
               "output_type": "stream",
               "text": [
                  "INFO: Processed 50 basins, 48 passed quality checks\n"
               ]
            },
            {
               "name": "stderr",
               "output_type": "stream",
               "text": [
                  "INFO:hydro_forecasting.data.preprocessing:--- Finished Batch 44 ---\n",
                  "INFO:hydro_forecasting.data.preprocessing:--- Processing Batch 45 (50 basins) ---\n"
               ]
            },
            {
               "name": "stdout",
               "output_type": "stream",
               "text": [
                  "INFO: Processed 50 basins, 49 passed quality checks\n"
               ]
            },
            {
               "name": "stderr",
               "output_type": "stream",
               "text": [
                  "INFO:hydro_forecasting.data.preprocessing:--- Finished Batch 45 ---\n",
                  "INFO:hydro_forecasting.data.preprocessing:--- Processing Batch 46 (50 basins) ---\n"
               ]
            },
            {
               "name": "stdout",
               "output_type": "stream",
               "text": [
                  "INFO: Processed 50 basins, 48 passed quality checks\n"
               ]
            },
            {
               "name": "stderr",
               "output_type": "stream",
               "text": [
                  "INFO:hydro_forecasting.data.preprocessing:--- Finished Batch 46 ---\n",
                  "INFO:hydro_forecasting.data.preprocessing:--- Processing Batch 47 (50 basins) ---\n"
               ]
            },
            {
               "name": "stdout",
               "output_type": "stream",
               "text": [
                  "INFO: Processed 50 basins, 50 passed quality checks\n"
               ]
            },
            {
               "name": "stderr",
               "output_type": "stream",
               "text": [
                  "INFO:hydro_forecasting.data.preprocessing:--- Finished Batch 47 ---\n",
                  "INFO:hydro_forecasting.data.preprocessing:--- Processing Batch 48 (50 basins) ---\n"
               ]
            },
            {
               "name": "stdout",
               "output_type": "stream",
               "text": [
                  "INFO: Processed 50 basins, 49 passed quality checks\n"
               ]
            },
            {
               "name": "stderr",
               "output_type": "stream",
               "text": [
                  "INFO:hydro_forecasting.data.preprocessing:--- Finished Batch 48 ---\n",
                  "INFO:hydro_forecasting.data.preprocessing:--- Processing Batch 49 (50 basins) ---\n"
               ]
            },
            {
               "name": "stdout",
               "output_type": "stream",
               "text": [
                  "INFO: Processed 50 basins, 47 passed quality checks\n"
               ]
            },
            {
               "name": "stderr",
               "output_type": "stream",
               "text": [
                  "INFO:hydro_forecasting.data.preprocessing:--- Finished Batch 49 ---\n",
                  "INFO:hydro_forecasting.data.preprocessing:--- Processing Batch 50 (50 basins) ---\n"
               ]
            },
            {
               "name": "stdout",
               "output_type": "stream",
               "text": [
                  "INFO: Processed 50 basins, 50 passed quality checks\n"
               ]
            },
            {
               "name": "stderr",
               "output_type": "stream",
               "text": [
                  "INFO:hydro_forecasting.data.preprocessing:--- Finished Batch 50 ---\n",
                  "INFO:hydro_forecasting.data.preprocessing:--- Processing Batch 51 (50 basins) ---\n"
               ]
            },
            {
               "name": "stdout",
               "output_type": "stream",
               "text": [
                  "INFO: Processed 50 basins, 50 passed quality checks\n"
               ]
            },
            {
               "name": "stderr",
               "output_type": "stream",
               "text": [
                  "INFO:hydro_forecasting.data.preprocessing:--- Finished Batch 51 ---\n",
                  "INFO:hydro_forecasting.data.preprocessing:--- Processing Batch 52 (50 basins) ---\n"
               ]
            },
            {
               "name": "stdout",
               "output_type": "stream",
               "text": [
                  "INFO: Processed 50 basins, 49 passed quality checks\n"
               ]
            },
            {
               "name": "stderr",
               "output_type": "stream",
               "text": [
                  "INFO:hydro_forecasting.data.preprocessing:--- Finished Batch 52 ---\n",
                  "INFO:hydro_forecasting.data.preprocessing:--- Processing Batch 53 (50 basins) ---\n"
               ]
            },
            {
               "name": "stdout",
               "output_type": "stream",
               "text": [
                  "INFO: Processed 50 basins, 50 passed quality checks\n"
               ]
            },
            {
               "name": "stderr",
               "output_type": "stream",
               "text": [
                  "INFO:hydro_forecasting.data.preprocessing:--- Finished Batch 53 ---\n",
                  "INFO:hydro_forecasting.data.preprocessing:--- Processing Batch 54 (50 basins) ---\n"
               ]
            },
            {
               "name": "stdout",
               "output_type": "stream",
               "text": [
                  "INFO: Processed 50 basins, 33 passed quality checks\n"
               ]
            },
            {
               "name": "stderr",
               "output_type": "stream",
               "text": [
                  "INFO:hydro_forecasting.data.preprocessing:--- Finished Batch 54 ---\n",
                  "INFO:hydro_forecasting.data.preprocessing:--- Processing Batch 55 (50 basins) ---\n"
               ]
            },
            {
               "name": "stdout",
               "output_type": "stream",
               "text": [
                  "INFO: Processed 50 basins, 21 passed quality checks\n"
               ]
            },
            {
               "name": "stderr",
               "output_type": "stream",
               "text": [
                  "INFO:hydro_forecasting.data.preprocessing:--- Finished Batch 55 ---\n",
                  "INFO:hydro_forecasting.data.preprocessing:--- Processing Batch 56 (50 basins) ---\n"
               ]
            },
            {
               "name": "stdout",
               "output_type": "stream",
               "text": [
                  "INFO: Processed 50 basins, 21 passed quality checks\n"
               ]
            },
            {
               "name": "stderr",
               "output_type": "stream",
               "text": [
                  "INFO:hydro_forecasting.data.preprocessing:--- Finished Batch 56 ---\n",
                  "INFO:hydro_forecasting.data.preprocessing:--- Processing Batch 57 (50 basins) ---\n"
               ]
            },
            {
               "name": "stdout",
               "output_type": "stream",
               "text": [
                  "INFO: Processed 50 basins, 24 passed quality checks\n"
               ]
            },
            {
               "name": "stderr",
               "output_type": "stream",
               "text": [
                  "INFO:hydro_forecasting.data.preprocessing:--- Finished Batch 57 ---\n",
                  "INFO:hydro_forecasting.data.preprocessing:--- Processing Batch 58 (50 basins) ---\n"
               ]
            },
            {
               "name": "stdout",
               "output_type": "stream",
               "text": [
                  "INFO: Processed 50 basins, 21 passed quality checks\n"
               ]
            },
            {
               "name": "stderr",
               "output_type": "stream",
               "text": [
                  "INFO:hydro_forecasting.data.preprocessing:--- Finished Batch 58 ---\n",
                  "INFO:hydro_forecasting.data.preprocessing:--- Processing Batch 59 (50 basins) ---\n"
               ]
            },
            {
               "name": "stdout",
               "output_type": "stream",
               "text": [
                  "INFO: Processed 50 basins, 34 passed quality checks\n"
               ]
            },
            {
               "name": "stderr",
               "output_type": "stream",
               "text": [
                  "INFO:hydro_forecasting.data.preprocessing:--- Finished Batch 59 ---\n",
                  "INFO:hydro_forecasting.data.preprocessing:--- Processing Batch 60 (50 basins) ---\n"
               ]
            },
            {
               "name": "stdout",
               "output_type": "stream",
               "text": [
                  "INFO: Processed 50 basins, 34 passed quality checks\n"
               ]
            },
            {
               "name": "stderr",
               "output_type": "stream",
               "text": [
                  "INFO:hydro_forecasting.data.preprocessing:--- Finished Batch 60 ---\n",
                  "INFO:hydro_forecasting.data.preprocessing:--- Processing Batch 61 (50 basins) ---\n"
               ]
            },
            {
               "name": "stdout",
               "output_type": "stream",
               "text": [
                  "INFO: Processed 50 basins, 23 passed quality checks\n"
               ]
            },
            {
               "name": "stderr",
               "output_type": "stream",
               "text": [
                  "INFO:hydro_forecasting.data.preprocessing:--- Finished Batch 61 ---\n",
                  "INFO:hydro_forecasting.data.preprocessing:--- Processing Batch 62 (50 basins) ---\n"
               ]
            },
            {
               "name": "stdout",
               "output_type": "stream",
               "text": [
                  "INFO: Processed 50 basins, 6 passed quality checks\n"
               ]
            },
            {
               "name": "stderr",
               "output_type": "stream",
               "text": [
                  "INFO:hydro_forecasting.data.preprocessing:--- Finished Batch 62 ---\n",
                  "INFO:hydro_forecasting.data.preprocessing:--- Processing Batch 63 (50 basins) ---\n"
               ]
            },
            {
               "name": "stdout",
               "output_type": "stream",
               "text": [
                  "INFO: Processed 50 basins, 1 passed quality checks\n"
               ]
            },
            {
               "name": "stderr",
               "output_type": "stream",
               "text": [
                  "INFO:hydro_forecasting.data.preprocessing:--- Finished Batch 63 ---\n",
                  "INFO:hydro_forecasting.data.preprocessing:--- Processing Batch 64 (50 basins) ---\n"
               ]
            },
            {
               "name": "stdout",
               "output_type": "stream",
               "text": [
                  "INFO: Processed 50 basins, 12 passed quality checks\n"
               ]
            },
            {
               "name": "stderr",
               "output_type": "stream",
               "text": [
                  "INFO:hydro_forecasting.data.preprocessing:--- Finished Batch 64 ---\n",
                  "INFO:hydro_forecasting.data.preprocessing:--- Processing Batch 65 (50 basins) ---\n"
               ]
            },
            {
               "name": "stdout",
               "output_type": "stream",
               "text": [
                  "INFO: Processed 50 basins, 10 passed quality checks\n"
               ]
            },
            {
               "name": "stderr",
               "output_type": "stream",
               "text": [
                  "INFO:hydro_forecasting.data.preprocessing:--- Finished Batch 65 ---\n",
                  "INFO:hydro_forecasting.data.preprocessing:--- Processing Batch 66 (50 basins) ---\n"
               ]
            },
            {
               "name": "stdout",
               "output_type": "stream",
               "text": [
                  "INFO: Processed 50 basins, 19 passed quality checks\n"
               ]
            },
            {
               "name": "stderr",
               "output_type": "stream",
               "text": [
                  "INFO:hydro_forecasting.data.preprocessing:--- Finished Batch 66 ---\n",
                  "INFO:hydro_forecasting.data.preprocessing:--- Processing Batch 67 (50 basins) ---\n"
               ]
            },
            {
               "name": "stdout",
               "output_type": "stream",
               "text": [
                  "INFO: Processed 50 basins, 22 passed quality checks\n"
               ]
            },
            {
               "name": "stderr",
               "output_type": "stream",
               "text": [
                  "INFO:hydro_forecasting.data.preprocessing:--- Finished Batch 67 ---\n",
                  "INFO:hydro_forecasting.data.preprocessing:--- Processing Batch 68 (50 basins) ---\n"
               ]
            },
            {
               "name": "stdout",
               "output_type": "stream",
               "text": [
                  "INFO: Processed 50 basins, 20 passed quality checks\n"
               ]
            },
            {
               "name": "stderr",
               "output_type": "stream",
               "text": [
                  "INFO:hydro_forecasting.data.preprocessing:--- Finished Batch 68 ---\n",
                  "INFO:hydro_forecasting.data.preprocessing:--- Processing Batch 69 (50 basins) ---\n"
               ]
            },
            {
               "name": "stdout",
               "output_type": "stream",
               "text": [
                  "INFO: Processed 50 basins, 26 passed quality checks\n"
               ]
            },
            {
               "name": "stderr",
               "output_type": "stream",
               "text": [
                  "INFO:hydro_forecasting.data.preprocessing:--- Finished Batch 69 ---\n",
                  "INFO:hydro_forecasting.data.preprocessing:--- Processing Batch 70 (50 basins) ---\n"
               ]
            },
            {
               "name": "stdout",
               "output_type": "stream",
               "text": [
                  "INFO: Processed 50 basins, 28 passed quality checks\n"
               ]
            },
            {
               "name": "stderr",
               "output_type": "stream",
               "text": [
                  "INFO:hydro_forecasting.data.preprocessing:--- Finished Batch 70 ---\n",
                  "INFO:hydro_forecasting.data.preprocessing:--- Processing Batch 71 (50 basins) ---\n"
               ]
            },
            {
               "name": "stdout",
               "output_type": "stream",
               "text": [
                  "INFO: Processed 50 basins, 29 passed quality checks\n"
               ]
            },
            {
               "name": "stderr",
               "output_type": "stream",
               "text": [
                  "INFO:hydro_forecasting.data.preprocessing:--- Finished Batch 71 ---\n",
                  "INFO:hydro_forecasting.data.preprocessing:--- Processing Batch 72 (50 basins) ---\n"
               ]
            },
            {
               "name": "stdout",
               "output_type": "stream",
               "text": [
                  "INFO: Processed 50 basins, 22 passed quality checks\n"
               ]
            },
            {
               "name": "stderr",
               "output_type": "stream",
               "text": [
                  "INFO:hydro_forecasting.data.preprocessing:--- Finished Batch 72 ---\n",
                  "INFO:hydro_forecasting.data.preprocessing:--- Processing Batch 73 (50 basins) ---\n"
               ]
            },
            {
               "name": "stdout",
               "output_type": "stream",
               "text": [
                  "INFO: Processed 50 basins, 22 passed quality checks\n"
               ]
            },
            {
               "name": "stderr",
               "output_type": "stream",
               "text": [
                  "INFO:hydro_forecasting.data.preprocessing:--- Finished Batch 73 ---\n",
                  "INFO:hydro_forecasting.data.preprocessing:--- Processing Batch 74 (50 basins) ---\n"
               ]
            },
            {
               "name": "stdout",
               "output_type": "stream",
               "text": [
                  "INFO: Processed 50 basins, 15 passed quality checks\n"
               ]
            },
            {
               "name": "stderr",
               "output_type": "stream",
               "text": [
                  "INFO:hydro_forecasting.data.preprocessing:--- Finished Batch 74 ---\n",
                  "INFO:hydro_forecasting.data.preprocessing:--- Processing Batch 75 (50 basins) ---\n"
               ]
            },
            {
               "name": "stdout",
               "output_type": "stream",
               "text": [
                  "INFO: Processed 50 basins, 12 passed quality checks\n"
               ]
            },
            {
               "name": "stderr",
               "output_type": "stream",
               "text": [
                  "INFO:hydro_forecasting.data.preprocessing:--- Finished Batch 75 ---\n",
                  "INFO:hydro_forecasting.data.preprocessing:--- Processing Batch 76 (50 basins) ---\n"
               ]
            },
            {
               "name": "stdout",
               "output_type": "stream",
               "text": [
                  "INFO: Processed 50 basins, 18 passed quality checks\n"
               ]
            },
            {
               "name": "stderr",
               "output_type": "stream",
               "text": [
                  "INFO:hydro_forecasting.data.preprocessing:--- Finished Batch 76 ---\n",
                  "INFO:hydro_forecasting.data.preprocessing:--- Processing Batch 77 (50 basins) ---\n"
               ]
            },
            {
               "name": "stdout",
               "output_type": "stream",
               "text": [
                  "INFO: Processed 50 basins, 20 passed quality checks\n"
               ]
            },
            {
               "name": "stderr",
               "output_type": "stream",
               "text": [
                  "INFO:hydro_forecasting.data.preprocessing:--- Finished Batch 77 ---\n",
                  "INFO:hydro_forecasting.data.preprocessing:--- Processing Batch 78 (50 basins) ---\n"
               ]
            },
            {
               "name": "stdout",
               "output_type": "stream",
               "text": [
                  "INFO: Processed 50 basins, 17 passed quality checks\n"
               ]
            },
            {
               "name": "stderr",
               "output_type": "stream",
               "text": [
                  "INFO:hydro_forecasting.data.preprocessing:--- Finished Batch 78 ---\n",
                  "INFO:hydro_forecasting.data.preprocessing:--- Processing Batch 79 (50 basins) ---\n"
               ]
            },
            {
               "name": "stdout",
               "output_type": "stream",
               "text": [
                  "INFO: Processed 50 basins, 28 passed quality checks\n"
               ]
            },
            {
               "name": "stderr",
               "output_type": "stream",
               "text": [
                  "INFO:hydro_forecasting.data.preprocessing:--- Finished Batch 79 ---\n",
                  "INFO:hydro_forecasting.data.preprocessing:--- Processing Batch 80 (50 basins) ---\n"
               ]
            },
            {
               "name": "stdout",
               "output_type": "stream",
               "text": [
                  "INFO: Processed 50 basins, 29 passed quality checks\n"
               ]
            },
            {
               "name": "stderr",
               "output_type": "stream",
               "text": [
                  "INFO:hydro_forecasting.data.preprocessing:--- Finished Batch 80 ---\n",
                  "INFO:hydro_forecasting.data.preprocessing:--- Processing Batch 81 (50 basins) ---\n"
               ]
            },
            {
               "name": "stdout",
               "output_type": "stream",
               "text": [
                  "INFO: Processed 50 basins, 37 passed quality checks\n"
               ]
            },
            {
               "name": "stderr",
               "output_type": "stream",
               "text": [
                  "INFO:hydro_forecasting.data.preprocessing:--- Finished Batch 81 ---\n",
                  "INFO:hydro_forecasting.data.preprocessing:--- Processing Batch 82 (50 basins) ---\n"
               ]
            },
            {
               "name": "stdout",
               "output_type": "stream",
               "text": [
                  "INFO: Processed 50 basins, 33 passed quality checks\n"
               ]
            },
            {
               "name": "stderr",
               "output_type": "stream",
               "text": [
                  "INFO:hydro_forecasting.data.preprocessing:--- Finished Batch 82 ---\n",
                  "INFO:hydro_forecasting.data.preprocessing:--- Processing Batch 83 (50 basins) ---\n"
               ]
            },
            {
               "name": "stdout",
               "output_type": "stream",
               "text": [
                  "INFO: Processed 50 basins, 26 passed quality checks\n"
               ]
            },
            {
               "name": "stderr",
               "output_type": "stream",
               "text": [
                  "INFO:hydro_forecasting.data.preprocessing:--- Finished Batch 83 ---\n",
                  "INFO:hydro_forecasting.data.preprocessing:--- Processing Batch 84 (50 basins) ---\n"
               ]
            },
            {
               "name": "stdout",
               "output_type": "stream",
               "text": [
                  "INFO: Processed 50 basins, 34 passed quality checks\n"
               ]
            },
            {
               "name": "stderr",
               "output_type": "stream",
               "text": [
                  "INFO:hydro_forecasting.data.preprocessing:--- Finished Batch 84 ---\n",
                  "INFO:hydro_forecasting.data.preprocessing:--- Processing Batch 85 (50 basins) ---\n"
               ]
            },
            {
               "name": "stdout",
               "output_type": "stream",
               "text": [
                  "INFO: Processed 50 basins, 27 passed quality checks\n"
               ]
            },
            {
               "name": "stderr",
               "output_type": "stream",
               "text": [
                  "INFO:hydro_forecasting.data.preprocessing:--- Finished Batch 85 ---\n",
                  "INFO:hydro_forecasting.data.preprocessing:--- Processing Batch 86 (50 basins) ---\n"
               ]
            },
            {
               "name": "stdout",
               "output_type": "stream",
               "text": [
                  "INFO: Processed 50 basins, 36 passed quality checks\n"
               ]
            },
            {
               "name": "stderr",
               "output_type": "stream",
               "text": [
                  "INFO:hydro_forecasting.data.preprocessing:--- Finished Batch 86 ---\n",
                  "INFO:hydro_forecasting.data.preprocessing:--- Processing Batch 87 (50 basins) ---\n"
               ]
            },
            {
               "name": "stdout",
               "output_type": "stream",
               "text": [
                  "INFO: Processed 50 basins, 23 passed quality checks\n"
               ]
            },
            {
               "name": "stderr",
               "output_type": "stream",
               "text": [
                  "INFO:hydro_forecasting.data.preprocessing:--- Finished Batch 87 ---\n",
                  "INFO:hydro_forecasting.data.preprocessing:--- Processing Batch 88 (50 basins) ---\n"
               ]
            },
            {
               "name": "stdout",
               "output_type": "stream",
               "text": [
                  "INFO: Processed 50 basins, 19 passed quality checks\n"
               ]
            },
            {
               "name": "stderr",
               "output_type": "stream",
               "text": [
                  "INFO:hydro_forecasting.data.preprocessing:--- Finished Batch 88 ---\n",
                  "INFO:hydro_forecasting.data.preprocessing:--- Processing Batch 89 (50 basins) ---\n"
               ]
            },
            {
               "name": "stdout",
               "output_type": "stream",
               "text": [
                  "INFO: Processed 50 basins, 15 passed quality checks\n"
               ]
            },
            {
               "name": "stderr",
               "output_type": "stream",
               "text": [
                  "INFO:hydro_forecasting.data.preprocessing:--- Finished Batch 89 ---\n",
                  "INFO:hydro_forecasting.data.preprocessing:--- Processing Batch 90 (50 basins) ---\n"
               ]
            },
            {
               "name": "stdout",
               "output_type": "stream",
               "text": [
                  "INFO: Processed 50 basins, 15 passed quality checks\n"
               ]
            },
            {
               "name": "stderr",
               "output_type": "stream",
               "text": [
                  "INFO:hydro_forecasting.data.preprocessing:--- Finished Batch 90 ---\n",
                  "INFO:hydro_forecasting.data.preprocessing:--- Processing Batch 91 (50 basins) ---\n"
               ]
            },
            {
               "name": "stdout",
               "output_type": "stream",
               "text": [
                  "INFO: Processed 50 basins, 9 passed quality checks\n"
               ]
            },
            {
               "name": "stderr",
               "output_type": "stream",
               "text": [
                  "INFO:hydro_forecasting.data.preprocessing:--- Finished Batch 91 ---\n",
                  "INFO:hydro_forecasting.data.preprocessing:--- Processing Batch 92 (50 basins) ---\n"
               ]
            },
            {
               "name": "stdout",
               "output_type": "stream",
               "text": [
                  "INFO: Processed 50 basins, 18 passed quality checks\n"
               ]
            },
            {
               "name": "stderr",
               "output_type": "stream",
               "text": [
                  "INFO:hydro_forecasting.data.preprocessing:--- Finished Batch 92 ---\n",
                  "INFO:hydro_forecasting.data.preprocessing:--- Processing Batch 93 (50 basins) ---\n"
               ]
            },
            {
               "name": "stdout",
               "output_type": "stream",
               "text": [
                  "INFO: Processed 50 basins, 19 passed quality checks\n"
               ]
            },
            {
               "name": "stderr",
               "output_type": "stream",
               "text": [
                  "INFO:hydro_forecasting.data.preprocessing:--- Finished Batch 93 ---\n",
                  "INFO:hydro_forecasting.data.preprocessing:--- Processing Batch 94 (50 basins) ---\n"
               ]
            },
            {
               "name": "stdout",
               "output_type": "stream",
               "text": [
                  "INFO: Processed 50 basins, 19 passed quality checks\n"
               ]
            },
            {
               "name": "stderr",
               "output_type": "stream",
               "text": [
                  "INFO:hydro_forecasting.data.preprocessing:--- Finished Batch 94 ---\n",
                  "INFO:hydro_forecasting.data.preprocessing:--- Processing Batch 95 (50 basins) ---\n"
               ]
            },
            {
               "name": "stdout",
               "output_type": "stream",
               "text": [
                  "INFO: Processed 50 basins, 18 passed quality checks\n"
               ]
            },
            {
               "name": "stderr",
               "output_type": "stream",
               "text": [
                  "INFO:hydro_forecasting.data.preprocessing:--- Finished Batch 95 ---\n",
                  "INFO:hydro_forecasting.data.preprocessing:--- Processing Batch 96 (50 basins) ---\n"
               ]
            },
            {
               "name": "stdout",
               "output_type": "stream",
               "text": [
                  "INFO: Processed 50 basins, 22 passed quality checks\n"
               ]
            },
            {
               "name": "stderr",
               "output_type": "stream",
               "text": [
                  "INFO:hydro_forecasting.data.preprocessing:--- Finished Batch 96 ---\n",
                  "INFO:hydro_forecasting.data.preprocessing:--- Processing Batch 97 (50 basins) ---\n"
               ]
            },
            {
               "name": "stdout",
               "output_type": "stream",
               "text": [
                  "INFO: Processed 50 basins, 22 passed quality checks\n"
               ]
            },
            {
               "name": "stderr",
               "output_type": "stream",
               "text": [
                  "INFO:hydro_forecasting.data.preprocessing:--- Finished Batch 97 ---\n",
                  "INFO:hydro_forecasting.data.preprocessing:--- Processing Batch 98 (50 basins) ---\n"
               ]
            },
            {
               "name": "stdout",
               "output_type": "stream",
               "text": [
                  "INFO: Processed 50 basins, 17 passed quality checks\n"
               ]
            },
            {
               "name": "stderr",
               "output_type": "stream",
               "text": [
                  "INFO:hydro_forecasting.data.preprocessing:--- Finished Batch 98 ---\n",
                  "INFO:hydro_forecasting.data.preprocessing:--- Processing Batch 99 (50 basins) ---\n"
               ]
            },
            {
               "name": "stdout",
               "output_type": "stream",
               "text": [
                  "INFO: Processed 50 basins, 17 passed quality checks\n"
               ]
            },
            {
               "name": "stderr",
               "output_type": "stream",
               "text": [
                  "INFO:hydro_forecasting.data.preprocessing:--- Finished Batch 99 ---\n",
                  "INFO:hydro_forecasting.data.preprocessing:--- Processing Batch 100 (50 basins) ---\n"
               ]
            },
            {
               "name": "stdout",
               "output_type": "stream",
               "text": [
                  "INFO: Processed 50 basins, 11 passed quality checks\n"
               ]
            },
            {
               "name": "stderr",
               "output_type": "stream",
               "text": [
                  "INFO:hydro_forecasting.data.preprocessing:--- Finished Batch 100 ---\n",
                  "INFO:hydro_forecasting.data.preprocessing:--- Processing Batch 101 (50 basins) ---\n"
               ]
            },
            {
               "name": "stdout",
               "output_type": "stream",
               "text": [
                  "INFO: Processed 50 basins, 16 passed quality checks\n"
               ]
            },
            {
               "name": "stderr",
               "output_type": "stream",
               "text": [
                  "INFO:hydro_forecasting.data.preprocessing:--- Finished Batch 101 ---\n",
                  "INFO:hydro_forecasting.data.preprocessing:--- Processing Batch 102 (50 basins) ---\n"
               ]
            },
            {
               "name": "stdout",
               "output_type": "stream",
               "text": [
                  "INFO: Processed 50 basins, 10 passed quality checks\n"
               ]
            },
            {
               "name": "stderr",
               "output_type": "stream",
               "text": [
                  "INFO:hydro_forecasting.data.preprocessing:--- Finished Batch 102 ---\n",
                  "INFO:hydro_forecasting.data.preprocessing:--- Processing Batch 103 (50 basins) ---\n"
               ]
            },
            {
               "name": "stdout",
               "output_type": "stream",
               "text": [
                  "INFO: Processed 50 basins, 9 passed quality checks\n"
               ]
            },
            {
               "name": "stderr",
               "output_type": "stream",
               "text": [
                  "INFO:hydro_forecasting.data.preprocessing:--- Finished Batch 103 ---\n",
                  "INFO:hydro_forecasting.data.preprocessing:--- Processing Batch 104 (50 basins) ---\n"
               ]
            },
            {
               "name": "stdout",
               "output_type": "stream",
               "text": [
                  "INFO: Processed 50 basins, 16 passed quality checks\n"
               ]
            },
            {
               "name": "stderr",
               "output_type": "stream",
               "text": [
                  "INFO:hydro_forecasting.data.preprocessing:--- Finished Batch 104 ---\n",
                  "INFO:hydro_forecasting.data.preprocessing:--- Processing Batch 105 (50 basins) ---\n"
               ]
            },
            {
               "name": "stdout",
               "output_type": "stream",
               "text": [
                  "INFO: Processed 50 basins, 16 passed quality checks\n"
               ]
            },
            {
               "name": "stderr",
               "output_type": "stream",
               "text": [
                  "INFO:hydro_forecasting.data.preprocessing:--- Finished Batch 105 ---\n",
                  "INFO:hydro_forecasting.data.preprocessing:--- Processing Batch 106 (50 basins) ---\n"
               ]
            },
            {
               "name": "stdout",
               "output_type": "stream",
               "text": [
                  "INFO: Processed 50 basins, 17 passed quality checks\n"
               ]
            },
            {
               "name": "stderr",
               "output_type": "stream",
               "text": [
                  "INFO:hydro_forecasting.data.preprocessing:--- Finished Batch 106 ---\n",
                  "INFO:hydro_forecasting.data.preprocessing:--- Processing Batch 107 (50 basins) ---\n"
               ]
            },
            {
               "name": "stdout",
               "output_type": "stream",
               "text": [
                  "INFO: Processed 50 basins, 22 passed quality checks\n"
               ]
            },
            {
               "name": "stderr",
               "output_type": "stream",
               "text": [
                  "INFO:hydro_forecasting.data.preprocessing:--- Finished Batch 107 ---\n",
                  "INFO:hydro_forecasting.data.preprocessing:--- Processing Batch 108 (50 basins) ---\n"
               ]
            },
            {
               "name": "stdout",
               "output_type": "stream",
               "text": [
                  "INFO: Processed 50 basins, 30 passed quality checks\n"
               ]
            },
            {
               "name": "stderr",
               "output_type": "stream",
               "text": [
                  "INFO:hydro_forecasting.data.preprocessing:--- Finished Batch 108 ---\n",
                  "INFO:hydro_forecasting.data.preprocessing:--- Processing Batch 109 (50 basins) ---\n"
               ]
            },
            {
               "name": "stdout",
               "output_type": "stream",
               "text": [
                  "INFO: Processed 50 basins, 18 passed quality checks\n"
               ]
            },
            {
               "name": "stderr",
               "output_type": "stream",
               "text": [
                  "INFO:hydro_forecasting.data.preprocessing:--- Finished Batch 109 ---\n",
                  "INFO:hydro_forecasting.data.preprocessing:--- Processing Batch 110 (50 basins) ---\n"
               ]
            },
            {
               "name": "stdout",
               "output_type": "stream",
               "text": [
                  "INFO: Processed 50 basins, 27 passed quality checks\n"
               ]
            },
            {
               "name": "stderr",
               "output_type": "stream",
               "text": [
                  "INFO:hydro_forecasting.data.preprocessing:--- Finished Batch 110 ---\n",
                  "INFO:hydro_forecasting.data.preprocessing:--- Processing Batch 111 (50 basins) ---\n"
               ]
            },
            {
               "name": "stdout",
               "output_type": "stream",
               "text": [
                  "INFO: Processed 50 basins, 24 passed quality checks\n"
               ]
            },
            {
               "name": "stderr",
               "output_type": "stream",
               "text": [
                  "INFO:hydro_forecasting.data.preprocessing:--- Finished Batch 111 ---\n",
                  "INFO:hydro_forecasting.data.preprocessing:--- Processing Batch 112 (50 basins) ---\n"
               ]
            },
            {
               "name": "stdout",
               "output_type": "stream",
               "text": [
                  "INFO: Processed 50 basins, 24 passed quality checks\n"
               ]
            },
            {
               "name": "stderr",
               "output_type": "stream",
               "text": [
                  "INFO:hydro_forecasting.data.preprocessing:--- Finished Batch 112 ---\n",
                  "INFO:hydro_forecasting.data.preprocessing:--- Processing Batch 113 (50 basins) ---\n"
               ]
            },
            {
               "name": "stdout",
               "output_type": "stream",
               "text": [
                  "INFO: Processed 50 basins, 20 passed quality checks\n"
               ]
            },
            {
               "name": "stderr",
               "output_type": "stream",
               "text": [
                  "INFO:hydro_forecasting.data.preprocessing:--- Finished Batch 113 ---\n",
                  "INFO:hydro_forecasting.data.preprocessing:--- Processing Batch 114 (50 basins) ---\n"
               ]
            },
            {
               "name": "stdout",
               "output_type": "stream",
               "text": [
                  "INFO: Processed 50 basins, 10 passed quality checks\n"
               ]
            },
            {
               "name": "stderr",
               "output_type": "stream",
               "text": [
                  "INFO:hydro_forecasting.data.preprocessing:--- Finished Batch 114 ---\n",
                  "INFO:hydro_forecasting.data.preprocessing:--- Processing Batch 115 (50 basins) ---\n"
               ]
            },
            {
               "name": "stdout",
               "output_type": "stream",
               "text": [
                  "INFO: Processed 50 basins, 10 passed quality checks\n"
               ]
            },
            {
               "name": "stderr",
               "output_type": "stream",
               "text": [
                  "INFO:hydro_forecasting.data.preprocessing:--- Finished Batch 115 ---\n",
                  "INFO:hydro_forecasting.data.preprocessing:--- Processing Batch 116 (50 basins) ---\n"
               ]
            },
            {
               "name": "stdout",
               "output_type": "stream",
               "text": [
                  "INFO: Processed 50 basins, 8 passed quality checks\n"
               ]
            },
            {
               "name": "stderr",
               "output_type": "stream",
               "text": [
                  "INFO:hydro_forecasting.data.preprocessing:--- Finished Batch 116 ---\n",
                  "INFO:hydro_forecasting.data.preprocessing:--- Processing Batch 117 (50 basins) ---\n"
               ]
            },
            {
               "name": "stdout",
               "output_type": "stream",
               "text": [
                  "INFO: Processed 50 basins, 15 passed quality checks\n"
               ]
            },
            {
               "name": "stderr",
               "output_type": "stream",
               "text": [
                  "INFO:hydro_forecasting.data.preprocessing:--- Finished Batch 117 ---\n",
                  "INFO:hydro_forecasting.data.preprocessing:--- Processing Batch 118 (50 basins) ---\n"
               ]
            },
            {
               "name": "stdout",
               "output_type": "stream",
               "text": [
                  "INFO: Processed 50 basins, 31 passed quality checks\n"
               ]
            },
            {
               "name": "stderr",
               "output_type": "stream",
               "text": [
                  "INFO:hydro_forecasting.data.preprocessing:--- Finished Batch 118 ---\n",
                  "INFO:hydro_forecasting.data.preprocessing:--- Processing Batch 119 (50 basins) ---\n"
               ]
            },
            {
               "name": "stdout",
               "output_type": "stream",
               "text": [
                  "INFO: Processed 50 basins, 30 passed quality checks\n"
               ]
            },
            {
               "name": "stderr",
               "output_type": "stream",
               "text": [
                  "INFO:hydro_forecasting.data.preprocessing:--- Finished Batch 119 ---\n",
                  "INFO:hydro_forecasting.data.preprocessing:--- Processing Batch 120 (50 basins) ---\n"
               ]
            },
            {
               "name": "stdout",
               "output_type": "stream",
               "text": [
                  "INFO: Processed 50 basins, 28 passed quality checks\n"
               ]
            },
            {
               "name": "stderr",
               "output_type": "stream",
               "text": [
                  "INFO:hydro_forecasting.data.preprocessing:--- Finished Batch 120 ---\n",
                  "INFO:hydro_forecasting.data.preprocessing:--- Processing Batch 121 (50 basins) ---\n"
               ]
            },
            {
               "name": "stdout",
               "output_type": "stream",
               "text": [
                  "INFO: Processed 50 basins, 28 passed quality checks\n"
               ]
            },
            {
               "name": "stderr",
               "output_type": "stream",
               "text": [
                  "INFO:hydro_forecasting.data.preprocessing:--- Finished Batch 121 ---\n",
                  "INFO:hydro_forecasting.data.preprocessing:--- Processing Batch 122 (50 basins) ---\n"
               ]
            },
            {
               "name": "stdout",
               "output_type": "stream",
               "text": [
                  "INFO: Processed 50 basins, 40 passed quality checks\n"
               ]
            },
            {
               "name": "stderr",
               "output_type": "stream",
               "text": [
                  "INFO:hydro_forecasting.data.preprocessing:--- Finished Batch 122 ---\n",
                  "INFO:hydro_forecasting.data.preprocessing:--- Processing Batch 123 (50 basins) ---\n"
               ]
            },
            {
               "name": "stdout",
               "output_type": "stream",
               "text": [
                  "INFO: Processed 50 basins, 38 passed quality checks\n"
               ]
            },
            {
               "name": "stderr",
               "output_type": "stream",
               "text": [
                  "INFO:hydro_forecasting.data.preprocessing:--- Finished Batch 123 ---\n",
                  "INFO:hydro_forecasting.data.preprocessing:--- Processing Batch 124 (50 basins) ---\n"
               ]
            },
            {
               "name": "stdout",
               "output_type": "stream",
               "text": [
                  "INFO: Processed 50 basins, 45 passed quality checks\n"
               ]
            },
            {
               "name": "stderr",
               "output_type": "stream",
               "text": [
                  "INFO:hydro_forecasting.data.preprocessing:--- Finished Batch 124 ---\n",
                  "INFO:hydro_forecasting.data.preprocessing:--- Processing Batch 125 (50 basins) ---\n"
               ]
            },
            {
               "name": "stdout",
               "output_type": "stream",
               "text": [
                  "INFO: Processed 50 basins, 41 passed quality checks\n"
               ]
            },
            {
               "name": "stderr",
               "output_type": "stream",
               "text": [
                  "INFO:hydro_forecasting.data.preprocessing:--- Finished Batch 125 ---\n",
                  "INFO:hydro_forecasting.data.preprocessing:--- Processing Batch 126 (50 basins) ---\n"
               ]
            },
            {
               "name": "stdout",
               "output_type": "stream",
               "text": [
                  "INFO: Processed 50 basins, 37 passed quality checks\n"
               ]
            },
            {
               "name": "stderr",
               "output_type": "stream",
               "text": [
                  "INFO:hydro_forecasting.data.preprocessing:--- Finished Batch 126 ---\n",
                  "INFO:hydro_forecasting.data.preprocessing:--- Processing Batch 127 (50 basins) ---\n"
               ]
            },
            {
               "name": "stdout",
               "output_type": "stream",
               "text": [
                  "INFO: Processed 50 basins, 21 passed quality checks\n"
               ]
            },
            {
               "name": "stderr",
               "output_type": "stream",
               "text": [
                  "INFO:hydro_forecasting.data.preprocessing:--- Finished Batch 127 ---\n",
                  "INFO:hydro_forecasting.data.preprocessing:--- Processing Batch 128 (50 basins) ---\n"
               ]
            },
            {
               "name": "stdout",
               "output_type": "stream",
               "text": [
                  "INFO: Processed 50 basins, 12 passed quality checks\n"
               ]
            },
            {
               "name": "stderr",
               "output_type": "stream",
               "text": [
                  "INFO:hydro_forecasting.data.preprocessing:--- Finished Batch 128 ---\n",
                  "INFO:hydro_forecasting.data.preprocessing:--- Processing Batch 129 (50 basins) ---\n"
               ]
            },
            {
               "name": "stdout",
               "output_type": "stream",
               "text": [
                  "INFO: Processed 50 basins, 18 passed quality checks\n"
               ]
            },
            {
               "name": "stderr",
               "output_type": "stream",
               "text": [
                  "INFO:hydro_forecasting.data.preprocessing:--- Finished Batch 129 ---\n",
                  "INFO:hydro_forecasting.data.preprocessing:--- Processing Batch 130 (50 basins) ---\n"
               ]
            },
            {
               "name": "stdout",
               "output_type": "stream",
               "text": [
                  "INFO: Processed 50 basins, 17 passed quality checks\n"
               ]
            },
            {
               "name": "stderr",
               "output_type": "stream",
               "text": [
                  "INFO:hydro_forecasting.data.preprocessing:--- Finished Batch 130 ---\n",
                  "INFO:hydro_forecasting.data.preprocessing:--- Processing Batch 131 (50 basins) ---\n"
               ]
            },
            {
               "name": "stdout",
               "output_type": "stream",
               "text": [
                  "INFO: Processed 50 basins, 11 passed quality checks\n"
               ]
            },
            {
               "name": "stderr",
               "output_type": "stream",
               "text": [
                  "INFO:hydro_forecasting.data.preprocessing:--- Finished Batch 131 ---\n",
                  "INFO:hydro_forecasting.data.preprocessing:--- Processing Batch 132 (50 basins) ---\n"
               ]
            },
            {
               "name": "stdout",
               "output_type": "stream",
               "text": [
                  "INFO: Processed 50 basins, 6 passed quality checks\n"
               ]
            },
            {
               "name": "stderr",
               "output_type": "stream",
               "text": [
                  "INFO:hydro_forecasting.data.preprocessing:--- Finished Batch 132 ---\n",
                  "INFO:hydro_forecasting.data.preprocessing:--- Processing Batch 133 (50 basins) ---\n"
               ]
            },
            {
               "name": "stdout",
               "output_type": "stream",
               "text": [
                  "INFO: Processed 50 basins, 9 passed quality checks\n"
               ]
            },
            {
               "name": "stderr",
               "output_type": "stream",
               "text": [
                  "INFO:hydro_forecasting.data.preprocessing:--- Finished Batch 133 ---\n",
                  "INFO:hydro_forecasting.data.preprocessing:--- Processing Batch 134 (50 basins) ---\n"
               ]
            },
            {
               "name": "stdout",
               "output_type": "stream",
               "text": [
                  "INFO: Processed 50 basins, 16 passed quality checks\n"
               ]
            },
            {
               "name": "stderr",
               "output_type": "stream",
               "text": [
                  "INFO:hydro_forecasting.data.preprocessing:--- Finished Batch 134 ---\n",
                  "INFO:hydro_forecasting.data.preprocessing:--- Processing Batch 135 (50 basins) ---\n"
               ]
            },
            {
               "name": "stdout",
               "output_type": "stream",
               "text": [
                  "INFO: Processed 50 basins, 22 passed quality checks\n"
               ]
            },
            {
               "name": "stderr",
               "output_type": "stream",
               "text": [
                  "INFO:hydro_forecasting.data.preprocessing:--- Finished Batch 135 ---\n",
                  "INFO:hydro_forecasting.data.preprocessing:--- Processing Batch 136 (50 basins) ---\n"
               ]
            },
            {
               "name": "stdout",
               "output_type": "stream",
               "text": [
                  "INFO: Processed 50 basins, 23 passed quality checks\n"
               ]
            },
            {
               "name": "stderr",
               "output_type": "stream",
               "text": [
                  "INFO:hydro_forecasting.data.preprocessing:--- Finished Batch 136 ---\n",
                  "INFO:hydro_forecasting.data.preprocessing:--- Processing Batch 137 (50 basins) ---\n"
               ]
            },
            {
               "name": "stdout",
               "output_type": "stream",
               "text": [
                  "INFO: Processed 50 basins, 21 passed quality checks\n"
               ]
            },
            {
               "name": "stderr",
               "output_type": "stream",
               "text": [
                  "INFO:hydro_forecasting.data.preprocessing:--- Finished Batch 137 ---\n",
                  "INFO:hydro_forecasting.data.preprocessing:--- Processing Batch 138 (50 basins) ---\n"
               ]
            },
            {
               "name": "stdout",
               "output_type": "stream",
               "text": [
                  "INFO: Processed 50 basins, 16 passed quality checks\n"
               ]
            },
            {
               "name": "stderr",
               "output_type": "stream",
               "text": [
                  "INFO:hydro_forecasting.data.preprocessing:--- Finished Batch 138 ---\n",
                  "INFO:hydro_forecasting.data.preprocessing:--- Processing Batch 139 (50 basins) ---\n"
               ]
            },
            {
               "name": "stdout",
               "output_type": "stream",
               "text": [
                  "INFO: Processed 50 basins, 5 passed quality checks\n"
               ]
            },
            {
               "name": "stderr",
               "output_type": "stream",
               "text": [
                  "INFO:hydro_forecasting.data.preprocessing:--- Finished Batch 139 ---\n",
                  "INFO:hydro_forecasting.data.preprocessing:--- Processing Batch 140 (50 basins) ---\n"
               ]
            },
            {
               "name": "stdout",
               "output_type": "stream",
               "text": [
                  "INFO: Processed 50 basins, 10 passed quality checks\n"
               ]
            },
            {
               "name": "stderr",
               "output_type": "stream",
               "text": [
                  "INFO:hydro_forecasting.data.preprocessing:--- Finished Batch 140 ---\n",
                  "INFO:hydro_forecasting.data.preprocessing:--- Processing Batch 141 (50 basins) ---\n"
               ]
            },
            {
               "name": "stdout",
               "output_type": "stream",
               "text": [
                  "INFO: Processed 50 basins, 21 passed quality checks\n"
               ]
            },
            {
               "name": "stderr",
               "output_type": "stream",
               "text": [
                  "INFO:hydro_forecasting.data.preprocessing:--- Finished Batch 141 ---\n",
                  "INFO:hydro_forecasting.data.preprocessing:--- Processing Batch 142 (50 basins) ---\n"
               ]
            },
            {
               "name": "stdout",
               "output_type": "stream",
               "text": [
                  "INFO: Processed 50 basins, 18 passed quality checks\n"
               ]
            },
            {
               "name": "stderr",
               "output_type": "stream",
               "text": [
                  "INFO:hydro_forecasting.data.preprocessing:--- Finished Batch 142 ---\n",
                  "INFO:hydro_forecasting.data.preprocessing:--- Processing Batch 143 (50 basins) ---\n"
               ]
            },
            {
               "name": "stdout",
               "output_type": "stream",
               "text": [
                  "INFO: Processed 50 basins, 22 passed quality checks\n"
               ]
            },
            {
               "name": "stderr",
               "output_type": "stream",
               "text": [
                  "INFO:hydro_forecasting.data.preprocessing:--- Finished Batch 143 ---\n",
                  "INFO:hydro_forecasting.data.preprocessing:--- Processing Batch 144 (50 basins) ---\n"
               ]
            },
            {
               "name": "stdout",
               "output_type": "stream",
               "text": [
                  "INFO: Processed 50 basins, 18 passed quality checks\n"
               ]
            },
            {
               "name": "stderr",
               "output_type": "stream",
               "text": [
                  "INFO:hydro_forecasting.data.preprocessing:--- Finished Batch 144 ---\n",
                  "INFO:hydro_forecasting.data.preprocessing:--- Processing Batch 145 (50 basins) ---\n"
               ]
            },
            {
               "name": "stdout",
               "output_type": "stream",
               "text": [
                  "INFO: Processed 50 basins, 21 passed quality checks\n"
               ]
            },
            {
               "name": "stderr",
               "output_type": "stream",
               "text": [
                  "INFO:hydro_forecasting.data.preprocessing:--- Finished Batch 145 ---\n",
                  "INFO:hydro_forecasting.data.preprocessing:--- Processing Batch 146 (50 basins) ---\n"
               ]
            },
            {
               "name": "stdout",
               "output_type": "stream",
               "text": [
                  "INFO: Processed 50 basins, 34 passed quality checks\n"
               ]
            },
            {
               "name": "stderr",
               "output_type": "stream",
               "text": [
                  "INFO:hydro_forecasting.data.preprocessing:--- Finished Batch 146 ---\n",
                  "INFO:hydro_forecasting.data.preprocessing:--- Processing Batch 147 (50 basins) ---\n"
               ]
            },
            {
               "name": "stdout",
               "output_type": "stream",
               "text": [
                  "INFO: Processed 50 basins, 16 passed quality checks\n"
               ]
            },
            {
               "name": "stderr",
               "output_type": "stream",
               "text": [
                  "INFO:hydro_forecasting.data.preprocessing:--- Finished Batch 147 ---\n",
                  "INFO:hydro_forecasting.data.preprocessing:--- Processing Batch 148 (50 basins) ---\n"
               ]
            },
            {
               "name": "stdout",
               "output_type": "stream",
               "text": [
                  "INFO: Processed 50 basins, 19 passed quality checks\n"
               ]
            },
            {
               "name": "stderr",
               "output_type": "stream",
               "text": [
                  "INFO:hydro_forecasting.data.preprocessing:--- Finished Batch 148 ---\n",
                  "INFO:hydro_forecasting.data.preprocessing:--- Processing Batch 149 (50 basins) ---\n"
               ]
            },
            {
               "name": "stdout",
               "output_type": "stream",
               "text": [
                  "INFO: Processed 50 basins, 17 passed quality checks\n"
               ]
            },
            {
               "name": "stderr",
               "output_type": "stream",
               "text": [
                  "INFO:hydro_forecasting.data.preprocessing:--- Finished Batch 149 ---\n",
                  "INFO:hydro_forecasting.data.preprocessing:--- Processing Batch 150 (50 basins) ---\n"
               ]
            },
            {
               "name": "stdout",
               "output_type": "stream",
               "text": [
                  "INFO: Processed 50 basins, 21 passed quality checks\n"
               ]
            },
            {
               "name": "stderr",
               "output_type": "stream",
               "text": [
                  "INFO:hydro_forecasting.data.preprocessing:--- Finished Batch 150 ---\n",
                  "INFO:hydro_forecasting.data.preprocessing:--- Processing Batch 151 (50 basins) ---\n"
               ]
            },
            {
               "name": "stdout",
               "output_type": "stream",
               "text": [
                  "INFO: Processed 50 basins, 11 passed quality checks\n"
               ]
            },
            {
               "name": "stderr",
               "output_type": "stream",
               "text": [
                  "INFO:hydro_forecasting.data.preprocessing:--- Finished Batch 151 ---\n",
                  "INFO:hydro_forecasting.data.preprocessing:--- Processing Batch 152 (50 basins) ---\n"
               ]
            },
            {
               "name": "stdout",
               "output_type": "stream",
               "text": [
                  "INFO: Processed 50 basins, 18 passed quality checks\n"
               ]
            },
            {
               "name": "stderr",
               "output_type": "stream",
               "text": [
                  "INFO:hydro_forecasting.data.preprocessing:--- Finished Batch 152 ---\n",
                  "INFO:hydro_forecasting.data.preprocessing:--- Processing Batch 153 (50 basins) ---\n"
               ]
            },
            {
               "name": "stdout",
               "output_type": "stream",
               "text": [
                  "INFO: Processed 50 basins, 4 passed quality checks\n"
               ]
            },
            {
               "name": "stderr",
               "output_type": "stream",
               "text": [
                  "INFO:hydro_forecasting.data.preprocessing:--- Finished Batch 153 ---\n",
                  "INFO:hydro_forecasting.data.preprocessing:--- Processing Batch 154 (50 basins) ---\n"
               ]
            },
            {
               "name": "stdout",
               "output_type": "stream",
               "text": [
                  "INFO: Processed 50 basins, 19 passed quality checks\n"
               ]
            },
            {
               "name": "stderr",
               "output_type": "stream",
               "text": [
                  "INFO:hydro_forecasting.data.preprocessing:--- Finished Batch 154 ---\n",
                  "INFO:hydro_forecasting.data.preprocessing:--- Processing Batch 155 (50 basins) ---\n"
               ]
            },
            {
               "name": "stdout",
               "output_type": "stream",
               "text": [
                  "INFO: Processed 50 basins, 14 passed quality checks\n"
               ]
            },
            {
               "name": "stderr",
               "output_type": "stream",
               "text": [
                  "INFO:hydro_forecasting.data.preprocessing:--- Finished Batch 155 ---\n",
                  "INFO:hydro_forecasting.data.preprocessing:--- Processing Batch 156 (50 basins) ---\n"
               ]
            },
            {
               "name": "stdout",
               "output_type": "stream",
               "text": [
                  "INFO: Processed 50 basins, 12 passed quality checks\n"
               ]
            },
            {
               "name": "stderr",
               "output_type": "stream",
               "text": [
                  "INFO:hydro_forecasting.data.preprocessing:--- Finished Batch 156 ---\n",
                  "INFO:hydro_forecasting.data.preprocessing:--- Processing Batch 157 (50 basins) ---\n"
               ]
            },
            {
               "name": "stdout",
               "output_type": "stream",
               "text": [
                  "INFO: Processed 50 basins, 19 passed quality checks\n"
               ]
            },
            {
               "name": "stderr",
               "output_type": "stream",
               "text": [
                  "INFO:hydro_forecasting.data.preprocessing:--- Finished Batch 157 ---\n",
                  "INFO:hydro_forecasting.data.preprocessing:--- Processing Batch 158 (50 basins) ---\n"
               ]
            },
            {
               "name": "stdout",
               "output_type": "stream",
               "text": [
                  "INFO: Processed 50 basins, 39 passed quality checks\n"
               ]
            },
            {
               "name": "stderr",
               "output_type": "stream",
               "text": [
                  "INFO:hydro_forecasting.data.preprocessing:--- Finished Batch 158 ---\n",
                  "INFO:hydro_forecasting.data.preprocessing:--- Processing Batch 159 (50 basins) ---\n"
               ]
            },
            {
               "name": "stdout",
               "output_type": "stream",
               "text": [
                  "INFO: Processed 50 basins, 40 passed quality checks\n"
               ]
            },
            {
               "name": "stderr",
               "output_type": "stream",
               "text": [
                  "INFO:hydro_forecasting.data.preprocessing:--- Finished Batch 159 ---\n",
                  "INFO:hydro_forecasting.data.preprocessing:--- Processing Batch 160 (50 basins) ---\n"
               ]
            },
            {
               "name": "stdout",
               "output_type": "stream",
               "text": [
                  "INFO: Processed 50 basins, 43 passed quality checks\n"
               ]
            },
            {
               "name": "stderr",
               "output_type": "stream",
               "text": [
                  "INFO:hydro_forecasting.data.preprocessing:--- Finished Batch 160 ---\n",
                  "INFO:hydro_forecasting.data.preprocessing:--- Processing Batch 161 (50 basins) ---\n"
               ]
            },
            {
               "name": "stdout",
               "output_type": "stream",
               "text": [
                  "INFO: Processed 50 basins, 26 passed quality checks\n"
               ]
            },
            {
               "name": "stderr",
               "output_type": "stream",
               "text": [
                  "INFO:hydro_forecasting.data.preprocessing:--- Finished Batch 161 ---\n",
                  "INFO:hydro_forecasting.data.preprocessing:--- Processing Batch 162 (50 basins) ---\n"
               ]
            },
            {
               "name": "stdout",
               "output_type": "stream",
               "text": [
                  "INFO: Processed 50 basins, 19 passed quality checks\n"
               ]
            },
            {
               "name": "stderr",
               "output_type": "stream",
               "text": [
                  "INFO:hydro_forecasting.data.preprocessing:--- Finished Batch 162 ---\n",
                  "INFO:hydro_forecasting.data.preprocessing:--- Processing Batch 163 (50 basins) ---\n"
               ]
            },
            {
               "name": "stdout",
               "output_type": "stream",
               "text": [
                  "INFO: Processed 50 basins, 12 passed quality checks\n"
               ]
            },
            {
               "name": "stderr",
               "output_type": "stream",
               "text": [
                  "INFO:hydro_forecasting.data.preprocessing:--- Finished Batch 163 ---\n",
                  "INFO:hydro_forecasting.data.preprocessing:--- Processing Batch 164 (50 basins) ---\n"
               ]
            },
            {
               "name": "stdout",
               "output_type": "stream",
               "text": [
                  "INFO: Processed 50 basins, 27 passed quality checks\n"
               ]
            },
            {
               "name": "stderr",
               "output_type": "stream",
               "text": [
                  "INFO:hydro_forecasting.data.preprocessing:--- Finished Batch 164 ---\n",
                  "INFO:hydro_forecasting.data.preprocessing:--- Processing Batch 165 (50 basins) ---\n"
               ]
            },
            {
               "name": "stdout",
               "output_type": "stream",
               "text": [
                  "INFO: Processed 50 basins, 12 passed quality checks\n"
               ]
            },
            {
               "name": "stderr",
               "output_type": "stream",
               "text": [
                  "INFO:hydro_forecasting.data.preprocessing:--- Finished Batch 165 ---\n",
                  "INFO:hydro_forecasting.data.preprocessing:--- Processing Batch 166 (50 basins) ---\n"
               ]
            },
            {
               "name": "stdout",
               "output_type": "stream",
               "text": [
                  "INFO: Processed 50 basins, 17 passed quality checks\n"
               ]
            },
            {
               "name": "stderr",
               "output_type": "stream",
               "text": [
                  "INFO:hydro_forecasting.data.preprocessing:--- Finished Batch 166 ---\n",
                  "INFO:hydro_forecasting.data.preprocessing:--- Processing Batch 167 (50 basins) ---\n"
               ]
            },
            {
               "name": "stdout",
               "output_type": "stream",
               "text": [
                  "INFO: Processed 50 basins, 26 passed quality checks\n"
               ]
            },
            {
               "name": "stderr",
               "output_type": "stream",
               "text": [
                  "INFO:hydro_forecasting.data.preprocessing:--- Finished Batch 167 ---\n",
                  "INFO:hydro_forecasting.data.preprocessing:--- Processing Batch 168 (50 basins) ---\n"
               ]
            },
            {
               "name": "stdout",
               "output_type": "stream",
               "text": [
                  "INFO: Processed 50 basins, 40 passed quality checks\n"
               ]
            },
            {
               "name": "stderr",
               "output_type": "stream",
               "text": [
                  "INFO:hydro_forecasting.data.preprocessing:--- Finished Batch 168 ---\n",
                  "INFO:hydro_forecasting.data.preprocessing:--- Processing Batch 169 (50 basins) ---\n"
               ]
            },
            {
               "name": "stdout",
               "output_type": "stream",
               "text": [
                  "INFO: Processed 50 basins, 32 passed quality checks\n"
               ]
            },
            {
               "name": "stderr",
               "output_type": "stream",
               "text": [
                  "INFO:hydro_forecasting.data.preprocessing:--- Finished Batch 169 ---\n",
                  "INFO:hydro_forecasting.data.preprocessing:--- Processing Batch 170 (50 basins) ---\n"
               ]
            },
            {
               "name": "stdout",
               "output_type": "stream",
               "text": [
                  "INFO: Processed 50 basins, 32 passed quality checks\n"
               ]
            },
            {
               "name": "stderr",
               "output_type": "stream",
               "text": [
                  "INFO:hydro_forecasting.data.preprocessing:--- Finished Batch 170 ---\n",
                  "INFO:hydro_forecasting.data.preprocessing:--- Processing Batch 171 (50 basins) ---\n"
               ]
            },
            {
               "name": "stdout",
               "output_type": "stream",
               "text": [
                  "INFO: Processed 50 basins, 41 passed quality checks\n"
               ]
            },
            {
               "name": "stderr",
               "output_type": "stream",
               "text": [
                  "INFO:hydro_forecasting.data.preprocessing:--- Finished Batch 171 ---\n",
                  "INFO:hydro_forecasting.data.preprocessing:--- Processing Batch 172 (50 basins) ---\n"
               ]
            },
            {
               "name": "stdout",
               "output_type": "stream",
               "text": [
                  "INFO: Processed 50 basins, 41 passed quality checks\n"
               ]
            },
            {
               "name": "stderr",
               "output_type": "stream",
               "text": [
                  "INFO:hydro_forecasting.data.preprocessing:--- Finished Batch 172 ---\n",
                  "INFO:hydro_forecasting.data.preprocessing:--- Processing Batch 173 (50 basins) ---\n"
               ]
            },
            {
               "name": "stdout",
               "output_type": "stream",
               "text": [
                  "INFO: Processed 50 basins, 16 passed quality checks\n"
               ]
            },
            {
               "name": "stderr",
               "output_type": "stream",
               "text": [
                  "INFO:hydro_forecasting.data.preprocessing:--- Finished Batch 173 ---\n",
                  "INFO:hydro_forecasting.data.preprocessing:--- Processing Batch 174 (50 basins) ---\n"
               ]
            },
            {
               "name": "stdout",
               "output_type": "stream",
               "text": [
                  "INFO: Processed 50 basins, 8 passed quality checks\n"
               ]
            },
            {
               "name": "stderr",
               "output_type": "stream",
               "text": [
                  "INFO:hydro_forecasting.data.preprocessing:--- Finished Batch 174 ---\n",
                  "INFO:hydro_forecasting.data.preprocessing:--- Processing Batch 175 (50 basins) ---\n"
               ]
            },
            {
               "name": "stdout",
               "output_type": "stream",
               "text": [
                  "INFO: Processed 50 basins, 5 passed quality checks\n"
               ]
            },
            {
               "name": "stderr",
               "output_type": "stream",
               "text": [
                  "INFO:hydro_forecasting.data.preprocessing:--- Finished Batch 175 ---\n",
                  "INFO:hydro_forecasting.data.preprocessing:--- Processing Batch 176 (50 basins) ---\n"
               ]
            },
            {
               "name": "stdout",
               "output_type": "stream",
               "text": [
                  "INFO: Processed 50 basins, 7 passed quality checks\n"
               ]
            },
            {
               "name": "stderr",
               "output_type": "stream",
               "text": [
                  "INFO:hydro_forecasting.data.preprocessing:--- Finished Batch 176 ---\n",
                  "INFO:hydro_forecasting.data.preprocessing:--- Processing Batch 177 (50 basins) ---\n"
               ]
            },
            {
               "name": "stdout",
               "output_type": "stream",
               "text": [
                  "INFO: Processed 50 basins, 6 passed quality checks\n"
               ]
            },
            {
               "name": "stderr",
               "output_type": "stream",
               "text": [
                  "INFO:hydro_forecasting.data.preprocessing:--- Finished Batch 177 ---\n",
                  "INFO:hydro_forecasting.data.preprocessing:--- Processing Batch 178 (50 basins) ---\n"
               ]
            },
            {
               "name": "stdout",
               "output_type": "stream",
               "text": [
                  "INFO: Processed 50 basins, 8 passed quality checks\n"
               ]
            },
            {
               "name": "stderr",
               "output_type": "stream",
               "text": [
                  "INFO:hydro_forecasting.data.preprocessing:--- Finished Batch 178 ---\n",
                  "INFO:hydro_forecasting.data.preprocessing:--- Processing Batch 179 (50 basins) ---\n"
               ]
            },
            {
               "name": "stdout",
               "output_type": "stream",
               "text": [
                  "INFO: Processed 50 basins, 3 passed quality checks\n"
               ]
            },
            {
               "name": "stderr",
               "output_type": "stream",
               "text": [
                  "INFO:hydro_forecasting.data.preprocessing:--- Finished Batch 179 ---\n",
                  "INFO:hydro_forecasting.data.preprocessing:--- Processing Batch 180 (50 basins) ---\n"
               ]
            },
            {
               "name": "stdout",
               "output_type": "stream",
               "text": [
                  "INFO: Processed 50 basins, 7 passed quality checks\n"
               ]
            },
            {
               "name": "stderr",
               "output_type": "stream",
               "text": [
                  "INFO:hydro_forecasting.data.preprocessing:--- Finished Batch 180 ---\n",
                  "INFO:hydro_forecasting.data.preprocessing:--- Processing Batch 181 (50 basins) ---\n"
               ]
            },
            {
               "name": "stdout",
               "output_type": "stream",
               "text": [
                  "INFO: Processed 50 basins, 12 passed quality checks\n"
               ]
            },
            {
               "name": "stderr",
               "output_type": "stream",
               "text": [
                  "INFO:hydro_forecasting.data.preprocessing:--- Finished Batch 181 ---\n",
                  "INFO:hydro_forecasting.data.preprocessing:--- Processing Batch 182 (50 basins) ---\n"
               ]
            },
            {
               "name": "stdout",
               "output_type": "stream",
               "text": [
                  "INFO: Processed 50 basins, 15 passed quality checks\n"
               ]
            },
            {
               "name": "stderr",
               "output_type": "stream",
               "text": [
                  "INFO:hydro_forecasting.data.preprocessing:--- Finished Batch 182 ---\n",
                  "INFO:hydro_forecasting.data.preprocessing:--- Processing Batch 183 (50 basins) ---\n"
               ]
            },
            {
               "name": "stdout",
               "output_type": "stream",
               "text": [
                  "INFO: Processed 50 basins, 22 passed quality checks\n"
               ]
            },
            {
               "name": "stderr",
               "output_type": "stream",
               "text": [
                  "INFO:hydro_forecasting.data.preprocessing:--- Finished Batch 183 ---\n",
                  "INFO:hydro_forecasting.data.preprocessing:--- Processing Batch 184 (50 basins) ---\n"
               ]
            },
            {
               "name": "stdout",
               "output_type": "stream",
               "text": [
                  "INFO: Processed 50 basins, 22 passed quality checks\n"
               ]
            },
            {
               "name": "stderr",
               "output_type": "stream",
               "text": [
                  "INFO:hydro_forecasting.data.preprocessing:--- Finished Batch 184 ---\n",
                  "INFO:hydro_forecasting.data.preprocessing:--- Processing Batch 185 (50 basins) ---\n"
               ]
            },
            {
               "name": "stdout",
               "output_type": "stream",
               "text": [
                  "INFO: Processed 50 basins, 23 passed quality checks\n"
               ]
            },
            {
               "name": "stderr",
               "output_type": "stream",
               "text": [
                  "INFO:hydro_forecasting.data.preprocessing:--- Finished Batch 185 ---\n",
                  "INFO:hydro_forecasting.data.preprocessing:--- Processing Batch 186 (50 basins) ---\n"
               ]
            },
            {
               "name": "stdout",
               "output_type": "stream",
               "text": [
                  "INFO: Processed 50 basins, 26 passed quality checks\n"
               ]
            },
            {
               "name": "stderr",
               "output_type": "stream",
               "text": [
                  "INFO:hydro_forecasting.data.preprocessing:--- Finished Batch 186 ---\n",
                  "INFO:hydro_forecasting.data.preprocessing:--- Processing Batch 187 (50 basins) ---\n"
               ]
            },
            {
               "name": "stdout",
               "output_type": "stream",
               "text": [
                  "INFO: Processed 50 basins, 21 passed quality checks\n"
               ]
            },
            {
               "name": "stderr",
               "output_type": "stream",
               "text": [
                  "INFO:hydro_forecasting.data.preprocessing:--- Finished Batch 187 ---\n",
                  "INFO:hydro_forecasting.data.preprocessing:--- Processing Batch 188 (50 basins) ---\n"
               ]
            },
            {
               "name": "stdout",
               "output_type": "stream",
               "text": [
                  "INFO: Processed 50 basins, 12 passed quality checks\n"
               ]
            },
            {
               "name": "stderr",
               "output_type": "stream",
               "text": [
                  "INFO:hydro_forecasting.data.preprocessing:--- Finished Batch 188 ---\n",
                  "INFO:hydro_forecasting.data.preprocessing:--- Processing Batch 189 (50 basins) ---\n"
               ]
            },
            {
               "name": "stdout",
               "output_type": "stream",
               "text": [
                  "INFO: Processed 50 basins, 11 passed quality checks\n"
               ]
            },
            {
               "name": "stderr",
               "output_type": "stream",
               "text": [
                  "INFO:hydro_forecasting.data.preprocessing:--- Finished Batch 189 ---\n",
                  "INFO:hydro_forecasting.data.preprocessing:--- Processing Batch 190 (50 basins) ---\n"
               ]
            },
            {
               "name": "stdout",
               "output_type": "stream",
               "text": [
                  "INFO: Processed 50 basins, 12 passed quality checks\n"
               ]
            },
            {
               "name": "stderr",
               "output_type": "stream",
               "text": [
                  "INFO:hydro_forecasting.data.preprocessing:--- Finished Batch 190 ---\n",
                  "INFO:hydro_forecasting.data.preprocessing:--- Processing Batch 191 (50 basins) ---\n"
               ]
            },
            {
               "name": "stdout",
               "output_type": "stream",
               "text": [
                  "INFO: Processed 50 basins, 18 passed quality checks\n"
               ]
            },
            {
               "name": "stderr",
               "output_type": "stream",
               "text": [
                  "INFO:hydro_forecasting.data.preprocessing:--- Finished Batch 191 ---\n",
                  "INFO:hydro_forecasting.data.preprocessing:--- Processing Batch 192 (50 basins) ---\n"
               ]
            },
            {
               "name": "stdout",
               "output_type": "stream",
               "text": [
                  "INFO: Processed 50 basins, 27 passed quality checks\n"
               ]
            },
            {
               "name": "stderr",
               "output_type": "stream",
               "text": [
                  "INFO:hydro_forecasting.data.preprocessing:--- Finished Batch 192 ---\n",
                  "INFO:hydro_forecasting.data.preprocessing:--- Processing Batch 193 (50 basins) ---\n"
               ]
            },
            {
               "name": "stdout",
               "output_type": "stream",
               "text": [
                  "INFO: Processed 50 basins, 19 passed quality checks\n"
               ]
            },
            {
               "name": "stderr",
               "output_type": "stream",
               "text": [
                  "INFO:hydro_forecasting.data.preprocessing:--- Finished Batch 193 ---\n",
                  "INFO:hydro_forecasting.data.preprocessing:--- Processing Batch 194 (50 basins) ---\n"
               ]
            },
            {
               "name": "stdout",
               "output_type": "stream",
               "text": [
                  "INFO: Processed 50 basins, 17 passed quality checks\n"
               ]
            },
            {
               "name": "stderr",
               "output_type": "stream",
               "text": [
                  "INFO:hydro_forecasting.data.preprocessing:--- Finished Batch 194 ---\n",
                  "INFO:hydro_forecasting.data.preprocessing:--- Processing Batch 195 (50 basins) ---\n"
               ]
            },
            {
               "name": "stdout",
               "output_type": "stream",
               "text": [
                  "INFO: Processed 50 basins, 17 passed quality checks\n"
               ]
            },
            {
               "name": "stderr",
               "output_type": "stream",
               "text": [
                  "INFO:hydro_forecasting.data.preprocessing:--- Finished Batch 195 ---\n",
                  "INFO:hydro_forecasting.data.preprocessing:--- Processing Batch 196 (50 basins) ---\n"
               ]
            },
            {
               "name": "stdout",
               "output_type": "stream",
               "text": [
                  "INFO: Processed 50 basins, 11 passed quality checks\n"
               ]
            },
            {
               "name": "stderr",
               "output_type": "stream",
               "text": [
                  "INFO:hydro_forecasting.data.preprocessing:--- Finished Batch 196 ---\n",
                  "INFO:hydro_forecasting.data.preprocessing:--- Processing Batch 197 (50 basins) ---\n"
               ]
            },
            {
               "name": "stdout",
               "output_type": "stream",
               "text": [
                  "INFO: Processed 50 basins, 17 passed quality checks\n"
               ]
            },
            {
               "name": "stderr",
               "output_type": "stream",
               "text": [
                  "INFO:hydro_forecasting.data.preprocessing:--- Finished Batch 197 ---\n",
                  "INFO:hydro_forecasting.data.preprocessing:--- Processing Batch 198 (50 basins) ---\n"
               ]
            },
            {
               "name": "stdout",
               "output_type": "stream",
               "text": [
                  "INFO: Processed 50 basins, 21 passed quality checks\n"
               ]
            },
            {
               "name": "stderr",
               "output_type": "stream",
               "text": [
                  "INFO:hydro_forecasting.data.preprocessing:--- Finished Batch 198 ---\n",
                  "INFO:hydro_forecasting.data.preprocessing:--- Processing Batch 199 (50 basins) ---\n"
               ]
            },
            {
               "name": "stdout",
               "output_type": "stream",
               "text": [
                  "INFO: Processed 50 basins, 15 passed quality checks\n"
               ]
            },
            {
               "name": "stderr",
               "output_type": "stream",
               "text": [
                  "INFO:hydro_forecasting.data.preprocessing:--- Finished Batch 199 ---\n",
                  "INFO:hydro_forecasting.data.preprocessing:--- Processing Batch 200 (50 basins) ---\n"
               ]
            },
            {
               "name": "stdout",
               "output_type": "stream",
               "text": [
                  "INFO: Processed 50 basins, 20 passed quality checks\n"
               ]
            },
            {
               "name": "stderr",
               "output_type": "stream",
               "text": [
                  "INFO:hydro_forecasting.data.preprocessing:--- Finished Batch 200 ---\n",
                  "INFO:hydro_forecasting.data.preprocessing:--- Processing Batch 201 (50 basins) ---\n"
               ]
            },
            {
               "name": "stdout",
               "output_type": "stream",
               "text": [
                  "INFO: Processed 50 basins, 14 passed quality checks\n"
               ]
            },
            {
               "name": "stderr",
               "output_type": "stream",
               "text": [
                  "INFO:hydro_forecasting.data.preprocessing:--- Finished Batch 201 ---\n",
                  "INFO:hydro_forecasting.data.preprocessing:--- Processing Batch 202 (50 basins) ---\n"
               ]
            },
            {
               "name": "stdout",
               "output_type": "stream",
               "text": [
                  "INFO: Processed 50 basins, 10 passed quality checks\n"
               ]
            },
            {
               "name": "stderr",
               "output_type": "stream",
               "text": [
                  "INFO:hydro_forecasting.data.preprocessing:--- Finished Batch 202 ---\n",
                  "INFO:hydro_forecasting.data.preprocessing:--- Processing Batch 203 (50 basins) ---\n"
               ]
            },
            {
               "name": "stdout",
               "output_type": "stream",
               "text": [
                  "INFO: Processed 50 basins, 21 passed quality checks\n"
               ]
            },
            {
               "name": "stderr",
               "output_type": "stream",
               "text": [
                  "INFO:hydro_forecasting.data.preprocessing:--- Finished Batch 203 ---\n",
                  "INFO:hydro_forecasting.data.preprocessing:--- Processing Batch 204 (50 basins) ---\n"
               ]
            },
            {
               "name": "stdout",
               "output_type": "stream",
               "text": [
                  "INFO: Processed 50 basins, 17 passed quality checks\n"
               ]
            },
            {
               "name": "stderr",
               "output_type": "stream",
               "text": [
                  "INFO:hydro_forecasting.data.preprocessing:--- Finished Batch 204 ---\n",
                  "INFO:hydro_forecasting.data.preprocessing:--- Processing Batch 205 (50 basins) ---\n"
               ]
            },
            {
               "name": "stdout",
               "output_type": "stream",
               "text": [
                  "INFO: Processed 50 basins, 23 passed quality checks\n"
               ]
            },
            {
               "name": "stderr",
               "output_type": "stream",
               "text": [
                  "INFO:hydro_forecasting.data.preprocessing:--- Finished Batch 205 ---\n",
                  "INFO:hydro_forecasting.data.preprocessing:--- Processing Batch 206 (50 basins) ---\n"
               ]
            },
            {
               "name": "stdout",
               "output_type": "stream",
               "text": [
                  "INFO: Processed 50 basins, 15 passed quality checks\n"
               ]
            },
            {
               "name": "stderr",
               "output_type": "stream",
               "text": [
                  "INFO:hydro_forecasting.data.preprocessing:--- Finished Batch 206 ---\n",
                  "INFO:hydro_forecasting.data.preprocessing:--- Processing Batch 207 (50 basins) ---\n"
               ]
            },
            {
               "name": "stdout",
               "output_type": "stream",
               "text": [
                  "INFO: Processed 50 basins, 17 passed quality checks\n"
               ]
            },
            {
               "name": "stderr",
               "output_type": "stream",
               "text": [
                  "INFO:hydro_forecasting.data.preprocessing:--- Finished Batch 207 ---\n",
                  "INFO:hydro_forecasting.data.preprocessing:--- Processing Batch 208 (50 basins) ---\n"
               ]
            },
            {
               "name": "stdout",
               "output_type": "stream",
               "text": [
                  "INFO: Processed 50 basins, 11 passed quality checks\n"
               ]
            },
            {
               "name": "stderr",
               "output_type": "stream",
               "text": [
                  "INFO:hydro_forecasting.data.preprocessing:--- Finished Batch 208 ---\n",
                  "INFO:hydro_forecasting.data.preprocessing:--- Processing Batch 209 (50 basins) ---\n"
               ]
            },
            {
               "name": "stdout",
               "output_type": "stream",
               "text": [
                  "INFO: Processed 50 basins, 20 passed quality checks\n"
               ]
            },
            {
               "name": "stderr",
               "output_type": "stream",
               "text": [
                  "INFO:hydro_forecasting.data.preprocessing:--- Finished Batch 209 ---\n",
                  "INFO:hydro_forecasting.data.preprocessing:--- Processing Batch 210 (50 basins) ---\n"
               ]
            },
            {
               "name": "stdout",
               "output_type": "stream",
               "text": [
                  "INFO: Processed 50 basins, 15 passed quality checks\n"
               ]
            },
            {
               "name": "stderr",
               "output_type": "stream",
               "text": [
                  "INFO:hydro_forecasting.data.preprocessing:--- Finished Batch 210 ---\n",
                  "INFO:hydro_forecasting.data.preprocessing:--- Processing Batch 211 (50 basins) ---\n"
               ]
            },
            {
               "name": "stdout",
               "output_type": "stream",
               "text": [
                  "INFO: Processed 50 basins, 14 passed quality checks\n"
               ]
            },
            {
               "name": "stderr",
               "output_type": "stream",
               "text": [
                  "INFO:hydro_forecasting.data.preprocessing:--- Finished Batch 211 ---\n",
                  "INFO:hydro_forecasting.data.preprocessing:--- Processing Batch 212 (50 basins) ---\n"
               ]
            },
            {
               "name": "stdout",
               "output_type": "stream",
               "text": [
                  "INFO: Processed 50 basins, 7 passed quality checks\n"
               ]
            },
            {
               "name": "stderr",
               "output_type": "stream",
               "text": [
                  "INFO:hydro_forecasting.data.preprocessing:--- Finished Batch 212 ---\n",
                  "INFO:hydro_forecasting.data.preprocessing:--- Processing Batch 213 (50 basins) ---\n"
               ]
            },
            {
               "name": "stdout",
               "output_type": "stream",
               "text": [
                  "INFO: Processed 50 basins, 8 passed quality checks\n"
               ]
            },
            {
               "name": "stderr",
               "output_type": "stream",
               "text": [
                  "INFO:hydro_forecasting.data.preprocessing:--- Finished Batch 213 ---\n",
                  "INFO:hydro_forecasting.data.preprocessing:--- Processing Batch 214 (50 basins) ---\n"
               ]
            },
            {
               "name": "stdout",
               "output_type": "stream",
               "text": [
                  "INFO: Processed 50 basins, 14 passed quality checks\n"
               ]
            },
            {
               "name": "stderr",
               "output_type": "stream",
               "text": [
                  "INFO:hydro_forecasting.data.preprocessing:--- Finished Batch 214 ---\n",
                  "INFO:hydro_forecasting.data.preprocessing:--- Processing Batch 215 (50 basins) ---\n"
               ]
            },
            {
               "name": "stdout",
               "output_type": "stream",
               "text": [
                  "INFO: Processed 50 basins, 14 passed quality checks\n"
               ]
            },
            {
               "name": "stderr",
               "output_type": "stream",
               "text": [
                  "INFO:hydro_forecasting.data.preprocessing:--- Finished Batch 215 ---\n",
                  "INFO:hydro_forecasting.data.preprocessing:--- Processing Batch 216 (50 basins) ---\n"
               ]
            },
            {
               "name": "stdout",
               "output_type": "stream",
               "text": [
                  "INFO: Processed 50 basins, 13 passed quality checks\n"
               ]
            },
            {
               "name": "stderr",
               "output_type": "stream",
               "text": [
                  "INFO:hydro_forecasting.data.preprocessing:--- Finished Batch 216 ---\n",
                  "INFO:hydro_forecasting.data.preprocessing:--- Processing Batch 217 (50 basins) ---\n"
               ]
            },
            {
               "name": "stdout",
               "output_type": "stream",
               "text": [
                  "INFO: Processed 50 basins, 16 passed quality checks\n"
               ]
            },
            {
               "name": "stderr",
               "output_type": "stream",
               "text": [
                  "INFO:hydro_forecasting.data.preprocessing:--- Finished Batch 217 ---\n",
                  "INFO:hydro_forecasting.data.preprocessing:--- Processing Batch 218 (50 basins) ---\n"
               ]
            },
            {
               "name": "stdout",
               "output_type": "stream",
               "text": [
                  "INFO: Processed 50 basins, 19 passed quality checks\n"
               ]
            },
            {
               "name": "stderr",
               "output_type": "stream",
               "text": [
                  "INFO:hydro_forecasting.data.preprocessing:--- Finished Batch 218 ---\n",
                  "INFO:hydro_forecasting.data.preprocessing:--- Processing Batch 219 (50 basins) ---\n"
               ]
            },
            {
               "name": "stdout",
               "output_type": "stream",
               "text": [
                  "INFO: Processed 50 basins, 18 passed quality checks\n"
               ]
            },
            {
               "name": "stderr",
               "output_type": "stream",
               "text": [
                  "INFO:hydro_forecasting.data.preprocessing:--- Finished Batch 219 ---\n",
                  "INFO:hydro_forecasting.data.preprocessing:--- Processing Batch 220 (50 basins) ---\n"
               ]
            },
            {
               "name": "stdout",
               "output_type": "stream",
               "text": [
                  "INFO: Processed 50 basins, 6 passed quality checks\n"
               ]
            },
            {
               "name": "stderr",
               "output_type": "stream",
               "text": [
                  "INFO:hydro_forecasting.data.preprocessing:--- Finished Batch 220 ---\n",
                  "INFO:hydro_forecasting.data.preprocessing:--- Processing Batch 221 (50 basins) ---\n"
               ]
            },
            {
               "name": "stdout",
               "output_type": "stream",
               "text": [
                  "INFO: Processed 50 basins, 15 passed quality checks\n"
               ]
            },
            {
               "name": "stderr",
               "output_type": "stream",
               "text": [
                  "INFO:hydro_forecasting.data.preprocessing:--- Finished Batch 221 ---\n",
                  "INFO:hydro_forecasting.data.preprocessing:--- Processing Batch 222 (50 basins) ---\n"
               ]
            },
            {
               "name": "stdout",
               "output_type": "stream",
               "text": [
                  "INFO: Processed 50 basins, 12 passed quality checks\n"
               ]
            },
            {
               "name": "stderr",
               "output_type": "stream",
               "text": [
                  "INFO:hydro_forecasting.data.preprocessing:--- Finished Batch 222 ---\n",
                  "INFO:hydro_forecasting.data.preprocessing:--- Processing Batch 223 (50 basins) ---\n"
               ]
            },
            {
               "name": "stdout",
               "output_type": "stream",
               "text": [
                  "INFO: Processed 50 basins, 31 passed quality checks\n"
               ]
            },
            {
               "name": "stderr",
               "output_type": "stream",
               "text": [
                  "INFO:hydro_forecasting.data.preprocessing:--- Finished Batch 223 ---\n",
                  "INFO:hydro_forecasting.data.preprocessing:--- Processing Batch 224 (50 basins) ---\n"
               ]
            },
            {
               "name": "stdout",
               "output_type": "stream",
               "text": [
                  "INFO: Processed 50 basins, 46 passed quality checks\n"
               ]
            },
            {
               "name": "stderr",
               "output_type": "stream",
               "text": [
                  "INFO:hydro_forecasting.data.preprocessing:--- Finished Batch 224 ---\n",
                  "INFO:hydro_forecasting.data.preprocessing:--- Processing Batch 225 (50 basins) ---\n"
               ]
            },
            {
               "name": "stdout",
               "output_type": "stream",
               "text": [
                  "INFO: Processed 50 basins, 48 passed quality checks\n"
               ]
            },
            {
               "name": "stderr",
               "output_type": "stream",
               "text": [
                  "INFO:hydro_forecasting.data.preprocessing:--- Finished Batch 225 ---\n",
                  "INFO:hydro_forecasting.data.preprocessing:--- Processing Batch 226 (50 basins) ---\n"
               ]
            },
            {
               "name": "stdout",
               "output_type": "stream",
               "text": [
                  "INFO: Processed 50 basins, 47 passed quality checks\n"
               ]
            },
            {
               "name": "stderr",
               "output_type": "stream",
               "text": [
                  "INFO:hydro_forecasting.data.preprocessing:--- Finished Batch 226 ---\n",
                  "INFO:hydro_forecasting.data.preprocessing:--- Processing Batch 227 (50 basins) ---\n"
               ]
            },
            {
               "name": "stdout",
               "output_type": "stream",
               "text": [
                  "INFO: Processed 50 basins, 50 passed quality checks\n"
               ]
            },
            {
               "name": "stderr",
               "output_type": "stream",
               "text": [
                  "INFO:hydro_forecasting.data.preprocessing:--- Finished Batch 227 ---\n",
                  "INFO:hydro_forecasting.data.preprocessing:--- Processing Batch 228 (50 basins) ---\n"
               ]
            },
            {
               "name": "stdout",
               "output_type": "stream",
               "text": [
                  "INFO: Processed 50 basins, 45 passed quality checks\n"
               ]
            },
            {
               "name": "stderr",
               "output_type": "stream",
               "text": [
                  "INFO:hydro_forecasting.data.preprocessing:--- Finished Batch 228 ---\n",
                  "INFO:hydro_forecasting.data.preprocessing:--- Processing Batch 229 (50 basins) ---\n"
               ]
            },
            {
               "name": "stdout",
               "output_type": "stream",
               "text": [
                  "INFO: Processed 50 basins, 50 passed quality checks\n"
               ]
            },
            {
               "name": "stderr",
               "output_type": "stream",
               "text": [
                  "INFO:hydro_forecasting.data.preprocessing:--- Finished Batch 229 ---\n",
                  "INFO:hydro_forecasting.data.preprocessing:--- Processing Batch 230 (50 basins) ---\n"
               ]
            },
            {
               "name": "stdout",
               "output_type": "stream",
               "text": [
                  "INFO: Processed 50 basins, 50 passed quality checks\n"
               ]
            },
            {
               "name": "stderr",
               "output_type": "stream",
               "text": [
                  "INFO:hydro_forecasting.data.preprocessing:--- Finished Batch 230 ---\n",
                  "INFO:hydro_forecasting.data.preprocessing:--- Processing Batch 231 (50 basins) ---\n"
               ]
            },
            {
               "name": "stdout",
               "output_type": "stream",
               "text": [
                  "INFO: Processed 50 basins, 48 passed quality checks\n"
               ]
            },
            {
               "name": "stderr",
               "output_type": "stream",
               "text": [
                  "INFO:hydro_forecasting.data.preprocessing:--- Finished Batch 231 ---\n",
                  "INFO:hydro_forecasting.data.preprocessing:--- Processing Batch 232 (50 basins) ---\n"
               ]
            },
            {
               "name": "stdout",
               "output_type": "stream",
               "text": [
                  "INFO: Processed 50 basins, 47 passed quality checks\n"
               ]
            },
            {
               "name": "stderr",
               "output_type": "stream",
               "text": [
                  "INFO:hydro_forecasting.data.preprocessing:--- Finished Batch 232 ---\n",
                  "INFO:hydro_forecasting.data.preprocessing:--- Processing Batch 233 (50 basins) ---\n"
               ]
            },
            {
               "name": "stdout",
               "output_type": "stream",
               "text": [
                  "INFO: Processed 50 basins, 42 passed quality checks\n"
               ]
            },
            {
               "name": "stderr",
               "output_type": "stream",
               "text": [
                  "INFO:hydro_forecasting.data.preprocessing:--- Finished Batch 233 ---\n",
                  "INFO:hydro_forecasting.data.preprocessing:--- Processing Batch 234 (50 basins) ---\n"
               ]
            },
            {
               "name": "stdout",
               "output_type": "stream",
               "text": [
                  "INFO: Processed 50 basins, 45 passed quality checks\n"
               ]
            },
            {
               "name": "stderr",
               "output_type": "stream",
               "text": [
                  "INFO:hydro_forecasting.data.preprocessing:--- Finished Batch 234 ---\n",
                  "INFO:hydro_forecasting.data.preprocessing:--- Processing Batch 235 (50 basins) ---\n"
               ]
            },
            {
               "name": "stdout",
               "output_type": "stream",
               "text": [
                  "INFO: Processed 50 basins, 50 passed quality checks\n"
               ]
            },
            {
               "name": "stderr",
               "output_type": "stream",
               "text": [
                  "INFO:hydro_forecasting.data.preprocessing:--- Finished Batch 235 ---\n",
                  "INFO:hydro_forecasting.data.preprocessing:--- Processing Batch 236 (50 basins) ---\n"
               ]
            },
            {
               "name": "stdout",
               "output_type": "stream",
               "text": [
                  "INFO: Processed 50 basins, 48 passed quality checks\n"
               ]
            },
            {
               "name": "stderr",
               "output_type": "stream",
               "text": [
                  "INFO:hydro_forecasting.data.preprocessing:--- Finished Batch 236 ---\n",
                  "INFO:hydro_forecasting.data.preprocessing:--- Processing Batch 237 (50 basins) ---\n"
               ]
            },
            {
               "name": "stdout",
               "output_type": "stream",
               "text": [
                  "INFO: Processed 50 basins, 31 passed quality checks\n"
               ]
            },
            {
               "name": "stderr",
               "output_type": "stream",
               "text": [
                  "INFO:hydro_forecasting.data.preprocessing:--- Finished Batch 237 ---\n",
                  "INFO:hydro_forecasting.data.preprocessing:--- Processing Batch 238 (50 basins) ---\n"
               ]
            },
            {
               "name": "stdout",
               "output_type": "stream",
               "text": [
                  "INFO: Processed 50 basins, 29 passed quality checks\n"
               ]
            },
            {
               "name": "stderr",
               "output_type": "stream",
               "text": [
                  "INFO:hydro_forecasting.data.preprocessing:--- Finished Batch 238 ---\n",
                  "INFO:hydro_forecasting.data.preprocessing:--- Processing Batch 239 (50 basins) ---\n"
               ]
            },
            {
               "name": "stdout",
               "output_type": "stream",
               "text": [
                  "INFO: Processed 50 basins, 5 passed quality checks\n"
               ]
            },
            {
               "name": "stderr",
               "output_type": "stream",
               "text": [
                  "INFO:hydro_forecasting.data.preprocessing:--- Finished Batch 239 ---\n",
                  "INFO:hydro_forecasting.data.preprocessing:Finished processing all time series batches. Attempted 11950 basins.\n",
                  "INFO:hydro_forecasting.data.preprocessing:Fitted time series pipelines saved to /workspace/hydro-forecasting/experiments/low-medium-hii/data_cache/e82931a3-45c7-56ef-a2a8-4f74f03e347d/fitted_time_series_pipelines.joblib\n",
                  "INFO:hydro_forecasting.data.preprocessing:Summary quality report saved to /workspace/hydro-forecasting/experiments/low-medium-hii/data_cache/e82931a3-45c7-56ef-a2a8-4f74f03e347d/quality_summary.json\n",
                  "INFO:hydro_forecasting.data.preprocessing:SUCCESS: Preprocessing completed successfully. Output at /workspace/hydro-forecasting/experiments/low-medium-hii/data_cache/e82931a3-45c7-56ef-a2a8-4f74f03e347d\n",
                  "INFO:hydro_forecasting.data.in_memory_datamodule:Hydro processor completed successfully.\n",
                  "INFO:hydro_forecasting.data.in_memory_datamodule:Successfully loaded 3 categories of fitted pipelines.\n",
                  "INFO:hydro_forecasting.data.in_memory_datamodule:6473 basins retained after processing.\n",
                  "INFO:hydro_forecasting.data.in_memory_datamodule:Found 6473 basins for synchronized train/val chunking and validation pool selection.\n",
                  "INFO:hydro_forecasting.data.in_memory_datamodule:Found 6473 basins for test split.\n",
                  "INFO:hydro_forecasting.data.in_memory_datamodule:Data preparation finished.\n",
                  "INFO:hydro_forecasting.data.in_memory_datamodule:Loading static data cache and converting to Tensors...\n",
                  "INFO:hydro_forecasting.data.in_memory_datamodule:Loaded and tensorized static data for 11950 basins.\n",
                  "INFO:hydro_forecasting.data.in_memory_datamodule:Created fixed validation pool with 4000 basins: ['USA_05123400', 'USA_08269000', 'camelsgb_15011', 'camelsaus_G9030124', 'camelsgb_58009']...\n",
                  "INFO:hydro_forecasting.data.in_memory_datamodule:Loading and caching data for 4000 validation basins...\n",
                  "INFO:hydro_forecasting.data.in_memory_datamodule:Stage 'val' chunk data loaded for 4000 basins. Shape: (13002719, 12). Est. Mem: 595.27 MB\n",
                  "WARNING:hydro_forecasting.data.in_memory_datamodule:Could not find valid sequences for basin hysets_04086200 in stage 'val': Data height (124) is less than total sequence length (134)\n",
                  "INFO:hydro_forecasting.data.in_memory_datamodule:Successfully cached validation data. Index entries: 12470728.\n",
                  "INFO:hydro_forecasting.data.in_memory_datamodule:Initializing/Re-initializing training shared chunks from 6473 basins.\n",
                  "INFO:hydro_forecasting.data.in_memory_datamodule:Created 5 training shared chunks.\n",
                  "INFO:hydro_forecasting.data.in_memory_datamodule:Initial training shared chunks: 5 chunks of approx size 1500 from 6473 basins.\n",
                  "INFO:hydro_forecasting.experiment_utils.training_runner:Starting run 1/1 for tsmixer\n",
                  "Seed set to 42\n",
                  "INFO:hydro_forecasting.experiment_utils.training_runner:Using seed: 42\n",
                  "INFO:hydro_forecasting.experiment_utils.checkpoint_manager:Overriding latest existing attempt: /workspace/hydro-forecasting/experiments/low-medium-hii/low-medium-hii_tajikistan/checkpoints/tsmixer/run_0/attempt_0\n",
                  "INFO:hydro_forecasting.experiment_utils.checkpoint_manager:Overriding latest existing attempt: /workspace/hydro-forecasting/experiments/low-medium-hii/low-medium-hii_tajikistan/logs/tsmixer/run_0/attempt_0\n",
                  "GPU available: True (cuda), used: True\n",
                  "TPU available: False, using: 0 TPU cores\n",
                  "HPU available: False, using: 0 HPUs\n",
                  "You are using a CUDA device ('NVIDIA GeForce RTX 4090') that has Tensor Cores. To properly utilize them, you should set `torch.set_float32_matmul_precision('medium' | 'high')` which will trade-off precision for performance. For more details, read https://pytorch.org/docs/stable/generated/torch.set_float32_matmul_precision.html#torch.set_float32_matmul_precision\n",
                  "INFO:hydro_forecasting.data.in_memory_datamodule:Data preparation has already run.\n",
                  "/usr/local/lib/python3.10/dist-packages/pytorch_lightning/callbacks/model_checkpoint.py:654: Checkpoint directory /workspace/hydro-forecasting/experiments/low-medium-hii/low-medium-hii_tajikistan/checkpoints/tsmixer/run_0/attempt_0 exists and is not empty.\n",
                  "LOCAL_RANK: 0 - CUDA_VISIBLE_DEVICES: [0]\n",
                  "\n",
                  "  | Name          | Type    | Params | Mode \n",
                  "--------------------------------------------------\n",
                  "0 | mse_criterion | MSELoss | 0      | train\n",
                  "1 | model         | TSMixer | 177 K  | train\n",
                  "--------------------------------------------------\n",
                  "177 K     Trainable params\n",
                  "0         Non-trainable params\n",
                  "177 K     Total params\n",
                  "0.709     Total estimated model params size (MB)\n",
                  "89        Modules in train mode\n",
                  "0         Modules in eval mode\n"
               ]
            },
            {
               "data": {
                  "application/vnd.jupyter.widget-view+json": {
                     "model_id": "873ef4e0202b4395ac2f0c53c2abfe58",
                     "version_major": 2,
                     "version_minor": 0
                  },
                  "text/plain": [
                     "Sanity Checking: |          | 0/? [00:00<?, ?it/s]"
                  ]
               },
               "metadata": {},
               "output_type": "display_data"
            },
            {
               "name": "stderr",
               "output_type": "stream",
               "text": [
                  "INFO:hydro_forecasting.data.in_memory_datamodule:Epoch 0: Val Dataloader using cached validation data with 12470728 samples from 4000 basins.\n",
                  "/usr/local/lib/python3.10/dist-packages/pytorch_lightning/trainer/connectors/data_connector.py:432: The combination of `DataLoader(`pin_memory=True`, `persistent_workers=True`) and `Trainer(reload_dataloaders_every_n_epochs > 0)` can lead to instability due to limitations in PyTorch (https://github.com/pytorch/pytorch/issues/91252). We recommend setting `pin_memory=False` in this case.\n",
                  "INFO:hydro_forecasting.data.in_memory_datamodule:Epoch 0: Train Dataloader using chunk 1/5 with 1500 basins.\n",
                  "INFO:hydro_forecasting.data.in_memory_datamodule:Stage 'train' chunk data loaded for 1500 basins. Shape: (9655513, 12). Est. Mem: 442.01 MB\n",
                  "WARNING:hydro_forecasting.data.in_memory_datamodule:Could not find valid sequences for basin hysets_07030280 in stage 'train': Data height (101) is less than total sequence length (134)\n"
               ]
            },
            {
               "data": {
                  "application/vnd.jupyter.widget-view+json": {
                     "model_id": "c534bb3dabba4007a1e46176d90ffb5a",
                     "version_major": 2,
                     "version_minor": 0
                  },
                  "text/plain": [
                     "Training: |          | 0/? [00:00<?, ?it/s]"
                  ]
               },
               "metadata": {},
               "output_type": "display_data"
            },
            {
               "data": {
                  "application/vnd.jupyter.widget-view+json": {
                     "model_id": "d8e661bd32e84674acdd714015130564",
                     "version_major": 2,
                     "version_minor": 0
                  },
                  "text/plain": [
                     "Validation: |          | 0/? [00:00<?, ?it/s]"
                  ]
               },
               "metadata": {},
               "output_type": "display_data"
            },
            {
               "name": "stderr",
               "output_type": "stream",
               "text": [
                  "Metric val_loss improved. New best score: 0.053\n",
                  "INFO:hydro_forecasting.data.in_memory_datamodule:Epoch 1: Train Dataloader using chunk 2/5 with 1500 basins.\n",
                  "INFO:hydro_forecasting.data.in_memory_datamodule:Stage 'train' chunk data loaded for 1500 basins. Shape: (9801969, 12). Est. Mem: 448.72 MB\n",
                  "INFO:hydro_forecasting.data.in_memory_datamodule:Epoch 1: Val Dataloader using cached validation data with 12470728 samples from 4000 basins.\n"
               ]
            },
            {
               "data": {
                  "application/vnd.jupyter.widget-view+json": {
                     "model_id": "a23fc6fcf1c74b398d3e88a6caa9f291",
                     "version_major": 2,
                     "version_minor": 0
                  },
                  "text/plain": [
                     "Validation: |          | 0/? [00:00<?, ?it/s]"
                  ]
               },
               "metadata": {},
               "output_type": "display_data"
            },
            {
               "name": "stderr",
               "output_type": "stream",
               "text": [
                  "Metric val_loss improved by 0.004 >= min_delta = 0.0. New best score: 0.050\n",
                  "INFO:hydro_forecasting.data.in_memory_datamodule:Epoch 2: Train Dataloader using chunk 3/5 with 1500 basins.\n",
                  "INFO:hydro_forecasting.data.in_memory_datamodule:Stage 'train' chunk data loaded for 1500 basins. Shape: (9708816, 12). Est. Mem: 444.45 MB\n",
                  "INFO:hydro_forecasting.data.in_memory_datamodule:Epoch 2: Val Dataloader using cached validation data with 12470728 samples from 4000 basins.\n"
               ]
            },
            {
               "data": {
                  "application/vnd.jupyter.widget-view+json": {
                     "model_id": "0ab4222622bf43239f046efc0f2dfc2f",
                     "version_major": 2,
                     "version_minor": 0
                  },
                  "text/plain": [
                     "Validation: |          | 0/? [00:00<?, ?it/s]"
                  ]
               },
               "metadata": {},
               "output_type": "display_data"
            },
            {
               "name": "stderr",
               "output_type": "stream",
               "text": [
                  "Metric val_loss improved by 0.001 >= min_delta = 0.0. New best score: 0.048\n",
                  "INFO:hydro_forecasting.data.in_memory_datamodule:Epoch 3: Train Dataloader using chunk 4/5 with 1500 basins.\n",
                  "INFO:hydro_forecasting.data.in_memory_datamodule:Stage 'train' chunk data loaded for 1500 basins. Shape: (9649655, 12). Est. Mem: 441.75 MB\n",
                  "INFO:hydro_forecasting.data.in_memory_datamodule:Epoch 3: Val Dataloader using cached validation data with 12470728 samples from 4000 basins.\n"
               ]
            },
            {
               "data": {
                  "application/vnd.jupyter.widget-view+json": {
                     "model_id": "0d22128c5aee42698bcb383af5511144",
                     "version_major": 2,
                     "version_minor": 0
                  },
                  "text/plain": [
                     "Validation: |          | 0/? [00:00<?, ?it/s]"
                  ]
               },
               "metadata": {},
               "output_type": "display_data"
            },
            {
               "name": "stderr",
               "output_type": "stream",
               "text": [
                  "Metric val_loss improved by 0.001 >= min_delta = 0.0. New best score: 0.047\n",
                  "INFO:hydro_forecasting.data.in_memory_datamodule:Epoch 4: Train Dataloader using chunk 5/5 with 473 basins.\n",
                  "INFO:hydro_forecasting.data.in_memory_datamodule:Stage 'train' chunk data loaded for 473 basins. Shape: (3008729, 12). Est. Mem: 137.74 MB\n",
                  "INFO:hydro_forecasting.data.in_memory_datamodule:Epoch 4: Val Dataloader using cached validation data with 12470728 samples from 4000 basins.\n"
               ]
            },
            {
               "data": {
                  "application/vnd.jupyter.widget-view+json": {
                     "model_id": "47b32bf569974d06863f632edd06c8eb",
                     "version_major": 2,
                     "version_minor": 0
                  },
                  "text/plain": [
                     "Validation: |          | 0/? [00:00<?, ?it/s]"
                  ]
               },
               "metadata": {},
               "output_type": "display_data"
            },
            {
               "name": "stderr",
               "output_type": "stream",
               "text": [
                  "Metric val_loss improved by 0.000 >= min_delta = 0.0. New best score: 0.047\n",
                  "INFO:hydro_forecasting.data.in_memory_datamodule:Completed full pass through training shared chunks. Recomputing.\n",
                  "INFO:hydro_forecasting.data.in_memory_datamodule:Initializing/Re-initializing training shared chunks from 6473 basins.\n",
                  "INFO:hydro_forecasting.data.in_memory_datamodule:Created 5 training shared chunks.\n",
                  "INFO:hydro_forecasting.data.in_memory_datamodule:Epoch 5: Train Dataloader using chunk 1/5 with 1500 basins.\n",
                  "INFO:hydro_forecasting.data.in_memory_datamodule:Stage 'train' chunk data loaded for 1500 basins. Shape: (9609015, 12). Est. Mem: 439.89 MB\n",
                  "INFO:hydro_forecasting.data.in_memory_datamodule:Epoch 5: Val Dataloader using cached validation data with 12470728 samples from 4000 basins.\n"
               ]
            },
            {
               "data": {
                  "application/vnd.jupyter.widget-view+json": {
                     "model_id": "aca91bd36f6646ec8ca82966b3a778a3",
                     "version_major": 2,
                     "version_minor": 0
                  },
                  "text/plain": [
                     "Validation: |          | 0/? [00:00<?, ?it/s]"
                  ]
               },
               "metadata": {},
               "output_type": "display_data"
            },
            {
               "name": "stderr",
               "output_type": "stream",
               "text": [
                  "Metric val_loss improved by 0.001 >= min_delta = 0.0. New best score: 0.046\n",
                  "INFO:hydro_forecasting.data.in_memory_datamodule:Epoch 6: Train Dataloader using chunk 2/5 with 1500 basins.\n",
                  "INFO:hydro_forecasting.data.in_memory_datamodule:Stage 'train' chunk data loaded for 1500 basins. Shape: (9793863, 12). Est. Mem: 448.35 MB\n",
                  "WARNING:hydro_forecasting.data.in_memory_datamodule:Could not find valid sequences for basin hysets_07030280 in stage 'train': Data height (101) is less than total sequence length (134)\n",
                  "INFO:hydro_forecasting.data.in_memory_datamodule:Epoch 6: Val Dataloader using cached validation data with 12470728 samples from 4000 basins.\n"
               ]
            },
            {
               "data": {
                  "application/vnd.jupyter.widget-view+json": {
                     "model_id": "52ff45cf33d549b68e9d07e137f92d70",
                     "version_major": 2,
                     "version_minor": 0
                  },
                  "text/plain": [
                     "Validation: |          | 0/? [00:00<?, ?it/s]"
                  ]
               },
               "metadata": {},
               "output_type": "display_data"
            },
            {
               "name": "stderr",
               "output_type": "stream",
               "text": [
                  "INFO:hydro_forecasting.data.in_memory_datamodule:Epoch 7: Train Dataloader using chunk 3/5 with 1500 basins.\n",
                  "INFO:hydro_forecasting.data.in_memory_datamodule:Stage 'train' chunk data loaded for 1500 basins. Shape: (9686532, 12). Est. Mem: 443.43 MB\n",
                  "INFO:hydro_forecasting.data.in_memory_datamodule:Epoch 7: Val Dataloader using cached validation data with 12470728 samples from 4000 basins.\n"
               ]
            },
            {
               "data": {
                  "application/vnd.jupyter.widget-view+json": {
                     "model_id": "abebb4ef93dd4e70b375c19a7a3f727e",
                     "version_major": 2,
                     "version_minor": 0
                  },
                  "text/plain": [
                     "Validation: |          | 0/? [00:00<?, ?it/s]"
                  ]
               },
               "metadata": {},
               "output_type": "display_data"
            },
            {
               "name": "stderr",
               "output_type": "stream",
               "text": [
                  "Metric val_loss improved by 0.001 >= min_delta = 0.0. New best score: 0.044\n",
                  "INFO:hydro_forecasting.data.in_memory_datamodule:Epoch 8: Train Dataloader using chunk 4/5 with 1500 basins.\n",
                  "INFO:hydro_forecasting.data.in_memory_datamodule:Stage 'train' chunk data loaded for 1500 basins. Shape: (9666154, 12). Est. Mem: 442.50 MB\n",
                  "INFO:hydro_forecasting.data.in_memory_datamodule:Epoch 8: Val Dataloader using cached validation data with 12470728 samples from 4000 basins.\n"
               ]
            },
            {
               "data": {
                  "application/vnd.jupyter.widget-view+json": {
                     "model_id": "ce6849fb77304d8a875293647f7baebb",
                     "version_major": 2,
                     "version_minor": 0
                  },
                  "text/plain": [
                     "Validation: |          | 0/? [00:00<?, ?it/s]"
                  ]
               },
               "metadata": {},
               "output_type": "display_data"
            },
            {
               "name": "stderr",
               "output_type": "stream",
               "text": [
                  "INFO:hydro_forecasting.data.in_memory_datamodule:Epoch 9: Train Dataloader using chunk 5/5 with 473 basins.\n",
                  "INFO:hydro_forecasting.data.in_memory_datamodule:Stage 'train' chunk data loaded for 473 basins. Shape: (3069118, 12). Est. Mem: 140.50 MB\n",
                  "INFO:hydro_forecasting.data.in_memory_datamodule:Epoch 9: Val Dataloader using cached validation data with 12470728 samples from 4000 basins.\n"
               ]
            },
            {
               "data": {
                  "application/vnd.jupyter.widget-view+json": {
                     "model_id": "020643f3e7674dcb85cc3f7ffc0cd123",
                     "version_major": 2,
                     "version_minor": 0
                  },
                  "text/plain": [
                     "Validation: |          | 0/? [00:00<?, ?it/s]"
                  ]
               },
               "metadata": {},
               "output_type": "display_data"
            },
            {
               "name": "stderr",
               "output_type": "stream",
               "text": [
                  "INFO:hydro_forecasting.data.in_memory_datamodule:Completed full pass through training shared chunks. Recomputing.\n",
                  "INFO:hydro_forecasting.data.in_memory_datamodule:Initializing/Re-initializing training shared chunks from 6473 basins.\n",
                  "INFO:hydro_forecasting.data.in_memory_datamodule:Created 5 training shared chunks.\n",
                  "INFO:hydro_forecasting.data.in_memory_datamodule:Epoch 10: Train Dataloader using chunk 1/5 with 1500 basins.\n",
                  "INFO:hydro_forecasting.data.in_memory_datamodule:Stage 'train' chunk data loaded for 1500 basins. Shape: (9848595, 12). Est. Mem: 450.85 MB\n",
                  "INFO:hydro_forecasting.data.in_memory_datamodule:Epoch 10: Val Dataloader using cached validation data with 12470728 samples from 4000 basins.\n"
               ]
            },
            {
               "data": {
                  "application/vnd.jupyter.widget-view+json": {
                     "model_id": "00d9a97beff04d4ab6bdbb9abefe36a3",
                     "version_major": 2,
                     "version_minor": 0
                  },
                  "text/plain": [
                     "Validation: |          | 0/? [00:00<?, ?it/s]"
                  ]
               },
               "metadata": {},
               "output_type": "display_data"
            },
            {
               "name": "stderr",
               "output_type": "stream",
               "text": [
                  "Metric val_loss improved by 0.001 >= min_delta = 0.0. New best score: 0.044\n",
                  "INFO:hydro_forecasting.data.in_memory_datamodule:Epoch 11: Train Dataloader using chunk 2/5 with 1500 basins.\n",
                  "INFO:hydro_forecasting.data.in_memory_datamodule:Stage 'train' chunk data loaded for 1500 basins. Shape: (9563116, 12). Est. Mem: 437.79 MB\n",
                  "INFO:hydro_forecasting.data.in_memory_datamodule:Epoch 11: Val Dataloader using cached validation data with 12470728 samples from 4000 basins.\n"
               ]
            },
            {
               "data": {
                  "application/vnd.jupyter.widget-view+json": {
                     "model_id": "2ab39affd9284d7a9febc44883398f70",
                     "version_major": 2,
                     "version_minor": 0
                  },
                  "text/plain": [
                     "Validation: |          | 0/? [00:00<?, ?it/s]"
                  ]
               },
               "metadata": {},
               "output_type": "display_data"
            },
            {
               "name": "stderr",
               "output_type": "stream",
               "text": [
                  "INFO:hydro_forecasting.data.in_memory_datamodule:Epoch 12: Train Dataloader using chunk 3/5 with 1500 basins.\n",
                  "INFO:hydro_forecasting.data.in_memory_datamodule:Stage 'train' chunk data loaded for 1500 basins. Shape: (9789837, 12). Est. Mem: 448.16 MB\n",
                  "WARNING:hydro_forecasting.data.in_memory_datamodule:Could not find valid sequences for basin hysets_07030280 in stage 'train': Data height (101) is less than total sequence length (134)\n",
                  "INFO:hydro_forecasting.data.in_memory_datamodule:Epoch 12: Val Dataloader using cached validation data with 12470728 samples from 4000 basins.\n"
               ]
            },
            {
               "data": {
                  "application/vnd.jupyter.widget-view+json": {
                     "model_id": "8ca79e880a9d4c488d981995bf200ea6",
                     "version_major": 2,
                     "version_minor": 0
                  },
                  "text/plain": [
                     "Validation: |          | 0/? [00:00<?, ?it/s]"
                  ]
               },
               "metadata": {},
               "output_type": "display_data"
            },
            {
               "name": "stderr",
               "output_type": "stream",
               "text": [
                  "Metric val_loss improved by 0.000 >= min_delta = 0.0. New best score: 0.043\n",
                  "INFO:hydro_forecasting.data.in_memory_datamodule:Epoch 13: Train Dataloader using chunk 4/5 with 1500 basins.\n",
                  "INFO:hydro_forecasting.data.in_memory_datamodule:Stage 'train' chunk data loaded for 1500 basins. Shape: (9616912, 12). Est. Mem: 440.25 MB\n",
                  "INFO:hydro_forecasting.data.in_memory_datamodule:Epoch 13: Val Dataloader using cached validation data with 12470728 samples from 4000 basins.\n"
               ]
            },
            {
               "data": {
                  "application/vnd.jupyter.widget-view+json": {
                     "model_id": "464ef75c5090481a8b16ff33aa710841",
                     "version_major": 2,
                     "version_minor": 0
                  },
                  "text/plain": [
                     "Validation: |          | 0/? [00:00<?, ?it/s]"
                  ]
               },
               "metadata": {},
               "output_type": "display_data"
            },
            {
               "name": "stderr",
               "output_type": "stream",
               "text": [
                  "Metric val_loss improved by 0.000 >= min_delta = 0.0. New best score: 0.043\n",
                  "INFO:hydro_forecasting.data.in_memory_datamodule:Epoch 14: Train Dataloader using chunk 5/5 with 473 basins.\n",
                  "INFO:hydro_forecasting.data.in_memory_datamodule:Stage 'train' chunk data loaded for 473 basins. Shape: (3006222, 12). Est. Mem: 137.62 MB\n",
                  "INFO:hydro_forecasting.data.in_memory_datamodule:Epoch 14: Val Dataloader using cached validation data with 12470728 samples from 4000 basins.\n"
               ]
            },
            {
               "data": {
                  "application/vnd.jupyter.widget-view+json": {
                     "model_id": "f6f83021cc2743abb73511195bb83d9b",
                     "version_major": 2,
                     "version_minor": 0
                  },
                  "text/plain": [
                     "Validation: |          | 0/? [00:00<?, ?it/s]"
                  ]
               },
               "metadata": {},
               "output_type": "display_data"
            },
            {
               "name": "stderr",
               "output_type": "stream",
               "text": [
                  "INFO:hydro_forecasting.data.in_memory_datamodule:Completed full pass through training shared chunks. Recomputing.\n",
                  "INFO:hydro_forecasting.data.in_memory_datamodule:Initializing/Re-initializing training shared chunks from 6473 basins.\n",
                  "INFO:hydro_forecasting.data.in_memory_datamodule:Created 5 training shared chunks.\n",
                  "INFO:hydro_forecasting.data.in_memory_datamodule:Epoch 15: Train Dataloader using chunk 1/5 with 1500 basins.\n",
                  "INFO:hydro_forecasting.data.in_memory_datamodule:Stage 'train' chunk data loaded for 1500 basins. Shape: (9704899, 12). Est. Mem: 444.28 MB\n",
                  "INFO:hydro_forecasting.data.in_memory_datamodule:Epoch 15: Val Dataloader using cached validation data with 12470728 samples from 4000 basins.\n"
               ]
            },
            {
               "data": {
                  "application/vnd.jupyter.widget-view+json": {
                     "model_id": "8240ab9d40bb49c382a9fb679d8d5195",
                     "version_major": 2,
                     "version_minor": 0
                  },
                  "text/plain": [
                     "Validation: |          | 0/? [00:00<?, ?it/s]"
                  ]
               },
               "metadata": {},
               "output_type": "display_data"
            },
            {
               "name": "stderr",
               "output_type": "stream",
               "text": [
                  "Metric val_loss improved by 0.000 >= min_delta = 0.0. New best score: 0.043\n",
                  "INFO:hydro_forecasting.data.in_memory_datamodule:Epoch 16: Train Dataloader using chunk 2/5 with 1500 basins.\n",
                  "INFO:hydro_forecasting.data.in_memory_datamodule:Stage 'train' chunk data loaded for 1500 basins. Shape: (9762692, 12). Est. Mem: 446.92 MB\n",
                  "WARNING:hydro_forecasting.data.in_memory_datamodule:Could not find valid sequences for basin hysets_07030280 in stage 'train': Data height (101) is less than total sequence length (134)\n",
                  "INFO:hydro_forecasting.data.in_memory_datamodule:Epoch 16: Val Dataloader using cached validation data with 12470728 samples from 4000 basins.\n"
               ]
            },
            {
               "data": {
                  "application/vnd.jupyter.widget-view+json": {
                     "model_id": "de198447f96b4915aa6a3718ebe2eed7",
                     "version_major": 2,
                     "version_minor": 0
                  },
                  "text/plain": [
                     "Validation: |          | 0/? [00:00<?, ?it/s]"
                  ]
               },
               "metadata": {},
               "output_type": "display_data"
            },
            {
               "name": "stderr",
               "output_type": "stream",
               "text": [
                  "Metric val_loss improved by 0.000 >= min_delta = 0.0. New best score: 0.043\n",
                  "INFO:hydro_forecasting.data.in_memory_datamodule:Epoch 17: Train Dataloader using chunk 3/5 with 1500 basins.\n",
                  "INFO:hydro_forecasting.data.in_memory_datamodule:Stage 'train' chunk data loaded for 1500 basins. Shape: (9609820, 12). Est. Mem: 439.92 MB\n",
                  "INFO:hydro_forecasting.data.in_memory_datamodule:Epoch 17: Val Dataloader using cached validation data with 12470728 samples from 4000 basins.\n"
               ]
            },
            {
               "data": {
                  "application/vnd.jupyter.widget-view+json": {
                     "model_id": "783f7f52c88c4602a981245608342b89",
                     "version_major": 2,
                     "version_minor": 0
                  },
                  "text/plain": [
                     "Validation: |          | 0/? [00:00<?, ?it/s]"
                  ]
               },
               "metadata": {},
               "output_type": "display_data"
            },
            {
               "name": "stderr",
               "output_type": "stream",
               "text": [
                  "Metric val_loss improved by 0.000 >= min_delta = 0.0. New best score: 0.043\n",
                  "INFO:hydro_forecasting.data.in_memory_datamodule:Epoch 18: Train Dataloader using chunk 4/5 with 1500 basins.\n",
                  "INFO:hydro_forecasting.data.in_memory_datamodule:Stage 'train' chunk data loaded for 1500 basins. Shape: (9663496, 12). Est. Mem: 442.38 MB\n",
                  "INFO:hydro_forecasting.data.in_memory_datamodule:Epoch 18: Val Dataloader using cached validation data with 12470728 samples from 4000 basins.\n"
               ]
            },
            {
               "data": {
                  "application/vnd.jupyter.widget-view+json": {
                     "model_id": "e5363dc8a3ab4814890e0ef073817be2",
                     "version_major": 2,
                     "version_minor": 0
                  },
                  "text/plain": [
                     "Validation: |          | 0/? [00:00<?, ?it/s]"
                  ]
               },
               "metadata": {},
               "output_type": "display_data"
            },
            {
               "name": "stderr",
               "output_type": "stream",
               "text": [
                  "INFO:hydro_forecasting.data.in_memory_datamodule:Epoch 19: Train Dataloader using chunk 5/5 with 473 basins.\n",
                  "INFO:hydro_forecasting.data.in_memory_datamodule:Stage 'train' chunk data loaded for 473 basins. Shape: (3083775, 12). Est. Mem: 141.17 MB\n",
                  "INFO:hydro_forecasting.data.in_memory_datamodule:Epoch 19: Val Dataloader using cached validation data with 12470728 samples from 4000 basins.\n"
               ]
            },
            {
               "data": {
                  "application/vnd.jupyter.widget-view+json": {
                     "model_id": "2d9bac8578af4821b8b1e81af65386c5",
                     "version_major": 2,
                     "version_minor": 0
                  },
                  "text/plain": [
                     "Validation: |          | 0/? [00:00<?, ?it/s]"
                  ]
               },
               "metadata": {},
               "output_type": "display_data"
            },
            {
               "name": "stderr",
               "output_type": "stream",
               "text": [
                  "INFO:hydro_forecasting.data.in_memory_datamodule:Completed full pass through training shared chunks. Recomputing.\n",
                  "INFO:hydro_forecasting.data.in_memory_datamodule:Initializing/Re-initializing training shared chunks from 6473 basins.\n",
                  "INFO:hydro_forecasting.data.in_memory_datamodule:Created 5 training shared chunks.\n",
                  "INFO:hydro_forecasting.data.in_memory_datamodule:Epoch 20: Train Dataloader using chunk 1/5 with 1500 basins.\n",
                  "INFO:hydro_forecasting.data.in_memory_datamodule:Stage 'train' chunk data loaded for 1500 basins. Shape: (9646696, 12). Est. Mem: 441.61 MB\n",
                  "INFO:hydro_forecasting.data.in_memory_datamodule:Epoch 20: Val Dataloader using cached validation data with 12470728 samples from 4000 basins.\n"
               ]
            },
            {
               "data": {
                  "application/vnd.jupyter.widget-view+json": {
                     "model_id": "eedd19dea1b646bc9bdfa598ae07acbf",
                     "version_major": 2,
                     "version_minor": 0
                  },
                  "text/plain": [
                     "Validation: |          | 0/? [00:00<?, ?it/s]"
                  ]
               },
               "metadata": {},
               "output_type": "display_data"
            },
            {
               "name": "stderr",
               "output_type": "stream",
               "text": [
                  "Metric val_loss improved by 0.000 >= min_delta = 0.0. New best score: 0.042\n",
                  "INFO:hydro_forecasting.data.in_memory_datamodule:Epoch 21: Train Dataloader using chunk 2/5 with 1500 basins.\n",
                  "INFO:hydro_forecasting.data.in_memory_datamodule:Stage 'train' chunk data loaded for 1500 basins. Shape: (9667138, 12). Est. Mem: 442.55 MB\n",
                  "INFO:hydro_forecasting.data.in_memory_datamodule:Epoch 21: Val Dataloader using cached validation data with 12470728 samples from 4000 basins.\n"
               ]
            },
            {
               "data": {
                  "application/vnd.jupyter.widget-view+json": {
                     "model_id": "a1d899971bcd47bdb7d40c2114bf42e2",
                     "version_major": 2,
                     "version_minor": 0
                  },
                  "text/plain": [
                     "Validation: |          | 0/? [00:00<?, ?it/s]"
                  ]
               },
               "metadata": {},
               "output_type": "display_data"
            },
            {
               "name": "stderr",
               "output_type": "stream",
               "text": [
                  "INFO:hydro_forecasting.data.in_memory_datamodule:Epoch 22: Train Dataloader using chunk 3/5 with 1500 basins.\n",
                  "INFO:hydro_forecasting.data.in_memory_datamodule:Stage 'train' chunk data loaded for 1500 basins. Shape: (9768384, 12). Est. Mem: 447.18 MB\n",
                  "WARNING:hydro_forecasting.data.in_memory_datamodule:Could not find valid sequences for basin hysets_07030280 in stage 'train': Data height (101) is less than total sequence length (134)\n",
                  "INFO:hydro_forecasting.data.in_memory_datamodule:Epoch 22: Val Dataloader using cached validation data with 12470728 samples from 4000 basins.\n"
               ]
            },
            {
               "data": {
                  "application/vnd.jupyter.widget-view+json": {
                     "model_id": "a50c2be81e58418e9fa38c5335cc1389",
                     "version_major": 2,
                     "version_minor": 0
                  },
                  "text/plain": [
                     "Validation: |          | 0/? [00:00<?, ?it/s]"
                  ]
               },
               "metadata": {},
               "output_type": "display_data"
            },
            {
               "name": "stderr",
               "output_type": "stream",
               "text": [
                  "INFO:hydro_forecasting.data.in_memory_datamodule:Epoch 23: Train Dataloader using chunk 4/5 with 1500 basins.\n",
                  "INFO:hydro_forecasting.data.in_memory_datamodule:Stage 'train' chunk data loaded for 1500 basins. Shape: (9675670, 12). Est. Mem: 442.94 MB\n",
                  "INFO:hydro_forecasting.data.in_memory_datamodule:Epoch 23: Val Dataloader using cached validation data with 12470728 samples from 4000 basins.\n"
               ]
            },
            {
               "data": {
                  "application/vnd.jupyter.widget-view+json": {
                     "model_id": "afc709dba19e4257a93c7c11cd88eefa",
                     "version_major": 2,
                     "version_minor": 0
                  },
                  "text/plain": [
                     "Validation: |          | 0/? [00:00<?, ?it/s]"
                  ]
               },
               "metadata": {},
               "output_type": "display_data"
            }
         ],
         "source": [
            "train_results = train_model_from_scratch(\n",
            "    gauge_ids=basin_ids,\n",
            "    datamodule_config=datamodule_config,\n",
            "    training_config=training_config,\n",
            "    output_dir=output_dir,\n",
            "    model_types=model_types,\n",
            "    yaml_paths=yaml_paths,\n",
            "    experiment_name=experiment_name,\n",
            "    num_runs=num_runs,\n",
            "    override_previous_attempts=override_previous_attempts,\n",
            ")"
         ]
      },
      {
         "cell_type": "code",
         "execution_count": null,
         "id": "e96de1cc",
         "metadata": {},
         "outputs": [],
         "source": []
      }
   ],
   "metadata": {
      "kernelspec": {
         "display_name": "Python 3",
         "language": "python",
         "name": "python3"
      },
      "language_info": {
         "codemirror_mode": {
            "name": "ipython",
            "version": 3
         },
         "file_extension": ".py",
         "mimetype": "text/x-python",
         "name": "python",
         "nbconvert_exporter": "python",
         "pygments_lexer": "ipython3",
         "version": "3.10.12"
      }
   },
   "nbformat": 4,
   "nbformat_minor": 5
}
