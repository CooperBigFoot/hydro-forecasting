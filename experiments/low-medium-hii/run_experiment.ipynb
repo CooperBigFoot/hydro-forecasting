{
 "cells": [
  {
   "cell_type": "code",
   "execution_count": 1,
   "id": "2f2fc10e",
   "metadata": {},
   "outputs": [
    {
     "name": "stdout",
     "output_type": "stream",
     "text": [
      "[LabBuildApp] JupyterLab 4.0.8\n",
      "[LabBuildApp] Building in /usr/local/share/jupyter/lab\n",
      "[LabBuildApp] ERROR | Build failed.\n",
      "Troubleshooting: If the build failed due to an out-of-memory error, you\n",
      "may be able to fix it by disabling the `dev_build` and/or `minimize` options.\n",
      "\n",
      "If you are building via the `jupyter lab build` command, you can disable\n",
      "these options like so:\n",
      "\n",
      "jupyter lab build --dev-build=False --minimize=False\n",
      "\n",
      "You can also disable these options for all JupyterLab builds by adding these\n",
      "lines to a Jupyter config file named `jupyter_config.py`:\n",
      "\n",
      "c.LabBuildApp.minimize = False\n",
      "c.LabBuildApp.dev_build = False\n",
      "\n",
      "If you don't already have a `jupyter_config.py` file, you can create one by\n",
      "adding a blank file of that name to any of the Jupyter config directories.\n",
      "The config directories can be listed by running:\n",
      "\n",
      "jupyter --paths\n",
      "\n",
      "Explanation:\n",
      "\n",
      "- `dev-build`: This option controls whether a `dev` or a more streamlined\n",
      "`production` build is used. This option will default to `False` (i.e., the\n",
      "`production` build) for most users. However, if you have any labextensions\n",
      "installed from local files, this option will instead default to `True`.\n",
      "Explicitly setting `dev-build` to `False` will ensure that the `production`\n",
      "build is used in all circumstances.\n",
      "\n",
      "- `minimize`: This option controls whether your JS bundle is minified\n",
      "during the Webpack build, which helps to improve JupyterLab's overall\n",
      "performance. However, the minifier plugin used by Webpack is very memory\n",
      "intensive, so turning it off may help the build finish successfully in\n",
      "low-memory environments.\n",
      "\n",
      "/usr/local/lib/python3.10/dist-packages/jupyterlab/debuglog.py:56: UserWarning: An error occurred.\n",
      "  warnings.warn(\"An error occurred.\")\n",
      "/usr/local/lib/python3.10/dist-packages/jupyterlab/debuglog.py:57: UserWarning: ValueError: Please install Node.js and npm before continuing installation. You may be able to install Node.js from your package manager, from conda, or directly from the Node.js website (https://nodejs.org).\n",
      "  warnings.warn(msg[-1].strip())\n",
      "/usr/local/lib/python3.10/dist-packages/jupyterlab/debuglog.py:58: UserWarning: See the log file for details: /tmp/jupyterlab-debug-m575qs08.log\n",
      "  warnings.warn(f\"See the log file for details: {log_path!s}\")\n"
     ]
    }
   ],
   "source": [
    "!jupyter lab build"
   ]
  },
  {
   "cell_type": "code",
   "execution_count": 2,
   "id": "659bed6b",
   "metadata": {},
   "outputs": [],
   "source": [
    "import sys\n",
    "from pathlib import Path\n",
    "\n",
    "# Add src directory to Python path\n",
    "project_root = Path.cwd().parent.parent\n",
    "src_path = project_root / \"src\"\n",
    "if str(src_path) not in sys.path:\n",
    "    sys.path.insert(0, str(src_path))\n",
    "    print(f\"Added {src_path} to Python path\")"
   ]
  },
  {
   "cell_type": "code",
   "execution_count": 3,
   "id": "f65efe2c",
   "metadata": {},
   "outputs": [
    {
     "name": "stderr",
     "output_type": "stream",
     "text": [
      "/usr/local/lib/python3.10/dist-packages/torchvision/io/image.py:13: UserWarning: Failed to load image Python extension: '/usr/local/lib/python3.10/dist-packages/torchvision/image.so: undefined symbol: _ZN3c1017RegisterOperatorsD1Ev'If you don't plan on using image functionality from `torchvision.io`, you can ignore this warning. Otherwise, there might be something wrong with your environment. Did you have `libjpeg` or `libpng` installed before building `torchvision` from source?\n",
      "  warn(\n"
     ]
    }
   ],
   "source": [
    "import torch\n",
    "from sklearn.pipeline import Pipeline\n",
    "\n",
    "from hydro_forecasting.data.caravanify_parquet import (\n",
    "    CaravanifyParquet,\n",
    "    CaravanifyParquetConfig,\n",
    ")\n",
    "from hydro_forecasting.experiment_utils.train_model_from_scratch import train_model_from_scratch\n",
    "from hydro_forecasting.preprocessing.grouped import GroupedPipeline\n",
    "from hydro_forecasting.preprocessing.normalize import NormalizeTransformer\n",
    "from hydro_forecasting.preprocessing.standard_scale import StandardScaleTransformer"
   ]
  },
  {
   "cell_type": "markdown",
   "id": "5e7c3393",
   "metadata": {},
   "source": [
    "---"
   ]
  },
  {
   "cell_type": "markdown",
   "id": "dab68b34",
   "metadata": {},
   "source": [
    "## Experiment constants"
   ]
  },
  {
   "cell_type": "code",
   "execution_count": 5,
   "id": "7a6885fe",
   "metadata": {},
   "outputs": [],
   "source": [
    "REGIONS = [\n",
    "    \"CL\",\n",
    "    \"CH\",\n",
    "    \"USA\",\n",
    "    \"camelsaus\",\n",
    "    \"camelsgb\",\n",
    "    \"camelsbr\",\n",
    "    \"hysets\",\n",
    "    \"lamah\",\n",
    "]\n",
    "\n",
    "COUNTRY = \"tajikistan\""
   ]
  },
  {
   "cell_type": "markdown",
   "id": "2533b81f",
   "metadata": {},
   "source": [
    "## Loading the data (as gauge_ids)"
   ]
  },
  {
   "cell_type": "code",
   "execution_count": 6,
   "id": "ed0ce646",
   "metadata": {},
   "outputs": [
    {
     "name": "stdout",
     "output_type": "stream",
     "text": [
      "Loading basin IDs for region: CL\n",
      "Original gauge_ids: 505\n",
      "Filtered gauge_ids: 487\n",
      "Loading basin IDs for region: CH\n",
      "Original gauge_ids: 135\n",
      "Filtered gauge_ids: 0\n",
      "No gauge_ids matched the specified human influence categories.\n",
      "Loading basin IDs for region: USA\n",
      "Original gauge_ids: 671\n",
      "Filtered gauge_ids: 567\n",
      "Loading basin IDs for region: camelsaus\n",
      "Original gauge_ids: 222\n",
      "Filtered gauge_ids: 215\n",
      "Loading basin IDs for region: camelsgb\n",
      "Original gauge_ids: 671\n",
      "Filtered gauge_ids: 538\n",
      "Loading basin IDs for region: camelsbr\n",
      "Original gauge_ids: 870\n",
      "Filtered gauge_ids: 868\n",
      "Loading basin IDs for region: hysets\n",
      "Original gauge_ids: 12162\n",
      "Filtered gauge_ids: 8463\n",
      "Loading basin IDs for region: lamah\n",
      "Original gauge_ids: 859\n",
      "Filtered gauge_ids: 812\n"
     ]
    }
   ],
   "source": [
    "def load_basin_ids(regions, human_influence_path: str, human_influence_categories: list):\n",
    "    \"\"\"\n",
    "    Simple function to load basin IDs from multiple regions and filter by human influence.\n",
    "\n",
    "    Args:\n",
    "        regions: List of region names to process\n",
    "        human_influence_path: Path to human influence classification file\n",
    "        human_influence_categories: Categories of human influence to keep\n",
    "\n",
    "    Returns:\n",
    "        List of filtered basin IDs\n",
    "    \"\"\"\n",
    "\n",
    "    human_influence_path = Path(human_influence_path)\n",
    "\n",
    "    basin_ids = []\n",
    "\n",
    "    for region in regions:\n",
    "        print(f\"Loading basin IDs for region: {region}\")\n",
    "        # Set up paths\n",
    "        attributes_dir = f\"/workspace/CaravanifyParquet/{region}/post_processed/attributes\"\n",
    "        timeseries_dir = f\"/workspace/CaravanifyParquet/{region}/post_processed/timeseries/csv\"\n",
    "\n",
    "        # Create config\n",
    "        config = CaravanifyParquetConfig(\n",
    "            attributes_dir=attributes_dir,\n",
    "            timeseries_dir=timeseries_dir,\n",
    "            human_influence_path=human_influence_path,\n",
    "            gauge_id_prefix=region,\n",
    "            use_hydroatlas_attributes=True,\n",
    "            use_caravan_attributes=True,\n",
    "            use_other_attributes=True,\n",
    "        )\n",
    "\n",
    "        # Get and filter basin IDs\n",
    "        caravan = CaravanifyParquet(config)\n",
    "        region_basin_ids = caravan.get_all_gauge_ids()\n",
    "\n",
    "        # Filter by human influence if path provided\n",
    "        if human_influence_path and human_influence_path.exists():\n",
    "            filtered_ids, _ = caravan.filter_gauge_ids_by_human_influence(region_basin_ids, human_influence_categories)\n",
    "        else:\n",
    "            filtered_ids = region_basin_ids\n",
    "\n",
    "        basin_ids.extend(filtered_ids)\n",
    "\n",
    "    # Return unique, sorted basin IDs\n",
    "    return sorted(set(basin_ids))\n",
    "\n",
    "\n",
    "basin_ids = load_basin_ids(\n",
    "    REGIONS,\n",
    "    human_influence_path=\"/workspace/hydro-forecasting/scripts/human_influence_index/results/human_influence_classification.parquet\",\n",
    "    human_influence_categories=[\"Low\", \"Medium\"],\n",
    ")"
   ]
  },
  {
   "cell_type": "markdown",
   "id": "73f9edf0",
   "metadata": {},
   "source": [
    "## Datamodule Configs"
   ]
  },
  {
   "cell_type": "code",
   "execution_count": 7,
   "id": "c2ea76fb",
   "metadata": {},
   "outputs": [],
   "source": [
    "region_time_series_base_dirs = {\n",
    "    region: f\"/workspace/CaravanifyParquet/{region}/post_processed/timeseries/csv/{region}\"\n",
    "    for region in REGIONS\n",
    "}\n",
    "\n",
    "region_static_attributes_base_dirs = {\n",
    "    region: f\"/workspace/CaravanifyParquet/{region}/post_processed/attributes/{region}\" for region in REGIONS\n",
    "}\n",
    "\n",
    "path_to_preprocessing_output_directory = \"/workspace/hydro-forecasting/experiments/low-medium-hii/data_cache\""
   ]
  },
  {
   "cell_type": "code",
   "execution_count": 8,
   "id": "f14911d3",
   "metadata": {},
   "outputs": [],
   "source": [
    "forcing_features = [\n",
    "    \"snow_depth_water_equivalent_mean\",\n",
    "    \"surface_net_solar_radiation_mean\",\n",
    "    \"surface_net_thermal_radiation_mean\",\n",
    "    \"potential_evaporation_sum_ERA5_LAND\",\n",
    "    \"potential_evaporation_sum_FAO_PENMAN_MONTEITH\",\n",
    "    \"temperature_2m_mean\",\n",
    "    \"temperature_2m_min\",\n",
    "    \"temperature_2m_max\",\n",
    "    \"total_precipitation_sum\",\n",
    "]\n",
    "\n",
    "static_features = [\n",
    "    \"p_mean\",\n",
    "    \"area\",\n",
    "    \"ele_mt_sav\",\n",
    "    \"high_prec_dur\",\n",
    "    \"frac_snow\",\n",
    "    \"high_prec_freq\",\n",
    "    \"slp_dg_sav\",\n",
    "    \"cly_pc_sav\",\n",
    "    \"aridity_ERA5_LAND\",\n",
    "    \"aridity_FAO_PM\",\n",
    "]\n",
    "\n",
    "target = \"streamflow\""
   ]
  },
  {
   "cell_type": "code",
   "execution_count": 9,
   "id": "962da35a",
   "metadata": {},
   "outputs": [],
   "source": [
    "feature_pipeline = GroupedPipeline(\n",
    "    Pipeline([(\"scaler\", StandardScaleTransformer()), (\"normalizer\", NormalizeTransformer())]),\n",
    "    columns=forcing_features,\n",
    "    group_identifier=\"gauge_id\",\n",
    ")\n",
    "\n",
    "target_pipeline = GroupedPipeline(\n",
    "    Pipeline([(\"scaler\", StandardScaleTransformer()), (\"normalizer\", NormalizeTransformer())]),\n",
    "    columns=[\"streamflow\"],\n",
    "    group_identifier=\"gauge_id\",\n",
    ")\n",
    "\n",
    "static_pipeline = Pipeline([(\"scaler\", StandardScaleTransformer())])\n",
    "\n",
    "preprocessing_config = {\n",
    "    \"features\": {\"pipeline\": feature_pipeline},\n",
    "    \"target\": {\"pipeline\": target_pipeline},\n",
    "    \"static_features\": {\"pipeline\": static_pipeline, \"columns\": static_features},\n",
    "}"
   ]
  },
  {
   "cell_type": "code",
   "execution_count": 10,
   "id": "cd0f0b66",
   "metadata": {},
   "outputs": [],
   "source": [
    "datamodule_config = {\n",
    "    \"region_time_series_base_dirs\": region_time_series_base_dirs,\n",
    "    \"region_static_attributes_base_dirs\": region_static_attributes_base_dirs,\n",
    "    \"path_to_preprocessing_output_directory\": path_to_preprocessing_output_directory,\n",
    "    \"group_identifier\": \"gauge_id\",\n",
    "    \"batch_size\": 2048,\n",
    "    \"forcing_features\": forcing_features,\n",
    "    \"static_features\": static_features,\n",
    "    \"target\": target,\n",
    "    \"num_workers\": 10,\n",
    "    \"min_train_years\": 10,\n",
    "    \"train_prop\": 0.5,\n",
    "    \"val_prop\": 0.25,\n",
    "    \"test_prop\": 0.25,\n",
    "    \"max_imputation_gap_size\": 5,\n",
    "    \"chunk_size\": 1500,\n",
    "    \"validation_chunk_size\": 4000,\n",
    "    \"is_autoregressive\": True,\n",
    "    \"preprocessing_configs\": preprocessing_config,\n",
    "}"
   ]
  },
  {
   "cell_type": "markdown",
   "id": "158363b3",
   "metadata": {},
   "source": [
    "## Training Configs"
   ]
  },
  {
   "cell_type": "code",
   "execution_count": 11,
   "id": "9709710c",
   "metadata": {},
   "outputs": [],
   "source": [
    "training_config = {\n",
    "    \"max_epochs\": 300,\n",
    "    \"accelerator\": \"cuda\" if torch.cuda.is_available() else \"cpu\",\n",
    "    \"devices\": 1,\n",
    "    \"early_stopping_patience\": 30,\n",
    "    \"reload_dataloaders_every_n_epochs\": 1,\n",
    "}"
   ]
  },
  {
   "cell_type": "markdown",
   "id": "38258592",
   "metadata": {},
   "source": [
    "## Remaining Configs"
   ]
  },
  {
   "cell_type": "code",
   "execution_count": 12,
   "id": "2274e894",
   "metadata": {},
   "outputs": [],
   "source": [
    "output_dir = \"/workspace/hydro-forecasting/experiments/low-medium-hii\"\n",
    "model_types = [\"tide\", \"ealstm\", \"tsmixer\", \"tft\"]\n",
    "yaml_paths = [\n",
    "    f\"/workspace/hydro-forecasting/experiments/yaml-files/{COUNTRY}/tide.yaml\",\n",
    "    f\"/workspace/hydro-forecasting/experiments/yaml-files/{COUNTRY}/ealstm.yaml\",\n",
    "    f\"/workspace/hydro-forecasting/experiments/yaml-files/{COUNTRY}/tsmixer.yaml\",\n",
    "    f\"/workspace/hydro-forecasting/experiments/yaml-files/{COUNTRY}/tft.yaml\",\n",
    "]\n",
    "experiment_name = f\"low-medium-hii_{COUNTRY}\"\n",
    "num_runs = 1\n",
    "override_previous_attempts = False"
   ]
  },
  {
   "cell_type": "markdown",
   "id": "fb369289",
   "metadata": {},
   "source": [
    "## Training the models from scratch"
   ]
  },
  {
   "cell_type": "code",
   "execution_count": null,
   "id": "1054c874",
   "metadata": {},
   "outputs": [
    {
     "name": "stderr",
     "output_type": "stream",
     "text": [
      "INFO:hydro_forecasting.experiment_utils.training_runner:Starting experiment 'low-medium-hii_tajikistan'\n",
      "INFO:hydro_forecasting.experiment_utils.training_runner:Output directory: /workspace/hydro-forecasting/experiments/low-medium-hii/low-medium-hii_tajikistan\n",
      "INFO:hydro_forecasting.experiment_utils.training_runner:Models to process: tide, ealstm, tsmixer, tft\n",
      "INFO:hydro_forecasting.experiment_utils.training_runner:Number of runs per model: 1\n",
      "INFO:hydro_forecasting.experiment_utils.training_runner:Processing model (1/4): tide\n",
      "INFO:hydro_forecasting.experiment_utils.training_runner:Processing model: tide\n",
      "INFO:hydro_forecasting.data.in_memory_datamodule:Starting data preparation...\n",
      "INFO:hydro_forecasting.data.in_memory_datamodule:Generated Run UUID for current config: e82931a3-45c7-56ef-a2a8-4f74f03e347d\n",
      "INFO:hydro_forecasting.data.in_memory_datamodule:Checking for existing processed data at: /workspace/hydro-forecasting/experiments/low-medium-hii/data_cache/e82931a3-45c7-56ef-a2a8-4f74f03e347d\n",
      "INFO:hydro_forecasting.data.in_memory_datamodule:Successfully validated and prepared to reuse data from /workspace/hydro-forecasting/experiments/low-medium-hii/data_cache/e82931a3-45c7-56ef-a2a8-4f74f03e347d\n",
      "INFO:hydro_forecasting.data.in_memory_datamodule:Reusing existing processed data from run_uuid: e82931a3-45c7-56ef-a2a8-4f74f03e347d\n",
      "INFO:hydro_forecasting.data.in_memory_datamodule:Loaded 3 pipelines and data for 8329 basins from reused run.\n",
      "INFO:hydro_forecasting.data.in_memory_datamodule:Found 6473 basins for synchronized train/val chunking and validation pool selection.\n",
      "INFO:hydro_forecasting.data.in_memory_datamodule:Found 6473 basins for test split.\n",
      "INFO:hydro_forecasting.data.in_memory_datamodule:Data preparation finished.\n",
      "INFO:hydro_forecasting.data.in_memory_datamodule:Loading static data cache and converting to Tensors...\n",
      "INFO:hydro_forecasting.data.in_memory_datamodule:Loaded and tensorized static data for 11950 basins.\n",
      "INFO:hydro_forecasting.data.in_memory_datamodule:Created fixed validation pool with 4000 basins: ['lamah_201210', 'CL_4726001', 'camelsbr_64659000', 'USA_06934000', 'hysets_06054500']...\n",
      "INFO:hydro_forecasting.data.in_memory_datamodule:Loading and caching data for 4000 validation basins...\n",
      "INFO:hydro_forecasting.data.in_memory_datamodule:Stage 'val' chunk data loaded for 4000 basins. Shape: (12916193, 12). Est. Mem: 591.31 MB\n",
      "INFO:hydro_forecasting.data.in_memory_datamodule:Successfully cached validation data. Index entries: 12484193.\n",
      "INFO:hydro_forecasting.data.in_memory_datamodule:Initializing/Re-initializing training shared chunks from 6473 basins.\n",
      "INFO:hydro_forecasting.data.in_memory_datamodule:Created 5 training shared chunks.\n",
      "INFO:hydro_forecasting.data.in_memory_datamodule:Initial training shared chunks: 5 chunks of approx size 1500 from 6473 basins.\n",
      "INFO:hydro_forecasting.experiment_utils.training_runner:Starting run 1/1 for tide\n",
      "Seed set to 42\n",
      "INFO:hydro_forecasting.experiment_utils.training_runner:Using seed: 42\n",
      "INFO:hydro_forecasting.experiment_utils.checkpoint_manager:Creating new attempt: /workspace/hydro-forecasting/experiments/low-medium-hii/low-medium-hii_tajikistan/checkpoints/tide/run_0/attempt_0\n",
      "INFO:hydro_forecasting.experiment_utils.checkpoint_manager:Creating new attempt: /workspace/hydro-forecasting/experiments/low-medium-hii/low-medium-hii_tajikistan/logs/tide/run_0/attempt_0\n",
      "GPU available: True (cuda), used: True\n",
      "TPU available: False, using: 0 TPU cores\n",
      "HPU available: False, using: 0 HPUs\n",
      "You are using a CUDA device ('NVIDIA GeForce RTX 4090') that has Tensor Cores. To properly utilize them, you should set `torch.set_float32_matmul_precision('medium' | 'high')` which will trade-off precision for performance. For more details, read https://pytorch.org/docs/stable/generated/torch.set_float32_matmul_precision.html#torch.set_float32_matmul_precision\n",
      "INFO:hydro_forecasting.data.in_memory_datamodule:Data preparation has already run.\n",
      "LOCAL_RANK: 0 - CUDA_VISIBLE_DEVICES: [0]\n",
      "\n",
      "  | Name          | Type      | Params | Mode \n",
      "----------------------------------------------------\n",
      "0 | mse_criterion | MSELoss   | 0      | train\n",
      "1 | model         | TiDEModel | 266 K  | train\n",
      "----------------------------------------------------\n",
      "266 K     Trainable params\n",
      "0         Non-trainable params\n",
      "266 K     Total params\n",
      "1.065     Total estimated model params size (MB)\n",
      "47        Modules in train mode\n",
      "0         Modules in eval mode\n"
     ]
    },
    {
     "data": {
      "application/vnd.jupyter.widget-view+json": {
       "model_id": "91e425f724fc408db19f837f46459df2",
       "version_major": 2,
       "version_minor": 0
      },
      "text/plain": [
       "Sanity Checking: |          | 0/? [00:00<?, ?it/s]"
      ]
     },
     "metadata": {},
     "output_type": "display_data"
    },
    {
     "name": "stderr",
     "output_type": "stream",
     "text": [
      "INFO:hydro_forecasting.data.in_memory_datamodule:Epoch 0: Val Dataloader using cached validation data with 12484193 samples from 4000 basins.\n",
      "/usr/local/lib/python3.10/dist-packages/pytorch_lightning/trainer/connectors/data_connector.py:432: The combination of `DataLoader(`pin_memory=True`, `persistent_workers=True`) and `Trainer(reload_dataloaders_every_n_epochs > 0)` can lead to instability due to limitations in PyTorch (https://github.com/pytorch/pytorch/issues/91252). We recommend setting `pin_memory=False` in this case.\n",
      "INFO:hydro_forecasting.data.in_memory_datamodule:Epoch 0: Train Dataloader using chunk 1/5 with 1500 basins.\n",
      "INFO:hydro_forecasting.data.in_memory_datamodule:Stage 'train' chunk data loaded for 1500 basins. Shape: (9613903, 12). Est. Mem: 440.11 MB\n"
     ]
    },
    {
     "data": {
      "application/vnd.jupyter.widget-view+json": {
       "model_id": "8e0e764b5fe0487c90dfe36c5b8de2bd",
       "version_major": 2,
       "version_minor": 0
      },
      "text/plain": [
       "Training: |          | 0/? [00:00<?, ?it/s]"
      ]
     },
     "metadata": {},
     "output_type": "display_data"
    },
    {
     "data": {
      "application/vnd.jupyter.widget-view+json": {
       "model_id": "bf224be1192f45a08691706398f690ab",
       "version_major": 2,
       "version_minor": 0
      },
      "text/plain": [
       "Validation: |          | 0/? [00:00<?, ?it/s]"
      ]
     },
     "metadata": {},
     "output_type": "display_data"
    },
    {
     "name": "stderr",
     "output_type": "stream",
     "text": [
      "Metric val_loss improved. New best score: 0.301\n",
      "INFO:hydro_forecasting.data.in_memory_datamodule:Epoch 1: Train Dataloader using chunk 2/5 with 1500 basins.\n",
      "INFO:hydro_forecasting.data.in_memory_datamodule:Stage 'train' chunk data loaded for 1500 basins. Shape: (9655124, 12). Est. Mem: 442.00 MB\n",
      "WARNING:hydro_forecasting.data.in_memory_datamodule:Could not find valid sequences for basin hysets_07030280 in stage 'train': Data height (101) is less than total sequence length (109)\n",
      "INFO:hydro_forecasting.data.in_memory_datamodule:Epoch 1: Val Dataloader using cached validation data with 12484193 samples from 4000 basins.\n"
     ]
    },
    {
     "data": {
      "application/vnd.jupyter.widget-view+json": {
       "model_id": "85f011d320fc421696712aa0f975f6a9",
       "version_major": 2,
       "version_minor": 0
      },
      "text/plain": [
       "Validation: |          | 0/? [00:00<?, ?it/s]"
      ]
     },
     "metadata": {},
     "output_type": "display_data"
    },
    {
     "name": "stderr",
     "output_type": "stream",
     "text": [
      "Metric val_loss improved by 0.028 >= min_delta = 0.0. New best score: 0.272\n",
      "INFO:hydro_forecasting.data.in_memory_datamodule:Epoch 2: Train Dataloader using chunk 3/5 with 1500 basins.\n",
      "INFO:hydro_forecasting.data.in_memory_datamodule:Stage 'train' chunk data loaded for 1500 basins. Shape: (9787574, 12). Est. Mem: 448.06 MB\n",
      "INFO:hydro_forecasting.data.in_memory_datamodule:Epoch 2: Val Dataloader using cached validation data with 12484193 samples from 4000 basins.\n"
     ]
    },
    {
     "data": {
      "application/vnd.jupyter.widget-view+json": {
       "model_id": "b7f6aa96cf9745c59f36a633f42dd1a3",
       "version_major": 2,
       "version_minor": 0
      },
      "text/plain": [
       "Validation: |          | 0/? [00:00<?, ?it/s]"
      ]
     },
     "metadata": {},
     "output_type": "display_data"
    },
    {
     "name": "stderr",
     "output_type": "stream",
     "text": [
      "Metric val_loss improved by 0.153 >= min_delta = 0.0. New best score: 0.119\n",
      "INFO:hydro_forecasting.data.in_memory_datamodule:Epoch 3: Train Dataloader using chunk 4/5 with 1500 basins.\n",
      "INFO:hydro_forecasting.data.in_memory_datamodule:Stage 'train' chunk data loaded for 1500 basins. Shape: (9720851, 12). Est. Mem: 445.01 MB\n",
      "INFO:hydro_forecasting.data.in_memory_datamodule:Epoch 3: Val Dataloader using cached validation data with 12484193 samples from 4000 basins.\n"
     ]
    },
    {
     "data": {
      "application/vnd.jupyter.widget-view+json": {
       "model_id": "1528123863204ca08d8eaa99ddc90f9a",
       "version_major": 2,
       "version_minor": 0
      },
      "text/plain": [
       "Validation: |          | 0/? [00:00<?, ?it/s]"
      ]
     },
     "metadata": {},
     "output_type": "display_data"
    },
    {
     "name": "stderr",
     "output_type": "stream",
     "text": [
      "Metric val_loss improved by 0.016 >= min_delta = 0.0. New best score: 0.103\n",
      "INFO:hydro_forecasting.data.in_memory_datamodule:Epoch 4: Train Dataloader using chunk 5/5 with 473 basins.\n",
      "INFO:hydro_forecasting.data.in_memory_datamodule:Stage 'train' chunk data loaded for 473 basins. Shape: (3047230, 12). Est. Mem: 139.50 MB\n",
      "INFO:hydro_forecasting.data.in_memory_datamodule:Epoch 4: Val Dataloader using cached validation data with 12484193 samples from 4000 basins.\n"
     ]
    },
    {
     "data": {
      "application/vnd.jupyter.widget-view+json": {
       "model_id": "628072915d7440eeb48b5bc7d70560ef",
       "version_major": 2,
       "version_minor": 0
      },
      "text/plain": [
       "Validation: |          | 0/? [00:00<?, ?it/s]"
      ]
     },
     "metadata": {},
     "output_type": "display_data"
    },
    {
     "name": "stderr",
     "output_type": "stream",
     "text": [
      "Metric val_loss improved by 0.004 >= min_delta = 0.0. New best score: 0.098\n",
      "INFO:hydro_forecasting.data.in_memory_datamodule:Completed full pass through training shared chunks. Recomputing.\n",
      "INFO:hydro_forecasting.data.in_memory_datamodule:Initializing/Re-initializing training shared chunks from 6473 basins.\n",
      "INFO:hydro_forecasting.data.in_memory_datamodule:Created 5 training shared chunks.\n",
      "INFO:hydro_forecasting.data.in_memory_datamodule:Epoch 5: Train Dataloader using chunk 1/5 with 1500 basins.\n",
      "INFO:hydro_forecasting.data.in_memory_datamodule:Stage 'train' chunk data loaded for 1500 basins. Shape: (9708939, 12). Est. Mem: 444.46 MB\n",
      "INFO:hydro_forecasting.data.in_memory_datamodule:Epoch 5: Val Dataloader using cached validation data with 12484193 samples from 4000 basins.\n"
     ]
    },
    {
     "data": {
      "application/vnd.jupyter.widget-view+json": {
       "model_id": "24c57401959145f2b3bd22f2ef625171",
       "version_major": 2,
       "version_minor": 0
      },
      "text/plain": [
       "Validation: |          | 0/? [00:00<?, ?it/s]"
      ]
     },
     "metadata": {},
     "output_type": "display_data"
    },
    {
     "name": "stderr",
     "output_type": "stream",
     "text": [
      "Metric val_loss improved by 0.020 >= min_delta = 0.0. New best score: 0.078\n",
      "INFO:hydro_forecasting.data.in_memory_datamodule:Epoch 6: Train Dataloader using chunk 2/5 with 1500 basins.\n",
      "INFO:hydro_forecasting.data.in_memory_datamodule:Stage 'train' chunk data loaded for 1500 basins. Shape: (9744655, 12). Est. Mem: 446.10 MB\n",
      "INFO:hydro_forecasting.data.in_memory_datamodule:Epoch 6: Val Dataloader using cached validation data with 12484193 samples from 4000 basins.\n"
     ]
    },
    {
     "data": {
      "application/vnd.jupyter.widget-view+json": {
       "model_id": "d21cadaf2f9e4c87a56534ec29024906",
       "version_major": 2,
       "version_minor": 0
      },
      "text/plain": [
       "Validation: |          | 0/? [00:00<?, ?it/s]"
      ]
     },
     "metadata": {},
     "output_type": "display_data"
    },
    {
     "name": "stderr",
     "output_type": "stream",
     "text": [
      "INFO:hydro_forecasting.data.in_memory_datamodule:Epoch 7: Train Dataloader using chunk 3/5 with 1500 basins.\n",
      "INFO:hydro_forecasting.data.in_memory_datamodule:Stage 'train' chunk data loaded for 1500 basins. Shape: (9715720, 12). Est. Mem: 444.77 MB\n",
      "INFO:hydro_forecasting.data.in_memory_datamodule:Epoch 7: Val Dataloader using cached validation data with 12484193 samples from 4000 basins.\n"
     ]
    },
    {
     "data": {
      "application/vnd.jupyter.widget-view+json": {
       "model_id": "b1d11e028f954524bca3e31d3a29b111",
       "version_major": 2,
       "version_minor": 0
      },
      "text/plain": [
       "Validation: |          | 0/? [00:00<?, ?it/s]"
      ]
     },
     "metadata": {},
     "output_type": "display_data"
    },
    {
     "name": "stderr",
     "output_type": "stream",
     "text": [
      "INFO:hydro_forecasting.data.in_memory_datamodule:Epoch 8: Train Dataloader using chunk 4/5 with 1500 basins.\n",
      "INFO:hydro_forecasting.data.in_memory_datamodule:Stage 'train' chunk data loaded for 1500 basins. Shape: (9611847, 12). Est. Mem: 440.02 MB\n",
      "WARNING:hydro_forecasting.data.in_memory_datamodule:Could not find valid sequences for basin hysets_07030280 in stage 'train': Data height (101) is less than total sequence length (109)\n",
      "INFO:hydro_forecasting.data.in_memory_datamodule:Epoch 8: Val Dataloader using cached validation data with 12484193 samples from 4000 basins.\n"
     ]
    },
    {
     "data": {
      "application/vnd.jupyter.widget-view+json": {
       "model_id": "58b36293fb7e4cfca9790fef42c32da8",
       "version_major": 2,
       "version_minor": 0
      },
      "text/plain": [
       "Validation: |          | 0/? [00:00<?, ?it/s]"
      ]
     },
     "metadata": {},
     "output_type": "display_data"
    },
    {
     "name": "stderr",
     "output_type": "stream",
     "text": [
      "Metric val_loss improved by 0.017 >= min_delta = 0.0. New best score: 0.062\n",
      "INFO:hydro_forecasting.data.in_memory_datamodule:Epoch 9: Train Dataloader using chunk 5/5 with 473 basins.\n",
      "INFO:hydro_forecasting.data.in_memory_datamodule:Stage 'train' chunk data loaded for 473 basins. Shape: (3043521, 12). Est. Mem: 139.33 MB\n",
      "INFO:hydro_forecasting.data.in_memory_datamodule:Epoch 9: Val Dataloader using cached validation data with 12484193 samples from 4000 basins.\n"
     ]
    },
    {
     "data": {
      "application/vnd.jupyter.widget-view+json": {
       "model_id": "fb84de112d994eb8a3f325fcfe8af013",
       "version_major": 2,
       "version_minor": 0
      },
      "text/plain": [
       "Validation: |          | 0/? [00:00<?, ?it/s]"
      ]
     },
     "metadata": {},
     "output_type": "display_data"
    },
    {
     "name": "stderr",
     "output_type": "stream",
     "text": [
      "INFO:hydro_forecasting.data.in_memory_datamodule:Completed full pass through training shared chunks. Recomputing.\n",
      "INFO:hydro_forecasting.data.in_memory_datamodule:Initializing/Re-initializing training shared chunks from 6473 basins.\n",
      "INFO:hydro_forecasting.data.in_memory_datamodule:Created 5 training shared chunks.\n",
      "INFO:hydro_forecasting.data.in_memory_datamodule:Epoch 10: Train Dataloader using chunk 1/5 with 1500 basins.\n",
      "INFO:hydro_forecasting.data.in_memory_datamodule:Stage 'train' chunk data loaded for 1500 basins. Shape: (9649815, 12). Est. Mem: 441.75 MB\n",
      "WARNING:hydro_forecasting.data.in_memory_datamodule:Could not find valid sequences for basin hysets_07030280 in stage 'train': Data height (101) is less than total sequence length (109)\n",
      "INFO:hydro_forecasting.data.in_memory_datamodule:Epoch 10: Val Dataloader using cached validation data with 12484193 samples from 4000 basins.\n"
     ]
    },
    {
     "data": {
      "application/vnd.jupyter.widget-view+json": {
       "model_id": "de7d21281c46467c8c70ef27fa57b773",
       "version_major": 2,
       "version_minor": 0
      },
      "text/plain": [
       "Validation: |          | 0/? [00:00<?, ?it/s]"
      ]
     },
     "metadata": {},
     "output_type": "display_data"
    },
    {
     "name": "stderr",
     "output_type": "stream",
     "text": [
      "Metric val_loss improved by 0.004 >= min_delta = 0.0. New best score: 0.058\n",
      "INFO:hydro_forecasting.data.in_memory_datamodule:Epoch 11: Train Dataloader using chunk 2/5 with 1500 basins.\n",
      "INFO:hydro_forecasting.data.in_memory_datamodule:Stage 'train' chunk data loaded for 1500 basins. Shape: (9641128, 12). Est. Mem: 441.36 MB\n",
      "INFO:hydro_forecasting.data.in_memory_datamodule:Epoch 11: Val Dataloader using cached validation data with 12484193 samples from 4000 basins.\n"
     ]
    },
    {
     "data": {
      "application/vnd.jupyter.widget-view+json": {
       "model_id": "ca7a34527b2948739d48a48dbcecb385",
       "version_major": 2,
       "version_minor": 0
      },
      "text/plain": [
       "Validation: |          | 0/? [00:00<?, ?it/s]"
      ]
     },
     "metadata": {},
     "output_type": "display_data"
    },
    {
     "name": "stderr",
     "output_type": "stream",
     "text": [
      "INFO:hydro_forecasting.data.in_memory_datamodule:Epoch 12: Train Dataloader using chunk 3/5 with 1500 basins.\n",
      "INFO:hydro_forecasting.data.in_memory_datamodule:Stage 'train' chunk data loaded for 1500 basins. Shape: (9765486, 12). Est. Mem: 447.05 MB\n",
      "INFO:hydro_forecasting.data.in_memory_datamodule:Epoch 12: Val Dataloader using cached validation data with 12484193 samples from 4000 basins.\n"
     ]
    },
    {
     "data": {
      "application/vnd.jupyter.widget-view+json": {
       "model_id": "0c565ef8c0b94624a1658fb068f28ef2",
       "version_major": 2,
       "version_minor": 0
      },
      "text/plain": [
       "Validation: |          | 0/? [00:00<?, ?it/s]"
      ]
     },
     "metadata": {},
     "output_type": "display_data"
    },
    {
     "name": "stderr",
     "output_type": "stream",
     "text": [
      "INFO:hydro_forecasting.data.in_memory_datamodule:Epoch 13: Train Dataloader using chunk 4/5 with 1500 basins.\n",
      "INFO:hydro_forecasting.data.in_memory_datamodule:Stage 'train' chunk data loaded for 1500 basins. Shape: (9707102, 12). Est. Mem: 444.38 MB\n",
      "INFO:hydro_forecasting.data.in_memory_datamodule:Epoch 13: Val Dataloader using cached validation data with 12484193 samples from 4000 basins.\n"
     ]
    },
    {
     "data": {
      "application/vnd.jupyter.widget-view+json": {
       "model_id": "974a842cf5b344c7b302e142ce704556",
       "version_major": 2,
       "version_minor": 0
      },
      "text/plain": [
       "Validation: |          | 0/? [00:00<?, ?it/s]"
      ]
     },
     "metadata": {},
     "output_type": "display_data"
    },
    {
     "name": "stderr",
     "output_type": "stream",
     "text": [
      "Metric val_loss improved by 0.001 >= min_delta = 0.0. New best score: 0.057\n",
      "INFO:hydro_forecasting.data.in_memory_datamodule:Epoch 14: Train Dataloader using chunk 5/5 with 473 basins.\n",
      "INFO:hydro_forecasting.data.in_memory_datamodule:Stage 'train' chunk data loaded for 473 basins. Shape: (3061151, 12). Est. Mem: 140.13 MB\n",
      "INFO:hydro_forecasting.data.in_memory_datamodule:Epoch 14: Val Dataloader using cached validation data with 12484193 samples from 4000 basins.\n"
     ]
    },
    {
     "data": {
      "application/vnd.jupyter.widget-view+json": {
       "model_id": "4ee761a98f3945fbbafc7856aa309e72",
       "version_major": 2,
       "version_minor": 0
      },
      "text/plain": [
       "Validation: |          | 0/? [00:00<?, ?it/s]"
      ]
     },
     "metadata": {},
     "output_type": "display_data"
    },
    {
     "name": "stderr",
     "output_type": "stream",
     "text": [
      "INFO:hydro_forecasting.data.in_memory_datamodule:Completed full pass through training shared chunks. Recomputing.\n",
      "INFO:hydro_forecasting.data.in_memory_datamodule:Initializing/Re-initializing training shared chunks from 6473 basins.\n",
      "INFO:hydro_forecasting.data.in_memory_datamodule:Created 5 training shared chunks.\n",
      "INFO:hydro_forecasting.data.in_memory_datamodule:Epoch 15: Train Dataloader using chunk 1/5 with 1500 basins.\n",
      "INFO:hydro_forecasting.data.in_memory_datamodule:Stage 'train' chunk data loaded for 1500 basins. Shape: (9790362, 12). Est. Mem: 448.19 MB\n",
      "WARNING:hydro_forecasting.data.in_memory_datamodule:Could not find valid sequences for basin hysets_07030280 in stage 'train': Data height (101) is less than total sequence length (109)\n",
      "INFO:hydro_forecasting.data.in_memory_datamodule:Epoch 15: Val Dataloader using cached validation data with 12484193 samples from 4000 basins.\n"
     ]
    },
    {
     "data": {
      "application/vnd.jupyter.widget-view+json": {
       "model_id": "41fd0602004e41cc91afb8a4b473196b",
       "version_major": 2,
       "version_minor": 0
      },
      "text/plain": [
       "Validation: |          | 0/? [00:00<?, ?it/s]"
      ]
     },
     "metadata": {},
     "output_type": "display_data"
    },
    {
     "name": "stderr",
     "output_type": "stream",
     "text": [
      "INFO:hydro_forecasting.data.in_memory_datamodule:Epoch 16: Train Dataloader using chunk 2/5 with 1500 basins.\n",
      "INFO:hydro_forecasting.data.in_memory_datamodule:Stage 'train' chunk data loaded for 1500 basins. Shape: (9684295, 12). Est. Mem: 443.33 MB\n",
      "INFO:hydro_forecasting.data.in_memory_datamodule:Epoch 16: Val Dataloader using cached validation data with 12484193 samples from 4000 basins.\n"
     ]
    },
    {
     "data": {
      "application/vnd.jupyter.widget-view+json": {
       "model_id": "5be3387f97244deb834ff1f73739ed38",
       "version_major": 2,
       "version_minor": 0
      },
      "text/plain": [
       "Validation: |          | 0/? [00:00<?, ?it/s]"
      ]
     },
     "metadata": {},
     "output_type": "display_data"
    },
    {
     "name": "stderr",
     "output_type": "stream",
     "text": [
      "Metric val_loss improved by 0.002 >= min_delta = 0.0. New best score: 0.055\n",
      "INFO:hydro_forecasting.data.in_memory_datamodule:Epoch 17: Train Dataloader using chunk 3/5 with 1500 basins.\n",
      "INFO:hydro_forecasting.data.in_memory_datamodule:Stage 'train' chunk data loaded for 1500 basins. Shape: (9672211, 12). Est. Mem: 442.78 MB\n",
      "INFO:hydro_forecasting.data.in_memory_datamodule:Epoch 17: Val Dataloader using cached validation data with 12484193 samples from 4000 basins.\n"
     ]
    },
    {
     "data": {
      "application/vnd.jupyter.widget-view+json": {
       "model_id": "5c043c2e26b84620b66f06ef40b5343c",
       "version_major": 2,
       "version_minor": 0
      },
      "text/plain": [
       "Validation: |          | 0/? [00:00<?, ?it/s]"
      ]
     },
     "metadata": {},
     "output_type": "display_data"
    },
    {
     "name": "stderr",
     "output_type": "stream",
     "text": [
      "INFO:hydro_forecasting.data.in_memory_datamodule:Epoch 18: Train Dataloader using chunk 4/5 with 1500 basins.\n",
      "INFO:hydro_forecasting.data.in_memory_datamodule:Stage 'train' chunk data loaded for 1500 basins. Shape: (9676886, 12). Est. Mem: 442.99 MB\n",
      "INFO:hydro_forecasting.data.in_memory_datamodule:Epoch 18: Val Dataloader using cached validation data with 12484193 samples from 4000 basins.\n"
     ]
    },
    {
     "data": {
      "application/vnd.jupyter.widget-view+json": {
       "model_id": "861e5b26a02d42858f5e248691c4d13d",
       "version_major": 2,
       "version_minor": 0
      },
      "text/plain": [
       "Validation: |          | 0/? [00:00<?, ?it/s]"
      ]
     },
     "metadata": {},
     "output_type": "display_data"
    },
    {
     "name": "stderr",
     "output_type": "stream",
     "text": [
      "INFO:hydro_forecasting.data.in_memory_datamodule:Epoch 19: Train Dataloader using chunk 5/5 with 473 basins.\n",
      "INFO:hydro_forecasting.data.in_memory_datamodule:Stage 'train' chunk data loaded for 473 basins. Shape: (3000928, 12). Est. Mem: 137.38 MB\n",
      "INFO:hydro_forecasting.data.in_memory_datamodule:Epoch 19: Val Dataloader using cached validation data with 12484193 samples from 4000 basins.\n"
     ]
    },
    {
     "data": {
      "application/vnd.jupyter.widget-view+json": {
       "model_id": "09a6c955eb584c0b8eda0004edc2d07c",
       "version_major": 2,
       "version_minor": 0
      },
      "text/plain": [
       "Validation: |          | 0/? [00:00<?, ?it/s]"
      ]
     },
     "metadata": {},
     "output_type": "display_data"
    },
    {
     "name": "stderr",
     "output_type": "stream",
     "text": [
      "INFO:hydro_forecasting.data.in_memory_datamodule:Completed full pass through training shared chunks. Recomputing.\n",
      "INFO:hydro_forecasting.data.in_memory_datamodule:Initializing/Re-initializing training shared chunks from 6473 basins.\n",
      "INFO:hydro_forecasting.data.in_memory_datamodule:Created 5 training shared chunks.\n",
      "INFO:hydro_forecasting.data.in_memory_datamodule:Epoch 20: Train Dataloader using chunk 1/5 with 1500 basins.\n",
      "INFO:hydro_forecasting.data.in_memory_datamodule:Stage 'train' chunk data loaded for 1500 basins. Shape: (9534186, 12). Est. Mem: 436.46 MB\n",
      "INFO:hydro_forecasting.data.in_memory_datamodule:Epoch 20: Val Dataloader using cached validation data with 12484193 samples from 4000 basins.\n"
     ]
    },
    {
     "data": {
      "application/vnd.jupyter.widget-view+json": {
       "model_id": "8d2cdb7e35124dc5bb904be679d3cb04",
       "version_major": 2,
       "version_minor": 0
      },
      "text/plain": [
       "Validation: |          | 0/? [00:00<?, ?it/s]"
      ]
     },
     "metadata": {},
     "output_type": "display_data"
    },
    {
     "name": "stderr",
     "output_type": "stream",
     "text": [
      "INFO:hydro_forecasting.data.in_memory_datamodule:Epoch 21: Train Dataloader using chunk 2/5 with 1500 basins.\n",
      "INFO:hydro_forecasting.data.in_memory_datamodule:Stage 'train' chunk data loaded for 1500 basins. Shape: (9707693, 12). Est. Mem: 444.40 MB\n",
      "INFO:hydro_forecasting.data.in_memory_datamodule:Epoch 21: Val Dataloader using cached validation data with 12484193 samples from 4000 basins.\n"
     ]
    },
    {
     "data": {
      "application/vnd.jupyter.widget-view+json": {
       "model_id": "44aefb74e939433bae62ab16bd3c2b3c",
       "version_major": 2,
       "version_minor": 0
      },
      "text/plain": [
       "Validation: |          | 0/? [00:00<?, ?it/s]"
      ]
     },
     "metadata": {},
     "output_type": "display_data"
    },
    {
     "name": "stderr",
     "output_type": "stream",
     "text": [
      "INFO:hydro_forecasting.data.in_memory_datamodule:Epoch 22: Train Dataloader using chunk 3/5 with 1500 basins.\n",
      "INFO:hydro_forecasting.data.in_memory_datamodule:Stage 'train' chunk data loaded for 1500 basins. Shape: (9774420, 12). Est. Mem: 447.46 MB\n",
      "INFO:hydro_forecasting.data.in_memory_datamodule:Epoch 22: Val Dataloader using cached validation data with 12484193 samples from 4000 basins.\n"
     ]
    },
    {
     "data": {
      "application/vnd.jupyter.widget-view+json": {
       "model_id": "05acb55cb3eb4ff9825c0e66d9b00495",
       "version_major": 2,
       "version_minor": 0
      },
      "text/plain": [
       "Validation: |          | 0/? [00:00<?, ?it/s]"
      ]
     },
     "metadata": {},
     "output_type": "display_data"
    },
    {
     "name": "stderr",
     "output_type": "stream",
     "text": [
      "INFO:hydro_forecasting.data.in_memory_datamodule:Epoch 23: Train Dataloader using chunk 4/5 with 1500 basins.\n",
      "INFO:hydro_forecasting.data.in_memory_datamodule:Stage 'train' chunk data loaded for 1500 basins. Shape: (9759493, 12). Est. Mem: 446.77 MB\n",
      "INFO:hydro_forecasting.data.in_memory_datamodule:Epoch 23: Val Dataloader using cached validation data with 12484193 samples from 4000 basins.\n"
     ]
    },
    {
     "data": {
      "application/vnd.jupyter.widget-view+json": {
       "model_id": "e7b27d839fe54ec08fc8886e7627e210",
       "version_major": 2,
       "version_minor": 0
      },
      "text/plain": [
       "Validation: |          | 0/? [00:00<?, ?it/s]"
      ]
     },
     "metadata": {},
     "output_type": "display_data"
    },
    {
     "name": "stderr",
     "output_type": "stream",
     "text": [
      "INFO:hydro_forecasting.data.in_memory_datamodule:Epoch 24: Train Dataloader using chunk 5/5 with 473 basins.\n",
      "INFO:hydro_forecasting.data.in_memory_datamodule:Stage 'train' chunk data loaded for 473 basins. Shape: (3048890, 12). Est. Mem: 139.57 MB\n",
      "WARNING:hydro_forecasting.data.in_memory_datamodule:Could not find valid sequences for basin hysets_07030280 in stage 'train': Data height (101) is less than total sequence length (109)\n",
      "INFO:hydro_forecasting.data.in_memory_datamodule:Epoch 24: Val Dataloader using cached validation data with 12484193 samples from 4000 basins.\n"
     ]
    },
    {
     "data": {
      "application/vnd.jupyter.widget-view+json": {
       "model_id": "40d68bafcdcc411eb9bd5745e60cce85",
       "version_major": 2,
       "version_minor": 0
      },
      "text/plain": [
       "Validation: |          | 0/? [00:00<?, ?it/s]"
      ]
     },
     "metadata": {},
     "output_type": "display_data"
    },
    {
     "name": "stderr",
     "output_type": "stream",
     "text": [
      "INFO:hydro_forecasting.data.in_memory_datamodule:Completed full pass through training shared chunks. Recomputing.\n",
      "INFO:hydro_forecasting.data.in_memory_datamodule:Initializing/Re-initializing training shared chunks from 6473 basins.\n",
      "INFO:hydro_forecasting.data.in_memory_datamodule:Created 5 training shared chunks.\n",
      "INFO:hydro_forecasting.data.in_memory_datamodule:Epoch 25: Train Dataloader using chunk 1/5 with 1500 basins.\n",
      "INFO:hydro_forecasting.data.in_memory_datamodule:Stage 'train' chunk data loaded for 1500 basins. Shape: (9727744, 12). Est. Mem: 445.32 MB\n",
      "INFO:hydro_forecasting.data.in_memory_datamodule:Epoch 25: Val Dataloader using cached validation data with 12484193 samples from 4000 basins.\n"
     ]
    },
    {
     "data": {
      "application/vnd.jupyter.widget-view+json": {
       "model_id": "505ca31972424922acf03c3b41b9a6ec",
       "version_major": 2,
       "version_minor": 0
      },
      "text/plain": [
       "Validation: |          | 0/? [00:00<?, ?it/s]"
      ]
     },
     "metadata": {},
     "output_type": "display_data"
    },
    {
     "name": "stderr",
     "output_type": "stream",
     "text": [
      "INFO:hydro_forecasting.data.in_memory_datamodule:Epoch 26: Train Dataloader using chunk 2/5 with 1500 basins.\n",
      "INFO:hydro_forecasting.data.in_memory_datamodule:Stage 'train' chunk data loaded for 1500 basins. Shape: (9769861, 12). Est. Mem: 447.25 MB\n",
      "INFO:hydro_forecasting.data.in_memory_datamodule:Epoch 26: Val Dataloader using cached validation data with 12484193 samples from 4000 basins.\n"
     ]
    },
    {
     "data": {
      "application/vnd.jupyter.widget-view+json": {
       "model_id": "c3ddd420c3f54d6986cf57857b30433a",
       "version_major": 2,
       "version_minor": 0
      },
      "text/plain": [
       "Validation: |          | 0/? [00:00<?, ?it/s]"
      ]
     },
     "metadata": {},
     "output_type": "display_data"
    },
    {
     "name": "stderr",
     "output_type": "stream",
     "text": [
      "INFO:hydro_forecasting.data.in_memory_datamodule:Epoch 27: Train Dataloader using chunk 3/5 with 1500 basins.\n",
      "INFO:hydro_forecasting.data.in_memory_datamodule:Stage 'train' chunk data loaded for 1500 basins. Shape: (9556407, 12). Est. Mem: 437.48 MB\n",
      "WARNING:hydro_forecasting.data.in_memory_datamodule:Could not find valid sequences for basin hysets_07030280 in stage 'train': Data height (101) is less than total sequence length (109)\n",
      "INFO:hydro_forecasting.data.in_memory_datamodule:Epoch 27: Val Dataloader using cached validation data with 12484193 samples from 4000 basins.\n"
     ]
    },
    {
     "data": {
      "application/vnd.jupyter.widget-view+json": {
       "model_id": "686cfacec25447b6864a447dd3b43911",
       "version_major": 2,
       "version_minor": 0
      },
      "text/plain": [
       "Validation: |          | 0/? [00:00<?, ?it/s]"
      ]
     },
     "metadata": {},
     "output_type": "display_data"
    },
    {
     "name": "stderr",
     "output_type": "stream",
     "text": [
      "INFO:hydro_forecasting.data.in_memory_datamodule:Epoch 28: Train Dataloader using chunk 4/5 with 1500 basins.\n",
      "INFO:hydro_forecasting.data.in_memory_datamodule:Stage 'train' chunk data loaded for 1500 basins. Shape: (9673390, 12). Est. Mem: 442.83 MB\n",
      "INFO:hydro_forecasting.data.in_memory_datamodule:Epoch 28: Val Dataloader using cached validation data with 12484193 samples from 4000 basins.\n"
     ]
    },
    {
     "data": {
      "application/vnd.jupyter.widget-view+json": {
       "model_id": "04d195654b844463b23405de473d120a",
       "version_major": 2,
       "version_minor": 0
      },
      "text/plain": [
       "Validation: |          | 0/? [00:00<?, ?it/s]"
      ]
     },
     "metadata": {},
     "output_type": "display_data"
    },
    {
     "name": "stderr",
     "output_type": "stream",
     "text": [
      "INFO:hydro_forecasting.data.in_memory_datamodule:Epoch 29: Train Dataloader using chunk 5/5 with 473 basins.\n",
      "INFO:hydro_forecasting.data.in_memory_datamodule:Stage 'train' chunk data loaded for 473 basins. Shape: (3097280, 12). Est. Mem: 141.79 MB\n",
      "INFO:hydro_forecasting.data.in_memory_datamodule:Epoch 29: Val Dataloader using cached validation data with 12484193 samples from 4000 basins.\n"
     ]
    },
    {
     "data": {
      "application/vnd.jupyter.widget-view+json": {
       "model_id": "85dd76b11a88421887b2fa65f927090f",
       "version_major": 2,
       "version_minor": 0
      },
      "text/plain": [
       "Validation: |          | 0/? [00:00<?, ?it/s]"
      ]
     },
     "metadata": {},
     "output_type": "display_data"
    },
    {
     "name": "stderr",
     "output_type": "stream",
     "text": [
      "INFO:hydro_forecasting.data.in_memory_datamodule:Completed full pass through training shared chunks. Recomputing.\n",
      "INFO:hydro_forecasting.data.in_memory_datamodule:Initializing/Re-initializing training shared chunks from 6473 basins.\n",
      "INFO:hydro_forecasting.data.in_memory_datamodule:Created 5 training shared chunks.\n",
      "INFO:hydro_forecasting.data.in_memory_datamodule:Epoch 30: Train Dataloader using chunk 1/5 with 1500 basins.\n",
      "INFO:hydro_forecasting.data.in_memory_datamodule:Stage 'train' chunk data loaded for 1500 basins. Shape: (9643114, 12). Est. Mem: 441.45 MB\n",
      "INFO:hydro_forecasting.data.in_memory_datamodule:Epoch 30: Val Dataloader using cached validation data with 12484193 samples from 4000 basins.\n"
     ]
    },
    {
     "data": {
      "application/vnd.jupyter.widget-view+json": {
       "model_id": "571ca9aa02d242f197940d1745af2155",
       "version_major": 2,
       "version_minor": 0
      },
      "text/plain": [
       "Validation: |          | 0/? [00:00<?, ?it/s]"
      ]
     },
     "metadata": {},
     "output_type": "display_data"
    },
    {
     "name": "stderr",
     "output_type": "stream",
     "text": [
      "INFO:hydro_forecasting.data.in_memory_datamodule:Epoch 31: Train Dataloader using chunk 2/5 with 1500 basins.\n",
      "INFO:hydro_forecasting.data.in_memory_datamodule:Stage 'train' chunk data loaded for 1500 basins. Shape: (9774151, 12). Est. Mem: 447.45 MB\n",
      "INFO:hydro_forecasting.data.in_memory_datamodule:Epoch 31: Val Dataloader using cached validation data with 12484193 samples from 4000 basins.\n"
     ]
    },
    {
     "data": {
      "application/vnd.jupyter.widget-view+json": {
       "model_id": "dccdabf4a2504425bdf66f34c6af0253",
       "version_major": 2,
       "version_minor": 0
      },
      "text/plain": [
       "Validation: |          | 0/? [00:00<?, ?it/s]"
      ]
     },
     "metadata": {},
     "output_type": "display_data"
    },
    {
     "name": "stderr",
     "output_type": "stream",
     "text": [
      "Metric val_loss improved by 0.002 >= min_delta = 0.0. New best score: 0.053\n",
      "INFO:hydro_forecasting.data.in_memory_datamodule:Epoch 32: Train Dataloader using chunk 3/5 with 1500 basins.\n",
      "INFO:hydro_forecasting.data.in_memory_datamodule:Stage 'train' chunk data loaded for 1500 basins. Shape: (9736335, 12). Est. Mem: 445.71 MB\n",
      "WARNING:hydro_forecasting.data.in_memory_datamodule:Could not find valid sequences for basin hysets_07030280 in stage 'train': Data height (101) is less than total sequence length (109)\n",
      "INFO:hydro_forecasting.data.in_memory_datamodule:Epoch 32: Val Dataloader using cached validation data with 12484193 samples from 4000 basins.\n"
     ]
    },
    {
     "data": {
      "application/vnd.jupyter.widget-view+json": {
       "model_id": "cdc8800c3e0e4eae82f2ff1ed350b58b",
       "version_major": 2,
       "version_minor": 0
      },
      "text/plain": [
       "Validation: |          | 0/? [00:00<?, ?it/s]"
      ]
     },
     "metadata": {},
     "output_type": "display_data"
    },
    {
     "name": "stderr",
     "output_type": "stream",
     "text": [
      "Metric val_loss improved by 0.000 >= min_delta = 0.0. New best score: 0.053\n",
      "INFO:hydro_forecasting.data.in_memory_datamodule:Epoch 33: Train Dataloader using chunk 4/5 with 1500 basins.\n",
      "INFO:hydro_forecasting.data.in_memory_datamodule:Stage 'train' chunk data loaded for 1500 basins. Shape: (9616994, 12). Est. Mem: 440.25 MB\n",
      "INFO:hydro_forecasting.data.in_memory_datamodule:Epoch 33: Val Dataloader using cached validation data with 12484193 samples from 4000 basins.\n"
     ]
    },
    {
     "data": {
      "application/vnd.jupyter.widget-view+json": {
       "model_id": "d92f28721241419098f7ebbde5b362f8",
       "version_major": 2,
       "version_minor": 0
      },
      "text/plain": [
       "Validation: |          | 0/? [00:00<?, ?it/s]"
      ]
     },
     "metadata": {},
     "output_type": "display_data"
    },
    {
     "name": "stderr",
     "output_type": "stream",
     "text": [
      "INFO:hydro_forecasting.data.in_memory_datamodule:Epoch 34: Train Dataloader using chunk 5/5 with 473 basins.\n",
      "INFO:hydro_forecasting.data.in_memory_datamodule:Stage 'train' chunk data loaded for 473 basins. Shape: (3054088, 12). Est. Mem: 139.81 MB\n",
      "INFO:hydro_forecasting.data.in_memory_datamodule:Epoch 34: Val Dataloader using cached validation data with 12484193 samples from 4000 basins.\n"
     ]
    },
    {
     "data": {
      "application/vnd.jupyter.widget-view+json": {
       "model_id": "068a350733334ef390ae7790691815a2",
       "version_major": 2,
       "version_minor": 0
      },
      "text/plain": [
       "Validation: |          | 0/? [00:00<?, ?it/s]"
      ]
     },
     "metadata": {},
     "output_type": "display_data"
    },
    {
     "name": "stderr",
     "output_type": "stream",
     "text": [
      "INFO:hydro_forecasting.data.in_memory_datamodule:Completed full pass through training shared chunks. Recomputing.\n",
      "INFO:hydro_forecasting.data.in_memory_datamodule:Initializing/Re-initializing training shared chunks from 6473 basins.\n",
      "INFO:hydro_forecasting.data.in_memory_datamodule:Created 5 training shared chunks.\n",
      "INFO:hydro_forecasting.data.in_memory_datamodule:Epoch 35: Train Dataloader using chunk 1/5 with 1500 basins.\n",
      "INFO:hydro_forecasting.data.in_memory_datamodule:Stage 'train' chunk data loaded for 1500 basins. Shape: (9804759, 12). Est. Mem: 448.85 MB\n",
      "INFO:hydro_forecasting.data.in_memory_datamodule:Epoch 35: Val Dataloader using cached validation data with 12484193 samples from 4000 basins.\n"
     ]
    },
    {
     "data": {
      "application/vnd.jupyter.widget-view+json": {
       "model_id": "68135bc853894804946e16dc17fb9df9",
       "version_major": 2,
       "version_minor": 0
      },
      "text/plain": [
       "Validation: |          | 0/? [00:00<?, ?it/s]"
      ]
     },
     "metadata": {},
     "output_type": "display_data"
    },
    {
     "name": "stderr",
     "output_type": "stream",
     "text": [
      "INFO:hydro_forecasting.data.in_memory_datamodule:Epoch 36: Train Dataloader using chunk 2/5 with 1500 basins.\n",
      "INFO:hydro_forecasting.data.in_memory_datamodule:Stage 'train' chunk data loaded for 1500 basins. Shape: (9687943, 12). Est. Mem: 443.50 MB\n",
      "INFO:hydro_forecasting.data.in_memory_datamodule:Epoch 36: Val Dataloader using cached validation data with 12484193 samples from 4000 basins.\n"
     ]
    },
    {
     "data": {
      "application/vnd.jupyter.widget-view+json": {
       "model_id": "ba38740ae6c9433babb0600a93d68739",
       "version_major": 2,
       "version_minor": 0
      },
      "text/plain": [
       "Validation: |          | 0/? [00:00<?, ?it/s]"
      ]
     },
     "metadata": {},
     "output_type": "display_data"
    },
    {
     "name": "stderr",
     "output_type": "stream",
     "text": [
      "Metric val_loss improved by 0.000 >= min_delta = 0.0. New best score: 0.052\n",
      "INFO:hydro_forecasting.data.in_memory_datamodule:Epoch 37: Train Dataloader using chunk 3/5 with 1500 basins.\n",
      "INFO:hydro_forecasting.data.in_memory_datamodule:Stage 'train' chunk data loaded for 1500 basins. Shape: (9621256, 12). Est. Mem: 440.45 MB\n",
      "WARNING:hydro_forecasting.data.in_memory_datamodule:Could not find valid sequences for basin hysets_07030280 in stage 'train': Data height (101) is less than total sequence length (109)\n",
      "INFO:hydro_forecasting.data.in_memory_datamodule:Epoch 37: Val Dataloader using cached validation data with 12484193 samples from 4000 basins.\n"
     ]
    },
    {
     "data": {
      "application/vnd.jupyter.widget-view+json": {
       "model_id": "17027fbd80224e8a91961b427b1d5fa3",
       "version_major": 2,
       "version_minor": 0
      },
      "text/plain": [
       "Validation: |          | 0/? [00:00<?, ?it/s]"
      ]
     },
     "metadata": {},
     "output_type": "display_data"
    },
    {
     "name": "stderr",
     "output_type": "stream",
     "text": [
      "INFO:hydro_forecasting.data.in_memory_datamodule:Epoch 38: Train Dataloader using chunk 4/5 with 1500 basins.\n",
      "INFO:hydro_forecasting.data.in_memory_datamodule:Stage 'train' chunk data loaded for 1500 basins. Shape: (9653764, 12). Est. Mem: 441.93 MB\n",
      "INFO:hydro_forecasting.data.in_memory_datamodule:Epoch 38: Val Dataloader using cached validation data with 12484193 samples from 4000 basins.\n"
     ]
    },
    {
     "data": {
      "application/vnd.jupyter.widget-view+json": {
       "model_id": "04edcf604cb04f848815ec5c31309c6b",
       "version_major": 2,
       "version_minor": 0
      },
      "text/plain": [
       "Validation: |          | 0/? [00:00<?, ?it/s]"
      ]
     },
     "metadata": {},
     "output_type": "display_data"
    },
    {
     "name": "stderr",
     "output_type": "stream",
     "text": [
      "INFO:hydro_forecasting.data.in_memory_datamodule:Epoch 39: Train Dataloader using chunk 5/5 with 473 basins.\n",
      "INFO:hydro_forecasting.data.in_memory_datamodule:Stage 'train' chunk data loaded for 473 basins. Shape: (3056960, 12). Est. Mem: 139.94 MB\n",
      "INFO:hydro_forecasting.data.in_memory_datamodule:Epoch 39: Val Dataloader using cached validation data with 12484193 samples from 4000 basins.\n"
     ]
    },
    {
     "data": {
      "application/vnd.jupyter.widget-view+json": {
       "model_id": "8ddcb2e814df4489b2a5556370e0053e",
       "version_major": 2,
       "version_minor": 0
      },
      "text/plain": [
       "Validation: |          | 0/? [00:00<?, ?it/s]"
      ]
     },
     "metadata": {},
     "output_type": "display_data"
    },
    {
     "name": "stderr",
     "output_type": "stream",
     "text": [
      "INFO:hydro_forecasting.data.in_memory_datamodule:Completed full pass through training shared chunks. Recomputing.\n",
      "INFO:hydro_forecasting.data.in_memory_datamodule:Initializing/Re-initializing training shared chunks from 6473 basins.\n",
      "INFO:hydro_forecasting.data.in_memory_datamodule:Created 5 training shared chunks.\n",
      "INFO:hydro_forecasting.data.in_memory_datamodule:Epoch 40: Train Dataloader using chunk 1/5 with 1500 basins.\n",
      "INFO:hydro_forecasting.data.in_memory_datamodule:Stage 'train' chunk data loaded for 1500 basins. Shape: (9821186, 12). Est. Mem: 449.60 MB\n",
      "INFO:hydro_forecasting.data.in_memory_datamodule:Epoch 40: Val Dataloader using cached validation data with 12484193 samples from 4000 basins.\n"
     ]
    },
    {
     "data": {
      "application/vnd.jupyter.widget-view+json": {
       "model_id": "25897b814aa34dadae75b68fb18d9091",
       "version_major": 2,
       "version_minor": 0
      },
      "text/plain": [
       "Validation: |          | 0/? [00:00<?, ?it/s]"
      ]
     },
     "metadata": {},
     "output_type": "display_data"
    },
    {
     "name": "stderr",
     "output_type": "stream",
     "text": [
      "INFO:hydro_forecasting.data.in_memory_datamodule:Epoch 41: Train Dataloader using chunk 2/5 with 1500 basins.\n",
      "INFO:hydro_forecasting.data.in_memory_datamodule:Stage 'train' chunk data loaded for 1500 basins. Shape: (9584494, 12). Est. Mem: 438.76 MB\n",
      "INFO:hydro_forecasting.data.in_memory_datamodule:Epoch 41: Val Dataloader using cached validation data with 12484193 samples from 4000 basins.\n"
     ]
    },
    {
     "data": {
      "application/vnd.jupyter.widget-view+json": {
       "model_id": "781f73578f6f4d79bd1d1b43729d50e9",
       "version_major": 2,
       "version_minor": 0
      },
      "text/plain": [
       "Validation: |          | 0/? [00:00<?, ?it/s]"
      ]
     },
     "metadata": {},
     "output_type": "display_data"
    },
    {
     "name": "stderr",
     "output_type": "stream",
     "text": [
      "Metric val_loss improved by 0.001 >= min_delta = 0.0. New best score: 0.052\n",
      "INFO:hydro_forecasting.data.in_memory_datamodule:Epoch 42: Train Dataloader using chunk 3/5 with 1500 basins.\n",
      "INFO:hydro_forecasting.data.in_memory_datamodule:Stage 'train' chunk data loaded for 1500 basins. Shape: (9731264, 12). Est. Mem: 445.48 MB\n",
      "WARNING:hydro_forecasting.data.in_memory_datamodule:Could not find valid sequences for basin hysets_07030280 in stage 'train': Data height (101) is less than total sequence length (109)\n",
      "INFO:hydro_forecasting.data.in_memory_datamodule:Epoch 42: Val Dataloader using cached validation data with 12484193 samples from 4000 basins.\n"
     ]
    },
    {
     "data": {
      "application/vnd.jupyter.widget-view+json": {
       "model_id": "84c466b0158b4ff8a29a932657ab20a7",
       "version_major": 2,
       "version_minor": 0
      },
      "text/plain": [
       "Validation: |          | 0/? [00:00<?, ?it/s]"
      ]
     },
     "metadata": {},
     "output_type": "display_data"
    },
    {
     "name": "stderr",
     "output_type": "stream",
     "text": [
      "INFO:hydro_forecasting.data.in_memory_datamodule:Epoch 43: Train Dataloader using chunk 4/5 with 1500 basins.\n",
      "INFO:hydro_forecasting.data.in_memory_datamodule:Stage 'train' chunk data loaded for 1500 basins. Shape: (9694645, 12). Est. Mem: 443.81 MB\n",
      "INFO:hydro_forecasting.data.in_memory_datamodule:Epoch 43: Val Dataloader using cached validation data with 12484193 samples from 4000 basins.\n"
     ]
    },
    {
     "data": {
      "application/vnd.jupyter.widget-view+json": {
       "model_id": "c19eb8b4c5e047b8bed4b34cb6d20553",
       "version_major": 2,
       "version_minor": 0
      },
      "text/plain": [
       "Validation: |          | 0/? [00:00<?, ?it/s]"
      ]
     },
     "metadata": {},
     "output_type": "display_data"
    },
    {
     "name": "stderr",
     "output_type": "stream",
     "text": [
      "INFO:hydro_forecasting.data.in_memory_datamodule:Epoch 44: Train Dataloader using chunk 5/5 with 473 basins.\n",
      "INFO:hydro_forecasting.data.in_memory_datamodule:Stage 'train' chunk data loaded for 473 basins. Shape: (2993093, 12). Est. Mem: 137.02 MB\n",
      "INFO:hydro_forecasting.data.in_memory_datamodule:Epoch 44: Val Dataloader using cached validation data with 12484193 samples from 4000 basins.\n"
     ]
    },
    {
     "data": {
      "application/vnd.jupyter.widget-view+json": {
       "model_id": "be5bb561f8214cf5a34ef05065dbc84f",
       "version_major": 2,
       "version_minor": 0
      },
      "text/plain": [
       "Validation: |          | 0/? [00:00<?, ?it/s]"
      ]
     },
     "metadata": {},
     "output_type": "display_data"
    },
    {
     "name": "stderr",
     "output_type": "stream",
     "text": [
      "INFO:hydro_forecasting.data.in_memory_datamodule:Completed full pass through training shared chunks. Recomputing.\n",
      "INFO:hydro_forecasting.data.in_memory_datamodule:Initializing/Re-initializing training shared chunks from 6473 basins.\n",
      "INFO:hydro_forecasting.data.in_memory_datamodule:Created 5 training shared chunks.\n",
      "INFO:hydro_forecasting.data.in_memory_datamodule:Epoch 45: Train Dataloader using chunk 1/5 with 1500 basins.\n",
      "INFO:hydro_forecasting.data.in_memory_datamodule:Stage 'train' chunk data loaded for 1500 basins. Shape: (9719766, 12). Est. Mem: 444.96 MB\n",
      "INFO:hydro_forecasting.data.in_memory_datamodule:Epoch 45: Val Dataloader using cached validation data with 12484193 samples from 4000 basins.\n"
     ]
    },
    {
     "data": {
      "application/vnd.jupyter.widget-view+json": {
       "model_id": "f9f7be363f9a495eb798588eb171b644",
       "version_major": 2,
       "version_minor": 0
      },
      "text/plain": [
       "Validation: |          | 0/? [00:00<?, ?it/s]"
      ]
     },
     "metadata": {},
     "output_type": "display_data"
    },
    {
     "name": "stderr",
     "output_type": "stream",
     "text": [
      "INFO:hydro_forecasting.data.in_memory_datamodule:Epoch 46: Train Dataloader using chunk 2/5 with 1500 basins.\n",
      "INFO:hydro_forecasting.data.in_memory_datamodule:Stage 'train' chunk data loaded for 1500 basins. Shape: (9797803, 12). Est. Mem: 448.53 MB\n",
      "INFO:hydro_forecasting.data.in_memory_datamodule:Epoch 46: Val Dataloader using cached validation data with 12484193 samples from 4000 basins.\n"
     ]
    },
    {
     "data": {
      "application/vnd.jupyter.widget-view+json": {
       "model_id": "23dff29db1124dedbac35c07b66fac0f",
       "version_major": 2,
       "version_minor": 0
      },
      "text/plain": [
       "Validation: |          | 0/? [00:00<?, ?it/s]"
      ]
     },
     "metadata": {},
     "output_type": "display_data"
    },
    {
     "name": "stderr",
     "output_type": "stream",
     "text": [
      "INFO:hydro_forecasting.data.in_memory_datamodule:Epoch 47: Train Dataloader using chunk 3/5 with 1500 basins.\n",
      "INFO:hydro_forecasting.data.in_memory_datamodule:Stage 'train' chunk data loaded for 1500 basins. Shape: (9636814, 12). Est. Mem: 441.16 MB\n",
      "WARNING:hydro_forecasting.data.in_memory_datamodule:Could not find valid sequences for basin hysets_07030280 in stage 'train': Data height (101) is less than total sequence length (109)\n",
      "INFO:hydro_forecasting.data.in_memory_datamodule:Epoch 47: Val Dataloader using cached validation data with 12484193 samples from 4000 basins.\n"
     ]
    },
    {
     "data": {
      "application/vnd.jupyter.widget-view+json": {
       "model_id": "a3ce2fb4d9c94ce18a819656d4e978d4",
       "version_major": 2,
       "version_minor": 0
      },
      "text/plain": [
       "Validation: |          | 0/? [00:00<?, ?it/s]"
      ]
     },
     "metadata": {},
     "output_type": "display_data"
    },
    {
     "name": "stderr",
     "output_type": "stream",
     "text": [
      "INFO:hydro_forecasting.data.in_memory_datamodule:Epoch 48: Train Dataloader using chunk 4/5 with 1500 basins.\n",
      "INFO:hydro_forecasting.data.in_memory_datamodule:Stage 'train' chunk data loaded for 1500 basins. Shape: (9600355, 12). Est. Mem: 439.49 MB\n",
      "INFO:hydro_forecasting.data.in_memory_datamodule:Epoch 48: Val Dataloader using cached validation data with 12484193 samples from 4000 basins.\n"
     ]
    },
    {
     "data": {
      "application/vnd.jupyter.widget-view+json": {
       "model_id": "0686dbb913434e5da84bfaa99ed5dd1d",
       "version_major": 2,
       "version_minor": 0
      },
      "text/plain": [
       "Validation: |          | 0/? [00:00<?, ?it/s]"
      ]
     },
     "metadata": {},
     "output_type": "display_data"
    },
    {
     "name": "stderr",
     "output_type": "stream",
     "text": [
      "INFO:hydro_forecasting.data.in_memory_datamodule:Epoch 49: Train Dataloader using chunk 5/5 with 473 basins.\n",
      "INFO:hydro_forecasting.data.in_memory_datamodule:Stage 'train' chunk data loaded for 473 basins. Shape: (3069944, 12). Est. Mem: 140.54 MB\n",
      "INFO:hydro_forecasting.data.in_memory_datamodule:Epoch 49: Val Dataloader using cached validation data with 12484193 samples from 4000 basins.\n"
     ]
    },
    {
     "data": {
      "application/vnd.jupyter.widget-view+json": {
       "model_id": "6d75c6ef7c0c4b99a7cbc1bd9b76ea32",
       "version_major": 2,
       "version_minor": 0
      },
      "text/plain": [
       "Validation: |          | 0/? [00:00<?, ?it/s]"
      ]
     },
     "metadata": {},
     "output_type": "display_data"
    },
    {
     "name": "stderr",
     "output_type": "stream",
     "text": [
      "INFO:hydro_forecasting.data.in_memory_datamodule:Completed full pass through training shared chunks. Recomputing.\n",
      "INFO:hydro_forecasting.data.in_memory_datamodule:Initializing/Re-initializing training shared chunks from 6473 basins.\n",
      "INFO:hydro_forecasting.data.in_memory_datamodule:Created 5 training shared chunks.\n",
      "INFO:hydro_forecasting.data.in_memory_datamodule:Epoch 50: Train Dataloader using chunk 1/5 with 1500 basins.\n",
      "INFO:hydro_forecasting.data.in_memory_datamodule:Stage 'train' chunk data loaded for 1500 basins. Shape: (9658115, 12). Est. Mem: 442.13 MB\n",
      "INFO:hydro_forecasting.data.in_memory_datamodule:Epoch 50: Val Dataloader using cached validation data with 12484193 samples from 4000 basins.\n"
     ]
    },
    {
     "data": {
      "application/vnd.jupyter.widget-view+json": {
       "model_id": "06b12c5654eb448c955291d019d70b06",
       "version_major": 2,
       "version_minor": 0
      },
      "text/plain": [
       "Validation: |          | 0/? [00:00<?, ?it/s]"
      ]
     },
     "metadata": {},
     "output_type": "display_data"
    },
    {
     "name": "stderr",
     "output_type": "stream",
     "text": [
      "INFO:hydro_forecasting.data.in_memory_datamodule:Epoch 51: Train Dataloader using chunk 2/5 with 1500 basins.\n",
      "INFO:hydro_forecasting.data.in_memory_datamodule:Stage 'train' chunk data loaded for 1500 basins. Shape: (9714310, 12). Est. Mem: 444.71 MB\n",
      "WARNING:hydro_forecasting.data.in_memory_datamodule:Could not find valid sequences for basin hysets_07030280 in stage 'train': Data height (101) is less than total sequence length (109)\n",
      "INFO:hydro_forecasting.data.in_memory_datamodule:Epoch 51: Val Dataloader using cached validation data with 12484193 samples from 4000 basins.\n"
     ]
    },
    {
     "data": {
      "application/vnd.jupyter.widget-view+json": {
       "model_id": "1e44f3614af34518a05080a686fa41a7",
       "version_major": 2,
       "version_minor": 0
      },
      "text/plain": [
       "Validation: |          | 0/? [00:00<?, ?it/s]"
      ]
     },
     "metadata": {},
     "output_type": "display_data"
    },
    {
     "name": "stderr",
     "output_type": "stream",
     "text": [
      "Metric val_loss improved by 0.000 >= min_delta = 0.0. New best score: 0.051\n",
      "INFO:hydro_forecasting.data.in_memory_datamodule:Epoch 52: Train Dataloader using chunk 3/5 with 1500 basins.\n",
      "INFO:hydro_forecasting.data.in_memory_datamodule:Stage 'train' chunk data loaded for 1500 basins. Shape: (9748122, 12). Est. Mem: 446.25 MB\n",
      "INFO:hydro_forecasting.data.in_memory_datamodule:Epoch 52: Val Dataloader using cached validation data with 12484193 samples from 4000 basins.\n"
     ]
    },
    {
     "data": {
      "application/vnd.jupyter.widget-view+json": {
       "model_id": "e595d783121d44e5b0718e35494cacb5",
       "version_major": 2,
       "version_minor": 0
      },
      "text/plain": [
       "Validation: |          | 0/? [00:00<?, ?it/s]"
      ]
     },
     "metadata": {},
     "output_type": "display_data"
    },
    {
     "name": "stderr",
     "output_type": "stream",
     "text": [
      "INFO:hydro_forecasting.data.in_memory_datamodule:Epoch 53: Train Dataloader using chunk 4/5 with 1500 basins.\n",
      "INFO:hydro_forecasting.data.in_memory_datamodule:Stage 'train' chunk data loaded for 1500 basins. Shape: (9624893, 12). Est. Mem: 440.61 MB\n",
      "INFO:hydro_forecasting.data.in_memory_datamodule:Epoch 53: Val Dataloader using cached validation data with 12484193 samples from 4000 basins.\n"
     ]
    },
    {
     "data": {
      "application/vnd.jupyter.widget-view+json": {
       "model_id": "a437a3e0ef864ef5a2f44e4f53963688",
       "version_major": 2,
       "version_minor": 0
      },
      "text/plain": [
       "Validation: |          | 0/? [00:00<?, ?it/s]"
      ]
     },
     "metadata": {},
     "output_type": "display_data"
    },
    {
     "name": "stderr",
     "output_type": "stream",
     "text": [
      "Metric val_loss improved by 0.000 >= min_delta = 0.0. New best score: 0.051\n",
      "INFO:hydro_forecasting.data.in_memory_datamodule:Epoch 54: Train Dataloader using chunk 5/5 with 473 basins.\n",
      "INFO:hydro_forecasting.data.in_memory_datamodule:Stage 'train' chunk data loaded for 473 basins. Shape: (3079242, 12). Est. Mem: 140.96 MB\n",
      "INFO:hydro_forecasting.data.in_memory_datamodule:Epoch 54: Val Dataloader using cached validation data with 12484193 samples from 4000 basins.\n"
     ]
    },
    {
     "data": {
      "application/vnd.jupyter.widget-view+json": {
       "model_id": "cb15174f414f439d9f4c35288ae1bbff",
       "version_major": 2,
       "version_minor": 0
      },
      "text/plain": [
       "Validation: |          | 0/? [00:00<?, ?it/s]"
      ]
     },
     "metadata": {},
     "output_type": "display_data"
    },
    {
     "name": "stderr",
     "output_type": "stream",
     "text": [
      "Metric val_loss improved by 0.000 >= min_delta = 0.0. New best score: 0.051\n",
      "INFO:hydro_forecasting.data.in_memory_datamodule:Completed full pass through training shared chunks. Recomputing.\n",
      "INFO:hydro_forecasting.data.in_memory_datamodule:Initializing/Re-initializing training shared chunks from 6473 basins.\n",
      "INFO:hydro_forecasting.data.in_memory_datamodule:Created 5 training shared chunks.\n",
      "INFO:hydro_forecasting.data.in_memory_datamodule:Epoch 55: Train Dataloader using chunk 1/5 with 1500 basins.\n",
      "INFO:hydro_forecasting.data.in_memory_datamodule:Stage 'train' chunk data loaded for 1500 basins. Shape: (9652647, 12). Est. Mem: 441.88 MB\n",
      "INFO:hydro_forecasting.data.in_memory_datamodule:Epoch 55: Val Dataloader using cached validation data with 12484193 samples from 4000 basins.\n"
     ]
    },
    {
     "data": {
      "application/vnd.jupyter.widget-view+json": {
       "model_id": "dff01a4535d24803ac6f9427dff8e94e",
       "version_major": 2,
       "version_minor": 0
      },
      "text/plain": [
       "Validation: |          | 0/? [00:00<?, ?it/s]"
      ]
     },
     "metadata": {},
     "output_type": "display_data"
    },
    {
     "name": "stderr",
     "output_type": "stream",
     "text": [
      "INFO:hydro_forecasting.data.in_memory_datamodule:Epoch 56: Train Dataloader using chunk 2/5 with 1500 basins.\n",
      "INFO:hydro_forecasting.data.in_memory_datamodule:Stage 'train' chunk data loaded for 1500 basins. Shape: (9776021, 12). Est. Mem: 447.53 MB\n",
      "INFO:hydro_forecasting.data.in_memory_datamodule:Epoch 56: Val Dataloader using cached validation data with 12484193 samples from 4000 basins.\n"
     ]
    },
    {
     "data": {
      "application/vnd.jupyter.widget-view+json": {
       "model_id": "0cfcfe091471423fb2e9abe4b2ee3659",
       "version_major": 2,
       "version_minor": 0
      },
      "text/plain": [
       "Validation: |          | 0/? [00:00<?, ?it/s]"
      ]
     },
     "metadata": {},
     "output_type": "display_data"
    },
    {
     "name": "stderr",
     "output_type": "stream",
     "text": [
      "INFO:hydro_forecasting.data.in_memory_datamodule:Epoch 57: Train Dataloader using chunk 3/5 with 1500 basins.\n",
      "INFO:hydro_forecasting.data.in_memory_datamodule:Stage 'train' chunk data loaded for 1500 basins. Shape: (9678022, 12). Est. Mem: 443.05 MB\n",
      "INFO:hydro_forecasting.data.in_memory_datamodule:Epoch 57: Val Dataloader using cached validation data with 12484193 samples from 4000 basins.\n"
     ]
    },
    {
     "data": {
      "application/vnd.jupyter.widget-view+json": {
       "model_id": "d1a52b8d0df34ca69587a8fd914ee6b7",
       "version_major": 2,
       "version_minor": 0
      },
      "text/plain": [
       "Validation: |          | 0/? [00:00<?, ?it/s]"
      ]
     },
     "metadata": {},
     "output_type": "display_data"
    },
    {
     "name": "stderr",
     "output_type": "stream",
     "text": [
      "INFO:hydro_forecasting.data.in_memory_datamodule:Epoch 58: Train Dataloader using chunk 4/5 with 1500 basins.\n",
      "INFO:hydro_forecasting.data.in_memory_datamodule:Stage 'train' chunk data loaded for 1500 basins. Shape: (9717831, 12). Est. Mem: 444.87 MB\n",
      "INFO:hydro_forecasting.data.in_memory_datamodule:Epoch 58: Val Dataloader using cached validation data with 12484193 samples from 4000 basins.\n"
     ]
    },
    {
     "data": {
      "application/vnd.jupyter.widget-view+json": {
       "model_id": "6b912398905a421c810674927313cbd2",
       "version_major": 2,
       "version_minor": 0
      },
      "text/plain": [
       "Validation: |          | 0/? [00:00<?, ?it/s]"
      ]
     },
     "metadata": {},
     "output_type": "display_data"
    },
    {
     "name": "stderr",
     "output_type": "stream",
     "text": [
      "INFO:hydro_forecasting.data.in_memory_datamodule:Epoch 59: Train Dataloader using chunk 5/5 with 473 basins.\n",
      "INFO:hydro_forecasting.data.in_memory_datamodule:Stage 'train' chunk data loaded for 473 basins. Shape: (3000161, 12). Est. Mem: 137.34 MB\n",
      "WARNING:hydro_forecasting.data.in_memory_datamodule:Could not find valid sequences for basin hysets_07030280 in stage 'train': Data height (101) is less than total sequence length (109)\n",
      "INFO:hydro_forecasting.data.in_memory_datamodule:Epoch 59: Val Dataloader using cached validation data with 12484193 samples from 4000 basins.\n"
     ]
    },
    {
     "data": {
      "application/vnd.jupyter.widget-view+json": {
       "model_id": "a12dc4d335734431a9cf3e9c1f9ca76e",
       "version_major": 2,
       "version_minor": 0
      },
      "text/plain": [
       "Validation: |          | 0/? [00:00<?, ?it/s]"
      ]
     },
     "metadata": {},
     "output_type": "display_data"
    },
    {
     "name": "stderr",
     "output_type": "stream",
     "text": [
      "INFO:hydro_forecasting.data.in_memory_datamodule:Completed full pass through training shared chunks. Recomputing.\n",
      "INFO:hydro_forecasting.data.in_memory_datamodule:Initializing/Re-initializing training shared chunks from 6473 basins.\n",
      "INFO:hydro_forecasting.data.in_memory_datamodule:Created 5 training shared chunks.\n",
      "INFO:hydro_forecasting.data.in_memory_datamodule:Epoch 60: Train Dataloader using chunk 1/5 with 1500 basins.\n",
      "INFO:hydro_forecasting.data.in_memory_datamodule:Stage 'train' chunk data loaded for 1500 basins. Shape: (9632582, 12). Est. Mem: 440.97 MB\n",
      "INFO:hydro_forecasting.data.in_memory_datamodule:Epoch 60: Val Dataloader using cached validation data with 12484193 samples from 4000 basins.\n"
     ]
    },
    {
     "data": {
      "application/vnd.jupyter.widget-view+json": {
       "model_id": "09eb5799f0814ca08448e15769f5df39",
       "version_major": 2,
       "version_minor": 0
      },
      "text/plain": [
       "Validation: |          | 0/? [00:00<?, ?it/s]"
      ]
     },
     "metadata": {},
     "output_type": "display_data"
    },
    {
     "name": "stderr",
     "output_type": "stream",
     "text": [
      "INFO:hydro_forecasting.data.in_memory_datamodule:Epoch 61: Train Dataloader using chunk 2/5 with 1500 basins.\n",
      "INFO:hydro_forecasting.data.in_memory_datamodule:Stage 'train' chunk data loaded for 1500 basins. Shape: (9743445, 12). Est. Mem: 446.04 MB\n",
      "INFO:hydro_forecasting.data.in_memory_datamodule:Epoch 61: Val Dataloader using cached validation data with 12484193 samples from 4000 basins.\n"
     ]
    },
    {
     "data": {
      "application/vnd.jupyter.widget-view+json": {
       "model_id": "d9b263bf693845d0818e72b536531a1b",
       "version_major": 2,
       "version_minor": 0
      },
      "text/plain": [
       "Validation: |          | 0/? [00:00<?, ?it/s]"
      ]
     },
     "metadata": {},
     "output_type": "display_data"
    },
    {
     "name": "stderr",
     "output_type": "stream",
     "text": [
      "Metric val_loss improved by 0.000 >= min_delta = 0.0. New best score: 0.051\n",
      "INFO:hydro_forecasting.data.in_memory_datamodule:Epoch 62: Train Dataloader using chunk 3/5 with 1500 basins.\n",
      "INFO:hydro_forecasting.data.in_memory_datamodule:Stage 'train' chunk data loaded for 1500 basins. Shape: (9659231, 12). Est. Mem: 442.18 MB\n",
      "INFO:hydro_forecasting.data.in_memory_datamodule:Epoch 62: Val Dataloader using cached validation data with 12484193 samples from 4000 basins.\n"
     ]
    },
    {
     "data": {
      "application/vnd.jupyter.widget-view+json": {
       "model_id": "84b4f7c625e642209addce34eb235d4f",
       "version_major": 2,
       "version_minor": 0
      },
      "text/plain": [
       "Validation: |          | 0/? [00:00<?, ?it/s]"
      ]
     },
     "metadata": {},
     "output_type": "display_data"
    },
    {
     "name": "stderr",
     "output_type": "stream",
     "text": [
      "INFO:hydro_forecasting.data.in_memory_datamodule:Epoch 63: Train Dataloader using chunk 4/5 with 1500 basins.\n",
      "INFO:hydro_forecasting.data.in_memory_datamodule:Stage 'train' chunk data loaded for 1500 basins. Shape: (9714009, 12). Est. Mem: 444.69 MB\n",
      "WARNING:hydro_forecasting.data.in_memory_datamodule:Could not find valid sequences for basin hysets_07030280 in stage 'train': Data height (101) is less than total sequence length (109)\n",
      "INFO:hydro_forecasting.data.in_memory_datamodule:Epoch 63: Val Dataloader using cached validation data with 12484193 samples from 4000 basins.\n"
     ]
    },
    {
     "data": {
      "application/vnd.jupyter.widget-view+json": {
       "model_id": "28ec03deb44a46e497e48f45f8e8c374",
       "version_major": 2,
       "version_minor": 0
      },
      "text/plain": [
       "Validation: |          | 0/? [00:00<?, ?it/s]"
      ]
     },
     "metadata": {},
     "output_type": "display_data"
    },
    {
     "name": "stderr",
     "output_type": "stream",
     "text": [
      "INFO:hydro_forecasting.data.in_memory_datamodule:Epoch 64: Train Dataloader using chunk 5/5 with 473 basins.\n",
      "INFO:hydro_forecasting.data.in_memory_datamodule:Stage 'train' chunk data loaded for 473 basins. Shape: (3075415, 12). Est. Mem: 140.79 MB\n",
      "INFO:hydro_forecasting.data.in_memory_datamodule:Epoch 64: Val Dataloader using cached validation data with 12484193 samples from 4000 basins.\n"
     ]
    },
    {
     "data": {
      "application/vnd.jupyter.widget-view+json": {
       "model_id": "1178ddce5f4141469a3876254e2a267b",
       "version_major": 2,
       "version_minor": 0
      },
      "text/plain": [
       "Validation: |          | 0/? [00:00<?, ?it/s]"
      ]
     },
     "metadata": {},
     "output_type": "display_data"
    },
    {
     "name": "stderr",
     "output_type": "stream",
     "text": [
      "Metric val_loss improved by 0.000 >= min_delta = 0.0. New best score: 0.051\n",
      "INFO:hydro_forecasting.data.in_memory_datamodule:Completed full pass through training shared chunks. Recomputing.\n",
      "INFO:hydro_forecasting.data.in_memory_datamodule:Initializing/Re-initializing training shared chunks from 6473 basins.\n",
      "INFO:hydro_forecasting.data.in_memory_datamodule:Created 5 training shared chunks.\n",
      "INFO:hydro_forecasting.data.in_memory_datamodule:Epoch 65: Train Dataloader using chunk 1/5 with 1500 basins.\n",
      "INFO:hydro_forecasting.data.in_memory_datamodule:Stage 'train' chunk data loaded for 1500 basins. Shape: (9737403, 12). Est. Mem: 445.76 MB\n",
      "WARNING:hydro_forecasting.data.in_memory_datamodule:Could not find valid sequences for basin hysets_07030280 in stage 'train': Data height (101) is less than total sequence length (109)\n",
      "INFO:hydro_forecasting.data.in_memory_datamodule:Epoch 65: Val Dataloader using cached validation data with 12484193 samples from 4000 basins.\n"
     ]
    },
    {
     "data": {
      "application/vnd.jupyter.widget-view+json": {
       "model_id": "8852f413844149ab8c1bfe30f7bdc163",
       "version_major": 2,
       "version_minor": 0
      },
      "text/plain": [
       "Validation: |          | 0/? [00:00<?, ?it/s]"
      ]
     },
     "metadata": {},
     "output_type": "display_data"
    },
    {
     "name": "stderr",
     "output_type": "stream",
     "text": [
      "Metric val_loss improved by 0.000 >= min_delta = 0.0. New best score: 0.050\n",
      "INFO:hydro_forecasting.data.in_memory_datamodule:Epoch 66: Train Dataloader using chunk 2/5 with 1500 basins.\n",
      "INFO:hydro_forecasting.data.in_memory_datamodule:Stage 'train' chunk data loaded for 1500 basins. Shape: (9737792, 12). Est. Mem: 445.78 MB\n",
      "INFO:hydro_forecasting.data.in_memory_datamodule:Epoch 66: Val Dataloader using cached validation data with 12484193 samples from 4000 basins.\n"
     ]
    },
    {
     "data": {
      "application/vnd.jupyter.widget-view+json": {
       "model_id": "230a69414a8d4022a82884e0232ed322",
       "version_major": 2,
       "version_minor": 0
      },
      "text/plain": [
       "Validation: |          | 0/? [00:00<?, ?it/s]"
      ]
     },
     "metadata": {},
     "output_type": "display_data"
    },
    {
     "name": "stderr",
     "output_type": "stream",
     "text": [
      "INFO:hydro_forecasting.data.in_memory_datamodule:Epoch 67: Train Dataloader using chunk 3/5 with 1500 basins.\n",
      "INFO:hydro_forecasting.data.in_memory_datamodule:Stage 'train' chunk data loaded for 1500 basins. Shape: (9759226, 12). Est. Mem: 446.76 MB\n",
      "INFO:hydro_forecasting.data.in_memory_datamodule:Epoch 67: Val Dataloader using cached validation data with 12484193 samples from 4000 basins.\n"
     ]
    },
    {
     "data": {
      "application/vnd.jupyter.widget-view+json": {
       "model_id": "b5f9bff41fb3496cacd2fcc0435ea6d6",
       "version_major": 2,
       "version_minor": 0
      },
      "text/plain": [
       "Validation: |          | 0/? [00:00<?, ?it/s]"
      ]
     },
     "metadata": {},
     "output_type": "display_data"
    },
    {
     "name": "stderr",
     "output_type": "stream",
     "text": [
      "INFO:hydro_forecasting.data.in_memory_datamodule:Epoch 68: Train Dataloader using chunk 4/5 with 1500 basins.\n",
      "INFO:hydro_forecasting.data.in_memory_datamodule:Stage 'train' chunk data loaded for 1500 basins. Shape: (9532464, 12). Est. Mem: 436.38 MB\n",
      "INFO:hydro_forecasting.data.in_memory_datamodule:Epoch 68: Val Dataloader using cached validation data with 12484193 samples from 4000 basins.\n"
     ]
    },
    {
     "data": {
      "application/vnd.jupyter.widget-view+json": {
       "model_id": "dd326dc1662547afb50640c8f67190c4",
       "version_major": 2,
       "version_minor": 0
      },
      "text/plain": [
       "Validation: |          | 0/? [00:00<?, ?it/s]"
      ]
     },
     "metadata": {},
     "output_type": "display_data"
    },
    {
     "name": "stderr",
     "output_type": "stream",
     "text": [
      "INFO:hydro_forecasting.data.in_memory_datamodule:Epoch 69: Train Dataloader using chunk 5/5 with 473 basins.\n",
      "INFO:hydro_forecasting.data.in_memory_datamodule:Stage 'train' chunk data loaded for 473 basins. Shape: (3057797, 12). Est. Mem: 139.98 MB\n",
      "INFO:hydro_forecasting.data.in_memory_datamodule:Epoch 69: Val Dataloader using cached validation data with 12484193 samples from 4000 basins.\n"
     ]
    },
    {
     "data": {
      "application/vnd.jupyter.widget-view+json": {
       "model_id": "a2066fb257814e74953ae3178c55f30d",
       "version_major": 2,
       "version_minor": 0
      },
      "text/plain": [
       "Validation: |          | 0/? [00:00<?, ?it/s]"
      ]
     },
     "metadata": {},
     "output_type": "display_data"
    },
    {
     "name": "stderr",
     "output_type": "stream",
     "text": [
      "INFO:hydro_forecasting.data.in_memory_datamodule:Completed full pass through training shared chunks. Recomputing.\n",
      "INFO:hydro_forecasting.data.in_memory_datamodule:Initializing/Re-initializing training shared chunks from 6473 basins.\n",
      "INFO:hydro_forecasting.data.in_memory_datamodule:Created 5 training shared chunks.\n",
      "INFO:hydro_forecasting.data.in_memory_datamodule:Epoch 70: Train Dataloader using chunk 1/5 with 1500 basins.\n",
      "INFO:hydro_forecasting.data.in_memory_datamodule:Stage 'train' chunk data loaded for 1500 basins. Shape: (9679504, 12). Est. Mem: 443.11 MB\n",
      "INFO:hydro_forecasting.data.in_memory_datamodule:Epoch 70: Val Dataloader using cached validation data with 12484193 samples from 4000 basins.\n"
     ]
    },
    {
     "data": {
      "application/vnd.jupyter.widget-view+json": {
       "model_id": "cc1aa5e29ad14ab5807cf55c754fe771",
       "version_major": 2,
       "version_minor": 0
      },
      "text/plain": [
       "Validation: |          | 0/? [00:00<?, ?it/s]"
      ]
     },
     "metadata": {},
     "output_type": "display_data"
    },
    {
     "name": "stderr",
     "output_type": "stream",
     "text": [
      "INFO:hydro_forecasting.data.in_memory_datamodule:Epoch 71: Train Dataloader using chunk 2/5 with 1500 basins.\n",
      "INFO:hydro_forecasting.data.in_memory_datamodule:Stage 'train' chunk data loaded for 1500 basins. Shape: (9641429, 12). Est. Mem: 441.37 MB\n",
      "INFO:hydro_forecasting.data.in_memory_datamodule:Epoch 71: Val Dataloader using cached validation data with 12484193 samples from 4000 basins.\n"
     ]
    },
    {
     "data": {
      "application/vnd.jupyter.widget-view+json": {
       "model_id": "2227424df93c470581efa0b082385ed5",
       "version_major": 2,
       "version_minor": 0
      },
      "text/plain": [
       "Validation: |          | 0/? [00:00<?, ?it/s]"
      ]
     },
     "metadata": {},
     "output_type": "display_data"
    },
    {
     "name": "stderr",
     "output_type": "stream",
     "text": [
      "INFO:hydro_forecasting.data.in_memory_datamodule:Epoch 72: Train Dataloader using chunk 3/5 with 1500 basins.\n",
      "INFO:hydro_forecasting.data.in_memory_datamodule:Stage 'train' chunk data loaded for 1500 basins. Shape: (9633057, 12). Est. Mem: 440.99 MB\n",
      "INFO:hydro_forecasting.data.in_memory_datamodule:Epoch 72: Val Dataloader using cached validation data with 12484193 samples from 4000 basins.\n"
     ]
    },
    {
     "data": {
      "application/vnd.jupyter.widget-view+json": {
       "model_id": "4a3d6edc374f48898f8b521d12fb3265",
       "version_major": 2,
       "version_minor": 0
      },
      "text/plain": [
       "Validation: |          | 0/? [00:00<?, ?it/s]"
      ]
     },
     "metadata": {},
     "output_type": "display_data"
    },
    {
     "name": "stderr",
     "output_type": "stream",
     "text": [
      "INFO:hydro_forecasting.data.in_memory_datamodule:Epoch 73: Train Dataloader using chunk 4/5 with 1500 basins.\n",
      "INFO:hydro_forecasting.data.in_memory_datamodule:Stage 'train' chunk data loaded for 1500 basins. Shape: (9715846, 12). Est. Mem: 444.78 MB\n",
      "WARNING:hydro_forecasting.data.in_memory_datamodule:Could not find valid sequences for basin hysets_07030280 in stage 'train': Data height (101) is less than total sequence length (109)\n",
      "INFO:hydro_forecasting.data.in_memory_datamodule:Epoch 73: Val Dataloader using cached validation data with 12484193 samples from 4000 basins.\n"
     ]
    },
    {
     "data": {
      "application/vnd.jupyter.widget-view+json": {
       "model_id": "ea1b0104ba8e442aa24f62e9567d6e8e",
       "version_major": 2,
       "version_minor": 0
      },
      "text/plain": [
       "Validation: |          | 0/? [00:00<?, ?it/s]"
      ]
     },
     "metadata": {},
     "output_type": "display_data"
    },
    {
     "name": "stderr",
     "output_type": "stream",
     "text": [
      "INFO:hydro_forecasting.data.in_memory_datamodule:Epoch 74: Train Dataloader using chunk 5/5 with 473 basins.\n",
      "INFO:hydro_forecasting.data.in_memory_datamodule:Stage 'train' chunk data loaded for 473 basins. Shape: (3154846, 12). Est. Mem: 144.42 MB\n",
      "INFO:hydro_forecasting.data.in_memory_datamodule:Epoch 74: Val Dataloader using cached validation data with 12484193 samples from 4000 basins.\n"
     ]
    },
    {
     "data": {
      "application/vnd.jupyter.widget-view+json": {
       "model_id": "72c86710769f44989db5d97f89a84dfc",
       "version_major": 2,
       "version_minor": 0
      },
      "text/plain": [
       "Validation: |          | 0/? [00:00<?, ?it/s]"
      ]
     },
     "metadata": {},
     "output_type": "display_data"
    },
    {
     "name": "stderr",
     "output_type": "stream",
     "text": [
      "INFO:hydro_forecasting.data.in_memory_datamodule:Completed full pass through training shared chunks. Recomputing.\n",
      "INFO:hydro_forecasting.data.in_memory_datamodule:Initializing/Re-initializing training shared chunks from 6473 basins.\n",
      "INFO:hydro_forecasting.data.in_memory_datamodule:Created 5 training shared chunks.\n",
      "INFO:hydro_forecasting.data.in_memory_datamodule:Epoch 75: Train Dataloader using chunk 1/5 with 1500 basins.\n",
      "INFO:hydro_forecasting.data.in_memory_datamodule:Stage 'train' chunk data loaded for 1500 basins. Shape: (9799910, 12). Est. Mem: 448.62 MB\n",
      "INFO:hydro_forecasting.data.in_memory_datamodule:Epoch 75: Val Dataloader using cached validation data with 12484193 samples from 4000 basins.\n"
     ]
    },
    {
     "data": {
      "application/vnd.jupyter.widget-view+json": {
       "model_id": "c3b7530749604ff6ad0b8e1be0d011d6",
       "version_major": 2,
       "version_minor": 0
      },
      "text/plain": [
       "Validation: |          | 0/? [00:00<?, ?it/s]"
      ]
     },
     "metadata": {},
     "output_type": "display_data"
    },
    {
     "name": "stderr",
     "output_type": "stream",
     "text": [
      "INFO:hydro_forecasting.data.in_memory_datamodule:Epoch 76: Train Dataloader using chunk 2/5 with 1500 basins.\n",
      "INFO:hydro_forecasting.data.in_memory_datamodule:Stage 'train' chunk data loaded for 1500 basins. Shape: (9712411, 12). Est. Mem: 444.62 MB\n",
      "WARNING:hydro_forecasting.data.in_memory_datamodule:Could not find valid sequences for basin hysets_07030280 in stage 'train': Data height (101) is less than total sequence length (109)\n",
      "INFO:hydro_forecasting.data.in_memory_datamodule:Epoch 76: Val Dataloader using cached validation data with 12484193 samples from 4000 basins.\n"
     ]
    },
    {
     "data": {
      "application/vnd.jupyter.widget-view+json": {
       "model_id": "a4e5d27ae1914e2a88afcb53ef059cce",
       "version_major": 2,
       "version_minor": 0
      },
      "text/plain": [
       "Validation: |          | 0/? [00:00<?, ?it/s]"
      ]
     },
     "metadata": {},
     "output_type": "display_data"
    },
    {
     "name": "stderr",
     "output_type": "stream",
     "text": [
      "INFO:hydro_forecasting.data.in_memory_datamodule:Epoch 77: Train Dataloader using chunk 3/5 with 1500 basins.\n",
      "INFO:hydro_forecasting.data.in_memory_datamodule:Stage 'train' chunk data loaded for 1500 basins. Shape: (9644707, 12). Est. Mem: 441.52 MB\n",
      "INFO:hydro_forecasting.data.in_memory_datamodule:Epoch 77: Val Dataloader using cached validation data with 12484193 samples from 4000 basins.\n"
     ]
    },
    {
     "data": {
      "application/vnd.jupyter.widget-view+json": {
       "model_id": "4a09e8b7fc764c9f9f1044bb155f5dd2",
       "version_major": 2,
       "version_minor": 0
      },
      "text/plain": [
       "Validation: |          | 0/? [00:00<?, ?it/s]"
      ]
     },
     "metadata": {},
     "output_type": "display_data"
    },
    {
     "name": "stderr",
     "output_type": "stream",
     "text": [
      "INFO:hydro_forecasting.data.in_memory_datamodule:Epoch 78: Train Dataloader using chunk 4/5 with 1500 basins.\n",
      "INFO:hydro_forecasting.data.in_memory_datamodule:Stage 'train' chunk data loaded for 1500 basins. Shape: (9634334, 12). Est. Mem: 441.05 MB\n",
      "INFO:hydro_forecasting.data.in_memory_datamodule:Epoch 78: Val Dataloader using cached validation data with 12484193 samples from 4000 basins.\n"
     ]
    },
    {
     "data": {
      "application/vnd.jupyter.widget-view+json": {
       "model_id": "9862740732d941cd93bea66d0e6d900d",
       "version_major": 2,
       "version_minor": 0
      },
      "text/plain": [
       "Validation: |          | 0/? [00:00<?, ?it/s]"
      ]
     },
     "metadata": {},
     "output_type": "display_data"
    },
    {
     "name": "stderr",
     "output_type": "stream",
     "text": [
      "INFO:hydro_forecasting.data.in_memory_datamodule:Epoch 79: Train Dataloader using chunk 5/5 with 473 basins.\n",
      "INFO:hydro_forecasting.data.in_memory_datamodule:Stage 'train' chunk data loaded for 473 basins. Shape: (3033320, 12). Est. Mem: 138.86 MB\n",
      "INFO:hydro_forecasting.data.in_memory_datamodule:Epoch 79: Val Dataloader using cached validation data with 12484193 samples from 4000 basins.\n"
     ]
    },
    {
     "data": {
      "application/vnd.jupyter.widget-view+json": {
       "model_id": "630795b637134900b12fb831e5aa0a0a",
       "version_major": 2,
       "version_minor": 0
      },
      "text/plain": [
       "Validation: |          | 0/? [00:00<?, ?it/s]"
      ]
     },
     "metadata": {},
     "output_type": "display_data"
    },
    {
     "name": "stderr",
     "output_type": "stream",
     "text": [
      "INFO:hydro_forecasting.data.in_memory_datamodule:Completed full pass through training shared chunks. Recomputing.\n",
      "INFO:hydro_forecasting.data.in_memory_datamodule:Initializing/Re-initializing training shared chunks from 6473 basins.\n",
      "INFO:hydro_forecasting.data.in_memory_datamodule:Created 5 training shared chunks.\n",
      "INFO:hydro_forecasting.data.in_memory_datamodule:Epoch 80: Train Dataloader using chunk 1/5 with 1500 basins.\n",
      "INFO:hydro_forecasting.data.in_memory_datamodule:Stage 'train' chunk data loaded for 1500 basins. Shape: (9697489, 12). Est. Mem: 443.94 MB\n",
      "INFO:hydro_forecasting.data.in_memory_datamodule:Epoch 80: Val Dataloader using cached validation data with 12484193 samples from 4000 basins.\n"
     ]
    },
    {
     "data": {
      "application/vnd.jupyter.widget-view+json": {
       "model_id": "ce4f46258b23409abb097b39065f5104",
       "version_major": 2,
       "version_minor": 0
      },
      "text/plain": [
       "Validation: |          | 0/? [00:00<?, ?it/s]"
      ]
     },
     "metadata": {},
     "output_type": "display_data"
    },
    {
     "name": "stderr",
     "output_type": "stream",
     "text": [
      "INFO:hydro_forecasting.data.in_memory_datamodule:Epoch 81: Train Dataloader using chunk 2/5 with 1500 basins.\n",
      "INFO:hydro_forecasting.data.in_memory_datamodule:Stage 'train' chunk data loaded for 1500 basins. Shape: (9777754, 12). Est. Mem: 447.61 MB\n",
      "WARNING:hydro_forecasting.data.in_memory_datamodule:Could not find valid sequences for basin hysets_07030280 in stage 'train': Data height (101) is less than total sequence length (109)\n",
      "INFO:hydro_forecasting.data.in_memory_datamodule:Epoch 81: Val Dataloader using cached validation data with 12484193 samples from 4000 basins.\n"
     ]
    },
    {
     "data": {
      "application/vnd.jupyter.widget-view+json": {
       "model_id": "7b6928fb6da54c75aa3d22f5dd3fce3c",
       "version_major": 2,
       "version_minor": 0
      },
      "text/plain": [
       "Validation: |          | 0/? [00:00<?, ?it/s]"
      ]
     },
     "metadata": {},
     "output_type": "display_data"
    },
    {
     "name": "stderr",
     "output_type": "stream",
     "text": [
      "INFO:hydro_forecasting.data.in_memory_datamodule:Epoch 82: Train Dataloader using chunk 3/5 with 1500 basins.\n",
      "INFO:hydro_forecasting.data.in_memory_datamodule:Stage 'train' chunk data loaded for 1500 basins. Shape: (9648836, 12). Est. Mem: 441.71 MB\n",
      "INFO:hydro_forecasting.data.in_memory_datamodule:Epoch 82: Val Dataloader using cached validation data with 12484193 samples from 4000 basins.\n"
     ]
    },
    {
     "data": {
      "application/vnd.jupyter.widget-view+json": {
       "model_id": "26cf290e55504b7aa9a30de1ead44b6a",
       "version_major": 2,
       "version_minor": 0
      },
      "text/plain": [
       "Validation: |          | 0/? [00:00<?, ?it/s]"
      ]
     },
     "metadata": {},
     "output_type": "display_data"
    },
    {
     "name": "stderr",
     "output_type": "stream",
     "text": [
      "INFO:hydro_forecasting.data.in_memory_datamodule:Epoch 83: Train Dataloader using chunk 4/5 with 1500 basins.\n",
      "INFO:hydro_forecasting.data.in_memory_datamodule:Stage 'train' chunk data loaded for 1500 basins. Shape: (9635692, 12). Est. Mem: 441.11 MB\n",
      "INFO:hydro_forecasting.data.in_memory_datamodule:Epoch 83: Val Dataloader using cached validation data with 12484193 samples from 4000 basins.\n"
     ]
    },
    {
     "data": {
      "application/vnd.jupyter.widget-view+json": {
       "model_id": "f209eea3807445dc8e470ce594b27045",
       "version_major": 2,
       "version_minor": 0
      },
      "text/plain": [
       "Validation: |          | 0/? [00:00<?, ?it/s]"
      ]
     },
     "metadata": {},
     "output_type": "display_data"
    },
    {
     "name": "stderr",
     "output_type": "stream",
     "text": [
      "INFO:hydro_forecasting.data.in_memory_datamodule:Epoch 84: Train Dataloader using chunk 5/5 with 473 basins.\n",
      "INFO:hydro_forecasting.data.in_memory_datamodule:Stage 'train' chunk data loaded for 473 basins. Shape: (3064911, 12). Est. Mem: 140.31 MB\n",
      "INFO:hydro_forecasting.data.in_memory_datamodule:Epoch 84: Val Dataloader using cached validation data with 12484193 samples from 4000 basins.\n"
     ]
    },
    {
     "data": {
      "application/vnd.jupyter.widget-view+json": {
       "model_id": "2c835b9c8d2e4a4f8e22a210027fbf36",
       "version_major": 2,
       "version_minor": 0
      },
      "text/plain": [
       "Validation: |          | 0/? [00:00<?, ?it/s]"
      ]
     },
     "metadata": {},
     "output_type": "display_data"
    },
    {
     "name": "stderr",
     "output_type": "stream",
     "text": [
      "INFO:hydro_forecasting.data.in_memory_datamodule:Completed full pass through training shared chunks. Recomputing.\n",
      "INFO:hydro_forecasting.data.in_memory_datamodule:Initializing/Re-initializing training shared chunks from 6473 basins.\n",
      "INFO:hydro_forecasting.data.in_memory_datamodule:Created 5 training shared chunks.\n",
      "INFO:hydro_forecasting.data.in_memory_datamodule:Epoch 85: Train Dataloader using chunk 1/5 with 1500 basins.\n",
      "INFO:hydro_forecasting.data.in_memory_datamodule:Stage 'train' chunk data loaded for 1500 basins. Shape: (9581834, 12). Est. Mem: 438.64 MB\n",
      "INFO:hydro_forecasting.data.in_memory_datamodule:Epoch 85: Val Dataloader using cached validation data with 12484193 samples from 4000 basins.\n"
     ]
    },
    {
     "data": {
      "application/vnd.jupyter.widget-view+json": {
       "model_id": "3b8fd784b76a4aa59febc067e71cacdc",
       "version_major": 2,
       "version_minor": 0
      },
      "text/plain": [
       "Validation: |          | 0/? [00:00<?, ?it/s]"
      ]
     },
     "metadata": {},
     "output_type": "display_data"
    },
    {
     "name": "stderr",
     "output_type": "stream",
     "text": [
      "INFO:hydro_forecasting.data.in_memory_datamodule:Epoch 86: Train Dataloader using chunk 2/5 with 1500 basins.\n",
      "INFO:hydro_forecasting.data.in_memory_datamodule:Stage 'train' chunk data loaded for 1500 basins. Shape: (9743331, 12). Est. Mem: 446.03 MB\n",
      "INFO:hydro_forecasting.data.in_memory_datamodule:Epoch 86: Val Dataloader using cached validation data with 12484193 samples from 4000 basins.\n"
     ]
    },
    {
     "data": {
      "application/vnd.jupyter.widget-view+json": {
       "model_id": "d3c04593b541498abb12b69c7de23463",
       "version_major": 2,
       "version_minor": 0
      },
      "text/plain": [
       "Validation: |          | 0/? [00:00<?, ?it/s]"
      ]
     },
     "metadata": {},
     "output_type": "display_data"
    },
    {
     "name": "stderr",
     "output_type": "stream",
     "text": [
      "INFO:hydro_forecasting.data.in_memory_datamodule:Epoch 87: Train Dataloader using chunk 3/5 with 1500 basins.\n",
      "INFO:hydro_forecasting.data.in_memory_datamodule:Stage 'train' chunk data loaded for 1500 basins. Shape: (9719672, 12). Est. Mem: 444.95 MB\n",
      "WARNING:hydro_forecasting.data.in_memory_datamodule:Could not find valid sequences for basin hysets_07030280 in stage 'train': Data height (101) is less than total sequence length (109)\n",
      "INFO:hydro_forecasting.data.in_memory_datamodule:Epoch 87: Val Dataloader using cached validation data with 12484193 samples from 4000 basins.\n"
     ]
    },
    {
     "data": {
      "application/vnd.jupyter.widget-view+json": {
       "model_id": "4d20448846184d1a99856f5e6eb18cc9",
       "version_major": 2,
       "version_minor": 0
      },
      "text/plain": [
       "Validation: |          | 0/? [00:00<?, ?it/s]"
      ]
     },
     "metadata": {},
     "output_type": "display_data"
    },
    {
     "name": "stderr",
     "output_type": "stream",
     "text": [
      "INFO:hydro_forecasting.data.in_memory_datamodule:Epoch 88: Train Dataloader using chunk 4/5 with 1500 basins.\n",
      "INFO:hydro_forecasting.data.in_memory_datamodule:Stage 'train' chunk data loaded for 1500 basins. Shape: (9692661, 12). Est. Mem: 443.72 MB\n",
      "INFO:hydro_forecasting.data.in_memory_datamodule:Epoch 88: Val Dataloader using cached validation data with 12484193 samples from 4000 basins.\n"
     ]
    },
    {
     "data": {
      "application/vnd.jupyter.widget-view+json": {
       "model_id": "f02305d3e6094c33b7932ee413000818",
       "version_major": 2,
       "version_minor": 0
      },
      "text/plain": [
       "Validation: |          | 0/? [00:00<?, ?it/s]"
      ]
     },
     "metadata": {},
     "output_type": "display_data"
    },
    {
     "name": "stderr",
     "output_type": "stream",
     "text": [
      "INFO:hydro_forecasting.data.in_memory_datamodule:Epoch 89: Train Dataloader using chunk 5/5 with 473 basins.\n",
      "INFO:hydro_forecasting.data.in_memory_datamodule:Stage 'train' chunk data loaded for 473 basins. Shape: (3087184, 12). Est. Mem: 141.33 MB\n",
      "INFO:hydro_forecasting.data.in_memory_datamodule:Epoch 89: Val Dataloader using cached validation data with 12484193 samples from 4000 basins.\n"
     ]
    },
    {
     "data": {
      "application/vnd.jupyter.widget-view+json": {
       "model_id": "04115ef1bece4178820b221d956951eb",
       "version_major": 2,
       "version_minor": 0
      },
      "text/plain": [
       "Validation: |          | 0/? [00:00<?, ?it/s]"
      ]
     },
     "metadata": {},
     "output_type": "display_data"
    },
    {
     "name": "stderr",
     "output_type": "stream",
     "text": [
      "INFO:hydro_forecasting.data.in_memory_datamodule:Completed full pass through training shared chunks. Recomputing.\n",
      "INFO:hydro_forecasting.data.in_memory_datamodule:Initializing/Re-initializing training shared chunks from 6473 basins.\n",
      "INFO:hydro_forecasting.data.in_memory_datamodule:Created 5 training shared chunks.\n",
      "INFO:hydro_forecasting.data.in_memory_datamodule:Epoch 90: Train Dataloader using chunk 1/5 with 1500 basins.\n",
      "INFO:hydro_forecasting.data.in_memory_datamodule:Stage 'train' chunk data loaded for 1500 basins. Shape: (9706247, 12). Est. Mem: 444.34 MB\n",
      "INFO:hydro_forecasting.data.in_memory_datamodule:Epoch 90: Val Dataloader using cached validation data with 12484193 samples from 4000 basins.\n"
     ]
    },
    {
     "data": {
      "application/vnd.jupyter.widget-view+json": {
       "model_id": "270c772e49cb4eb7a74607f1cb2d39cc",
       "version_major": 2,
       "version_minor": 0
      },
      "text/plain": [
       "Validation: |          | 0/? [00:00<?, ?it/s]"
      ]
     },
     "metadata": {},
     "output_type": "display_data"
    },
    {
     "name": "stderr",
     "output_type": "stream",
     "text": [
      "INFO:hydro_forecasting.data.in_memory_datamodule:Epoch 91: Train Dataloader using chunk 2/5 with 1500 basins.\n",
      "INFO:hydro_forecasting.data.in_memory_datamodule:Stage 'train' chunk data loaded for 1500 basins. Shape: (9794712, 12). Est. Mem: 448.39 MB\n",
      "INFO:hydro_forecasting.data.in_memory_datamodule:Epoch 91: Val Dataloader using cached validation data with 12484193 samples from 4000 basins.\n"
     ]
    },
    {
     "data": {
      "application/vnd.jupyter.widget-view+json": {
       "model_id": "a6b0391c9b48443dac43f1294c553b99",
       "version_major": 2,
       "version_minor": 0
      },
      "text/plain": [
       "Validation: |          | 0/? [00:00<?, ?it/s]"
      ]
     },
     "metadata": {},
     "output_type": "display_data"
    },
    {
     "name": "stderr",
     "output_type": "stream",
     "text": [
      "INFO:hydro_forecasting.data.in_memory_datamodule:Epoch 92: Train Dataloader using chunk 3/5 with 1500 basins.\n",
      "INFO:hydro_forecasting.data.in_memory_datamodule:Stage 'train' chunk data loaded for 1500 basins. Shape: (9718579, 12). Est. Mem: 444.90 MB\n",
      "INFO:hydro_forecasting.data.in_memory_datamodule:Epoch 92: Val Dataloader using cached validation data with 12484193 samples from 4000 basins.\n"
     ]
    },
    {
     "data": {
      "application/vnd.jupyter.widget-view+json": {
       "model_id": "bdb075d39f81428c84d0beac5c7eab02",
       "version_major": 2,
       "version_minor": 0
      },
      "text/plain": [
       "Validation: |          | 0/? [00:00<?, ?it/s]"
      ]
     },
     "metadata": {},
     "output_type": "display_data"
    },
    {
     "name": "stderr",
     "output_type": "stream",
     "text": [
      "INFO:hydro_forecasting.data.in_memory_datamodule:Epoch 93: Train Dataloader using chunk 4/5 with 1500 basins.\n",
      "INFO:hydro_forecasting.data.in_memory_datamodule:Stage 'train' chunk data loaded for 1500 basins. Shape: (9612687, 12). Est. Mem: 440.05 MB\n",
      "INFO:hydro_forecasting.data.in_memory_datamodule:Epoch 93: Val Dataloader using cached validation data with 12484193 samples from 4000 basins.\n"
     ]
    },
    {
     "data": {
      "application/vnd.jupyter.widget-view+json": {
       "model_id": "b613fa982b694b9e8b3a168adb6cee59",
       "version_major": 2,
       "version_minor": 0
      },
      "text/plain": [
       "Validation: |          | 0/? [00:00<?, ?it/s]"
      ]
     },
     "metadata": {},
     "output_type": "display_data"
    },
    {
     "name": "stderr",
     "output_type": "stream",
     "text": [
      "INFO:hydro_forecasting.data.in_memory_datamodule:Epoch 94: Train Dataloader using chunk 5/5 with 473 basins.\n",
      "INFO:hydro_forecasting.data.in_memory_datamodule:Stage 'train' chunk data loaded for 473 basins. Shape: (2992457, 12). Est. Mem: 136.99 MB\n",
      "WARNING:hydro_forecasting.data.in_memory_datamodule:Could not find valid sequences for basin hysets_07030280 in stage 'train': Data height (101) is less than total sequence length (109)\n",
      "INFO:hydro_forecasting.data.in_memory_datamodule:Epoch 94: Val Dataloader using cached validation data with 12484193 samples from 4000 basins.\n"
     ]
    },
    {
     "data": {
      "application/vnd.jupyter.widget-view+json": {
       "model_id": "537026d909c445b89d46f2d19ec5a55d",
       "version_major": 2,
       "version_minor": 0
      },
      "text/plain": [
       "Validation: |          | 0/? [00:00<?, ?it/s]"
      ]
     },
     "metadata": {},
     "output_type": "display_data"
    },
    {
     "name": "stderr",
     "output_type": "stream",
     "text": [
      "INFO:hydro_forecasting.data.in_memory_datamodule:Completed full pass through training shared chunks. Recomputing.\n",
      "INFO:hydro_forecasting.data.in_memory_datamodule:Initializing/Re-initializing training shared chunks from 6473 basins.\n",
      "INFO:hydro_forecasting.data.in_memory_datamodule:Created 5 training shared chunks.\n",
      "INFO:hydro_forecasting.data.in_memory_datamodule:Epoch 95: Train Dataloader using chunk 1/5 with 1500 basins.\n",
      "INFO:hydro_forecasting.data.in_memory_datamodule:Stage 'train' chunk data loaded for 1500 basins. Shape: (9685350, 12). Est. Mem: 443.38 MB\n",
      "INFO:hydro_forecasting.data.in_memory_datamodule:Epoch 95: Val Dataloader using cached validation data with 12484193 samples from 4000 basins.\n"
     ]
    },
    {
     "data": {
      "application/vnd.jupyter.widget-view+json": {
       "model_id": "89194a56ce1e4b32a2f4f77ed79c79af",
       "version_major": 2,
       "version_minor": 0
      },
      "text/plain": [
       "Validation: |          | 0/? [00:00<?, ?it/s]"
      ]
     },
     "metadata": {},
     "output_type": "display_data"
    },
    {
     "name": "stderr",
     "output_type": "stream",
     "text": [
      "Monitored metric val_loss did not improve in the last 30 records. Best score: 0.050. Signaling Trainer to stop.\n",
      "INFO:hydro_forecasting.experiment_utils.training_runner:Run 0 completed with best val_loss: 0.05037439614534378\n",
      "INFO:hydro_forecasting.experiment_utils.checkpoint_manager:Updated overall_best_model_info.txt at /workspace/hydro-forecasting/experiments/low-medium-hii/low-medium-hii_tajikistan/checkpoints/tide to point to: run_0/attempt_0/tide-run0-attempt_0-epoch=65-val_loss=0.0504.ckpt\n",
      "INFO:hydro_forecasting.experiment_utils.training_runner:Overall best model for tide: run_0/attempt_0/tide-run0-attempt_0-epoch=65-val_loss=0.0504.ckpt\n",
      "INFO:hydro_forecasting.experiment_utils.training_runner:Best metrics: {'val_loss': 0.05037439614534378, 'run_index': 0, 'seed': 42}\n",
      "INFO:hydro_forecasting.experiment_utils.training_runner:Processing model (2/4): ealstm\n",
      "INFO:hydro_forecasting.experiment_utils.training_runner:Processing model: ealstm\n",
      "INFO:hydro_forecasting.data.in_memory_datamodule:Starting data preparation...\n",
      "INFO:hydro_forecasting.data.in_memory_datamodule:Generated Run UUID for current config: e82931a3-45c7-56ef-a2a8-4f74f03e347d\n",
      "INFO:hydro_forecasting.data.in_memory_datamodule:Checking for existing processed data at: /workspace/hydro-forecasting/experiments/low-medium-hii/data_cache/e82931a3-45c7-56ef-a2a8-4f74f03e347d\n",
      "INFO:hydro_forecasting.data.in_memory_datamodule:Successfully validated and prepared to reuse data from /workspace/hydro-forecasting/experiments/low-medium-hii/data_cache/e82931a3-45c7-56ef-a2a8-4f74f03e347d\n",
      "INFO:hydro_forecasting.data.in_memory_datamodule:Reusing existing processed data from run_uuid: e82931a3-45c7-56ef-a2a8-4f74f03e347d\n",
      "INFO:hydro_forecasting.data.in_memory_datamodule:Loaded 3 pipelines and data for 8329 basins from reused run.\n",
      "INFO:hydro_forecasting.data.in_memory_datamodule:Found 6473 basins for synchronized train/val chunking and validation pool selection.\n",
      "INFO:hydro_forecasting.data.in_memory_datamodule:Found 6473 basins for test split.\n",
      "INFO:hydro_forecasting.data.in_memory_datamodule:Data preparation finished.\n",
      "INFO:hydro_forecasting.data.in_memory_datamodule:Loading static data cache and converting to Tensors...\n",
      "INFO:hydro_forecasting.data.in_memory_datamodule:Loaded and tensorized static data for 11950 basins.\n",
      "INFO:hydro_forecasting.data.in_memory_datamodule:Created fixed validation pool with 4000 basins: ['hysets_05SA002', 'USA_11478500', 'camelsbr_20200000', 'hysets_08012150', 'lamah_202093']...\n",
      "INFO:hydro_forecasting.data.in_memory_datamodule:Loading and caching data for 4000 validation basins...\n",
      "INFO:hydro_forecasting.data.in_memory_datamodule:Stage 'val' chunk data loaded for 4000 basins. Shape: (12815102, 12). Est. Mem: 586.68 MB\n",
      "WARNING:hydro_forecasting.data.in_memory_datamodule:Could not find valid sequences for basin hysets_07030280 in stage 'val': Data height (50) is less than total sequence length (81)\n",
      "INFO:hydro_forecasting.data.in_memory_datamodule:Successfully cached validation data. Index entries: 12495132.\n",
      "INFO:hydro_forecasting.data.in_memory_datamodule:Initializing/Re-initializing training shared chunks from 6473 basins.\n",
      "INFO:hydro_forecasting.data.in_memory_datamodule:Created 5 training shared chunks.\n",
      "INFO:hydro_forecasting.data.in_memory_datamodule:Initial training shared chunks: 5 chunks of approx size 1500 from 6473 basins.\n",
      "INFO:hydro_forecasting.experiment_utils.training_runner:Starting run 1/1 for ealstm\n",
      "Seed set to 42\n",
      "INFO:hydro_forecasting.experiment_utils.training_runner:Using seed: 42\n",
      "INFO:hydro_forecasting.experiment_utils.checkpoint_manager:Creating new attempt: /workspace/hydro-forecasting/experiments/low-medium-hii/low-medium-hii_tajikistan/checkpoints/ealstm/run_0/attempt_0\n",
      "INFO:hydro_forecasting.experiment_utils.checkpoint_manager:Creating new attempt: /workspace/hydro-forecasting/experiments/low-medium-hii/low-medium-hii_tajikistan/logs/ealstm/run_0/attempt_0\n",
      "GPU available: True (cuda), used: True\n",
      "TPU available: False, using: 0 TPU cores\n",
      "HPU available: False, using: 0 HPUs\n",
      "INFO:hydro_forecasting.data.in_memory_datamodule:Data preparation has already run.\n",
      "LOCAL_RANK: 0 - CUDA_VISIBLE_DEVICES: [0]\n",
      "\n",
      "  | Name          | Type     | Params | Mode \n",
      "---------------------------------------------------\n",
      "0 | mse_criterion | MSELoss  | 0      | train\n",
      "1 | model         | BiEALSTM | 744 K  | train\n",
      "---------------------------------------------------\n",
      "744 K     Trainable params\n",
      "0         Non-trainable params\n",
      "744 K     Total params\n",
      "2.977     Total estimated model params size (MB)\n",
      "36        Modules in train mode\n",
      "0         Modules in eval mode\n"
     ]
    },
    {
     "data": {
      "application/vnd.jupyter.widget-view+json": {
       "model_id": "267ecef1ddcf4fe78df38155960b5cc1",
       "version_major": 2,
       "version_minor": 0
      },
      "text/plain": [
       "Sanity Checking: |          | 0/? [00:00<?, ?it/s]"
      ]
     },
     "metadata": {},
     "output_type": "display_data"
    },
    {
     "name": "stderr",
     "output_type": "stream",
     "text": [
      "INFO:hydro_forecasting.data.in_memory_datamodule:Epoch 0: Val Dataloader using cached validation data with 12495132 samples from 4000 basins.\n",
      "INFO:hydro_forecasting.data.in_memory_datamodule:Epoch 0: Train Dataloader using chunk 1/5 with 1500 basins.\n",
      "INFO:hydro_forecasting.data.in_memory_datamodule:Stage 'train' chunk data loaded for 1500 basins. Shape: (9530019, 12). Est. Mem: 436.27 MB\n"
     ]
    },
    {
     "data": {
      "application/vnd.jupyter.widget-view+json": {
       "model_id": "b6bb4c105e9b448e93adfd046b9e8140",
       "version_major": 2,
       "version_minor": 0
      },
      "text/plain": [
       "Training: |          | 0/? [00:00<?, ?it/s]"
      ]
     },
     "metadata": {},
     "output_type": "display_data"
    },
    {
     "data": {
      "application/vnd.jupyter.widget-view+json": {
       "model_id": "ca8814196a7742e1964868b3e0c7f2f0",
       "version_major": 2,
       "version_minor": 0
      },
      "text/plain": [
       "Validation: |          | 0/? [00:00<?, ?it/s]"
      ]
     },
     "metadata": {},
     "output_type": "display_data"
    },
    {
     "name": "stderr",
     "output_type": "stream",
     "text": [
      "Metric val_loss improved. New best score: 0.053\n",
      "INFO:hydro_forecasting.data.in_memory_datamodule:Epoch 1: Train Dataloader using chunk 2/5 with 1500 basins.\n",
      "INFO:hydro_forecasting.data.in_memory_datamodule:Stage 'train' chunk data loaded for 1500 basins. Shape: (9652910, 12). Est. Mem: 441.90 MB\n",
      "INFO:hydro_forecasting.data.in_memory_datamodule:Epoch 1: Val Dataloader using cached validation data with 12495132 samples from 4000 basins.\n"
     ]
    },
    {
     "data": {
      "application/vnd.jupyter.widget-view+json": {
       "model_id": "1faac283642f457a95ea36d08e51c118",
       "version_major": 2,
       "version_minor": 0
      },
      "text/plain": [
       "Validation: |          | 0/? [00:00<?, ?it/s]"
      ]
     },
     "metadata": {},
     "output_type": "display_data"
    },
    {
     "name": "stderr",
     "output_type": "stream",
     "text": [
      "Metric val_loss improved by 0.005 >= min_delta = 0.0. New best score: 0.048\n",
      "INFO:hydro_forecasting.data.in_memory_datamodule:Epoch 2: Train Dataloader using chunk 3/5 with 1500 basins.\n",
      "INFO:hydro_forecasting.data.in_memory_datamodule:Stage 'train' chunk data loaded for 1500 basins. Shape: (9721759, 12). Est. Mem: 445.05 MB\n",
      "INFO:hydro_forecasting.data.in_memory_datamodule:Epoch 2: Val Dataloader using cached validation data with 12495132 samples from 4000 basins.\n"
     ]
    },
    {
     "data": {
      "application/vnd.jupyter.widget-view+json": {
       "model_id": "a932cdf0e0f646b5b1006687db7bce8b",
       "version_major": 2,
       "version_minor": 0
      },
      "text/plain": [
       "Validation: |          | 0/? [00:00<?, ?it/s]"
      ]
     },
     "metadata": {},
     "output_type": "display_data"
    },
    {
     "name": "stderr",
     "output_type": "stream",
     "text": [
      "Metric val_loss improved by 0.002 >= min_delta = 0.0. New best score: 0.045\n",
      "INFO:hydro_forecasting.data.in_memory_datamodule:Epoch 3: Train Dataloader using chunk 4/5 with 1500 basins.\n",
      "INFO:hydro_forecasting.data.in_memory_datamodule:Stage 'train' chunk data loaded for 1500 basins. Shape: (9851701, 12). Est. Mem: 451.00 MB\n",
      "INFO:hydro_forecasting.data.in_memory_datamodule:Epoch 3: Val Dataloader using cached validation data with 12495132 samples from 4000 basins.\n"
     ]
    },
    {
     "data": {
      "application/vnd.jupyter.widget-view+json": {
       "model_id": "e1e8cb9b56364ec2a3fde6eb9de26f02",
       "version_major": 2,
       "version_minor": 0
      },
      "text/plain": [
       "Validation: |          | 0/? [00:00<?, ?it/s]"
      ]
     },
     "metadata": {},
     "output_type": "display_data"
    },
    {
     "name": "stderr",
     "output_type": "stream",
     "text": [
      "Metric val_loss improved by 0.002 >= min_delta = 0.0. New best score: 0.044\n",
      "INFO:hydro_forecasting.data.in_memory_datamodule:Epoch 4: Train Dataloader using chunk 5/5 with 473 basins.\n",
      "INFO:hydro_forecasting.data.in_memory_datamodule:Stage 'train' chunk data loaded for 473 basins. Shape: (3068293, 12). Est. Mem: 140.46 MB\n",
      "INFO:hydro_forecasting.data.in_memory_datamodule:Epoch 4: Val Dataloader using cached validation data with 12495132 samples from 4000 basins.\n"
     ]
    },
    {
     "data": {
      "application/vnd.jupyter.widget-view+json": {
       "model_id": "f171e568577f4dce9c47717f41add20f",
       "version_major": 2,
       "version_minor": 0
      },
      "text/plain": [
       "Validation: |          | 0/? [00:00<?, ?it/s]"
      ]
     },
     "metadata": {},
     "output_type": "display_data"
    },
    {
     "name": "stderr",
     "output_type": "stream",
     "text": [
      "INFO:hydro_forecasting.data.in_memory_datamodule:Completed full pass through training shared chunks. Recomputing.\n",
      "INFO:hydro_forecasting.data.in_memory_datamodule:Initializing/Re-initializing training shared chunks from 6473 basins.\n",
      "INFO:hydro_forecasting.data.in_memory_datamodule:Created 5 training shared chunks.\n",
      "INFO:hydro_forecasting.data.in_memory_datamodule:Epoch 5: Train Dataloader using chunk 1/5 with 1500 basins.\n",
      "INFO:hydro_forecasting.data.in_memory_datamodule:Stage 'train' chunk data loaded for 1500 basins. Shape: (9642018, 12). Est. Mem: 441.40 MB\n",
      "INFO:hydro_forecasting.data.in_memory_datamodule:Epoch 5: Val Dataloader using cached validation data with 12495132 samples from 4000 basins.\n"
     ]
    },
    {
     "data": {
      "application/vnd.jupyter.widget-view+json": {
       "model_id": "83ed0955e4614b2094a50f780665d9ed",
       "version_major": 2,
       "version_minor": 0
      },
      "text/plain": [
       "Validation: |          | 0/? [00:00<?, ?it/s]"
      ]
     },
     "metadata": {},
     "output_type": "display_data"
    },
    {
     "name": "stderr",
     "output_type": "stream",
     "text": [
      "Metric val_loss improved by 0.001 >= min_delta = 0.0. New best score: 0.043\n",
      "INFO:hydro_forecasting.data.in_memory_datamodule:Epoch 6: Train Dataloader using chunk 2/5 with 1500 basins.\n",
      "INFO:hydro_forecasting.data.in_memory_datamodule:Stage 'train' chunk data loaded for 1500 basins. Shape: (9701856, 12). Est. Mem: 444.14 MB\n",
      "INFO:hydro_forecasting.data.in_memory_datamodule:Epoch 6: Val Dataloader using cached validation data with 12495132 samples from 4000 basins.\n"
     ]
    },
    {
     "data": {
      "application/vnd.jupyter.widget-view+json": {
       "model_id": "2c1eac96400b47169d3c72777e69cf24",
       "version_major": 2,
       "version_minor": 0
      },
      "text/plain": [
       "Validation: |          | 0/? [00:00<?, ?it/s]"
      ]
     },
     "metadata": {},
     "output_type": "display_data"
    },
    {
     "name": "stderr",
     "output_type": "stream",
     "text": [
      "Metric val_loss improved by 0.001 >= min_delta = 0.0. New best score: 0.042\n",
      "INFO:hydro_forecasting.data.in_memory_datamodule:Epoch 7: Train Dataloader using chunk 3/5 with 1500 basins.\n",
      "INFO:hydro_forecasting.data.in_memory_datamodule:Stage 'train' chunk data loaded for 1500 basins. Shape: (9750947, 12). Est. Mem: 446.38 MB\n",
      "INFO:hydro_forecasting.data.in_memory_datamodule:Epoch 7: Val Dataloader using cached validation data with 12495132 samples from 4000 basins.\n"
     ]
    },
    {
     "data": {
      "application/vnd.jupyter.widget-view+json": {
       "model_id": "7389093c282b45fbafe1ce56678624fa",
       "version_major": 2,
       "version_minor": 0
      },
      "text/plain": [
       "Validation: |          | 0/? [00:00<?, ?it/s]"
      ]
     },
     "metadata": {},
     "output_type": "display_data"
    },
    {
     "name": "stderr",
     "output_type": "stream",
     "text": [
      "Metric val_loss improved by 0.001 >= min_delta = 0.0. New best score: 0.041\n",
      "INFO:hydro_forecasting.data.in_memory_datamodule:Epoch 8: Train Dataloader using chunk 4/5 with 1500 basins.\n",
      "INFO:hydro_forecasting.data.in_memory_datamodule:Stage 'train' chunk data loaded for 1500 basins. Shape: (9676055, 12). Est. Mem: 442.96 MB\n",
      "INFO:hydro_forecasting.data.in_memory_datamodule:Epoch 8: Val Dataloader using cached validation data with 12495132 samples from 4000 basins.\n"
     ]
    },
    {
     "data": {
      "application/vnd.jupyter.widget-view+json": {
       "model_id": "174bbc5ea3d244c0bef9b553ca14285e",
       "version_major": 2,
       "version_minor": 0
      },
      "text/plain": [
       "Validation: |          | 0/? [00:00<?, ?it/s]"
      ]
     },
     "metadata": {},
     "output_type": "display_data"
    },
    {
     "name": "stderr",
     "output_type": "stream",
     "text": [
      "Metric val_loss improved by 0.001 >= min_delta = 0.0. New best score: 0.040\n",
      "INFO:hydro_forecasting.data.in_memory_datamodule:Epoch 9: Train Dataloader using chunk 5/5 with 473 basins.\n",
      "INFO:hydro_forecasting.data.in_memory_datamodule:Stage 'train' chunk data loaded for 473 basins. Shape: (3053806, 12). Est. Mem: 139.80 MB\n",
      "INFO:hydro_forecasting.data.in_memory_datamodule:Epoch 9: Val Dataloader using cached validation data with 12495132 samples from 4000 basins.\n"
     ]
    },
    {
     "data": {
      "application/vnd.jupyter.widget-view+json": {
       "model_id": "f74ec3db47dd410b862fad7156ed7d0f",
       "version_major": 2,
       "version_minor": 0
      },
      "text/plain": [
       "Validation: |          | 0/? [00:00<?, ?it/s]"
      ]
     },
     "metadata": {},
     "output_type": "display_data"
    },
    {
     "name": "stderr",
     "output_type": "stream",
     "text": [
      "INFO:hydro_forecasting.data.in_memory_datamodule:Completed full pass through training shared chunks. Recomputing.\n",
      "INFO:hydro_forecasting.data.in_memory_datamodule:Initializing/Re-initializing training shared chunks from 6473 basins.\n",
      "INFO:hydro_forecasting.data.in_memory_datamodule:Created 5 training shared chunks.\n",
      "INFO:hydro_forecasting.data.in_memory_datamodule:Epoch 10: Train Dataloader using chunk 1/5 with 1500 basins.\n",
      "INFO:hydro_forecasting.data.in_memory_datamodule:Stage 'train' chunk data loaded for 1500 basins. Shape: (9694952, 12). Est. Mem: 443.82 MB\n",
      "INFO:hydro_forecasting.data.in_memory_datamodule:Epoch 10: Val Dataloader using cached validation data with 12495132 samples from 4000 basins.\n"
     ]
    },
    {
     "data": {
      "application/vnd.jupyter.widget-view+json": {
       "model_id": "71a5989fe20347eca306f0d02e86f362",
       "version_major": 2,
       "version_minor": 0
      },
      "text/plain": [
       "Validation: |          | 0/? [00:00<?, ?it/s]"
      ]
     },
     "metadata": {},
     "output_type": "display_data"
    },
    {
     "name": "stderr",
     "output_type": "stream",
     "text": [
      "Metric val_loss improved by 0.000 >= min_delta = 0.0. New best score: 0.040\n",
      "INFO:hydro_forecasting.data.in_memory_datamodule:Epoch 11: Train Dataloader using chunk 2/5 with 1500 basins.\n",
      "INFO:hydro_forecasting.data.in_memory_datamodule:Stage 'train' chunk data loaded for 1500 basins. Shape: (9734732, 12). Est. Mem: 445.64 MB\n",
      "INFO:hydro_forecasting.data.in_memory_datamodule:Epoch 11: Val Dataloader using cached validation data with 12495132 samples from 4000 basins.\n"
     ]
    },
    {
     "data": {
      "application/vnd.jupyter.widget-view+json": {
       "model_id": "e58b16283604471a8407e403fff24aa7",
       "version_major": 2,
       "version_minor": 0
      },
      "text/plain": [
       "Validation: |          | 0/? [00:00<?, ?it/s]"
      ]
     },
     "metadata": {},
     "output_type": "display_data"
    },
    {
     "name": "stderr",
     "output_type": "stream",
     "text": [
      "Metric val_loss improved by 0.000 >= min_delta = 0.0. New best score: 0.040\n",
      "INFO:hydro_forecasting.data.in_memory_datamodule:Epoch 12: Train Dataloader using chunk 3/5 with 1500 basins.\n",
      "INFO:hydro_forecasting.data.in_memory_datamodule:Stage 'train' chunk data loaded for 1500 basins. Shape: (9767687, 12). Est. Mem: 447.15 MB\n",
      "INFO:hydro_forecasting.data.in_memory_datamodule:Epoch 12: Val Dataloader using cached validation data with 12495132 samples from 4000 basins.\n"
     ]
    },
    {
     "data": {
      "application/vnd.jupyter.widget-view+json": {
       "model_id": "b810e2a708ca46099c3f7a7a58dda150",
       "version_major": 2,
       "version_minor": 0
      },
      "text/plain": [
       "Validation: |          | 0/? [00:00<?, ?it/s]"
      ]
     },
     "metadata": {},
     "output_type": "display_data"
    },
    {
     "name": "stderr",
     "output_type": "stream",
     "text": [
      "Metric val_loss improved by 0.001 >= min_delta = 0.0. New best score: 0.039\n",
      "INFO:hydro_forecasting.data.in_memory_datamodule:Epoch 13: Train Dataloader using chunk 4/5 with 1500 basins.\n",
      "INFO:hydro_forecasting.data.in_memory_datamodule:Stage 'train' chunk data loaded for 1500 basins. Shape: (9539507, 12). Est. Mem: 436.70 MB\n",
      "INFO:hydro_forecasting.data.in_memory_datamodule:Epoch 13: Val Dataloader using cached validation data with 12495132 samples from 4000 basins.\n"
     ]
    },
    {
     "data": {
      "application/vnd.jupyter.widget-view+json": {
       "model_id": "c0ce3e75e40f42078ab824a8035bd7f5",
       "version_major": 2,
       "version_minor": 0
      },
      "text/plain": [
       "Validation: |          | 0/? [00:00<?, ?it/s]"
      ]
     },
     "metadata": {},
     "output_type": "display_data"
    },
    {
     "name": "stderr",
     "output_type": "stream",
     "text": [
      "Metric val_loss improved by 0.000 >= min_delta = 0.0. New best score: 0.039\n",
      "INFO:hydro_forecasting.data.in_memory_datamodule:Epoch 14: Train Dataloader using chunk 5/5 with 473 basins.\n",
      "INFO:hydro_forecasting.data.in_memory_datamodule:Stage 'train' chunk data loaded for 473 basins. Shape: (3087804, 12). Est. Mem: 141.35 MB\n",
      "INFO:hydro_forecasting.data.in_memory_datamodule:Epoch 14: Val Dataloader using cached validation data with 12495132 samples from 4000 basins.\n"
     ]
    },
    {
     "data": {
      "application/vnd.jupyter.widget-view+json": {
       "model_id": "228669ff4fb24f69967069a83175d8f1",
       "version_major": 2,
       "version_minor": 0
      },
      "text/plain": [
       "Validation: |          | 0/? [00:00<?, ?it/s]"
      ]
     },
     "metadata": {},
     "output_type": "display_data"
    },
    {
     "name": "stderr",
     "output_type": "stream",
     "text": [
      "INFO:hydro_forecasting.data.in_memory_datamodule:Completed full pass through training shared chunks. Recomputing.\n",
      "INFO:hydro_forecasting.data.in_memory_datamodule:Initializing/Re-initializing training shared chunks from 6473 basins.\n",
      "INFO:hydro_forecasting.data.in_memory_datamodule:Created 5 training shared chunks.\n",
      "INFO:hydro_forecasting.data.in_memory_datamodule:Epoch 15: Train Dataloader using chunk 1/5 with 1500 basins.\n",
      "INFO:hydro_forecasting.data.in_memory_datamodule:Stage 'train' chunk data loaded for 1500 basins. Shape: (9628886, 12). Est. Mem: 440.80 MB\n",
      "INFO:hydro_forecasting.data.in_memory_datamodule:Epoch 15: Val Dataloader using cached validation data with 12495132 samples from 4000 basins.\n"
     ]
    },
    {
     "data": {
      "application/vnd.jupyter.widget-view+json": {
       "model_id": "12413c7a79a7413f9b2439461ea0c739",
       "version_major": 2,
       "version_minor": 0
      },
      "text/plain": [
       "Validation: |          | 0/? [00:00<?, ?it/s]"
      ]
     },
     "metadata": {},
     "output_type": "display_data"
    },
    {
     "name": "stderr",
     "output_type": "stream",
     "text": [
      "INFO:hydro_forecasting.data.in_memory_datamodule:Epoch 16: Train Dataloader using chunk 2/5 with 1500 basins.\n",
      "INFO:hydro_forecasting.data.in_memory_datamodule:Stage 'train' chunk data loaded for 1500 basins. Shape: (9874734, 12). Est. Mem: 452.05 MB\n",
      "INFO:hydro_forecasting.data.in_memory_datamodule:Epoch 16: Val Dataloader using cached validation data with 12495132 samples from 4000 basins.\n"
     ]
    },
    {
     "data": {
      "application/vnd.jupyter.widget-view+json": {
       "model_id": "c7f88ba305b74629bb494133de2cc800",
       "version_major": 2,
       "version_minor": 0
      },
      "text/plain": [
       "Validation: |          | 0/? [00:00<?, ?it/s]"
      ]
     },
     "metadata": {},
     "output_type": "display_data"
    },
    {
     "name": "stderr",
     "output_type": "stream",
     "text": [
      "Metric val_loss improved by 0.001 >= min_delta = 0.0. New best score: 0.038\n",
      "INFO:hydro_forecasting.data.in_memory_datamodule:Epoch 17: Train Dataloader using chunk 3/5 with 1500 basins.\n",
      "INFO:hydro_forecasting.data.in_memory_datamodule:Stage 'train' chunk data loaded for 1500 basins. Shape: (9624644, 12). Est. Mem: 440.60 MB\n",
      "INFO:hydro_forecasting.data.in_memory_datamodule:Epoch 17: Val Dataloader using cached validation data with 12495132 samples from 4000 basins.\n"
     ]
    },
    {
     "data": {
      "application/vnd.jupyter.widget-view+json": {
       "model_id": "1b791cfb2d1d44cb962e9e8ac6d9f0a5",
       "version_major": 2,
       "version_minor": 0
      },
      "text/plain": [
       "Validation: |          | 0/? [00:00<?, ?it/s]"
      ]
     },
     "metadata": {},
     "output_type": "display_data"
    },
    {
     "name": "stderr",
     "output_type": "stream",
     "text": [
      "Metric val_loss improved by 0.000 >= min_delta = 0.0. New best score: 0.038\n",
      "INFO:hydro_forecasting.data.in_memory_datamodule:Epoch 18: Train Dataloader using chunk 4/5 with 1500 basins.\n",
      "INFO:hydro_forecasting.data.in_memory_datamodule:Stage 'train' chunk data loaded for 1500 basins. Shape: (9683196, 12). Est. Mem: 443.28 MB\n",
      "INFO:hydro_forecasting.data.in_memory_datamodule:Epoch 18: Val Dataloader using cached validation data with 12495132 samples from 4000 basins.\n"
     ]
    },
    {
     "data": {
      "application/vnd.jupyter.widget-view+json": {
       "model_id": "c7b934522c9f423b97977a4ec4029d79",
       "version_major": 2,
       "version_minor": 0
      },
      "text/plain": [
       "Validation: |          | 0/? [00:00<?, ?it/s]"
      ]
     },
     "metadata": {},
     "output_type": "display_data"
    },
    {
     "name": "stderr",
     "output_type": "stream",
     "text": [
      "INFO:hydro_forecasting.data.in_memory_datamodule:Epoch 19: Train Dataloader using chunk 5/5 with 473 basins.\n",
      "INFO:hydro_forecasting.data.in_memory_datamodule:Stage 'train' chunk data loaded for 473 basins. Shape: (3013222, 12). Est. Mem: 137.94 MB\n",
      "INFO:hydro_forecasting.data.in_memory_datamodule:Epoch 19: Val Dataloader using cached validation data with 12495132 samples from 4000 basins.\n"
     ]
    },
    {
     "data": {
      "application/vnd.jupyter.widget-view+json": {
       "model_id": "6d8a5d512071493093751e9145c425a4",
       "version_major": 2,
       "version_minor": 0
      },
      "text/plain": [
       "Validation: |          | 0/? [00:00<?, ?it/s]"
      ]
     },
     "metadata": {},
     "output_type": "display_data"
    },
    {
     "name": "stderr",
     "output_type": "stream",
     "text": [
      "INFO:hydro_forecasting.data.in_memory_datamodule:Completed full pass through training shared chunks. Recomputing.\n",
      "INFO:hydro_forecasting.data.in_memory_datamodule:Initializing/Re-initializing training shared chunks from 6473 basins.\n",
      "INFO:hydro_forecasting.data.in_memory_datamodule:Created 5 training shared chunks.\n",
      "INFO:hydro_forecasting.data.in_memory_datamodule:Epoch 20: Train Dataloader using chunk 1/5 with 1500 basins.\n",
      "INFO:hydro_forecasting.data.in_memory_datamodule:Stage 'train' chunk data loaded for 1500 basins. Shape: (9673747, 12). Est. Mem: 442.85 MB\n",
      "INFO:hydro_forecasting.data.in_memory_datamodule:Epoch 20: Val Dataloader using cached validation data with 12495132 samples from 4000 basins.\n"
     ]
    },
    {
     "data": {
      "application/vnd.jupyter.widget-view+json": {
       "model_id": "586dc7aae97748a99101b8760b402b8b",
       "version_major": 2,
       "version_minor": 0
      },
      "text/plain": [
       "Validation: |          | 0/? [00:00<?, ?it/s]"
      ]
     },
     "metadata": {},
     "output_type": "display_data"
    },
    {
     "name": "stderr",
     "output_type": "stream",
     "text": [
      "Metric val_loss improved by 0.000 >= min_delta = 0.0. New best score: 0.038\n",
      "INFO:hydro_forecasting.data.in_memory_datamodule:Epoch 21: Train Dataloader using chunk 2/5 with 1500 basins.\n",
      "INFO:hydro_forecasting.data.in_memory_datamodule:Stage 'train' chunk data loaded for 1500 basins. Shape: (9831239, 12). Est. Mem: 450.06 MB\n",
      "INFO:hydro_forecasting.data.in_memory_datamodule:Epoch 21: Val Dataloader using cached validation data with 12495132 samples from 4000 basins.\n"
     ]
    },
    {
     "data": {
      "application/vnd.jupyter.widget-view+json": {
       "model_id": "196645ab7ed243a6a268554e908593c2",
       "version_major": 2,
       "version_minor": 0
      },
      "text/plain": [
       "Validation: |          | 0/? [00:00<?, ?it/s]"
      ]
     },
     "metadata": {},
     "output_type": "display_data"
    },
    {
     "name": "stderr",
     "output_type": "stream",
     "text": [
      "INFO:hydro_forecasting.data.in_memory_datamodule:Epoch 22: Train Dataloader using chunk 3/5 with 1500 basins.\n",
      "INFO:hydro_forecasting.data.in_memory_datamodule:Stage 'train' chunk data loaded for 1500 basins. Shape: (9610428, 12). Est. Mem: 439.95 MB\n",
      "INFO:hydro_forecasting.data.in_memory_datamodule:Epoch 22: Val Dataloader using cached validation data with 12495132 samples from 4000 basins.\n"
     ]
    },
    {
     "data": {
      "application/vnd.jupyter.widget-view+json": {
       "model_id": "199e48efb1844eef8cfaaa40d87939e5",
       "version_major": 2,
       "version_minor": 0
      },
      "text/plain": [
       "Validation: |          | 0/? [00:00<?, ?it/s]"
      ]
     },
     "metadata": {},
     "output_type": "display_data"
    },
    {
     "name": "stderr",
     "output_type": "stream",
     "text": [
      "Metric val_loss improved by 0.001 >= min_delta = 0.0. New best score: 0.037\n",
      "INFO:hydro_forecasting.data.in_memory_datamodule:Epoch 23: Train Dataloader using chunk 4/5 with 1500 basins.\n",
      "INFO:hydro_forecasting.data.in_memory_datamodule:Stage 'train' chunk data loaded for 1500 basins. Shape: (9678643, 12). Est. Mem: 443.07 MB\n",
      "INFO:hydro_forecasting.data.in_memory_datamodule:Epoch 23: Val Dataloader using cached validation data with 12495132 samples from 4000 basins.\n"
     ]
    },
    {
     "data": {
      "application/vnd.jupyter.widget-view+json": {
       "model_id": "aa300c9bd02141a8bb618ccf6eaf6f32",
       "version_major": 2,
       "version_minor": 0
      },
      "text/plain": [
       "Validation: |          | 0/? [00:00<?, ?it/s]"
      ]
     },
     "metadata": {},
     "output_type": "display_data"
    },
    {
     "name": "stderr",
     "output_type": "stream",
     "text": [
      "INFO:hydro_forecasting.data.in_memory_datamodule:Epoch 24: Train Dataloader using chunk 5/5 with 473 basins.\n",
      "INFO:hydro_forecasting.data.in_memory_datamodule:Stage 'train' chunk data loaded for 473 basins. Shape: (3030625, 12). Est. Mem: 138.74 MB\n",
      "INFO:hydro_forecasting.data.in_memory_datamodule:Epoch 24: Val Dataloader using cached validation data with 12495132 samples from 4000 basins.\n"
     ]
    },
    {
     "data": {
      "application/vnd.jupyter.widget-view+json": {
       "model_id": "316be339ae1b4290892bb6f855f9f9fa",
       "version_major": 2,
       "version_minor": 0
      },
      "text/plain": [
       "Validation: |          | 0/? [00:00<?, ?it/s]"
      ]
     },
     "metadata": {},
     "output_type": "display_data"
    },
    {
     "name": "stderr",
     "output_type": "stream",
     "text": [
      "INFO:hydro_forecasting.data.in_memory_datamodule:Completed full pass through training shared chunks. Recomputing.\n",
      "INFO:hydro_forecasting.data.in_memory_datamodule:Initializing/Re-initializing training shared chunks from 6473 basins.\n",
      "INFO:hydro_forecasting.data.in_memory_datamodule:Created 5 training shared chunks.\n",
      "INFO:hydro_forecasting.data.in_memory_datamodule:Epoch 25: Train Dataloader using chunk 1/5 with 1500 basins.\n",
      "INFO:hydro_forecasting.data.in_memory_datamodule:Stage 'train' chunk data loaded for 1500 basins. Shape: (9711048, 12). Est. Mem: 444.56 MB\n",
      "INFO:hydro_forecasting.data.in_memory_datamodule:Epoch 25: Val Dataloader using cached validation data with 12495132 samples from 4000 basins.\n"
     ]
    },
    {
     "data": {
      "application/vnd.jupyter.widget-view+json": {
       "model_id": "53f1da6fd84d4647868062617f69739b",
       "version_major": 2,
       "version_minor": 0
      },
      "text/plain": [
       "Validation: |          | 0/? [00:00<?, ?it/s]"
      ]
     },
     "metadata": {},
     "output_type": "display_data"
    },
    {
     "name": "stderr",
     "output_type": "stream",
     "text": [
      "Metric val_loss improved by 0.000 >= min_delta = 0.0. New best score: 0.037\n",
      "INFO:hydro_forecasting.data.in_memory_datamodule:Epoch 26: Train Dataloader using chunk 2/5 with 1500 basins.\n",
      "INFO:hydro_forecasting.data.in_memory_datamodule:Stage 'train' chunk data loaded for 1500 basins. Shape: (9591985, 12). Est. Mem: 439.11 MB\n",
      "INFO:hydro_forecasting.data.in_memory_datamodule:Epoch 26: Val Dataloader using cached validation data with 12495132 samples from 4000 basins.\n"
     ]
    },
    {
     "data": {
      "application/vnd.jupyter.widget-view+json": {
       "model_id": "a178231db9f14a838ecfa6f1560d9e24",
       "version_major": 2,
       "version_minor": 0
      },
      "text/plain": [
       "Validation: |          | 0/? [00:00<?, ?it/s]"
      ]
     },
     "metadata": {},
     "output_type": "display_data"
    },
    {
     "name": "stderr",
     "output_type": "stream",
     "text": [
      "Metric val_loss improved by 0.000 >= min_delta = 0.0. New best score: 0.037\n",
      "INFO:hydro_forecasting.data.in_memory_datamodule:Epoch 27: Train Dataloader using chunk 3/5 with 1500 basins.\n",
      "INFO:hydro_forecasting.data.in_memory_datamodule:Stage 'train' chunk data loaded for 1500 basins. Shape: (9663905, 12). Est. Mem: 442.40 MB\n",
      "INFO:hydro_forecasting.data.in_memory_datamodule:Epoch 27: Val Dataloader using cached validation data with 12495132 samples from 4000 basins.\n"
     ]
    },
    {
     "data": {
      "application/vnd.jupyter.widget-view+json": {
       "model_id": "74e7c0407659402e9d95f5f1f1f09d0c",
       "version_major": 2,
       "version_minor": 0
      },
      "text/plain": [
       "Validation: |          | 0/? [00:00<?, ?it/s]"
      ]
     },
     "metadata": {},
     "output_type": "display_data"
    },
    {
     "name": "stderr",
     "output_type": "stream",
     "text": [
      "Metric val_loss improved by 0.000 >= min_delta = 0.0. New best score: 0.037\n",
      "INFO:hydro_forecasting.data.in_memory_datamodule:Epoch 28: Train Dataloader using chunk 4/5 with 1500 basins.\n",
      "INFO:hydro_forecasting.data.in_memory_datamodule:Stage 'train' chunk data loaded for 1500 basins. Shape: (9760289, 12). Est. Mem: 446.81 MB\n",
      "INFO:hydro_forecasting.data.in_memory_datamodule:Epoch 28: Val Dataloader using cached validation data with 12495132 samples from 4000 basins.\n"
     ]
    },
    {
     "data": {
      "application/vnd.jupyter.widget-view+json": {
       "model_id": "b36f7d53cbc8465483d381d987ea695c",
       "version_major": 2,
       "version_minor": 0
      },
      "text/plain": [
       "Validation: |          | 0/? [00:00<?, ?it/s]"
      ]
     },
     "metadata": {},
     "output_type": "display_data"
    },
    {
     "name": "stderr",
     "output_type": "stream",
     "text": [
      "Metric val_loss improved by 0.000 >= min_delta = 0.0. New best score: 0.037\n",
      "INFO:hydro_forecasting.data.in_memory_datamodule:Epoch 29: Train Dataloader using chunk 5/5 with 473 basins.\n",
      "INFO:hydro_forecasting.data.in_memory_datamodule:Stage 'train' chunk data loaded for 473 basins. Shape: (3097455, 12). Est. Mem: 141.80 MB\n",
      "INFO:hydro_forecasting.data.in_memory_datamodule:Epoch 29: Val Dataloader using cached validation data with 12495132 samples from 4000 basins.\n"
     ]
    },
    {
     "data": {
      "application/vnd.jupyter.widget-view+json": {
       "model_id": "fbb520e9c57e408abbf3288447fe1d2b",
       "version_major": 2,
       "version_minor": 0
      },
      "text/plain": [
       "Validation: |          | 0/? [00:00<?, ?it/s]"
      ]
     },
     "metadata": {},
     "output_type": "display_data"
    },
    {
     "name": "stderr",
     "output_type": "stream",
     "text": [
      "INFO:hydro_forecasting.data.in_memory_datamodule:Completed full pass through training shared chunks. Recomputing.\n",
      "INFO:hydro_forecasting.data.in_memory_datamodule:Initializing/Re-initializing training shared chunks from 6473 basins.\n",
      "INFO:hydro_forecasting.data.in_memory_datamodule:Created 5 training shared chunks.\n",
      "INFO:hydro_forecasting.data.in_memory_datamodule:Epoch 30: Train Dataloader using chunk 1/5 with 1500 basins.\n",
      "INFO:hydro_forecasting.data.in_memory_datamodule:Stage 'train' chunk data loaded for 1500 basins. Shape: (9588318, 12). Est. Mem: 438.94 MB\n",
      "INFO:hydro_forecasting.data.in_memory_datamodule:Epoch 30: Val Dataloader using cached validation data with 12495132 samples from 4000 basins.\n"
     ]
    },
    {
     "data": {
      "application/vnd.jupyter.widget-view+json": {
       "model_id": "666a11e4e7714489a5fc61c1031b68d2",
       "version_major": 2,
       "version_minor": 0
      },
      "text/plain": [
       "Validation: |          | 0/? [00:00<?, ?it/s]"
      ]
     },
     "metadata": {},
     "output_type": "display_data"
    },
    {
     "name": "stderr",
     "output_type": "stream",
     "text": [
      "Metric val_loss improved by 0.000 >= min_delta = 0.0. New best score: 0.037\n",
      "INFO:hydro_forecasting.data.in_memory_datamodule:Epoch 31: Train Dataloader using chunk 2/5 with 1500 basins.\n",
      "INFO:hydro_forecasting.data.in_memory_datamodule:Stage 'train' chunk data loaded for 1500 basins. Shape: (9736355, 12). Est. Mem: 445.72 MB\n",
      "INFO:hydro_forecasting.data.in_memory_datamodule:Epoch 31: Val Dataloader using cached validation data with 12495132 samples from 4000 basins.\n"
     ]
    },
    {
     "data": {
      "application/vnd.jupyter.widget-view+json": {
       "model_id": "cf239d571c664278bcf45965aaf94ebb",
       "version_major": 2,
       "version_minor": 0
      },
      "text/plain": [
       "Validation: |          | 0/? [00:00<?, ?it/s]"
      ]
     },
     "metadata": {},
     "output_type": "display_data"
    },
    {
     "name": "stderr",
     "output_type": "stream",
     "text": [
      "Metric val_loss improved by 0.000 >= min_delta = 0.0. New best score: 0.037\n",
      "INFO:hydro_forecasting.data.in_memory_datamodule:Epoch 32: Train Dataloader using chunk 3/5 with 1500 basins.\n",
      "INFO:hydro_forecasting.data.in_memory_datamodule:Stage 'train' chunk data loaded for 1500 basins. Shape: (9807993, 12). Est. Mem: 448.99 MB\n",
      "INFO:hydro_forecasting.data.in_memory_datamodule:Epoch 32: Val Dataloader using cached validation data with 12495132 samples from 4000 basins.\n"
     ]
    },
    {
     "data": {
      "application/vnd.jupyter.widget-view+json": {
       "model_id": "c99f4d9b9ae3402da7543a8fad9443e3",
       "version_major": 2,
       "version_minor": 0
      },
      "text/plain": [
       "Validation: |          | 0/? [00:00<?, ?it/s]"
      ]
     },
     "metadata": {},
     "output_type": "display_data"
    },
    {
     "name": "stderr",
     "output_type": "stream",
     "text": [
      "Metric val_loss improved by 0.000 >= min_delta = 0.0. New best score: 0.037\n",
      "INFO:hydro_forecasting.data.in_memory_datamodule:Epoch 33: Train Dataloader using chunk 4/5 with 1500 basins.\n",
      "INFO:hydro_forecasting.data.in_memory_datamodule:Stage 'train' chunk data loaded for 1500 basins. Shape: (9684837, 12). Est. Mem: 443.36 MB\n",
      "INFO:hydro_forecasting.data.in_memory_datamodule:Epoch 33: Val Dataloader using cached validation data with 12495132 samples from 4000 basins.\n"
     ]
    },
    {
     "data": {
      "application/vnd.jupyter.widget-view+json": {
       "model_id": "9917e8b3a340477fb3480a966c2eaeea",
       "version_major": 2,
       "version_minor": 0
      },
      "text/plain": [
       "Validation: |          | 0/? [00:00<?, ?it/s]"
      ]
     },
     "metadata": {},
     "output_type": "display_data"
    },
    {
     "name": "stderr",
     "output_type": "stream",
     "text": [
      "INFO:hydro_forecasting.data.in_memory_datamodule:Epoch 34: Train Dataloader using chunk 5/5 with 473 basins.\n",
      "INFO:hydro_forecasting.data.in_memory_datamodule:Stage 'train' chunk data loaded for 473 basins. Shape: (3007179, 12). Est. Mem: 137.66 MB\n",
      "INFO:hydro_forecasting.data.in_memory_datamodule:Epoch 34: Val Dataloader using cached validation data with 12495132 samples from 4000 basins.\n"
     ]
    },
    {
     "data": {
      "application/vnd.jupyter.widget-view+json": {
       "model_id": "d303f49dd9c84805a4dfa1c4b210c423",
       "version_major": 2,
       "version_minor": 0
      },
      "text/plain": [
       "Validation: |          | 0/? [00:00<?, ?it/s]"
      ]
     },
     "metadata": {},
     "output_type": "display_data"
    },
    {
     "name": "stderr",
     "output_type": "stream",
     "text": [
      "INFO:hydro_forecasting.data.in_memory_datamodule:Completed full pass through training shared chunks. Recomputing.\n",
      "INFO:hydro_forecasting.data.in_memory_datamodule:Initializing/Re-initializing training shared chunks from 6473 basins.\n",
      "INFO:hydro_forecasting.data.in_memory_datamodule:Created 5 training shared chunks.\n",
      "INFO:hydro_forecasting.data.in_memory_datamodule:Epoch 35: Train Dataloader using chunk 1/5 with 1500 basins.\n",
      "INFO:hydro_forecasting.data.in_memory_datamodule:Stage 'train' chunk data loaded for 1500 basins. Shape: (9702014, 12). Est. Mem: 444.14 MB\n",
      "INFO:hydro_forecasting.data.in_memory_datamodule:Epoch 35: Val Dataloader using cached validation data with 12495132 samples from 4000 basins.\n"
     ]
    },
    {
     "data": {
      "application/vnd.jupyter.widget-view+json": {
       "model_id": "ce766690366f4a9abe291475511b2b38",
       "version_major": 2,
       "version_minor": 0
      },
      "text/plain": [
       "Validation: |          | 0/? [00:00<?, ?it/s]"
      ]
     },
     "metadata": {},
     "output_type": "display_data"
    },
    {
     "name": "stderr",
     "output_type": "stream",
     "text": [
      "INFO:hydro_forecasting.data.in_memory_datamodule:Epoch 36: Train Dataloader using chunk 2/5 with 1500 basins.\n",
      "INFO:hydro_forecasting.data.in_memory_datamodule:Stage 'train' chunk data loaded for 1500 basins. Shape: (9740079, 12). Est. Mem: 445.89 MB\n",
      "INFO:hydro_forecasting.data.in_memory_datamodule:Epoch 36: Val Dataloader using cached validation data with 12495132 samples from 4000 basins.\n"
     ]
    },
    {
     "data": {
      "application/vnd.jupyter.widget-view+json": {
       "model_id": "66686d3cae3e49be90e9deba709dcccb",
       "version_major": 2,
       "version_minor": 0
      },
      "text/plain": [
       "Validation: |          | 0/? [00:00<?, ?it/s]"
      ]
     },
     "metadata": {},
     "output_type": "display_data"
    },
    {
     "name": "stderr",
     "output_type": "stream",
     "text": [
      "Metric val_loss improved by 0.000 >= min_delta = 0.0. New best score: 0.036\n",
      "INFO:hydro_forecasting.data.in_memory_datamodule:Epoch 37: Train Dataloader using chunk 3/5 with 1500 basins.\n",
      "INFO:hydro_forecasting.data.in_memory_datamodule:Stage 'train' chunk data loaded for 1500 basins. Shape: (9685857, 12). Est. Mem: 443.40 MB\n",
      "INFO:hydro_forecasting.data.in_memory_datamodule:Epoch 37: Val Dataloader using cached validation data with 12495132 samples from 4000 basins.\n"
     ]
    },
    {
     "data": {
      "application/vnd.jupyter.widget-view+json": {
       "model_id": "50b1dc6e8d8d4d02a9434fa1278190f1",
       "version_major": 2,
       "version_minor": 0
      },
      "text/plain": [
       "Validation: |          | 0/? [00:00<?, ?it/s]"
      ]
     },
     "metadata": {},
     "output_type": "display_data"
    },
    {
     "name": "stderr",
     "output_type": "stream",
     "text": [
      "Metric val_loss improved by 0.000 >= min_delta = 0.0. New best score: 0.036\n",
      "INFO:hydro_forecasting.data.in_memory_datamodule:Epoch 38: Train Dataloader using chunk 4/5 with 1500 basins.\n",
      "INFO:hydro_forecasting.data.in_memory_datamodule:Stage 'train' chunk data loaded for 1500 basins. Shape: (9616719, 12). Est. Mem: 440.24 MB\n",
      "INFO:hydro_forecasting.data.in_memory_datamodule:Epoch 38: Val Dataloader using cached validation data with 12495132 samples from 4000 basins.\n"
     ]
    },
    {
     "data": {
      "application/vnd.jupyter.widget-view+json": {
       "model_id": "87f50b6cc8db4ec2a8f7783b625b80c6",
       "version_major": 2,
       "version_minor": 0
      },
      "text/plain": [
       "Validation: |          | 0/? [00:00<?, ?it/s]"
      ]
     },
     "metadata": {},
     "output_type": "display_data"
    },
    {
     "name": "stderr",
     "output_type": "stream",
     "text": [
      "INFO:hydro_forecasting.data.in_memory_datamodule:Epoch 39: Train Dataloader using chunk 5/5 with 473 basins.\n",
      "INFO:hydro_forecasting.data.in_memory_datamodule:Stage 'train' chunk data loaded for 473 basins. Shape: (3080013, 12). Est. Mem: 141.00 MB\n",
      "INFO:hydro_forecasting.data.in_memory_datamodule:Epoch 39: Val Dataloader using cached validation data with 12495132 samples from 4000 basins.\n"
     ]
    },
    {
     "data": {
      "application/vnd.jupyter.widget-view+json": {
       "model_id": "e05be67b78ca467b9f0919ba93d5803d",
       "version_major": 2,
       "version_minor": 0
      },
      "text/plain": [
       "Validation: |          | 0/? [00:00<?, ?it/s]"
      ]
     },
     "metadata": {},
     "output_type": "display_data"
    },
    {
     "name": "stderr",
     "output_type": "stream",
     "text": [
      "INFO:hydro_forecasting.data.in_memory_datamodule:Completed full pass through training shared chunks. Recomputing.\n",
      "INFO:hydro_forecasting.data.in_memory_datamodule:Initializing/Re-initializing training shared chunks from 6473 basins.\n",
      "INFO:hydro_forecasting.data.in_memory_datamodule:Created 5 training shared chunks.\n",
      "INFO:hydro_forecasting.data.in_memory_datamodule:Epoch 40: Train Dataloader using chunk 1/5 with 1500 basins.\n",
      "INFO:hydro_forecasting.data.in_memory_datamodule:Stage 'train' chunk data loaded for 1500 basins. Shape: (9798168, 12). Est. Mem: 448.55 MB\n",
      "INFO:hydro_forecasting.data.in_memory_datamodule:Epoch 40: Val Dataloader using cached validation data with 12495132 samples from 4000 basins.\n"
     ]
    },
    {
     "data": {
      "application/vnd.jupyter.widget-view+json": {
       "model_id": "93000958d7dd489998bf501a49d469ba",
       "version_major": 2,
       "version_minor": 0
      },
      "text/plain": [
       "Validation: |          | 0/? [00:00<?, ?it/s]"
      ]
     },
     "metadata": {},
     "output_type": "display_data"
    },
    {
     "name": "stderr",
     "output_type": "stream",
     "text": [
      "Metric val_loss improved by 0.000 >= min_delta = 0.0. New best score: 0.036\n",
      "INFO:hydro_forecasting.data.in_memory_datamodule:Epoch 41: Train Dataloader using chunk 2/5 with 1500 basins.\n",
      "INFO:hydro_forecasting.data.in_memory_datamodule:Stage 'train' chunk data loaded for 1500 basins. Shape: (9711488, 12). Est. Mem: 444.58 MB\n",
      "INFO:hydro_forecasting.data.in_memory_datamodule:Epoch 41: Val Dataloader using cached validation data with 12495132 samples from 4000 basins.\n"
     ]
    },
    {
     "data": {
      "application/vnd.jupyter.widget-view+json": {
       "model_id": "ac610e4b85034be58befbd998369872a",
       "version_major": 2,
       "version_minor": 0
      },
      "text/plain": [
       "Validation: |          | 0/? [00:00<?, ?it/s]"
      ]
     },
     "metadata": {},
     "output_type": "display_data"
    },
    {
     "name": "stderr",
     "output_type": "stream",
     "text": [
      "Metric val_loss improved by 0.000 >= min_delta = 0.0. New best score: 0.036\n",
      "INFO:hydro_forecasting.data.in_memory_datamodule:Epoch 42: Train Dataloader using chunk 3/5 with 1500 basins.\n",
      "INFO:hydro_forecasting.data.in_memory_datamodule:Stage 'train' chunk data loaded for 1500 basins. Shape: (9667531, 12). Est. Mem: 442.56 MB\n",
      "INFO:hydro_forecasting.data.in_memory_datamodule:Epoch 42: Val Dataloader using cached validation data with 12495132 samples from 4000 basins.\n"
     ]
    },
    {
     "data": {
      "application/vnd.jupyter.widget-view+json": {
       "model_id": "b2a3bd901c9e4788adca1b21109082c7",
       "version_major": 2,
       "version_minor": 0
      },
      "text/plain": [
       "Validation: |          | 0/? [00:00<?, ?it/s]"
      ]
     },
     "metadata": {},
     "output_type": "display_data"
    },
    {
     "name": "stderr",
     "output_type": "stream",
     "text": [
      "Metric val_loss improved by 0.000 >= min_delta = 0.0. New best score: 0.036\n",
      "INFO:hydro_forecasting.data.in_memory_datamodule:Epoch 43: Train Dataloader using chunk 4/5 with 1500 basins.\n",
      "INFO:hydro_forecasting.data.in_memory_datamodule:Stage 'train' chunk data loaded for 1500 basins. Shape: (9571581, 12). Est. Mem: 438.17 MB\n",
      "INFO:hydro_forecasting.data.in_memory_datamodule:Epoch 43: Val Dataloader using cached validation data with 12495132 samples from 4000 basins.\n"
     ]
    },
    {
     "data": {
      "application/vnd.jupyter.widget-view+json": {
       "model_id": "4b279e54549c4b409dc904fafbd698e2",
       "version_major": 2,
       "version_minor": 0
      },
      "text/plain": [
       "Validation: |          | 0/? [00:00<?, ?it/s]"
      ]
     },
     "metadata": {},
     "output_type": "display_data"
    },
    {
     "name": "stderr",
     "output_type": "stream",
     "text": [
      "INFO:hydro_forecasting.data.in_memory_datamodule:Epoch 44: Train Dataloader using chunk 5/5 with 473 basins.\n",
      "INFO:hydro_forecasting.data.in_memory_datamodule:Stage 'train' chunk data loaded for 473 basins. Shape: (3075914, 12). Est. Mem: 140.81 MB\n",
      "INFO:hydro_forecasting.data.in_memory_datamodule:Epoch 44: Val Dataloader using cached validation data with 12495132 samples from 4000 basins.\n"
     ]
    },
    {
     "data": {
      "application/vnd.jupyter.widget-view+json": {
       "model_id": "550293fcbadd406d88e6e6da390ab5f1",
       "version_major": 2,
       "version_minor": 0
      },
      "text/plain": [
       "Validation: |          | 0/? [00:00<?, ?it/s]"
      ]
     },
     "metadata": {},
     "output_type": "display_data"
    },
    {
     "name": "stderr",
     "output_type": "stream",
     "text": [
      "INFO:hydro_forecasting.data.in_memory_datamodule:Completed full pass through training shared chunks. Recomputing.\n",
      "INFO:hydro_forecasting.data.in_memory_datamodule:Initializing/Re-initializing training shared chunks from 6473 basins.\n",
      "INFO:hydro_forecasting.data.in_memory_datamodule:Created 5 training shared chunks.\n",
      "INFO:hydro_forecasting.data.in_memory_datamodule:Epoch 45: Train Dataloader using chunk 1/5 with 1500 basins.\n",
      "INFO:hydro_forecasting.data.in_memory_datamodule:Stage 'train' chunk data loaded for 1500 basins. Shape: (9717108, 12). Est. Mem: 444.83 MB\n",
      "INFO:hydro_forecasting.data.in_memory_datamodule:Epoch 45: Val Dataloader using cached validation data with 12495132 samples from 4000 basins.\n"
     ]
    },
    {
     "data": {
      "application/vnd.jupyter.widget-view+json": {
       "model_id": "d93a611a53144a6f866b59dbf01b2aa5",
       "version_major": 2,
       "version_minor": 0
      },
      "text/plain": [
       "Validation: |          | 0/? [00:00<?, ?it/s]"
      ]
     },
     "metadata": {},
     "output_type": "display_data"
    },
    {
     "name": "stderr",
     "output_type": "stream",
     "text": [
      "INFO:hydro_forecasting.data.in_memory_datamodule:Epoch 46: Train Dataloader using chunk 2/5 with 1500 basins.\n",
      "INFO:hydro_forecasting.data.in_memory_datamodule:Stage 'train' chunk data loaded for 1500 basins. Shape: (9677920, 12). Est. Mem: 443.04 MB\n",
      "INFO:hydro_forecasting.data.in_memory_datamodule:Epoch 46: Val Dataloader using cached validation data with 12495132 samples from 4000 basins.\n"
     ]
    },
    {
     "data": {
      "application/vnd.jupyter.widget-view+json": {
       "model_id": "b44cdcbf331b42f28e7603b01b185cd0",
       "version_major": 2,
       "version_minor": 0
      },
      "text/plain": [
       "Validation: |          | 0/? [00:00<?, ?it/s]"
      ]
     },
     "metadata": {},
     "output_type": "display_data"
    },
    {
     "name": "stderr",
     "output_type": "stream",
     "text": [
      "Metric val_loss improved by 0.000 >= min_delta = 0.0. New best score: 0.036\n",
      "INFO:hydro_forecasting.data.in_memory_datamodule:Epoch 47: Train Dataloader using chunk 3/5 with 1500 basins.\n",
      "INFO:hydro_forecasting.data.in_memory_datamodule:Stage 'train' chunk data loaded for 1500 basins. Shape: (9800051, 12). Est. Mem: 448.63 MB\n",
      "INFO:hydro_forecasting.data.in_memory_datamodule:Epoch 47: Val Dataloader using cached validation data with 12495132 samples from 4000 basins.\n"
     ]
    },
    {
     "data": {
      "application/vnd.jupyter.widget-view+json": {
       "model_id": "a165c44511f6467cac85857c8145efde",
       "version_major": 2,
       "version_minor": 0
      },
      "text/plain": [
       "Validation: |          | 0/? [00:00<?, ?it/s]"
      ]
     },
     "metadata": {},
     "output_type": "display_data"
    },
    {
     "name": "stderr",
     "output_type": "stream",
     "text": [
      "Metric val_loss improved by 0.000 >= min_delta = 0.0. New best score: 0.036\n",
      "INFO:hydro_forecasting.data.in_memory_datamodule:Epoch 48: Train Dataloader using chunk 4/5 with 1500 basins.\n",
      "INFO:hydro_forecasting.data.in_memory_datamodule:Stage 'train' chunk data loaded for 1500 basins. Shape: (9662389, 12). Est. Mem: 442.33 MB\n",
      "INFO:hydro_forecasting.data.in_memory_datamodule:Epoch 48: Val Dataloader using cached validation data with 12495132 samples from 4000 basins.\n"
     ]
    },
    {
     "data": {
      "application/vnd.jupyter.widget-view+json": {
       "model_id": "1878b381bfa34c5e989ba91ca0310c2a",
       "version_major": 2,
       "version_minor": 0
      },
      "text/plain": [
       "Validation: |          | 0/? [00:00<?, ?it/s]"
      ]
     },
     "metadata": {},
     "output_type": "display_data"
    },
    {
     "name": "stderr",
     "output_type": "stream",
     "text": [
      "INFO:hydro_forecasting.data.in_memory_datamodule:Epoch 49: Train Dataloader using chunk 5/5 with 473 basins.\n",
      "INFO:hydro_forecasting.data.in_memory_datamodule:Stage 'train' chunk data loaded for 473 basins. Shape: (2967214, 12). Est. Mem: 135.83 MB\n",
      "INFO:hydro_forecasting.data.in_memory_datamodule:Epoch 49: Val Dataloader using cached validation data with 12495132 samples from 4000 basins.\n"
     ]
    },
    {
     "data": {
      "application/vnd.jupyter.widget-view+json": {
       "model_id": "140787b396b64c44a4205a250e63a347",
       "version_major": 2,
       "version_minor": 0
      },
      "text/plain": [
       "Validation: |          | 0/? [00:00<?, ?it/s]"
      ]
     },
     "metadata": {},
     "output_type": "display_data"
    },
    {
     "name": "stderr",
     "output_type": "stream",
     "text": [
      "INFO:hydro_forecasting.data.in_memory_datamodule:Completed full pass through training shared chunks. Recomputing.\n",
      "INFO:hydro_forecasting.data.in_memory_datamodule:Initializing/Re-initializing training shared chunks from 6473 basins.\n",
      "INFO:hydro_forecasting.data.in_memory_datamodule:Created 5 training shared chunks.\n",
      "INFO:hydro_forecasting.data.in_memory_datamodule:Epoch 50: Train Dataloader using chunk 1/5 with 1500 basins.\n",
      "INFO:hydro_forecasting.data.in_memory_datamodule:Stage 'train' chunk data loaded for 1500 basins. Shape: (9628633, 12). Est. Mem: 440.78 MB\n",
      "INFO:hydro_forecasting.data.in_memory_datamodule:Epoch 50: Val Dataloader using cached validation data with 12495132 samples from 4000 basins.\n"
     ]
    },
    {
     "data": {
      "application/vnd.jupyter.widget-view+json": {
       "model_id": "37f4f949365c46aab971ad65e7b3ee75",
       "version_major": 2,
       "version_minor": 0
      },
      "text/plain": [
       "Validation: |          | 0/? [00:00<?, ?it/s]"
      ]
     },
     "metadata": {},
     "output_type": "display_data"
    },
    {
     "name": "stderr",
     "output_type": "stream",
     "text": [
      "INFO:hydro_forecasting.data.in_memory_datamodule:Epoch 51: Train Dataloader using chunk 2/5 with 1500 basins.\n",
      "INFO:hydro_forecasting.data.in_memory_datamodule:Stage 'train' chunk data loaded for 1500 basins. Shape: (9710928, 12). Est. Mem: 444.55 MB\n",
      "INFO:hydro_forecasting.data.in_memory_datamodule:Epoch 51: Val Dataloader using cached validation data with 12495132 samples from 4000 basins.\n"
     ]
    },
    {
     "data": {
      "application/vnd.jupyter.widget-view+json": {
       "model_id": "4aab0883a8bc4c0390d68f29267ab802",
       "version_major": 2,
       "version_minor": 0
      },
      "text/plain": [
       "Validation: |          | 0/? [00:00<?, ?it/s]"
      ]
     },
     "metadata": {},
     "output_type": "display_data"
    },
    {
     "name": "stderr",
     "output_type": "stream",
     "text": [
      "INFO:hydro_forecasting.data.in_memory_datamodule:Epoch 52: Train Dataloader using chunk 3/5 with 1500 basins.\n",
      "INFO:hydro_forecasting.data.in_memory_datamodule:Stage 'train' chunk data loaded for 1500 basins. Shape: (9739480, 12). Est. Mem: 445.86 MB\n",
      "INFO:hydro_forecasting.data.in_memory_datamodule:Epoch 52: Val Dataloader using cached validation data with 12495132 samples from 4000 basins.\n"
     ]
    },
    {
     "data": {
      "application/vnd.jupyter.widget-view+json": {
       "model_id": "ea9c160ea59e486ba5e219b9aa4a28cd",
       "version_major": 2,
       "version_minor": 0
      },
      "text/plain": [
       "Validation: |          | 0/? [00:00<?, ?it/s]"
      ]
     },
     "metadata": {},
     "output_type": "display_data"
    },
    {
     "name": "stderr",
     "output_type": "stream",
     "text": [
      "INFO:hydro_forecasting.data.in_memory_datamodule:Epoch 53: Train Dataloader using chunk 4/5 with 1500 basins.\n",
      "INFO:hydro_forecasting.data.in_memory_datamodule:Stage 'train' chunk data loaded for 1500 basins. Shape: (9671845, 12). Est. Mem: 442.76 MB\n",
      "INFO:hydro_forecasting.data.in_memory_datamodule:Epoch 53: Val Dataloader using cached validation data with 12495132 samples from 4000 basins.\n"
     ]
    },
    {
     "data": {
      "application/vnd.jupyter.widget-view+json": {
       "model_id": "8a864e740da44c1098562dc8a06c60fd",
       "version_major": 2,
       "version_minor": 0
      },
      "text/plain": [
       "Validation: |          | 0/? [00:00<?, ?it/s]"
      ]
     },
     "metadata": {},
     "output_type": "display_data"
    },
    {
     "name": "stderr",
     "output_type": "stream",
     "text": [
      "INFO:hydro_forecasting.data.in_memory_datamodule:Epoch 54: Train Dataloader using chunk 5/5 with 473 basins.\n",
      "INFO:hydro_forecasting.data.in_memory_datamodule:Stage 'train' chunk data loaded for 473 basins. Shape: (3073796, 12). Est. Mem: 140.71 MB\n",
      "INFO:hydro_forecasting.data.in_memory_datamodule:Epoch 54: Val Dataloader using cached validation data with 12495132 samples from 4000 basins.\n"
     ]
    },
    {
     "data": {
      "application/vnd.jupyter.widget-view+json": {
       "model_id": "8a893b1f98584cabb774e6dd51eca422",
       "version_major": 2,
       "version_minor": 0
      },
      "text/plain": [
       "Validation: |          | 0/? [00:00<?, ?it/s]"
      ]
     },
     "metadata": {},
     "output_type": "display_data"
    },
    {
     "name": "stderr",
     "output_type": "stream",
     "text": [
      "Metric val_loss improved by 0.000 >= min_delta = 0.0. New best score: 0.036\n",
      "INFO:hydro_forecasting.data.in_memory_datamodule:Completed full pass through training shared chunks. Recomputing.\n",
      "INFO:hydro_forecasting.data.in_memory_datamodule:Initializing/Re-initializing training shared chunks from 6473 basins.\n",
      "INFO:hydro_forecasting.data.in_memory_datamodule:Created 5 training shared chunks.\n",
      "INFO:hydro_forecasting.data.in_memory_datamodule:Epoch 55: Train Dataloader using chunk 1/5 with 1500 basins.\n",
      "INFO:hydro_forecasting.data.in_memory_datamodule:Stage 'train' chunk data loaded for 1500 basins. Shape: (9772111, 12). Est. Mem: 447.35 MB\n",
      "INFO:hydro_forecasting.data.in_memory_datamodule:Epoch 55: Val Dataloader using cached validation data with 12495132 samples from 4000 basins.\n"
     ]
    },
    {
     "data": {
      "application/vnd.jupyter.widget-view+json": {
       "model_id": "273c32f366864ae19051954ffaa34eb6",
       "version_major": 2,
       "version_minor": 0
      },
      "text/plain": [
       "Validation: |          | 0/? [00:00<?, ?it/s]"
      ]
     },
     "metadata": {},
     "output_type": "display_data"
    },
    {
     "name": "stderr",
     "output_type": "stream",
     "text": [
      "Metric val_loss improved by 0.000 >= min_delta = 0.0. New best score: 0.036\n",
      "INFO:hydro_forecasting.data.in_memory_datamodule:Epoch 56: Train Dataloader using chunk 2/5 with 1500 basins.\n",
      "INFO:hydro_forecasting.data.in_memory_datamodule:Stage 'train' chunk data loaded for 1500 basins. Shape: (9673210, 12). Est. Mem: 442.82 MB\n",
      "INFO:hydro_forecasting.data.in_memory_datamodule:Epoch 56: Val Dataloader using cached validation data with 12495132 samples from 4000 basins.\n"
     ]
    },
    {
     "data": {
      "application/vnd.jupyter.widget-view+json": {
       "model_id": "0930402aa0f84166b676f11e1eba2f42",
       "version_major": 2,
       "version_minor": 0
      },
      "text/plain": [
       "Validation: |          | 0/? [00:00<?, ?it/s]"
      ]
     },
     "metadata": {},
     "output_type": "display_data"
    },
    {
     "name": "stderr",
     "output_type": "stream",
     "text": [
      "INFO:hydro_forecasting.data.in_memory_datamodule:Epoch 57: Train Dataloader using chunk 3/5 with 1500 basins.\n",
      "INFO:hydro_forecasting.data.in_memory_datamodule:Stage 'train' chunk data loaded for 1500 basins. Shape: (9789453, 12). Est. Mem: 448.15 MB\n",
      "INFO:hydro_forecasting.data.in_memory_datamodule:Epoch 57: Val Dataloader using cached validation data with 12495132 samples from 4000 basins.\n"
     ]
    },
    {
     "data": {
      "application/vnd.jupyter.widget-view+json": {
       "model_id": "ab18e1f32b4a4161833b6085078265a1",
       "version_major": 2,
       "version_minor": 0
      },
      "text/plain": [
       "Validation: |          | 0/? [00:00<?, ?it/s]"
      ]
     },
     "metadata": {},
     "output_type": "display_data"
    },
    {
     "name": "stderr",
     "output_type": "stream",
     "text": [
      "Metric val_loss improved by 0.000 >= min_delta = 0.0. New best score: 0.036\n",
      "INFO:hydro_forecasting.data.in_memory_datamodule:Epoch 58: Train Dataloader using chunk 4/5 with 1500 basins.\n",
      "INFO:hydro_forecasting.data.in_memory_datamodule:Stage 'train' chunk data loaded for 1500 basins. Shape: (9527124, 12). Est. Mem: 436.14 MB\n",
      "INFO:hydro_forecasting.data.in_memory_datamodule:Epoch 58: Val Dataloader using cached validation data with 12495132 samples from 4000 basins.\n"
     ]
    },
    {
     "data": {
      "application/vnd.jupyter.widget-view+json": {
       "model_id": "73be55ae58f5438286f2f4b2f1ee1910",
       "version_major": 2,
       "version_minor": 0
      },
      "text/plain": [
       "Validation: |          | 0/? [00:00<?, ?it/s]"
      ]
     },
     "metadata": {},
     "output_type": "display_data"
    },
    {
     "name": "stderr",
     "output_type": "stream",
     "text": [
      "INFO:hydro_forecasting.data.in_memory_datamodule:Epoch 59: Train Dataloader using chunk 5/5 with 473 basins.\n",
      "INFO:hydro_forecasting.data.in_memory_datamodule:Stage 'train' chunk data loaded for 473 basins. Shape: (3062784, 12). Est. Mem: 140.21 MB\n",
      "INFO:hydro_forecasting.data.in_memory_datamodule:Epoch 59: Val Dataloader using cached validation data with 12495132 samples from 4000 basins.\n"
     ]
    },
    {
     "data": {
      "application/vnd.jupyter.widget-view+json": {
       "model_id": "27f6066764c446aa86ef7b0b8e281bb7",
       "version_major": 2,
       "version_minor": 0
      },
      "text/plain": [
       "Validation: |          | 0/? [00:00<?, ?it/s]"
      ]
     },
     "metadata": {},
     "output_type": "display_data"
    },
    {
     "name": "stderr",
     "output_type": "stream",
     "text": [
      "INFO:hydro_forecasting.data.in_memory_datamodule:Completed full pass through training shared chunks. Recomputing.\n",
      "INFO:hydro_forecasting.data.in_memory_datamodule:Initializing/Re-initializing training shared chunks from 6473 basins.\n",
      "INFO:hydro_forecasting.data.in_memory_datamodule:Created 5 training shared chunks.\n",
      "INFO:hydro_forecasting.data.in_memory_datamodule:Epoch 60: Train Dataloader using chunk 1/5 with 1500 basins.\n",
      "INFO:hydro_forecasting.data.in_memory_datamodule:Stage 'train' chunk data loaded for 1500 basins. Shape: (9665561, 12). Est. Mem: 442.47 MB\n",
      "INFO:hydro_forecasting.data.in_memory_datamodule:Epoch 60: Val Dataloader using cached validation data with 12495132 samples from 4000 basins.\n"
     ]
    },
    {
     "data": {
      "application/vnd.jupyter.widget-view+json": {
       "model_id": "6ec04e4a1c2c4eaba0b762bcafe826e7",
       "version_major": 2,
       "version_minor": 0
      },
      "text/plain": [
       "Validation: |          | 0/? [00:00<?, ?it/s]"
      ]
     },
     "metadata": {},
     "output_type": "display_data"
    },
    {
     "name": "stderr",
     "output_type": "stream",
     "text": [
      "INFO:hydro_forecasting.data.in_memory_datamodule:Epoch 61: Train Dataloader using chunk 2/5 with 1500 basins.\n",
      "INFO:hydro_forecasting.data.in_memory_datamodule:Stage 'train' chunk data loaded for 1500 basins. Shape: (9724169, 12). Est. Mem: 445.16 MB\n",
      "INFO:hydro_forecasting.data.in_memory_datamodule:Epoch 61: Val Dataloader using cached validation data with 12495132 samples from 4000 basins.\n"
     ]
    },
    {
     "data": {
      "application/vnd.jupyter.widget-view+json": {
       "model_id": "68df754cb82f4a62948dac78bd9b36a2",
       "version_major": 2,
       "version_minor": 0
      },
      "text/plain": [
       "Validation: |          | 0/? [00:00<?, ?it/s]"
      ]
     },
     "metadata": {},
     "output_type": "display_data"
    },
    {
     "name": "stderr",
     "output_type": "stream",
     "text": [
      "INFO:hydro_forecasting.data.in_memory_datamodule:Epoch 62: Train Dataloader using chunk 3/5 with 1500 basins.\n",
      "INFO:hydro_forecasting.data.in_memory_datamodule:Stage 'train' chunk data loaded for 1500 basins. Shape: (9678253, 12). Est. Mem: 443.06 MB\n",
      "INFO:hydro_forecasting.data.in_memory_datamodule:Epoch 62: Val Dataloader using cached validation data with 12495132 samples from 4000 basins.\n"
     ]
    },
    {
     "data": {
      "application/vnd.jupyter.widget-view+json": {
       "model_id": "77242896928d43f19af13ac309f415af",
       "version_major": 2,
       "version_minor": 0
      },
      "text/plain": [
       "Validation: |          | 0/? [00:00<?, ?it/s]"
      ]
     },
     "metadata": {},
     "output_type": "display_data"
    },
    {
     "name": "stderr",
     "output_type": "stream",
     "text": [
      "INFO:hydro_forecasting.data.in_memory_datamodule:Epoch 63: Train Dataloader using chunk 4/5 with 1500 basins.\n",
      "INFO:hydro_forecasting.data.in_memory_datamodule:Stage 'train' chunk data loaded for 1500 basins. Shape: (9704124, 12). Est. Mem: 444.24 MB\n",
      "INFO:hydro_forecasting.data.in_memory_datamodule:Epoch 63: Val Dataloader using cached validation data with 12495132 samples from 4000 basins.\n"
     ]
    },
    {
     "data": {
      "application/vnd.jupyter.widget-view+json": {
       "model_id": "4ee4f9843a5942ea86b9abc01dd967b7",
       "version_major": 2,
       "version_minor": 0
      },
      "text/plain": [
       "Validation: |          | 0/? [00:00<?, ?it/s]"
      ]
     },
     "metadata": {},
     "output_type": "display_data"
    },
    {
     "name": "stderr",
     "output_type": "stream",
     "text": [
      "INFO:hydro_forecasting.data.in_memory_datamodule:Epoch 64: Train Dataloader using chunk 5/5 with 473 basins.\n",
      "INFO:hydro_forecasting.data.in_memory_datamodule:Stage 'train' chunk data loaded for 473 basins. Shape: (3052575, 12). Est. Mem: 139.74 MB\n",
      "INFO:hydro_forecasting.data.in_memory_datamodule:Epoch 64: Val Dataloader using cached validation data with 12495132 samples from 4000 basins.\n"
     ]
    },
    {
     "data": {
      "application/vnd.jupyter.widget-view+json": {
       "model_id": "63a0af9c0d2f4a6c833ab005bd83d28e",
       "version_major": 2,
       "version_minor": 0
      },
      "text/plain": [
       "Validation: |          | 0/? [00:00<?, ?it/s]"
      ]
     },
     "metadata": {},
     "output_type": "display_data"
    },
    {
     "name": "stderr",
     "output_type": "stream",
     "text": [
      "INFO:hydro_forecasting.data.in_memory_datamodule:Completed full pass through training shared chunks. Recomputing.\n",
      "INFO:hydro_forecasting.data.in_memory_datamodule:Initializing/Re-initializing training shared chunks from 6473 basins.\n",
      "INFO:hydro_forecasting.data.in_memory_datamodule:Created 5 training shared chunks.\n",
      "INFO:hydro_forecasting.data.in_memory_datamodule:Epoch 65: Train Dataloader using chunk 1/5 with 1500 basins.\n",
      "INFO:hydro_forecasting.data.in_memory_datamodule:Stage 'train' chunk data loaded for 1500 basins. Shape: (9777532, 12). Est. Mem: 447.60 MB\n",
      "INFO:hydro_forecasting.data.in_memory_datamodule:Epoch 65: Val Dataloader using cached validation data with 12495132 samples from 4000 basins.\n"
     ]
    },
    {
     "data": {
      "application/vnd.jupyter.widget-view+json": {
       "model_id": "4329c14f6416418a8137a218df31312e",
       "version_major": 2,
       "version_minor": 0
      },
      "text/plain": [
       "Validation: |          | 0/? [00:00<?, ?it/s]"
      ]
     },
     "metadata": {},
     "output_type": "display_data"
    },
    {
     "name": "stderr",
     "output_type": "stream",
     "text": [
      "Metric val_loss improved by 0.000 >= min_delta = 0.0. New best score: 0.035\n",
      "INFO:hydro_forecasting.data.in_memory_datamodule:Epoch 66: Train Dataloader using chunk 2/5 with 1500 basins.\n",
      "INFO:hydro_forecasting.data.in_memory_datamodule:Stage 'train' chunk data loaded for 1500 basins. Shape: (9606823, 12). Est. Mem: 439.79 MB\n",
      "INFO:hydro_forecasting.data.in_memory_datamodule:Epoch 66: Val Dataloader using cached validation data with 12495132 samples from 4000 basins.\n"
     ]
    },
    {
     "data": {
      "application/vnd.jupyter.widget-view+json": {
       "model_id": "a9a87358955041be98de3e51d41ea7f2",
       "version_major": 2,
       "version_minor": 0
      },
      "text/plain": [
       "Validation: |          | 0/? [00:00<?, ?it/s]"
      ]
     },
     "metadata": {},
     "output_type": "display_data"
    },
    {
     "name": "stderr",
     "output_type": "stream",
     "text": [
      "Metric val_loss improved by 0.000 >= min_delta = 0.0. New best score: 0.035\n",
      "INFO:hydro_forecasting.data.in_memory_datamodule:Epoch 67: Train Dataloader using chunk 3/5 with 1500 basins.\n",
      "INFO:hydro_forecasting.data.in_memory_datamodule:Stage 'train' chunk data loaded for 1500 basins. Shape: (9721825, 12). Est. Mem: 445.05 MB\n",
      "INFO:hydro_forecasting.data.in_memory_datamodule:Epoch 67: Val Dataloader using cached validation data with 12495132 samples from 4000 basins.\n"
     ]
    },
    {
     "data": {
      "application/vnd.jupyter.widget-view+json": {
       "model_id": "427da78307b043419b210b69dcdd3962",
       "version_major": 2,
       "version_minor": 0
      },
      "text/plain": [
       "Validation: |          | 0/? [00:00<?, ?it/s]"
      ]
     },
     "metadata": {},
     "output_type": "display_data"
    },
    {
     "name": "stderr",
     "output_type": "stream",
     "text": [
      "INFO:hydro_forecasting.data.in_memory_datamodule:Epoch 68: Train Dataloader using chunk 4/5 with 1500 basins.\n",
      "INFO:hydro_forecasting.data.in_memory_datamodule:Stage 'train' chunk data loaded for 1500 basins. Shape: (9647907, 12). Est. Mem: 441.67 MB\n",
      "INFO:hydro_forecasting.data.in_memory_datamodule:Epoch 68: Val Dataloader using cached validation data with 12495132 samples from 4000 basins.\n"
     ]
    },
    {
     "data": {
      "application/vnd.jupyter.widget-view+json": {
       "model_id": "28ba3636368446578e171fb95a488890",
       "version_major": 2,
       "version_minor": 0
      },
      "text/plain": [
       "Validation: |          | 0/? [00:00<?, ?it/s]"
      ]
     },
     "metadata": {},
     "output_type": "display_data"
    },
    {
     "name": "stderr",
     "output_type": "stream",
     "text": [
      "INFO:hydro_forecasting.data.in_memory_datamodule:Epoch 69: Train Dataloader using chunk 5/5 with 473 basins.\n",
      "INFO:hydro_forecasting.data.in_memory_datamodule:Stage 'train' chunk data loaded for 473 basins. Shape: (3070595, 12). Est. Mem: 140.57 MB\n",
      "INFO:hydro_forecasting.data.in_memory_datamodule:Epoch 69: Val Dataloader using cached validation data with 12495132 samples from 4000 basins.\n"
     ]
    },
    {
     "data": {
      "application/vnd.jupyter.widget-view+json": {
       "model_id": "3dea419ed0954e6d8095624cce6f0c06",
       "version_major": 2,
       "version_minor": 0
      },
      "text/plain": [
       "Validation: |          | 0/? [00:00<?, ?it/s]"
      ]
     },
     "metadata": {},
     "output_type": "display_data"
    },
    {
     "name": "stderr",
     "output_type": "stream",
     "text": [
      "INFO:hydro_forecasting.data.in_memory_datamodule:Completed full pass through training shared chunks. Recomputing.\n",
      "INFO:hydro_forecasting.data.in_memory_datamodule:Initializing/Re-initializing training shared chunks from 6473 basins.\n",
      "INFO:hydro_forecasting.data.in_memory_datamodule:Created 5 training shared chunks.\n",
      "INFO:hydro_forecasting.data.in_memory_datamodule:Epoch 70: Train Dataloader using chunk 1/5 with 1500 basins.\n",
      "INFO:hydro_forecasting.data.in_memory_datamodule:Stage 'train' chunk data loaded for 1500 basins. Shape: (9634282, 12). Est. Mem: 441.04 MB\n",
      "INFO:hydro_forecasting.data.in_memory_datamodule:Epoch 70: Val Dataloader using cached validation data with 12495132 samples from 4000 basins.\n"
     ]
    },
    {
     "data": {
      "application/vnd.jupyter.widget-view+json": {
       "model_id": "24e36325ce5f44e399e783cc7585689e",
       "version_major": 2,
       "version_minor": 0
      },
      "text/plain": [
       "Validation: |          | 0/? [00:00<?, ?it/s]"
      ]
     },
     "metadata": {},
     "output_type": "display_data"
    },
    {
     "name": "stderr",
     "output_type": "stream",
     "text": [
      "INFO:hydro_forecasting.data.in_memory_datamodule:Epoch 71: Train Dataloader using chunk 2/5 with 1500 basins.\n",
      "INFO:hydro_forecasting.data.in_memory_datamodule:Stage 'train' chunk data loaded for 1500 basins. Shape: (9638587, 12). Est. Mem: 441.24 MB\n",
      "INFO:hydro_forecasting.data.in_memory_datamodule:Epoch 71: Val Dataloader using cached validation data with 12495132 samples from 4000 basins.\n"
     ]
    },
    {
     "data": {
      "application/vnd.jupyter.widget-view+json": {
       "model_id": "e76ba49549344987a8daea44387bf3c3",
       "version_major": 2,
       "version_minor": 0
      },
      "text/plain": [
       "Validation: |          | 0/? [00:00<?, ?it/s]"
      ]
     },
     "metadata": {},
     "output_type": "display_data"
    },
    {
     "name": "stderr",
     "output_type": "stream",
     "text": [
      "Metric val_loss improved by 0.000 >= min_delta = 0.0. New best score: 0.035\n",
      "INFO:hydro_forecasting.data.in_memory_datamodule:Epoch 72: Train Dataloader using chunk 3/5 with 1500 basins.\n",
      "INFO:hydro_forecasting.data.in_memory_datamodule:Stage 'train' chunk data loaded for 1500 basins. Shape: (9655001, 12). Est. Mem: 441.99 MB\n",
      "INFO:hydro_forecasting.data.in_memory_datamodule:Epoch 72: Val Dataloader using cached validation data with 12495132 samples from 4000 basins.\n"
     ]
    },
    {
     "data": {
      "application/vnd.jupyter.widget-view+json": {
       "model_id": "8f641d0049e449e381b1940ff54952d6",
       "version_major": 2,
       "version_minor": 0
      },
      "text/plain": [
       "Validation: |          | 0/? [00:00<?, ?it/s]"
      ]
     },
     "metadata": {},
     "output_type": "display_data"
    },
    {
     "name": "stderr",
     "output_type": "stream",
     "text": [
      "INFO:hydro_forecasting.data.in_memory_datamodule:Epoch 73: Train Dataloader using chunk 4/5 with 1500 basins.\n",
      "INFO:hydro_forecasting.data.in_memory_datamodule:Stage 'train' chunk data loaded for 1500 basins. Shape: (9809002, 12). Est. Mem: 449.04 MB\n",
      "INFO:hydro_forecasting.data.in_memory_datamodule:Epoch 73: Val Dataloader using cached validation data with 12495132 samples from 4000 basins.\n"
     ]
    },
    {
     "data": {
      "application/vnd.jupyter.widget-view+json": {
       "model_id": "b5c4ed86af44421bb3c60a06d522be9a",
       "version_major": 2,
       "version_minor": 0
      },
      "text/plain": [
       "Validation: |          | 0/? [00:00<?, ?it/s]"
      ]
     },
     "metadata": {},
     "output_type": "display_data"
    },
    {
     "name": "stderr",
     "output_type": "stream",
     "text": [
      "INFO:hydro_forecasting.data.in_memory_datamodule:Epoch 74: Train Dataloader using chunk 5/5 with 473 basins.\n",
      "INFO:hydro_forecasting.data.in_memory_datamodule:Stage 'train' chunk data loaded for 473 basins. Shape: (3087810, 12). Est. Mem: 141.36 MB\n",
      "INFO:hydro_forecasting.data.in_memory_datamodule:Epoch 74: Val Dataloader using cached validation data with 12495132 samples from 4000 basins.\n"
     ]
    },
    {
     "data": {
      "application/vnd.jupyter.widget-view+json": {
       "model_id": "2c9e9098a1624990812c9cbb21b5b816",
       "version_major": 2,
       "version_minor": 0
      },
      "text/plain": [
       "Validation: |          | 0/? [00:00<?, ?it/s]"
      ]
     },
     "metadata": {},
     "output_type": "display_data"
    },
    {
     "name": "stderr",
     "output_type": "stream",
     "text": [
      "INFO:hydro_forecasting.data.in_memory_datamodule:Completed full pass through training shared chunks. Recomputing.\n",
      "INFO:hydro_forecasting.data.in_memory_datamodule:Initializing/Re-initializing training shared chunks from 6473 basins.\n",
      "INFO:hydro_forecasting.data.in_memory_datamodule:Created 5 training shared chunks.\n",
      "INFO:hydro_forecasting.data.in_memory_datamodule:Epoch 75: Train Dataloader using chunk 1/5 with 1500 basins.\n",
      "INFO:hydro_forecasting.data.in_memory_datamodule:Stage 'train' chunk data loaded for 1500 basins. Shape: (9692981, 12). Est. Mem: 443.73 MB\n",
      "INFO:hydro_forecasting.data.in_memory_datamodule:Epoch 75: Val Dataloader using cached validation data with 12495132 samples from 4000 basins.\n"
     ]
    },
    {
     "data": {
      "application/vnd.jupyter.widget-view+json": {
       "model_id": "d2a2cfbbc89b469c8b27ad56d031486d",
       "version_major": 2,
       "version_minor": 0
      },
      "text/plain": [
       "Validation: |          | 0/? [00:00<?, ?it/s]"
      ]
     },
     "metadata": {},
     "output_type": "display_data"
    },
    {
     "name": "stderr",
     "output_type": "stream",
     "text": [
      "INFO:hydro_forecasting.data.in_memory_datamodule:Epoch 76: Train Dataloader using chunk 2/5 with 1500 basins.\n",
      "INFO:hydro_forecasting.data.in_memory_datamodule:Stage 'train' chunk data loaded for 1500 basins. Shape: (9684477, 12). Est. Mem: 443.34 MB\n",
      "INFO:hydro_forecasting.data.in_memory_datamodule:Epoch 76: Val Dataloader using cached validation data with 12495132 samples from 4000 basins.\n"
     ]
    },
    {
     "data": {
      "application/vnd.jupyter.widget-view+json": {
       "model_id": "c067537938d445c398bc920a69a483af",
       "version_major": 2,
       "version_minor": 0
      },
      "text/plain": [
       "Validation: |          | 0/? [00:00<?, ?it/s]"
      ]
     },
     "metadata": {},
     "output_type": "display_data"
    },
    {
     "name": "stderr",
     "output_type": "stream",
     "text": [
      "Metric val_loss improved by 0.000 >= min_delta = 0.0. New best score: 0.035\n",
      "INFO:hydro_forecasting.data.in_memory_datamodule:Epoch 77: Train Dataloader using chunk 3/5 with 1500 basins.\n",
      "INFO:hydro_forecasting.data.in_memory_datamodule:Stage 'train' chunk data loaded for 1500 basins. Shape: (9625444, 12). Est. Mem: 440.64 MB\n",
      "INFO:hydro_forecasting.data.in_memory_datamodule:Epoch 77: Val Dataloader using cached validation data with 12495132 samples from 4000 basins.\n"
     ]
    },
    {
     "data": {
      "application/vnd.jupyter.widget-view+json": {
       "model_id": "a247826029fe45a8ba0628e8631756b8",
       "version_major": 2,
       "version_minor": 0
      },
      "text/plain": [
       "Validation: |          | 0/? [00:00<?, ?it/s]"
      ]
     },
     "metadata": {},
     "output_type": "display_data"
    },
    {
     "name": "stderr",
     "output_type": "stream",
     "text": [
      "INFO:hydro_forecasting.data.in_memory_datamodule:Epoch 78: Train Dataloader using chunk 4/5 with 1500 basins.\n",
      "INFO:hydro_forecasting.data.in_memory_datamodule:Stage 'train' chunk data loaded for 1500 basins. Shape: (9730964, 12). Est. Mem: 445.47 MB\n",
      "INFO:hydro_forecasting.data.in_memory_datamodule:Epoch 78: Val Dataloader using cached validation data with 12495132 samples from 4000 basins.\n"
     ]
    },
    {
     "data": {
      "application/vnd.jupyter.widget-view+json": {
       "model_id": "4b894bc56e9246e694fd329e259fc0d7",
       "version_major": 2,
       "version_minor": 0
      },
      "text/plain": [
       "Validation: |          | 0/? [00:00<?, ?it/s]"
      ]
     },
     "metadata": {},
     "output_type": "display_data"
    },
    {
     "name": "stderr",
     "output_type": "stream",
     "text": [
      "INFO:hydro_forecasting.data.in_memory_datamodule:Epoch 79: Train Dataloader using chunk 5/5 with 473 basins.\n",
      "INFO:hydro_forecasting.data.in_memory_datamodule:Stage 'train' chunk data loaded for 473 basins. Shape: (3090816, 12). Est. Mem: 141.49 MB\n",
      "INFO:hydro_forecasting.data.in_memory_datamodule:Epoch 79: Val Dataloader using cached validation data with 12495132 samples from 4000 basins.\n"
     ]
    },
    {
     "data": {
      "application/vnd.jupyter.widget-view+json": {
       "model_id": "0610ac55899342b8bb0351ec289a697e",
       "version_major": 2,
       "version_minor": 0
      },
      "text/plain": [
       "Validation: |          | 0/? [00:00<?, ?it/s]"
      ]
     },
     "metadata": {},
     "output_type": "display_data"
    },
    {
     "name": "stderr",
     "output_type": "stream",
     "text": [
      "INFO:hydro_forecasting.data.in_memory_datamodule:Completed full pass through training shared chunks. Recomputing.\n",
      "INFO:hydro_forecasting.data.in_memory_datamodule:Initializing/Re-initializing training shared chunks from 6473 basins.\n",
      "INFO:hydro_forecasting.data.in_memory_datamodule:Created 5 training shared chunks.\n",
      "INFO:hydro_forecasting.data.in_memory_datamodule:Epoch 80: Train Dataloader using chunk 1/5 with 1500 basins.\n",
      "INFO:hydro_forecasting.data.in_memory_datamodule:Stage 'train' chunk data loaded for 1500 basins. Shape: (9670413, 12). Est. Mem: 442.70 MB\n",
      "INFO:hydro_forecasting.data.in_memory_datamodule:Epoch 80: Val Dataloader using cached validation data with 12495132 samples from 4000 basins.\n"
     ]
    },
    {
     "data": {
      "application/vnd.jupyter.widget-view+json": {
       "model_id": "a7fd262bf8794c62bfcae9e70a305832",
       "version_major": 2,
       "version_minor": 0
      },
      "text/plain": [
       "Validation: |          | 0/? [00:00<?, ?it/s]"
      ]
     },
     "metadata": {},
     "output_type": "display_data"
    },
    {
     "name": "stderr",
     "output_type": "stream",
     "text": [
      "INFO:hydro_forecasting.data.in_memory_datamodule:Epoch 81: Train Dataloader using chunk 2/5 with 1500 basins.\n",
      "INFO:hydro_forecasting.data.in_memory_datamodule:Stage 'train' chunk data loaded for 1500 basins. Shape: (9673833, 12). Est. Mem: 442.85 MB\n",
      "INFO:hydro_forecasting.data.in_memory_datamodule:Epoch 81: Val Dataloader using cached validation data with 12495132 samples from 4000 basins.\n"
     ]
    },
    {
     "data": {
      "application/vnd.jupyter.widget-view+json": {
       "model_id": "998bc14a911d488fa15ba360fdbf7d18",
       "version_major": 2,
       "version_minor": 0
      },
      "text/plain": [
       "Validation: |          | 0/? [00:00<?, ?it/s]"
      ]
     },
     "metadata": {},
     "output_type": "display_data"
    },
    {
     "name": "stderr",
     "output_type": "stream",
     "text": [
      "INFO:hydro_forecasting.data.in_memory_datamodule:Epoch 82: Train Dataloader using chunk 3/5 with 1500 basins.\n",
      "INFO:hydro_forecasting.data.in_memory_datamodule:Stage 'train' chunk data loaded for 1500 basins. Shape: (9721469, 12). Est. Mem: 445.03 MB\n",
      "INFO:hydro_forecasting.data.in_memory_datamodule:Epoch 82: Val Dataloader using cached validation data with 12495132 samples from 4000 basins.\n"
     ]
    },
    {
     "data": {
      "application/vnd.jupyter.widget-view+json": {
       "model_id": "992d1fdd63c44d7d82ea6591c1baf79e",
       "version_major": 2,
       "version_minor": 0
      },
      "text/plain": [
       "Validation: |          | 0/? [00:00<?, ?it/s]"
      ]
     },
     "metadata": {},
     "output_type": "display_data"
    },
    {
     "name": "stderr",
     "output_type": "stream",
     "text": [
      "INFO:hydro_forecasting.data.in_memory_datamodule:Epoch 83: Train Dataloader using chunk 4/5 with 1500 basins.\n",
      "INFO:hydro_forecasting.data.in_memory_datamodule:Stage 'train' chunk data loaded for 1500 basins. Shape: (9664498, 12). Est. Mem: 442.43 MB\n",
      "INFO:hydro_forecasting.data.in_memory_datamodule:Epoch 83: Val Dataloader using cached validation data with 12495132 samples from 4000 basins.\n"
     ]
    },
    {
     "data": {
      "application/vnd.jupyter.widget-view+json": {
       "model_id": "3a5ce4aeb2e04744b722964b2696cc4a",
       "version_major": 2,
       "version_minor": 0
      },
      "text/plain": [
       "Validation: |          | 0/? [00:00<?, ?it/s]"
      ]
     },
     "metadata": {},
     "output_type": "display_data"
    },
    {
     "name": "stderr",
     "output_type": "stream",
     "text": [
      "Metric val_loss improved by 0.000 >= min_delta = 0.0. New best score: 0.035\n",
      "INFO:hydro_forecasting.data.in_memory_datamodule:Epoch 84: Train Dataloader using chunk 5/5 with 473 basins.\n",
      "INFO:hydro_forecasting.data.in_memory_datamodule:Stage 'train' chunk data loaded for 473 basins. Shape: (3094469, 12). Est. Mem: 141.66 MB\n",
      "INFO:hydro_forecasting.data.in_memory_datamodule:Epoch 84: Val Dataloader using cached validation data with 12495132 samples from 4000 basins.\n"
     ]
    },
    {
     "data": {
      "application/vnd.jupyter.widget-view+json": {
       "model_id": "6717e327d36343ed988693b70ab6ea39",
       "version_major": 2,
       "version_minor": 0
      },
      "text/plain": [
       "Validation: |          | 0/? [00:00<?, ?it/s]"
      ]
     },
     "metadata": {},
     "output_type": "display_data"
    },
    {
     "name": "stderr",
     "output_type": "stream",
     "text": [
      "INFO:hydro_forecasting.data.in_memory_datamodule:Completed full pass through training shared chunks. Recomputing.\n",
      "INFO:hydro_forecasting.data.in_memory_datamodule:Initializing/Re-initializing training shared chunks from 6473 basins.\n",
      "INFO:hydro_forecasting.data.in_memory_datamodule:Created 5 training shared chunks.\n",
      "INFO:hydro_forecasting.data.in_memory_datamodule:Epoch 85: Train Dataloader using chunk 1/5 with 1500 basins.\n",
      "INFO:hydro_forecasting.data.in_memory_datamodule:Stage 'train' chunk data loaded for 1500 basins. Shape: (9588614, 12). Est. Mem: 438.95 MB\n",
      "INFO:hydro_forecasting.data.in_memory_datamodule:Epoch 85: Val Dataloader using cached validation data with 12495132 samples from 4000 basins.\n"
     ]
    },
    {
     "data": {
      "application/vnd.jupyter.widget-view+json": {
       "model_id": "57dc5f8bd4f74418b729381230f1e43a",
       "version_major": 2,
       "version_minor": 0
      },
      "text/plain": [
       "Validation: |          | 0/? [00:00<?, ?it/s]"
      ]
     },
     "metadata": {},
     "output_type": "display_data"
    },
    {
     "name": "stderr",
     "output_type": "stream",
     "text": [
      "INFO:hydro_forecasting.data.in_memory_datamodule:Epoch 86: Train Dataloader using chunk 2/5 with 1500 basins.\n",
      "INFO:hydro_forecasting.data.in_memory_datamodule:Stage 'train' chunk data loaded for 1500 basins. Shape: (9761055, 12). Est. Mem: 446.85 MB\n",
      "INFO:hydro_forecasting.data.in_memory_datamodule:Epoch 86: Val Dataloader using cached validation data with 12495132 samples from 4000 basins.\n"
     ]
    },
    {
     "data": {
      "application/vnd.jupyter.widget-view+json": {
       "model_id": "9fc71d7fc2e34a849e70080fd41326a8",
       "version_major": 2,
       "version_minor": 0
      },
      "text/plain": [
       "Validation: |          | 0/? [00:00<?, ?it/s]"
      ]
     },
     "metadata": {},
     "output_type": "display_data"
    },
    {
     "name": "stderr",
     "output_type": "stream",
     "text": [
      "INFO:hydro_forecasting.data.in_memory_datamodule:Epoch 87: Train Dataloader using chunk 3/5 with 1500 basins.\n",
      "INFO:hydro_forecasting.data.in_memory_datamodule:Stage 'train' chunk data loaded for 1500 basins. Shape: (9614373, 12). Est. Mem: 440.13 MB\n",
      "INFO:hydro_forecasting.data.in_memory_datamodule:Epoch 87: Val Dataloader using cached validation data with 12495132 samples from 4000 basins.\n"
     ]
    },
    {
     "data": {
      "application/vnd.jupyter.widget-view+json": {
       "model_id": "7688d26604724299b3d27ee5c5d0f6d9",
       "version_major": 2,
       "version_minor": 0
      },
      "text/plain": [
       "Validation: |          | 0/? [00:00<?, ?it/s]"
      ]
     },
     "metadata": {},
     "output_type": "display_data"
    },
    {
     "name": "stderr",
     "output_type": "stream",
     "text": [
      "INFO:hydro_forecasting.data.in_memory_datamodule:Epoch 88: Train Dataloader using chunk 4/5 with 1500 basins.\n",
      "INFO:hydro_forecasting.data.in_memory_datamodule:Stage 'train' chunk data loaded for 1500 basins. Shape: (9714383, 12). Est. Mem: 444.71 MB\n",
      "INFO:hydro_forecasting.data.in_memory_datamodule:Epoch 88: Val Dataloader using cached validation data with 12495132 samples from 4000 basins.\n"
     ]
    },
    {
     "data": {
      "application/vnd.jupyter.widget-view+json": {
       "model_id": "ca599baf37aa46708241bc5d1311b407",
       "version_major": 2,
       "version_minor": 0
      },
      "text/plain": [
       "Validation: |          | 0/? [00:00<?, ?it/s]"
      ]
     },
     "metadata": {},
     "output_type": "display_data"
    },
    {
     "name": "stderr",
     "output_type": "stream",
     "text": [
      "Metric val_loss improved by 0.000 >= min_delta = 0.0. New best score: 0.035\n",
      "INFO:hydro_forecasting.data.in_memory_datamodule:Epoch 89: Train Dataloader using chunk 5/5 with 473 basins.\n",
      "INFO:hydro_forecasting.data.in_memory_datamodule:Stage 'train' chunk data loaded for 473 basins. Shape: (3146257, 12). Est. Mem: 144.03 MB\n",
      "INFO:hydro_forecasting.data.in_memory_datamodule:Epoch 89: Val Dataloader using cached validation data with 12495132 samples from 4000 basins.\n"
     ]
    },
    {
     "data": {
      "application/vnd.jupyter.widget-view+json": {
       "model_id": "e2a2f0c8deeb41759463fb2e9b170cc4",
       "version_major": 2,
       "version_minor": 0
      },
      "text/plain": [
       "Validation: |          | 0/? [00:00<?, ?it/s]"
      ]
     },
     "metadata": {},
     "output_type": "display_data"
    },
    {
     "name": "stderr",
     "output_type": "stream",
     "text": [
      "INFO:hydro_forecasting.data.in_memory_datamodule:Completed full pass through training shared chunks. Recomputing.\n",
      "INFO:hydro_forecasting.data.in_memory_datamodule:Initializing/Re-initializing training shared chunks from 6473 basins.\n",
      "INFO:hydro_forecasting.data.in_memory_datamodule:Created 5 training shared chunks.\n",
      "INFO:hydro_forecasting.data.in_memory_datamodule:Epoch 90: Train Dataloader using chunk 1/5 with 1500 basins.\n",
      "INFO:hydro_forecasting.data.in_memory_datamodule:Stage 'train' chunk data loaded for 1500 basins. Shape: (9740190, 12). Est. Mem: 445.89 MB\n",
      "INFO:hydro_forecasting.data.in_memory_datamodule:Epoch 90: Val Dataloader using cached validation data with 12495132 samples from 4000 basins.\n"
     ]
    },
    {
     "data": {
      "application/vnd.jupyter.widget-view+json": {
       "model_id": "1896b3ffcf9e4079a71cbb98bf64e8d2",
       "version_major": 2,
       "version_minor": 0
      },
      "text/plain": [
       "Validation: |          | 0/? [00:00<?, ?it/s]"
      ]
     },
     "metadata": {},
     "output_type": "display_data"
    },
    {
     "name": "stderr",
     "output_type": "stream",
     "text": [
      "INFO:hydro_forecasting.data.in_memory_datamodule:Epoch 91: Train Dataloader using chunk 2/5 with 1500 basins.\n",
      "INFO:hydro_forecasting.data.in_memory_datamodule:Stage 'train' chunk data loaded for 1500 basins. Shape: (9715408, 12). Est. Mem: 444.76 MB\n",
      "INFO:hydro_forecasting.data.in_memory_datamodule:Epoch 91: Val Dataloader using cached validation data with 12495132 samples from 4000 basins.\n"
     ]
    },
    {
     "data": {
      "application/vnd.jupyter.widget-view+json": {
       "model_id": "ac3a4b18a346477391aa74334c6b2b3a",
       "version_major": 2,
       "version_minor": 0
      },
      "text/plain": [
       "Validation: |          | 0/? [00:00<?, ?it/s]"
      ]
     },
     "metadata": {},
     "output_type": "display_data"
    },
    {
     "name": "stderr",
     "output_type": "stream",
     "text": [
      "INFO:hydro_forecasting.data.in_memory_datamodule:Epoch 92: Train Dataloader using chunk 3/5 with 1500 basins.\n",
      "INFO:hydro_forecasting.data.in_memory_datamodule:Stage 'train' chunk data loaded for 1500 basins. Shape: (9634703, 12). Est. Mem: 441.06 MB\n",
      "INFO:hydro_forecasting.data.in_memory_datamodule:Epoch 92: Val Dataloader using cached validation data with 12495132 samples from 4000 basins.\n"
     ]
    },
    {
     "data": {
      "application/vnd.jupyter.widget-view+json": {
       "model_id": "dff1b43acf4f407697c66d80aa888d71",
       "version_major": 2,
       "version_minor": 0
      },
      "text/plain": [
       "Validation: |          | 0/? [00:00<?, ?it/s]"
      ]
     },
     "metadata": {},
     "output_type": "display_data"
    },
    {
     "name": "stderr",
     "output_type": "stream",
     "text": [
      "INFO:hydro_forecasting.data.in_memory_datamodule:Epoch 93: Train Dataloader using chunk 4/5 with 1500 basins.\n",
      "INFO:hydro_forecasting.data.in_memory_datamodule:Stage 'train' chunk data loaded for 1500 basins. Shape: (9697809, 12). Est. Mem: 443.95 MB\n",
      "INFO:hydro_forecasting.data.in_memory_datamodule:Epoch 93: Val Dataloader using cached validation data with 12495132 samples from 4000 basins.\n"
     ]
    },
    {
     "data": {
      "application/vnd.jupyter.widget-view+json": {
       "model_id": "80593f8d357b4f73aa82ce5f51bda5e4",
       "version_major": 2,
       "version_minor": 0
      },
      "text/plain": [
       "Validation: |          | 0/? [00:00<?, ?it/s]"
      ]
     },
     "metadata": {},
     "output_type": "display_data"
    },
    {
     "name": "stderr",
     "output_type": "stream",
     "text": [
      "INFO:hydro_forecasting.data.in_memory_datamodule:Epoch 94: Train Dataloader using chunk 5/5 with 473 basins.\n",
      "INFO:hydro_forecasting.data.in_memory_datamodule:Stage 'train' chunk data loaded for 473 basins. Shape: (3036572, 12). Est. Mem: 139.01 MB\n",
      "INFO:hydro_forecasting.data.in_memory_datamodule:Epoch 94: Val Dataloader using cached validation data with 12495132 samples from 4000 basins.\n"
     ]
    },
    {
     "data": {
      "application/vnd.jupyter.widget-view+json": {
       "model_id": "c804047ccfc649c1aa18e40de1dad60a",
       "version_major": 2,
       "version_minor": 0
      },
      "text/plain": [
       "Validation: |          | 0/? [00:00<?, ?it/s]"
      ]
     },
     "metadata": {},
     "output_type": "display_data"
    },
    {
     "name": "stderr",
     "output_type": "stream",
     "text": [
      "INFO:hydro_forecasting.data.in_memory_datamodule:Completed full pass through training shared chunks. Recomputing.\n",
      "INFO:hydro_forecasting.data.in_memory_datamodule:Initializing/Re-initializing training shared chunks from 6473 basins.\n",
      "INFO:hydro_forecasting.data.in_memory_datamodule:Created 5 training shared chunks.\n",
      "INFO:hydro_forecasting.data.in_memory_datamodule:Epoch 95: Train Dataloader using chunk 1/5 with 1500 basins.\n",
      "INFO:hydro_forecasting.data.in_memory_datamodule:Stage 'train' chunk data loaded for 1500 basins. Shape: (9578452, 12). Est. Mem: 438.49 MB\n",
      "INFO:hydro_forecasting.data.in_memory_datamodule:Epoch 95: Val Dataloader using cached validation data with 12495132 samples from 4000 basins.\n"
     ]
    },
    {
     "data": {
      "application/vnd.jupyter.widget-view+json": {
       "model_id": "c9efc7746e6c41ecbd3a175e7e03107a",
       "version_major": 2,
       "version_minor": 0
      },
      "text/plain": [
       "Validation: |          | 0/? [00:00<?, ?it/s]"
      ]
     },
     "metadata": {},
     "output_type": "display_data"
    },
    {
     "name": "stderr",
     "output_type": "stream",
     "text": [
      "INFO:hydro_forecasting.data.in_memory_datamodule:Epoch 96: Train Dataloader using chunk 2/5 with 1500 basins.\n",
      "INFO:hydro_forecasting.data.in_memory_datamodule:Stage 'train' chunk data loaded for 1500 basins. Shape: (9882405, 12). Est. Mem: 452.40 MB\n",
      "INFO:hydro_forecasting.data.in_memory_datamodule:Epoch 96: Val Dataloader using cached validation data with 12495132 samples from 4000 basins.\n"
     ]
    },
    {
     "data": {
      "application/vnd.jupyter.widget-view+json": {
       "model_id": "01c1aa5454cf4cf5945a053e9c00ffa3",
       "version_major": 2,
       "version_minor": 0
      },
      "text/plain": [
       "Validation: |          | 0/? [00:00<?, ?it/s]"
      ]
     },
     "metadata": {},
     "output_type": "display_data"
    },
    {
     "name": "stderr",
     "output_type": "stream",
     "text": [
      "INFO:hydro_forecasting.data.in_memory_datamodule:Epoch 97: Train Dataloader using chunk 3/5 with 1500 basins.\n",
      "INFO:hydro_forecasting.data.in_memory_datamodule:Stage 'train' chunk data loaded for 1500 basins. Shape: (9648951, 12). Est. Mem: 441.71 MB\n",
      "INFO:hydro_forecasting.data.in_memory_datamodule:Epoch 97: Val Dataloader using cached validation data with 12495132 samples from 4000 basins.\n"
     ]
    },
    {
     "data": {
      "application/vnd.jupyter.widget-view+json": {
       "model_id": "680dd403861e4ac19b327f6a1be3c5bb",
       "version_major": 2,
       "version_minor": 0
      },
      "text/plain": [
       "Validation: |          | 0/? [00:00<?, ?it/s]"
      ]
     },
     "metadata": {},
     "output_type": "display_data"
    },
    {
     "name": "stderr",
     "output_type": "stream",
     "text": [
      "INFO:hydro_forecasting.data.in_memory_datamodule:Epoch 98: Train Dataloader using chunk 4/5 with 1500 basins.\n",
      "INFO:hydro_forecasting.data.in_memory_datamodule:Stage 'train' chunk data loaded for 1500 basins. Shape: (9680233, 12). Est. Mem: 443.15 MB\n"
     ]
    }
   ],
   "source": [
    "train_results = train_model_from_scratch(\n",
    "    gauge_ids=basin_ids,\n",
    "    datamodule_config=datamodule_config,\n",
    "    training_config=training_config,\n",
    "    output_dir=output_dir,\n",
    "    model_types=model_types,\n",
    "    yaml_paths=yaml_paths,\n",
    "    experiment_name=experiment_name,\n",
    "    num_runs=num_runs,\n",
    "    override_previous_attempts=override_previous_attempts,\n",
    ")"
   ]
  },
  {
   "cell_type": "code",
   "execution_count": null,
   "id": "a5e2fbf5",
   "metadata": {},
   "outputs": [],
   "source": []
  },
  {
   "cell_type": "code",
   "execution_count": null,
   "id": "44febf76",
   "metadata": {},
   "outputs": [],
   "source": []
  }
 ],
 "metadata": {
  "kernelspec": {
   "display_name": "Python 3",
   "language": "python",
   "name": "python3"
  },
  "language_info": {
   "codemirror_mode": {
    "name": "ipython",
    "version": 3
   },
   "file_extension": ".py",
   "mimetype": "text/x-python",
   "name": "python",
   "nbconvert_exporter": "python",
   "pygments_lexer": "ipython3",
   "version": "3.10.12"
  }
 },
 "nbformat": 4,
 "nbformat_minor": 5
}
