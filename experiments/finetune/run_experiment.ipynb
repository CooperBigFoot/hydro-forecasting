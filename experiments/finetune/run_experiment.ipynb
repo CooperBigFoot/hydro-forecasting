{
 "cells": [
  {
   "cell_type": "code",
   "execution_count": 1,
   "id": "2f2fc10e",
   "metadata": {},
   "outputs": [],
   "source": [
    "# !jupyter lab build"
   ]
  },
  {
   "cell_type": "code",
   "execution_count": 2,
   "id": "3606e89c",
   "metadata": {},
   "outputs": [
    {
     "name": "stderr",
     "output_type": "stream",
     "text": [
      "2025-07-08 13:49:25 - matplotlib.font_manager - INFO - generated new fontManager\n",
      "/usr/local/lib/python3.10/dist-packages/torchvision/io/image.py:13: UserWarning: Failed to load image Python extension: '/usr/local/lib/python3.10/dist-packages/torchvision/image.so: undefined symbol: _ZN3c1017RegisterOperatorsD1Ev'If you don't plan on using image functionality from `torchvision.io`, you can ignore this warning. Otherwise, there might be something wrong with your environment. Did you have `libjpeg` or `libpng` installed before building `torchvision` from source?\n",
      "  warn(\n",
      "2025-07-08 13:49:25 - hydro_forecasting.experiment_utils.seed_manager - INFO - SeedManager initialized with master seed: 42\n",
      "2025-07-08 13:49:25 - lightning_fabric.utilities.seed - INFO - Seed set to 42\n"
     ]
    }
   ],
   "source": [
    "import logging\n",
    "\n",
    "# logging.disable(logging.CRITICAL)\n",
    "logging.basicConfig(\n",
    "    level=logging.INFO,\n",
    "    format=\"%(asctime)s - %(name)s - %(levelname)s - %(message)s\",\n",
    "    datefmt=\"%Y-%m-%d %H:%M:%S\",\n",
    ")\n",
    "\n",
    "from hydro_forecasting.experiment_utils.seed_manager import SeedManager  # noqa: E402\n",
    "\n",
    "seed_manager = SeedManager(42)\n",
    "seed_manager.set_global_seeds()"
   ]
  },
  {
   "cell_type": "code",
   "execution_count": 3,
   "id": "f65efe2c",
   "metadata": {},
   "outputs": [],
   "source": [
    "from hydro_forecasting.data.caravanify_parquet import (\n",
    "    CaravanifyParquet,\n",
    "    CaravanifyParquetConfig,\n",
    ")\n",
    "from hydro_forecasting.experiment_utils.finetune_pretrained_model import finetune_pretrained_models\n",
    "from hydro_forecasting.preprocessing.pipeline_builder import PipelineBuilder"
   ]
  },
  {
   "cell_type": "markdown",
   "id": "5e7c3393",
   "metadata": {},
   "source": [
    "---"
   ]
  },
  {
   "cell_type": "markdown",
   "id": "dab68b34",
   "metadata": {},
   "source": [
    "## Experiment constants"
   ]
  },
  {
   "cell_type": "code",
   "execution_count": 4,
   "id": "7a6885fe",
   "metadata": {},
   "outputs": [],
   "source": [
    "REGIONS = [\"CA\"]\n",
    "\n",
    "COUNTRY = \"kyrgyzstan\"\n",
    "ON_COUNTRY = \"kyrgyzstan\" if COUNTRY == \"tajikistan\" else \"tajikistan\""
   ]
  },
  {
   "cell_type": "markdown",
   "id": "2533b81f",
   "metadata": {},
   "source": [
    "## Loading the data (as gauge_ids)"
   ]
  },
  {
   "cell_type": "code",
   "execution_count": 5,
   "id": "ed0ce646",
   "metadata": {},
   "outputs": [
    {
     "name": "stdout",
     "output_type": "stream",
     "text": [
      "Basins for kyrgyzstan: 62\n"
     ]
    }
   ],
   "source": [
    "def load_basin_ids(country: str) -> list[str]:\n",
    "    \"\"\"\n",
    "    Function to load basins for a given country in Central Asia\n",
    "    \"\"\"\n",
    "    # Make country lowercase and make the first letter uppercase\n",
    "    country = country.lower()\n",
    "    country = country.capitalize()\n",
    "\n",
    "    if country != \"Tajikistan\" and country != \"Kyrgyzstan\":\n",
    "        print(\"Country not supported\")\n",
    "        return []\n",
    "\n",
    "    configs = CaravanifyParquetConfig(\n",
    "        attributes_dir=\"/workspace/CaravanifyParquet/CA/post_processed/attributes\",\n",
    "        timeseries_dir=\"/workspace/CaravanifyParquet/CA/post_processed/timeseries/csv\",\n",
    "        gauge_id_prefix=\"CA\",\n",
    "        use_hydroatlas_attributes=True,\n",
    "        use_caravan_attributes=True,\n",
    "        use_other_attributes=True,\n",
    "    )\n",
    "\n",
    "    caravan = CaravanifyParquet(configs)\n",
    "    ca_basins = caravan.get_all_gauge_ids()\n",
    "    caravan.load_stations(ca_basins)\n",
    "    static_data = caravan.get_static_attributes()\n",
    "\n",
    "    return list(static_data[static_data[\"country\"] == country][\"gauge_id\"].unique())\n",
    "\n",
    "\n",
    "basin_ids = load_basin_ids(COUNTRY)\n",
    "print(f\"Basins for {COUNTRY}: {len(basin_ids)}\")"
   ]
  },
  {
   "cell_type": "markdown",
   "id": "73f9edf0",
   "metadata": {},
   "source": [
    "## Datamodule Configs"
   ]
  },
  {
   "cell_type": "code",
   "execution_count": 6,
   "id": "c2ea76fb",
   "metadata": {},
   "outputs": [],
   "source": [
    "region_time_series_base_dirs = {\n",
    "    region: f\"/workspace/CaravanifyParquet/{region}/post_processed/timeseries/csv/{region}\" for region in REGIONS\n",
    "}\n",
    "\n",
    "region_static_attributes_base_dirs = {\n",
    "    region: f\"/workspace/CaravanifyParquet/{region}/post_processed/attributes/{region}\" for region in REGIONS\n",
    "}\n",
    "\n",
    "path_to_preprocessing_output_directory = f\"/workspace/hydro-forecasting/experiments/finetune/data_cache/{COUNTRY}\""
   ]
  },
  {
   "cell_type": "code",
   "execution_count": 7,
   "id": "f14911d3",
   "metadata": {},
   "outputs": [],
   "source": [
    "forcing_features = [\n",
    "    \"snow_depth_water_equivalent_mean\",\n",
    "    \"surface_net_solar_radiation_mean\",\n",
    "    \"surface_net_thermal_radiation_mean\",\n",
    "    \"potential_evaporation_sum_ERA5_LAND\",\n",
    "    \"potential_evaporation_sum_FAO_PENMAN_MONTEITH\",\n",
    "    \"temperature_2m_mean\",\n",
    "    \"temperature_2m_min\",\n",
    "    \"temperature_2m_max\",\n",
    "    \"total_precipitation_sum\",\n",
    "]\n",
    "\n",
    "static_features = [\n",
    "    \"p_mean\",\n",
    "    \"area\",\n",
    "    \"ele_mt_sav\",\n",
    "    \"high_prec_dur\",\n",
    "    \"frac_snow\",\n",
    "    \"high_prec_freq\",\n",
    "    \"slp_dg_sav\",\n",
    "    \"cly_pc_sav\",\n",
    "    \"aridity_ERA5_LAND\",\n",
    "    \"aridity_FAO_PM\",\n",
    "]\n",
    "\n",
    "target = \"streamflow\""
   ]
  },
  {
   "cell_type": "code",
   "execution_count": 8,
   "id": "962da35a",
   "metadata": {},
   "outputs": [
    {
     "data": {
      "text/plain": [
       "dict_keys(['pipeline', 'strategy', 'columns'])"
      ]
     },
     "execution_count": 8,
     "metadata": {},
     "output_type": "execute_result"
    }
   ],
   "source": [
    "builder = PipelineBuilder()\n",
    "\n",
    "feature_section = (\n",
    "    builder.features().transforms([\"standard_scale\", \"normalize\"]).strategy(\"per_group\", group_by=\"gauge_id\").columns(forcing_features)\n",
    ")\n",
    "\n",
    "target_section = (\n",
    "    builder.target()\n",
    "    .transforms([\"standard_scale\", \"normalize\"])\n",
    "    .strategy(\"per_group\", group_by=\"gauge_id\")\n",
    "    .columns([target])\n",
    ")\n",
    "\n",
    "static_section = builder.static_features().transforms([\"standard_scale\"]).strategy(\"unified\").columns(static_features)\n",
    "\n",
    "preprocessing_config = builder.build()\n",
    "\n",
    "preprocessing_config[\"static_features\"].keys()"
   ]
  },
  {
   "cell_type": "code",
   "execution_count": 9,
   "id": "cd0f0b66",
   "metadata": {},
   "outputs": [],
   "source": [
    "datamodule_config = {\n",
    "    \"region_time_series_base_dirs\": region_time_series_base_dirs,\n",
    "    \"region_static_attributes_base_dirs\": region_static_attributes_base_dirs,\n",
    "    \"path_to_preprocessing_output_directory\": path_to_preprocessing_output_directory,\n",
    "    \"group_identifier\": \"gauge_id\",\n",
    "    \"batch_size\": 2048,\n",
    "    \"forcing_features\": forcing_features,\n",
    "    \"static_features\": static_features,\n",
    "    \"target\": target,\n",
    "    \"num_workers\": 4,\n",
    "    \"min_train_years\": 5,\n",
    "    \"train_prop\": 0.5,\n",
    "    \"val_prop\": 0.25,\n",
    "    \"test_prop\": 0.25,\n",
    "    \"max_imputation_gap_size\": 5,\n",
    "    \"chunk_size\": 100,\n",
    "    \"validation_chunk_size\": 100,\n",
    "    \"is_autoregressive\": True,\n",
    "    \"preprocessing_configs\": preprocessing_config,\n",
    "    \"random_seed\": 42,\n",
    "}"
   ]
  },
  {
   "cell_type": "markdown",
   "id": "158363b3",
   "metadata": {},
   "source": [
    "## Training Configs"
   ]
  },
  {
   "cell_type": "code",
   "execution_count": null,
   "id": "9709710c",
   "metadata": {},
   "outputs": [],
   "source": [
    "training_config = {\n",
    "    \"max_epochs\": 200,\n",
    "    \"accelerator\": \"cuda\",\n",
    "    \"devices\": 1,\n",
    "    \"early_stopping_patience\": 10,\n",
    "    \"reload_dataloaders_every_n_epochs\": False,\n",
    "}"
   ]
  },
  {
   "cell_type": "markdown",
   "id": "38258592",
   "metadata": {},
   "source": [
    "## Remaining Configs"
   ]
  },
  {
   "cell_type": "code",
   "execution_count": 11,
   "id": "2274e894",
   "metadata": {},
   "outputs": [],
   "source": [
    "output_dir = \"/workspace/hydro-forecasting/experiments/finetune\"\n",
    "pretrained_checkpoint_dir = (\n",
    "    f\"/workspace/hydro-forecasting/experiments/similar_catchments/similar-catchments_{COUNTRY}/checkpoints\"\n",
    ")\n",
    "\n",
    "model_types = [\n",
    "    # \"tide\",\n",
    "    # \"ealstm\",\n",
    "    # \"tsmixer\",\n",
    "    \"tft\",\n",
    "]\n",
    "yaml_paths = [\n",
    "    # f\"/workspace/hydro-forecasting/experiments/yaml-files/{COUNTRY}/tide.yaml\",\n",
    "    # f\"/workspace/hydro-forecasting/experiments/yaml-files/{COUNTRY}/ealstm.yaml\",\n",
    "    # f\"/workspace/hydro-forecasting/experiments/yaml-files/{COUNTRY}/tsmixer.yaml\",\n",
    "    f\"/workspace/hydro-forecasting/experiments/yaml-files/{COUNTRY}/tft.yaml\",\n",
    "]\n",
    "experiment_name = f\"finetune_similar_{COUNTRY}\"\n",
    "num_runs = 5\n",
    "override_previous_attempts = False"
   ]
  },
  {
   "cell_type": "markdown",
   "id": "fb369289",
   "metadata": {},
   "source": [
    "## Training the models from scratch"
   ]
  },
  {
   "cell_type": "code",
   "execution_count": null,
   "id": "1054c874",
   "metadata": {},
   "outputs": [
    {
     "name": "stderr",
     "output_type": "stream",
     "text": [
      "2025-07-08 13:49:26 - hydro_forecasting.experiment_utils.finetune_pretrained_model - INFO - Found pre-trained checkpoint for tft: /workspace/hydro-forecasting/experiments/similar_catchments/similar-catchments_kyrgyzstan/checkpoints/tft/run_0/attempt_0/tft-run0-attempt_0-epoch=113-val_loss=0.0365.ckpt\n",
      "2025-07-08 13:49:26 - hydro_forecasting.experiment_utils.training_runner - INFO - Starting experiment 'finetune_similar_kyrgyzstan' from ExperimentRunner.\n",
      "2025-07-08 13:49:26 - hydro_forecasting.experiment_utils.training_runner - INFO - Processing model (1/1): tft\n",
      "2025-07-08 13:49:26 - hydro_forecasting.experiment_utils.training_runner - INFO - Processing model: tft using HPs from /workspace/hydro-forecasting/experiments/yaml-files/kyrgyzstan/tft.yaml\n",
      "2025-07-08 13:49:26 - hydro_forecasting.experiment_utils.seed_manager - INFO - SeedManager initialized without master seed (non-deterministic mode)\n",
      "2025-07-08 13:49:26 - hydro_forecasting.data.in_memory_datamodule - INFO - Initialized SeedManager without seed (non-deterministic mode)\n",
      "2025-07-08 13:49:26 - hydro_forecasting.data.in_memory_datamodule - INFO - Starting data preparation...\n",
      "2025-07-08 13:49:26 - hydro_forecasting.data.in_memory_datamodule - INFO - Generated Run UUID for current config: 9d5cb8ca-63d5-5d75-8404-73266fb7e5aa\n",
      "2025-07-08 13:49:26 - hydro_forecasting.data.in_memory_datamodule - INFO - Checking for existing processed data at: /workspace/hydro-forecasting/experiments/finetune/data_cache/kyrgyzstan/9d5cb8ca-63d5-5d75-8404-73266fb7e5aa\n",
      "2025-07-08 13:49:26 - hydro_forecasting.data.in_memory_datamodule - INFO - Successfully validated and prepared to reuse data from /workspace/hydro-forecasting/experiments/finetune/data_cache/kyrgyzstan/9d5cb8ca-63d5-5d75-8404-73266fb7e5aa\n",
      "2025-07-08 13:49:26 - hydro_forecasting.data.in_memory_datamodule - INFO - Reusing existing processed data from run_uuid: 9d5cb8ca-63d5-5d75-8404-73266fb7e5aa\n",
      "2025-07-08 13:49:26 - hydro_forecasting.data.in_memory_datamodule - INFO - Loaded 3 pipelines and data for 59 basins from reused run.\n"
     ]
    },
    {
     "name": "stdout",
     "output_type": "stream",
     "text": [
      "The following parameters were not found in the YAML file and will use defaults:\n",
      "  - hidden_continuous_size (model-specific)\n",
      "  - quantiles (model-specific)\n",
      "  - scheduler_factor (model-specific)\n",
      "  - scheduler_patience (model-specific)\n"
     ]
    },
    {
     "name": "stderr",
     "output_type": "stream",
     "text": [
      "2025-07-08 13:49:26 - hydro_forecasting.data.in_memory_datamodule - INFO - Found 59 basins for synchronized train/val chunking and validation pool selection.\n",
      "2025-07-08 13:49:26 - hydro_forecasting.data.in_memory_datamodule - INFO - Found 59 basins for test split.\n",
      "2025-07-08 13:49:26 - hydro_forecasting.data.in_memory_datamodule - INFO - Data preparation finished.\n",
      "2025-07-08 13:49:26 - hydro_forecasting.data.in_memory_datamodule - INFO - Loading static data cache and converting to Tensors...\n",
      "2025-07-08 13:49:26 - hydro_forecasting.data.in_memory_datamodule - INFO - Loaded and tensorized static data for 59 basins.\n",
      "2025-07-08 13:49:26 - hydro_forecasting.data.in_memory_datamodule - INFO - Created fixed validation pool with 59 basins: ['CA_15212', 'CA_15189', 'CA_16068', 'CA_15034', 'CA_16139']...\n",
      "2025-07-08 13:49:26 - hydro_forecasting.data.in_memory_datamodule - INFO - Loading and caching data for 59 validation basins...\n",
      "2025-07-08 13:49:27 - hydro_forecasting.data.in_memory_datamodule - INFO - Stage 'val' chunk data loaded for 59 basins. Shape: (96974, 12). Est. Mem: 4.44 MB\n",
      "2025-07-08 13:49:27 - hydro_forecasting.data.in_memory_datamodule - INFO - Successfully cached validation data. Index entries: 76914.\n",
      "2025-07-08 13:49:27 - hydro_forecasting.data.in_memory_datamodule - INFO - Initializing/Re-initializing training shared chunks from 59 basins.\n",
      "2025-07-08 13:49:27 - hydro_forecasting.data.in_memory_datamodule - INFO - Created 1 training shared chunks.\n",
      "2025-07-08 13:49:27 - hydro_forecasting.data.in_memory_datamodule - INFO - Initial training shared chunks: 1 chunks of approx size 100 from 59 basins.\n",
      "2025-07-08 13:49:27 - hydro_forecasting.experiment_utils.training_runner - INFO - Finalized HPs for tft: {'learning_rate': 5.116785221358969e-05, 'hidden_size': 56, 'dropout': 0.022516038129599347, 'num_attention_heads': 4, 'lstm_layers': 2, 'attn_dropout': 0.05396007818823121, 'add_relative_index': False, 'context_length_ratio': 0.5461626912502242, 'encoder_layers': 1, 'use_rev_in': False, 'input_len': 331, 'input_size': 10, 'static_size': 10, 'future_input_size': 9, 'group_identifier': 'gauge_id', 'output_len': 10}\n",
      "2025-07-08 13:49:27 - hydro_forecasting.experiment_utils.training_runner - INFO - Starting run 1/5 for tft\n",
      "2025-07-08 13:49:27 - hydro_forecasting.experiment_utils.seed_manager - INFO - SeedManager initialized with master seed: 42\n",
      "2025-07-08 13:49:27 - hydro_forecasting.experiment_utils.seed_manager - INFO - SeedManager initialized with master seed: 2042980766\n",
      "2025-07-08 13:49:27 - lightning_fabric.utilities.seed - INFO - Seed set to 2042980766\n",
      "2025-07-08 13:49:27 - hydro_forecasting.experiment_utils.training_runner - INFO - Using seed: 2042980766 (derived from base seed: 42, run: 0)\n",
      "2025-07-08 13:49:27 - hydro_forecasting.experiment_utils.checkpoint_manager - INFO - Creating new attempt: /workspace/hydro-forecasting/experiments/finetune/finetune_similar_kyrgyzstan/checkpoints/tft/run_0/attempt_2\n",
      "2025-07-08 13:49:27 - hydro_forecasting.experiment_utils.checkpoint_manager - INFO - Creating new attempt: /workspace/hydro-forecasting/experiments/finetune/finetune_similar_kyrgyzstan/logs/tft/run_0/attempt_2\n",
      "2025-07-08 13:49:27 - pytorch_lightning.utilities.rank_zero - INFO - GPU available: True (cuda), used: True\n",
      "2025-07-08 13:49:27 - pytorch_lightning.utilities.rank_zero - INFO - TPU available: False, using: 0 TPU cores\n",
      "2025-07-08 13:49:27 - pytorch_lightning.utilities.rank_zero - INFO - HPU available: False, using: 0 HPUs\n",
      "2025-07-08 13:49:27 - hydro_forecasting.experiment_utils.finetune_pretrained_model - INFO - Finetuning tft: Original LR 5.116785221358969e-05, New LR 2.0467140885435877e-06\n",
      "2025-07-08 13:49:27 - hydro_forecasting.data.in_memory_datamodule - INFO - Data preparation has already run.\n",
      "2025-07-08 13:49:27 - pytorch_lightning.accelerators.cuda - INFO - LOCAL_RANK: 0 - CUDA_VISIBLE_DEVICES: [0]\n",
      "2025-07-08 13:49:27 - pytorch_lightning.callbacks.model_summary - INFO - \n",
      "  | Name          | Type                      | Params | Mode \n",
      "--------------------------------------------------------------------\n",
      "0 | mse_criterion | MSELoss                   | 0      | train\n",
      "1 | model         | TemporalFusionTransformer | 266 K  | train\n",
      "--------------------------------------------------------------------\n",
      "266 K     Trainable params\n",
      "0         Non-trainable params\n",
      "266 K     Total params\n",
      "1.067     Total estimated model params size (MB)\n",
      "148       Modules in train mode\n",
      "0         Modules in eval mode\n"
     ]
    },
    {
     "data": {
      "application/vnd.jupyter.widget-view+json": {
       "model_id": "fe05beb0f37741ecab522988f4cdb30b",
       "version_major": 2,
       "version_minor": 0
      },
      "text/plain": [
       "Sanity Checking: |          | 0/? [00:00<?, ?it/s]"
      ]
     },
     "metadata": {},
     "output_type": "display_data"
    },
    {
     "name": "stderr",
     "output_type": "stream",
     "text": [
      "2025-07-08 13:49:27 - hydro_forecasting.data.in_memory_datamodule - INFO - Epoch 0: Val Dataloader using cached validation data with 76914 samples from 59 basins.\n",
      "2025-07-08 13:49:28 - hydro_forecasting.data.in_memory_datamodule - INFO - Epoch 0: Train Dataloader using chunk 1/1 with 59 basins.\n",
      "2025-07-08 13:49:29 - hydro_forecasting.data.in_memory_datamodule - INFO - Stage 'train' chunk data loaded for 59 basins. Shape: (193981, 12). Est. Mem: 8.88 MB\n"
     ]
    },
    {
     "data": {
      "application/vnd.jupyter.widget-view+json": {
       "model_id": "bbac650b52eb478689aea0fcecb9d065",
       "version_major": 2,
       "version_minor": 0
      },
      "text/plain": [
       "Training: |          | 0/? [00:00<?, ?it/s]"
      ]
     },
     "metadata": {},
     "output_type": "display_data"
    },
    {
     "data": {
      "application/vnd.jupyter.widget-view+json": {
       "model_id": "8a2cc746d97f4d1987b3318803c4cd21",
       "version_major": 2,
       "version_minor": 0
      },
      "text/plain": [
       "Validation: |          | 0/? [00:00<?, ?it/s]"
      ]
     },
     "metadata": {},
     "output_type": "display_data"
    },
    {
     "name": "stderr",
     "output_type": "stream",
     "text": [
      "2025-07-08 13:49:56 - pytorch_lightning.callbacks.early_stopping - INFO - Metric val_loss improved. New best score: 0.025\n"
     ]
    },
    {
     "data": {
      "application/vnd.jupyter.widget-view+json": {
       "model_id": "0ad543a4714148cda719d2e240e81994",
       "version_major": 2,
       "version_minor": 0
      },
      "text/plain": [
       "Validation: |          | 0/? [00:00<?, ?it/s]"
      ]
     },
     "metadata": {},
     "output_type": "display_data"
    },
    {
     "data": {
      "application/vnd.jupyter.widget-view+json": {
       "model_id": "1d8833373e53434bb98a48295c0aaac6",
       "version_major": 2,
       "version_minor": 0
      },
      "text/plain": [
       "Validation: |          | 0/? [00:00<?, ?it/s]"
      ]
     },
     "metadata": {},
     "output_type": "display_data"
    },
    {
     "name": "stderr",
     "output_type": "stream",
     "text": [
      "2025-07-08 13:50:50 - pytorch_lightning.callbacks.early_stopping - INFO - Metric val_loss improved by 0.000 >= min_delta = 0.0. New best score: 0.025\n"
     ]
    },
    {
     "data": {
      "application/vnd.jupyter.widget-view+json": {
       "model_id": "2a96c29e393249e6a2cf1b916ddc1077",
       "version_major": 2,
       "version_minor": 0
      },
      "text/plain": [
       "Validation: |          | 0/? [00:00<?, ?it/s]"
      ]
     },
     "metadata": {},
     "output_type": "display_data"
    },
    {
     "name": "stderr",
     "output_type": "stream",
     "text": [
      "2025-07-08 13:51:17 - pytorch_lightning.callbacks.early_stopping - INFO - Metric val_loss improved by 0.000 >= min_delta = 0.0. New best score: 0.025\n"
     ]
    },
    {
     "data": {
      "application/vnd.jupyter.widget-view+json": {
       "model_id": "d2d55f85c0f0420996a6c84896c5cb52",
       "version_major": 2,
       "version_minor": 0
      },
      "text/plain": [
       "Validation: |          | 0/? [00:00<?, ?it/s]"
      ]
     },
     "metadata": {},
     "output_type": "display_data"
    },
    {
     "name": "stderr",
     "output_type": "stream",
     "text": [
      "2025-07-08 13:51:44 - pytorch_lightning.callbacks.early_stopping - INFO - Metric val_loss improved by 0.000 >= min_delta = 0.0. New best score: 0.025\n"
     ]
    },
    {
     "data": {
      "application/vnd.jupyter.widget-view+json": {
       "model_id": "3bb737f8ff6046f489b9f274b8285abf",
       "version_major": 2,
       "version_minor": 0
      },
      "text/plain": [
       "Validation: |          | 0/? [00:00<?, ?it/s]"
      ]
     },
     "metadata": {},
     "output_type": "display_data"
    },
    {
     "name": "stderr",
     "output_type": "stream",
     "text": [
      "2025-07-08 13:52:11 - pytorch_lightning.callbacks.early_stopping - INFO - Metric val_loss improved by 0.000 >= min_delta = 0.0. New best score: 0.025\n"
     ]
    },
    {
     "data": {
      "application/vnd.jupyter.widget-view+json": {
       "model_id": "15938e6b5199483280dd867fbaab8117",
       "version_major": 2,
       "version_minor": 0
      },
      "text/plain": [
       "Validation: |          | 0/? [00:00<?, ?it/s]"
      ]
     },
     "metadata": {},
     "output_type": "display_data"
    },
    {
     "data": {
      "application/vnd.jupyter.widget-view+json": {
       "model_id": "c5e922d7b87c41928c39df78055c4718",
       "version_major": 2,
       "version_minor": 0
      },
      "text/plain": [
       "Validation: |          | 0/? [00:00<?, ?it/s]"
      ]
     },
     "metadata": {},
     "output_type": "display_data"
    },
    {
     "data": {
      "application/vnd.jupyter.widget-view+json": {
       "model_id": "ef933dc602aa4348baf91452a6d2e69f",
       "version_major": 2,
       "version_minor": 0
      },
      "text/plain": [
       "Validation: |          | 0/? [00:00<?, ?it/s]"
      ]
     },
     "metadata": {},
     "output_type": "display_data"
    },
    {
     "data": {
      "application/vnd.jupyter.widget-view+json": {
       "model_id": "323f9d5d0b544b3cb87f1b3d02a3e13b",
       "version_major": 2,
       "version_minor": 0
      },
      "text/plain": [
       "Validation: |          | 0/? [00:00<?, ?it/s]"
      ]
     },
     "metadata": {},
     "output_type": "display_data"
    },
    {
     "data": {
      "application/vnd.jupyter.widget-view+json": {
       "model_id": "d7e0449cacbe40fca4b2f06c2c344c9a",
       "version_major": 2,
       "version_minor": 0
      },
      "text/plain": [
       "Validation: |          | 0/? [00:00<?, ?it/s]"
      ]
     },
     "metadata": {},
     "output_type": "display_data"
    },
    {
     "data": {
      "application/vnd.jupyter.widget-view+json": {
       "model_id": "0cb9d60f4b564716b34cfd6f17d5a920",
       "version_major": 2,
       "version_minor": 0
      },
      "text/plain": [
       "Validation: |          | 0/? [00:00<?, ?it/s]"
      ]
     },
     "metadata": {},
     "output_type": "display_data"
    },
    {
     "data": {
      "application/vnd.jupyter.widget-view+json": {
       "model_id": "66654c7c060247099af7771d93881fff",
       "version_major": 2,
       "version_minor": 0
      },
      "text/plain": [
       "Validation: |          | 0/? [00:00<?, ?it/s]"
      ]
     },
     "metadata": {},
     "output_type": "display_data"
    },
    {
     "data": {
      "application/vnd.jupyter.widget-view+json": {
       "model_id": "b21ec807b34049aa8acff8980cd5aed2",
       "version_major": 2,
       "version_minor": 0
      },
      "text/plain": [
       "Validation: |          | 0/? [00:00<?, ?it/s]"
      ]
     },
     "metadata": {},
     "output_type": "display_data"
    },
    {
     "data": {
      "application/vnd.jupyter.widget-view+json": {
       "model_id": "a671f23b27cc4816a4e198cc9a5e6db3",
       "version_major": 2,
       "version_minor": 0
      },
      "text/plain": [
       "Validation: |          | 0/? [00:00<?, ?it/s]"
      ]
     },
     "metadata": {},
     "output_type": "display_data"
    },
    {
     "data": {
      "application/vnd.jupyter.widget-view+json": {
       "model_id": "017474dafb7f48439d91c1d5a8a71ba5",
       "version_major": 2,
       "version_minor": 0
      },
      "text/plain": [
       "Validation: |          | 0/? [00:00<?, ?it/s]"
      ]
     },
     "metadata": {},
     "output_type": "display_data"
    },
    {
     "data": {
      "application/vnd.jupyter.widget-view+json": {
       "model_id": "f67849a87bd44ca69d800333a0ece131",
       "version_major": 2,
       "version_minor": 0
      },
      "text/plain": [
       "Validation: |          | 0/? [00:00<?, ?it/s]"
      ]
     },
     "metadata": {},
     "output_type": "display_data"
    },
    {
     "data": {
      "application/vnd.jupyter.widget-view+json": {
       "model_id": "3f3e1315bee5432aa6e3f9c8917a3906",
       "version_major": 2,
       "version_minor": 0
      },
      "text/plain": [
       "Validation: |          | 0/? [00:00<?, ?it/s]"
      ]
     },
     "metadata": {},
     "output_type": "display_data"
    },
    {
     "data": {
      "application/vnd.jupyter.widget-view+json": {
       "model_id": "d0885cc27a824b0dbd94ffb7d3cfbb79",
       "version_major": 2,
       "version_minor": 0
      },
      "text/plain": [
       "Validation: |          | 0/? [00:00<?, ?it/s]"
      ]
     },
     "metadata": {},
     "output_type": "display_data"
    },
    {
     "data": {
      "application/vnd.jupyter.widget-view+json": {
       "model_id": "93d4b76e1ffc40db87e7af8003b9ae0d",
       "version_major": 2,
       "version_minor": 0
      },
      "text/plain": [
       "Validation: |          | 0/? [00:00<?, ?it/s]"
      ]
     },
     "metadata": {},
     "output_type": "display_data"
    },
    {
     "data": {
      "application/vnd.jupyter.widget-view+json": {
       "model_id": "5c3d2fccd94c43ff95bd3c86e93bbd7f",
       "version_major": 2,
       "version_minor": 0
      },
      "text/plain": [
       "Validation: |          | 0/? [00:00<?, ?it/s]"
      ]
     },
     "metadata": {},
     "output_type": "display_data"
    },
    {
     "name": "stderr",
     "output_type": "stream",
     "text": [
      "2025-07-08 13:58:54 - pytorch_lightning.callbacks.early_stopping - INFO - Monitored metric val_loss did not improve in the last 15 records. Best score: 0.025. Signaling Trainer to stop.\n",
      "2025-07-08 13:58:54 - hydro_forecasting.experiment_utils.training_runner - INFO - Run 0 completed. Best val_loss: 0.024699846282601357, Path: /workspace/hydro-forecasting/experiments/finetune/finetune_similar_kyrgyzstan/checkpoints/tft/run_0/attempt_2/tft-run0-attempt_2-epoch=05-val_loss=0.0247.ckpt\n",
      "2025-07-08 13:58:54 - hydro_forecasting.experiment_utils.training_runner - INFO - Starting run 2/5 for tft\n",
      "2025-07-08 13:58:54 - hydro_forecasting.experiment_utils.seed_manager - INFO - SeedManager initialized with master seed: 42\n",
      "2025-07-08 13:58:54 - hydro_forecasting.experiment_utils.seed_manager - INFO - SeedManager initialized with master seed: 987689484\n",
      "2025-07-08 13:58:54 - lightning_fabric.utilities.seed - INFO - Seed set to 987689484\n",
      "2025-07-08 13:58:54 - hydro_forecasting.experiment_utils.training_runner - INFO - Using seed: 987689484 (derived from base seed: 42, run: 1)\n",
      "2025-07-08 13:58:54 - hydro_forecasting.experiment_utils.checkpoint_manager - INFO - Creating new attempt: /workspace/hydro-forecasting/experiments/finetune/finetune_similar_kyrgyzstan/checkpoints/tft/run_1/attempt_2\n",
      "2025-07-08 13:58:54 - hydro_forecasting.experiment_utils.checkpoint_manager - INFO - Creating new attempt: /workspace/hydro-forecasting/experiments/finetune/finetune_similar_kyrgyzstan/logs/tft/run_1/attempt_2\n",
      "2025-07-08 13:58:54 - pytorch_lightning.utilities.rank_zero - INFO - GPU available: True (cuda), used: True\n",
      "2025-07-08 13:58:54 - pytorch_lightning.utilities.rank_zero - INFO - TPU available: False, using: 0 TPU cores\n",
      "2025-07-08 13:58:54 - pytorch_lightning.utilities.rank_zero - INFO - HPU available: False, using: 0 HPUs\n",
      "2025-07-08 13:58:54 - hydro_forecasting.experiment_utils.finetune_pretrained_model - INFO - Finetuning tft: Original LR 5.116785221358969e-05, New LR 2.0467140885435877e-06\n",
      "2025-07-08 13:58:54 - hydro_forecasting.data.in_memory_datamodule - INFO - Data preparation has already run.\n",
      "2025-07-08 13:58:54 - pytorch_lightning.accelerators.cuda - INFO - LOCAL_RANK: 0 - CUDA_VISIBLE_DEVICES: [0]\n",
      "2025-07-08 13:58:54 - pytorch_lightning.callbacks.model_summary - INFO - \n",
      "  | Name          | Type                      | Params | Mode \n",
      "--------------------------------------------------------------------\n",
      "0 | mse_criterion | MSELoss                   | 0      | train\n",
      "1 | model         | TemporalFusionTransformer | 266 K  | train\n",
      "--------------------------------------------------------------------\n",
      "266 K     Trainable params\n",
      "0         Non-trainable params\n",
      "266 K     Total params\n",
      "1.067     Total estimated model params size (MB)\n",
      "148       Modules in train mode\n",
      "0         Modules in eval mode\n"
     ]
    },
    {
     "data": {
      "application/vnd.jupyter.widget-view+json": {
       "model_id": "53e421f2f0434445a30468bda3a62649",
       "version_major": 2,
       "version_minor": 0
      },
      "text/plain": [
       "Sanity Checking: |          | 0/? [00:00<?, ?it/s]"
      ]
     },
     "metadata": {},
     "output_type": "display_data"
    },
    {
     "name": "stderr",
     "output_type": "stream",
     "text": [
      "2025-07-08 13:58:54 - hydro_forecasting.data.in_memory_datamodule - INFO - Epoch 0: Val Dataloader using cached validation data with 76914 samples from 59 basins.\n",
      "2025-07-08 13:58:54 - hydro_forecasting.data.in_memory_datamodule - INFO - Completed full pass through training shared chunks. Recomputing.\n",
      "2025-07-08 13:58:54 - hydro_forecasting.data.in_memory_datamodule - INFO - Initializing/Re-initializing training shared chunks from 59 basins.\n",
      "2025-07-08 13:58:54 - hydro_forecasting.data.in_memory_datamodule - INFO - Created 1 training shared chunks.\n",
      "2025-07-08 13:58:54 - hydro_forecasting.data.in_memory_datamodule - INFO - Epoch 0: Train Dataloader using chunk 1/1 with 59 basins.\n",
      "2025-07-08 13:58:55 - hydro_forecasting.data.in_memory_datamodule - INFO - Stage 'train' chunk data loaded for 59 basins. Shape: (193981, 12). Est. Mem: 8.88 MB\n"
     ]
    },
    {
     "data": {
      "application/vnd.jupyter.widget-view+json": {
       "model_id": "25cd6324c8a048e5bd15901bc91b09a1",
       "version_major": 2,
       "version_minor": 0
      },
      "text/plain": [
       "Training: |          | 0/? [00:00<?, ?it/s]"
      ]
     },
     "metadata": {},
     "output_type": "display_data"
    },
    {
     "data": {
      "application/vnd.jupyter.widget-view+json": {
       "model_id": "9f5c451b810942ee8132d21a179e2ba5",
       "version_major": 2,
       "version_minor": 0
      },
      "text/plain": [
       "Validation: |          | 0/? [00:00<?, ?it/s]"
      ]
     },
     "metadata": {},
     "output_type": "display_data"
    },
    {
     "name": "stderr",
     "output_type": "stream",
     "text": [
      "2025-07-08 13:59:22 - pytorch_lightning.callbacks.early_stopping - INFO - Metric val_loss improved. New best score: 0.025\n"
     ]
    }
   ],
   "source": [
    "train_results = finetune_pretrained_models(\n",
    "    gauge_ids=basin_ids,\n",
    "    pretrained_checkpoint_dir=pretrained_checkpoint_dir,\n",
    "    datamodule_config=datamodule_config,\n",
    "    training_config=training_config,\n",
    "    output_dir=output_dir,\n",
    "    model_types=model_types,\n",
    "    pretrained_yaml_paths=yaml_paths,\n",
    "    experiment_name=experiment_name,\n",
    "    num_runs=num_runs,\n",
    "    override_previous_attempts=override_previous_attempts,\n",
    "    lr_reduction_factor=25,\n",
    "    select_best_from_pretrained=True,\n",
    ")"
   ]
  }
 ],
 "metadata": {
  "kernelspec": {
   "display_name": "Python 3",
   "language": "python",
   "name": "python3"
  },
  "language_info": {
   "codemirror_mode": {
    "name": "ipython",
    "version": 3
   },
   "file_extension": ".py",
   "mimetype": "text/x-python",
   "name": "python",
   "nbconvert_exporter": "python",
   "pygments_lexer": "ipython3",
   "version": "3.10.12"
  }
 },
 "nbformat": 4,
 "nbformat_minor": 5
}
