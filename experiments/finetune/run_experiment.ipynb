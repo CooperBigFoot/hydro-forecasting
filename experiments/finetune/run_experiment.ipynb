{
 "cells": [
  {
   "cell_type": "code",
   "execution_count": 1,
   "id": "2f2fc10e",
   "metadata": {},
   "outputs": [],
   "source": [
    "# !jupyter lab build"
   ]
  },
  {
   "cell_type": "code",
   "execution_count": 2,
   "id": "659bed6b",
   "metadata": {},
   "outputs": [
    {
     "name": "stdout",
     "output_type": "stream",
     "text": [
      "Added /Users/cooper/Desktop/hydro-forecasting/src to Python path\n"
     ]
    }
   ],
   "source": [
    "import sys\n",
    "from pathlib import Path\n",
    "\n",
    "# Add src directory to Python path\n",
    "project_root = Path.cwd().parent.parent\n",
    "src_path = project_root / \"src\"\n",
    "if str(src_path) not in sys.path:\n",
    "    sys.path.insert(0, str(src_path))\n",
    "    print(f\"Added {src_path} to Python path\")"
   ]
  },
  {
   "cell_type": "code",
   "execution_count": 3,
   "id": "f65efe2c",
   "metadata": {},
   "outputs": [],
   "source": [
    "from sklearn.pipeline import Pipeline\n",
    "\n",
    "from hydro_forecasting.data.caravanify_parquet import (\n",
    "    CaravanifyParquet,\n",
    "    CaravanifyParquetConfig,\n",
    ")\n",
    "from hydro_forecasting.experiment_utils.finetune_pretrained_model import finetune_pretrained_models\n",
    "from hydro_forecasting.preprocessing.grouped import GroupedPipeline\n",
    "from hydro_forecasting.preprocessing.normalize import NormalizeTransformer\n",
    "from hydro_forecasting.preprocessing.standard_scale import StandardScaleTransformer"
   ]
  },
  {
   "cell_type": "markdown",
   "id": "5e7c3393",
   "metadata": {},
   "source": [
    "---"
   ]
  },
  {
   "cell_type": "markdown",
   "id": "dab68b34",
   "metadata": {},
   "source": [
    "## Experiment constants"
   ]
  },
  {
   "cell_type": "code",
   "execution_count": 4,
   "id": "7a6885fe",
   "metadata": {},
   "outputs": [],
   "source": [
    "REGIONS = [\n",
    "    \"CA\"\n",
    "]\n",
    "\n",
    "COUNTRY = \"tajikistan\""
   ]
  },
  {
   "cell_type": "markdown",
   "id": "2533b81f",
   "metadata": {},
   "source": [
    "## Loading the data (as gauge_ids)"
   ]
  },
  {
   "cell_type": "code",
   "execution_count": 5,
   "id": "ed0ce646",
   "metadata": {},
   "outputs": [],
   "source": [
    "def load_basin_ids(country: str) -> list[str]:\n",
    "    \"\"\"\n",
    "    Function to load basins for a given country in Central Asia\n",
    "    \"\"\"\n",
    "    # Make country lowercase and make the first letter uppercase\n",
    "    country = country.lower()\n",
    "    country = country.capitalize()\n",
    "\n",
    "    if country != \"Tajikistan\" and country != \"Kyrgyzstan\":\n",
    "        print(\"Country not supported\")\n",
    "        return []\n",
    "\n",
    "    configs = CaravanifyParquetConfig(\n",
    "        attributes_dir=\"/Users/cooper/Desktop/CaravanifyParquet/CA/post_processed/attributes\",\n",
    "        timeseries_dir=\"/Users/cooper/Desktop/CaravanifyParquet/CA/post_processed/timeseries/csv\",\n",
    "        gauge_id_prefix=\"CA\",\n",
    "        use_hydroatlas_attributes=True,\n",
    "        use_caravan_attributes=True,\n",
    "        use_other_attributes=True,\n",
    "    )\n",
    "\n",
    "    caravan = CaravanifyParquet(configs)\n",
    "    ca_basins = caravan.get_all_gauge_ids()\n",
    "    caravan.load_stations(ca_basins)\n",
    "    static_data = caravan.get_static_attributes()\n",
    "\n",
    "    return list(static_data[static_data[\"country\"] == country][\"gauge_id\"].unique())\n",
    "\n",
    "basin_ids = load_basin_ids(COUNTRY)"
   ]
  },
  {
   "cell_type": "markdown",
   "id": "73f9edf0",
   "metadata": {},
   "source": [
    "## Datamodule Configs"
   ]
  },
  {
   "cell_type": "code",
   "execution_count": 6,
   "id": "c2ea76fb",
   "metadata": {},
   "outputs": [],
   "source": [
    "region_time_series_base_dirs = {\n",
    "    region: f\"/Users/cooper/Desktop/CaravanifyParquet/{region}/post_processed/timeseries/csv/{region}\"\n",
    "    for region in REGIONS\n",
    "}\n",
    "\n",
    "region_static_attributes_base_dirs = {\n",
    "    region: f\"/Users/cooper/Desktop/CaravanifyParquet/{region}/post_processed/attributes/{region}\" for region in REGIONS\n",
    "}\n",
    "\n",
    "path_to_preprocessing_output_directory = (\n",
    "    \"/Users/cooper/Desktop/hydro-forecasting/experiments/finetune/data_cache/{COUNTRY}\"\n",
    ")"
   ]
  },
  {
   "cell_type": "code",
   "execution_count": 7,
   "id": "f14911d3",
   "metadata": {},
   "outputs": [],
   "source": [
    "forcing_features = [\n",
    "    \"snow_depth_water_equivalent_mean\",\n",
    "    \"surface_net_solar_radiation_mean\",\n",
    "    \"surface_net_thermal_radiation_mean\",\n",
    "    \"potential_evaporation_sum_ERA5_LAND\",\n",
    "    \"potential_evaporation_sum_FAO_PENMAN_MONTEITH\",\n",
    "    \"temperature_2m_mean\",\n",
    "    \"temperature_2m_min\",\n",
    "    \"temperature_2m_max\",\n",
    "    \"total_precipitation_sum\",\n",
    "]\n",
    "\n",
    "static_features = [\n",
    "    \"p_mean\",\n",
    "    \"area\",\n",
    "    \"ele_mt_sav\",\n",
    "    \"high_prec_dur\",\n",
    "    \"frac_snow\",\n",
    "    \"high_prec_freq\",\n",
    "    \"slp_dg_sav\",\n",
    "    \"cly_pc_sav\",\n",
    "    \"aridity_ERA5_LAND\",\n",
    "    \"aridity_FAO_PM\",\n",
    "]\n",
    "\n",
    "target = \"streamflow\""
   ]
  },
  {
   "cell_type": "code",
   "execution_count": 8,
   "id": "962da35a",
   "metadata": {},
   "outputs": [],
   "source": [
    "feature_pipeline = GroupedPipeline(\n",
    "    Pipeline([(\"scaler\", StandardScaleTransformer()), (\"normalizer\", NormalizeTransformer())]),\n",
    "    columns=forcing_features,\n",
    "    group_identifier=\"gauge_id\",\n",
    ")\n",
    "\n",
    "target_pipeline = GroupedPipeline(\n",
    "    Pipeline([(\"scaler\", StandardScaleTransformer()), (\"normalizer\", NormalizeTransformer())]),\n",
    "    columns=[\"streamflow\"],\n",
    "    group_identifier=\"gauge_id\",\n",
    ")\n",
    "\n",
    "static_pipeline = Pipeline([(\"scaler\", StandardScaleTransformer())])\n",
    "\n",
    "preprocessing_config = {\n",
    "    \"features\": {\"pipeline\": feature_pipeline},\n",
    "    \"target\": {\"pipeline\": target_pipeline},\n",
    "    \"static_features\": {\"pipeline\": static_pipeline, \"columns\": static_features},\n",
    "}"
   ]
  },
  {
   "cell_type": "code",
   "execution_count": 9,
   "id": "cd0f0b66",
   "metadata": {},
   "outputs": [],
   "source": [
    "datamodule_config = {\n",
    "    \"region_time_series_base_dirs\": region_time_series_base_dirs,\n",
    "    \"region_static_attributes_base_dirs\": region_static_attributes_base_dirs,\n",
    "    \"path_to_preprocessing_output_directory\": path_to_preprocessing_output_directory,\n",
    "    \"group_identifier\": \"gauge_id\",\n",
    "    \"batch_size\": 2048,\n",
    "    \"forcing_features\": forcing_features,\n",
    "    \"static_features\": static_features,\n",
    "    \"target\": target,\n",
    "    \"num_workers\": 4,\n",
    "    \"min_train_years\": 5,\n",
    "    \"train_prop\": 0.5,\n",
    "    \"val_prop\": 0.25,\n",
    "    \"test_prop\": 0.25,\n",
    "    \"max_imputation_gap_size\": 5,\n",
    "    \"chunk_size\": 100,\n",
    "    \"validation_chunk_size\": 100,\n",
    "    \"is_autoregressive\": True,\n",
    "    \"preprocessing_configs\": preprocessing_config,\n",
    "}"
   ]
  },
  {
   "cell_type": "markdown",
   "id": "158363b3",
   "metadata": {},
   "source": [
    "## Training Configs"
   ]
  },
  {
   "cell_type": "code",
   "execution_count": 10,
   "id": "9709710c",
   "metadata": {},
   "outputs": [],
   "source": [
    "training_config = {\n",
    "    \"max_epochs\": 200,\n",
    "    \"accelerator\": \"mps\",\n",
    "    \"devices\": 1,\n",
    "    \"early_stopping_patience\": 15,\n",
    "    \"reload_dataloaders_every_n_epochs\": False,\n",
    "}"
   ]
  },
  {
   "cell_type": "markdown",
   "id": "38258592",
   "metadata": {},
   "source": [
    "## Remaining Configs"
   ]
  },
  {
   "cell_type": "code",
   "execution_count": 11,
   "id": "2274e894",
   "metadata": {},
   "outputs": [],
   "source": [
    "output_dir = \"/Users/cooper/Desktop/hydro-forecasting/experiments/finetune\"\n",
    "pretrained_checkpoint_dir = (\n",
    "    \"/Users/cooper/Desktop/hydro-forecasting/experiments/low-medium-hii/low-medium-hii_tajikistan/checkpoints\"\n",
    ")\n",
    "\n",
    "model_types = [\"tide\", \"ealstm\", \"tsmixer\"]\n",
    "yaml_paths = [\n",
    "    f\"/Users/cooper/Desktop/hydro-forecasting/experiments/yaml-files/{COUNTRY}/tide.yaml\",\n",
    "    f\"/Users/cooper/Desktop/hydro-forecasting/experiments/yaml-files/{COUNTRY}/ealstm.yaml\",\n",
    "    f\"/Users/cooper/Desktop/hydro-forecasting/experiments/yaml-files/{COUNTRY}/tsmixer.yaml\",\n",
    "    # f\"/Users/cooper/Desktop/hydro-forecasting/experiments/yaml-files/{COUNTRY}/tft.yaml\",\n",
    "]\n",
    "experiment_name = f\"finetune_{COUNTRY}\"\n",
    "num_runs = 1\n",
    "override_previous_attempts = False"
   ]
  },
  {
   "cell_type": "markdown",
   "id": "fb369289",
   "metadata": {},
   "source": [
    "## Training the models from scratch"
   ]
  },
  {
   "cell_type": "code",
   "execution_count": 12,
   "id": "1054c874",
   "metadata": {},
   "outputs": [
    {
     "name": "stderr",
     "output_type": "stream",
     "text": [
      "INFO:hydro_forecasting.experiment_utils.finetune_pretrained_model:Found pre-trained checkpoint for tide: /Users/cooper/Desktop/hydro-forecasting/experiments/low-medium-hii/low-medium-hii_tajikistan/checkpoints/tide/run_0/attempt_0/tide-run0-attempt_0-epoch=65-val_loss=0.0504.ckpt\n",
      "INFO:hydro_forecasting.experiment_utils.finetune_pretrained_model:Found pre-trained checkpoint for ealstm: /Users/cooper/Desktop/hydro-forecasting/experiments/low-medium-hii/low-medium-hii_tajikistan/checkpoints/ealstm/run_0/attempt_0/ealstm-run0-attempt_0-epoch=141-val_loss=0.0349.ckpt\n",
      "INFO:hydro_forecasting.experiment_utils.finetune_pretrained_model:Found pre-trained checkpoint for tsmixer: /Users/cooper/Desktop/hydro-forecasting/experiments/low-medium-hii/low-medium-hii_tajikistan/checkpoints/tsmixer/run_0/attempt_0/tsmixer-run0-attempt_0-epoch=135-val_loss=0.0388.ckpt\n",
      "INFO:hydro_forecasting.experiment_utils.training_runner:Starting experiment 'finetune_tajikistan'\n",
      "INFO:hydro_forecasting.experiment_utils.training_runner:Output directory: /Users/cooper/Desktop/hydro-forecasting/experiments/finetune/finetune_tajikistan\n",
      "INFO:hydro_forecasting.experiment_utils.training_runner:Models to process: tide, ealstm, tsmixer\n",
      "INFO:hydro_forecasting.experiment_utils.training_runner:Number of runs per model: 1\n",
      "INFO:hydro_forecasting.experiment_utils.training_runner:Processing model (1/3): tide\n",
      "INFO:hydro_forecasting.experiment_utils.training_runner:Processing model: tide\n",
      "INFO:hydro_forecasting.data.in_memory_datamodule:Starting data preparation...\n",
      "INFO:hydro_forecasting.data.in_memory_datamodule:Generated Run UUID for current config: c7d32095-72fe-5f6e-9136-b4705bc8c2d3\n",
      "INFO:hydro_forecasting.data.in_memory_datamodule:Checking for existing processed data at: /Users/cooper/Desktop/hydro-forecasting/experiments/finetune/data_cache/{COUNTRY}/c7d32095-72fe-5f6e-9136-b4705bc8c2d3\n",
      "INFO:hydro_forecasting.data.in_memory_datamodule:No reusable data found or reuse failed for UUID c7d32095-72fe-5f6e-9136-b4705bc8c2d3. Reason: Run directory not found.. Running preprocessing...\n",
      "INFO:hydro_forecasting.data.preprocessing:Config saved to /Users/cooper/Desktop/hydro-forecasting/experiments/finetune/data_cache/{COUNTRY}/c7d32095-72fe-5f6e-9136-b4705bc8c2d3/config.json\n",
      "INFO:hydro_forecasting.data.preprocessing:Processing static features...\n",
      "INFO:hydro_forecasting.data.preprocessing:Static features saved to /Users/cooper/Desktop/hydro-forecasting/experiments/finetune/data_cache/{COUNTRY}/c7d32095-72fe-5f6e-9136-b4705bc8c2d3/processed_static_features.parquet\n",
      "INFO:hydro_forecasting.data.preprocessing:Static features pipeline saved to /Users/cooper/Desktop/hydro-forecasting/experiments/finetune/data_cache/{COUNTRY}/c7d32095-72fe-5f6e-9136-b4705bc8c2d3/fitted_static_pipeline.joblib\n",
      "INFO:hydro_forecasting.data.preprocessing:Starting time series processing for 16 basins in batches of 50...\n",
      "INFO:hydro_forecasting.data.preprocessing:--- Processing Batch 1 (16 basins) ---\n"
     ]
    },
    {
     "name": "stdout",
     "output_type": "stream",
     "text": [
      "INFO: Processed 16 basins, 16 passed quality checks\n"
     ]
    },
    {
     "name": "stderr",
     "output_type": "stream",
     "text": [
      "INFO:hydro_forecasting.data.preprocessing:--- Finished Batch 1 ---\n",
      "INFO:hydro_forecasting.data.preprocessing:Finished processing all time series batches. Attempted 16 basins.\n",
      "INFO:hydro_forecasting.data.preprocessing:Fitted time series pipelines saved to /Users/cooper/Desktop/hydro-forecasting/experiments/finetune/data_cache/{COUNTRY}/c7d32095-72fe-5f6e-9136-b4705bc8c2d3/fitted_time_series_pipelines.joblib\n",
      "INFO:hydro_forecasting.data.preprocessing:Summary quality report saved to /Users/cooper/Desktop/hydro-forecasting/experiments/finetune/data_cache/{COUNTRY}/c7d32095-72fe-5f6e-9136-b4705bc8c2d3/quality_summary.json\n",
      "INFO:hydro_forecasting.data.preprocessing:SUCCESS: Preprocessing completed successfully. Output at /Users/cooper/Desktop/hydro-forecasting/experiments/finetune/data_cache/{COUNTRY}/c7d32095-72fe-5f6e-9136-b4705bc8c2d3\n",
      "INFO:hydro_forecasting.data.in_memory_datamodule:Hydro processor completed successfully.\n",
      "INFO:hydro_forecasting.data.in_memory_datamodule:Successfully loaded 3 categories of fitted pipelines.\n",
      "INFO:hydro_forecasting.data.in_memory_datamodule:16 basins retained after processing.\n",
      "INFO:hydro_forecasting.data.in_memory_datamodule:Found 16 basins for synchronized train/val chunking and validation pool selection.\n",
      "INFO:hydro_forecasting.data.in_memory_datamodule:Found 16 basins for test split.\n",
      "INFO:hydro_forecasting.data.in_memory_datamodule:Data preparation finished.\n",
      "INFO:hydro_forecasting.data.in_memory_datamodule:Loading static data cache and converting to Tensors...\n",
      "INFO:hydro_forecasting.data.in_memory_datamodule:Loaded and tensorized static data for 16 basins.\n",
      "INFO:hydro_forecasting.data.in_memory_datamodule:Created fixed validation pool with 16 basins: ['CA_17288', 'CA_17110', 'CA_17325', 'CA_17329', 'CA_16205']...\n",
      "INFO:hydro_forecasting.data.in_memory_datamodule:Loading and caching data for 16 validation basins...\n",
      "INFO:hydro_forecasting.data.in_memory_datamodule:Stage 'val' chunk data loaded for 16 basins. Shape: (26605, 12). Est. Mem: 1.22 MB\n",
      "INFO:hydro_forecasting.data.in_memory_datamodule:Successfully cached validation data. Index entries: 24877.\n",
      "INFO:hydro_forecasting.data.in_memory_datamodule:Initializing/Re-initializing training shared chunks from 16 basins.\n",
      "INFO:hydro_forecasting.data.in_memory_datamodule:Created 1 training shared chunks.\n",
      "INFO:hydro_forecasting.data.in_memory_datamodule:Initial training shared chunks: 1 chunks of approx size 100 from 16 basins.\n",
      "INFO:hydro_forecasting.experiment_utils.training_runner:Starting run 1/1 for tide\n",
      "Seed set to 42\n",
      "INFO:hydro_forecasting.experiment_utils.training_runner:Using seed: 42\n",
      "INFO:hydro_forecasting.experiment_utils.checkpoint_manager:Creating new attempt: /Users/cooper/Desktop/hydro-forecasting/experiments/finetune/finetune_tajikistan/checkpoints/tide/run_0/attempt_0\n",
      "INFO:hydro_forecasting.experiment_utils.checkpoint_manager:Creating new attempt: /Users/cooper/Desktop/hydro-forecasting/experiments/finetune/finetune_tajikistan/logs/tide/run_0/attempt_0\n",
      "GPU available: True (mps), used: True\n",
      "TPU available: False, using: 0 TPU cores\n",
      "HPU available: False, using: 0 HPUs\n",
      "INFO:hydro_forecasting.data.in_memory_datamodule:Data preparation has already run.\n",
      "\n",
      "  | Name          | Type      | Params | Mode \n",
      "----------------------------------------------------\n",
      "0 | mse_criterion | MSELoss   | 0      | train\n",
      "1 | model         | TiDEModel | 266 K  | train\n",
      "----------------------------------------------------\n",
      "266 K     Trainable params\n",
      "0         Non-trainable params\n",
      "266 K     Total params\n",
      "1.065     Total estimated model params size (MB)\n",
      "47        Modules in train mode\n",
      "0         Modules in eval mode\n"
     ]
    },
    {
     "name": "stdout",
     "output_type": "stream",
     "text": [
      "Sanity Checking: |          | 0/? [00:00<?, ?it/s]"
     ]
    },
    {
     "name": "stderr",
     "output_type": "stream",
     "text": [
      "INFO:hydro_forecasting.data.in_memory_datamodule:Epoch 0: Val Dataloader using cached validation data with 24877 samples from 16 basins.\n",
      "/Users/cooper/Desktop/hydro-forecasting/.venv/lib/python3.12/site-packages/torch/utils/data/dataloader.py:683: UserWarning: 'pin_memory' argument is set as true but not supported on MPS now, then device pinned memory won't be used.\n",
      "  warnings.warn(warn_msg)\n"
     ]
    },
    {
     "name": "stdout",
     "output_type": "stream",
     "text": [
      "                                                                           "
     ]
    },
    {
     "name": "stderr",
     "output_type": "stream",
     "text": [
      "INFO:hydro_forecasting.data.in_memory_datamodule:Epoch 0: Train Dataloader using chunk 1/1 with 16 basins.\n"
     ]
    },
    {
     "name": "stdout",
     "output_type": "stream",
     "text": [
      "\r"
     ]
    },
    {
     "name": "stderr",
     "output_type": "stream",
     "text": [
      "INFO:hydro_forecasting.data.in_memory_datamodule:Stage 'train' chunk data loaded for 16 basins. Shape: (53215, 12). Est. Mem: 2.44 MB\n",
      "/Users/cooper/Desktop/hydro-forecasting/.venv/lib/python3.12/site-packages/pytorch_lightning/loops/fit_loop.py:310: The number of training batches (26) is smaller than the logging interval Trainer(log_every_n_steps=50). Set a lower value for log_every_n_steps if you want to see logs for the training epoch.\n"
     ]
    },
    {
     "name": "stdout",
     "output_type": "stream",
     "text": [
      "Epoch 0: 100%|██████████| 26/26 [00:01<00:00, 14.77it/s, v_num=pt_0]"
     ]
    },
    {
     "name": "stderr",
     "output_type": "stream",
     "text": [
      "Metric val_loss improved. New best score: 0.034\n"
     ]
    },
    {
     "name": "stdout",
     "output_type": "stream",
     "text": [
      "Epoch 1: 100%|██████████| 26/26 [00:01<00:00, 24.59it/s, v_num=pt_0]"
     ]
    },
    {
     "name": "stderr",
     "output_type": "stream",
     "text": [
      "Metric val_loss improved by 0.001 >= min_delta = 0.0. New best score: 0.033\n"
     ]
    },
    {
     "name": "stdout",
     "output_type": "stream",
     "text": [
      "Epoch 2: 100%|██████████| 26/26 [00:01<00:00, 22.34it/s, v_num=pt_0]"
     ]
    },
    {
     "name": "stderr",
     "output_type": "stream",
     "text": [
      "Metric val_loss improved by 0.001 >= min_delta = 0.0. New best score: 0.033\n"
     ]
    },
    {
     "name": "stdout",
     "output_type": "stream",
     "text": [
      "Epoch 5: 100%|██████████| 26/26 [00:01<00:00, 19.48it/s, v_num=pt_0]"
     ]
    },
    {
     "name": "stderr",
     "output_type": "stream",
     "text": [
      "Metric val_loss improved by 0.000 >= min_delta = 0.0. New best score: 0.032\n"
     ]
    },
    {
     "name": "stdout",
     "output_type": "stream",
     "text": [
      "Epoch 6: 100%|██████████| 26/26 [00:01<00:00, 22.72it/s, v_num=pt_0]"
     ]
    },
    {
     "name": "stderr",
     "output_type": "stream",
     "text": [
      "Metric val_loss improved by 0.000 >= min_delta = 0.0. New best score: 0.032\n"
     ]
    },
    {
     "name": "stdout",
     "output_type": "stream",
     "text": [
      "Epoch 10: 100%|██████████| 26/26 [00:01<00:00, 19.80it/s, v_num=pt_0]"
     ]
    },
    {
     "name": "stderr",
     "output_type": "stream",
     "text": [
      "Metric val_loss improved by 0.000 >= min_delta = 0.0. New best score: 0.032\n"
     ]
    },
    {
     "name": "stdout",
     "output_type": "stream",
     "text": [
      "Epoch 25: 100%|██████████| 26/26 [00:01<00:00, 24.63it/s, v_num=pt_0]"
     ]
    },
    {
     "name": "stderr",
     "output_type": "stream",
     "text": [
      "Monitored metric val_loss did not improve in the last 15 records. Best score: 0.032. Signaling Trainer to stop.\n"
     ]
    },
    {
     "name": "stdout",
     "output_type": "stream",
     "text": [
      "Epoch 25: 100%|██████████| 26/26 [00:01<00:00, 23.82it/s, v_num=pt_0]\n"
     ]
    },
    {
     "name": "stderr",
     "output_type": "stream",
     "text": [
      "INFO:hydro_forecasting.experiment_utils.training_runner:Run 0 completed with best val_loss: 0.03197910264134407\n",
      "INFO:hydro_forecasting.experiment_utils.checkpoint_manager:Updated overall_best_model_info.txt at /Users/cooper/Desktop/hydro-forecasting/experiments/finetune/finetune_tajikistan/checkpoints/tide to point to: run_0/attempt_0/tide-run0-attempt_0-epoch=10-val_loss=0.0320.ckpt\n",
      "INFO:hydro_forecasting.experiment_utils.training_runner:Overall best model for tide: run_0/attempt_0/tide-run0-attempt_0-epoch=10-val_loss=0.0320.ckpt\n",
      "INFO:hydro_forecasting.experiment_utils.training_runner:Best metrics: {'val_loss': 0.03197910264134407, 'run_index': 0, 'seed': 42}\n",
      "INFO:hydro_forecasting.experiment_utils.training_runner:Processing model (2/3): ealstm\n",
      "INFO:hydro_forecasting.experiment_utils.training_runner:Processing model: ealstm\n",
      "INFO:hydro_forecasting.data.in_memory_datamodule:Starting data preparation...\n",
      "INFO:hydro_forecasting.data.in_memory_datamodule:Generated Run UUID for current config: c7d32095-72fe-5f6e-9136-b4705bc8c2d3\n",
      "INFO:hydro_forecasting.data.in_memory_datamodule:Checking for existing processed data at: /Users/cooper/Desktop/hydro-forecasting/experiments/finetune/data_cache/{COUNTRY}/c7d32095-72fe-5f6e-9136-b4705bc8c2d3\n",
      "INFO:hydro_forecasting.data.in_memory_datamodule:Successfully validated and prepared to reuse data from /Users/cooper/Desktop/hydro-forecasting/experiments/finetune/data_cache/{COUNTRY}/c7d32095-72fe-5f6e-9136-b4705bc8c2d3\n",
      "INFO:hydro_forecasting.data.in_memory_datamodule:Reusing existing processed data from run_uuid: c7d32095-72fe-5f6e-9136-b4705bc8c2d3\n",
      "INFO:hydro_forecasting.data.in_memory_datamodule:Loaded 3 pipelines and data for 16 basins from reused run.\n",
      "INFO:hydro_forecasting.data.in_memory_datamodule:Found 16 basins for synchronized train/val chunking and validation pool selection.\n",
      "INFO:hydro_forecasting.data.in_memory_datamodule:Found 16 basins for test split.\n",
      "INFO:hydro_forecasting.data.in_memory_datamodule:Data preparation finished.\n",
      "INFO:hydro_forecasting.data.in_memory_datamodule:Loading static data cache and converting to Tensors...\n",
      "INFO:hydro_forecasting.data.in_memory_datamodule:Loaded and tensorized static data for 16 basins.\n",
      "INFO:hydro_forecasting.data.in_memory_datamodule:Created fixed validation pool with 16 basins: ['CA_17050', 'CA_17338', 'CA_17137', 'CA_17100', 'CA_17288']...\n",
      "INFO:hydro_forecasting.data.in_memory_datamodule:Loading and caching data for 16 validation basins...\n",
      "INFO:hydro_forecasting.data.in_memory_datamodule:Stage 'val' chunk data loaded for 16 basins. Shape: (26605, 12). Est. Mem: 1.22 MB\n",
      "INFO:hydro_forecasting.data.in_memory_datamodule:Successfully cached validation data. Index entries: 25325.\n",
      "INFO:hydro_forecasting.data.in_memory_datamodule:Initializing/Re-initializing training shared chunks from 16 basins.\n",
      "INFO:hydro_forecasting.data.in_memory_datamodule:Created 1 training shared chunks.\n",
      "INFO:hydro_forecasting.data.in_memory_datamodule:Initial training shared chunks: 1 chunks of approx size 100 from 16 basins.\n",
      "INFO:hydro_forecasting.experiment_utils.training_runner:Starting run 1/1 for ealstm\n",
      "Seed set to 42\n",
      "INFO:hydro_forecasting.experiment_utils.training_runner:Using seed: 42\n",
      "INFO:hydro_forecasting.experiment_utils.checkpoint_manager:Creating new attempt: /Users/cooper/Desktop/hydro-forecasting/experiments/finetune/finetune_tajikistan/checkpoints/ealstm/run_0/attempt_0\n",
      "INFO:hydro_forecasting.experiment_utils.checkpoint_manager:Creating new attempt: /Users/cooper/Desktop/hydro-forecasting/experiments/finetune/finetune_tajikistan/logs/ealstm/run_0/attempt_0\n",
      "GPU available: True (mps), used: True\n",
      "TPU available: False, using: 0 TPU cores\n",
      "HPU available: False, using: 0 HPUs\n",
      "INFO:hydro_forecasting.data.in_memory_datamodule:Data preparation has already run.\n",
      "\n",
      "  | Name          | Type     | Params | Mode \n",
      "---------------------------------------------------\n",
      "0 | mse_criterion | MSELoss  | 0      | train\n",
      "1 | model         | BiEALSTM | 744 K  | train\n",
      "---------------------------------------------------\n",
      "744 K     Trainable params\n",
      "0         Non-trainable params\n",
      "744 K     Total params\n",
      "2.977     Total estimated model params size (MB)\n",
      "36        Modules in train mode\n",
      "0         Modules in eval mode\n"
     ]
    },
    {
     "name": "stdout",
     "output_type": "stream",
     "text": [
      "Sanity Checking: |          | 0/? [00:00<?, ?it/s]"
     ]
    },
    {
     "name": "stderr",
     "output_type": "stream",
     "text": [
      "INFO:hydro_forecasting.data.in_memory_datamodule:Epoch 0: Val Dataloader using cached validation data with 25325 samples from 16 basins.\n"
     ]
    },
    {
     "name": "stdout",
     "output_type": "stream",
     "text": [
      "                                                                           "
     ]
    },
    {
     "name": "stderr",
     "output_type": "stream",
     "text": [
      "INFO:hydro_forecasting.data.in_memory_datamodule:Epoch 0: Train Dataloader using chunk 1/1 with 16 basins.\n"
     ]
    },
    {
     "name": "stdout",
     "output_type": "stream",
     "text": [
      "\r"
     ]
    },
    {
     "name": "stderr",
     "output_type": "stream",
     "text": [
      "INFO:hydro_forecasting.data.in_memory_datamodule:Stage 'train' chunk data loaded for 16 basins. Shape: (53215, 12). Est. Mem: 2.44 MB\n"
     ]
    },
    {
     "name": "stdout",
     "output_type": "stream",
     "text": [
      "Epoch 0: 100%|██████████| 26/26 [00:08<00:00,  3.04it/s, v_num=pt_0]"
     ]
    },
    {
     "name": "stderr",
     "output_type": "stream",
     "text": [
      "Metric val_loss improved. New best score: 0.028\n"
     ]
    },
    {
     "name": "stdout",
     "output_type": "stream",
     "text": [
      "Epoch 1: 100%|██████████| 26/26 [00:07<00:00,  3.28it/s, v_num=pt_0]"
     ]
    },
    {
     "name": "stderr",
     "output_type": "stream",
     "text": [
      "Metric val_loss improved by 0.000 >= min_delta = 0.0. New best score: 0.027\n"
     ]
    },
    {
     "name": "stdout",
     "output_type": "stream",
     "text": [
      "Epoch 2: 100%|██████████| 26/26 [00:07<00:00,  3.27it/s, v_num=pt_0]"
     ]
    },
    {
     "name": "stderr",
     "output_type": "stream",
     "text": [
      "Metric val_loss improved by 0.000 >= min_delta = 0.0. New best score: 0.027\n"
     ]
    },
    {
     "name": "stdout",
     "output_type": "stream",
     "text": [
      "Epoch 3: 100%|██████████| 26/26 [00:07<00:00,  3.28it/s, v_num=pt_0]"
     ]
    },
    {
     "name": "stderr",
     "output_type": "stream",
     "text": [
      "Metric val_loss improved by 0.000 >= min_delta = 0.0. New best score: 0.027\n"
     ]
    },
    {
     "name": "stdout",
     "output_type": "stream",
     "text": [
      "Epoch 18: 100%|██████████| 26/26 [00:07<00:00,  3.30it/s, v_num=pt_0]"
     ]
    },
    {
     "name": "stderr",
     "output_type": "stream",
     "text": [
      "Monitored metric val_loss did not improve in the last 15 records. Best score: 0.027. Signaling Trainer to stop.\n"
     ]
    },
    {
     "name": "stdout",
     "output_type": "stream",
     "text": [
      "Epoch 18: 100%|██████████| 26/26 [00:07<00:00,  3.29it/s, v_num=pt_0]\n"
     ]
    },
    {
     "name": "stderr",
     "output_type": "stream",
     "text": [
      "INFO:hydro_forecasting.experiment_utils.training_runner:Run 0 completed with best val_loss: 0.026931406930088997\n",
      "INFO:hydro_forecasting.experiment_utils.checkpoint_manager:Updated overall_best_model_info.txt at /Users/cooper/Desktop/hydro-forecasting/experiments/finetune/finetune_tajikistan/checkpoints/ealstm to point to: run_0/attempt_0/ealstm-run0-attempt_0-epoch=03-val_loss=0.0269.ckpt\n",
      "INFO:hydro_forecasting.experiment_utils.training_runner:Overall best model for ealstm: run_0/attempt_0/ealstm-run0-attempt_0-epoch=03-val_loss=0.0269.ckpt\n",
      "INFO:hydro_forecasting.experiment_utils.training_runner:Best metrics: {'val_loss': 0.026931406930088997, 'run_index': 0, 'seed': 42}\n",
      "INFO:hydro_forecasting.experiment_utils.training_runner:Processing model (3/3): tsmixer\n",
      "INFO:hydro_forecasting.experiment_utils.training_runner:Processing model: tsmixer\n",
      "INFO:hydro_forecasting.data.in_memory_datamodule:Starting data preparation...\n",
      "INFO:hydro_forecasting.data.in_memory_datamodule:Generated Run UUID for current config: c7d32095-72fe-5f6e-9136-b4705bc8c2d3\n",
      "INFO:hydro_forecasting.data.in_memory_datamodule:Checking for existing processed data at: /Users/cooper/Desktop/hydro-forecasting/experiments/finetune/data_cache/{COUNTRY}/c7d32095-72fe-5f6e-9136-b4705bc8c2d3\n",
      "INFO:hydro_forecasting.data.in_memory_datamodule:Successfully validated and prepared to reuse data from /Users/cooper/Desktop/hydro-forecasting/experiments/finetune/data_cache/{COUNTRY}/c7d32095-72fe-5f6e-9136-b4705bc8c2d3\n",
      "INFO:hydro_forecasting.data.in_memory_datamodule:Reusing existing processed data from run_uuid: c7d32095-72fe-5f6e-9136-b4705bc8c2d3\n",
      "INFO:hydro_forecasting.data.in_memory_datamodule:Loaded 3 pipelines and data for 16 basins from reused run.\n",
      "INFO:hydro_forecasting.data.in_memory_datamodule:Found 16 basins for synchronized train/val chunking and validation pool selection.\n",
      "INFO:hydro_forecasting.data.in_memory_datamodule:Found 16 basins for test split.\n",
      "INFO:hydro_forecasting.data.in_memory_datamodule:Data preparation finished.\n",
      "INFO:hydro_forecasting.data.in_memory_datamodule:Loading static data cache and converting to Tensors...\n",
      "INFO:hydro_forecasting.data.in_memory_datamodule:Loaded and tensorized static data for 16 basins.\n",
      "INFO:hydro_forecasting.data.in_memory_datamodule:Created fixed validation pool with 16 basins: ['CA_17202', 'CA_17288', 'CA_17077', 'CA_17147', 'CA_17050']...\n",
      "INFO:hydro_forecasting.data.in_memory_datamodule:Loading and caching data for 16 validation basins...\n",
      "INFO:hydro_forecasting.data.in_memory_datamodule:Stage 'val' chunk data loaded for 16 basins. Shape: (26605, 12). Est. Mem: 1.22 MB\n",
      "INFO:hydro_forecasting.data.in_memory_datamodule:Successfully cached validation data. Index entries: 24477.\n",
      "INFO:hydro_forecasting.data.in_memory_datamodule:Initializing/Re-initializing training shared chunks from 16 basins.\n",
      "INFO:hydro_forecasting.data.in_memory_datamodule:Created 1 training shared chunks.\n",
      "INFO:hydro_forecasting.data.in_memory_datamodule:Initial training shared chunks: 1 chunks of approx size 100 from 16 basins.\n",
      "INFO:hydro_forecasting.experiment_utils.training_runner:Starting run 1/1 for tsmixer\n",
      "Seed set to 42\n",
      "INFO:hydro_forecasting.experiment_utils.training_runner:Using seed: 42\n",
      "INFO:hydro_forecasting.experiment_utils.checkpoint_manager:Creating new attempt: /Users/cooper/Desktop/hydro-forecasting/experiments/finetune/finetune_tajikistan/checkpoints/tsmixer/run_0/attempt_0\n",
      "INFO:hydro_forecasting.experiment_utils.checkpoint_manager:Creating new attempt: /Users/cooper/Desktop/hydro-forecasting/experiments/finetune/finetune_tajikistan/logs/tsmixer/run_0/attempt_0\n",
      "GPU available: True (mps), used: True\n",
      "TPU available: False, using: 0 TPU cores\n",
      "HPU available: False, using: 0 HPUs\n",
      "INFO:hydro_forecasting.data.in_memory_datamodule:Data preparation has already run.\n",
      "\n",
      "  | Name          | Type    | Params | Mode \n",
      "--------------------------------------------------\n",
      "0 | mse_criterion | MSELoss | 0      | train\n",
      "1 | model         | TSMixer | 177 K  | train\n",
      "--------------------------------------------------\n",
      "177 K     Trainable params\n",
      "0         Non-trainable params\n",
      "177 K     Total params\n",
      "0.709     Total estimated model params size (MB)\n",
      "89        Modules in train mode\n",
      "0         Modules in eval mode\n"
     ]
    },
    {
     "name": "stdout",
     "output_type": "stream",
     "text": [
      "Sanity Checking: |          | 0/? [00:00<?, ?it/s]"
     ]
    },
    {
     "name": "stderr",
     "output_type": "stream",
     "text": [
      "INFO:hydro_forecasting.data.in_memory_datamodule:Epoch 0: Val Dataloader using cached validation data with 24477 samples from 16 basins.\n"
     ]
    },
    {
     "name": "stdout",
     "output_type": "stream",
     "text": [
      "                                                                           "
     ]
    },
    {
     "name": "stderr",
     "output_type": "stream",
     "text": [
      "INFO:hydro_forecasting.data.in_memory_datamodule:Epoch 0: Train Dataloader using chunk 1/1 with 16 basins.\n",
      "INFO:hydro_forecasting.data.in_memory_datamodule:Stage 'train' chunk data loaded for 16 basins. Shape: (53215, 12). Est. Mem: 2.44 MB\n"
     ]
    },
    {
     "name": "stdout",
     "output_type": "stream",
     "text": [
      "\r"
     ]
    },
    {
     "name": "stderr",
     "output_type": "stream",
     "text": [
      "/Users/cooper/Desktop/hydro-forecasting/.venv/lib/python3.12/site-packages/pytorch_lightning/loops/fit_loop.py:310: The number of training batches (25) is smaller than the logging interval Trainer(log_every_n_steps=50). Set a lower value for log_every_n_steps if you want to see logs for the training epoch.\n"
     ]
    },
    {
     "name": "stdout",
     "output_type": "stream",
     "text": [
      "Epoch 0: 100%|██████████| 25/25 [00:07<00:00,  3.50it/s, v_num=pt_0]"
     ]
    },
    {
     "name": "stderr",
     "output_type": "stream",
     "text": [
      "Metric val_loss improved. New best score: 0.032\n"
     ]
    },
    {
     "name": "stdout",
     "output_type": "stream",
     "text": [
      "Epoch 1: 100%|██████████| 25/25 [00:05<00:00,  4.19it/s, v_num=pt_0]"
     ]
    },
    {
     "name": "stderr",
     "output_type": "stream",
     "text": [
      "Metric val_loss improved by 0.001 >= min_delta = 0.0. New best score: 0.030\n"
     ]
    },
    {
     "name": "stdout",
     "output_type": "stream",
     "text": [
      "Epoch 3: 100%|██████████| 25/25 [00:05<00:00,  4.17it/s, v_num=pt_0]"
     ]
    },
    {
     "name": "stderr",
     "output_type": "stream",
     "text": [
      "Metric val_loss improved by 0.000 >= min_delta = 0.0. New best score: 0.030\n"
     ]
    },
    {
     "name": "stdout",
     "output_type": "stream",
     "text": [
      "Epoch 6: 100%|██████████| 25/25 [00:05<00:00,  4.23it/s, v_num=pt_0]"
     ]
    },
    {
     "name": "stderr",
     "output_type": "stream",
     "text": [
      "Metric val_loss improved by 0.000 >= min_delta = 0.0. New best score: 0.030\n"
     ]
    },
    {
     "name": "stdout",
     "output_type": "stream",
     "text": [
      "Epoch 21: 100%|██████████| 25/25 [00:05<00:00,  4.24it/s, v_num=pt_0]"
     ]
    },
    {
     "name": "stderr",
     "output_type": "stream",
     "text": [
      "Monitored metric val_loss did not improve in the last 15 records. Best score: 0.030. Signaling Trainer to stop.\n"
     ]
    },
    {
     "name": "stdout",
     "output_type": "stream",
     "text": [
      "Epoch 21: 100%|██████████| 25/25 [00:05<00:00,  4.20it/s, v_num=pt_0]\n"
     ]
    },
    {
     "name": "stderr",
     "output_type": "stream",
     "text": [
      "INFO:hydro_forecasting.experiment_utils.training_runner:Run 0 completed with best val_loss: 0.02990146353840828\n",
      "INFO:hydro_forecasting.experiment_utils.checkpoint_manager:Updated overall_best_model_info.txt at /Users/cooper/Desktop/hydro-forecasting/experiments/finetune/finetune_tajikistan/checkpoints/tsmixer to point to: run_0/attempt_0/tsmixer-run0-attempt_0-epoch=06-val_loss=0.0299.ckpt\n",
      "INFO:hydro_forecasting.experiment_utils.training_runner:Overall best model for tsmixer: run_0/attempt_0/tsmixer-run0-attempt_0-epoch=06-val_loss=0.0299.ckpt\n",
      "INFO:hydro_forecasting.experiment_utils.training_runner:Best metrics: {'val_loss': 0.02990146353840828, 'run_index': 0, 'seed': 42}\n"
     ]
    }
   ],
   "source": [
    "train_results = finetune_pretrained_models(\n",
    "    gauge_ids=basin_ids,\n",
    "    pretrained_checkpoint_dir=pretrained_checkpoint_dir,\n",
    "    datamodule_config=datamodule_config,\n",
    "    training_config=training_config,\n",
    "    output_dir=output_dir,\n",
    "    model_types=model_types,\n",
    "    pretrained_yaml_paths=yaml_paths,\n",
    "    experiment_name=experiment_name,\n",
    "    num_runs=num_runs,\n",
    "    override_previous_attempts=override_previous_attempts,\n",
    "    lr_reduction_factor=10,\n",
    "    select_best_from_pretrained=True\n",
    ")"
   ]
  },
  {
   "cell_type": "code",
   "execution_count": null,
   "id": "e96de1cc",
   "metadata": {},
   "outputs": [],
   "source": []
  }
 ],
 "metadata": {
  "kernelspec": {
   "display_name": ".venv",
   "language": "python",
   "name": "python3"
  },
  "language_info": {
   "codemirror_mode": {
    "name": "ipython",
    "version": 3
   },
   "file_extension": ".py",
   "mimetype": "text/x-python",
   "name": "python",
   "nbconvert_exporter": "python",
   "pygments_lexer": "ipython3",
   "version": "3.12.8"
  }
 },
 "nbformat": 4,
 "nbformat_minor": 5
}
