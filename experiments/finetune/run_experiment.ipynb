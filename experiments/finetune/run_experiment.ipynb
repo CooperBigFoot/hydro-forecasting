{
   "cells": [
      {
         "cell_type": "code",
         "execution_count": 1,
         "id": "2f2fc10e",
         "metadata": {},
         "outputs": [],
         "source": [
            "# !jupyter lab build"
         ]
      },
      {
         "cell_type": "code",
         "execution_count": 2,
         "id": "659bed6b",
         "metadata": {},
         "outputs": [
            {
               "name": "stdout",
               "output_type": "stream",
               "text": [
                  "Added /Users/cooper/Desktop/hydro-forecasting/src to Python path\n"
               ]
            }
         ],
         "source": [
            "import sys\n",
            "from pathlib import Path\n",
            "\n",
            "# Add src directory to Python path\n",
            "project_root = Path.cwd().parent.parent\n",
            "src_path = project_root / \"src\"\n",
            "if str(src_path) not in sys.path:\n",
            "    sys.path.insert(0, str(src_path))\n",
            "    print(f\"Added {src_path} to Python path\")"
         ]
      },
      {
         "cell_type": "code",
         "execution_count": 3,
         "id": "f65efe2c",
         "metadata": {},
         "outputs": [],
         "source": [
            "import torch\n",
            "from sklearn.pipeline import Pipeline\n",
            "\n",
            "from hydro_forecasting.data.caravanify_parquet import (\n",
            "    CaravanifyParquet,\n",
            "    CaravanifyParquetConfig,\n",
            ")\n",
            "from hydro_forecasting.experiment_utils.finetune_pretrained_model import finetune_pretrained_models\n",
            "from hydro_forecasting.preprocessing.grouped import GroupedPipeline\n",
            "from hydro_forecasting.preprocessing.normalize import NormalizeTransformer\n",
            "from hydro_forecasting.preprocessing.standard_scale import StandardScaleTransformer"
         ]
      },
      {
         "cell_type": "markdown",
         "id": "5e7c3393",
         "metadata": {},
         "source": [
            "---"
         ]
      },
      {
         "cell_type": "markdown",
         "id": "dab68b34",
         "metadata": {},
         "source": [
            "## Experiment constants"
         ]
      },
      {
         "cell_type": "code",
         "execution_count": 4,
         "id": "7a6885fe",
         "metadata": {},
         "outputs": [],
         "source": [
            "REGIONS = [\n",
            "    \"CA\"\n",
            "]\n",
            "\n",
            "COUNTRY = \"tajikistan\""
         ]
      },
      {
         "cell_type": "markdown",
         "id": "2533b81f",
         "metadata": {},
         "source": [
            "## Loading the data (as gauge_ids)"
         ]
      },
      {
         "cell_type": "code",
         "execution_count": 5,
         "id": "ed0ce646",
         "metadata": {},
         "outputs": [],
         "source": [
            "def load_basin_ids(country: str) -> list[str]:\n",
            "    \"\"\"\n",
            "    Function to load basins for a given country in Central Asia\n",
            "    \"\"\"\n",
            "    # Make country lowercase and make the first letter uppercase\n",
            "    country = country.lower()\n",
            "    country = country.capitalize()\n",
            "\n",
            "    if country != \"Tajikistan\" and country != \"Kyrgyzstan\":\n",
            "        print(\"Country not supported\")\n",
            "        return []\n",
            "\n",
            "    configs = CaravanifyParquetConfig(\n",
            "        attributes_dir=\"/Users/cooper/Desktop/CaravanifyParquet/CA/post_processed/attributes\",\n",
            "        timeseries_dir=\"/Users/cooper/Desktop/CaravanifyParquet/CA/post_processed/timeseries/csv\",\n",
            "        gauge_id_prefix=\"CA\",\n",
            "        use_hydroatlas_attributes=True,\n",
            "        use_caravan_attributes=True,\n",
            "        use_other_attributes=True,\n",
            "    )\n",
            "\n",
            "    caravan = CaravanifyParquet(configs)\n",
            "    ca_basins = caravan.get_all_gauge_ids()\n",
            "    caravan.load_stations(ca_basins)\n",
            "    static_data = caravan.get_static_attributes()\n",
            "\n",
            "    return list(static_data[static_data[\"country\"] == country][\"gauge_id\"].unique())\n",
            "\n",
            "basin_ids = load_basin_ids(COUNTRY)"
         ]
      },
      {
         "cell_type": "markdown",
         "id": "73f9edf0",
         "metadata": {},
         "source": [
            "## Datamodule Configs"
         ]
      },
      {
         "cell_type": "code",
         "execution_count": 6,
         "id": "c2ea76fb",
         "metadata": {},
         "outputs": [],
         "source": [
            "region_time_series_base_dirs = {\n",
            "    region: f\"/Users/cooper/Desktop/CaravanifyParquet/{region}/post_processed/timeseries/csv/{region}\"\n",
            "    for region in REGIONS\n",
            "}\n",
            "\n",
            "region_static_attributes_base_dirs = {\n",
            "    region: f\"/Users/cooper/Desktop/CaravanifyParquet/{region}/post_processed/attributes/{region}\" for region in REGIONS\n",
            "}\n",
            "\n",
            "path_to_preprocessing_output_directory = (\n",
            "    \"/Users/cooper/Desktop/hydro-forecasting/experiments/finetune/data_cache/{COUNTRY}\"\n",
            ")"
         ]
      },
      {
         "cell_type": "code",
         "execution_count": 7,
         "id": "f14911d3",
         "metadata": {},
         "outputs": [],
         "source": [
            "forcing_features = [\n",
            "    \"snow_depth_water_equivalent_mean\",\n",
            "    \"surface_net_solar_radiation_mean\",\n",
            "    \"surface_net_thermal_radiation_mean\",\n",
            "    \"potential_evaporation_sum_ERA5_LAND\",\n",
            "    \"potential_evaporation_sum_FAO_PENMAN_MONTEITH\",\n",
            "    \"temperature_2m_mean\",\n",
            "    \"temperature_2m_min\",\n",
            "    \"temperature_2m_max\",\n",
            "    \"total_precipitation_sum\",\n",
            "]\n",
            "\n",
            "static_features = [\n",
            "    \"p_mean\",\n",
            "    \"area\",\n",
            "    \"ele_mt_sav\",\n",
            "    \"high_prec_dur\",\n",
            "    \"frac_snow\",\n",
            "    \"high_prec_freq\",\n",
            "    \"slp_dg_sav\",\n",
            "    \"cly_pc_sav\",\n",
            "    \"aridity_ERA5_LAND\",\n",
            "    \"aridity_FAO_PM\",\n",
            "]\n",
            "\n",
            "target = \"streamflow\""
         ]
      },
      {
         "cell_type": "code",
         "execution_count": 8,
         "id": "962da35a",
         "metadata": {},
         "outputs": [],
         "source": [
            "feature_pipeline = GroupedPipeline(\n",
            "    Pipeline([(\"scaler\", StandardScaleTransformer()), (\"normalizer\", NormalizeTransformer())]),\n",
            "    columns=forcing_features,\n",
            "    group_identifier=\"gauge_id\",\n",
            ")\n",
            "\n",
            "target_pipeline = GroupedPipeline(\n",
            "    Pipeline([(\"scaler\", StandardScaleTransformer()), (\"normalizer\", NormalizeTransformer())]),\n",
            "    columns=[\"streamflow\"],\n",
            "    group_identifier=\"gauge_id\",\n",
            ")\n",
            "\n",
            "static_pipeline = Pipeline([(\"scaler\", StandardScaleTransformer())])\n",
            "\n",
            "preprocessing_config = {\n",
            "    \"features\": {\"pipeline\": feature_pipeline},\n",
            "    \"target\": {\"pipeline\": target_pipeline},\n",
            "    \"static_features\": {\"pipeline\": static_pipeline, \"columns\": static_features},\n",
            "}"
         ]
      },
      {
         "cell_type": "code",
         "execution_count": 9,
         "id": "cd0f0b66",
         "metadata": {},
         "outputs": [],
         "source": [
            "datamodule_config = {\n",
            "    \"region_time_series_base_dirs\": region_time_series_base_dirs,\n",
            "    \"region_static_attributes_base_dirs\": region_static_attributes_base_dirs,\n",
            "    \"path_to_preprocessing_output_directory\": path_to_preprocessing_output_directory,\n",
            "    \"group_identifier\": \"gauge_id\",\n",
            "    \"batch_size\": 2048,\n",
            "    \"forcing_features\": forcing_features,\n",
            "    \"static_features\": static_features,\n",
            "    \"target\": target,\n",
            "    \"num_workers\": 4,\n",
            "    \"min_train_years\": 10,\n",
            "    \"train_prop\": 0.5,\n",
            "    \"val_prop\": 0.25,\n",
            "    \"test_prop\": 0.25,\n",
            "    \"max_imputation_gap_size\": 5,\n",
            "    \"chunk_size\": 100,\n",
            "    \"validation_chunk_size\": 100,\n",
            "    \"is_autoregressive\": True,\n",
            "    \"preprocessing_configs\": preprocessing_config,\n",
            "}"
         ]
      },
      {
         "cell_type": "markdown",
         "id": "158363b3",
         "metadata": {},
         "source": [
            "## Training Configs"
         ]
      },
      {
         "cell_type": "code",
         "execution_count": 10,
         "id": "9709710c",
         "metadata": {},
         "outputs": [],
         "source": [
            "training_config = {\n",
            "    \"max_epochs\": 200,\n",
            "    \"accelerator\": \"mps\",\n",
            "    \"devices\": 1,\n",
            "    \"early_stopping_patience\": 15,\n",
            "    \"reload_dataloaders_every_n_epochs\": False,\n",
            "}"
         ]
      },
      {
         "cell_type": "markdown",
         "id": "38258592",
         "metadata": {},
         "source": [
            "## Remaining Configs"
         ]
      },
      {
         "cell_type": "code",
         "execution_count": 11,
         "id": "2274e894",
         "metadata": {},
         "outputs": [],
         "source": [
            "output_dir = \"/Users/cooper/Desktop/hydro-forecasting/experiments/finetune\"\n",
            "pretrained_checkpoint_dir = (\n",
            "    \"/Users/cooper/Desktop/hydro-forecasting/experiments/low-medium-hii/low-medium-hii_tajikistan/checkpoints\"\n",
            ")\n",
            "\n",
            "model_types = [\"tide\", \"ealstm\", \"tsmixer\"]\n",
            "yaml_paths = [\n",
            "    f\"/Users/cooper/Desktop/hydro-forecasting/experiments/yaml-files/{COUNTRY}/tide.yaml\",\n",
            "    f\"/Users/cooper/Desktop/hydro-forecasting/experiments/yaml-files/{COUNTRY}/ealstm.yaml\",\n",
            "    f\"/Users/cooper/Desktop/hydro-forecasting/experiments/yaml-files/{COUNTRY}/tsmixer.yaml\",\n",
            "    # f\"/Users/cooper/Desktop/hydro-forecasting/experiments/yaml-files/{COUNTRY}/tft.yaml\",\n",
            "]\n",
            "experiment_name = f\"finetune_{COUNTRY}\"\n",
            "num_runs = 1\n",
            "override_previous_attempts = False"
         ]
      },
      {
         "cell_type": "markdown",
         "id": "fb369289",
         "metadata": {},
         "source": [
            "## Training the models from scratch"
         ]
      },
      {
         "cell_type": "code",
         "execution_count": 12,
         "id": "1054c874",
         "metadata": {},
         "outputs": [
            {
               "name": "stderr",
               "output_type": "stream",
               "text": [
                  "INFO:hydro_forecasting.experiment_utils.finetune_pretrained_model:Found pre-trained checkpoint for tide: /Users/cooper/Desktop/hydro-forecasting/experiments/low-medium-hii/low-medium-hii_tajikistan/checkpoints/tide/run_0/attempt_0/tide-run0-attempt_0-epoch=65-val_loss=0.0504.ckpt\n",
                  "INFO:hydro_forecasting.experiment_utils.finetune_pretrained_model:Found pre-trained checkpoint for ealstm: /Users/cooper/Desktop/hydro-forecasting/experiments/low-medium-hii/low-medium-hii_tajikistan/checkpoints/ealstm/run_0/attempt_0/ealstm-run0-attempt_0-epoch=141-val_loss=0.0349.ckpt\n",
                  "INFO:hydro_forecasting.experiment_utils.finetune_pretrained_model:Found pre-trained checkpoint for tsmixer: /Users/cooper/Desktop/hydro-forecasting/experiments/low-medium-hii/low-medium-hii_tajikistan/checkpoints/tsmixer/run_0/attempt_0/tsmixer-run0-attempt_0-epoch=135-val_loss=0.0388.ckpt\n",
                  "INFO:hydro_forecasting.experiment_utils.training_runner:Starting experiment 'finetune_tajikistan'\n",
                  "INFO:hydro_forecasting.experiment_utils.training_runner:Output directory: /Users/cooper/Desktop/hydro-forecasting/experiments/finetune/finetune_tajikistan\n",
                  "INFO:hydro_forecasting.experiment_utils.training_runner:Models to process: tide, ealstm, tsmixer\n",
                  "INFO:hydro_forecasting.experiment_utils.training_runner:Number of runs per model: 1\n",
                  "INFO:hydro_forecasting.experiment_utils.training_runner:Processing model (1/3): tide\n",
                  "INFO:hydro_forecasting.experiment_utils.training_runner:Processing model: tide\n",
                  "INFO:hydro_forecasting.data.in_memory_datamodule:Starting data preparation...\n",
                  "INFO:hydro_forecasting.data.in_memory_datamodule:Generated Run UUID for current config: 48242f8f-df3f-5b56-9041-0f0e4006932a\n",
                  "INFO:hydro_forecasting.data.in_memory_datamodule:Checking for existing processed data at: /Users/cooper/Desktop/hydro-forecasting/experiments/finetune/data_cache/{COUNTRY}/48242f8f-df3f-5b56-9041-0f0e4006932a\n",
                  "INFO:hydro_forecasting.data.in_memory_datamodule:Successfully validated and prepared to reuse data from /Users/cooper/Desktop/hydro-forecasting/experiments/finetune/data_cache/{COUNTRY}/48242f8f-df3f-5b56-9041-0f0e4006932a\n",
                  "INFO:hydro_forecasting.data.in_memory_datamodule:Reusing existing processed data from run_uuid: 48242f8f-df3f-5b56-9041-0f0e4006932a\n",
                  "INFO:hydro_forecasting.data.in_memory_datamodule:Loaded 3 pipelines and data for 12 basins from reused run.\n",
                  "INFO:hydro_forecasting.data.in_memory_datamodule:Found 12 basins for synchronized train/val chunking and validation pool selection.\n",
                  "INFO:hydro_forecasting.data.in_memory_datamodule:Found 12 basins for test split.\n",
                  "INFO:hydro_forecasting.data.in_memory_datamodule:Data preparation finished.\n",
                  "INFO:hydro_forecasting.data.in_memory_datamodule:Loading static data cache and converting to Tensors...\n",
                  "INFO:hydro_forecasting.data.in_memory_datamodule:Loaded and tensorized static data for 16 basins.\n",
                  "INFO:hydro_forecasting.data.in_memory_datamodule:Created fixed validation pool with 12 basins: ['CA_17344', 'CA_17110', 'CA_17050', 'CA_17338', 'CA_17329']...\n",
                  "INFO:hydro_forecasting.data.in_memory_datamodule:Loading and caching data for 12 validation basins...\n",
                  "INFO:hydro_forecasting.data.in_memory_datamodule:Stage 'val' chunk data loaded for 12 basins. Shape: (21719, 12). Est. Mem: 0.99 MB\n",
                  "INFO:hydro_forecasting.data.in_memory_datamodule:Successfully cached validation data. Index entries: 20423.\n",
                  "INFO:hydro_forecasting.data.in_memory_datamodule:Initializing/Re-initializing training shared chunks from 12 basins.\n",
                  "INFO:hydro_forecasting.data.in_memory_datamodule:Created 1 training shared chunks.\n",
                  "INFO:hydro_forecasting.data.in_memory_datamodule:Initial training shared chunks: 1 chunks of approx size 100 from 12 basins.\n",
                  "INFO:hydro_forecasting.experiment_utils.training_runner:Starting run 1/1 for tide\n",
                  "Seed set to 42\n",
                  "INFO:hydro_forecasting.experiment_utils.training_runner:Using seed: 42\n",
                  "INFO:hydro_forecasting.experiment_utils.checkpoint_manager:Creating new attempt: /Users/cooper/Desktop/hydro-forecasting/experiments/finetune/finetune_tajikistan/checkpoints/tide/run_0/attempt_0\n",
                  "INFO:hydro_forecasting.experiment_utils.checkpoint_manager:Creating new attempt: /Users/cooper/Desktop/hydro-forecasting/experiments/finetune/finetune_tajikistan/logs/tide/run_0/attempt_0\n",
                  "GPU available: True (mps), used: True\n",
                  "TPU available: False, using: 0 TPU cores\n",
                  "HPU available: False, using: 0 HPUs\n",
                  "INFO:hydro_forecasting.data.in_memory_datamodule:Data preparation has already run.\n",
                  "\n",
                  "  | Name          | Type      | Params | Mode \n",
                  "----------------------------------------------------\n",
                  "0 | mse_criterion | MSELoss   | 0      | train\n",
                  "1 | model         | TiDEModel | 266 K  | train\n",
                  "----------------------------------------------------\n",
                  "266 K     Trainable params\n",
                  "0         Non-trainable params\n",
                  "266 K     Total params\n",
                  "1.065     Total estimated model params size (MB)\n",
                  "47        Modules in train mode\n",
                  "0         Modules in eval mode\n"
               ]
            },
            {
               "name": "stdout",
               "output_type": "stream",
               "text": [
                  "Sanity Checking: |          | 0/? [00:00<?, ?it/s]"
               ]
            },
            {
               "name": "stderr",
               "output_type": "stream",
               "text": [
                  "INFO:hydro_forecasting.data.in_memory_datamodule:Epoch 0: Val Dataloader using cached validation data with 20423 samples from 12 basins.\n",
                  "/Users/cooper/Desktop/hydro-forecasting/.venv/lib/python3.12/site-packages/torch/utils/data/dataloader.py:683: UserWarning: 'pin_memory' argument is set as true but not supported on MPS now, then device pinned memory won't be used.\n",
                  "  warnings.warn(warn_msg)\n"
               ]
            },
            {
               "name": "stdout",
               "output_type": "stream",
               "text": [
                  "                                                                           "
               ]
            },
            {
               "name": "stderr",
               "output_type": "stream",
               "text": [
                  "INFO:hydro_forecasting.data.in_memory_datamodule:Epoch 0: Train Dataloader using chunk 1/1 with 12 basins.\n",
                  "INFO:hydro_forecasting.data.in_memory_datamodule:Stage 'train' chunk data loaded for 12 basins. Shape: (43441, 12). Est. Mem: 1.99 MB\n"
               ]
            },
            {
               "name": "stdout",
               "output_type": "stream",
               "text": [
                  "\r"
               ]
            },
            {
               "name": "stderr",
               "output_type": "stream",
               "text": [
                  "/Users/cooper/Desktop/hydro-forecasting/.venv/lib/python3.12/site-packages/pytorch_lightning/loops/fit_loop.py:310: The number of training batches (21) is smaller than the logging interval Trainer(log_every_n_steps=50). Set a lower value for log_every_n_steps if you want to see logs for the training epoch.\n"
               ]
            },
            {
               "name": "stdout",
               "output_type": "stream",
               "text": [
                  "Epoch 0: 100%|██████████| 21/21 [00:01<00:00, 11.49it/s, v_num=pt_0]"
               ]
            },
            {
               "name": "stderr",
               "output_type": "stream",
               "text": [
                  "Metric val_loss improved. New best score: 0.034\n"
               ]
            },
            {
               "name": "stdout",
               "output_type": "stream",
               "text": [
                  "Epoch 1: 100%|██████████| 21/21 [00:01<00:00, 18.53it/s, v_num=pt_0]"
               ]
            },
            {
               "name": "stderr",
               "output_type": "stream",
               "text": [
                  "Metric val_loss improved by 0.002 >= min_delta = 0.0. New best score: 0.033\n"
               ]
            },
            {
               "name": "stdout",
               "output_type": "stream",
               "text": [
                  "Epoch 2: 100%|██████████| 21/21 [00:01<00:00, 19.70it/s, v_num=pt_0]"
               ]
            },
            {
               "name": "stderr",
               "output_type": "stream",
               "text": [
                  "Metric val_loss improved by 0.001 >= min_delta = 0.0. New best score: 0.032\n"
               ]
            },
            {
               "name": "stdout",
               "output_type": "stream",
               "text": [
                  "Epoch 3: 100%|██████████| 21/21 [00:01<00:00, 20.09it/s, v_num=pt_0]"
               ]
            },
            {
               "name": "stderr",
               "output_type": "stream",
               "text": [
                  "Metric val_loss improved by 0.000 >= min_delta = 0.0. New best score: 0.032\n"
               ]
            },
            {
               "name": "stdout",
               "output_type": "stream",
               "text": [
                  "Epoch 4: 100%|██████████| 21/21 [00:01<00:00, 20.26it/s, v_num=pt_0]"
               ]
            },
            {
               "name": "stderr",
               "output_type": "stream",
               "text": [
                  "Metric val_loss improved by 0.000 >= min_delta = 0.0. New best score: 0.032\n"
               ]
            },
            {
               "name": "stdout",
               "output_type": "stream",
               "text": [
                  "Epoch 5: 100%|██████████| 21/21 [00:01<00:00, 20.93it/s, v_num=pt_0]"
               ]
            },
            {
               "name": "stderr",
               "output_type": "stream",
               "text": [
                  "Metric val_loss improved by 0.000 >= min_delta = 0.0. New best score: 0.032\n"
               ]
            },
            {
               "name": "stdout",
               "output_type": "stream",
               "text": [
                  "Epoch 6: 100%|██████████| 21/21 [00:01<00:00, 20.63it/s, v_num=pt_0]"
               ]
            },
            {
               "name": "stderr",
               "output_type": "stream",
               "text": [
                  "Metric val_loss improved by 0.000 >= min_delta = 0.0. New best score: 0.032\n"
               ]
            },
            {
               "name": "stdout",
               "output_type": "stream",
               "text": [
                  "Epoch 21: 100%|██████████| 21/21 [00:00<00:00, 21.46it/s, v_num=pt_0]"
               ]
            },
            {
               "name": "stderr",
               "output_type": "stream",
               "text": [
                  "Monitored metric val_loss did not improve in the last 15 records. Best score: 0.032. Signaling Trainer to stop.\n"
               ]
            },
            {
               "name": "stdout",
               "output_type": "stream",
               "text": [
                  "Epoch 21: 100%|██████████| 21/21 [00:01<00:00, 20.24it/s, v_num=pt_0]\n"
               ]
            },
            {
               "name": "stderr",
               "output_type": "stream",
               "text": [
                  "INFO:hydro_forecasting.experiment_utils.training_runner:Run 0 completed with best val_loss: 0.03158668428659439\n",
                  "INFO:hydro_forecasting.experiment_utils.checkpoint_manager:Updated overall_best_model_info.txt at /Users/cooper/Desktop/hydro-forecasting/experiments/finetune/finetune_tajikistan/checkpoints/tide to point to: run_0/attempt_0/tide-run0-attempt_0-epoch=06-val_loss=0.0316.ckpt\n",
                  "INFO:hydro_forecasting.experiment_utils.training_runner:Overall best model for tide: run_0/attempt_0/tide-run0-attempt_0-epoch=06-val_loss=0.0316.ckpt\n",
                  "INFO:hydro_forecasting.experiment_utils.training_runner:Best metrics: {'val_loss': 0.03158668428659439, 'run_index': 0, 'seed': 42}\n",
                  "INFO:hydro_forecasting.experiment_utils.training_runner:Processing model (2/3): ealstm\n",
                  "INFO:hydro_forecasting.experiment_utils.training_runner:Processing model: ealstm\n",
                  "INFO:hydro_forecasting.data.in_memory_datamodule:Starting data preparation...\n",
                  "INFO:hydro_forecasting.data.in_memory_datamodule:Generated Run UUID for current config: 48242f8f-df3f-5b56-9041-0f0e4006932a\n",
                  "INFO:hydro_forecasting.data.in_memory_datamodule:Checking for existing processed data at: /Users/cooper/Desktop/hydro-forecasting/experiments/finetune/data_cache/{COUNTRY}/48242f8f-df3f-5b56-9041-0f0e4006932a\n",
                  "INFO:hydro_forecasting.data.in_memory_datamodule:Successfully validated and prepared to reuse data from /Users/cooper/Desktop/hydro-forecasting/experiments/finetune/data_cache/{COUNTRY}/48242f8f-df3f-5b56-9041-0f0e4006932a\n",
                  "INFO:hydro_forecasting.data.in_memory_datamodule:Reusing existing processed data from run_uuid: 48242f8f-df3f-5b56-9041-0f0e4006932a\n",
                  "INFO:hydro_forecasting.data.in_memory_datamodule:Loaded 3 pipelines and data for 12 basins from reused run.\n",
                  "INFO:hydro_forecasting.data.in_memory_datamodule:Found 12 basins for synchronized train/val chunking and validation pool selection.\n",
                  "INFO:hydro_forecasting.data.in_memory_datamodule:Found 12 basins for test split.\n",
                  "INFO:hydro_forecasting.data.in_memory_datamodule:Data preparation finished.\n",
                  "INFO:hydro_forecasting.data.in_memory_datamodule:Loading static data cache and converting to Tensors...\n",
                  "INFO:hydro_forecasting.data.in_memory_datamodule:Loaded and tensorized static data for 16 basins.\n",
                  "INFO:hydro_forecasting.data.in_memory_datamodule:Created fixed validation pool with 12 basins: ['CA_17150', 'CA_17050', 'CA_17329', 'CA_17100', 'CA_17338']...\n",
                  "INFO:hydro_forecasting.data.in_memory_datamodule:Loading and caching data for 12 validation basins...\n",
                  "INFO:hydro_forecasting.data.in_memory_datamodule:Stage 'val' chunk data loaded for 12 basins. Shape: (21719, 12). Est. Mem: 0.99 MB\n",
                  "INFO:hydro_forecasting.data.in_memory_datamodule:Successfully cached validation data. Index entries: 20759.\n",
                  "INFO:hydro_forecasting.data.in_memory_datamodule:Initializing/Re-initializing training shared chunks from 12 basins.\n",
                  "INFO:hydro_forecasting.data.in_memory_datamodule:Created 1 training shared chunks.\n",
                  "INFO:hydro_forecasting.data.in_memory_datamodule:Initial training shared chunks: 1 chunks of approx size 100 from 12 basins.\n",
                  "INFO:hydro_forecasting.experiment_utils.training_runner:Starting run 1/1 for ealstm\n",
                  "Seed set to 42\n",
                  "INFO:hydro_forecasting.experiment_utils.training_runner:Using seed: 42\n",
                  "INFO:hydro_forecasting.experiment_utils.checkpoint_manager:Creating new attempt: /Users/cooper/Desktop/hydro-forecasting/experiments/finetune/finetune_tajikistan/checkpoints/ealstm/run_0/attempt_0\n",
                  "INFO:hydro_forecasting.experiment_utils.checkpoint_manager:Creating new attempt: /Users/cooper/Desktop/hydro-forecasting/experiments/finetune/finetune_tajikistan/logs/ealstm/run_0/attempt_0\n",
                  "GPU available: True (mps), used: True\n",
                  "TPU available: False, using: 0 TPU cores\n",
                  "HPU available: False, using: 0 HPUs\n",
                  "INFO:hydro_forecasting.data.in_memory_datamodule:Data preparation has already run.\n",
                  "\n",
                  "  | Name          | Type     | Params | Mode \n",
                  "---------------------------------------------------\n",
                  "0 | mse_criterion | MSELoss  | 0      | train\n",
                  "1 | model         | BiEALSTM | 744 K  | train\n",
                  "---------------------------------------------------\n",
                  "744 K     Trainable params\n",
                  "0         Non-trainable params\n",
                  "744 K     Total params\n",
                  "2.977     Total estimated model params size (MB)\n",
                  "36        Modules in train mode\n",
                  "0         Modules in eval mode\n"
               ]
            },
            {
               "name": "stdout",
               "output_type": "stream",
               "text": [
                  "Sanity Checking: |          | 0/? [00:00<?, ?it/s]"
               ]
            },
            {
               "name": "stderr",
               "output_type": "stream",
               "text": [
                  "INFO:hydro_forecasting.data.in_memory_datamodule:Epoch 0: Val Dataloader using cached validation data with 20759 samples from 12 basins.\n"
               ]
            },
            {
               "name": "stdout",
               "output_type": "stream",
               "text": [
                  "                                                                           "
               ]
            },
            {
               "name": "stderr",
               "output_type": "stream",
               "text": [
                  "INFO:hydro_forecasting.data.in_memory_datamodule:Epoch 0: Train Dataloader using chunk 1/1 with 12 basins.\n",
                  "INFO:hydro_forecasting.data.in_memory_datamodule:Stage 'train' chunk data loaded for 12 basins. Shape: (43441, 12). Est. Mem: 1.99 MB\n"
               ]
            },
            {
               "name": "stdout",
               "output_type": "stream",
               "text": [
                  "Epoch 0: 100%|██████████| 21/21 [00:09<00:00,  2.32it/s, v_num=pt_0]"
               ]
            },
            {
               "name": "stderr",
               "output_type": "stream",
               "text": [
                  "Metric val_loss improved. New best score: 0.027\n"
               ]
            },
            {
               "name": "stdout",
               "output_type": "stream",
               "text": [
                  "Epoch 1: 100%|██████████| 21/21 [00:06<00:00,  3.23it/s, v_num=pt_0]"
               ]
            },
            {
               "name": "stderr",
               "output_type": "stream",
               "text": [
                  "Metric val_loss improved by 0.001 >= min_delta = 0.0. New best score: 0.026\n"
               ]
            },
            {
               "name": "stdout",
               "output_type": "stream",
               "text": [
                  "Epoch 16: 100%|██████████| 21/21 [00:06<00:00,  3.30it/s, v_num=pt_0]"
               ]
            },
            {
               "name": "stderr",
               "output_type": "stream",
               "text": [
                  "Monitored metric val_loss did not improve in the last 15 records. Best score: 0.026. Signaling Trainer to stop.\n"
               ]
            },
            {
               "name": "stdout",
               "output_type": "stream",
               "text": [
                  "Epoch 16: 100%|██████████| 21/21 [00:06<00:00,  3.29it/s, v_num=pt_0]\n"
               ]
            },
            {
               "name": "stderr",
               "output_type": "stream",
               "text": [
                  "INFO:hydro_forecasting.experiment_utils.training_runner:Run 0 completed with best val_loss: 0.026086874306201935\n",
                  "INFO:hydro_forecasting.experiment_utils.checkpoint_manager:Updated overall_best_model_info.txt at /Users/cooper/Desktop/hydro-forecasting/experiments/finetune/finetune_tajikistan/checkpoints/ealstm to point to: run_0/attempt_0/ealstm-run0-attempt_0-epoch=01-val_loss=0.0261.ckpt\n",
                  "INFO:hydro_forecasting.experiment_utils.training_runner:Overall best model for ealstm: run_0/attempt_0/ealstm-run0-attempt_0-epoch=01-val_loss=0.0261.ckpt\n",
                  "INFO:hydro_forecasting.experiment_utils.training_runner:Best metrics: {'val_loss': 0.026086874306201935, 'run_index': 0, 'seed': 42}\n",
                  "INFO:hydro_forecasting.experiment_utils.training_runner:Processing model (3/3): tsmixer\n",
                  "INFO:hydro_forecasting.experiment_utils.training_runner:Processing model: tsmixer\n",
                  "INFO:hydro_forecasting.data.in_memory_datamodule:Starting data preparation...\n",
                  "INFO:hydro_forecasting.data.in_memory_datamodule:Generated Run UUID for current config: 48242f8f-df3f-5b56-9041-0f0e4006932a\n",
                  "INFO:hydro_forecasting.data.in_memory_datamodule:Checking for existing processed data at: /Users/cooper/Desktop/hydro-forecasting/experiments/finetune/data_cache/{COUNTRY}/48242f8f-df3f-5b56-9041-0f0e4006932a\n",
                  "INFO:hydro_forecasting.data.in_memory_datamodule:Successfully validated and prepared to reuse data from /Users/cooper/Desktop/hydro-forecasting/experiments/finetune/data_cache/{COUNTRY}/48242f8f-df3f-5b56-9041-0f0e4006932a\n",
                  "INFO:hydro_forecasting.data.in_memory_datamodule:Reusing existing processed data from run_uuid: 48242f8f-df3f-5b56-9041-0f0e4006932a\n",
                  "INFO:hydro_forecasting.data.in_memory_datamodule:Loaded 3 pipelines and data for 12 basins from reused run.\n",
                  "INFO:hydro_forecasting.data.in_memory_datamodule:Found 12 basins for synchronized train/val chunking and validation pool selection.\n",
                  "INFO:hydro_forecasting.data.in_memory_datamodule:Found 12 basins for test split.\n",
                  "INFO:hydro_forecasting.data.in_memory_datamodule:Data preparation finished.\n",
                  "INFO:hydro_forecasting.data.in_memory_datamodule:Loading static data cache and converting to Tensors...\n",
                  "INFO:hydro_forecasting.data.in_memory_datamodule:Loaded and tensorized static data for 16 basins.\n",
                  "INFO:hydro_forecasting.data.in_memory_datamodule:Created fixed validation pool with 12 basins: ['CA_17110', 'CA_17325', 'CA_17137', 'CA_17050', 'CA_17150']...\n",
                  "INFO:hydro_forecasting.data.in_memory_datamodule:Loading and caching data for 12 validation basins...\n",
                  "INFO:hydro_forecasting.data.in_memory_datamodule:Stage 'val' chunk data loaded for 12 basins. Shape: (21719, 12). Est. Mem: 0.99 MB\n",
                  "INFO:hydro_forecasting.data.in_memory_datamodule:Successfully cached validation data. Index entries: 20123.\n",
                  "INFO:hydro_forecasting.data.in_memory_datamodule:Initializing/Re-initializing training shared chunks from 12 basins.\n",
                  "INFO:hydro_forecasting.data.in_memory_datamodule:Created 1 training shared chunks.\n",
                  "INFO:hydro_forecasting.data.in_memory_datamodule:Initial training shared chunks: 1 chunks of approx size 100 from 12 basins.\n",
                  "INFO:hydro_forecasting.experiment_utils.training_runner:Starting run 1/1 for tsmixer\n",
                  "Seed set to 42\n",
                  "INFO:hydro_forecasting.experiment_utils.training_runner:Using seed: 42\n",
                  "INFO:hydro_forecasting.experiment_utils.checkpoint_manager:Creating new attempt: /Users/cooper/Desktop/hydro-forecasting/experiments/finetune/finetune_tajikistan/checkpoints/tsmixer/run_0/attempt_0\n",
                  "INFO:hydro_forecasting.experiment_utils.checkpoint_manager:Creating new attempt: /Users/cooper/Desktop/hydro-forecasting/experiments/finetune/finetune_tajikistan/logs/tsmixer/run_0/attempt_0\n",
                  "GPU available: True (mps), used: True\n",
                  "TPU available: False, using: 0 TPU cores\n",
                  "HPU available: False, using: 0 HPUs\n",
                  "INFO:hydro_forecasting.data.in_memory_datamodule:Data preparation has already run.\n",
                  "\n",
                  "  | Name          | Type    | Params | Mode \n",
                  "--------------------------------------------------\n",
                  "0 | mse_criterion | MSELoss | 0      | train\n",
                  "1 | model         | TSMixer | 177 K  | train\n",
                  "--------------------------------------------------\n",
                  "177 K     Trainable params\n",
                  "0         Non-trainable params\n",
                  "177 K     Total params\n",
                  "0.709     Total estimated model params size (MB)\n",
                  "89        Modules in train mode\n",
                  "0         Modules in eval mode\n"
               ]
            },
            {
               "name": "stdout",
               "output_type": "stream",
               "text": [
                  "Sanity Checking: |          | 0/? [00:00<?, ?it/s]"
               ]
            },
            {
               "name": "stderr",
               "output_type": "stream",
               "text": [
                  "INFO:hydro_forecasting.data.in_memory_datamodule:Epoch 0: Val Dataloader using cached validation data with 20123 samples from 12 basins.\n"
               ]
            },
            {
               "name": "stdout",
               "output_type": "stream",
               "text": [
                  "                                                                           "
               ]
            },
            {
               "name": "stderr",
               "output_type": "stream",
               "text": [
                  "INFO:hydro_forecasting.data.in_memory_datamodule:Epoch 0: Train Dataloader using chunk 1/1 with 12 basins.\n",
                  "INFO:hydro_forecasting.data.in_memory_datamodule:Stage 'train' chunk data loaded for 12 basins. Shape: (43441, 12). Est. Mem: 1.99 MB\n"
               ]
            },
            {
               "name": "stdout",
               "output_type": "stream",
               "text": [
                  "Epoch 0: 100%|██████████| 21/21 [00:09<00:00,  2.12it/s, v_num=pt_0]"
               ]
            },
            {
               "name": "stderr",
               "output_type": "stream",
               "text": [
                  "Metric val_loss improved. New best score: 0.030\n"
               ]
            },
            {
               "name": "stdout",
               "output_type": "stream",
               "text": [
                  "Epoch 1: 100%|██████████| 21/21 [00:04<00:00,  4.30it/s, v_num=pt_0]"
               ]
            },
            {
               "name": "stderr",
               "output_type": "stream",
               "text": [
                  "Metric val_loss improved by 0.001 >= min_delta = 0.0. New best score: 0.029\n"
               ]
            },
            {
               "name": "stdout",
               "output_type": "stream",
               "text": [
                  "Epoch 2: 100%|██████████| 21/21 [00:04<00:00,  4.35it/s, v_num=pt_0]"
               ]
            },
            {
               "name": "stderr",
               "output_type": "stream",
               "text": [
                  "Metric val_loss improved by 0.001 >= min_delta = 0.0. New best score: 0.028\n"
               ]
            },
            {
               "name": "stdout",
               "output_type": "stream",
               "text": [
                  "Epoch 3: 100%|██████████| 21/21 [00:05<00:00,  4.16it/s, v_num=pt_0]"
               ]
            },
            {
               "name": "stderr",
               "output_type": "stream",
               "text": [
                  "Metric val_loss improved by 0.000 >= min_delta = 0.0. New best score: 0.028\n"
               ]
            },
            {
               "name": "stdout",
               "output_type": "stream",
               "text": [
                  "Epoch 18: 100%|██████████| 21/21 [00:04<00:00,  4.27it/s, v_num=pt_0]"
               ]
            },
            {
               "name": "stderr",
               "output_type": "stream",
               "text": [
                  "Monitored metric val_loss did not improve in the last 15 records. Best score: 0.028. Signaling Trainer to stop.\n"
               ]
            },
            {
               "name": "stdout",
               "output_type": "stream",
               "text": [
                  "Epoch 18: 100%|██████████| 21/21 [00:05<00:00,  4.18it/s, v_num=pt_0]\n"
               ]
            },
            {
               "name": "stderr",
               "output_type": "stream",
               "text": [
                  "INFO:hydro_forecasting.experiment_utils.training_runner:Run 0 completed with best val_loss: 0.028152773156762123\n",
                  "INFO:hydro_forecasting.experiment_utils.checkpoint_manager:Updated overall_best_model_info.txt at /Users/cooper/Desktop/hydro-forecasting/experiments/finetune/finetune_tajikistan/checkpoints/tsmixer to point to: run_0/attempt_0/tsmixer-run0-attempt_0-epoch=03-val_loss=0.0282.ckpt\n",
                  "INFO:hydro_forecasting.experiment_utils.training_runner:Overall best model for tsmixer: run_0/attempt_0/tsmixer-run0-attempt_0-epoch=03-val_loss=0.0282.ckpt\n",
                  "INFO:hydro_forecasting.experiment_utils.training_runner:Best metrics: {'val_loss': 0.028152773156762123, 'run_index': 0, 'seed': 42}\n"
               ]
            }
         ],
         "source": [
            "train_results = finetune_pretrained_models(\n",
            "    gauge_ids=basin_ids,\n",
            "    pretrained_checkpoint_dir=pretrained_checkpoint_dir,\n",
            "    datamodule_config=datamodule_config,\n",
            "    training_config=training_config,\n",
            "    output_dir=output_dir,\n",
            "    model_types=model_types,\n",
            "    pretrained_yaml_paths=yaml_paths,\n",
            "    experiment_name=experiment_name,\n",
            "    num_runs=num_runs,\n",
            "    override_previous_attempts=override_previous_attempts,\n",
            "    lr_reduction_factor=10,\n",
            "    select_best_from_pretrained=True\n",
            ")"
         ]
      },
      {
         "cell_type": "code",
         "execution_count": null,
         "id": "e96de1cc",
         "metadata": {},
         "outputs": [],
         "source": []
      }
   ],
   "metadata": {
      "kernelspec": {
         "display_name": ".venv",
         "language": "python",
         "name": "python3"
      },
      "language_info": {
         "codemirror_mode": {
            "name": "ipython",
            "version": 3
         },
         "file_extension": ".py",
         "mimetype": "text/x-python",
         "name": "python",
         "nbconvert_exporter": "python",
         "pygments_lexer": "ipython3",
         "version": "3.12.8"
      }
   },
   "nbformat": 4,
   "nbformat_minor": 5
}
